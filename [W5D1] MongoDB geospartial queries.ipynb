{
 "cells": [
  {
   "cell_type": "code",
   "execution_count": 1,
   "metadata": {},
   "outputs": [],
   "source": [
    "# https://api.mongodb.com/python/current/tutorial.html\n",
    "\n",
    "from pymongo import MongoClient\n",
    "\n",
    "client = MongoClient('mongodb://localhost:27017/')\n",
    "db = client.companies"
   ]
  },
  {
   "cell_type": "code",
   "execution_count": 8,
   "metadata": {},
   "outputs": [],
   "source": [
    "at_least_1_office = db.comp.find({\n",
    "    \"offices\":{\n",
    "        \"$not\":{\n",
    "            \"$size\":0\n",
    "        }\n",
    "    }\n",
    "},{\"name\":1, \"offices\":1})"
   ]
  },
  {
   "cell_type": "code",
   "execution_count": 9,
   "metadata": {},
   "outputs": [
    {
     "data": {
      "text/html": [
       "<div>\n",
       "<style scoped>\n",
       "    .dataframe tbody tr th:only-of-type {\n",
       "        vertical-align: middle;\n",
       "    }\n",
       "\n",
       "    .dataframe tbody tr th {\n",
       "        vertical-align: top;\n",
       "    }\n",
       "\n",
       "    .dataframe thead th {\n",
       "        text-align: right;\n",
       "    }\n",
       "</style>\n",
       "<table border=\"1\" class=\"dataframe\">\n",
       "  <thead>\n",
       "    <tr style=\"text-align: right;\">\n",
       "      <th></th>\n",
       "      <th>_id</th>\n",
       "      <th>name</th>\n",
       "      <th>offices</th>\n",
       "    </tr>\n",
       "  </thead>\n",
       "  <tbody>\n",
       "    <tr>\n",
       "      <th>0</th>\n",
       "      <td>52cdef7c4bab8bd675297d8a</td>\n",
       "      <td>Wetpaint</td>\n",
       "      <td>[{'description': '', 'address1': '710 - 2nd Av...</td>\n",
       "    </tr>\n",
       "    <tr>\n",
       "      <th>1</th>\n",
       "      <td>52cdef7c4bab8bd675297d8b</td>\n",
       "      <td>AdventNet</td>\n",
       "      <td>[{'description': 'Headquarters', 'address1': '...</td>\n",
       "    </tr>\n",
       "    <tr>\n",
       "      <th>2</th>\n",
       "      <td>52cdef7c4bab8bd675297d8c</td>\n",
       "      <td>Zoho</td>\n",
       "      <td>[{'description': 'Headquarters', 'address1': '...</td>\n",
       "    </tr>\n",
       "    <tr>\n",
       "      <th>3</th>\n",
       "      <td>52cdef7c4bab8bd675297d8d</td>\n",
       "      <td>Digg</td>\n",
       "      <td>[{'description': None, 'address1': '135 Missis...</td>\n",
       "    </tr>\n",
       "    <tr>\n",
       "      <th>4</th>\n",
       "      <td>52cdef7c4bab8bd675297d8e</td>\n",
       "      <td>Facebook</td>\n",
       "      <td>[{'description': 'Headquarters', 'address1': '...</td>\n",
       "    </tr>\n",
       "  </tbody>\n",
       "</table>\n",
       "</div>"
      ],
      "text/plain": [
       "                        _id       name  \\\n",
       "0  52cdef7c4bab8bd675297d8a   Wetpaint   \n",
       "1  52cdef7c4bab8bd675297d8b  AdventNet   \n",
       "2  52cdef7c4bab8bd675297d8c       Zoho   \n",
       "3  52cdef7c4bab8bd675297d8d       Digg   \n",
       "4  52cdef7c4bab8bd675297d8e   Facebook   \n",
       "\n",
       "                                             offices  \n",
       "0  [{'description': '', 'address1': '710 - 2nd Av...  \n",
       "1  [{'description': 'Headquarters', 'address1': '...  \n",
       "2  [{'description': 'Headquarters', 'address1': '...  \n",
       "3  [{'description': None, 'address1': '135 Missis...  \n",
       "4  [{'description': 'Headquarters', 'address1': '...  "
      ]
     },
     "execution_count": 9,
     "metadata": {},
     "output_type": "execute_result"
    }
   ],
   "source": [
    "import pandas as pd\n",
    "df = pd.DataFrame(at_least_1_office)\n",
    "df.head()"
   ]
  },
  {
   "cell_type": "code",
   "execution_count": 66,
   "metadata": {},
   "outputs": [],
   "source": [
    "def getFirst(data):\n",
    "    data = data['offices']\n",
    "#    return (len(data),data[0]['latitude'],data[0]['longitude'])\n",
    "\n",
    "    # Only create the geoJSON object if all geodata is available\n",
    "    principal = None\n",
    "    if data[0]['latitude'] and data[0]['longitude']:\n",
    "        principal = {\n",
    "            \"type\":\"Point\",\n",
    "            \"coordinates\":[data[0]['longitude'], data[0]['latitude']]\n",
    "        }\n",
    "\n",
    "    return {\n",
    "        \"totalOffices\": len(data),\n",
    "        \"lat\": data[0]['latitude'],\n",
    "        \"lng\": data[0]['longitude'],\n",
    "        \"oficina_principal\": principal\n",
    "    }\n",
    "\n",
    "\n",
    "first_office = df[[\"offices\"]].apply(getFirst, result_type=\"expand\", axis=1)"
   ]
  },
  {
   "cell_type": "code",
   "execution_count": 67,
   "metadata": {},
   "outputs": [],
   "source": [
    "df_clean = pd.concat([df,first_office], axis=1)[[\"name\",\"lat\",\"lng\", \"oficina_principal\",\"totalOffices\"]]"
   ]
  },
  {
   "cell_type": "code",
   "execution_count": 68,
   "metadata": {},
   "outputs": [
    {
     "data": {
      "text/plain": [
       "(13744, 5)"
      ]
     },
     "metadata": {},
     "output_type": "display_data"
    },
    {
     "data": {
      "text/html": [
       "<div>\n",
       "<style scoped>\n",
       "    .dataframe tbody tr th:only-of-type {\n",
       "        vertical-align: middle;\n",
       "    }\n",
       "\n",
       "    .dataframe tbody tr th {\n",
       "        vertical-align: top;\n",
       "    }\n",
       "\n",
       "    .dataframe thead th {\n",
       "        text-align: right;\n",
       "    }\n",
       "</style>\n",
       "<table border=\"1\" class=\"dataframe\">\n",
       "  <thead>\n",
       "    <tr style=\"text-align: right;\">\n",
       "      <th></th>\n",
       "      <th>name</th>\n",
       "      <th>lat</th>\n",
       "      <th>lng</th>\n",
       "      <th>oficina_principal</th>\n",
       "      <th>totalOffices</th>\n",
       "    </tr>\n",
       "  </thead>\n",
       "  <tbody>\n",
       "    <tr>\n",
       "      <th>0</th>\n",
       "      <td>Wetpaint</td>\n",
       "      <td>47.603122</td>\n",
       "      <td>-122.333253</td>\n",
       "      <td>{'type': 'Point', 'coordinates': [-122.333253,...</td>\n",
       "      <td>2.0</td>\n",
       "    </tr>\n",
       "    <tr>\n",
       "      <th>1</th>\n",
       "      <td>AdventNet</td>\n",
       "      <td>37.692934</td>\n",
       "      <td>-121.904945</td>\n",
       "      <td>{'type': 'Point', 'coordinates': [-121.904945,...</td>\n",
       "      <td>1.0</td>\n",
       "    </tr>\n",
       "    <tr>\n",
       "      <th>2</th>\n",
       "      <td>Zoho</td>\n",
       "      <td>37.692934</td>\n",
       "      <td>-121.904945</td>\n",
       "      <td>{'type': 'Point', 'coordinates': [-121.904945,...</td>\n",
       "      <td>1.0</td>\n",
       "    </tr>\n",
       "    <tr>\n",
       "      <th>3</th>\n",
       "      <td>Digg</td>\n",
       "      <td>37.764726</td>\n",
       "      <td>-122.394523</td>\n",
       "      <td>{'type': 'Point', 'coordinates': [-122.394523,...</td>\n",
       "      <td>1.0</td>\n",
       "    </tr>\n",
       "    <tr>\n",
       "      <th>4</th>\n",
       "      <td>Facebook</td>\n",
       "      <td>37.416050</td>\n",
       "      <td>-122.151801</td>\n",
       "      <td>{'type': 'Point', 'coordinates': [-122.151801,...</td>\n",
       "      <td>3.0</td>\n",
       "    </tr>\n",
       "  </tbody>\n",
       "</table>\n",
       "</div>"
      ],
      "text/plain": [
       "        name        lat         lng  \\\n",
       "0   Wetpaint  47.603122 -122.333253   \n",
       "1  AdventNet  37.692934 -121.904945   \n",
       "2       Zoho  37.692934 -121.904945   \n",
       "3       Digg  37.764726 -122.394523   \n",
       "4   Facebook  37.416050 -122.151801   \n",
       "\n",
       "                                   oficina_principal  totalOffices  \n",
       "0  {'type': 'Point', 'coordinates': [-122.333253,...           2.0  \n",
       "1  {'type': 'Point', 'coordinates': [-121.904945,...           1.0  \n",
       "2  {'type': 'Point', 'coordinates': [-121.904945,...           1.0  \n",
       "3  {'type': 'Point', 'coordinates': [-122.394523,...           1.0  \n",
       "4  {'type': 'Point', 'coordinates': [-122.151801,...           3.0  "
      ]
     },
     "execution_count": 68,
     "metadata": {},
     "output_type": "execute_result"
    }
   ],
   "source": [
    "display(df_clean.shape)\n",
    "df_clean.head()"
   ]
  },
  {
   "cell_type": "code",
   "execution_count": 69,
   "metadata": {},
   "outputs": [],
   "source": [
    "\n",
    "# Remove offices with unexisting lat,lng or both lat and lng data\n",
    "#df_clean.dropna(axis=0, inplace=True)\n",
    "\n",
    "# mongoimport --db companies --collection first_office --jsonArray ./data/oficinas.json\n",
    "df_clean.to_json('./data/oficinas.json', orient=\"records\")"
   ]
  },
  {
   "cell_type": "code",
   "execution_count": null,
   "metadata": {},
   "outputs": [],
   "source": []
  },
  {
   "cell_type": "code",
   "execution_count": null,
   "metadata": {},
   "outputs": [],
   "source": []
  },
  {
   "cell_type": "code",
   "execution_count": null,
   "metadata": {},
   "outputs": [],
   "source": []
  },
  {
   "cell_type": "code",
   "execution_count": null,
   "metadata": {},
   "outputs": [],
   "source": []
  },
  {
   "cell_type": "code",
   "execution_count": null,
   "metadata": {},
   "outputs": [],
   "source": []
  },
  {
   "cell_type": "code",
   "execution_count": 75,
   "metadata": {},
   "outputs": [],
   "source": []
  },
  {
   "cell_type": "code",
   "execution_count": 83,
   "metadata": {},
   "outputs": [
    {
     "name": "stdout",
     "output_type": "stream",
     "text": [
      "Hay 556 oficinas cerca a 10000 metros\n",
      "La mas cercana es\n",
      "[{'_id': ObjectId('5d231e0ae0aeedf6e06cd897'), 'name': 'SpaBooker', 'lat': 40.738567, 'lng': -73.987199, 'oficina_principal': {'type': 'Point', 'coordinates': [-73.987199, 40.738567]}, 'totalOffices': 1.0}]\n"
     ]
    },
    {
     "name": "stderr",
     "output_type": "stream",
     "text": [
      "/usr/local/lib/python3.7/site-packages/ipykernel_launcher.py:19: DeprecationWarning: count is deprecated. Use Collection.count_documents instead.\n"
     ]
    }
   ],
   "source": [
    "#https://docs.mongodb.com/manual/reference/operator/query/near/index.html\n",
    "def findNear(geopoint, radio_max_meters=1000):\n",
    "    return db.first_office.find({\n",
    "        \"oficina_principal\": {\n",
    "         \"$near\": {\n",
    "           \"$geometry\": geopoint,\n",
    "           \"$maxDistance\": radio_max_meters,\n",
    "         }\n",
    "       }\n",
    "    })\n",
    "\n",
    "\n",
    "# https://developers.google.com/maps/documentation/geocoding/intro\n",
    "park_avenue_con_21_street = {\n",
    "    \"type\":\"Point\",\n",
    "    \"coordinates\":[-73.987308,40.738935]\n",
    "}\n",
    "radio_max_meters = 10000\n",
    "num_offices = findNear(park_avenue_con_21_street, radio_max_meters).count()\n",
    "\n",
    "print(f\"Hay {num_offices} oficinas cerca a {radio_max_meters} metros\")\n",
    "print(\"La mas cercana es\")\n",
    "print(list(findNear(park_avenue_con_21_street, radio_max_meters).limit(1)))\n",
    "\n"
   ]
  },
  {
   "cell_type": "code",
   "execution_count": 89,
   "metadata": {},
   "outputs": [],
   "source": [
    "pd.DataFrame(findNear(park_avenue_con_21_street, 5000)).to_csv(\"./data/geoesp.csv\")"
   ]
  },
  {
   "cell_type": "code",
   "execution_count": null,
   "metadata": {},
   "outputs": [],
   "source": []
  }
 ],
 "metadata": {
  "kernelspec": {
   "display_name": "Python 3",
   "language": "python",
   "name": "python3"
  },
  "language_info": {
   "codemirror_mode": {
    "name": "ipython",
    "version": 3
   },
   "file_extension": ".py",
   "mimetype": "text/x-python",
   "name": "python",
   "nbconvert_exporter": "python",
   "pygments_lexer": "ipython3",
   "version": "3.7.3"
  }
 },
 "nbformat": 4,
 "nbformat_minor": 2
}
