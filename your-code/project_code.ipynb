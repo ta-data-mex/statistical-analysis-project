{
 "cells": [
  {
   "cell_type": "markdown",
   "metadata": {},
   "source": [
    "# Statistical Analysis Project\n",
    "---\n",
    "\n",
    "**Goal**: Understand what are the variables that are more important in predicting realstate sales price.  \n",
    "**Dataset**: https://www.kaggle.com/c/house-prices-advanced-regression-techniques/data"
   ]
  },
  {
   "cell_type": "code",
   "execution_count": 2,
   "metadata": {},
   "outputs": [],
   "source": [
    "import pandas as pd\n",
    "import numpy as np\n",
    "\n",
    "import matplotlib.pyplot as plt\n",
    "import seaborn as sns\n",
    "\n",
    "from statsmodels.multivariate.pca import PCA\n",
    "\n",
    "from sklearn.model_selection import train_test_split\n",
    "from sklearn.linear_model import LinearRegression\n",
    "from sklearn.metrics import mean_squared_error"
   ]
  },
  {
   "cell_type": "code",
   "execution_count": 3,
   "metadata": {},
   "outputs": [
    {
     "data": {
      "text/plain": [
       "(1460, 81)"
      ]
     },
     "execution_count": 3,
     "metadata": {},
     "output_type": "execute_result"
    }
   ],
   "source": [
    "data = pd.read_csv('train.csv')\n",
    "data.shape"
   ]
  },
  {
   "cell_type": "markdown",
   "metadata": {},
   "source": [
    "## 1. Data Wrangling\n",
    "---\n",
    "\n",
    "**Steps:**\n",
    "- Dealing with missing values\n",
    "- Feature reduction\n",
    "- Data transformation"
   ]
  },
  {
   "cell_type": "code",
   "execution_count": 4,
   "metadata": {},
   "outputs": [
    {
     "name": "stdout",
     "output_type": "stream",
     "text": [
      "PoolQC           1453\n",
      "MiscFeature      1406\n",
      "Alley            1369\n",
      "Fence            1179\n",
      "FireplaceQu       690\n",
      "LotFrontage       259\n",
      "GarageCond         81\n",
      "GarageType         81\n",
      "GarageYrBlt        81\n",
      "GarageFinish       81\n",
      "GarageQual         81\n",
      "BsmtExposure       38\n",
      "BsmtFinType2       38\n",
      "BsmtFinType1       37\n",
      "BsmtCond           37\n",
      "BsmtQual           37\n",
      "MasVnrArea          8\n",
      "MasVnrType          8\n",
      "Electrical          1\n",
      "Utilities           0\n",
      "YearRemodAdd        0\n",
      "MSSubClass          0\n",
      "Foundation          0\n",
      "ExterCond           0\n",
      "ExterQual           0\n",
      "Exterior2nd         0\n",
      "Exterior1st         0\n",
      "RoofMatl            0\n",
      "RoofStyle           0\n",
      "YearBuilt           0\n",
      "                 ... \n",
      "GarageArea          0\n",
      "PavedDrive          0\n",
      "WoodDeckSF          0\n",
      "OpenPorchSF         0\n",
      "3SsnPorch           0\n",
      "BsmtUnfSF           0\n",
      "ScreenPorch         0\n",
      "PoolArea            0\n",
      "MiscVal             0\n",
      "MoSold              0\n",
      "YrSold              0\n",
      "SaleType            0\n",
      "Functional          0\n",
      "TotRmsAbvGrd        0\n",
      "KitchenQual         0\n",
      "KitchenAbvGr        0\n",
      "BedroomAbvGr        0\n",
      "HalfBath            0\n",
      "FullBath            0\n",
      "BsmtHalfBath        0\n",
      "BsmtFullBath        0\n",
      "GrLivArea           0\n",
      "LowQualFinSF        0\n",
      "2ndFlrSF            0\n",
      "1stFlrSF            0\n",
      "CentralAir          0\n",
      "SaleCondition       0\n",
      "Heating             0\n",
      "TotalBsmtSF         0\n",
      "Id                  0\n",
      "Length: 81, dtype: int64\n"
     ]
    }
   ],
   "source": [
    "#getting rid of all the columns that have too many NaN\n",
    "\n",
    "print(data.isna().sum().sort_values(ascending=False))\n",
    "data.drop(columns=['PoolQC', 'MiscFeature', 'Alley', 'Fence', 'FireplaceQu', 'LotFrontage'], \n",
    "          inplace=True)"
   ]
  },
  {
   "cell_type": "code",
   "execution_count": 5,
   "metadata": {},
   "outputs": [],
   "source": [
    "#List of other variables that have a considerable number of NaN but I want to replace with something\n",
    "data.isna().sum().sort_values(ascending=False)\n",
    "\n",
    "con_na = ['GarageType', \n",
    "          'GarageYrBlt', \n",
    "          'GarageFinish', \n",
    "          'GarageCond', \n",
    "          'GarageQual', \n",
    "          'BsmtExposure', \n",
    "          'BsmtFinType2', \n",
    "          'BsmtFinType1', \n",
    "          'BsmtCond', \n",
    "          'BsmtQual']\n",
    "\n",
    "#Removed GarageYrBlt from the list as it is the only numerical field, I will treat it differently\n",
    "con_na.remove('GarageYrBlt')"
   ]
  },
  {
   "cell_type": "code",
   "execution_count": 6,
   "metadata": {},
   "outputs": [],
   "source": [
    "#Fillna for all the variables in the list with 'NA'\n",
    "data[con_na] = data[con_na].fillna('NA')\n",
    "#Fillna for GarageYrBlt with 0\n",
    "data['GarageYrBlt'] = data['GarageYrBlt'].fillna(0)"
   ]
  },
  {
   "cell_type": "code",
   "execution_count": 7,
   "metadata": {},
   "outputs": [
    {
     "name": "stdout",
     "output_type": "stream",
     "text": [
      "MasVnrType       8\n",
      "MasVnrArea       8\n",
      "Electrical       1\n",
      "SalePrice        0\n",
      "Foundation       0\n",
      "RoofMatl         0\n",
      "Exterior1st      0\n",
      "Exterior2nd      0\n",
      "ExterQual        0\n",
      "ExterCond        0\n",
      "BsmtQual         0\n",
      "TotalBsmtSF      0\n",
      "BsmtCond         0\n",
      "BsmtExposure     0\n",
      "BsmtFinType1     0\n",
      "BsmtFinSF1       0\n",
      "BsmtFinType2     0\n",
      "BsmtFinSF2       0\n",
      "RoofStyle        0\n",
      "YearRemodAdd     0\n",
      "YearBuilt        0\n",
      "OverallCond      0\n",
      "MSSubClass       0\n",
      "MSZoning         0\n",
      "LotArea          0\n",
      "Street           0\n",
      "LotShape         0\n",
      "LandContour      0\n",
      "Utilities        0\n",
      "LotConfig        0\n",
      "                ..\n",
      "PavedDrive       0\n",
      "WoodDeckSF       0\n",
      "OpenPorchSF      0\n",
      "EnclosedPorch    0\n",
      "3SsnPorch        0\n",
      "ScreenPorch      0\n",
      "PoolArea         0\n",
      "MiscVal          0\n",
      "MoSold           0\n",
      "YrSold           0\n",
      "SaleType         0\n",
      "GarageFinish     0\n",
      "GarageYrBlt      0\n",
      "GarageType       0\n",
      "BsmtHalfBath     0\n",
      "CentralAir       0\n",
      "1stFlrSF         0\n",
      "2ndFlrSF         0\n",
      "LowQualFinSF     0\n",
      "GrLivArea        0\n",
      "BsmtFullBath     0\n",
      "FullBath         0\n",
      "Fireplaces       0\n",
      "HalfBath         0\n",
      "BedroomAbvGr     0\n",
      "KitchenAbvGr     0\n",
      "KitchenQual      0\n",
      "TotRmsAbvGrd     0\n",
      "Functional       0\n",
      "Id               0\n",
      "Length: 75, dtype: int64\n"
     ]
    }
   ],
   "source": [
    "#Filling other variables that have less NaN\n",
    "print(data.isna().sum().sort_values(ascending=False))\n",
    "data['MasVnrType'] = data['MasVnrType'].fillna('None')\n",
    "data['MasVnrArea'] = data['MasVnrArea'].fillna(0.0)\n",
    "data['Electrical'] = data['Electrical'].fillna('NA')"
   ]
  },
  {
   "cell_type": "code",
   "execution_count": 8,
   "metadata": {},
   "outputs": [
    {
     "data": {
      "text/plain": [
       "SalePrice       0\n",
       "YearRemodAdd    0\n",
       "RoofMatl        0\n",
       "Exterior1st     0\n",
       "Exterior2nd     0\n",
       "dtype: int64"
      ]
     },
     "execution_count": 8,
     "metadata": {},
     "output_type": "execute_result"
    }
   ],
   "source": [
    "#Now we have no values missing\n",
    "data.isna().sum().sort_values(ascending=False).head()"
   ]
  },
  {
   "cell_type": "code",
   "execution_count": 9,
   "metadata": {},
   "outputs": [
    {
     "data": {
      "text/html": [
       "<div>\n",
       "<style scoped>\n",
       "    .dataframe tbody tr th:only-of-type {\n",
       "        vertical-align: middle;\n",
       "    }\n",
       "\n",
       "    .dataframe tbody tr th {\n",
       "        vertical-align: top;\n",
       "    }\n",
       "\n",
       "    .dataframe thead th {\n",
       "        text-align: right;\n",
       "    }\n",
       "</style>\n",
       "<table border=\"1\" class=\"dataframe\">\n",
       "  <thead>\n",
       "    <tr style=\"text-align: right;\">\n",
       "      <th></th>\n",
       "      <th>Id</th>\n",
       "      <th>MSSubClass</th>\n",
       "      <th>MSZoning</th>\n",
       "      <th>LotArea</th>\n",
       "      <th>Street</th>\n",
       "      <th>LotShape</th>\n",
       "      <th>LandContour</th>\n",
       "      <th>Utilities</th>\n",
       "      <th>LotConfig</th>\n",
       "      <th>LandSlope</th>\n",
       "      <th>...</th>\n",
       "      <th>EnclosedPorch</th>\n",
       "      <th>3SsnPorch</th>\n",
       "      <th>ScreenPorch</th>\n",
       "      <th>PoolArea</th>\n",
       "      <th>MiscVal</th>\n",
       "      <th>MoSold</th>\n",
       "      <th>YrSold</th>\n",
       "      <th>SaleType</th>\n",
       "      <th>SaleCondition</th>\n",
       "      <th>SalePrice</th>\n",
       "    </tr>\n",
       "  </thead>\n",
       "  <tbody>\n",
       "    <tr>\n",
       "      <th>0</th>\n",
       "      <td>1</td>\n",
       "      <td>60</td>\n",
       "      <td>RL</td>\n",
       "      <td>8450</td>\n",
       "      <td>Pave</td>\n",
       "      <td>Reg</td>\n",
       "      <td>Lvl</td>\n",
       "      <td>AllPub</td>\n",
       "      <td>Inside</td>\n",
       "      <td>Gtl</td>\n",
       "      <td>...</td>\n",
       "      <td>0</td>\n",
       "      <td>0</td>\n",
       "      <td>0</td>\n",
       "      <td>0</td>\n",
       "      <td>0</td>\n",
       "      <td>2</td>\n",
       "      <td>2008</td>\n",
       "      <td>WD</td>\n",
       "      <td>Normal</td>\n",
       "      <td>208500</td>\n",
       "    </tr>\n",
       "    <tr>\n",
       "      <th>1</th>\n",
       "      <td>2</td>\n",
       "      <td>20</td>\n",
       "      <td>RL</td>\n",
       "      <td>9600</td>\n",
       "      <td>Pave</td>\n",
       "      <td>Reg</td>\n",
       "      <td>Lvl</td>\n",
       "      <td>AllPub</td>\n",
       "      <td>FR2</td>\n",
       "      <td>Gtl</td>\n",
       "      <td>...</td>\n",
       "      <td>0</td>\n",
       "      <td>0</td>\n",
       "      <td>0</td>\n",
       "      <td>0</td>\n",
       "      <td>0</td>\n",
       "      <td>5</td>\n",
       "      <td>2007</td>\n",
       "      <td>WD</td>\n",
       "      <td>Normal</td>\n",
       "      <td>181500</td>\n",
       "    </tr>\n",
       "    <tr>\n",
       "      <th>2</th>\n",
       "      <td>3</td>\n",
       "      <td>60</td>\n",
       "      <td>RL</td>\n",
       "      <td>11250</td>\n",
       "      <td>Pave</td>\n",
       "      <td>IR1</td>\n",
       "      <td>Lvl</td>\n",
       "      <td>AllPub</td>\n",
       "      <td>Inside</td>\n",
       "      <td>Gtl</td>\n",
       "      <td>...</td>\n",
       "      <td>0</td>\n",
       "      <td>0</td>\n",
       "      <td>0</td>\n",
       "      <td>0</td>\n",
       "      <td>0</td>\n",
       "      <td>9</td>\n",
       "      <td>2008</td>\n",
       "      <td>WD</td>\n",
       "      <td>Normal</td>\n",
       "      <td>223500</td>\n",
       "    </tr>\n",
       "    <tr>\n",
       "      <th>3</th>\n",
       "      <td>4</td>\n",
       "      <td>70</td>\n",
       "      <td>RL</td>\n",
       "      <td>9550</td>\n",
       "      <td>Pave</td>\n",
       "      <td>IR1</td>\n",
       "      <td>Lvl</td>\n",
       "      <td>AllPub</td>\n",
       "      <td>Corner</td>\n",
       "      <td>Gtl</td>\n",
       "      <td>...</td>\n",
       "      <td>272</td>\n",
       "      <td>0</td>\n",
       "      <td>0</td>\n",
       "      <td>0</td>\n",
       "      <td>0</td>\n",
       "      <td>2</td>\n",
       "      <td>2006</td>\n",
       "      <td>WD</td>\n",
       "      <td>Abnorml</td>\n",
       "      <td>140000</td>\n",
       "    </tr>\n",
       "    <tr>\n",
       "      <th>4</th>\n",
       "      <td>5</td>\n",
       "      <td>60</td>\n",
       "      <td>RL</td>\n",
       "      <td>14260</td>\n",
       "      <td>Pave</td>\n",
       "      <td>IR1</td>\n",
       "      <td>Lvl</td>\n",
       "      <td>AllPub</td>\n",
       "      <td>FR2</td>\n",
       "      <td>Gtl</td>\n",
       "      <td>...</td>\n",
       "      <td>0</td>\n",
       "      <td>0</td>\n",
       "      <td>0</td>\n",
       "      <td>0</td>\n",
       "      <td>0</td>\n",
       "      <td>12</td>\n",
       "      <td>2008</td>\n",
       "      <td>WD</td>\n",
       "      <td>Normal</td>\n",
       "      <td>250000</td>\n",
       "    </tr>\n",
       "  </tbody>\n",
       "</table>\n",
       "<p>5 rows × 75 columns</p>\n",
       "</div>"
      ],
      "text/plain": [
       "   Id  MSSubClass MSZoning  LotArea Street LotShape LandContour Utilities  \\\n",
       "0   1          60       RL     8450   Pave      Reg         Lvl    AllPub   \n",
       "1   2          20       RL     9600   Pave      Reg         Lvl    AllPub   \n",
       "2   3          60       RL    11250   Pave      IR1         Lvl    AllPub   \n",
       "3   4          70       RL     9550   Pave      IR1         Lvl    AllPub   \n",
       "4   5          60       RL    14260   Pave      IR1         Lvl    AllPub   \n",
       "\n",
       "  LotConfig LandSlope  ... EnclosedPorch 3SsnPorch ScreenPorch PoolArea  \\\n",
       "0    Inside       Gtl  ...             0         0           0        0   \n",
       "1       FR2       Gtl  ...             0         0           0        0   \n",
       "2    Inside       Gtl  ...             0         0           0        0   \n",
       "3    Corner       Gtl  ...           272         0           0        0   \n",
       "4       FR2       Gtl  ...             0         0           0        0   \n",
       "\n",
       "  MiscVal  MoSold  YrSold  SaleType  SaleCondition SalePrice  \n",
       "0       0       2    2008        WD         Normal    208500  \n",
       "1       0       5    2007        WD         Normal    181500  \n",
       "2       0       9    2008        WD         Normal    223500  \n",
       "3       0       2    2006        WD        Abnorml    140000  \n",
       "4       0      12    2008        WD         Normal    250000  \n",
       "\n",
       "[5 rows x 75 columns]"
      ]
     },
     "execution_count": 9,
     "metadata": {},
     "output_type": "execute_result"
    }
   ],
   "source": [
    "data.head()"
   ]
  },
  {
   "cell_type": "code",
   "execution_count": 10,
   "metadata": {},
   "outputs": [
    {
     "data": {
      "text/html": [
       "<div>\n",
       "<style scoped>\n",
       "    .dataframe tbody tr th:only-of-type {\n",
       "        vertical-align: middle;\n",
       "    }\n",
       "\n",
       "    .dataframe tbody tr th {\n",
       "        vertical-align: top;\n",
       "    }\n",
       "\n",
       "    .dataframe thead th {\n",
       "        text-align: right;\n",
       "    }\n",
       "</style>\n",
       "<table border=\"1\" class=\"dataframe\">\n",
       "  <thead>\n",
       "    <tr style=\"text-align: right;\">\n",
       "      <th></th>\n",
       "      <th>OpenPorchSF</th>\n",
       "      <th>EnclosedPorch</th>\n",
       "      <th>3SsnPorch</th>\n",
       "      <th>ScreenPorch</th>\n",
       "    </tr>\n",
       "  </thead>\n",
       "  <tbody>\n",
       "    <tr>\n",
       "      <th>0</th>\n",
       "      <td>61</td>\n",
       "      <td>0</td>\n",
       "      <td>0</td>\n",
       "      <td>0</td>\n",
       "    </tr>\n",
       "    <tr>\n",
       "      <th>1</th>\n",
       "      <td>0</td>\n",
       "      <td>0</td>\n",
       "      <td>0</td>\n",
       "      <td>0</td>\n",
       "    </tr>\n",
       "    <tr>\n",
       "      <th>2</th>\n",
       "      <td>42</td>\n",
       "      <td>0</td>\n",
       "      <td>0</td>\n",
       "      <td>0</td>\n",
       "    </tr>\n",
       "    <tr>\n",
       "      <th>3</th>\n",
       "      <td>35</td>\n",
       "      <td>272</td>\n",
       "      <td>0</td>\n",
       "      <td>0</td>\n",
       "    </tr>\n",
       "    <tr>\n",
       "      <th>4</th>\n",
       "      <td>84</td>\n",
       "      <td>0</td>\n",
       "      <td>0</td>\n",
       "      <td>0</td>\n",
       "    </tr>\n",
       "    <tr>\n",
       "      <th>5</th>\n",
       "      <td>30</td>\n",
       "      <td>0</td>\n",
       "      <td>320</td>\n",
       "      <td>0</td>\n",
       "    </tr>\n",
       "    <tr>\n",
       "      <th>6</th>\n",
       "      <td>57</td>\n",
       "      <td>0</td>\n",
       "      <td>0</td>\n",
       "      <td>0</td>\n",
       "    </tr>\n",
       "    <tr>\n",
       "      <th>7</th>\n",
       "      <td>204</td>\n",
       "      <td>228</td>\n",
       "      <td>0</td>\n",
       "      <td>0</td>\n",
       "    </tr>\n",
       "    <tr>\n",
       "      <th>8</th>\n",
       "      <td>0</td>\n",
       "      <td>205</td>\n",
       "      <td>0</td>\n",
       "      <td>0</td>\n",
       "    </tr>\n",
       "    <tr>\n",
       "      <th>9</th>\n",
       "      <td>4</td>\n",
       "      <td>0</td>\n",
       "      <td>0</td>\n",
       "      <td>0</td>\n",
       "    </tr>\n",
       "    <tr>\n",
       "      <th>10</th>\n",
       "      <td>0</td>\n",
       "      <td>0</td>\n",
       "      <td>0</td>\n",
       "      <td>0</td>\n",
       "    </tr>\n",
       "    <tr>\n",
       "      <th>11</th>\n",
       "      <td>21</td>\n",
       "      <td>0</td>\n",
       "      <td>0</td>\n",
       "      <td>0</td>\n",
       "    </tr>\n",
       "    <tr>\n",
       "      <th>12</th>\n",
       "      <td>0</td>\n",
       "      <td>0</td>\n",
       "      <td>0</td>\n",
       "      <td>176</td>\n",
       "    </tr>\n",
       "    <tr>\n",
       "      <th>13</th>\n",
       "      <td>33</td>\n",
       "      <td>0</td>\n",
       "      <td>0</td>\n",
       "      <td>0</td>\n",
       "    </tr>\n",
       "    <tr>\n",
       "      <th>14</th>\n",
       "      <td>213</td>\n",
       "      <td>176</td>\n",
       "      <td>0</td>\n",
       "      <td>0</td>\n",
       "    </tr>\n",
       "    <tr>\n",
       "      <th>15</th>\n",
       "      <td>112</td>\n",
       "      <td>0</td>\n",
       "      <td>0</td>\n",
       "      <td>0</td>\n",
       "    </tr>\n",
       "    <tr>\n",
       "      <th>16</th>\n",
       "      <td>0</td>\n",
       "      <td>0</td>\n",
       "      <td>0</td>\n",
       "      <td>0</td>\n",
       "    </tr>\n",
       "    <tr>\n",
       "      <th>17</th>\n",
       "      <td>0</td>\n",
       "      <td>0</td>\n",
       "      <td>0</td>\n",
       "      <td>0</td>\n",
       "    </tr>\n",
       "    <tr>\n",
       "      <th>18</th>\n",
       "      <td>102</td>\n",
       "      <td>0</td>\n",
       "      <td>0</td>\n",
       "      <td>0</td>\n",
       "    </tr>\n",
       "    <tr>\n",
       "      <th>19</th>\n",
       "      <td>0</td>\n",
       "      <td>0</td>\n",
       "      <td>0</td>\n",
       "      <td>0</td>\n",
       "    </tr>\n",
       "  </tbody>\n",
       "</table>\n",
       "</div>"
      ],
      "text/plain": [
       "    OpenPorchSF  EnclosedPorch  3SsnPorch  ScreenPorch\n",
       "0            61              0          0            0\n",
       "1             0              0          0            0\n",
       "2            42              0          0            0\n",
       "3            35            272          0            0\n",
       "4            84              0          0            0\n",
       "5            30              0        320            0\n",
       "6            57              0          0            0\n",
       "7           204            228          0            0\n",
       "8             0            205          0            0\n",
       "9             4              0          0            0\n",
       "10            0              0          0            0\n",
       "11           21              0          0            0\n",
       "12            0              0          0          176\n",
       "13           33              0          0            0\n",
       "14          213            176          0            0\n",
       "15          112              0          0            0\n",
       "16            0              0          0            0\n",
       "17            0              0          0            0\n",
       "18          102              0          0            0\n",
       "19            0              0          0            0"
      ]
     },
     "execution_count": 10,
     "metadata": {},
     "output_type": "execute_result"
    }
   ],
   "source": [
    "#Most of the properties have only one type of Porch, and we have 4 columns for the area of each\n",
    "#Type of porch... So I will create a TotalPorchSF column with the sum of the other 4\n",
    "#And drop the other for\n",
    "data[['OpenPorchSF', 'EnclosedPorch', '3SsnPorch', 'ScreenPorch']].head(20)"
   ]
  },
  {
   "cell_type": "code",
   "execution_count": 11,
   "metadata": {},
   "outputs": [],
   "source": [
    "data['TotalPorchSF'] = data['OpenPorchSF'] + data['EnclosedPorch'] + data['3SsnPorch'] + data['ScreenPorch']"
   ]
  },
  {
   "cell_type": "code",
   "execution_count": 12,
   "metadata": {},
   "outputs": [],
   "source": [
    "data.drop(columns=['OpenPorchSF', 'EnclosedPorch', '3SsnPorch', 'ScreenPorch'], inplace=True)"
   ]
  },
  {
   "cell_type": "code",
   "execution_count": 13,
   "metadata": {},
   "outputs": [],
   "source": [
    "#We have 4 columns that give us information about basement area:\n",
    "#BsmtFinSF1, BsmtFinSF2, BsmtUnfSF, TotalBsmtSF\n",
    "#The first 2 are the area of finished basement, the 3rd the area of unfinished basement\n",
    "#And the 4th is the total.\n",
    "#In order to have less columns, we will compute the % of finished basement area\n",
    "#((BsmtFinSF1+BsmtFinSF2)/TotalBsmtSF)\n",
    "#After that, we will eliminate BsmtFinSF1, BsmtFinSF2, BsmtUnfSF,\n",
    "\n",
    "data['PercentBsmtFin'] = (data.BsmtFinSF1+data.BsmtFinSF2)/data.TotalBsmtSF\n",
    "data.drop(columns=['BsmtFinSF1', 'BsmtFinSF2', 'BsmtUnfSF'], inplace=True)"
   ]
  },
  {
   "cell_type": "code",
   "execution_count": 14,
   "metadata": {},
   "outputs": [],
   "source": [
    "#we had 37 calculations that could not be made (the ones that have no basement)\n",
    "#We will replace them with 0\n",
    "data['PercentBsmtFin'].isna().sum()\n",
    "data['PercentBsmtFin'] = data['PercentBsmtFin'].fillna(0)"
   ]
  },
  {
   "cell_type": "code",
   "execution_count": 15,
   "metadata": {},
   "outputs": [],
   "source": [
    "#Now, we have 4 variables that describe the number of bathrooms in each property\n",
    "#Though it gives us a lot of detail, we could have only one variable for that\n",
    "data['TotalBath'] = data.BsmtFullBath + data.BsmtHalfBath + data.FullBath + data.HalfBath\n",
    "data.drop(columns=['BsmtFullBath', 'BsmtHalfBath', 'FullBath', 'HalfBath'], inplace=True)"
   ]
  },
  {
   "cell_type": "code",
   "execution_count": 16,
   "metadata": {},
   "outputs": [
    {
     "data": {
      "text/plain": [
       "Index(['Id', 'MSSubClass', 'MSZoning', 'LotArea', 'Street', 'LotShape',\n",
       "       'LandContour', 'Utilities', 'LotConfig', 'LandSlope', 'Neighborhood',\n",
       "       'Condition1', 'Condition2', 'BldgType', 'HouseStyle', 'OverallQual',\n",
       "       'OverallCond', 'YearBuilt', 'YearRemodAdd', 'RoofStyle', 'RoofMatl',\n",
       "       'Exterior1st', 'Exterior2nd', 'MasVnrType', 'MasVnrArea', 'ExterQual',\n",
       "       'ExterCond', 'Foundation', 'BsmtQual', 'BsmtCond', 'BsmtExposure',\n",
       "       'BsmtFinType1', 'BsmtFinType2', 'TotalBsmtSF', 'Heating', 'HeatingQC',\n",
       "       'CentralAir', 'Electrical', '1stFlrSF', '2ndFlrSF', 'LowQualFinSF',\n",
       "       'GrLivArea', 'BedroomAbvGr', 'KitchenAbvGr', 'KitchenQual',\n",
       "       'TotRmsAbvGrd', 'Functional', 'Fireplaces', 'GarageType', 'GarageYrBlt',\n",
       "       'GarageFinish', 'GarageCars', 'GarageArea', 'GarageQual', 'GarageCond',\n",
       "       'PavedDrive', 'WoodDeckSF', 'PoolArea', 'MiscVal', 'MoSold', 'YrSold',\n",
       "       'SaleType', 'SaleCondition', 'SalePrice', 'TotalPorchSF',\n",
       "       'PercentBsmtFin', 'TotalBath'],\n",
       "      dtype='object')"
      ]
     },
     "execution_count": 16,
     "metadata": {},
     "output_type": "execute_result"
    }
   ],
   "source": [
    "#All columns that are categorical but have an implicit scale in it, \n",
    "#I will convert in only one column with a numerical scale\n",
    "\n",
    "#First, let's separate those columns and check what is their scale\n",
    "data.columns"
   ]
  },
  {
   "cell_type": "code",
   "execution_count": 17,
   "metadata": {},
   "outputs": [
    {
     "data": {
      "text/html": [
       "<div>\n",
       "<style scoped>\n",
       "    .dataframe tbody tr th:only-of-type {\n",
       "        vertical-align: middle;\n",
       "    }\n",
       "\n",
       "    .dataframe tbody tr th {\n",
       "        vertical-align: top;\n",
       "    }\n",
       "\n",
       "    .dataframe thead th {\n",
       "        text-align: right;\n",
       "    }\n",
       "</style>\n",
       "<table border=\"1\" class=\"dataframe\">\n",
       "  <thead>\n",
       "    <tr style=\"text-align: right;\">\n",
       "      <th></th>\n",
       "      <th>ExterQual</th>\n",
       "      <th>ExterCond</th>\n",
       "      <th>BsmtQual</th>\n",
       "      <th>BsmtCond</th>\n",
       "      <th>BsmtExposure</th>\n",
       "      <th>BsmtFinType1</th>\n",
       "      <th>BsmtFinType2</th>\n",
       "      <th>HeatingQC</th>\n",
       "      <th>Functional</th>\n",
       "      <th>GarageFinish</th>\n",
       "      <th>GarageQual</th>\n",
       "      <th>GarageCond</th>\n",
       "    </tr>\n",
       "  </thead>\n",
       "  <tbody>\n",
       "    <tr>\n",
       "      <th>0</th>\n",
       "      <td>Gd</td>\n",
       "      <td>TA</td>\n",
       "      <td>Gd</td>\n",
       "      <td>TA</td>\n",
       "      <td>No</td>\n",
       "      <td>GLQ</td>\n",
       "      <td>Unf</td>\n",
       "      <td>Ex</td>\n",
       "      <td>Typ</td>\n",
       "      <td>RFn</td>\n",
       "      <td>TA</td>\n",
       "      <td>TA</td>\n",
       "    </tr>\n",
       "    <tr>\n",
       "      <th>1</th>\n",
       "      <td>TA</td>\n",
       "      <td>TA</td>\n",
       "      <td>Gd</td>\n",
       "      <td>TA</td>\n",
       "      <td>Gd</td>\n",
       "      <td>ALQ</td>\n",
       "      <td>Unf</td>\n",
       "      <td>Ex</td>\n",
       "      <td>Typ</td>\n",
       "      <td>RFn</td>\n",
       "      <td>TA</td>\n",
       "      <td>TA</td>\n",
       "    </tr>\n",
       "    <tr>\n",
       "      <th>2</th>\n",
       "      <td>Gd</td>\n",
       "      <td>TA</td>\n",
       "      <td>Gd</td>\n",
       "      <td>TA</td>\n",
       "      <td>Mn</td>\n",
       "      <td>GLQ</td>\n",
       "      <td>Unf</td>\n",
       "      <td>Ex</td>\n",
       "      <td>Typ</td>\n",
       "      <td>RFn</td>\n",
       "      <td>TA</td>\n",
       "      <td>TA</td>\n",
       "    </tr>\n",
       "    <tr>\n",
       "      <th>3</th>\n",
       "      <td>TA</td>\n",
       "      <td>TA</td>\n",
       "      <td>TA</td>\n",
       "      <td>Gd</td>\n",
       "      <td>No</td>\n",
       "      <td>ALQ</td>\n",
       "      <td>Unf</td>\n",
       "      <td>Gd</td>\n",
       "      <td>Typ</td>\n",
       "      <td>Unf</td>\n",
       "      <td>TA</td>\n",
       "      <td>TA</td>\n",
       "    </tr>\n",
       "    <tr>\n",
       "      <th>4</th>\n",
       "      <td>Gd</td>\n",
       "      <td>TA</td>\n",
       "      <td>Gd</td>\n",
       "      <td>TA</td>\n",
       "      <td>Av</td>\n",
       "      <td>GLQ</td>\n",
       "      <td>Unf</td>\n",
       "      <td>Ex</td>\n",
       "      <td>Typ</td>\n",
       "      <td>RFn</td>\n",
       "      <td>TA</td>\n",
       "      <td>TA</td>\n",
       "    </tr>\n",
       "  </tbody>\n",
       "</table>\n",
       "</div>"
      ],
      "text/plain": [
       "  ExterQual ExterCond BsmtQual BsmtCond BsmtExposure BsmtFinType1  \\\n",
       "0        Gd        TA       Gd       TA           No          GLQ   \n",
       "1        TA        TA       Gd       TA           Gd          ALQ   \n",
       "2        Gd        TA       Gd       TA           Mn          GLQ   \n",
       "3        TA        TA       TA       Gd           No          ALQ   \n",
       "4        Gd        TA       Gd       TA           Av          GLQ   \n",
       "\n",
       "  BsmtFinType2 HeatingQC Functional GarageFinish GarageQual GarageCond  \n",
       "0          Unf        Ex        Typ          RFn         TA         TA  \n",
       "1          Unf        Ex        Typ          RFn         TA         TA  \n",
       "2          Unf        Ex        Typ          RFn         TA         TA  \n",
       "3          Unf        Gd        Typ          Unf         TA         TA  \n",
       "4          Unf        Ex        Typ          RFn         TA         TA  "
      ]
     },
     "execution_count": 17,
     "metadata": {},
     "output_type": "execute_result"
    }
   ],
   "source": [
    "#Categorical Variables that have an implicit scale\n",
    "cat_scale = ['ExterQual', \n",
    "             'ExterCond', \n",
    "             'BsmtQual', \n",
    "             'BsmtCond', \n",
    "             'BsmtExposure', \n",
    "             'BsmtFinType1', \n",
    "             'BsmtFinType2', \n",
    "             'HeatingQC', \n",
    "             'Functional', \n",
    "             'GarageFinish', \n",
    "             'GarageQual', \n",
    "             'GarageCond']\n",
    "data[cat_scale].head()"
   ]
  },
  {
   "cell_type": "code",
   "execution_count": 18,
   "metadata": {},
   "outputs": [],
   "source": [
    "cut_1 = {'NA':0, 'Po':1, 'Fa':2, 'TA':3, 'Gd':4, 'Ex':5} #'ExterQual', 'ExterCond', 'BsmtQual', 'BsmtCond', 'HeatingQC', 'GarageQual', 'GarageCond'\n",
    "cut_2 = {'NA':0, 'Unf':1, 'LwQ':2, 'Rec':3, 'BLQ':4, 'ALQ':5, 'GLQ':6} #'BsmtFinType1', 'BsmtFinType2'\n",
    "cut_3 = {'NA':0, 'No':1, 'Mn':2, 'Av':3, 'Gd':4} #'BsmtExposure'\n",
    "cut_4 = {'Sal':0, 'Sev':1, 'Maj2':2, 'Maj1':3, 'Mod':4, 'Min2':5, 'Min1':6, 'Typ':7} #'Functional'\n",
    "cut_5 = {'NA':0, 'Unf':1, 'RFn':2, 'Fin':3} #'GarageFinish'\n",
    "\n",
    "def labeling(s, dic):\n",
    "    return dic[s]"
   ]
  },
  {
   "cell_type": "code",
   "execution_count": 19,
   "metadata": {},
   "outputs": [],
   "source": [
    "col_cut_1 = ['ExterQual', 'ExterCond', 'BsmtQual', 'BsmtCond', 'HeatingQC', 'GarageQual', 'GarageCond']\n",
    "col_cut_2 = ['BsmtFinType1', 'BsmtFinType2']\n",
    "\n",
    "for el in col_cut_1:\n",
    "    data[el] = data[el].apply(lambda x: labeling(x, cut_1))\n",
    "\n",
    "for el in col_cut_2:\n",
    "    data[el] = data[el].apply(lambda x: labeling(x, cut_2))\n",
    "\n",
    "data['BsmtExposure'] = data['BsmtExposure'].apply(lambda x: labeling(x, cut_3))\n",
    "data['Functional'] = data['Functional'].apply(lambda x: labeling(x, cut_4))\n",
    "data['GarageFinish'] = data['GarageFinish'].apply(lambda x: labeling(x, cut_5))"
   ]
  },
  {
   "cell_type": "code",
   "execution_count": 20,
   "metadata": {},
   "outputs": [],
   "source": [
    "data.drop(columns='Id', inplace=True)"
   ]
  },
  {
   "cell_type": "code",
   "execution_count": 21,
   "metadata": {},
   "outputs": [
    {
     "data": {
      "text/html": [
       "<div>\n",
       "<style scoped>\n",
       "    .dataframe tbody tr th:only-of-type {\n",
       "        vertical-align: middle;\n",
       "    }\n",
       "\n",
       "    .dataframe tbody tr th {\n",
       "        vertical-align: top;\n",
       "    }\n",
       "\n",
       "    .dataframe thead th {\n",
       "        text-align: right;\n",
       "    }\n",
       "</style>\n",
       "<table border=\"1\" class=\"dataframe\">\n",
       "  <thead>\n",
       "    <tr style=\"text-align: right;\">\n",
       "      <th></th>\n",
       "      <th>MSSubClass</th>\n",
       "      <th>MSZoning</th>\n",
       "      <th>LotArea</th>\n",
       "      <th>Street</th>\n",
       "      <th>LotShape</th>\n",
       "      <th>LandContour</th>\n",
       "      <th>Utilities</th>\n",
       "      <th>LotConfig</th>\n",
       "      <th>LandSlope</th>\n",
       "      <th>Neighborhood</th>\n",
       "      <th>...</th>\n",
       "      <th>PoolArea</th>\n",
       "      <th>MiscVal</th>\n",
       "      <th>MoSold</th>\n",
       "      <th>YrSold</th>\n",
       "      <th>SaleType</th>\n",
       "      <th>SaleCondition</th>\n",
       "      <th>SalePrice</th>\n",
       "      <th>TotalPorchSF</th>\n",
       "      <th>PercentBsmtFin</th>\n",
       "      <th>TotalBath</th>\n",
       "    </tr>\n",
       "  </thead>\n",
       "  <tbody>\n",
       "    <tr>\n",
       "      <th>0</th>\n",
       "      <td>60</td>\n",
       "      <td>RL</td>\n",
       "      <td>8450</td>\n",
       "      <td>Pave</td>\n",
       "      <td>Reg</td>\n",
       "      <td>Lvl</td>\n",
       "      <td>AllPub</td>\n",
       "      <td>Inside</td>\n",
       "      <td>Gtl</td>\n",
       "      <td>CollgCr</td>\n",
       "      <td>...</td>\n",
       "      <td>0</td>\n",
       "      <td>0</td>\n",
       "      <td>2</td>\n",
       "      <td>2008</td>\n",
       "      <td>WD</td>\n",
       "      <td>Normal</td>\n",
       "      <td>208500</td>\n",
       "      <td>61</td>\n",
       "      <td>0.824766</td>\n",
       "      <td>4</td>\n",
       "    </tr>\n",
       "    <tr>\n",
       "      <th>1</th>\n",
       "      <td>20</td>\n",
       "      <td>RL</td>\n",
       "      <td>9600</td>\n",
       "      <td>Pave</td>\n",
       "      <td>Reg</td>\n",
       "      <td>Lvl</td>\n",
       "      <td>AllPub</td>\n",
       "      <td>FR2</td>\n",
       "      <td>Gtl</td>\n",
       "      <td>Veenker</td>\n",
       "      <td>...</td>\n",
       "      <td>0</td>\n",
       "      <td>0</td>\n",
       "      <td>5</td>\n",
       "      <td>2007</td>\n",
       "      <td>WD</td>\n",
       "      <td>Normal</td>\n",
       "      <td>181500</td>\n",
       "      <td>0</td>\n",
       "      <td>0.774960</td>\n",
       "      <td>3</td>\n",
       "    </tr>\n",
       "    <tr>\n",
       "      <th>2</th>\n",
       "      <td>60</td>\n",
       "      <td>RL</td>\n",
       "      <td>11250</td>\n",
       "      <td>Pave</td>\n",
       "      <td>IR1</td>\n",
       "      <td>Lvl</td>\n",
       "      <td>AllPub</td>\n",
       "      <td>Inside</td>\n",
       "      <td>Gtl</td>\n",
       "      <td>CollgCr</td>\n",
       "      <td>...</td>\n",
       "      <td>0</td>\n",
       "      <td>0</td>\n",
       "      <td>9</td>\n",
       "      <td>2008</td>\n",
       "      <td>WD</td>\n",
       "      <td>Normal</td>\n",
       "      <td>223500</td>\n",
       "      <td>42</td>\n",
       "      <td>0.528261</td>\n",
       "      <td>4</td>\n",
       "    </tr>\n",
       "    <tr>\n",
       "      <th>3</th>\n",
       "      <td>70</td>\n",
       "      <td>RL</td>\n",
       "      <td>9550</td>\n",
       "      <td>Pave</td>\n",
       "      <td>IR1</td>\n",
       "      <td>Lvl</td>\n",
       "      <td>AllPub</td>\n",
       "      <td>Corner</td>\n",
       "      <td>Gtl</td>\n",
       "      <td>Crawfor</td>\n",
       "      <td>...</td>\n",
       "      <td>0</td>\n",
       "      <td>0</td>\n",
       "      <td>2</td>\n",
       "      <td>2006</td>\n",
       "      <td>WD</td>\n",
       "      <td>Abnorml</td>\n",
       "      <td>140000</td>\n",
       "      <td>307</td>\n",
       "      <td>0.285714</td>\n",
       "      <td>2</td>\n",
       "    </tr>\n",
       "    <tr>\n",
       "      <th>4</th>\n",
       "      <td>60</td>\n",
       "      <td>RL</td>\n",
       "      <td>14260</td>\n",
       "      <td>Pave</td>\n",
       "      <td>IR1</td>\n",
       "      <td>Lvl</td>\n",
       "      <td>AllPub</td>\n",
       "      <td>FR2</td>\n",
       "      <td>Gtl</td>\n",
       "      <td>NoRidge</td>\n",
       "      <td>...</td>\n",
       "      <td>0</td>\n",
       "      <td>0</td>\n",
       "      <td>12</td>\n",
       "      <td>2008</td>\n",
       "      <td>WD</td>\n",
       "      <td>Normal</td>\n",
       "      <td>250000</td>\n",
       "      <td>84</td>\n",
       "      <td>0.572052</td>\n",
       "      <td>4</td>\n",
       "    </tr>\n",
       "  </tbody>\n",
       "</table>\n",
       "<p>5 rows × 66 columns</p>\n",
       "</div>"
      ],
      "text/plain": [
       "   MSSubClass MSZoning  LotArea Street LotShape LandContour Utilities  \\\n",
       "0          60       RL     8450   Pave      Reg         Lvl    AllPub   \n",
       "1          20       RL     9600   Pave      Reg         Lvl    AllPub   \n",
       "2          60       RL    11250   Pave      IR1         Lvl    AllPub   \n",
       "3          70       RL     9550   Pave      IR1         Lvl    AllPub   \n",
       "4          60       RL    14260   Pave      IR1         Lvl    AllPub   \n",
       "\n",
       "  LotConfig LandSlope Neighborhood  ... PoolArea MiscVal MoSold YrSold  \\\n",
       "0    Inside       Gtl      CollgCr  ...        0       0      2   2008   \n",
       "1       FR2       Gtl      Veenker  ...        0       0      5   2007   \n",
       "2    Inside       Gtl      CollgCr  ...        0       0      9   2008   \n",
       "3    Corner       Gtl      Crawfor  ...        0       0      2   2006   \n",
       "4       FR2       Gtl      NoRidge  ...        0       0     12   2008   \n",
       "\n",
       "   SaleType  SaleCondition  SalePrice  TotalPorchSF PercentBsmtFin TotalBath  \n",
       "0        WD         Normal     208500            61       0.824766         4  \n",
       "1        WD         Normal     181500             0       0.774960         3  \n",
       "2        WD         Normal     223500            42       0.528261         4  \n",
       "3        WD        Abnorml     140000           307       0.285714         2  \n",
       "4        WD         Normal     250000            84       0.572052         4  \n",
       "\n",
       "[5 rows x 66 columns]"
      ]
     },
     "execution_count": 21,
     "metadata": {},
     "output_type": "execute_result"
    }
   ],
   "source": [
    "data.head()"
   ]
  },
  {
   "cell_type": "markdown",
   "metadata": {},
   "source": [
    "## 2. Correlation\n",
    "\n",
    "**Steps:**\n",
    "- Initial Correlation Matrix\n",
    "- Dealing with categorical data\n",
    "- Mapping correlations and new feature reduction\n",
    "- Final Correlation Matrix\n",
    "- Most Correlated Features"
   ]
  },
  {
   "cell_type": "code",
   "execution_count": 22,
   "metadata": {},
   "outputs": [],
   "source": [
    "corr = data.corr()"
   ]
  },
  {
   "cell_type": "code",
   "execution_count": 23,
   "metadata": {},
   "outputs": [
    {
     "data": {
      "image/png": "[encoded data removed]",
      "text/plain": [
       "<Figure size 792x648 with 2 Axes>"
      ]
     },
     "metadata": {
      "needs_background": "light"
     },
     "output_type": "display_data"
    }
   ],
   "source": [
    "# Generate a mask for the upper triangle\n",
    "mask = np.zeros_like(corr, dtype=np.bool)\n",
    "mask[np.triu_indices_from(mask)] = True\n",
    "\n",
    "# Set up the matplotlib figure\n",
    "f, ax = plt.subplots(figsize=(11, 9))\n",
    "\n",
    "# Generate a custom diverging colormap\n",
    "cmap = sns.diverging_palette(220, 10, as_cmap=True)\n",
    "\n",
    "# Draw the heatmap with the mask and correct aspect ratio\n",
    "sns.heatmap(corr, mask=mask, cmap=cmap, vmax=.3, center=0,\n",
    "            square=True, linewidths=.5, cbar_kws={\"shrink\": .5})\n",
    "plt.show()"
   ]
  },
  {
   "cell_type": "code",
   "execution_count": 24,
   "metadata": {},
   "outputs": [
    {
     "data": {
      "text/plain": [
       "MSSubClass       -0.084284\n",
       "LotArea           0.263843\n",
       "OverallQual       0.790982\n",
       "OverallCond      -0.077856\n",
       "YearBuilt         0.522897\n",
       "YearRemodAdd      0.507101\n",
       "MasVnrArea        0.472614\n",
       "ExterQual         0.682639\n",
       "ExterCond         0.018899\n",
       "BsmtQual          0.585207\n",
       "BsmtCond          0.212607\n",
       "BsmtExposure      0.374696\n",
       "BsmtFinType1      0.304908\n",
       "BsmtFinType2     -0.005323\n",
       "TotalBsmtSF       0.613581\n",
       "HeatingQC         0.427649\n",
       "1stFlrSF          0.605852\n",
       "2ndFlrSF          0.319334\n",
       "LowQualFinSF     -0.025606\n",
       "GrLivArea         0.708624\n",
       "BedroomAbvGr      0.168213\n",
       "KitchenAbvGr     -0.135907\n",
       "TotRmsAbvGrd      0.533723\n",
       "Functional        0.107619\n",
       "Fireplaces        0.466929\n",
       "GarageYrBlt       0.261366\n",
       "GarageFinish      0.549247\n",
       "GarageCars        0.640409\n",
       "GarageArea        0.623431\n",
       "GarageQual        0.273839\n",
       "GarageCond        0.263191\n",
       "WoodDeckSF        0.324413\n",
       "PoolArea          0.092404\n",
       "MiscVal          -0.021190\n",
       "MoSold            0.046432\n",
       "YrSold           -0.028923\n",
       "SalePrice         1.000000\n",
       "TotalPorchSF      0.195739\n",
       "PercentBsmtFin    0.131880\n",
       "TotalBath         0.613005\n",
       "Name: SalePrice, dtype: float64"
      ]
     },
     "execution_count": 24,
     "metadata": {},
     "output_type": "execute_result"
    }
   ],
   "source": [
    "#According to our correlation matrix, there are a lot of variables that are not relevant\n",
    "#To determining a property's price:\n",
    "#MSSubClass, OverallCond, ExterCond, BsmntFinType2, LowQualFinSF, MiscVal, MoSold, YrSold\n",
    "#BedroomAbvGr, KitchenAbvGr, Functional, PoolArea, TotalPorchSF, PercentBsmntFin\n",
    "corr['SalePrice']"
   ]
  },
  {
   "cell_type": "code",
   "execution_count": 25,
   "metadata": {},
   "outputs": [],
   "source": [
    "#We are dropping all columns that have a correlation between -0.2 and +0.2\n",
    "no_corr = ['MSSubClass', \n",
    "           'OverallCond', \n",
    "           'ExterCond', \n",
    "           'BsmtFinType2', \n",
    "           'LowQualFinSF', \n",
    "           'MiscVal', \n",
    "           'MoSold', \n",
    "           'YrSold', \n",
    "           'BedroomAbvGr', \n",
    "           'KitchenAbvGr', \n",
    "           'Functional', \n",
    "           'PoolArea', \n",
    "           'TotalPorchSF', \n",
    "           'PercentBsmtFin']\n",
    "\n",
    "data.drop(columns=no_corr, inplace=True)"
   ]
  },
  {
   "cell_type": "code",
   "execution_count": 26,
   "metadata": {},
   "outputs": [],
   "source": [
    "#Now, we are left with 52 columns\n",
    "#There are still a lot of columns, so let's also take away all variables that have a corr between\n",
    "#-0.3 and +0.3, so we have a more precise method\n",
    "corr = data.corr()"
   ]
  },
  {
   "cell_type": "code",
   "execution_count": 27,
   "metadata": {},
   "outputs": [
    {
     "data": {
      "text/plain": [
       "LotArea         0.263843\n",
       "OverallQual     0.790982\n",
       "YearBuilt       0.522897\n",
       "YearRemodAdd    0.507101\n",
       "MasVnrArea      0.472614\n",
       "ExterQual       0.682639\n",
       "BsmtQual        0.585207\n",
       "BsmtCond        0.212607\n",
       "BsmtExposure    0.374696\n",
       "BsmtFinType1    0.304908\n",
       "TotalBsmtSF     0.613581\n",
       "HeatingQC       0.427649\n",
       "1stFlrSF        0.605852\n",
       "2ndFlrSF        0.319334\n",
       "GrLivArea       0.708624\n",
       "TotRmsAbvGrd    0.533723\n",
       "Fireplaces      0.466929\n",
       "GarageYrBlt     0.261366\n",
       "GarageFinish    0.549247\n",
       "GarageCars      0.640409\n",
       "GarageArea      0.623431\n",
       "GarageQual      0.273839\n",
       "GarageCond      0.263191\n",
       "WoodDeckSF      0.324413\n",
       "SalePrice       1.000000\n",
       "TotalBath       0.613005\n",
       "Name: SalePrice, dtype: float64"
      ]
     },
     "execution_count": 27,
     "metadata": {},
     "output_type": "execute_result"
    }
   ],
   "source": [
    "corr['SalePrice']"
   ]
  },
  {
   "cell_type": "code",
   "execution_count": 28,
   "metadata": {},
   "outputs": [],
   "source": [
    "data.drop(columns=['LotArea', 'BsmtCond', 'GarageYrBlt', 'GarageQual', 'GarageCond'], inplace=True)"
   ]
  },
  {
   "cell_type": "code",
   "execution_count": 29,
   "metadata": {},
   "outputs": [
    {
     "data": {
      "text/plain": [
       "Index(['MSZoning', 'Street', 'LotShape', 'LandContour', 'Utilities',\n",
       "       'LotConfig', 'LandSlope', 'Neighborhood', 'Condition1', 'Condition2',\n",
       "       'BldgType', 'HouseStyle', 'OverallQual', 'YearBuilt', 'YearRemodAdd',\n",
       "       'RoofStyle', 'RoofMatl', 'Exterior1st', 'Exterior2nd', 'MasVnrType',\n",
       "       'MasVnrArea', 'ExterQual', 'Foundation', 'BsmtQual', 'BsmtExposure',\n",
       "       'BsmtFinType1', 'TotalBsmtSF', 'Heating', 'HeatingQC', 'CentralAir',\n",
       "       'Electrical', '1stFlrSF', '2ndFlrSF', 'GrLivArea', 'KitchenQual',\n",
       "       'TotRmsAbvGrd', 'Fireplaces', 'GarageType', 'GarageFinish',\n",
       "       'GarageCars', 'GarageArea', 'PavedDrive', 'WoodDeckSF', 'SaleType',\n",
       "       'SaleCondition', 'SalePrice', 'TotalBath'],\n",
       "      dtype='object')"
      ]
     },
     "execution_count": 29,
     "metadata": {},
     "output_type": "execute_result"
    }
   ],
   "source": [
    "data.columns"
   ]
  },
  {
   "cell_type": "code",
   "execution_count": 30,
   "metadata": {},
   "outputs": [
    {
     "name": "stdout",
     "output_type": "stream",
     "text": [
      "Pave    1454\n",
      "Grvl       6\n",
      "Name: Street, dtype: int64\n",
      "Norm      1260\n",
      "Feedr       81\n",
      "Artery      48\n",
      "RRAn        26\n",
      "PosN        19\n",
      "RRAe        11\n",
      "PosA         8\n",
      "RRNn         5\n",
      "RRNe         2\n",
      "Name: Condition1, dtype: int64\n",
      "AllPub    1459\n",
      "NoSeWa       1\n",
      "Name: Utilities, dtype: int64\n",
      "Norm      1445\n",
      "Feedr        6\n",
      "Artery       2\n",
      "PosN         2\n",
      "RRNn         2\n",
      "RRAn         1\n",
      "PosA         1\n",
      "RRAe         1\n",
      "Name: Condition2, dtype: int64\n",
      "CompShg    1434\n",
      "Tar&Grv      11\n",
      "WdShngl       6\n",
      "WdShake       5\n",
      "Membran       1\n",
      "Roll          1\n",
      "Metal         1\n",
      "ClyTile       1\n",
      "Name: RoofMatl, dtype: int64\n",
      "GasA     1428\n",
      "GasW       18\n",
      "Grav        7\n",
      "Wall        4\n",
      "OthW        2\n",
      "Floor       1\n",
      "Name: Heating, dtype: int64\n",
      "Y    1365\n",
      "N      95\n",
      "Name: CentralAir, dtype: int64\n",
      "SBrkr    1334\n",
      "FuseA      94\n",
      "FuseF      27\n",
      "FuseP       3\n",
      "NA          1\n",
      "Mix         1\n",
      "Name: Electrical, dtype: int64\n",
      "Y    1340\n",
      "N      90\n",
      "P      30\n",
      "Name: PavedDrive, dtype: int64\n"
     ]
    }
   ],
   "source": [
    "#Before we proceed to creating the dummies, let's check the variability of the remaining\n",
    "#categorical variables\n",
    "#Just in a first look, there are 8 variables that have almost no variabilty. We will eliminate them.\n",
    "print(data['Street'].value_counts())\n",
    "print(data['Condition1'].value_counts())\n",
    "print(data['Utilities'].value_counts())\n",
    "print(data['Condition2'].value_counts())\n",
    "print(data['RoofMatl'].value_counts())\n",
    "print(data['Heating'].value_counts())\n",
    "print(data['CentralAir'].value_counts())\n",
    "print(data['Electrical'].value_counts())\n",
    "print(data['PavedDrive'].value_counts())"
   ]
  },
  {
   "cell_type": "code",
   "execution_count": 31,
   "metadata": {},
   "outputs": [],
   "source": [
    "equals = ['Street', 'Condition1', 'Condition2', 'RoofMatl', \n",
    "          'Heating', 'CentralAir', 'Electrical', 'PavedDrive', 'Utilities']\n",
    "\n",
    "#Applied labeling function to KitchenQual, as I noticed I forgot to include it in my previous run\n",
    "data['KitchenQual'] = data['KitchenQual'].apply(lambda x: labeling(x, cut_1))\n",
    "data.drop(columns=equals, inplace=True)"
   ]
  },
  {
   "cell_type": "code",
   "execution_count": 32,
   "metadata": {},
   "outputs": [
    {
     "data": {
      "text/plain": [
       "(1460, 38)"
      ]
     },
     "execution_count": 32,
     "metadata": {},
     "output_type": "execute_result"
    }
   ],
   "source": [
    "#After all this process, we are left with 38 columns out of the 80 we started with.\n",
    "#It is good, but we still have not finished cleaning the dataset!\n",
    "#There are still 17 categorical variables that have had no treatment\n",
    "#Since they do not imply a scale, the best would be to use the method get_dummies\n",
    "#So that every category will become a binary variable\n",
    "data.shape"
   ]
  },
  {
   "cell_type": "code",
   "execution_count": 33,
   "metadata": {},
   "outputs": [],
   "source": [
    "data = pd.get_dummies(data)"
   ]
  },
  {
   "cell_type": "code",
   "execution_count": 34,
   "metadata": {},
   "outputs": [
    {
     "data": {
      "text/plain": [
       "(1460, 150)"
      ]
     },
     "execution_count": 34,
     "metadata": {},
     "output_type": "execute_result"
    }
   ],
   "source": [
    "#Now we have 150 columns!!\n",
    "data.shape"
   ]
  },
  {
   "cell_type": "code",
   "execution_count": 35,
   "metadata": {},
   "outputs": [
    {
     "data": {
      "text/plain": [
       "{'OverallQual': 0.7909816005838047,\n",
       " 'YearBuilt': 0.5228973328794967,\n",
       " 'YearRemodAdd': 0.5071009671113867,\n",
       " 'MasVnrArea': 0.47261449900457725,\n",
       " 'ExterQual': 0.6826392416562591,\n",
       " 'BsmtQual': 0.5852071991725148,\n",
       " 'BsmtExposure': 0.3746962210008844,\n",
       " 'BsmtFinType1': 0.3049078730706334,\n",
       " 'TotalBsmtSF': 0.6135805515591944,\n",
       " 'HeatingQC': 0.4276487073988049,\n",
       " '1stFlrSF': 0.6058521846919166,\n",
       " '2ndFlrSF': 0.31933380283206614,\n",
       " 'GrLivArea': 0.7086244776126511,\n",
       " 'KitchenQual': 0.6595997207286572,\n",
       " 'TotRmsAbvGrd': 0.5337231555820238,\n",
       " 'Fireplaces': 0.4669288367515242,\n",
       " 'GarageFinish': 0.5492467563332154,\n",
       " 'GarageCars': 0.640409197258349,\n",
       " 'GarageArea': 0.6234314389183598,\n",
       " 'WoodDeckSF': 0.32441344456813076,\n",
       " 'TotalBath': 0.6130046086468899,\n",
       " 'MSZoning_C (all)': -0.11125658290808499,\n",
       " 'MSZoning_FV': 0.08994971967036147,\n",
       " 'MSZoning_RH': -0.06542929310102559,\n",
       " 'MSZoning_RL': 0.24506340389709183,\n",
       " 'MSZoning_RM': -0.2880651218971229,\n",
       " 'LotShape_IR1': 0.22328392470489936,\n",
       " 'LotShape_IR2': 0.12609608820325424,\n",
       " 'LotShape_IR3': 0.036720475499535554,\n",
       " 'LotShape_Reg': -0.2676717602887954,\n",
       " 'LandContour_Bnk': -0.10112449060458722,\n",
       " 'LandContour_HLS': 0.12001380186770777,\n",
       " 'LandContour_Low': 0.04552825032749539,\n",
       " 'LandContour_Lvl': -0.02754457933083911,\n",
       " 'LotConfig_Corner': 0.004144823294072492,\n",
       " 'LotConfig_CulDSac': 0.1418175365252596,\n",
       " 'LotConfig_FR2': -0.0068588907827759355,\n",
       " 'LotConfig_FR3': 0.018185562475503233,\n",
       " 'LotConfig_Inside': -0.08053786914590606,\n",
       " 'LandSlope_Gtl': -0.051116149337051664,\n",
       " 'LandSlope_Mod': 0.042981159944370934,\n",
       " 'LandSlope_Sev': 0.027997864142057176,\n",
       " 'Neighborhood_Blmngtn': 0.01906564951350564,\n",
       " 'Neighborhood_Blueste': -0.020250412762982277,\n",
       " 'Neighborhood_BrDale': -0.10130283618167184,\n",
       " 'Neighborhood_BrkSide': -0.14364786671580496,\n",
       " 'Neighborhood_ClearCr': 0.055718310532912374,\n",
       " 'Neighborhood_CollgCr': 0.0726259931270773,\n",
       " 'Neighborhood_Crawfor': 0.07115960252664767,\n",
       " 'Neighborhood_Edwards': -0.17994896448338463,\n",
       " 'Neighborhood_Gilbert': 0.035939622294684025,\n",
       " 'Neighborhood_IDOTRR': -0.16405585189091604,\n",
       " 'Neighborhood_MeadowV': -0.11254415474600003,\n",
       " 'Neighborhood_Mitchel': -0.057845054186763285,\n",
       " 'Neighborhood_NAmes': -0.18851259699796893,\n",
       " 'Neighborhood_NPkVill': -0.03790973990405031,\n",
       " 'Neighborhood_NWAmes': 0.023482773020255355,\n",
       " 'Neighborhood_NoRidge': 0.33042362576535905,\n",
       " 'Neighborhood_NridgHt': 0.40214859817526666,\n",
       " 'Neighborhood_OldTown': -0.19218879886097048,\n",
       " 'Neighborhood_SWISU': -0.06370549244437913,\n",
       " 'Neighborhood_Sawyer': -0.12839406550544274,\n",
       " 'Neighborhood_SawyerW': 0.014560153318488835,\n",
       " 'Neighborhood_Somerst': 0.1400579963436243,\n",
       " 'Neighborhood_StoneBr': 0.21536272276938662,\n",
       " 'Neighborhood_Timber': 0.1262363076697121,\n",
       " 'Neighborhood_Veenker': 0.06347063934055344,\n",
       " 'BldgType_1Fam': 0.13748324869515327,\n",
       " 'BldgType_2fmCon': -0.09734830194128331,\n",
       " 'BldgType_Duplex': -0.114654830022284,\n",
       " 'BldgType_Twnhs': -0.09873019861048951,\n",
       " 'BldgType_TwnhsE': 0.0038043834533088893,\n",
       " 'HouseStyle_1.5Fin': -0.16346607100995758,\n",
       " 'HouseStyle_1.5Unf': -0.08768640584636365,\n",
       " 'HouseStyle_1Story': -0.06181110053588836,\n",
       " 'HouseStyle_2.5Fin': 0.036525722375987446,\n",
       " 'HouseStyle_2.5Unf': -0.025855674595624382,\n",
       " 'HouseStyle_2Story': 0.2428800272685404,\n",
       " 'HouseStyle_SFoyer': -0.09308987468225105,\n",
       " 'HouseStyle_SLvl': -0.03864543349361034,\n",
       " 'RoofStyle_Flat': 0.016433478287942123,\n",
       " 'RoofStyle_Gable': -0.22474411621309415,\n",
       " 'RoofStyle_Gambrel': -0.035121434493649024,\n",
       " 'RoofStyle_Hip': 0.23589691866460097,\n",
       " 'RoofStyle_Mansard': -0.0003083190938173009,\n",
       " 'RoofStyle_Shed': 0.020557102562781857,\n",
       " 'Exterior1st_AsbShng': -0.1091258216420074,\n",
       " 'Exterior1st_AsphShn': -0.026676602032987568,\n",
       " 'Exterior1st_BrkComm': -0.05126412441056307,\n",
       " 'Exterior1st_BrkFace': 0.032371390691589993,\n",
       " 'Exterior1st_CBlock': -0.02502829458155547,\n",
       " 'Exterior1st_CemntBd': 0.1334917623503356,\n",
       " 'Exterior1st_HdBoard': -0.09514764583955282,\n",
       " 'Exterior1st_ImStucc': 0.026728559393403007,\n",
       " 'Exterior1st_MetalSd': -0.16706804265413477,\n",
       " 'Exterior1st_Plywood': -0.01771925649284015,\n",
       " 'Exterior1st_Stone': 0.036180551287502985,\n",
       " 'Exterior1st_Stucco': -0.029802258156837767,\n",
       " 'Exterior1st_VinylSd': 0.30500880247762746,\n",
       " 'Exterior1st_Wd Sdng': -0.15861908165107155,\n",
       " 'Exterior1st_WdShing': -0.051317406143120546,\n",
       " 'Exterior2nd_AsbShng': -0.09922021939101275,\n",
       " 'Exterior2nd_AsphShn': -0.024524407793441318,\n",
       " 'Exterior2nd_Brk Cmn': -0.04737690972154203,\n",
       " 'Exterior2nd_BrkFace': 0.024758995691036425,\n",
       " 'Exterior2nd_CBlock': -0.02502829458155547,\n",
       " 'Exterior2nd_CmentBd': 0.12818316002692517,\n",
       " 'Exterior2nd_HdBoard': -0.06786360534380863,\n",
       " 'Exterior2nd_ImStucc': 0.0744011189529748,\n",
       " 'Exterior2nd_MetalSd': -0.16238867058442932,\n",
       " 'Exterior2nd_Other': 0.04551926433972633,\n",
       " 'Exterior2nd_Plywood': -0.05294086897596985,\n",
       " 'Exterior2nd_Stone': -0.016753527668945715,\n",
       " 'Exterior2nd_Stucco': -0.04241569231469932,\n",
       " 'Exterior2nd_VinylSd': 0.3063888808714848,\n",
       " 'Exterior2nd_Wd Sdng': -0.1618004951731797,\n",
       " 'Exterior2nd_Wd Shng': -0.04032943564551994,\n",
       " 'MasVnrType_BrkCmn': -0.044393863680548006,\n",
       " 'MasVnrType_BrkFace': 0.1981912062006368,\n",
       " 'MasVnrType_None': -0.367456365193253,\n",
       " 'MasVnrType_Stone': 0.3304756465434077,\n",
       " 'Foundation_BrkTil': -0.20411736578270182,\n",
       " 'Foundation_CBlock': -0.34326299944465,\n",
       " 'Foundation_PConc': 0.4977337525869438,\n",
       " 'Foundation_Slab': -0.11974016023648001,\n",
       " 'Foundation_Stone': -0.01210263077585328,\n",
       " 'Foundation_Wood': 0.0027114775829150265,\n",
       " 'GarageType_2Types': -0.02397376065437426,\n",
       " 'GarageType_Attchd': 0.3359606472095476,\n",
       " 'GarageType_Basment': -0.029424968522137,\n",
       " 'GarageType_BuiltIn': 0.23544865016730615,\n",
       " 'GarageType_CarPort': -0.07037062648692732,\n",
       " 'GarageType_Detchd': -0.3541407884127012,\n",
       " 'GarageType_NA': -0.2368317118200457,\n",
       " 'SaleType_COD': -0.08104671129791155,\n",
       " 'SaleType_CWD': 0.019588066467574435,\n",
       " 'SaleType_Con': 0.041357276088828436,\n",
       " 'SaleType_ConLD': -0.041790840641079345,\n",
       " 'SaleType_ConLI': 0.014371054765972273,\n",
       " 'SaleType_ConLw': -0.027475125928901712,\n",
       " 'SaleType_New': 0.35750940508319695,\n",
       " 'SaleType_Oth': -0.034894994917515354,\n",
       " 'SaleType_WD': -0.2425975172729481,\n",
       " 'SaleCondition_Abnorml': -0.11806923061460167,\n",
       " 'SaleCondition_AdjLand': -0.050685633558671804,\n",
       " 'SaleCondition_Alloca': -0.015525374015420043,\n",
       " 'SaleCondition_Family': -0.04648019603234449,\n",
       " 'SaleCondition_Normal': -0.15398979048536723,\n",
       " 'SaleCondition_Partial': 0.35205985467143425}"
      ]
     },
     "execution_count": 35,
     "metadata": {},
     "output_type": "execute_result"
    }
   ],
   "source": [
    "#Creating a Dictionary with all the correlations in the dataframe, against the 'SalePrice' column\n",
    "columnas = list(data.columns)\n",
    "correlaciones = {}\n",
    "for el in columnas:\n",
    "    if el != 'SalePrice':\n",
    "        correlaciones[el] = data[['SalePrice', el]].corr()['SalePrice'][el]\n",
    "        \n",
    "correlaciones"
   ]
  },
  {
   "cell_type": "code",
   "execution_count": 36,
   "metadata": {},
   "outputs": [],
   "source": [
    "#Now, for every column in the dataframe, if the correlation is between 0.3 and -0.3,\n",
    "#we will eliminate the column\n",
    "\n",
    "for el in columnas:\n",
    "    if el != 'SalePrice' and correlaciones[el] < 0.3 and correlaciones[el] > -0.3:\n",
    "        data.drop(columns=el, inplace=True)"
   ]
  },
  {
   "cell_type": "code",
   "execution_count": 37,
   "metadata": {},
   "outputs": [
    {
     "data": {
      "text/plain": [
       "(1460, 34)"
      ]
     },
     "execution_count": 37,
     "metadata": {},
     "output_type": "execute_result"
    }
   ],
   "source": [
    "#Now we are back to having 34 columns!! Yay! :D\n",
    "data.shape"
   ]
  },
  {
   "cell_type": "code",
   "execution_count": 38,
   "metadata": {},
   "outputs": [
    {
     "data": {
      "text/plain": [
       "Index(['OverallQual', 'YearBuilt', 'YearRemodAdd', 'MasVnrArea', 'ExterQual',\n",
       "       'BsmtQual', 'BsmtExposure', 'BsmtFinType1', 'TotalBsmtSF', 'HeatingQC',\n",
       "       '1stFlrSF', '2ndFlrSF', 'GrLivArea', 'KitchenQual', 'TotRmsAbvGrd',\n",
       "       'Fireplaces', 'GarageFinish', 'GarageCars', 'GarageArea', 'WoodDeckSF',\n",
       "       'SalePrice', 'TotalBath', 'Neighborhood_NoRidge',\n",
       "       'Neighborhood_NridgHt', 'Exterior1st_VinylSd', 'Exterior2nd_VinylSd',\n",
       "       'MasVnrType_None', 'MasVnrType_Stone', 'Foundation_CBlock',\n",
       "       'Foundation_PConc', 'GarageType_Attchd', 'GarageType_Detchd',\n",
       "       'SaleType_New', 'SaleCondition_Partial'],\n",
       "      dtype='object')"
      ]
     },
     "execution_count": 38,
     "metadata": {},
     "output_type": "execute_result"
    }
   ],
   "source": [
    "#We can see that in the columns we have left there is a mix of parts of \n",
    "#most original variables we had in the first place, but only the ones that impact the sale price\n",
    "#in some way\n",
    "data.columns"
   ]
  },
  {
   "cell_type": "code",
   "execution_count": 39,
   "metadata": {},
   "outputs": [
    {
     "data": {
      "image/png": "[encoded data removed]",
      "text/plain": [
       "<Figure size 792x648 with 2 Axes>"
      ]
     },
     "metadata": {
      "needs_background": "light"
     },
     "output_type": "display_data"
    }
   ],
   "source": [
    "#Let's make a new visualization to see this partial result\n",
    "corr = data.corr()\n",
    "\n",
    "# Generate a mask for the upper triangle\n",
    "mask = np.zeros_like(corr, dtype=np.bool)\n",
    "mask[np.triu_indices_from(mask)] = True\n",
    "\n",
    "# Set up the matplotlib figure\n",
    "f, ax = plt.subplots(figsize=(11, 9))\n",
    "\n",
    "# Generate a custom diverging colormap\n",
    "cmap = sns.diverging_palette(220, 10, as_cmap=True)\n",
    "\n",
    "# Draw the heatmap with the mask and correct aspect ratio\n",
    "sns.heatmap(corr, mask=mask, cmap=cmap, vmax=1, center=0,\n",
    "            square=True, linewidths=.5, cbar_kws={\"shrink\": .5})\n",
    "plt.show()"
   ]
  },
  {
   "cell_type": "code",
   "execution_count": 40,
   "metadata": {},
   "outputs": [],
   "source": [
    "#Much better! Now we are only missing 1 step before we can reduce dimensions\n",
    "#We have two variables with years (YearBuilt and YearRemodAdd). \n",
    "#Since we will not do timeseries analysis, let's transform the variables to get the number of\n",
    "#years insted of the exact 4-digit year\n",
    "\n",
    "data['YearBuilt'] = 2019 - data['YearBuilt']\n",
    "data['YearRemodAdd'] = 2019 - data['YearRemodAdd']"
   ]
  },
  {
   "cell_type": "code",
   "execution_count": 41,
   "metadata": {},
   "outputs": [
    {
     "data": {
      "text/plain": [
       "OverallQual    0.790982\n",
       "GrLivArea      0.708624\n",
       "ExterQual      0.682639\n",
       "KitchenQual    0.659600\n",
       "GarageCars     0.640409\n",
       "GarageArea     0.623431\n",
       "TotalBsmtSF    0.613581\n",
       "TotalBath      0.613005\n",
       "1stFlrSF       0.605852\n",
       "BsmtQual       0.585207\n",
       "Name: SalePrice, dtype: float64"
      ]
     },
     "execution_count": 41,
     "metadata": {},
     "output_type": "execute_result"
    }
   ],
   "source": [
    "#Let's check what are the variables that are most related to SalePrice and plot them\n",
    "corr['SalePrice'].sort_values(ascending=False).head(11)[1:]"
   ]
  },
  {
   "cell_type": "code",
   "execution_count": 42,
   "metadata": {},
   "outputs": [
    {
     "data": {
      "text/plain": [
       "<matplotlib.collections.PathCollection at 0x1100578d0>"
      ]
     },
     "execution_count": 42,
     "metadata": {},
     "output_type": "execute_result"
    },
    {
     "data": {
      "image/png": "[encoded data removed]",
      "text/plain": [
       "<Figure size 1080x576 with 10 Axes>"
      ]
     },
     "metadata": {},
     "output_type": "display_data"
    }
   ],
   "source": [
    "sns.set(style='white', palette='pastel', rc={'figure.figsize':(15,8)})\n",
    "\n",
    "f, [[ax1, ax2, ax3, ax4, ax5], [ax6, ax7, ax8, ax9, ax10]] = plt.subplots(2,5, sharey=True)\n",
    "\n",
    "ax1.scatter(data.OverallQual, data.SalePrice)\n",
    "ax2.scatter(data.GrLivArea, data.SalePrice)\n",
    "ax3.scatter(data.ExterQual, data.SalePrice)\n",
    "ax4.scatter(data.KitchenQual, data.SalePrice)\n",
    "ax5.scatter(data.GarageCars, data.SalePrice)\n",
    "\n",
    "ax6.scatter(data.GarageArea, data.SalePrice)\n",
    "ax7.scatter(data.TotalBsmtSF, data.SalePrice)\n",
    "ax8.scatter(data.TotalBath, data.SalePrice)\n",
    "ax9.scatter(data['1stFlrSF'], data.SalePrice)\n",
    "ax10.scatter(data.BsmtQual, data.SalePrice)"
   ]
  },
  {
   "cell_type": "markdown",
   "metadata": {},
   "source": [
    "## 3. Regression and PCA\n",
    "\n",
    "**Steps**\n",
    "- Regression with all features\n",
    "- PCA\n",
    "- Regression with PCA factors\n",
    "- Regression with less features"
   ]
  },
  {
   "cell_type": "code",
   "execution_count": 43,
   "metadata": {},
   "outputs": [],
   "source": [
    "#We will now practice our regression skills\n",
    "#Let's split the data, removing the SalePrice\n",
    "X = data.drop(columns='SalePrice')\n",
    "y = data['SalePrice']"
   ]
  },
  {
   "cell_type": "code",
   "execution_count": 45,
   "metadata": {},
   "outputs": [
    {
     "name": "stdout",
     "output_type": "stream",
     "text": [
      "0.8151734707537033\n",
      "0.8610896255936294\n"
     ]
    }
   ],
   "source": [
    "#Let me test first how my model works for my data as is\n",
    "X_train, X_test, y_train, y_test = train_test_split(X, y, random_state=42)\n",
    "linreg = LinearRegression()\n",
    "linreg.fit(X_train, y_train)\n",
    "\n",
    "#Not bad but also not optimum... I have an R^2 of 0.86 for the test sample\n",
    "#Let's try reducing the dimensions to see if we have better results\n",
    "print(linreg.score(X_train, y_train))\n",
    "print(linreg.score(X_test, y_test))"
   ]
  },
  {
   "cell_type": "code",
   "execution_count": 46,
   "metadata": {},
   "outputs": [
    {
     "data": {
      "text/plain": [
       "973110103.2927918"
      ]
     },
     "execution_count": 46,
     "metadata": {},
     "output_type": "execute_result"
    }
   ],
   "source": [
    "#Very high MSE!\n",
    "y_hat = linreg.predict(X_test)\n",
    "mean_squared_error(y_test, y_hat)"
   ]
  },
  {
   "cell_type": "code",
   "execution_count": 72,
   "metadata": {},
   "outputs": [
    {
     "data": {
      "text/plain": [
       "ncomp\n",
       "0     0.000000\n",
       "1     0.328996\n",
       "2     0.418202\n",
       "3     0.495055\n",
       "4     0.554719\n",
       "5     0.595492\n",
       "6     0.634697\n",
       "7     0.668655\n",
       "8     0.700228\n",
       "9     0.729911\n",
       "10    0.758595\n",
       "11    0.784291\n",
       "12    0.806045\n",
       "Name: rsquare, dtype: float64"
      ]
     },
     "execution_count": 72,
     "metadata": {},
     "output_type": "execute_result"
    }
   ],
   "source": [
    "#Reducing to 10 components makes us still have 80% of the information\n",
    "X_reduced = PCA(X, ncomp=12)\n",
    "X_reduced.rsquare"
   ]
  },
  {
   "cell_type": "code",
   "execution_count": 73,
   "metadata": {},
   "outputs": [
    {
     "data": {
      "text/plain": [
       "Index(['comp_00', 'comp_01', 'comp_02', 'comp_03', 'comp_04', 'comp_05',\n",
       "       'comp_06', 'comp_07', 'comp_08', 'comp_09', 'comp_10', 'comp_11'],\n",
       "      dtype='object')"
      ]
     },
     "execution_count": 73,
     "metadata": {},
     "output_type": "execute_result"
    }
   ],
   "source": [
    "#Let's bring the factors to a dataframe, so we can use them in our regression\n",
    "X_components = X_reduced.factors\n",
    "X_components.columns"
   ]
  },
  {
   "cell_type": "code",
   "execution_count": 74,
   "metadata": {},
   "outputs": [],
   "source": [
    "X_train, X_test, y_train, y_test = train_test_split(X_components, y, random_state=42)"
   ]
  },
  {
   "cell_type": "code",
   "execution_count": 75,
   "metadata": {},
   "outputs": [
    {
     "data": {
      "text/plain": [
       "LinearRegression(copy_X=True, fit_intercept=True, n_jobs=None,\n",
       "         normalize=False)"
      ]
     },
     "execution_count": 75,
     "metadata": {},
     "output_type": "execute_result"
    }
   ],
   "source": [
    "linreg = LinearRegression()\n",
    "linreg.fit(X_train, y_train)"
   ]
  },
  {
   "cell_type": "code",
   "execution_count": 76,
   "metadata": {},
   "outputs": [
    {
     "name": "stdout",
     "output_type": "stream",
     "text": [
      "0.7942917244606398\n",
      "0.8407442470289663\n"
     ]
    }
   ],
   "source": [
    "#The results do not vary based on the PCA\n",
    "#PCA gives us better performance without losing on the results\n",
    "print(linreg.score(X_train, y_train))\n",
    "print(linreg.score(X_test, y_test))"
   ]
  },
  {
   "cell_type": "code",
   "execution_count": 77,
   "metadata": {},
   "outputs": [
    {
     "data": {
      "text/plain": [
       "1115635767.9250965"
      ]
     },
     "execution_count": 77,
     "metadata": {},
     "output_type": "execute_result"
    }
   ],
   "source": [
    "#Now let's compute our mean squared error\n",
    "y_hat = linreg.predict(X_test)\n",
    "\n",
    "#It is super high, we must have over-fitting :(\n",
    "mean_squared_error(y_test, y_hat)"
   ]
  },
  {
   "cell_type": "code",
   "execution_count": 78,
   "metadata": {},
   "outputs": [],
   "source": [
    "#As a last try, what if we try regression only with those variables that are highly correlated\n",
    "#to SalePrice?\n",
    "high_corr = list(corr['SalePrice'].sort_values(ascending=False).head(15)[1:].index)\n",
    "X_high = data[high_corr]"
   ]
  },
  {
   "cell_type": "code",
   "execution_count": 79,
   "metadata": {},
   "outputs": [],
   "source": [
    "X_train, X_test, y_train, y_test = train_test_split(X_high, y, random_state=42)"
   ]
  },
  {
   "cell_type": "code",
   "execution_count": 80,
   "metadata": {},
   "outputs": [
    {
     "data": {
      "text/plain": [
       "LinearRegression(copy_X=True, fit_intercept=True, n_jobs=None,\n",
       "         normalize=False)"
      ]
     },
     "execution_count": 80,
     "metadata": {},
     "output_type": "execute_result"
    }
   ],
   "source": [
    "linreg = LinearRegression()\n",
    "linreg.fit(X_train, y_train)"
   ]
  },
  {
   "cell_type": "code",
   "execution_count": 81,
   "metadata": {},
   "outputs": [
    {
     "name": "stdout",
     "output_type": "stream",
     "text": [
      "0.779924121189908\n",
      "0.8168248304704792\n"
     ]
    }
   ],
   "source": [
    "#If I take off variables directly I lose more than performing a PCA with all the variables.\n",
    "print(linreg.score(X_train, y_train))\n",
    "print(linreg.score(X_test, y_test))"
   ]
  },
  {
   "cell_type": "code",
   "execution_count": 82,
   "metadata": {},
   "outputs": [
    {
     "data": {
      "text/plain": [
       "1283198673.2689424"
      ]
     },
     "execution_count": 82,
     "metadata": {},
     "output_type": "execute_result"
    }
   ],
   "source": [
    "#Also very large MSE\n",
    "y_hat = linreg.predict(X_test)\n",
    "mean_squared_error(y_test, y_hat)"
   ]
  },
  {
   "cell_type": "code",
   "execution_count": null,
   "metadata": {},
   "outputs": [],
   "source": []
  }
 ],
 "metadata": {
  "kernelspec": {
   "display_name": "Python 3",
   "language": "python",
   "name": "python3"
  },
  "language_info": {
   "codemirror_mode": {
    "name": "ipython",
    "version": 3
   },
   "file_extension": ".py",
   "mimetype": "text/x-python",
   "name": "python",
   "nbconvert_exporter": "python",
   "pygments_lexer": "ipython3",
   "version": "3.7.3"
  }
 },
 "nbformat": 4,
 "nbformat_minor": 2
}
