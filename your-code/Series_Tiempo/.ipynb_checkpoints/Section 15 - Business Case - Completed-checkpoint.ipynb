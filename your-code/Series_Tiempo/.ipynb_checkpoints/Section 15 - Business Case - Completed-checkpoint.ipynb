{
 "cells": [
  {
   "cell_type": "markdown",
   "metadata": {},
   "source": [
    "## Importing the Packages"
   ]
  },
  {
   "cell_type": "code",
   "execution_count": 1,
   "metadata": {},
   "outputs": [
    {
     "name": "stderr",
     "output_type": "stream",
     "text": [
      "c:\\users\\ghect\\appdata\\local\\programs\\python\\python38-32\\lib\\site-packages\\pmdarima\\__init__.py:107: UserWarning: pmdarima support for 32-bit systems is ending with Python 3.10.Your system is not guaranteed to work going forward\n",
      "  _warnings.warn(\n"
     ]
    },
    {
     "ename": "ModuleNotFoundError",
     "evalue": "No module named 'arch'",
     "output_type": "error",
     "traceback": [
      "\u001b[1;31m---------------------------------------------------------------------------\u001b[0m",
      "\u001b[1;31mModuleNotFoundError\u001b[0m                       Traceback (most recent call last)",
      "\u001b[1;32m~\\AppData\\Local\\Temp/ipykernel_7540/510146245.py\u001b[0m in \u001b[0;36m<module>\u001b[1;34m\u001b[0m\n\u001b[0;32m     13\u001b[0m \u001b[1;32mfrom\u001b[0m \u001b[0mpmdarima\u001b[0m\u001b[1;33m.\u001b[0m\u001b[0marima\u001b[0m \u001b[1;32mimport\u001b[0m \u001b[0mOCSBTest\u001b[0m\u001b[1;33m\u001b[0m\u001b[1;33m\u001b[0m\u001b[0m\n\u001b[0;32m     14\u001b[0m \u001b[1;32mfrom\u001b[0m \u001b[0mstatsmodels\u001b[0m\u001b[1;33m.\u001b[0m\u001b[0mtsa\u001b[0m\u001b[1;33m.\u001b[0m\u001b[0marima_model\u001b[0m \u001b[1;32mimport\u001b[0m \u001b[0mARIMA\u001b[0m\u001b[1;33m\u001b[0m\u001b[1;33m\u001b[0m\u001b[0m\n\u001b[1;32m---> 15\u001b[1;33m \u001b[1;32mfrom\u001b[0m \u001b[0march\u001b[0m \u001b[1;32mimport\u001b[0m \u001b[0march_model\u001b[0m\u001b[1;33m\u001b[0m\u001b[1;33m\u001b[0m\u001b[0m\n\u001b[0m\u001b[0;32m     16\u001b[0m \u001b[1;32mimport\u001b[0m \u001b[0mseaborn\u001b[0m \u001b[1;32mas\u001b[0m \u001b[0msns\u001b[0m\u001b[1;33m\u001b[0m\u001b[1;33m\u001b[0m\u001b[0m\n\u001b[0;32m     17\u001b[0m \u001b[1;32mimport\u001b[0m \u001b[0myfinance\u001b[0m\u001b[1;33m\u001b[0m\u001b[1;33m\u001b[0m\u001b[0m\n",
      "\u001b[1;31mModuleNotFoundError\u001b[0m: No module named 'arch'"
     ]
    }
   ],
   "source": [
    "import numpy as np\n",
    "import pandas as pd\n",
    "import scipy\n",
    "import statsmodels.api as sm\n",
    "import matplotlib.pyplot as plt\n",
    "import seaborn as sns\n",
    "import sklearn\n",
    "import statsmodels.graphics.tsaplots as sgt\n",
    "import statsmodels.tsa.stattools as sts\n",
    "from statsmodels.tsa.arima_model import ARIMA\n",
    "from statsmodels.tsa.statespace.sarimax import SARIMAX\n",
    "from pmdarima.arima import auto_arima\n",
    "from pmdarima.arima import OCSBTest \n",
    "from statsmodels.tsa.arima_model import ARIMA\n",
    "from arch import arch_model\n",
    "import seaborn as sns\n",
    "import yfinance\n",
    "import warnings\n",
    "warnings.filterwarnings(\"ignore\")\n",
    "sns.set()"
   ]
  },
  {
   "cell_type": "markdown",
   "metadata": {},
   "source": [
    "## Importing the Data"
   ]
  },
  {
   "cell_type": "code",
   "execution_count": null,
   "metadata": {},
   "outputs": [],
   "source": [
    "raw_data = yfinance.download (tickers = \"VOW3.DE, PAH3.DE, BMW.DE\", interval = \"1d\", group_by = 'ticker',\n",
    "                              auto_adjust = True, treads = True)"
   ]
  },
  {
   "cell_type": "code",
   "execution_count": null,
   "metadata": {},
   "outputs": [],
   "source": [
    "df = raw_data.copy()"
   ]
  },
  {
   "cell_type": "markdown",
   "metadata": {},
   "source": [
    "## Defining Key Dates"
   ]
  },
  {
   "cell_type": "code",
   "execution_count": null,
   "metadata": {},
   "outputs": [],
   "source": [
    "# Starting Date\n",
    "start_date = \"2009-04-05\" \n",
    "\n",
    "# First Official Announcement - 49.9%\n",
    "ann_1 = \"2009-12-09\" \n",
    "\n",
    "# Second Official Announcement - 51.1%\n",
    "ann_2 = \"2012-07-05\" \n",
    "\n",
    "#Ending Date\n",
    "end_date = \"2014-01-01\"\n",
    "\n",
    "# Dieselgate\n",
    "d_gate = '2015-09-20' "
   ]
  },
  {
   "cell_type": "markdown",
   "metadata": {},
   "source": [
    "## Pre-processing the Data"
   ]
  },
  {
   "cell_type": "code",
   "execution_count": null,
   "metadata": {},
   "outputs": [],
   "source": [
    "# Extracting Closing Prices\n",
    "df['vol'] = df['VOW3.DE'].Close\n",
    "df['por'] = df['PAH3.DE'].Close\n",
    "df['bmw'] = df['BMW.DE'].Close\n",
    "\n",
    "# Creating Returns\n",
    "df['ret_vol'] = df['vol'].pct_change(1).mul(100)\n",
    "df['ret_por'] = df['por'].pct_change(1).mul(100)\n",
    "df['ret_bmw'] = df['bmw'].pct_change(1).mul(100)\n",
    "\n",
    "# Creating Squared Returns\n",
    "df['sq_vol'] = df.ret_vol.mul(df.ret_vol)\n",
    "df['sq_por'] = df.ret_por.mul(df.ret_por)\n",
    "df['sq_bmw'] = df.ret_bmw.mul(df.ret_bmw)\n",
    "\n",
    "# Extracting Volume\n",
    "df['q_vol'] = df['VOW3.DE'].Volume\n",
    "df['q_por'] = df['PAH3.DE'].Volume\n",
    "df['q_bmw'] = df['BMW.DE'].Volume"
   ]
  },
  {
   "cell_type": "code",
   "execution_count": null,
   "metadata": {},
   "outputs": [],
   "source": [
    "# Assigning the Frequency and Filling NA Values\n",
    "df = df.asfreq('b')\n",
    "df = df.fillna(method='bfill')"
   ]
  },
  {
   "cell_type": "code",
   "execution_count": null,
   "metadata": {},
   "outputs": [],
   "source": [
    "# Removing Surplus Data\n",
    "del df['VOW3.DE']\n",
    "del df['PAH3.DE']\n",
    "del df['BMW.DE']"
   ]
  },
  {
   "cell_type": "markdown",
   "metadata": {},
   "source": [
    "## Plotting the Prices"
   ]
  },
  {
   "cell_type": "code",
   "execution_count": null,
   "metadata": {},
   "outputs": [],
   "source": [
    "df['vol'][start_date:end_date].plot(figsize= (20,8), color = \"blue\")\n",
    "df['por'][start_date:end_date].plot(color = \"green\")\n",
    "df['bmw'][start_date:end_date].plot(color = \"gold\")\n",
    "plt.show()"
   ]
  },
  {
   "cell_type": "code",
   "execution_count": null,
   "metadata": {},
   "outputs": [],
   "source": [
    "df['vol'][start_date:ann_1].plot(figsize= (20,8), color = \"#33B8FF\")\n",
    "df['por'][start_date:ann_1].plot(color = \"#49FF3A\")\n",
    "df['bmw'][start_date:ann_1].plot(color = \"#FEB628\")\n",
    "\n",
    "df['vol'][ann_1:ann_2].plot(color = \"#1E7EB2\")\n",
    "df['por'][ann_1:ann_2].plot(color = \"#2FAB25\")\n",
    "df['bmw'][ann_1:ann_2].plot(color = \"#BA861F\")\n",
    "\n",
    "df['vol'][ann_2:end_date].plot(color = \"#0E3A52\")\n",
    "df['por'][ann_2:end_date].plot(color = \"#225414\")\n",
    "df['bmw'][ann_2:end_date].plot(color = \"#7C5913\")\n",
    "\n",
    "plt.legend(['Volkswagen','Porsche','BMW'])\n",
    "\n",
    "plt.show()"
   ]
  },
  {
   "cell_type": "markdown",
   "metadata": {},
   "source": [
    "## Correlation"
   ]
  },
  {
   "cell_type": "code",
   "execution_count": null,
   "metadata": {
    "scrolled": true
   },
   "outputs": [],
   "source": [
    "print('Correlation among manufacturers from ' + str(start_date) + ' to ' + str(end_date)+ '\\n')\n",
    "print('Volkswagen and Porsche correlation: \\t'+ str(df['vol'][start_date:end_date].corr(df['por'][start_date:end_date])))\n",
    "print('Volkswagen and BMW correlation: \\t'+ str(df['vol'][start_date:end_date].corr(df['bmw'][start_date:end_date])))\n",
    "print('Porsche and BMW correlation: \\t\\t'+ str(df['por'][start_date:end_date].corr(df['bmw'][start_date:end_date])))"
   ]
  },
  {
   "cell_type": "code",
   "execution_count": null,
   "metadata": {},
   "outputs": [],
   "source": [
    "print('Correlation among manufacturers from ' + str(start_date) + ' to ' + str(ann_1)+ '\\n')\n",
    "print('Volkswagen and Porsche correlation: \\t'+ str(df['vol'][start_date:ann_1].corr(df['por'][start_date:ann_1])))\n",
    "print('Volkswagen and BMW correlation: \\t'+ str(df['vol'][start_date:ann_1].corr(df['bmw'][start_date:ann_1])))\n",
    "print('Porsche and BMW correlation: \\t\\t'+ str(df['por'][start_date:ann_1].corr(df['bmw'][start_date:ann_1])))"
   ]
  },
  {
   "cell_type": "code",
   "execution_count": null,
   "metadata": {},
   "outputs": [],
   "source": [
    "print('Correlation among manufacturers from ' + str(ann_1) + ' to ' + str(ann_2)+ '\\n')\n",
    "print('Volkswagen and Porsche correlation: \\t'+ str(df['vol'][ann_1:ann_2].corr(df['por'][ann_1:ann_2])))\n",
    "print('Volkswagen and BMW correlation: \\t'+ str(df['vol'][ann_1:ann_2].corr(df['bmw'][ann_1:ann_2])))\n",
    "print('Porsche and BMW correlation: \\t\\t'+ str(df['por'][ann_1:ann_2].corr(df['bmw'][ann_1:ann_2])))"
   ]
  },
  {
   "cell_type": "code",
   "execution_count": null,
   "metadata": {},
   "outputs": [],
   "source": [
    "print('Correlation among manufacturers from ' + str(ann_2) + ' to ' + str(end_date)+ '\\n')\n",
    "print('Volkswagen and Porsche correlation: \\t'+ str(df['vol'][ann_2:end_date].corr(df['por'][ann_2:end_date])))\n",
    "print('Volkswagen and BMW correlation: \\t'+ str(df['vol'][ann_2:end_date].corr(df['bmw'][ann_2:end_date])))\n",
    "print('Porsche and BMW correlation: \\t\\t'+ str(df['por'][ann_2:end_date].corr(df['bmw'][ann_2:end_date])))"
   ]
  },
  {
   "cell_type": "code",
   "execution_count": null,
   "metadata": {},
   "outputs": [],
   "source": [
    "print('Correlation among manufacturers from ' + str(end_date) + ' to ' + str(df.index[-1])+ '\\n')\n",
    "print('Volkswagen and Porsche correlation: \\t'+ str(df['vol'][end_date:].corr(df['por'][end_date:])))\n",
    "print('Volkswagen and BMW correlation: \\t'+ str(df['vol'][end_date:].corr(df['bmw'][end_date:])))\n",
    "print('Porsche and BMW correlation: \\t\\t'+ str(df['por'][end_date:].corr(df['bmw'][end_date:])))"
   ]
  },
  {
   "cell_type": "markdown",
   "metadata": {},
   "source": [
    "## Best Fitting Models"
   ]
  },
  {
   "cell_type": "markdown",
   "metadata": {},
   "source": [
    "### For Volkswagen"
   ]
  },
  {
   "cell_type": "code",
   "execution_count": null,
   "metadata": {},
   "outputs": [],
   "source": [
    "mod_pr_pre_vol = auto_arima(df.vol[start_date:ann_1], exogenous = df[['por','bmw']][start_date:ann_1],\n",
    "                            m = 5, max_p = 5, max_q = 5)\n",
    "mod_pr_btn_vol = auto_arima(df.vol[ann_1:ann_2], exogenous = df[['por','bmw']][ann_1:ann_2],\n",
    "                            m = 5, max_p = 5, max_q = 5)\n",
    "mod_pr_post_vol = auto_arima(df.vol[ann_2:end_date], exogenous = df[['por','bmw']][ann_2:end_date],\n",
    "                            m = 5, max_p = 5, max_q = 5)"
   ]
  },
  {
   "cell_type": "code",
   "execution_count": null,
   "metadata": {},
   "outputs": [],
   "source": [
    "mod_pr_pre_vol.summary()"
   ]
  },
  {
   "cell_type": "code",
   "execution_count": null,
   "metadata": {},
   "outputs": [],
   "source": [
    "mod_pr_btn_vol.summary()"
   ]
  },
  {
   "cell_type": "code",
   "execution_count": null,
   "metadata": {
    "scrolled": false
   },
   "outputs": [],
   "source": [
    "mod_pr_post_vol.summary()"
   ]
  },
  {
   "cell_type": "markdown",
   "metadata": {},
   "source": [
    "### For Porsche"
   ]
  },
  {
   "cell_type": "code",
   "execution_count": null,
   "metadata": {},
   "outputs": [],
   "source": [
    "mod_pr_pre_por = auto_arima(df.por[start_date:ann_1], exogenous = df[['vol','bmw']][start_date:ann_1],\n",
    "                            m = 5, max_p = 5, max_q = 5)\n",
    "mod_pr_btn_por = auto_arima(df.por[ann_1:ann_2], exogenous = df[['vol','bmw']][ann_1:ann_2],\n",
    "                            m = 5, max_p = 5, max_q = 5)\n",
    "mod_pr_post_por = auto_arima(df.por[ann_2:end_date], exogenous = df[['vol','bmw']][ann_2:end_date],\n",
    "                             m = 5, max_p = 5, max_q = 5)"
   ]
  },
  {
   "cell_type": "code",
   "execution_count": null,
   "metadata": {},
   "outputs": [],
   "source": [
    "mod_pr_pre_por.summary()"
   ]
  },
  {
   "cell_type": "code",
   "execution_count": null,
   "metadata": {},
   "outputs": [],
   "source": [
    "mod_pr_btn_por.summary()"
   ]
  },
  {
   "cell_type": "code",
   "execution_count": null,
   "metadata": {},
   "outputs": [],
   "source": [
    "mod_pr_post_por.summary()"
   ]
  },
  {
   "cell_type": "markdown",
   "metadata": {},
   "source": [
    "## Predictions for the Future"
   ]
  },
  {
   "cell_type": "markdown",
   "metadata": {},
   "source": [
    "### For Porsche"
   ]
  },
  {
   "cell_type": "code",
   "execution_count": null,
   "metadata": {
    "scrolled": true
   },
   "outputs": [],
   "source": [
    "model_auto_pred_pr = auto_arima(df.vol[start_date:ann_1], m = 5, max_p = 5, max_q = 5, max_P = 5, max_Q = 5, trend = \"ct\")\n",
    "\n",
    "df_auto_pred_pr = pd.DataFrame(model_auto_pred_pr.predict(n_periods = len(df[ann_1:ann_2])), index = df[ann_1:ann_2].index)\n",
    "df_auto_pred_pr[ann_1:ann_2].plot(figsize = (20,5), color = \"red\")\n",
    "\n",
    "df.vol[ann_1:ann_2].plot(color = \"blue\")\n",
    "plt.title(\"VW Predictions (no Exog) vs Real Data\", size = 24)\n",
    "plt.show()"
   ]
  },
  {
   "cell_type": "code",
   "execution_count": null,
   "metadata": {
    "scrolled": true
   },
   "outputs": [],
   "source": [
    "df_auto_pred_pr[ann_1:'2010-03-01'].plot(figsize = (20,5), color = \"red\")\n",
    "df.vol[ann_1:'2010-03-01'].plot(color = \"blue\")\n",
    "plt.title(\"VW Predictions (no Exog) vs Real Data (short term)\", size = 24)\n",
    "plt.show()"
   ]
  },
  {
   "cell_type": "markdown",
   "metadata": {},
   "source": [
    "### For Volkswagen"
   ]
  },
  {
   "cell_type": "code",
   "execution_count": null,
   "metadata": {},
   "outputs": [],
   "source": [
    "model_auto_pred_pr = auto_arima(df.vol[start_date:ann_1], exogenous = df[['por']][start_date:ann_1],\n",
    "                          m = 5, max_p = 5, max_q = 5, max_P = 5, max_Q = 5, trend = \"ct\")\n",
    "\n",
    "df_auto_pred_pr = pd.DataFrame(model_auto_pred_pr.predict(n_periods = len(df[ann_1:ann_2]),exogenous = df[['por']][ann_1:ann_2]),\n",
    "                               index = df[ann_1:ann_2].index)\n",
    "df_auto_pred_pr[ann_1:ann_2].plot(figsize = (20,5), color = \"red\")\n",
    "\n",
    "df.vol[ann_1:ann_2].plot(color = \"blue\")\n",
    "plt.title(\"VW Predictions (Porsche as Exog) vs Real Data\", size = 24)\n",
    "plt.show()"
   ]
  },
  {
   "cell_type": "code",
   "execution_count": null,
   "metadata": {},
   "outputs": [],
   "source": [
    "model_auto_pred_pr = auto_arima(df.vol[start_date:ann_1], exogenous = df[['bmw']][start_date:ann_1],\n",
    "                          m = 5, max_p = 5, max_q = 5, max_P = 5, max_Q = 5, trend = \"ct\")\n",
    "\n",
    "df_auto_pred_pr = pd.DataFrame(model_auto_pred_pr.predict(n_periods = len(df[ann_1:ann_2]), exogenous = df[['bmw']][ann_1:ann_2]),\n",
    "                               index = df[ann_1:ann_2].index)\n",
    "df_auto_pred_pr[ann_1:ann_2].plot(figsize = (20,5), color = \"red\")\n",
    "\n",
    "df.vol[ann_1:ann_2].plot(color = \"blue\")\n",
    "plt.title(\"VW Predictions (Market Benchmark as Exog) vs Real Data\", size = 24)\n",
    "plt.show()"
   ]
  },
  {
   "cell_type": "code",
   "execution_count": null,
   "metadata": {
    "scrolled": true
   },
   "outputs": [],
   "source": [
    "model_auto_pred_pr = auto_arima(df.vol[start_date:ann_1], exogenous = df[['por', 'bmw']][start_date:ann_1],\n",
    "                          m = 5, max_p = 5, max_q = 5, max_P = 5, max_Q = 5, trend = \"ct\")\n",
    "\n",
    "df_auto_pred_pr = pd.DataFrame(model_auto_pred_pr.predict(n_periods = len(df[ann_1:ann_2]), exogenous = df[['por','bmw']][ann_1:ann_2]),\n",
    "                               index = df[ann_1:ann_2].index)\n",
    "df_auto_pred_pr[ann_1:ann_2].plot(figsize = (20,5), color = \"red\")\n",
    "\n",
    "df.vol[ann_1:ann_2].plot(color = \"blue\")\n",
    "plt.title(\"VW Predictions (Porsche and Market as Exog) vs Real Data\", size = 24)\n",
    "plt.show()"
   ]
  },
  {
   "cell_type": "markdown",
   "metadata": {},
   "source": [
    "## Volatility"
   ]
  },
  {
   "cell_type": "markdown",
   "metadata": {},
   "source": [
    "### Volatility of VW for Each Period"
   ]
  },
  {
   "cell_type": "code",
   "execution_count": null,
   "metadata": {},
   "outputs": [],
   "source": [
    "df['sq_vol'][start_date:ann_1].plot(figsize = (20,5), color = \"#33B8FF\")\n",
    "df['sq_vol'][ann_1:ann_2].plot(color = \"#1E7EB2\")\n",
    "df['sq_vol'][ann_2:end_date].plot(color = \"#0E3A52\")\n",
    "plt.show()"
   ]
  },
  {
   "cell_type": "markdown",
   "metadata": {},
   "source": [
    "### Volatility Trends for Each Period"
   ]
  },
  {
   "cell_type": "code",
   "execution_count": null,
   "metadata": {},
   "outputs": [],
   "source": [
    "model_garch_pre = arch_model(df.ret_vol[start_date:ann_1], mean = \"Constant\",  vol = \"GARCH\", p = 1, q = 1)\n",
    "results_garch_pre = model_garch_pre.fit(update_freq = 5)\n",
    "\n",
    "model_garch_btn = arch_model(df.ret_vol[ann_1:ann_2], mean = \"Constant\",  vol = \"GARCH\", p = 1, q = 1)\n",
    "results_garch_btn = model_garch_btn.fit(update_freq = 5)\n",
    "\n",
    "model_garch_post = arch_model(df.ret_vol[ann_2:end_date], mean = \"Constant\",  vol = \"GARCH\", p = 1, q = 1)\n",
    "results_garch_post = model_garch_post.fit(update_freq = 5)"
   ]
  },
  {
   "cell_type": "code",
   "execution_count": null,
   "metadata": {},
   "outputs": [],
   "source": [
    "results_garch_pre.summary()"
   ]
  },
  {
   "cell_type": "code",
   "execution_count": null,
   "metadata": {},
   "outputs": [],
   "source": [
    "results_garch_btn.summary()"
   ]
  },
  {
   "cell_type": "code",
   "execution_count": null,
   "metadata": {},
   "outputs": [],
   "source": [
    "results_garch_post.summary()"
   ]
  }
 ],
 "metadata": {
  "kernelspec": {
   "display_name": "Python 3 (ipykernel)",
   "language": "python",
   "name": "python3"
  },
  "language_info": {
   "codemirror_mode": {
    "name": "ipython",
    "version": 3
   },
   "file_extension": ".py",
   "mimetype": "text/x-python",
   "name": "python",
   "nbconvert_exporter": "python",
   "pygments_lexer": "ipython3",
   "version": "3.8.3"
  }
 },
 "nbformat": 4,
 "nbformat_minor": 2
}
