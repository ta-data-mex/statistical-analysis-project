{
 "cells": [
  {
   "cell_type": "code",
   "execution_count": 45,
   "id": "738ea2f8",
   "metadata": {},
   "outputs": [],
   "source": [
    "import pandas as pd\n",
    "import numpy as np\n",
    "import matplotlib.pyplot as plt\n",
    "import seaborn as sns\n",
    "import time \n",
    "from statsmodels.stats.weightstats import ztest\n",
    "import scipy.stats as stats"
   ]
  },
  {
   "cell_type": "code",
   "execution_count": 2,
   "id": "1a913efe",
   "metadata": {},
   "outputs": [],
   "source": [
    "Passing_Offense = pd.read_csv(r'C:\\Users\\danie\\Documents\\data_analytics_bootcamp\\Passing_Offensec.csv')\n",
    "Scoring_Offense = pd.read_csv(r'C:\\Users\\danie\\Documents\\data_analytics_bootcamp\\Scoring_Offensec.csv')\n",
    "Rushing_Offense = pd.read_csv(r'C:\\Users\\danie\\Documents\\data_analytics_bootcamp\\Rushing_Offensec.csv')"
   ]
  },
  {
   "cell_type": "code",
   "execution_count": 3,
   "id": "def718d7",
   "metadata": {},
   "outputs": [
    {
     "data": {
      "text/html": [
       "<div>\n",
       "<style scoped>\n",
       "    .dataframe tbody tr th:only-of-type {\n",
       "        vertical-align: middle;\n",
       "    }\n",
       "\n",
       "    .dataframe tbody tr th {\n",
       "        vertical-align: top;\n",
       "    }\n",
       "\n",
       "    .dataframe thead th {\n",
       "        text-align: right;\n",
       "    }\n",
       "</style>\n",
       "<table border=\"1\" class=\"dataframe\">\n",
       "  <thead>\n",
       "    <tr style=\"text-align: right;\">\n",
       "      <th></th>\n",
       "      <th>Unnamed: 0</th>\n",
       "      <th>Team</th>\n",
       "      <th>Att</th>\n",
       "      <th>Cmp</th>\n",
       "      <th>Cmp_%</th>\n",
       "      <th>Yds/Att</th>\n",
       "      <th>Pass_Yds</th>\n",
       "      <th>TD</th>\n",
       "      <th>INT</th>\n",
       "      <th>Rate</th>\n",
       "      <th>1st</th>\n",
       "      <th>1st%</th>\n",
       "      <th>20+</th>\n",
       "      <th>40+</th>\n",
       "      <th>Lng</th>\n",
       "      <th>Sck</th>\n",
       "      <th>SckY</th>\n",
       "      <th>Years</th>\n",
       "    </tr>\n",
       "  </thead>\n",
       "  <tbody>\n",
       "    <tr>\n",
       "      <th>0</th>\n",
       "      <td>0</td>\n",
       "      <td>Redskins</td>\n",
       "      <td>561</td>\n",
       "      <td>343</td>\n",
       "      <td>61.1</td>\n",
       "      <td>6.9</td>\n",
       "      <td>3892</td>\n",
       "      <td>18</td>\n",
       "      <td>21</td>\n",
       "      <td>77.0</td>\n",
       "      <td>185</td>\n",
       "      <td>33.0</td>\n",
       "      <td>43</td>\n",
       "      <td>10</td>\n",
       "      <td>77</td>\n",
       "      <td>32</td>\n",
       "      <td>244</td>\n",
       "      <td>2000</td>\n",
       "    </tr>\n",
       "    <tr>\n",
       "      <th>1</th>\n",
       "      <td>1</td>\n",
       "      <td>Buccaneers</td>\n",
       "      <td>433</td>\n",
       "      <td>237</td>\n",
       "      <td>54.7</td>\n",
       "      <td>6.5</td>\n",
       "      <td>2824</td>\n",
       "      <td>18</td>\n",
       "      <td>13</td>\n",
       "      <td>76.2</td>\n",
       "      <td>144</td>\n",
       "      <td>33.3</td>\n",
       "      <td>38</td>\n",
       "      <td>5</td>\n",
       "      <td>75</td>\n",
       "      <td>38</td>\n",
       "      <td>241</td>\n",
       "      <td>2000</td>\n",
       "    </tr>\n",
       "    <tr>\n",
       "      <th>2</th>\n",
       "      <td>2</td>\n",
       "      <td>Seahawks</td>\n",
       "      <td>507</td>\n",
       "      <td>308</td>\n",
       "      <td>60.7</td>\n",
       "      <td>6.3</td>\n",
       "      <td>3198</td>\n",
       "      <td>21</td>\n",
       "      <td>21</td>\n",
       "      <td>75.5</td>\n",
       "      <td>168</td>\n",
       "      <td>33.1</td>\n",
       "      <td>26</td>\n",
       "      <td>7</td>\n",
       "      <td>71</td>\n",
       "      <td>46</td>\n",
       "      <td>238</td>\n",
       "      <td>2000</td>\n",
       "    </tr>\n",
       "    <tr>\n",
       "      <th>3</th>\n",
       "      <td>3</td>\n",
       "      <td>49ers</td>\n",
       "      <td>583</td>\n",
       "      <td>366</td>\n",
       "      <td>62.8</td>\n",
       "      <td>7.5</td>\n",
       "      <td>4400</td>\n",
       "      <td>32</td>\n",
       "      <td>10</td>\n",
       "      <td>97.0</td>\n",
       "      <td>211</td>\n",
       "      <td>36.2</td>\n",
       "      <td>61</td>\n",
       "      <td>9</td>\n",
       "      <td>69</td>\n",
       "      <td>25</td>\n",
       "      <td>161</td>\n",
       "      <td>2000</td>\n",
       "    </tr>\n",
       "    <tr>\n",
       "      <th>4</th>\n",
       "      <td>4</td>\n",
       "      <td>Chargers</td>\n",
       "      <td>578</td>\n",
       "      <td>311</td>\n",
       "      <td>53.8</td>\n",
       "      <td>6.1</td>\n",
       "      <td>3540</td>\n",
       "      <td>19</td>\n",
       "      <td>30</td>\n",
       "      <td>61.8</td>\n",
       "      <td>156</td>\n",
       "      <td>27.0</td>\n",
       "      <td>41</td>\n",
       "      <td>9</td>\n",
       "      <td>83</td>\n",
       "      <td>53</td>\n",
       "      <td>302</td>\n",
       "      <td>2000</td>\n",
       "    </tr>\n",
       "    <tr>\n",
       "      <th>...</th>\n",
       "      <td>...</td>\n",
       "      <td>...</td>\n",
       "      <td>...</td>\n",
       "      <td>...</td>\n",
       "      <td>...</td>\n",
       "      <td>...</td>\n",
       "      <td>...</td>\n",
       "      <td>...</td>\n",
       "      <td>...</td>\n",
       "      <td>...</td>\n",
       "      <td>...</td>\n",
       "      <td>...</td>\n",
       "      <td>...</td>\n",
       "      <td>...</td>\n",
       "      <td>...</td>\n",
       "      <td>...</td>\n",
       "      <td>...</td>\n",
       "      <td>...</td>\n",
       "    </tr>\n",
       "    <tr>\n",
       "      <th>685</th>\n",
       "      <td>685</td>\n",
       "      <td>Bears</td>\n",
       "      <td>542</td>\n",
       "      <td>332</td>\n",
       "      <td>61.3</td>\n",
       "      <td>6.7</td>\n",
       "      <td>3635</td>\n",
       "      <td>16</td>\n",
       "      <td>20</td>\n",
       "      <td>75.5</td>\n",
       "      <td>180</td>\n",
       "      <td>33.2</td>\n",
       "      <td>40</td>\n",
       "      <td>7</td>\n",
       "      <td>64</td>\n",
       "      <td>58</td>\n",
       "      <td>428</td>\n",
       "      <td>2021</td>\n",
       "    </tr>\n",
       "    <tr>\n",
       "      <th>686</th>\n",
       "      <td>686</td>\n",
       "      <td>Panthers</td>\n",
       "      <td>599</td>\n",
       "      <td>348</td>\n",
       "      <td>58.1</td>\n",
       "      <td>6.0</td>\n",
       "      <td>3573</td>\n",
       "      <td>14</td>\n",
       "      <td>21</td>\n",
       "      <td>68.5</td>\n",
       "      <td>174</td>\n",
       "      <td>29.0</td>\n",
       "      <td>36</td>\n",
       "      <td>5</td>\n",
       "      <td>64</td>\n",
       "      <td>52</td>\n",
       "      <td>334</td>\n",
       "      <td>2021</td>\n",
       "    </tr>\n",
       "    <tr>\n",
       "      <th>687</th>\n",
       "      <td>687</td>\n",
       "      <td>Bills</td>\n",
       "      <td>655</td>\n",
       "      <td>415</td>\n",
       "      <td>63.4</td>\n",
       "      <td>6.8</td>\n",
       "      <td>4450</td>\n",
       "      <td>36</td>\n",
       "      <td>16</td>\n",
       "      <td>91.3</td>\n",
       "      <td>236</td>\n",
       "      <td>36.0</td>\n",
       "      <td>51</td>\n",
       "      <td>8</td>\n",
       "      <td>61</td>\n",
       "      <td>27</td>\n",
       "      <td>166</td>\n",
       "      <td>2021</td>\n",
       "    </tr>\n",
       "    <tr>\n",
       "      <th>688</th>\n",
       "      <td>688</td>\n",
       "      <td>Ravens</td>\n",
       "      <td>611</td>\n",
       "      <td>396</td>\n",
       "      <td>64.8</td>\n",
       "      <td>7.0</td>\n",
       "      <td>4267</td>\n",
       "      <td>21</td>\n",
       "      <td>18</td>\n",
       "      <td>84.4</td>\n",
       "      <td>209</td>\n",
       "      <td>34.2</td>\n",
       "      <td>54</td>\n",
       "      <td>6</td>\n",
       "      <td>49</td>\n",
       "      <td>57</td>\n",
       "      <td>306</td>\n",
       "      <td>2021</td>\n",
       "    </tr>\n",
       "    <tr>\n",
       "      <th>689</th>\n",
       "      <td>689</td>\n",
       "      <td>Falcons</td>\n",
       "      <td>573</td>\n",
       "      <td>377</td>\n",
       "      <td>65.8</td>\n",
       "      <td>7.0</td>\n",
       "      <td>3987</td>\n",
       "      <td>20</td>\n",
       "      <td>15</td>\n",
       "      <td>86.6</td>\n",
       "      <td>196</td>\n",
       "      <td>34.2</td>\n",
       "      <td>44</td>\n",
       "      <td>7</td>\n",
       "      <td>64</td>\n",
       "      <td>40</td>\n",
       "      <td>274</td>\n",
       "      <td>2021</td>\n",
       "    </tr>\n",
       "  </tbody>\n",
       "</table>\n",
       "<p>690 rows × 18 columns</p>\n",
       "</div>"
      ],
      "text/plain": [
       "     Unnamed: 0        Team  Att  Cmp  Cmp_%  Yds/Att  Pass_Yds  TD  INT  \\\n",
       "0             0    Redskins  561  343   61.1      6.9      3892  18   21   \n",
       "1             1  Buccaneers  433  237   54.7      6.5      2824  18   13   \n",
       "2             2    Seahawks  507  308   60.7      6.3      3198  21   21   \n",
       "3             3       49ers  583  366   62.8      7.5      4400  32   10   \n",
       "4             4    Chargers  578  311   53.8      6.1      3540  19   30   \n",
       "..          ...         ...  ...  ...    ...      ...       ...  ..  ...   \n",
       "685         685       Bears  542  332   61.3      6.7      3635  16   20   \n",
       "686         686    Panthers  599  348   58.1      6.0      3573  14   21   \n",
       "687         687       Bills  655  415   63.4      6.8      4450  36   16   \n",
       "688         688      Ravens  611  396   64.8      7.0      4267  21   18   \n",
       "689         689     Falcons  573  377   65.8      7.0      3987  20   15   \n",
       "\n",
       "     Rate  1st  1st%  20+  40+  Lng  Sck  SckY  Years  \n",
       "0    77.0  185  33.0   43   10   77   32   244   2000  \n",
       "1    76.2  144  33.3   38    5   75   38   241   2000  \n",
       "2    75.5  168  33.1   26    7   71   46   238   2000  \n",
       "3    97.0  211  36.2   61    9   69   25   161   2000  \n",
       "4    61.8  156  27.0   41    9   83   53   302   2000  \n",
       "..    ...  ...   ...  ...  ...  ...  ...   ...    ...  \n",
       "685  75.5  180  33.2   40    7   64   58   428   2021  \n",
       "686  68.5  174  29.0   36    5   64   52   334   2021  \n",
       "687  91.3  236  36.0   51    8   61   27   166   2021  \n",
       "688  84.4  209  34.2   54    6   49   57   306   2021  \n",
       "689  86.6  196  34.2   44    7   64   40   274   2021  \n",
       "\n",
       "[690 rows x 18 columns]"
      ]
     },
     "execution_count": 3,
     "metadata": {},
     "output_type": "execute_result"
    }
   ],
   "source": [
    "Passing_Offense"
   ]
  },
  {
   "cell_type": "code",
   "execution_count": 49,
   "id": "73ccf957",
   "metadata": {},
   "outputs": [
    {
     "name": "stderr",
     "output_type": "stream",
     "text": [
      "C:\\Users\\danie\\AppData\\Local\\Programs\\Python\\Python310\\lib\\site-packages\\seaborn\\distributions.py:2619: FutureWarning: `distplot` is a deprecated function and will be removed in a future version. Please adapt your code to use either `displot` (a figure-level function with similar flexibility) or `histplot` (an axes-level function for histograms).\n",
      "  warnings.warn(msg, FutureWarning)\n"
     ]
    },
    {
     "data": {
      "image/png": "[encoded data removed]",
      "text/plain": [
       "<Figure size 432x288 with 1 Axes>"
      ]
     },
     "metadata": {
      "needs_background": "light"
     },
     "output_type": "display_data"
    }
   ],
   "source": [
    "#Passing_Offense['TD'].hist()\n",
    "Passing_Offense['TD'].mean()\n",
    "#sns.distplot(Passing_Offense['TD'])\n",
    "sns.distplot(Passing_Offense['TD'], fit=stats.norm);"
   ]
  },
  {
   "cell_type": "code",
   "execution_count": 50,
   "id": "2f1049ab",
   "metadata": {},
   "outputs": [
    {
     "name": "stderr",
     "output_type": "stream",
     "text": [
      "C:\\Users\\danie\\AppData\\Local\\Programs\\Python\\Python310\\lib\\site-packages\\seaborn\\distributions.py:2619: FutureWarning: `distplot` is a deprecated function and will be removed in a future version. Please adapt your code to use either `displot` (a figure-level function with similar flexibility) or `histplot` (an axes-level function for histograms).\n",
      "  warnings.warn(msg, FutureWarning)\n"
     ]
    },
    {
     "data": {
      "text/plain": [
       "<AxesSubplot:xlabel='Pass_Yds', ylabel='Density'>"
      ]
     },
     "execution_count": 50,
     "metadata": {},
     "output_type": "execute_result"
    },
    {
     "data": {
      "image/png": "[encoded data removed]",
      "text/plain": [
       "<Figure size 432x288 with 1 Axes>"
      ]
     },
     "metadata": {
      "needs_background": "light"
     },
     "output_type": "display_data"
    }
   ],
   "source": [
    "#Passing_Offense['Pass_Yds'].hist()\n",
    "Passing_Offense['Pass_Yds'].mean()\n",
    "sns.distplot(Passing_Offense['Pass_Yds'], fit=stats.norm)"
   ]
  },
  {
   "cell_type": "code",
   "execution_count": 51,
   "id": "f397a05c",
   "metadata": {},
   "outputs": [
    {
     "name": "stderr",
     "output_type": "stream",
     "text": [
      "C:\\Users\\danie\\AppData\\Local\\Programs\\Python\\Python310\\lib\\site-packages\\seaborn\\distributions.py:2619: FutureWarning: `distplot` is a deprecated function and will be removed in a future version. Please adapt your code to use either `displot` (a figure-level function with similar flexibility) or `histplot` (an axes-level function for histograms).\n",
      "  warnings.warn(msg, FutureWarning)\n"
     ]
    },
    {
     "data": {
      "text/plain": [
       "<AxesSubplot:xlabel='Cmp_%', ylabel='Density'>"
      ]
     },
     "execution_count": 51,
     "metadata": {},
     "output_type": "execute_result"
    },
    {
     "data": {
      "image/png": "[encoded data removed]",
      "text/plain": [
       "<Figure size 432x288 with 1 Axes>"
      ]
     },
     "metadata": {
      "needs_background": "light"
     },
     "output_type": "display_data"
    }
   ],
   "source": [
    "#Passing_Offense['Cmp_%'].hist()\n",
    "Passing_Offense['Cmp_%'].mean()\n",
    "sns.distplot(Passing_Offense['Cmp_%'], fit=stats.norm)"
   ]
  },
  {
   "cell_type": "code",
   "execution_count": 22,
   "id": "436b3932",
   "metadata": {},
   "outputs": [
    {
     "data": {
      "text/plain": [
       "(3.373930483235892, 0.0003705153949632911)"
      ]
     },
     "execution_count": 22,
     "metadata": {},
     "output_type": "execute_result"
    }
   ],
   "source": [
    "Pass_Yds_21 = Passing_Offense[Passing_Offense['Years'] == 2021]['Pass_Yds']\n",
    "ztest(Pass_Yds_21, value=3823, alternative='larger')\n"
   ]
  },
  {
   "cell_type": "code",
   "execution_count": 26,
   "id": "4184d800",
   "metadata": {},
   "outputs": [
    {
     "data": {
      "text/plain": [
       "(1.9132337225528833, 0.027859069095301274)"
      ]
     },
     "execution_count": 26,
     "metadata": {},
     "output_type": "execute_result"
    }
   ],
   "source": [
    "Pass_TDs_21 = Passing_Offense[Passing_Offense['Years'] == 2021]['TD']\n",
    "ztest(Pass_TDs_21, value=23.330434782608695, alternative='larger')"
   ]
  },
  {
   "cell_type": "code",
   "execution_count": 33,
   "id": "167a1652",
   "metadata": {},
   "outputs": [
    {
     "data": {
      "text/plain": [
       "(5.67904981111598, 6.7722517849814485e-09)"
      ]
     },
     "execution_count": 33,
     "metadata": {},
     "output_type": "execute_result"
    }
   ],
   "source": [
    "Pass_Cmp_21 = Passing_Offense[Passing_Offense['Years'] == 2021]['Cmp_%']\n",
    "ztest(Pass_Cmp_21, value=61.36739130434783, alternative='larger')"
   ]
  },
  {
   "cell_type": "code",
   "execution_count": 42,
   "id": "bfa1e3cf",
   "metadata": {},
   "outputs": [
    {
     "data": {
      "text/plain": [
       "(3.373930483235892, 0.0007410307899265822)"
      ]
     },
     "execution_count": 42,
     "metadata": {},
     "output_type": "execute_result"
    }
   ],
   "source": [
    "Pass_Yds_21 = Passing_Offense[Passing_Offense['Years'] == 2021]['Pass_Yds']\n",
    "ztest(Pass_Yds_21, value=3823)\n"
   ]
  },
  {
   "cell_type": "code",
   "execution_count": 56,
   "id": "cb775ac7",
   "metadata": {},
   "outputs": [
    {
     "data": {
      "text/html": [
       "<div>\n",
       "<style scoped>\n",
       "    .dataframe tbody tr th:only-of-type {\n",
       "        vertical-align: middle;\n",
       "    }\n",
       "\n",
       "    .dataframe tbody tr th {\n",
       "        vertical-align: top;\n",
       "    }\n",
       "\n",
       "    .dataframe thead th {\n",
       "        text-align: right;\n",
       "    }\n",
       "</style>\n",
       "<table border=\"1\" class=\"dataframe\">\n",
       "  <thead>\n",
       "    <tr style=\"text-align: right;\">\n",
       "      <th></th>\n",
       "      <th>Unnamed: 0</th>\n",
       "      <th>Team</th>\n",
       "      <th>Att</th>\n",
       "      <th>Rush_Yds</th>\n",
       "      <th>YPC</th>\n",
       "      <th>TD</th>\n",
       "      <th>20+</th>\n",
       "      <th>40+</th>\n",
       "      <th>Lng</th>\n",
       "      <th>Rush_1st</th>\n",
       "      <th>Rush_1st%</th>\n",
       "      <th>Rush_FUM</th>\n",
       "      <th>Years</th>\n",
       "    </tr>\n",
       "  </thead>\n",
       "  <tbody>\n",
       "    <tr>\n",
       "      <th>0</th>\n",
       "      <td>0</td>\n",
       "      <td>Redskins</td>\n",
       "      <td>445</td>\n",
       "      <td>1748</td>\n",
       "      <td>3.9</td>\n",
       "      <td>14</td>\n",
       "      <td>8</td>\n",
       "      <td>1</td>\n",
       "      <td>50</td>\n",
       "      <td>98</td>\n",
       "      <td>22.0</td>\n",
       "      <td>6</td>\n",
       "      <td>2000</td>\n",
       "    </tr>\n",
       "    <tr>\n",
       "      <th>1</th>\n",
       "      <td>1</td>\n",
       "      <td>Buccaneers</td>\n",
       "      <td>490</td>\n",
       "      <td>2066</td>\n",
       "      <td>4.2</td>\n",
       "      <td>18</td>\n",
       "      <td>12</td>\n",
       "      <td>2</td>\n",
       "      <td>70</td>\n",
       "      <td>111</td>\n",
       "      <td>22.7</td>\n",
       "      <td>6</td>\n",
       "      <td>2000</td>\n",
       "    </tr>\n",
       "    <tr>\n",
       "      <th>2</th>\n",
       "      <td>2</td>\n",
       "      <td>Seahawks</td>\n",
       "      <td>403</td>\n",
       "      <td>1720</td>\n",
       "      <td>4.3</td>\n",
       "      <td>10</td>\n",
       "      <td>8</td>\n",
       "      <td>3</td>\n",
       "      <td>55</td>\n",
       "      <td>98</td>\n",
       "      <td>24.3</td>\n",
       "      <td>18</td>\n",
       "      <td>2000</td>\n",
       "    </tr>\n",
       "    <tr>\n",
       "      <th>3</th>\n",
       "      <td>3</td>\n",
       "      <td>49ers</td>\n",
       "      <td>416</td>\n",
       "      <td>1801</td>\n",
       "      <td>4.3</td>\n",
       "      <td>15</td>\n",
       "      <td>10</td>\n",
       "      <td>1</td>\n",
       "      <td>42</td>\n",
       "      <td>98</td>\n",
       "      <td>23.6</td>\n",
       "      <td>8</td>\n",
       "      <td>2000</td>\n",
       "    </tr>\n",
       "    <tr>\n",
       "      <th>4</th>\n",
       "      <td>4</td>\n",
       "      <td>Chargers</td>\n",
       "      <td>351</td>\n",
       "      <td>1062</td>\n",
       "      <td>3.0</td>\n",
       "      <td>7</td>\n",
       "      <td>3</td>\n",
       "      <td>0</td>\n",
       "      <td>26</td>\n",
       "      <td>63</td>\n",
       "      <td>17.9</td>\n",
       "      <td>16</td>\n",
       "      <td>2000</td>\n",
       "    </tr>\n",
       "    <tr>\n",
       "      <th>...</th>\n",
       "      <td>...</td>\n",
       "      <td>...</td>\n",
       "      <td>...</td>\n",
       "      <td>...</td>\n",
       "      <td>...</td>\n",
       "      <td>...</td>\n",
       "      <td>...</td>\n",
       "      <td>...</td>\n",
       "      <td>...</td>\n",
       "      <td>...</td>\n",
       "      <td>...</td>\n",
       "      <td>...</td>\n",
       "      <td>...</td>\n",
       "    </tr>\n",
       "    <tr>\n",
       "      <th>685</th>\n",
       "      <td>685</td>\n",
       "      <td>Bears</td>\n",
       "      <td>475</td>\n",
       "      <td>2018</td>\n",
       "      <td>4.2</td>\n",
       "      <td>14</td>\n",
       "      <td>13</td>\n",
       "      <td>1</td>\n",
       "      <td>41</td>\n",
       "      <td>119</td>\n",
       "      <td>25.1</td>\n",
       "      <td>5</td>\n",
       "      <td>2021</td>\n",
       "    </tr>\n",
       "    <tr>\n",
       "      <th>686</th>\n",
       "      <td>686</td>\n",
       "      <td>Panthers</td>\n",
       "      <td>455</td>\n",
       "      <td>1842</td>\n",
       "      <td>4.0</td>\n",
       "      <td>17</td>\n",
       "      <td>8</td>\n",
       "      <td>0</td>\n",
       "      <td>33</td>\n",
       "      <td>118</td>\n",
       "      <td>25.9</td>\n",
       "      <td>10</td>\n",
       "      <td>2021</td>\n",
       "    </tr>\n",
       "    <tr>\n",
       "      <th>687</th>\n",
       "      <td>687</td>\n",
       "      <td>Bills</td>\n",
       "      <td>461</td>\n",
       "      <td>2209</td>\n",
       "      <td>4.8</td>\n",
       "      <td>20</td>\n",
       "      <td>18</td>\n",
       "      <td>2</td>\n",
       "      <td>46</td>\n",
       "      <td>134</td>\n",
       "      <td>29.1</td>\n",
       "      <td>8</td>\n",
       "      <td>2021</td>\n",
       "    </tr>\n",
       "    <tr>\n",
       "      <th>688</th>\n",
       "      <td>688</td>\n",
       "      <td>Ravens</td>\n",
       "      <td>517</td>\n",
       "      <td>2479</td>\n",
       "      <td>4.8</td>\n",
       "      <td>18</td>\n",
       "      <td>15</td>\n",
       "      <td>1</td>\n",
       "      <td>46</td>\n",
       "      <td>159</td>\n",
       "      <td>30.8</td>\n",
       "      <td>7</td>\n",
       "      <td>2021</td>\n",
       "    </tr>\n",
       "    <tr>\n",
       "      <th>689</th>\n",
       "      <td>689</td>\n",
       "      <td>Falcons</td>\n",
       "      <td>393</td>\n",
       "      <td>1451</td>\n",
       "      <td>3.7</td>\n",
       "      <td>11</td>\n",
       "      <td>2</td>\n",
       "      <td>0</td>\n",
       "      <td>39</td>\n",
       "      <td>75</td>\n",
       "      <td>19.1</td>\n",
       "      <td>9</td>\n",
       "      <td>2021</td>\n",
       "    </tr>\n",
       "  </tbody>\n",
       "</table>\n",
       "<p>690 rows × 13 columns</p>\n",
       "</div>"
      ],
      "text/plain": [
       "     Unnamed: 0        Team  Att  Rush_Yds  YPC  TD  20+  40+  Lng  Rush_1st  \\\n",
       "0             0    Redskins  445      1748  3.9  14    8    1   50        98   \n",
       "1             1  Buccaneers  490      2066  4.2  18   12    2   70       111   \n",
       "2             2    Seahawks  403      1720  4.3  10    8    3   55        98   \n",
       "3             3       49ers  416      1801  4.3  15   10    1   42        98   \n",
       "4             4    Chargers  351      1062  3.0   7    3    0   26        63   \n",
       "..          ...         ...  ...       ...  ...  ..  ...  ...  ...       ...   \n",
       "685         685       Bears  475      2018  4.2  14   13    1   41       119   \n",
       "686         686    Panthers  455      1842  4.0  17    8    0   33       118   \n",
       "687         687       Bills  461      2209  4.8  20   18    2   46       134   \n",
       "688         688      Ravens  517      2479  4.8  18   15    1   46       159   \n",
       "689         689     Falcons  393      1451  3.7  11    2    0   39        75   \n",
       "\n",
       "     Rush_1st%  Rush_FUM  Years  \n",
       "0         22.0         6   2000  \n",
       "1         22.7         6   2000  \n",
       "2         24.3        18   2000  \n",
       "3         23.6         8   2000  \n",
       "4         17.9        16   2000  \n",
       "..         ...       ...    ...  \n",
       "685       25.1         5   2021  \n",
       "686       25.9        10   2021  \n",
       "687       29.1         8   2021  \n",
       "688       30.8         7   2021  \n",
       "689       19.1         9   2021  \n",
       "\n",
       "[690 rows x 13 columns]"
      ]
     },
     "execution_count": 56,
     "metadata": {},
     "output_type": "execute_result"
    }
   ],
   "source": [
    "Rushing_Offense"
   ]
  },
  {
   "cell_type": "code",
   "execution_count": 57,
   "id": "85f21e45",
   "metadata": {},
   "outputs": [
    {
     "name": "stderr",
     "output_type": "stream",
     "text": [
      "C:\\Users\\danie\\AppData\\Local\\Programs\\Python\\Python310\\lib\\site-packages\\seaborn\\distributions.py:2619: FutureWarning: `distplot` is a deprecated function and will be removed in a future version. Please adapt your code to use either `displot` (a figure-level function with similar flexibility) or `histplot` (an axes-level function for histograms).\n",
      "  warnings.warn(msg, FutureWarning)\n"
     ]
    },
    {
     "data": {
      "text/plain": [
       "<AxesSubplot:xlabel='Rush_Yds', ylabel='Density'>"
      ]
     },
     "execution_count": 57,
     "metadata": {},
     "output_type": "execute_result"
    },
    {
     "data": {
      "image/png": "[encoded data removed]",
      "text/plain": [
       "<Figure size 504x252 with 1 Axes>"
      ]
     },
     "metadata": {
      "needs_background": "light"
     },
     "output_type": "display_data"
    }
   ],
   "source": [
    "Rushing_Offense['Rush_Yds'].mean()\n",
    "sns.distplot(Rushing_Offense['Rush_Yds'], fit=stats.norm)"
   ]
  },
  {
   "cell_type": "code",
   "execution_count": 58,
   "id": "b1420666",
   "metadata": {},
   "outputs": [
    {
     "name": "stderr",
     "output_type": "stream",
     "text": [
      "C:\\Users\\danie\\AppData\\Local\\Programs\\Python\\Python310\\lib\\site-packages\\seaborn\\distributions.py:2619: FutureWarning: `distplot` is a deprecated function and will be removed in a future version. Please adapt your code to use either `displot` (a figure-level function with similar flexibility) or `histplot` (an axes-level function for histograms).\n",
      "  warnings.warn(msg, FutureWarning)\n"
     ]
    },
    {
     "data": {
      "text/plain": [
       "<AxesSubplot:xlabel='TD', ylabel='Density'>"
      ]
     },
     "execution_count": 58,
     "metadata": {},
     "output_type": "execute_result"
    },
    {
     "data": {
      "image/png": "[encoded data removed]",
      "text/plain": [
       "<Figure size 504x252 with 1 Axes>"
      ]
     },
     "metadata": {
      "needs_background": "light"
     },
     "output_type": "display_data"
    }
   ],
   "source": [
    "sns.distplot(Rushing_Offense['TD'], fit=stats.norm)"
   ]
  },
  {
   "cell_type": "code",
   "execution_count": 59,
   "id": "91cb4fa9",
   "metadata": {},
   "outputs": [
    {
     "name": "stderr",
     "output_type": "stream",
     "text": [
      "C:\\Users\\danie\\AppData\\Local\\Programs\\Python\\Python310\\lib\\site-packages\\seaborn\\distributions.py:2619: FutureWarning: `distplot` is a deprecated function and will be removed in a future version. Please adapt your code to use either `displot` (a figure-level function with similar flexibility) or `histplot` (an axes-level function for histograms).\n",
      "  warnings.warn(msg, FutureWarning)\n"
     ]
    },
    {
     "data": {
      "text/plain": [
       "<AxesSubplot:xlabel='YPC', ylabel='Density'>"
      ]
     },
     "execution_count": 59,
     "metadata": {},
     "output_type": "execute_result"
    },
    {
     "data": {
      "image/png": "[encoded data removed]",
      "text/plain": [
       "<Figure size 504x252 with 1 Axes>"
      ]
     },
     "metadata": {
      "needs_background": "light"
     },
     "output_type": "display_data"
    }
   ],
   "source": [
    "sns.distplot(Rushing_Offense['YPC'], fit=stats.norm)"
   ]
  },
  {
   "cell_type": "code",
   "execution_count": 60,
   "id": "72500f6c",
   "metadata": {},
   "outputs": [
    {
     "data": {
      "text/plain": [
       "(2.3367325017682785, 0.009726548721810079)"
      ]
     },
     "execution_count": 60,
     "metadata": {},
     "output_type": "execute_result"
    }
   ],
   "source": [
    "ztest(Rushing_Offense[Rushing_Offense['Years'] == 2021]['Rush_Yds'], value=Rushing_Offense['Rush_Yds'].mean(), alternative='larger')"
   ]
  },
  {
   "cell_type": "code",
   "execution_count": 61,
   "id": "e7323b5c",
   "metadata": {},
   "outputs": [
    {
     "data": {
      "text/plain": [
       "(2.9384271915667877, 0.0016494106542342818)"
      ]
     },
     "execution_count": 61,
     "metadata": {},
     "output_type": "execute_result"
    }
   ],
   "source": [
    "ztest(Rushing_Offense[Rushing_Offense['Years'] == 2021]['TD'], value=Rushing_Offense['TD'].mean(), alternative='larger')"
   ]
  },
  {
   "cell_type": "code",
   "execution_count": 64,
   "id": "7383502f",
   "metadata": {},
   "outputs": [
    {
     "data": {
      "text/plain": [
       "(1.7774810982124236, 0.03774455902820829)"
      ]
     },
     "execution_count": 64,
     "metadata": {},
     "output_type": "execute_result"
    }
   ],
   "source": [
    "ztest(Rushing_Offense[Rushing_Offense['Years'] == 2021]['YPC'], value=Rushing_Offense['YPC'].mean(), alternative='larger')"
   ]
  },
  {
   "cell_type": "code",
   "execution_count": null,
   "id": "4633f2ab",
   "metadata": {},
   "outputs": [],
   "source": []
  }
 ],
 "metadata": {
  "kernelspec": {
   "display_name": "Python 3 (ipykernel)",
   "language": "python",
   "name": "python3"
  },
  "language_info": {
   "codemirror_mode": {
    "name": "ipython",
    "version": 3
   },
   "file_extension": ".py",
   "mimetype": "text/x-python",
   "name": "python",
   "nbconvert_exporter": "python",
   "pygments_lexer": "ipython3",
   "version": "3.10.3"
  }
 },
 "nbformat": 4,
 "nbformat_minor": 5
}
