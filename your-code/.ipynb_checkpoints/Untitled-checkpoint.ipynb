{
 "cells": [
  {
   "cell_type": "markdown",
   "id": "e46e9184",
   "metadata": {},
   "source": [
    "### Proyecto 4 (Modulo 2)"
   ]
  },
  {
   "cell_type": "code",
   "execution_count": 1,
   "id": "e75a79cb",
   "metadata": {},
   "outputs": [],
   "source": [
    "import pandas as pd\n",
    "import numpy as np\n",
    "import matplotlib.pylab as plt\n",
    "%matplotlib inline"
   ]
  },
  {
   "cell_type": "code",
   "execution_count": 2,
   "id": "7da010e0",
   "metadata": {},
   "outputs": [],
   "source": [
    "df = pd.read_csv('GlobalLandTemperaturesByCountry.csv', delimiter=',')"
   ]
  },
  {
   "cell_type": "code",
   "execution_count": 3,
   "id": "31bb7aa8",
   "metadata": {},
   "outputs": [
    {
     "data": {
      "text/html": [
       "<div>\n",
       "<style scoped>\n",
       "    .dataframe tbody tr th:only-of-type {\n",
       "        vertical-align: middle;\n",
       "    }\n",
       "\n",
       "    .dataframe tbody tr th {\n",
       "        vertical-align: top;\n",
       "    }\n",
       "\n",
       "    .dataframe thead th {\n",
       "        text-align: right;\n",
       "    }\n",
       "</style>\n",
       "<table border=\"1\" class=\"dataframe\">\n",
       "  <thead>\n",
       "    <tr style=\"text-align: right;\">\n",
       "      <th></th>\n",
       "      <th>dt</th>\n",
       "      <th>AverageTemperature</th>\n",
       "      <th>AverageTemperatureUncertainty</th>\n",
       "      <th>Country</th>\n",
       "    </tr>\n",
       "  </thead>\n",
       "  <tbody>\n",
       "    <tr>\n",
       "      <th>0</th>\n",
       "      <td>1743-11-01</td>\n",
       "      <td>4.384</td>\n",
       "      <td>2.294</td>\n",
       "      <td>Åland</td>\n",
       "    </tr>\n",
       "    <tr>\n",
       "      <th>1</th>\n",
       "      <td>1743-12-01</td>\n",
       "      <td>NaN</td>\n",
       "      <td>NaN</td>\n",
       "      <td>Åland</td>\n",
       "    </tr>\n",
       "    <tr>\n",
       "      <th>2</th>\n",
       "      <td>1744-01-01</td>\n",
       "      <td>NaN</td>\n",
       "      <td>NaN</td>\n",
       "      <td>Åland</td>\n",
       "    </tr>\n",
       "    <tr>\n",
       "      <th>3</th>\n",
       "      <td>1744-02-01</td>\n",
       "      <td>NaN</td>\n",
       "      <td>NaN</td>\n",
       "      <td>Åland</td>\n",
       "    </tr>\n",
       "    <tr>\n",
       "      <th>4</th>\n",
       "      <td>1744-03-01</td>\n",
       "      <td>NaN</td>\n",
       "      <td>NaN</td>\n",
       "      <td>Åland</td>\n",
       "    </tr>\n",
       "    <tr>\n",
       "      <th>5</th>\n",
       "      <td>1744-04-01</td>\n",
       "      <td>1.530</td>\n",
       "      <td>4.680</td>\n",
       "      <td>Åland</td>\n",
       "    </tr>\n",
       "    <tr>\n",
       "      <th>6</th>\n",
       "      <td>1744-05-01</td>\n",
       "      <td>6.702</td>\n",
       "      <td>1.789</td>\n",
       "      <td>Åland</td>\n",
       "    </tr>\n",
       "    <tr>\n",
       "      <th>7</th>\n",
       "      <td>1744-06-01</td>\n",
       "      <td>11.609</td>\n",
       "      <td>1.577</td>\n",
       "      <td>Åland</td>\n",
       "    </tr>\n",
       "    <tr>\n",
       "      <th>8</th>\n",
       "      <td>1744-07-01</td>\n",
       "      <td>15.342</td>\n",
       "      <td>1.410</td>\n",
       "      <td>Åland</td>\n",
       "    </tr>\n",
       "    <tr>\n",
       "      <th>9</th>\n",
       "      <td>1744-08-01</td>\n",
       "      <td>NaN</td>\n",
       "      <td>NaN</td>\n",
       "      <td>Åland</td>\n",
       "    </tr>\n",
       "  </tbody>\n",
       "</table>\n",
       "</div>"
      ],
      "text/plain": [
       "           dt  AverageTemperature  AverageTemperatureUncertainty Country\n",
       "0  1743-11-01               4.384                          2.294   Åland\n",
       "1  1743-12-01                 NaN                            NaN   Åland\n",
       "2  1744-01-01                 NaN                            NaN   Åland\n",
       "3  1744-02-01                 NaN                            NaN   Åland\n",
       "4  1744-03-01                 NaN                            NaN   Åland\n",
       "5  1744-04-01               1.530                          4.680   Åland\n",
       "6  1744-05-01               6.702                          1.789   Åland\n",
       "7  1744-06-01              11.609                          1.577   Åland\n",
       "8  1744-07-01              15.342                          1.410   Åland\n",
       "9  1744-08-01                 NaN                            NaN   Åland"
      ]
     },
     "execution_count": 3,
     "metadata": {},
     "output_type": "execute_result"
    }
   ],
   "source": [
    "df.head(10)"
   ]
  },
  {
   "cell_type": "code",
   "execution_count": 4,
   "id": "72223892",
   "metadata": {},
   "outputs": [
    {
     "data": {
      "text/plain": [
       "pandas.core.frame.DataFrame"
      ]
     },
     "execution_count": 4,
     "metadata": {},
     "output_type": "execute_result"
    }
   ],
   "source": [
    "type(df)"
   ]
  },
  {
   "cell_type": "code",
   "execution_count": 5,
   "id": "edb60319",
   "metadata": {},
   "outputs": [
    {
     "data": {
      "text/html": [
       "<div>\n",
       "<style scoped>\n",
       "    .dataframe tbody tr th:only-of-type {\n",
       "        vertical-align: middle;\n",
       "    }\n",
       "\n",
       "    .dataframe tbody tr th {\n",
       "        vertical-align: top;\n",
       "    }\n",
       "\n",
       "    .dataframe thead th {\n",
       "        text-align: right;\n",
       "    }\n",
       "</style>\n",
       "<table border=\"1\" class=\"dataframe\">\n",
       "  <thead>\n",
       "    <tr style=\"text-align: right;\">\n",
       "      <th></th>\n",
       "      <th>AverageTemperature</th>\n",
       "      <th>AverageTemperatureUncertainty</th>\n",
       "    </tr>\n",
       "  </thead>\n",
       "  <tbody>\n",
       "    <tr>\n",
       "      <th>count</th>\n",
       "      <td>544811.000000</td>\n",
       "      <td>545550.000000</td>\n",
       "    </tr>\n",
       "    <tr>\n",
       "      <th>mean</th>\n",
       "      <td>17.193354</td>\n",
       "      <td>1.019057</td>\n",
       "    </tr>\n",
       "    <tr>\n",
       "      <th>std</th>\n",
       "      <td>10.953966</td>\n",
       "      <td>1.201930</td>\n",
       "    </tr>\n",
       "    <tr>\n",
       "      <th>min</th>\n",
       "      <td>-37.658000</td>\n",
       "      <td>0.052000</td>\n",
       "    </tr>\n",
       "    <tr>\n",
       "      <th>25%</th>\n",
       "      <td>10.025000</td>\n",
       "      <td>0.323000</td>\n",
       "    </tr>\n",
       "    <tr>\n",
       "      <th>50%</th>\n",
       "      <td>20.901000</td>\n",
       "      <td>0.571000</td>\n",
       "    </tr>\n",
       "    <tr>\n",
       "      <th>75%</th>\n",
       "      <td>25.814000</td>\n",
       "      <td>1.206000</td>\n",
       "    </tr>\n",
       "    <tr>\n",
       "      <th>max</th>\n",
       "      <td>38.842000</td>\n",
       "      <td>15.003000</td>\n",
       "    </tr>\n",
       "  </tbody>\n",
       "</table>\n",
       "</div>"
      ],
      "text/plain": [
       "       AverageTemperature  AverageTemperatureUncertainty\n",
       "count       544811.000000                  545550.000000\n",
       "mean            17.193354                       1.019057\n",
       "std             10.953966                       1.201930\n",
       "min            -37.658000                       0.052000\n",
       "25%             10.025000                       0.323000\n",
       "50%             20.901000                       0.571000\n",
       "75%             25.814000                       1.206000\n",
       "max             38.842000                      15.003000"
      ]
     },
     "execution_count": 5,
     "metadata": {},
     "output_type": "execute_result"
    }
   ],
   "source": [
    "df.describe()"
   ]
  },
  {
   "cell_type": "code",
   "execution_count": 6,
   "id": "fc8a855f",
   "metadata": {},
   "outputs": [],
   "source": [
    "df_country = df.Country.unique()"
   ]
  },
  {
   "cell_type": "code",
   "execution_count": 7,
   "id": "4ae837f6",
   "metadata": {},
   "outputs": [
    {
     "data": {
      "text/plain": [
       "243"
      ]
     },
     "execution_count": 7,
     "metadata": {},
     "output_type": "execute_result"
    }
   ],
   "source": [
    "len(df_country)"
   ]
  },
  {
   "cell_type": "code",
   "execution_count": 8,
   "id": "5e33e27b",
   "metadata": {},
   "outputs": [],
   "source": [
    "df_Mexico = df.drop('AverageTemperatureUncertainty', axis=1)"
   ]
  },
  {
   "cell_type": "code",
   "execution_count": 9,
   "id": "befe6ef9",
   "metadata": {},
   "outputs": [],
   "source": [
    "df_Mexico = df_Mexico[df_Mexico.Country == 'Mexico']"
   ]
  },
  {
   "cell_type": "code",
   "execution_count": 10,
   "id": "d56d0a97",
   "metadata": {},
   "outputs": [
    {
     "data": {
      "text/html": [
       "<div>\n",
       "<style scoped>\n",
       "    .dataframe tbody tr th:only-of-type {\n",
       "        vertical-align: middle;\n",
       "    }\n",
       "\n",
       "    .dataframe tbody tr th {\n",
       "        vertical-align: top;\n",
       "    }\n",
       "\n",
       "    .dataframe thead th {\n",
       "        text-align: right;\n",
       "    }\n",
       "</style>\n",
       "<table border=\"1\" class=\"dataframe\">\n",
       "  <thead>\n",
       "    <tr style=\"text-align: right;\">\n",
       "      <th></th>\n",
       "      <th>dt</th>\n",
       "      <th>AverageTemperature</th>\n",
       "      <th>Country</th>\n",
       "    </tr>\n",
       "  </thead>\n",
       "  <tbody>\n",
       "    <tr>\n",
       "      <th>338438</th>\n",
       "      <td>1835-01-01</td>\n",
       "      <td>15.810</td>\n",
       "      <td>Mexico</td>\n",
       "    </tr>\n",
       "    <tr>\n",
       "      <th>338439</th>\n",
       "      <td>1835-02-01</td>\n",
       "      <td>14.911</td>\n",
       "      <td>Mexico</td>\n",
       "    </tr>\n",
       "    <tr>\n",
       "      <th>338440</th>\n",
       "      <td>1835-03-01</td>\n",
       "      <td>16.826</td>\n",
       "      <td>Mexico</td>\n",
       "    </tr>\n",
       "    <tr>\n",
       "      <th>338441</th>\n",
       "      <td>1835-04-01</td>\n",
       "      <td>19.925</td>\n",
       "      <td>Mexico</td>\n",
       "    </tr>\n",
       "    <tr>\n",
       "      <th>338442</th>\n",
       "      <td>1835-05-01</td>\n",
       "      <td>22.037</td>\n",
       "      <td>Mexico</td>\n",
       "    </tr>\n",
       "    <tr>\n",
       "      <th>...</th>\n",
       "      <td>...</td>\n",
       "      <td>...</td>\n",
       "      <td>...</td>\n",
       "    </tr>\n",
       "    <tr>\n",
       "      <th>340578</th>\n",
       "      <td>2013-05-01</td>\n",
       "      <td>24.113</td>\n",
       "      <td>Mexico</td>\n",
       "    </tr>\n",
       "    <tr>\n",
       "      <th>340579</th>\n",
       "      <td>2013-06-01</td>\n",
       "      <td>26.225</td>\n",
       "      <td>Mexico</td>\n",
       "    </tr>\n",
       "    <tr>\n",
       "      <th>340580</th>\n",
       "      <td>2013-07-01</td>\n",
       "      <td>25.304</td>\n",
       "      <td>Mexico</td>\n",
       "    </tr>\n",
       "    <tr>\n",
       "      <th>340581</th>\n",
       "      <td>2013-08-01</td>\n",
       "      <td>25.274</td>\n",
       "      <td>Mexico</td>\n",
       "    </tr>\n",
       "    <tr>\n",
       "      <th>340582</th>\n",
       "      <td>2013-09-01</td>\n",
       "      <td>24.990</td>\n",
       "      <td>Mexico</td>\n",
       "    </tr>\n",
       "  </tbody>\n",
       "</table>\n",
       "<p>2145 rows × 3 columns</p>\n",
       "</div>"
      ],
      "text/plain": [
       "                dt  AverageTemperature Country\n",
       "338438  1835-01-01              15.810  Mexico\n",
       "338439  1835-02-01              14.911  Mexico\n",
       "338440  1835-03-01              16.826  Mexico\n",
       "338441  1835-04-01              19.925  Mexico\n",
       "338442  1835-05-01              22.037  Mexico\n",
       "...            ...                 ...     ...\n",
       "340578  2013-05-01              24.113  Mexico\n",
       "340579  2013-06-01              26.225  Mexico\n",
       "340580  2013-07-01              25.304  Mexico\n",
       "340581  2013-08-01              25.274  Mexico\n",
       "340582  2013-09-01              24.990  Mexico\n",
       "\n",
       "[2145 rows x 3 columns]"
      ]
     },
     "execution_count": 10,
     "metadata": {},
     "output_type": "execute_result"
    }
   ],
   "source": [
    "df_Mexico"
   ]
  },
  {
   "cell_type": "code",
   "execution_count": 11,
   "id": "5875c942",
   "metadata": {},
   "outputs": [],
   "source": [
    "df_Mexico = df_Mexico.drop('Country',axis=1)\n"
   ]
  },
  {
   "cell_type": "code",
   "execution_count": 12,
   "id": "36ac2f02",
   "metadata": {},
   "outputs": [
    {
     "data": {
      "text/html": [
       "<div>\n",
       "<style scoped>\n",
       "    .dataframe tbody tr th:only-of-type {\n",
       "        vertical-align: middle;\n",
       "    }\n",
       "\n",
       "    .dataframe tbody tr th {\n",
       "        vertical-align: top;\n",
       "    }\n",
       "\n",
       "    .dataframe thead th {\n",
       "        text-align: right;\n",
       "    }\n",
       "</style>\n",
       "<table border=\"1\" class=\"dataframe\">\n",
       "  <thead>\n",
       "    <tr style=\"text-align: right;\">\n",
       "      <th></th>\n",
       "      <th>dt</th>\n",
       "      <th>AverageTemperature</th>\n",
       "    </tr>\n",
       "  </thead>\n",
       "  <tbody>\n",
       "    <tr>\n",
       "      <th>338438</th>\n",
       "      <td>1835-01-01</td>\n",
       "      <td>15.810</td>\n",
       "    </tr>\n",
       "    <tr>\n",
       "      <th>338439</th>\n",
       "      <td>1835-02-01</td>\n",
       "      <td>14.911</td>\n",
       "    </tr>\n",
       "    <tr>\n",
       "      <th>338440</th>\n",
       "      <td>1835-03-01</td>\n",
       "      <td>16.826</td>\n",
       "    </tr>\n",
       "    <tr>\n",
       "      <th>338441</th>\n",
       "      <td>1835-04-01</td>\n",
       "      <td>19.925</td>\n",
       "    </tr>\n",
       "    <tr>\n",
       "      <th>338442</th>\n",
       "      <td>1835-05-01</td>\n",
       "      <td>22.037</td>\n",
       "    </tr>\n",
       "    <tr>\n",
       "      <th>...</th>\n",
       "      <td>...</td>\n",
       "      <td>...</td>\n",
       "    </tr>\n",
       "    <tr>\n",
       "      <th>340578</th>\n",
       "      <td>2013-05-01</td>\n",
       "      <td>24.113</td>\n",
       "    </tr>\n",
       "    <tr>\n",
       "      <th>340579</th>\n",
       "      <td>2013-06-01</td>\n",
       "      <td>26.225</td>\n",
       "    </tr>\n",
       "    <tr>\n",
       "      <th>340580</th>\n",
       "      <td>2013-07-01</td>\n",
       "      <td>25.304</td>\n",
       "    </tr>\n",
       "    <tr>\n",
       "      <th>340581</th>\n",
       "      <td>2013-08-01</td>\n",
       "      <td>25.274</td>\n",
       "    </tr>\n",
       "    <tr>\n",
       "      <th>340582</th>\n",
       "      <td>2013-09-01</td>\n",
       "      <td>24.990</td>\n",
       "    </tr>\n",
       "  </tbody>\n",
       "</table>\n",
       "<p>2145 rows × 2 columns</p>\n",
       "</div>"
      ],
      "text/plain": [
       "                dt  AverageTemperature\n",
       "338438  1835-01-01              15.810\n",
       "338439  1835-02-01              14.911\n",
       "338440  1835-03-01              16.826\n",
       "338441  1835-04-01              19.925\n",
       "338442  1835-05-01              22.037\n",
       "...            ...                 ...\n",
       "340578  2013-05-01              24.113\n",
       "340579  2013-06-01              26.225\n",
       "340580  2013-07-01              25.304\n",
       "340581  2013-08-01              25.274\n",
       "340582  2013-09-01              24.990\n",
       "\n",
       "[2145 rows x 2 columns]"
      ]
     },
     "execution_count": 12,
     "metadata": {},
     "output_type": "execute_result"
    }
   ],
   "source": [
    "df_Mexico"
   ]
  },
  {
   "cell_type": "code",
   "execution_count": 13,
   "id": "f86bdc77",
   "metadata": {},
   "outputs": [],
   "source": [
    "df_Mexico.index = pd.to_datetime(df_Mexico.dt)"
   ]
  },
  {
   "cell_type": "code",
   "execution_count": 14,
   "id": "d2803356",
   "metadata": {},
   "outputs": [
    {
     "data": {
      "text/html": [
       "<div>\n",
       "<style scoped>\n",
       "    .dataframe tbody tr th:only-of-type {\n",
       "        vertical-align: middle;\n",
       "    }\n",
       "\n",
       "    .dataframe tbody tr th {\n",
       "        vertical-align: top;\n",
       "    }\n",
       "\n",
       "    .dataframe thead th {\n",
       "        text-align: right;\n",
       "    }\n",
       "</style>\n",
       "<table border=\"1\" class=\"dataframe\">\n",
       "  <thead>\n",
       "    <tr style=\"text-align: right;\">\n",
       "      <th></th>\n",
       "      <th>dt</th>\n",
       "      <th>AverageTemperature</th>\n",
       "    </tr>\n",
       "    <tr>\n",
       "      <th>dt</th>\n",
       "      <th></th>\n",
       "      <th></th>\n",
       "    </tr>\n",
       "  </thead>\n",
       "  <tbody>\n",
       "    <tr>\n",
       "      <th>1835-01-01</th>\n",
       "      <td>1835-01-01</td>\n",
       "      <td>15.810</td>\n",
       "    </tr>\n",
       "    <tr>\n",
       "      <th>1835-02-01</th>\n",
       "      <td>1835-02-01</td>\n",
       "      <td>14.911</td>\n",
       "    </tr>\n",
       "    <tr>\n",
       "      <th>1835-03-01</th>\n",
       "      <td>1835-03-01</td>\n",
       "      <td>16.826</td>\n",
       "    </tr>\n",
       "    <tr>\n",
       "      <th>1835-04-01</th>\n",
       "      <td>1835-04-01</td>\n",
       "      <td>19.925</td>\n",
       "    </tr>\n",
       "    <tr>\n",
       "      <th>1835-05-01</th>\n",
       "      <td>1835-05-01</td>\n",
       "      <td>22.037</td>\n",
       "    </tr>\n",
       "    <tr>\n",
       "      <th>...</th>\n",
       "      <td>...</td>\n",
       "      <td>...</td>\n",
       "    </tr>\n",
       "    <tr>\n",
       "      <th>2013-05-01</th>\n",
       "      <td>2013-05-01</td>\n",
       "      <td>24.113</td>\n",
       "    </tr>\n",
       "    <tr>\n",
       "      <th>2013-06-01</th>\n",
       "      <td>2013-06-01</td>\n",
       "      <td>26.225</td>\n",
       "    </tr>\n",
       "    <tr>\n",
       "      <th>2013-07-01</th>\n",
       "      <td>2013-07-01</td>\n",
       "      <td>25.304</td>\n",
       "    </tr>\n",
       "    <tr>\n",
       "      <th>2013-08-01</th>\n",
       "      <td>2013-08-01</td>\n",
       "      <td>25.274</td>\n",
       "    </tr>\n",
       "    <tr>\n",
       "      <th>2013-09-01</th>\n",
       "      <td>2013-09-01</td>\n",
       "      <td>24.990</td>\n",
       "    </tr>\n",
       "  </tbody>\n",
       "</table>\n",
       "<p>2145 rows × 2 columns</p>\n",
       "</div>"
      ],
      "text/plain": [
       "                    dt  AverageTemperature\n",
       "dt                                        \n",
       "1835-01-01  1835-01-01              15.810\n",
       "1835-02-01  1835-02-01              14.911\n",
       "1835-03-01  1835-03-01              16.826\n",
       "1835-04-01  1835-04-01              19.925\n",
       "1835-05-01  1835-05-01              22.037\n",
       "...                ...                 ...\n",
       "2013-05-01  2013-05-01              24.113\n",
       "2013-06-01  2013-06-01              26.225\n",
       "2013-07-01  2013-07-01              25.304\n",
       "2013-08-01  2013-08-01              25.274\n",
       "2013-09-01  2013-09-01              24.990\n",
       "\n",
       "[2145 rows x 2 columns]"
      ]
     },
     "execution_count": 14,
     "metadata": {},
     "output_type": "execute_result"
    }
   ],
   "source": [
    "df_Mexico"
   ]
  },
  {
   "cell_type": "code",
   "execution_count": 15,
   "id": "08cce026",
   "metadata": {},
   "outputs": [],
   "source": [
    "df_Mexico = df_Mexico.drop('dt', axis=1)"
   ]
  },
  {
   "cell_type": "code",
   "execution_count": 16,
   "id": "7b44a1aa",
   "metadata": {},
   "outputs": [],
   "source": [
    "df_Mexico = df_Mexico.loc['1970-01-01':]"
   ]
  },
  {
   "cell_type": "code",
   "execution_count": 17,
   "id": "cdd4102c",
   "metadata": {},
   "outputs": [
    {
     "data": {
      "text/html": [
       "<div>\n",
       "<style scoped>\n",
       "    .dataframe tbody tr th:only-of-type {\n",
       "        vertical-align: middle;\n",
       "    }\n",
       "\n",
       "    .dataframe tbody tr th {\n",
       "        vertical-align: top;\n",
       "    }\n",
       "\n",
       "    .dataframe thead th {\n",
       "        text-align: right;\n",
       "    }\n",
       "</style>\n",
       "<table border=\"1\" class=\"dataframe\">\n",
       "  <thead>\n",
       "    <tr style=\"text-align: right;\">\n",
       "      <th></th>\n",
       "      <th>AverageTemperature</th>\n",
       "    </tr>\n",
       "    <tr>\n",
       "      <th>dt</th>\n",
       "      <th></th>\n",
       "    </tr>\n",
       "  </thead>\n",
       "  <tbody>\n",
       "    <tr>\n",
       "      <th>1970-01-01</th>\n",
       "      <td>14.483</td>\n",
       "    </tr>\n",
       "    <tr>\n",
       "      <th>1970-02-01</th>\n",
       "      <td>16.020</td>\n",
       "    </tr>\n",
       "    <tr>\n",
       "      <th>1970-03-01</th>\n",
       "      <td>17.919</td>\n",
       "    </tr>\n",
       "    <tr>\n",
       "      <th>1970-04-01</th>\n",
       "      <td>21.513</td>\n",
       "    </tr>\n",
       "    <tr>\n",
       "      <th>1970-05-01</th>\n",
       "      <td>23.004</td>\n",
       "    </tr>\n",
       "  </tbody>\n",
       "</table>\n",
       "</div>"
      ],
      "text/plain": [
       "            AverageTemperature\n",
       "dt                            \n",
       "1970-01-01              14.483\n",
       "1970-02-01              16.020\n",
       "1970-03-01              17.919\n",
       "1970-04-01              21.513\n",
       "1970-05-01              23.004"
      ]
     },
     "execution_count": 17,
     "metadata": {},
     "output_type": "execute_result"
    }
   ],
   "source": [
    "df_Mexico.head()"
   ]
  },
  {
   "cell_type": "code",
   "execution_count": 18,
   "id": "0200ea7d",
   "metadata": {},
   "outputs": [
    {
     "data": {
      "text/html": [
       "<div>\n",
       "<style scoped>\n",
       "    .dataframe tbody tr th:only-of-type {\n",
       "        vertical-align: middle;\n",
       "    }\n",
       "\n",
       "    .dataframe tbody tr th {\n",
       "        vertical-align: top;\n",
       "    }\n",
       "\n",
       "    .dataframe thead th {\n",
       "        text-align: right;\n",
       "    }\n",
       "</style>\n",
       "<table border=\"1\" class=\"dataframe\">\n",
       "  <thead>\n",
       "    <tr style=\"text-align: right;\">\n",
       "      <th></th>\n",
       "      <th>AverageTemperature</th>\n",
       "    </tr>\n",
       "    <tr>\n",
       "      <th>dt</th>\n",
       "      <th></th>\n",
       "    </tr>\n",
       "  </thead>\n",
       "  <tbody>\n",
       "    <tr>\n",
       "      <th>1970-01-01</th>\n",
       "      <td>NaN</td>\n",
       "    </tr>\n",
       "    <tr>\n",
       "      <th>1970-02-01</th>\n",
       "      <td>NaN</td>\n",
       "    </tr>\n",
       "    <tr>\n",
       "      <th>1970-03-01</th>\n",
       "      <td>NaN</td>\n",
       "    </tr>\n",
       "    <tr>\n",
       "      <th>1970-04-01</th>\n",
       "      <td>NaN</td>\n",
       "    </tr>\n",
       "    <tr>\n",
       "      <th>1970-05-01</th>\n",
       "      <td>NaN</td>\n",
       "    </tr>\n",
       "    <tr>\n",
       "      <th>...</th>\n",
       "      <td>...</td>\n",
       "    </tr>\n",
       "    <tr>\n",
       "      <th>2013-05-01</th>\n",
       "      <td>NaN</td>\n",
       "    </tr>\n",
       "    <tr>\n",
       "      <th>2013-06-01</th>\n",
       "      <td>NaN</td>\n",
       "    </tr>\n",
       "    <tr>\n",
       "      <th>2013-07-01</th>\n",
       "      <td>NaN</td>\n",
       "    </tr>\n",
       "    <tr>\n",
       "      <th>2013-08-01</th>\n",
       "      <td>NaN</td>\n",
       "    </tr>\n",
       "    <tr>\n",
       "      <th>2013-09-01</th>\n",
       "      <td>NaN</td>\n",
       "    </tr>\n",
       "  </tbody>\n",
       "</table>\n",
       "<p>525 rows × 1 columns</p>\n",
       "</div>"
      ],
      "text/plain": [
       "            AverageTemperature\n",
       "dt                            \n",
       "1970-01-01                 NaN\n",
       "1970-02-01                 NaN\n",
       "1970-03-01                 NaN\n",
       "1970-04-01                 NaN\n",
       "1970-05-01                 NaN\n",
       "...                        ...\n",
       "2013-05-01                 NaN\n",
       "2013-06-01                 NaN\n",
       "2013-07-01                 NaN\n",
       "2013-08-01                 NaN\n",
       "2013-09-01                 NaN\n",
       "\n",
       "[525 rows x 1 columns]"
      ]
     },
     "execution_count": 18,
     "metadata": {},
     "output_type": "execute_result"
    }
   ],
   "source": [
    "df_Mexico[df_Mexico.isnull()]"
   ]
  },
  {
   "cell_type": "code",
   "execution_count": 19,
   "id": "5f35cbb7",
   "metadata": {},
   "outputs": [
    {
     "data": {
      "text/plain": [
       "525"
      ]
     },
     "execution_count": 19,
     "metadata": {},
     "output_type": "execute_result"
    }
   ],
   "source": [
    "len(df_Mexico[df_Mexico.isnull()])"
   ]
  },
  {
   "cell_type": "code",
   "execution_count": 20,
   "id": "90256a7d",
   "metadata": {},
   "outputs": [],
   "source": [
    "df_Mexico = df_Mexico.sort_index()"
   ]
  },
  {
   "cell_type": "code",
   "execution_count": 21,
   "id": "8b9106c2",
   "metadata": {},
   "outputs": [
    {
     "data": {
      "text/plain": [
       "DatetimeIndex(['1970-01-01', '1970-02-01', '1970-03-01', '1970-04-01',\n",
       "               '1970-05-01', '1970-06-01', '1970-07-01', '1970-08-01',\n",
       "               '1970-09-01', '1970-10-01',\n",
       "               ...\n",
       "               '2012-12-01', '2013-01-01', '2013-02-01', '2013-03-01',\n",
       "               '2013-04-01', '2013-05-01', '2013-06-01', '2013-07-01',\n",
       "               '2013-08-01', '2013-09-01'],\n",
       "              dtype='datetime64[ns]', name='dt', length=525, freq=None)"
      ]
     },
     "execution_count": 21,
     "metadata": {},
     "output_type": "execute_result"
    }
   ],
   "source": [
    "df_Mexico.index"
   ]
  },
  {
   "cell_type": "code",
   "execution_count": 22,
   "id": "5952ee8c",
   "metadata": {},
   "outputs": [],
   "source": [
    "df_Mexico.AverageTemperature.fillna(method='pad', inplace=True)\n"
   ]
  },
  {
   "cell_type": "code",
   "execution_count": 23,
   "id": "9c393c8c",
   "metadata": {},
   "outputs": [
    {
     "data": {
      "text/html": [
       "<div>\n",
       "<style scoped>\n",
       "    .dataframe tbody tr th:only-of-type {\n",
       "        vertical-align: middle;\n",
       "    }\n",
       "\n",
       "    .dataframe tbody tr th {\n",
       "        vertical-align: top;\n",
       "    }\n",
       "\n",
       "    .dataframe thead th {\n",
       "        text-align: right;\n",
       "    }\n",
       "</style>\n",
       "<table border=\"1\" class=\"dataframe\">\n",
       "  <thead>\n",
       "    <tr style=\"text-align: right;\">\n",
       "      <th></th>\n",
       "      <th>AverageTemperature</th>\n",
       "    </tr>\n",
       "    <tr>\n",
       "      <th>dt</th>\n",
       "      <th></th>\n",
       "    </tr>\n",
       "  </thead>\n",
       "  <tbody>\n",
       "  </tbody>\n",
       "</table>\n",
       "</div>"
      ],
      "text/plain": [
       "Empty DataFrame\n",
       "Columns: [AverageTemperature]\n",
       "Index: []"
      ]
     },
     "execution_count": 23,
     "metadata": {},
     "output_type": "execute_result"
    }
   ],
   "source": [
    "df_Mexico[df_Mexico.AverageTemperature.isnull()]\n"
   ]
  },
  {
   "cell_type": "code",
   "execution_count": 24,
   "id": "74631d7a",
   "metadata": {},
   "outputs": [
    {
     "data": {
      "text/html": [
       "<div>\n",
       "<style scoped>\n",
       "    .dataframe tbody tr th:only-of-type {\n",
       "        vertical-align: middle;\n",
       "    }\n",
       "\n",
       "    .dataframe tbody tr th {\n",
       "        vertical-align: top;\n",
       "    }\n",
       "\n",
       "    .dataframe thead th {\n",
       "        text-align: right;\n",
       "    }\n",
       "</style>\n",
       "<table border=\"1\" class=\"dataframe\">\n",
       "  <thead>\n",
       "    <tr style=\"text-align: right;\">\n",
       "      <th></th>\n",
       "      <th>AverageTemperature</th>\n",
       "    </tr>\n",
       "  </thead>\n",
       "  <tbody>\n",
       "    <tr>\n",
       "      <th>count</th>\n",
       "      <td>525.000000</td>\n",
       "    </tr>\n",
       "    <tr>\n",
       "      <th>mean</th>\n",
       "      <td>20.972914</td>\n",
       "    </tr>\n",
       "    <tr>\n",
       "      <th>std</th>\n",
       "      <td>3.722311</td>\n",
       "    </tr>\n",
       "    <tr>\n",
       "      <th>min</th>\n",
       "      <td>13.758000</td>\n",
       "    </tr>\n",
       "    <tr>\n",
       "      <th>25%</th>\n",
       "      <td>17.570000</td>\n",
       "    </tr>\n",
       "    <tr>\n",
       "      <th>50%</th>\n",
       "      <td>21.451000</td>\n",
       "    </tr>\n",
       "    <tr>\n",
       "      <th>75%</th>\n",
       "      <td>24.515000</td>\n",
       "    </tr>\n",
       "    <tr>\n",
       "      <th>max</th>\n",
       "      <td>26.926000</td>\n",
       "    </tr>\n",
       "  </tbody>\n",
       "</table>\n",
       "</div>"
      ],
      "text/plain": [
       "       AverageTemperature\n",
       "count          525.000000\n",
       "mean            20.972914\n",
       "std              3.722311\n",
       "min             13.758000\n",
       "25%             17.570000\n",
       "50%             21.451000\n",
       "75%             24.515000\n",
       "max             26.926000"
      ]
     },
     "execution_count": 24,
     "metadata": {},
     "output_type": "execute_result"
    }
   ],
   "source": [
    "df_Mexico.describe()"
   ]
  },
  {
   "cell_type": "code",
   "execution_count": 25,
   "id": "a4dac012",
   "metadata": {},
   "outputs": [],
   "source": [
    "df_Mexico['Ticks'] = range(0,len(df_Mexico.index.values))\n"
   ]
  },
  {
   "cell_type": "code",
   "execution_count": 26,
   "id": "87272e1e",
   "metadata": {},
   "outputs": [
    {
     "data": {
      "text/html": [
       "<div>\n",
       "<style scoped>\n",
       "    .dataframe tbody tr th:only-of-type {\n",
       "        vertical-align: middle;\n",
       "    }\n",
       "\n",
       "    .dataframe tbody tr th {\n",
       "        vertical-align: top;\n",
       "    }\n",
       "\n",
       "    .dataframe thead th {\n",
       "        text-align: right;\n",
       "    }\n",
       "</style>\n",
       "<table border=\"1\" class=\"dataframe\">\n",
       "  <thead>\n",
       "    <tr style=\"text-align: right;\">\n",
       "      <th></th>\n",
       "      <th>AverageTemperature</th>\n",
       "      <th>Ticks</th>\n",
       "    </tr>\n",
       "    <tr>\n",
       "      <th>dt</th>\n",
       "      <th></th>\n",
       "      <th></th>\n",
       "    </tr>\n",
       "  </thead>\n",
       "  <tbody>\n",
       "    <tr>\n",
       "      <th>1970-01-01</th>\n",
       "      <td>14.483</td>\n",
       "      <td>0</td>\n",
       "    </tr>\n",
       "    <tr>\n",
       "      <th>1970-02-01</th>\n",
       "      <td>16.020</td>\n",
       "      <td>1</td>\n",
       "    </tr>\n",
       "    <tr>\n",
       "      <th>1970-03-01</th>\n",
       "      <td>17.919</td>\n",
       "      <td>2</td>\n",
       "    </tr>\n",
       "    <tr>\n",
       "      <th>1970-04-01</th>\n",
       "      <td>21.513</td>\n",
       "      <td>3</td>\n",
       "    </tr>\n",
       "    <tr>\n",
       "      <th>1970-05-01</th>\n",
       "      <td>23.004</td>\n",
       "      <td>4</td>\n",
       "    </tr>\n",
       "  </tbody>\n",
       "</table>\n",
       "</div>"
      ],
      "text/plain": [
       "            AverageTemperature  Ticks\n",
       "dt                                   \n",
       "1970-01-01              14.483      0\n",
       "1970-02-01              16.020      1\n",
       "1970-03-01              17.919      2\n",
       "1970-04-01              21.513      3\n",
       "1970-05-01              23.004      4"
      ]
     },
     "execution_count": 26,
     "metadata": {},
     "output_type": "execute_result"
    }
   ],
   "source": [
    "df_Mexico.head()"
   ]
  },
  {
   "cell_type": "code",
   "execution_count": 27,
   "id": "0b17469f",
   "metadata": {},
   "outputs": [
    {
     "data": {
      "text/html": [
       "<div>\n",
       "<style scoped>\n",
       "    .dataframe tbody tr th:only-of-type {\n",
       "        vertical-align: middle;\n",
       "    }\n",
       "\n",
       "    .dataframe tbody tr th {\n",
       "        vertical-align: top;\n",
       "    }\n",
       "\n",
       "    .dataframe thead th {\n",
       "        text-align: right;\n",
       "    }\n",
       "</style>\n",
       "<table border=\"1\" class=\"dataframe\">\n",
       "  <thead>\n",
       "    <tr style=\"text-align: right;\">\n",
       "      <th></th>\n",
       "      <th>AverageTemperature</th>\n",
       "      <th>Ticks</th>\n",
       "    </tr>\n",
       "    <tr>\n",
       "      <th>dt</th>\n",
       "      <th></th>\n",
       "      <th></th>\n",
       "    </tr>\n",
       "  </thead>\n",
       "  <tbody>\n",
       "    <tr>\n",
       "      <th>2013-05-01</th>\n",
       "      <td>24.113</td>\n",
       "      <td>520</td>\n",
       "    </tr>\n",
       "    <tr>\n",
       "      <th>2013-06-01</th>\n",
       "      <td>26.225</td>\n",
       "      <td>521</td>\n",
       "    </tr>\n",
       "    <tr>\n",
       "      <th>2013-07-01</th>\n",
       "      <td>25.304</td>\n",
       "      <td>522</td>\n",
       "    </tr>\n",
       "    <tr>\n",
       "      <th>2013-08-01</th>\n",
       "      <td>25.274</td>\n",
       "      <td>523</td>\n",
       "    </tr>\n",
       "    <tr>\n",
       "      <th>2013-09-01</th>\n",
       "      <td>24.990</td>\n",
       "      <td>524</td>\n",
       "    </tr>\n",
       "  </tbody>\n",
       "</table>\n",
       "</div>"
      ],
      "text/plain": [
       "            AverageTemperature  Ticks\n",
       "dt                                   \n",
       "2013-05-01              24.113    520\n",
       "2013-06-01              26.225    521\n",
       "2013-07-01              25.304    522\n",
       "2013-08-01              25.274    523\n",
       "2013-09-01              24.990    524"
      ]
     },
     "execution_count": 27,
     "metadata": {},
     "output_type": "execute_result"
    }
   ],
   "source": [
    "df_Mexico.tail()"
   ]
  },
  {
   "cell_type": "code",
   "execution_count": 28,
   "id": "b8caaab0",
   "metadata": {},
   "outputs": [
    {
     "data": {
      "image/png": "[encoded data removed]",
      "text/plain": [
       "<Figure size 432x288 with 1 Axes>"
      ]
     },
     "metadata": {
      "needs_background": "light"
     },
     "output_type": "display_data"
    }
   ],
   "source": [
    "fig = plt.figure(1)\n",
    "ax1 = fig.add_subplot(111)\n",
    "ax1.set_xlabel('Ticks')\n",
    "ax1.set_ylabel('Avg. Temp.')\n",
    "ax1.set_title('Original Plot')\n",
    "ax1.plot('Ticks', 'AverageTemperature', data = df_Mexico);"
   ]
  },
  {
   "cell_type": "code",
   "execution_count": 29,
   "id": "180acaec",
   "metadata": {},
   "outputs": [
    {
     "data": {
      "text/html": [
       "<div>\n",
       "<style scoped>\n",
       "    .dataframe tbody tr th:only-of-type {\n",
       "        vertical-align: middle;\n",
       "    }\n",
       "\n",
       "    .dataframe tbody tr th {\n",
       "        vertical-align: top;\n",
       "    }\n",
       "\n",
       "    .dataframe thead th {\n",
       "        text-align: right;\n",
       "    }\n",
       "</style>\n",
       "<table border=\"1\" class=\"dataframe\">\n",
       "  <thead>\n",
       "    <tr style=\"text-align: right;\">\n",
       "      <th></th>\n",
       "      <th>AverageTemperature</th>\n",
       "      <th>Ticks</th>\n",
       "    </tr>\n",
       "    <tr>\n",
       "      <th>dt</th>\n",
       "      <th></th>\n",
       "      <th></th>\n",
       "    </tr>\n",
       "  </thead>\n",
       "  <tbody>\n",
       "    <tr>\n",
       "      <th>1970-01-01</th>\n",
       "      <td>14.483</td>\n",
       "      <td>0</td>\n",
       "    </tr>\n",
       "    <tr>\n",
       "      <th>1970-02-01</th>\n",
       "      <td>16.020</td>\n",
       "      <td>1</td>\n",
       "    </tr>\n",
       "    <tr>\n",
       "      <th>1970-03-01</th>\n",
       "      <td>17.919</td>\n",
       "      <td>2</td>\n",
       "    </tr>\n",
       "    <tr>\n",
       "      <th>1970-04-01</th>\n",
       "      <td>21.513</td>\n",
       "      <td>3</td>\n",
       "    </tr>\n",
       "    <tr>\n",
       "      <th>1970-05-01</th>\n",
       "      <td>23.004</td>\n",
       "      <td>4</td>\n",
       "    </tr>\n",
       "    <tr>\n",
       "      <th>...</th>\n",
       "      <td>...</td>\n",
       "      <td>...</td>\n",
       "    </tr>\n",
       "    <tr>\n",
       "      <th>2013-05-01</th>\n",
       "      <td>24.113</td>\n",
       "      <td>520</td>\n",
       "    </tr>\n",
       "    <tr>\n",
       "      <th>2013-06-01</th>\n",
       "      <td>26.225</td>\n",
       "      <td>521</td>\n",
       "    </tr>\n",
       "    <tr>\n",
       "      <th>2013-07-01</th>\n",
       "      <td>25.304</td>\n",
       "      <td>522</td>\n",
       "    </tr>\n",
       "    <tr>\n",
       "      <th>2013-08-01</th>\n",
       "      <td>25.274</td>\n",
       "      <td>523</td>\n",
       "    </tr>\n",
       "    <tr>\n",
       "      <th>2013-09-01</th>\n",
       "      <td>24.990</td>\n",
       "      <td>524</td>\n",
       "    </tr>\n",
       "  </tbody>\n",
       "</table>\n",
       "<p>525 rows × 2 columns</p>\n",
       "</div>"
      ],
      "text/plain": [
       "            AverageTemperature  Ticks\n",
       "dt                                   \n",
       "1970-01-01              14.483      0\n",
       "1970-02-01              16.020      1\n",
       "1970-03-01              17.919      2\n",
       "1970-04-01              21.513      3\n",
       "1970-05-01              23.004      4\n",
       "...                        ...    ...\n",
       "2013-05-01              24.113    520\n",
       "2013-06-01              26.225    521\n",
       "2013-07-01              25.304    522\n",
       "2013-08-01              25.274    523\n",
       "2013-09-01              24.990    524\n",
       "\n",
       "[525 rows x 2 columns]"
      ]
     },
     "execution_count": 29,
     "metadata": {},
     "output_type": "execute_result"
    }
   ],
   "source": [
    "df_Mexico"
   ]
  },
  {
   "cell_type": "code",
   "execution_count": 30,
   "id": "ba517caa",
   "metadata": {},
   "outputs": [],
   "source": [
    "df_Mexico.to_csv('tempmex.csv', header=False, index=False)"
   ]
  },
  {
   "cell_type": "code",
   "execution_count": 31,
   "id": "d0314e4a",
   "metadata": {},
   "outputs": [],
   "source": [
    "from statsmodels.tsa.stattools import adfuller\n",
    "def stationarity_check(ts):\n",
    "    \n",
    "    # Determing rolling statistics\n",
    "    roll_mean = df_Mexico.AverageTemperature.rolling(center=False,window=12).mean()\n",
    "    # Plot rolling statistics:\n",
    "    plt.plot(ts, color='green',label='Original')\n",
    "    plt.plot(roll_mean, color='blue', label='MediaTemp')\n",
    "    plt.legend(loc='best')\n",
    "    plt.title('MediaTemp')\n",
    "    plt.show(block=False)\n",
    "    \n",
    "    # Perform Augmented Dickey-Fuller test:\n",
    "    print('Augmented Dickey-Fuller test:')\n",
    "    df_test = adfuller(ts)\n",
    "    print(\"type of df_test: \",type(df_test))\n",
    "    print(\"df_test: \",df_test)\n",
    "    df_output = pd.Series(df_test[0:4], index=['Test Statistic','p-value','#Lags Used','Number of Observations Used'])\n",
    "    print(\"df_output: \\n\",df_output)\n",
    "    for key,value in df_test[4].items():\n",
    "        df_output['Critical Value (%s)'%key] = value\n",
    "    print(df_output)"
   ]
  },
  {
   "cell_type": "code",
   "execution_count": 32,
   "id": "94319531",
   "metadata": {},
   "outputs": [
    {
     "data": {
      "image/png": "[encoded data removed]",
      "text/plain": [
       "<Figure size 432x288 with 1 Axes>"
      ]
     },
     "metadata": {
      "needs_background": "light"
     },
     "output_type": "display_data"
    },
    {
     "name": "stdout",
     "output_type": "stream",
     "text": [
      "Augmented Dickey-Fuller test:\n",
      "type of df_test:  <class 'tuple'>\n",
      "df_test:  (-3.460454146186142, 0.00906273233211891, 13, 511, {'1%': -3.4432119442564324, '5%': -2.8672126791646955, '10%': -2.569791324979607}, 1012.2973651119798)\n",
      "df_output: \n",
      " Test Statistic                  -3.460454\n",
      "p-value                          0.009063\n",
      "#Lags Used                      13.000000\n",
      "Number of Observations Used    511.000000\n",
      "dtype: float64\n",
      "Test Statistic                  -3.460454\n",
      "p-value                          0.009063\n",
      "#Lags Used                      13.000000\n",
      "Number of Observations Used    511.000000\n",
      "Critical Value (1%)             -3.443212\n",
      "Critical Value (5%)             -2.867213\n",
      "Critical Value (10%)            -2.569791\n",
      "dtype: float64\n"
     ]
    }
   ],
   "source": [
    "\n",
    "stationarity_check(df_Mexico.AverageTemperature)"
   ]
  },
  {
   "cell_type": "code",
   "execution_count": 33,
   "id": "98147417",
   "metadata": {},
   "outputs": [],
   "source": [
    "df_Mexico['Roll Mean'] = df_Mexico.AverageTemperature.rolling(center=False,window=12).mean()"
   ]
  },
  {
   "cell_type": "code",
   "execution_count": 34,
   "id": "46d69462",
   "metadata": {},
   "outputs": [
    {
     "data": {
      "text/html": [
       "<div>\n",
       "<style scoped>\n",
       "    .dataframe tbody tr th:only-of-type {\n",
       "        vertical-align: middle;\n",
       "    }\n",
       "\n",
       "    .dataframe tbody tr th {\n",
       "        vertical-align: top;\n",
       "    }\n",
       "\n",
       "    .dataframe thead th {\n",
       "        text-align: right;\n",
       "    }\n",
       "</style>\n",
       "<table border=\"1\" class=\"dataframe\">\n",
       "  <thead>\n",
       "    <tr style=\"text-align: right;\">\n",
       "      <th></th>\n",
       "      <th>AverageTemperature</th>\n",
       "      <th>Ticks</th>\n",
       "      <th>Roll Mean</th>\n",
       "    </tr>\n",
       "    <tr>\n",
       "      <th>dt</th>\n",
       "      <th></th>\n",
       "      <th></th>\n",
       "      <th></th>\n",
       "    </tr>\n",
       "  </thead>\n",
       "  <tbody>\n",
       "    <tr>\n",
       "      <th>1970-01-01</th>\n",
       "      <td>14.483</td>\n",
       "      <td>0</td>\n",
       "      <td>NaN</td>\n",
       "    </tr>\n",
       "    <tr>\n",
       "      <th>1970-02-01</th>\n",
       "      <td>16.020</td>\n",
       "      <td>1</td>\n",
       "      <td>NaN</td>\n",
       "    </tr>\n",
       "    <tr>\n",
       "      <th>1970-03-01</th>\n",
       "      <td>17.919</td>\n",
       "      <td>2</td>\n",
       "      <td>NaN</td>\n",
       "    </tr>\n",
       "    <tr>\n",
       "      <th>1970-04-01</th>\n",
       "      <td>21.513</td>\n",
       "      <td>3</td>\n",
       "      <td>NaN</td>\n",
       "    </tr>\n",
       "    <tr>\n",
       "      <th>1970-05-01</th>\n",
       "      <td>23.004</td>\n",
       "      <td>4</td>\n",
       "      <td>NaN</td>\n",
       "    </tr>\n",
       "  </tbody>\n",
       "</table>\n",
       "</div>"
      ],
      "text/plain": [
       "            AverageTemperature  Ticks  Roll Mean\n",
       "dt                                              \n",
       "1970-01-01              14.483      0        NaN\n",
       "1970-02-01              16.020      1        NaN\n",
       "1970-03-01              17.919      2        NaN\n",
       "1970-04-01              21.513      3        NaN\n",
       "1970-05-01              23.004      4        NaN"
      ]
     },
     "execution_count": 34,
     "metadata": {},
     "output_type": "execute_result"
    }
   ],
   "source": [
    "df_Mexico.head()"
   ]
  },
  {
   "cell_type": "code",
   "execution_count": 35,
   "id": "70d32279",
   "metadata": {},
   "outputs": [
    {
     "data": {
      "image/png": "[encoded data removed]",
      "text/plain": [
       "<Figure size 432x288 with 1 Axes>"
      ]
     },
     "metadata": {
      "needs_background": "light"
     },
     "output_type": "display_data"
    },
    {
     "data": {
      "image/png": "[encoded data removed]",
      "text/plain": [
       "<Figure size 432x288 with 1 Axes>"
      ]
     },
     "metadata": {
      "needs_background": "light"
     },
     "output_type": "display_data"
    }
   ],
   "source": [
    "from statsmodels.graphics.tsaplots import plot_pacf,plot_acf\n",
    "plot_acf=plot_acf(df_Mexico.AverageTemperature, lags=50)\n",
    "plot_pacf=plot_pacf(df_Mexico.AverageTemperature, lags=50)\n",
    "plt.xlabel('lags')\n",
    "plt.show()\n"
   ]
  },
  {
   "cell_type": "code",
   "execution_count": 36,
   "id": "f6aa754e",
   "metadata": {},
   "outputs": [],
   "source": [
    "plot_acf.savefig('corr.png')"
   ]
  },
  {
   "cell_type": "code",
   "execution_count": 37,
   "id": "805c89a7",
   "metadata": {},
   "outputs": [],
   "source": [
    "plot_pacf.savefig('acorr.png')"
   ]
  },
  {
   "cell_type": "code",
   "execution_count": 38,
   "id": "a15d32d9",
   "metadata": {},
   "outputs": [],
   "source": [
    "from statsmodels.tsa.arima_model import ARMA"
   ]
  },
  {
   "cell_type": "code",
   "execution_count": 39,
   "id": "fe68c3ed",
   "metadata": {},
   "outputs": [
    {
     "name": "stderr",
     "output_type": "stream",
     "text": [
      "c:\\users\\user\\appdata\\local\\programs\\python\\python39\\lib\\site-packages\\statsmodels\\tsa\\arima_model.py:472: FutureWarning: \n",
      "statsmodels.tsa.arima_model.ARMA and statsmodels.tsa.arima_model.ARIMA have\n",
      "been deprecated in favor of statsmodels.tsa.arima.model.ARIMA (note the .\n",
      "between arima and model) and\n",
      "statsmodels.tsa.SARIMAX. These will be removed after the 0.12 release.\n",
      "\n",
      "statsmodels.tsa.arima.model.ARIMA makes use of the statespace framework and\n",
      "is both well tested and maintained.\n",
      "\n",
      "To silence this warning and continue using ARMA and ARIMA until they are\n",
      "removed, use:\n",
      "\n",
      "import warnings\n",
      "warnings.filterwarnings('ignore', 'statsmodels.tsa.arima_model.ARMA',\n",
      "                        FutureWarning)\n",
      "warnings.filterwarnings('ignore', 'statsmodels.tsa.arima_model.ARIMA',\n",
      "                        FutureWarning)\n",
      "\n",
      "  warnings.warn(ARIMA_DEPRECATION_WARN, FutureWarning)\n",
      "c:\\users\\user\\appdata\\local\\programs\\python\\python39\\lib\\site-packages\\statsmodels\\tsa\\base\\tsa_model.py:524: ValueWarning: No frequency information was provided, so inferred frequency MS will be used.\n",
      "  warnings.warn('No frequency information was'\n",
      "c:\\users\\user\\appdata\\local\\programs\\python\\python39\\lib\\site-packages\\statsmodels\\tsa\\base\\tsa_model.py:524: ValueWarning: No frequency information was provided, so inferred frequency MS will be used.\n",
      "  warnings.warn('No frequency information was'\n",
      "c:\\users\\user\\appdata\\local\\programs\\python\\python39\\lib\\site-packages\\statsmodels\\tsa\\base\\tsa_model.py:524: ValueWarning: No frequency information was provided, so inferred frequency MS will be used.\n",
      "  warnings.warn('No frequency information was'\n",
      "c:\\users\\user\\appdata\\local\\programs\\python\\python39\\lib\\site-packages\\statsmodels\\tsa\\base\\tsa_model.py:524: ValueWarning: No frequency information was provided, so inferred frequency MS will be used.\n",
      "  warnings.warn('No frequency information was'\n"
     ]
    },
    {
     "name": "stdout",
     "output_type": "stream",
     "text": [
      "ARMA(0, 0) - AIC:2872.946530942736\n",
      "ARMA(0, 1) - AIC:2359.159658795066\n",
      "ARMA(0, 3) - AIC:1881.0802465055108\n",
      "ARMA(1, 0) - AIC:2218.06484843178\n",
      "ARMA(1, 1) - AIC:1979.6221252061969\n"
     ]
    },
    {
     "name": "stderr",
     "output_type": "stream",
     "text": [
      "c:\\users\\user\\appdata\\local\\programs\\python\\python39\\lib\\site-packages\\statsmodels\\tsa\\base\\tsa_model.py:524: ValueWarning: No frequency information was provided, so inferred frequency MS will be used.\n",
      "  warnings.warn('No frequency information was'\n",
      "c:\\users\\user\\appdata\\local\\programs\\python\\python39\\lib\\site-packages\\statsmodels\\tsa\\base\\tsa_model.py:524: ValueWarning: No frequency information was provided, so inferred frequency MS will be used.\n",
      "  warnings.warn('No frequency information was'\n",
      "c:\\users\\user\\appdata\\local\\programs\\python\\python39\\lib\\site-packages\\statsmodels\\tsa\\arima_model.py:472: FutureWarning: \n",
      "statsmodels.tsa.arima_model.ARMA and statsmodels.tsa.arima_model.ARIMA have\n",
      "been deprecated in favor of statsmodels.tsa.arima.model.ARIMA (note the .\n",
      "between arima and model) and\n",
      "statsmodels.tsa.SARIMAX. These will be removed after the 0.12 release.\n",
      "\n",
      "statsmodels.tsa.arima.model.ARIMA makes use of the statespace framework and\n",
      "is both well tested and maintained.\n",
      "\n",
      "To silence this warning and continue using ARMA and ARIMA until they are\n",
      "removed, use:\n",
      "\n",
      "import warnings\n",
      "warnings.filterwarnings('ignore', 'statsmodels.tsa.arima_model.ARMA',\n",
      "                        FutureWarning)\n",
      "warnings.filterwarnings('ignore', 'statsmodels.tsa.arima_model.ARIMA',\n",
      "                        FutureWarning)\n",
      "\n",
      "  warnings.warn(ARIMA_DEPRECATION_WARN, FutureWarning)\n",
      "c:\\users\\user\\appdata\\local\\programs\\python\\python39\\lib\\site-packages\\statsmodels\\tsa\\base\\tsa_model.py:524: ValueWarning: No frequency information was provided, so inferred frequency MS will be used.\n",
      "  warnings.warn('No frequency information was'\n"
     ]
    },
    {
     "name": "stdout",
     "output_type": "stream",
     "text": [
      "ARMA(1, 2) - AIC:1852.5865166049944\n"
     ]
    },
    {
     "name": "stderr",
     "output_type": "stream",
     "text": [
      "c:\\users\\user\\appdata\\local\\programs\\python\\python39\\lib\\site-packages\\statsmodels\\tsa\\arima_model.py:472: FutureWarning: \n",
      "statsmodels.tsa.arima_model.ARMA and statsmodels.tsa.arima_model.ARIMA have\n",
      "been deprecated in favor of statsmodels.tsa.arima.model.ARIMA (note the .\n",
      "between arima and model) and\n",
      "statsmodels.tsa.SARIMAX. These will be removed after the 0.12 release.\n",
      "\n",
      "statsmodels.tsa.arima.model.ARIMA makes use of the statespace framework and\n",
      "is both well tested and maintained.\n",
      "\n",
      "To silence this warning and continue using ARMA and ARIMA until they are\n",
      "removed, use:\n",
      "\n",
      "import warnings\n",
      "warnings.filterwarnings('ignore', 'statsmodels.tsa.arima_model.ARMA',\n",
      "                        FutureWarning)\n",
      "warnings.filterwarnings('ignore', 'statsmodels.tsa.arima_model.ARIMA',\n",
      "                        FutureWarning)\n",
      "\n",
      "  warnings.warn(ARIMA_DEPRECATION_WARN, FutureWarning)\n",
      "c:\\users\\user\\appdata\\local\\programs\\python\\python39\\lib\\site-packages\\statsmodels\\tsa\\base\\tsa_model.py:524: ValueWarning: No frequency information was provided, so inferred frequency MS will be used.\n",
      "  warnings.warn('No frequency information was'\n"
     ]
    },
    {
     "name": "stdout",
     "output_type": "stream",
     "text": [
      "ARMA(1, 3) - AIC:2045.2363887919155\n",
      "ARMA(2, 0) - AIC:1629.6869149010522\n"
     ]
    },
    {
     "name": "stderr",
     "output_type": "stream",
     "text": [
      "c:\\users\\user\\appdata\\local\\programs\\python\\python39\\lib\\site-packages\\statsmodels\\tsa\\arima_model.py:472: FutureWarning: \n",
      "statsmodels.tsa.arima_model.ARMA and statsmodels.tsa.arima_model.ARIMA have\n",
      "been deprecated in favor of statsmodels.tsa.arima.model.ARIMA (note the .\n",
      "between arima and model) and\n",
      "statsmodels.tsa.SARIMAX. These will be removed after the 0.12 release.\n",
      "\n",
      "statsmodels.tsa.arima.model.ARIMA makes use of the statespace framework and\n",
      "is both well tested and maintained.\n",
      "\n",
      "To silence this warning and continue using ARMA and ARIMA until they are\n",
      "removed, use:\n",
      "\n",
      "import warnings\n",
      "warnings.filterwarnings('ignore', 'statsmodels.tsa.arima_model.ARMA',\n",
      "                        FutureWarning)\n",
      "warnings.filterwarnings('ignore', 'statsmodels.tsa.arima_model.ARIMA',\n",
      "                        FutureWarning)\n",
      "\n",
      "  warnings.warn(ARIMA_DEPRECATION_WARN, FutureWarning)\n",
      "c:\\users\\user\\appdata\\local\\programs\\python\\python39\\lib\\site-packages\\statsmodels\\tsa\\base\\tsa_model.py:524: ValueWarning: No frequency information was provided, so inferred frequency MS will be used.\n",
      "  warnings.warn('No frequency information was'\n",
      "c:\\users\\user\\appdata\\local\\programs\\python\\python39\\lib\\site-packages\\statsmodels\\tsa\\base\\tsa_model.py:524: ValueWarning: No frequency information was provided, so inferred frequency MS will be used.\n",
      "  warnings.warn('No frequency information was'\n",
      "c:\\users\\user\\appdata\\local\\programs\\python\\python39\\lib\\site-packages\\statsmodels\\tsa\\arima_model.py:472: FutureWarning: \n",
      "statsmodels.tsa.arima_model.ARMA and statsmodels.tsa.arima_model.ARIMA have\n",
      "been deprecated in favor of statsmodels.tsa.arima.model.ARIMA (note the .\n",
      "between arima and model) and\n",
      "statsmodels.tsa.SARIMAX. These will be removed after the 0.12 release.\n",
      "\n",
      "statsmodels.tsa.arima.model.ARIMA makes use of the statespace framework and\n",
      "is both well tested and maintained.\n",
      "\n",
      "To silence this warning and continue using ARMA and ARIMA until they are\n",
      "removed, use:\n",
      "\n",
      "import warnings\n",
      "warnings.filterwarnings('ignore', 'statsmodels.tsa.arima_model.ARMA',\n",
      "                        FutureWarning)\n",
      "warnings.filterwarnings('ignore', 'statsmodels.tsa.arima_model.ARIMA',\n",
      "                        FutureWarning)\n",
      "\n",
      "  warnings.warn(ARIMA_DEPRECATION_WARN, FutureWarning)\n",
      "c:\\users\\user\\appdata\\local\\programs\\python\\python39\\lib\\site-packages\\statsmodels\\tsa\\base\\tsa_model.py:524: ValueWarning: No frequency information was provided, so inferred frequency MS will be used.\n",
      "  warnings.warn('No frequency information was'\n"
     ]
    },
    {
     "name": "stdout",
     "output_type": "stream",
     "text": [
      "ARMA(2, 2) - AIC:1373.4081278528965\n"
     ]
    },
    {
     "name": "stderr",
     "output_type": "stream",
     "text": [
      "c:\\users\\user\\appdata\\local\\programs\\python\\python39\\lib\\site-packages\\statsmodels\\tsa\\arima_model.py:472: FutureWarning: \n",
      "statsmodels.tsa.arima_model.ARMA and statsmodels.tsa.arima_model.ARIMA have\n",
      "been deprecated in favor of statsmodels.tsa.arima.model.ARIMA (note the .\n",
      "between arima and model) and\n",
      "statsmodels.tsa.SARIMAX. These will be removed after the 0.12 release.\n",
      "\n",
      "statsmodels.tsa.arima.model.ARIMA makes use of the statespace framework and\n",
      "is both well tested and maintained.\n",
      "\n",
      "To silence this warning and continue using ARMA and ARIMA until they are\n",
      "removed, use:\n",
      "\n",
      "import warnings\n",
      "warnings.filterwarnings('ignore', 'statsmodels.tsa.arima_model.ARMA',\n",
      "                        FutureWarning)\n",
      "warnings.filterwarnings('ignore', 'statsmodels.tsa.arima_model.ARIMA',\n",
      "                        FutureWarning)\n",
      "\n",
      "  warnings.warn(ARIMA_DEPRECATION_WARN, FutureWarning)\n",
      "c:\\users\\user\\appdata\\local\\programs\\python\\python39\\lib\\site-packages\\statsmodels\\tsa\\base\\tsa_model.py:524: ValueWarning: No frequency information was provided, so inferred frequency MS will be used.\n",
      "  warnings.warn('No frequency information was'\n"
     ]
    },
    {
     "name": "stdout",
     "output_type": "stream",
     "text": [
      "ARMA(2, 3) - AIC:1198.556859816165\n",
      "ARMA(3, 0) - AIC:1480.4238640591043\n"
     ]
    },
    {
     "name": "stderr",
     "output_type": "stream",
     "text": [
      "c:\\users\\user\\appdata\\local\\programs\\python\\python39\\lib\\site-packages\\statsmodels\\tsa\\arima_model.py:472: FutureWarning: \n",
      "statsmodels.tsa.arima_model.ARMA and statsmodels.tsa.arima_model.ARIMA have\n",
      "been deprecated in favor of statsmodels.tsa.arima.model.ARIMA (note the .\n",
      "between arima and model) and\n",
      "statsmodels.tsa.SARIMAX. These will be removed after the 0.12 release.\n",
      "\n",
      "statsmodels.tsa.arima.model.ARIMA makes use of the statespace framework and\n",
      "is both well tested and maintained.\n",
      "\n",
      "To silence this warning and continue using ARMA and ARIMA until they are\n",
      "removed, use:\n",
      "\n",
      "import warnings\n",
      "warnings.filterwarnings('ignore', 'statsmodels.tsa.arima_model.ARMA',\n",
      "                        FutureWarning)\n",
      "warnings.filterwarnings('ignore', 'statsmodels.tsa.arima_model.ARIMA',\n",
      "                        FutureWarning)\n",
      "\n",
      "  warnings.warn(ARIMA_DEPRECATION_WARN, FutureWarning)\n",
      "c:\\users\\user\\appdata\\local\\programs\\python\\python39\\lib\\site-packages\\statsmodels\\tsa\\base\\tsa_model.py:524: ValueWarning: No frequency information was provided, so inferred frequency MS will be used.\n",
      "  warnings.warn('No frequency information was'\n",
      "c:\\users\\user\\appdata\\local\\programs\\python\\python39\\lib\\site-packages\\statsmodels\\tsa\\base\\tsa_model.py:524: ValueWarning: No frequency information was provided, so inferred frequency MS will be used.\n",
      "  warnings.warn('No frequency information was'\n",
      "c:\\users\\user\\appdata\\local\\programs\\python\\python39\\lib\\site-packages\\statsmodels\\tsa\\arima_model.py:472: FutureWarning: \n",
      "statsmodels.tsa.arima_model.ARMA and statsmodels.tsa.arima_model.ARIMA have\n",
      "been deprecated in favor of statsmodels.tsa.arima.model.ARIMA (note the .\n",
      "between arima and model) and\n",
      "statsmodels.tsa.SARIMAX. These will be removed after the 0.12 release.\n",
      "\n",
      "statsmodels.tsa.arima.model.ARIMA makes use of the statespace framework and\n",
      "is both well tested and maintained.\n",
      "\n",
      "To silence this warning and continue using ARMA and ARIMA until they are\n",
      "removed, use:\n",
      "\n",
      "import warnings\n",
      "warnings.filterwarnings('ignore', 'statsmodels.tsa.arima_model.ARMA',\n",
      "                        FutureWarning)\n",
      "warnings.filterwarnings('ignore', 'statsmodels.tsa.arima_model.ARIMA',\n",
      "                        FutureWarning)\n",
      "\n",
      "  warnings.warn(ARIMA_DEPRECATION_WARN, FutureWarning)\n",
      "c:\\users\\user\\appdata\\local\\programs\\python\\python39\\lib\\site-packages\\statsmodels\\tsa\\base\\tsa_model.py:524: ValueWarning: No frequency information was provided, so inferred frequency MS will be used.\n",
      "  warnings.warn('No frequency information was'\n",
      "c:\\users\\user\\appdata\\local\\programs\\python\\python39\\lib\\site-packages\\statsmodels\\tsa\\tsatools.py:701: RuntimeWarning: overflow encountered in exp\n",
      "  newparams = ((1-np.exp(-params))/(1+np.exp(-params))).copy()\n",
      "c:\\users\\user\\appdata\\local\\programs\\python\\python39\\lib\\site-packages\\statsmodels\\tsa\\tsatools.py:701: RuntimeWarning: invalid value encountered in true_divide\n",
      "  newparams = ((1-np.exp(-params))/(1+np.exp(-params))).copy()\n",
      "c:\\users\\user\\appdata\\local\\programs\\python\\python39\\lib\\site-packages\\statsmodels\\tsa\\tsatools.py:702: RuntimeWarning: overflow encountered in exp\n",
      "  tmp = ((1-np.exp(-params))/(1+np.exp(-params))).copy()\n",
      "c:\\users\\user\\appdata\\local\\programs\\python\\python39\\lib\\site-packages\\statsmodels\\tsa\\tsatools.py:702: RuntimeWarning: invalid value encountered in true_divide\n",
      "  tmp = ((1-np.exp(-params))/(1+np.exp(-params))).copy()\n",
      "c:\\users\\user\\appdata\\local\\programs\\python\\python39\\lib\\site-packages\\statsmodels\\base\\model.py:547: HessianInversionWarning: Inverting hessian failed, no bse or cov_params available\n",
      "  warnings.warn('Inverting hessian failed, no bse or cov_params '\n",
      "c:\\users\\user\\appdata\\local\\programs\\python\\python39\\lib\\site-packages\\statsmodels\\base\\model.py:566: ConvergenceWarning: Maximum Likelihood optimization failed to converge. Check mle_retvals\n",
      "  warnings.warn(\"Maximum Likelihood optimization failed to \"\n",
      "c:\\users\\user\\appdata\\local\\programs\\python\\python39\\lib\\site-packages\\statsmodels\\tsa\\arima_model.py:472: FutureWarning: \n",
      "statsmodels.tsa.arima_model.ARMA and statsmodels.tsa.arima_model.ARIMA have\n",
      "been deprecated in favor of statsmodels.tsa.arima.model.ARIMA (note the .\n",
      "between arima and model) and\n",
      "statsmodels.tsa.SARIMAX. These will be removed after the 0.12 release.\n",
      "\n",
      "statsmodels.tsa.arima.model.ARIMA makes use of the statespace framework and\n",
      "is both well tested and maintained.\n",
      "\n",
      "To silence this warning and continue using ARMA and ARIMA until they are\n",
      "removed, use:\n",
      "\n",
      "import warnings\n",
      "warnings.filterwarnings('ignore', 'statsmodels.tsa.arima_model.ARMA',\n",
      "                        FutureWarning)\n",
      "warnings.filterwarnings('ignore', 'statsmodels.tsa.arima_model.ARIMA',\n",
      "                        FutureWarning)\n",
      "\n",
      "  warnings.warn(ARIMA_DEPRECATION_WARN, FutureWarning)\n",
      "c:\\users\\user\\appdata\\local\\programs\\python\\python39\\lib\\site-packages\\statsmodels\\tsa\\base\\tsa_model.py:524: ValueWarning: No frequency information was provided, so inferred frequency MS will be used.\n",
      "  warnings.warn('No frequency information was'\n"
     ]
    },
    {
     "name": "stdout",
     "output_type": "stream",
     "text": [
      "ARMA(3, 2) - AIC:1221.976270876673\n"
     ]
    },
    {
     "name": "stderr",
     "output_type": "stream",
     "text": [
      "c:\\users\\user\\appdata\\local\\programs\\python\\python39\\lib\\site-packages\\statsmodels\\tsa\\tsatools.py:701: RuntimeWarning: overflow encountered in exp\n",
      "  newparams = ((1-np.exp(-params))/(1+np.exp(-params))).copy()\n",
      "c:\\users\\user\\appdata\\local\\programs\\python\\python39\\lib\\site-packages\\statsmodels\\tsa\\tsatools.py:701: RuntimeWarning: invalid value encountered in true_divide\n",
      "  newparams = ((1-np.exp(-params))/(1+np.exp(-params))).copy()\n",
      "c:\\users\\user\\appdata\\local\\programs\\python\\python39\\lib\\site-packages\\statsmodels\\tsa\\tsatools.py:702: RuntimeWarning: overflow encountered in exp\n",
      "  tmp = ((1-np.exp(-params))/(1+np.exp(-params))).copy()\n",
      "c:\\users\\user\\appdata\\local\\programs\\python\\python39\\lib\\site-packages\\statsmodels\\tsa\\tsatools.py:702: RuntimeWarning: invalid value encountered in true_divide\n",
      "  tmp = ((1-np.exp(-params))/(1+np.exp(-params))).copy()\n",
      "c:\\users\\user\\appdata\\local\\programs\\python\\python39\\lib\\site-packages\\statsmodels\\base\\model.py:547: HessianInversionWarning: Inverting hessian failed, no bse or cov_params available\n",
      "  warnings.warn('Inverting hessian failed, no bse or cov_params '\n"
     ]
    },
    {
     "name": "stdout",
     "output_type": "stream",
     "text": [
      "ARMA(3, 3) - AIC:1207.7326285269303\n"
     ]
    },
    {
     "name": "stderr",
     "output_type": "stream",
     "text": [
      "c:\\users\\user\\appdata\\local\\programs\\python\\python39\\lib\\site-packages\\statsmodels\\base\\model.py:566: ConvergenceWarning: Maximum Likelihood optimization failed to converge. Check mle_retvals\n",
      "  warnings.warn(\"Maximum Likelihood optimization failed to \"\n"
     ]
    }
   ],
   "source": [
    "import itertools\n",
    "p = q = range(0, 4)\n",
    "pq = itertools.product(p, q)\n",
    "for param in pq:\n",
    "    try:\n",
    "        mod = ARMA(df_Mexico.AverageTemperature,order=param)\n",
    "        results = mod.fit()\n",
    "        print('ARMA{} - AIC:{}'.format(param, results.aic))\n",
    "    except:\n",
    "        continue"
   ]
  },
  {
   "cell_type": "code",
   "execution_count": 40,
   "id": "99f70c0c",
   "metadata": {},
   "outputs": [
    {
     "name": "stderr",
     "output_type": "stream",
     "text": [
      "c:\\users\\user\\appdata\\local\\programs\\python\\python39\\lib\\site-packages\\statsmodels\\tsa\\arima_model.py:472: FutureWarning: \n",
      "statsmodels.tsa.arima_model.ARMA and statsmodels.tsa.arima_model.ARIMA have\n",
      "been deprecated in favor of statsmodels.tsa.arima.model.ARIMA (note the .\n",
      "between arima and model) and\n",
      "statsmodels.tsa.SARIMAX. These will be removed after the 0.12 release.\n",
      "\n",
      "statsmodels.tsa.arima.model.ARIMA makes use of the statespace framework and\n",
      "is both well tested and maintained.\n",
      "\n",
      "To silence this warning and continue using ARMA and ARIMA until they are\n",
      "removed, use:\n",
      "\n",
      "import warnings\n",
      "warnings.filterwarnings('ignore', 'statsmodels.tsa.arima_model.ARMA',\n",
      "                        FutureWarning)\n",
      "warnings.filterwarnings('ignore', 'statsmodels.tsa.arima_model.ARIMA',\n",
      "                        FutureWarning)\n",
      "\n",
      "  warnings.warn(ARIMA_DEPRECATION_WARN, FutureWarning)\n",
      "c:\\users\\user\\appdata\\local\\programs\\python\\python39\\lib\\site-packages\\statsmodels\\tsa\\base\\tsa_model.py:524: ValueWarning: No frequency information was provided, so inferred frequency MS will be used.\n",
      "  warnings.warn('No frequency information was'\n"
     ]
    },
    {
     "data": {
      "image/png": "[encoded data removed]",
      "text/plain": [
       "<Figure size 432x288 with 1 Axes>"
      ]
     },
     "metadata": {
      "needs_background": "light"
     },
     "output_type": "display_data"
    }
   ],
   "source": [
    "model = ARMA(df_Mexico.AverageTemperature, order=(2,3))  \n",
    "results_MA = model.fit()  \n",
    "plt.plot(df_Mexico.AverageTemperature)\n",
    "plt.plot(results_MA.fittedvalues, color='red')\n",
    "plt.title('Data Fit'% (((results_MA.fittedvalues-df_Mexico.AverageTemperature)**2).mean()))\n",
    "plt.show()"
   ]
  },
  {
   "cell_type": "code",
   "execution_count": 96,
   "id": "6e14d9ab",
   "metadata": {},
   "outputs": [],
   "source": [
    "predictions = results_MA.predict('01/01/1970', '12/01/2030')"
   ]
  },
  {
   "cell_type": "code",
   "execution_count": 97,
   "id": "534e1efb",
   "metadata": {},
   "outputs": [],
   "source": [
    "pred=pd.DataFrame(predictions)"
   ]
  },
  {
   "cell_type": "code",
   "execution_count": 98,
   "id": "5e6d30bc",
   "metadata": {},
   "outputs": [
    {
     "data": {
      "text/html": [
       "<div>\n",
       "<style scoped>\n",
       "    .dataframe tbody tr th:only-of-type {\n",
       "        vertical-align: middle;\n",
       "    }\n",
       "\n",
       "    .dataframe tbody tr th {\n",
       "        vertical-align: top;\n",
       "    }\n",
       "\n",
       "    .dataframe thead th {\n",
       "        text-align: right;\n",
       "    }\n",
       "</style>\n",
       "<table border=\"1\" class=\"dataframe\">\n",
       "  <thead>\n",
       "    <tr style=\"text-align: right;\">\n",
       "      <th></th>\n",
       "      <th>0</th>\n",
       "    </tr>\n",
       "  </thead>\n",
       "  <tbody>\n",
       "    <tr>\n",
       "      <th>1970-01-01</th>\n",
       "      <td>20.958528</td>\n",
       "    </tr>\n",
       "    <tr>\n",
       "      <th>1970-02-01</th>\n",
       "      <td>15.727199</td>\n",
       "    </tr>\n",
       "    <tr>\n",
       "      <th>1970-03-01</th>\n",
       "      <td>18.452860</td>\n",
       "    </tr>\n",
       "    <tr>\n",
       "      <th>1970-04-01</th>\n",
       "      <td>20.741171</td>\n",
       "    </tr>\n",
       "    <tr>\n",
       "      <th>1970-05-01</th>\n",
       "      <td>24.349189</td>\n",
       "    </tr>\n",
       "    <tr>\n",
       "      <th>...</th>\n",
       "      <td>...</td>\n",
       "    </tr>\n",
       "    <tr>\n",
       "      <th>2030-08-01</th>\n",
       "      <td>25.262712</td>\n",
       "    </tr>\n",
       "    <tr>\n",
       "      <th>2030-09-01</th>\n",
       "      <td>23.186049</td>\n",
       "    </tr>\n",
       "    <tr>\n",
       "      <th>2030-10-01</th>\n",
       "      <td>20.512411</td>\n",
       "    </tr>\n",
       "    <tr>\n",
       "      <th>2030-11-01</th>\n",
       "      <td>17.958512</td>\n",
       "    </tr>\n",
       "    <tr>\n",
       "      <th>2030-12-01</th>\n",
       "      <td>16.208926</td>\n",
       "    </tr>\n",
       "  </tbody>\n",
       "</table>\n",
       "<p>732 rows × 1 columns</p>\n",
       "</div>"
      ],
      "text/plain": [
       "                    0\n",
       "1970-01-01  20.958528\n",
       "1970-02-01  15.727199\n",
       "1970-03-01  18.452860\n",
       "1970-04-01  20.741171\n",
       "1970-05-01  24.349189\n",
       "...               ...\n",
       "2030-08-01  25.262712\n",
       "2030-09-01  23.186049\n",
       "2030-10-01  20.512411\n",
       "2030-11-01  17.958512\n",
       "2030-12-01  16.208926\n",
       "\n",
       "[732 rows x 1 columns]"
      ]
     },
     "execution_count": 98,
     "metadata": {},
     "output_type": "execute_result"
    }
   ],
   "source": [
    "pred"
   ]
  },
  {
   "cell_type": "code",
   "execution_count": 99,
   "id": "c4ba71ee",
   "metadata": {},
   "outputs": [
    {
     "name": "stdout",
     "output_type": "stream",
     "text": [
      "<class 'pandas.core.frame.DataFrame'>\n",
      "DatetimeIndex: 732 entries, 1970-01-01 to 2030-12-01\n",
      "Freq: MS\n",
      "Data columns (total 1 columns):\n",
      " #   Column  Non-Null Count  Dtype  \n",
      "---  ------  --------------  -----  \n",
      " 0   0       732 non-null    float64\n",
      "dtypes: float64(1)\n",
      "memory usage: 11.4 KB\n"
     ]
    }
   ],
   "source": [
    "pred.info()"
   ]
  },
  {
   "cell_type": "code",
   "execution_count": 100,
   "id": "3601f385",
   "metadata": {},
   "outputs": [
    {
     "data": {
      "text/plain": [
       "RangeIndex(start=0, stop=1, step=1)"
      ]
     },
     "execution_count": 100,
     "metadata": {},
     "output_type": "execute_result"
    }
   ],
   "source": [
    "pred.columns"
   ]
  },
  {
   "cell_type": "code",
   "execution_count": 101,
   "id": "c6dbc377",
   "metadata": {},
   "outputs": [],
   "source": [
    "pred.columns =['Mex_Average Temperature °C (Monthly)']"
   ]
  },
  {
   "cell_type": "code",
   "execution_count": 102,
   "id": "e168e582",
   "metadata": {},
   "outputs": [
    {
     "data": {
      "text/html": [
       "<div>\n",
       "<style scoped>\n",
       "    .dataframe tbody tr th:only-of-type {\n",
       "        vertical-align: middle;\n",
       "    }\n",
       "\n",
       "    .dataframe tbody tr th {\n",
       "        vertical-align: top;\n",
       "    }\n",
       "\n",
       "    .dataframe thead th {\n",
       "        text-align: right;\n",
       "    }\n",
       "</style>\n",
       "<table border=\"1\" class=\"dataframe\">\n",
       "  <thead>\n",
       "    <tr style=\"text-align: right;\">\n",
       "      <th></th>\n",
       "      <th>Mex_Average Temperature °C (Monthly)</th>\n",
       "    </tr>\n",
       "  </thead>\n",
       "  <tbody>\n",
       "    <tr>\n",
       "      <th>1970-01-01</th>\n",
       "      <td>20.958528</td>\n",
       "    </tr>\n",
       "    <tr>\n",
       "      <th>1970-02-01</th>\n",
       "      <td>15.727199</td>\n",
       "    </tr>\n",
       "    <tr>\n",
       "      <th>1970-03-01</th>\n",
       "      <td>18.452860</td>\n",
       "    </tr>\n",
       "    <tr>\n",
       "      <th>1970-04-01</th>\n",
       "      <td>20.741171</td>\n",
       "    </tr>\n",
       "    <tr>\n",
       "      <th>1970-05-01</th>\n",
       "      <td>24.349189</td>\n",
       "    </tr>\n",
       "    <tr>\n",
       "      <th>1970-06-01</th>\n",
       "      <td>25.212173</td>\n",
       "    </tr>\n",
       "    <tr>\n",
       "      <th>1970-07-01</th>\n",
       "      <td>26.077376</td>\n",
       "    </tr>\n",
       "    <tr>\n",
       "      <th>1970-08-01</th>\n",
       "      <td>24.917195</td>\n",
       "    </tr>\n",
       "    <tr>\n",
       "      <th>1970-09-01</th>\n",
       "      <td>23.618261</td>\n",
       "    </tr>\n",
       "    <tr>\n",
       "      <th>1970-10-01</th>\n",
       "      <td>20.930809</td>\n",
       "    </tr>\n",
       "    <tr>\n",
       "      <th>1970-11-01</th>\n",
       "      <td>18.332631</td>\n",
       "    </tr>\n",
       "    <tr>\n",
       "      <th>1970-12-01</th>\n",
       "      <td>15.995508</td>\n",
       "    </tr>\n",
       "  </tbody>\n",
       "</table>\n",
       "</div>"
      ],
      "text/plain": [
       "            Mex_Average Temperature °C (Monthly)\n",
       "1970-01-01                             20.958528\n",
       "1970-02-01                             15.727199\n",
       "1970-03-01                             18.452860\n",
       "1970-04-01                             20.741171\n",
       "1970-05-01                             24.349189\n",
       "1970-06-01                             25.212173\n",
       "1970-07-01                             26.077376\n",
       "1970-08-01                             24.917195\n",
       "1970-09-01                             23.618261\n",
       "1970-10-01                             20.930809\n",
       "1970-11-01                             18.332631\n",
       "1970-12-01                             15.995508"
      ]
     },
     "execution_count": 102,
     "metadata": {},
     "output_type": "execute_result"
    }
   ],
   "source": [
    "pred.head(12)"
   ]
  },
  {
   "cell_type": "code",
   "execution_count": 109,
   "id": "36590be9",
   "metadata": {},
   "outputs": [
    {
     "data": {
      "text/html": [
       "<div>\n",
       "<style scoped>\n",
       "    .dataframe tbody tr th:only-of-type {\n",
       "        vertical-align: middle;\n",
       "    }\n",
       "\n",
       "    .dataframe tbody tr th {\n",
       "        vertical-align: top;\n",
       "    }\n",
       "\n",
       "    .dataframe thead th {\n",
       "        text-align: right;\n",
       "    }\n",
       "</style>\n",
       "<table border=\"1\" class=\"dataframe\">\n",
       "  <thead>\n",
       "    <tr style=\"text-align: right;\">\n",
       "      <th></th>\n",
       "      <th>Mex_Average Temperature °C (Monthly)</th>\n",
       "    </tr>\n",
       "  </thead>\n",
       "  <tbody>\n",
       "    <tr>\n",
       "      <th>2030-01-01</th>\n",
       "      <td>15.730171</td>\n",
       "    </tr>\n",
       "    <tr>\n",
       "      <th>2030-02-01</th>\n",
       "      <td>16.651582</td>\n",
       "    </tr>\n",
       "    <tr>\n",
       "      <th>2030-03-01</th>\n",
       "      <td>18.727431</td>\n",
       "    </tr>\n",
       "    <tr>\n",
       "      <th>2030-04-01</th>\n",
       "      <td>21.401213</td>\n",
       "    </tr>\n",
       "    <tr>\n",
       "      <th>2030-05-01</th>\n",
       "      <td>23.956176</td>\n",
       "    </tr>\n",
       "    <tr>\n",
       "      <th>2030-06-01</th>\n",
       "      <td>25.707462</td>\n",
       "    </tr>\n",
       "    <tr>\n",
       "      <th>2030-07-01</th>\n",
       "      <td>26.185678</td>\n",
       "    </tr>\n",
       "    <tr>\n",
       "      <th>2030-08-01</th>\n",
       "      <td>25.262712</td>\n",
       "    </tr>\n",
       "    <tr>\n",
       "      <th>2030-09-01</th>\n",
       "      <td>23.186049</td>\n",
       "    </tr>\n",
       "    <tr>\n",
       "      <th>2030-10-01</th>\n",
       "      <td>20.512411</td>\n",
       "    </tr>\n",
       "    <tr>\n",
       "      <th>2030-11-01</th>\n",
       "      <td>17.958512</td>\n",
       "    </tr>\n",
       "    <tr>\n",
       "      <th>2030-12-01</th>\n",
       "      <td>16.208926</td>\n",
       "    </tr>\n",
       "  </tbody>\n",
       "</table>\n",
       "</div>"
      ],
      "text/plain": [
       "            Mex_Average Temperature °C (Monthly)\n",
       "2030-01-01                             15.730171\n",
       "2030-02-01                             16.651582\n",
       "2030-03-01                             18.727431\n",
       "2030-04-01                             21.401213\n",
       "2030-05-01                             23.956176\n",
       "2030-06-01                             25.707462\n",
       "2030-07-01                             26.185678\n",
       "2030-08-01                             25.262712\n",
       "2030-09-01                             23.186049\n",
       "2030-10-01                             20.512411\n",
       "2030-11-01                             17.958512\n",
       "2030-12-01                             16.208926"
      ]
     },
     "execution_count": 109,
     "metadata": {},
     "output_type": "execute_result"
    }
   ],
   "source": [
    "pred.tail(12)"
   ]
  },
  {
   "cell_type": "code",
   "execution_count": 103,
   "id": "ce895fd6",
   "metadata": {},
   "outputs": [
    {
     "data": {
      "text/html": [
       "<div>\n",
       "<style scoped>\n",
       "    .dataframe tbody tr th:only-of-type {\n",
       "        vertical-align: middle;\n",
       "    }\n",
       "\n",
       "    .dataframe tbody tr th {\n",
       "        vertical-align: top;\n",
       "    }\n",
       "\n",
       "    .dataframe thead th {\n",
       "        text-align: right;\n",
       "    }\n",
       "</style>\n",
       "<table border=\"1\" class=\"dataframe\">\n",
       "  <thead>\n",
       "    <tr style=\"text-align: right;\">\n",
       "      <th></th>\n",
       "      <th>Mex_Average Temperature °C (Monthly)</th>\n",
       "    </tr>\n",
       "  </thead>\n",
       "  <tbody>\n",
       "    <tr>\n",
       "      <th>2000-01-01</th>\n",
       "      <td>15.205990</td>\n",
       "    </tr>\n",
       "    <tr>\n",
       "      <th>2000-02-01</th>\n",
       "      <td>17.051895</td>\n",
       "    </tr>\n",
       "    <tr>\n",
       "      <th>2000-03-01</th>\n",
       "      <td>19.043133</td>\n",
       "    </tr>\n",
       "    <tr>\n",
       "      <th>2000-04-01</th>\n",
       "      <td>21.592341</td>\n",
       "    </tr>\n",
       "    <tr>\n",
       "      <th>2000-05-01</th>\n",
       "      <td>24.025880</td>\n",
       "    </tr>\n",
       "    <tr>\n",
       "      <th>2000-06-01</th>\n",
       "      <td>25.854448</td>\n",
       "    </tr>\n",
       "    <tr>\n",
       "      <th>2000-07-01</th>\n",
       "      <td>25.632317</td>\n",
       "    </tr>\n",
       "    <tr>\n",
       "      <th>2000-08-01</th>\n",
       "      <td>25.327335</td>\n",
       "    </tr>\n",
       "    <tr>\n",
       "      <th>2000-09-01</th>\n",
       "      <td>23.075505</td>\n",
       "    </tr>\n",
       "    <tr>\n",
       "      <th>2000-10-01</th>\n",
       "      <td>21.267302</td>\n",
       "    </tr>\n",
       "    <tr>\n",
       "      <th>2000-11-01</th>\n",
       "      <td>18.037259</td>\n",
       "    </tr>\n",
       "    <tr>\n",
       "      <th>2000-12-01</th>\n",
       "      <td>16.211835</td>\n",
       "    </tr>\n",
       "  </tbody>\n",
       "</table>\n",
       "</div>"
      ],
      "text/plain": [
       "            Mex_Average Temperature °C (Monthly)\n",
       "2000-01-01                             15.205990\n",
       "2000-02-01                             17.051895\n",
       "2000-03-01                             19.043133\n",
       "2000-04-01                             21.592341\n",
       "2000-05-01                             24.025880\n",
       "2000-06-01                             25.854448\n",
       "2000-07-01                             25.632317\n",
       "2000-08-01                             25.327335\n",
       "2000-09-01                             23.075505\n",
       "2000-10-01                             21.267302\n",
       "2000-11-01                             18.037259\n",
       "2000-12-01                             16.211835"
      ]
     },
     "execution_count": 103,
     "metadata": {},
     "output_type": "execute_result"
    }
   ],
   "source": [
    "pred2000=pred.loc['2000-01-01':'2000-12-01']\n",
    "pred2000"
   ]
  },
  {
   "cell_type": "code",
   "execution_count": 104,
   "id": "e89f74a6",
   "metadata": {},
   "outputs": [],
   "source": [
    "pred1 = pred.copy().loc['2021-01-01':'2025-12-01']"
   ]
  },
  {
   "cell_type": "code",
   "execution_count": 105,
   "id": "a4c9d195",
   "metadata": {},
   "outputs": [
    {
     "data": {
      "text/html": [
       "<div>\n",
       "<style scoped>\n",
       "    .dataframe tbody tr th:only-of-type {\n",
       "        vertical-align: middle;\n",
       "    }\n",
       "\n",
       "    .dataframe tbody tr th {\n",
       "        vertical-align: top;\n",
       "    }\n",
       "\n",
       "    .dataframe thead th {\n",
       "        text-align: right;\n",
       "    }\n",
       "</style>\n",
       "<table border=\"1\" class=\"dataframe\">\n",
       "  <thead>\n",
       "    <tr style=\"text-align: right;\">\n",
       "      <th></th>\n",
       "      <th>Mex_Average Temperature °C (Monthly)</th>\n",
       "    </tr>\n",
       "  </thead>\n",
       "  <tbody>\n",
       "    <tr>\n",
       "      <th>2021-01-01</th>\n",
       "      <td>15.708805</td>\n",
       "    </tr>\n",
       "    <tr>\n",
       "      <th>2021-02-01</th>\n",
       "      <td>16.602054</td>\n",
       "    </tr>\n",
       "    <tr>\n",
       "      <th>2021-03-01</th>\n",
       "      <td>18.663020</td>\n",
       "    </tr>\n",
       "    <tr>\n",
       "      <th>2021-04-01</th>\n",
       "      <td>21.339184</td>\n",
       "    </tr>\n",
       "    <tr>\n",
       "      <th>2021-05-01</th>\n",
       "      <td>23.913158</td>\n",
       "    </tr>\n",
       "    <tr>\n",
       "      <th>2021-06-01</th>\n",
       "      <td>25.694983</td>\n",
       "    </tr>\n",
       "    <tr>\n",
       "      <th>2021-07-01</th>\n",
       "      <td>26.207083</td>\n",
       "    </tr>\n",
       "    <tr>\n",
       "      <th>2021-08-01</th>\n",
       "      <td>25.312260</td>\n",
       "    </tr>\n",
       "    <tr>\n",
       "      <th>2021-09-01</th>\n",
       "      <td>23.250457</td>\n",
       "    </tr>\n",
       "    <tr>\n",
       "      <th>2021-10-01</th>\n",
       "      <td>20.574415</td>\n",
       "    </tr>\n",
       "    <tr>\n",
       "      <th>2021-11-01</th>\n",
       "      <td>18.001490</td>\n",
       "    </tr>\n",
       "    <tr>\n",
       "      <th>2021-12-01</th>\n",
       "      <td>16.221359</td>\n",
       "    </tr>\n",
       "  </tbody>\n",
       "</table>\n",
       "</div>"
      ],
      "text/plain": [
       "            Mex_Average Temperature °C (Monthly)\n",
       "2021-01-01                             15.708805\n",
       "2021-02-01                             16.602054\n",
       "2021-03-01                             18.663020\n",
       "2021-04-01                             21.339184\n",
       "2021-05-01                             23.913158\n",
       "2021-06-01                             25.694983\n",
       "2021-07-01                             26.207083\n",
       "2021-08-01                             25.312260\n",
       "2021-09-01                             23.250457\n",
       "2021-10-01                             20.574415\n",
       "2021-11-01                             18.001490\n",
       "2021-12-01                             16.221359"
      ]
     },
     "execution_count": 105,
     "metadata": {},
     "output_type": "execute_result"
    }
   ],
   "source": [
    "pred1.head(12)"
   ]
  },
  {
   "cell_type": "code",
   "execution_count": 106,
   "id": "dc81536e",
   "metadata": {},
   "outputs": [
    {
     "data": {
      "text/html": [
       "<div>\n",
       "<style scoped>\n",
       "    .dataframe tbody tr th:only-of-type {\n",
       "        vertical-align: middle;\n",
       "    }\n",
       "\n",
       "    .dataframe tbody tr th {\n",
       "        vertical-align: top;\n",
       "    }\n",
       "\n",
       "    .dataframe thead th {\n",
       "        text-align: right;\n",
       "    }\n",
       "</style>\n",
       "<table border=\"1\" class=\"dataframe\">\n",
       "  <thead>\n",
       "    <tr style=\"text-align: right;\">\n",
       "      <th></th>\n",
       "      <th>Mex_Average Temperature °C (Monthly)</th>\n",
       "    </tr>\n",
       "  </thead>\n",
       "  <tbody>\n",
       "    <tr>\n",
       "      <th>2025-01-01</th>\n",
       "      <td>15.718217</td>\n",
       "    </tr>\n",
       "    <tr>\n",
       "      <th>2025-02-01</th>\n",
       "      <td>16.624022</td>\n",
       "    </tr>\n",
       "    <tr>\n",
       "      <th>2025-03-01</th>\n",
       "      <td>18.691653</td>\n",
       "    </tr>\n",
       "    <tr>\n",
       "      <th>2025-04-01</th>\n",
       "      <td>21.366808</td>\n",
       "    </tr>\n",
       "    <tr>\n",
       "      <th>2025-05-01</th>\n",
       "      <td>23.932368</td>\n",
       "    </tr>\n",
       "    <tr>\n",
       "      <th>2025-06-01</th>\n",
       "      <td>25.700630</td>\n",
       "    </tr>\n",
       "    <tr>\n",
       "      <th>2025-07-01</th>\n",
       "      <td>26.197654</td>\n",
       "    </tr>\n",
       "    <tr>\n",
       "      <th>2025-08-01</th>\n",
       "      <td>25.290284</td>\n",
       "    </tr>\n",
       "    <tr>\n",
       "      <th>2025-09-01</th>\n",
       "      <td>23.221825</td>\n",
       "    </tr>\n",
       "    <tr>\n",
       "      <th>2025-10-01</th>\n",
       "      <td>20.546802</td>\n",
       "    </tr>\n",
       "    <tr>\n",
       "      <th>2025-11-01</th>\n",
       "      <td>17.982298</td>\n",
       "    </tr>\n",
       "    <tr>\n",
       "      <th>2025-12-01</th>\n",
       "      <td>16.215732</td>\n",
       "    </tr>\n",
       "  </tbody>\n",
       "</table>\n",
       "</div>"
      ],
      "text/plain": [
       "            Mex_Average Temperature °C (Monthly)\n",
       "2025-01-01                             15.718217\n",
       "2025-02-01                             16.624022\n",
       "2025-03-01                             18.691653\n",
       "2025-04-01                             21.366808\n",
       "2025-05-01                             23.932368\n",
       "2025-06-01                             25.700630\n",
       "2025-07-01                             26.197654\n",
       "2025-08-01                             25.290284\n",
       "2025-09-01                             23.221825\n",
       "2025-10-01                             20.546802\n",
       "2025-11-01                             17.982298\n",
       "2025-12-01                             16.215732"
      ]
     },
     "execution_count": 106,
     "metadata": {},
     "output_type": "execute_result"
    }
   ],
   "source": [
    "pred1.tail(12)"
   ]
  },
  {
   "cell_type": "code",
   "execution_count": null,
   "id": "0552acf2",
   "metadata": {},
   "outputs": [],
   "source": []
  }
 ],
 "metadata": {
  "kernelspec": {
   "display_name": "Python 3",
   "language": "python",
   "name": "python3"
  },
  "language_info": {
   "codemirror_mode": {
    "name": "ipython",
    "version": 3
   },
   "file_extension": ".py",
   "mimetype": "text/x-python",
   "name": "python",
   "nbconvert_exporter": "python",
   "pygments_lexer": "ipython3",
   "version": "3.9.4"
  }
 },
 "nbformat": 4,
 "nbformat_minor": 5
}
