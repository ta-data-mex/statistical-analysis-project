{
 "cells": [
  {
   "cell_type": "code",
   "execution_count": 1,
   "metadata": {},
   "outputs": [
    {
     "data": {
      "text/html": [
       "        <script type=\"text/javascript\">\n",
       "        window.PlotlyConfig = {MathJaxConfig: 'local'};\n",
       "        if (window.MathJax) {MathJax.Hub.Config({SVG: {font: \"STIX-Web\"}});}\n",
       "        if (typeof require !== 'undefined') {\n",
       "        require.undef(\"plotly\");\n",
       "        requirejs.config({\n",
       "            paths: {\n",
       "                'plotly': ['https://cdn.plot.ly/plotly-latest.min']\n",
       "            }\n",
       "        });\n",
       "        require(['plotly'], function(Plotly) {\n",
       "            window._Plotly = Plotly;\n",
       "        });\n",
       "        }\n",
       "        </script>\n",
       "        "
      ]
     },
     "metadata": {},
     "output_type": "display_data"
    }
   ],
   "source": [
    "import pandas as pd\n",
    "import numpy as np\n",
    "\n",
    "import seaborn as sns\n",
    "import plotly\n",
    "import cufflinks as cf\n",
    "from lifelines import KaplanMeierFitter\n",
    "\n",
    "import matplotlib.pyplot as plt\n",
    "\n",
    "import scipy.stats as stats\n",
    "from statsmodels.stats.weightstats import ztest\n",
    "\n",
    "from lifelines.statistics import logrank_test, multivariate_logrank_test\n",
    "\n",
    "cf.go_offline()\n",
    "\n",
    "pd.options.plotting.backend = 'plotly'"
   ]
  },
  {
   "cell_type": "code",
   "execution_count": 2,
   "metadata": {},
   "outputs": [],
   "source": [
    "data = pd.read_csv('../data/sinac_2020.csv', low_memory=False)"
   ]
  },
  {
   "cell_type": "code",
   "execution_count": 3,
   "metadata": {},
   "outputs": [
    {
     "data": {
      "text/html": [
       "<div>\n",
       "<style scoped>\n",
       "    .dataframe tbody tr th:only-of-type {\n",
       "        vertical-align: middle;\n",
       "    }\n",
       "\n",
       "    .dataframe tbody tr th {\n",
       "        vertical-align: top;\n",
       "    }\n",
       "\n",
       "    .dataframe thead th {\n",
       "        text-align: right;\n",
       "    }\n",
       "</style>\n",
       "<table border=\"1\" class=\"dataframe\">\n",
       "  <thead>\n",
       "    <tr style=\"text-align: right;\">\n",
       "      <th></th>\n",
       "      <th>NACIOEXTRANJERO</th>\n",
       "      <th>ENTIDADNACIMIENTO</th>\n",
       "      <th>MUNICIPIONACIMIENTO</th>\n",
       "      <th>EDAD</th>\n",
       "      <th>SECONSIDERAINDIGENA</th>\n",
       "      <th>HABLALENGUAINDIGENA</th>\n",
       "      <th>FECHANACIMIENTOMADRE</th>\n",
       "      <th>ESTADOCONYUGAL</th>\n",
       "      <th>RESIDEEXTRANJERO</th>\n",
       "      <th>ENTIDADRESIDENCIA</th>\n",
       "      <th>...</th>\n",
       "      <th>TIPOMEDICOATENDIO</th>\n",
       "      <th>ENTIDADFEDERATIVAPARTO</th>\n",
       "      <th>MUNICIPIOPARTO</th>\n",
       "      <th>LOCALIDADPARTO</th>\n",
       "      <th>CERTIFICADOPOR</th>\n",
       "      <th>CLUESCERTIFICA</th>\n",
       "      <th>ENTIDADFEDERATIVACERTIFICA</th>\n",
       "      <th>MUNICIPIOCERTIFICA</th>\n",
       "      <th>LOCALIDADCERTIFICA</th>\n",
       "      <th>FECHACERTIFICADO</th>\n",
       "    </tr>\n",
       "  </thead>\n",
       "  <tbody>\n",
       "    <tr>\n",
       "      <th>0</th>\n",
       "      <td>2</td>\n",
       "      <td>14</td>\n",
       "      <td>91</td>\n",
       "      <td>29</td>\n",
       "      <td>2</td>\n",
       "      <td>2</td>\n",
       "      <td>25/11/1990</td>\n",
       "      <td>5</td>\n",
       "      <td>2</td>\n",
       "      <td>14</td>\n",
       "      <td>...</td>\n",
       "      <td>11.0</td>\n",
       "      <td>14</td>\n",
       "      <td>91</td>\n",
       "      <td>1</td>\n",
       "      <td>7</td>\n",
       "      <td>NaN</td>\n",
       "      <td>14</td>\n",
       "      <td>91</td>\n",
       "      <td>1</td>\n",
       "      <td>09/01/2020</td>\n",
       "    </tr>\n",
       "    <tr>\n",
       "      <th>1</th>\n",
       "      <td>2</td>\n",
       "      <td>27</td>\n",
       "      <td>2</td>\n",
       "      <td>26</td>\n",
       "      <td>2</td>\n",
       "      <td>2</td>\n",
       "      <td>26/03/1993</td>\n",
       "      <td>5</td>\n",
       "      <td>2</td>\n",
       "      <td>27</td>\n",
       "      <td>...</td>\n",
       "      <td>NaN</td>\n",
       "      <td>27</td>\n",
       "      <td>5</td>\n",
       "      <td>74</td>\n",
       "      <td>5</td>\n",
       "      <td>NaN</td>\n",
       "      <td>27</td>\n",
       "      <td>5</td>\n",
       "      <td>1</td>\n",
       "      <td>07/01/2020</td>\n",
       "    </tr>\n",
       "    <tr>\n",
       "      <th>2</th>\n",
       "      <td>2</td>\n",
       "      <td>15</td>\n",
       "      <td>104</td>\n",
       "      <td>25</td>\n",
       "      <td>2</td>\n",
       "      <td>2</td>\n",
       "      <td>20/05/1994</td>\n",
       "      <td>4</td>\n",
       "      <td>2</td>\n",
       "      <td>15</td>\n",
       "      <td>...</td>\n",
       "      <td>11.0</td>\n",
       "      <td>15</td>\n",
       "      <td>33</td>\n",
       "      <td>1</td>\n",
       "      <td>2</td>\n",
       "      <td>NaN</td>\n",
       "      <td>15</td>\n",
       "      <td>33</td>\n",
       "      <td>1</td>\n",
       "      <td>11/01/2020</td>\n",
       "    </tr>\n",
       "    <tr>\n",
       "      <th>3</th>\n",
       "      <td>2</td>\n",
       "      <td>7</td>\n",
       "      <td>101</td>\n",
       "      <td>22</td>\n",
       "      <td>2</td>\n",
       "      <td>2</td>\n",
       "      <td>26/05/1997</td>\n",
       "      <td>4</td>\n",
       "      <td>2</td>\n",
       "      <td>7</td>\n",
       "      <td>...</td>\n",
       "      <td>11.0</td>\n",
       "      <td>7</td>\n",
       "      <td>101</td>\n",
       "      <td>1</td>\n",
       "      <td>1</td>\n",
       "      <td>NaN</td>\n",
       "      <td>7</td>\n",
       "      <td>101</td>\n",
       "      <td>1</td>\n",
       "      <td>15/01/2020</td>\n",
       "    </tr>\n",
       "    <tr>\n",
       "      <th>4</th>\n",
       "      <td>2</td>\n",
       "      <td>20</td>\n",
       "      <td>533</td>\n",
       "      <td>22</td>\n",
       "      <td>2</td>\n",
       "      <td>2</td>\n",
       "      <td>25/09/1997</td>\n",
       "      <td>4</td>\n",
       "      <td>2</td>\n",
       "      <td>20</td>\n",
       "      <td>...</td>\n",
       "      <td>11.0</td>\n",
       "      <td>20</td>\n",
       "      <td>59</td>\n",
       "      <td>1</td>\n",
       "      <td>4</td>\n",
       "      <td>NaN</td>\n",
       "      <td>20</td>\n",
       "      <td>59</td>\n",
       "      <td>1</td>\n",
       "      <td>10/01/2020</td>\n",
       "    </tr>\n",
       "    <tr>\n",
       "      <th>...</th>\n",
       "      <td>...</td>\n",
       "      <td>...</td>\n",
       "      <td>...</td>\n",
       "      <td>...</td>\n",
       "      <td>...</td>\n",
       "      <td>...</td>\n",
       "      <td>...</td>\n",
       "      <td>...</td>\n",
       "      <td>...</td>\n",
       "      <td>...</td>\n",
       "      <td>...</td>\n",
       "      <td>...</td>\n",
       "      <td>...</td>\n",
       "      <td>...</td>\n",
       "      <td>...</td>\n",
       "      <td>...</td>\n",
       "      <td>...</td>\n",
       "      <td>...</td>\n",
       "      <td>...</td>\n",
       "      <td>...</td>\n",
       "      <td>...</td>\n",
       "    </tr>\n",
       "    <tr>\n",
       "      <th>1747842</th>\n",
       "      <td>1</td>\n",
       "      <td>88</td>\n",
       "      <td>999</td>\n",
       "      <td>34</td>\n",
       "      <td>2</td>\n",
       "      <td>2</td>\n",
       "      <td>10/02/1985</td>\n",
       "      <td>1</td>\n",
       "      <td>2</td>\n",
       "      <td>14</td>\n",
       "      <td>...</td>\n",
       "      <td>11.0</td>\n",
       "      <td>14</td>\n",
       "      <td>67</td>\n",
       "      <td>1</td>\n",
       "      <td>1</td>\n",
       "      <td>9997</td>\n",
       "      <td>14</td>\n",
       "      <td>67</td>\n",
       "      <td>1</td>\n",
       "      <td>03/01/2020</td>\n",
       "    </tr>\n",
       "    <tr>\n",
       "      <th>1747843</th>\n",
       "      <td>1</td>\n",
       "      <td>88</td>\n",
       "      <td>999</td>\n",
       "      <td>30</td>\n",
       "      <td>2</td>\n",
       "      <td>2</td>\n",
       "      <td>07/07/1985</td>\n",
       "      <td>5</td>\n",
       "      <td>2</td>\n",
       "      <td>14</td>\n",
       "      <td>...</td>\n",
       "      <td>11.0</td>\n",
       "      <td>14</td>\n",
       "      <td>39</td>\n",
       "      <td>1</td>\n",
       "      <td>1</td>\n",
       "      <td>9997</td>\n",
       "      <td>14</td>\n",
       "      <td>39</td>\n",
       "      <td>1</td>\n",
       "      <td>08/01/2020</td>\n",
       "    </tr>\n",
       "    <tr>\n",
       "      <th>1747844</th>\n",
       "      <td>2</td>\n",
       "      <td>16</td>\n",
       "      <td>108</td>\n",
       "      <td>27</td>\n",
       "      <td>2</td>\n",
       "      <td>2</td>\n",
       "      <td>20/02/1992</td>\n",
       "      <td>5</td>\n",
       "      <td>2</td>\n",
       "      <td>14</td>\n",
       "      <td>...</td>\n",
       "      <td>11.0</td>\n",
       "      <td>14</td>\n",
       "      <td>67</td>\n",
       "      <td>1</td>\n",
       "      <td>1</td>\n",
       "      <td>9997</td>\n",
       "      <td>14</td>\n",
       "      <td>67</td>\n",
       "      <td>1</td>\n",
       "      <td>08/01/2020</td>\n",
       "    </tr>\n",
       "    <tr>\n",
       "      <th>1747845</th>\n",
       "      <td>2</td>\n",
       "      <td>16</td>\n",
       "      <td>98</td>\n",
       "      <td>33</td>\n",
       "      <td>2</td>\n",
       "      <td>2</td>\n",
       "      <td>13/10/1986</td>\n",
       "      <td>4</td>\n",
       "      <td>2</td>\n",
       "      <td>14</td>\n",
       "      <td>...</td>\n",
       "      <td>11.0</td>\n",
       "      <td>14</td>\n",
       "      <td>98</td>\n",
       "      <td>1</td>\n",
       "      <td>1</td>\n",
       "      <td>9997</td>\n",
       "      <td>14</td>\n",
       "      <td>98</td>\n",
       "      <td>1</td>\n",
       "      <td>11/01/2020</td>\n",
       "    </tr>\n",
       "    <tr>\n",
       "      <th>1747846</th>\n",
       "      <td>2</td>\n",
       "      <td>16</td>\n",
       "      <td>53</td>\n",
       "      <td>31</td>\n",
       "      <td>2</td>\n",
       "      <td>2</td>\n",
       "      <td>21/02/1989</td>\n",
       "      <td>5</td>\n",
       "      <td>2</td>\n",
       "      <td>14</td>\n",
       "      <td>...</td>\n",
       "      <td>11.0</td>\n",
       "      <td>14</td>\n",
       "      <td>98</td>\n",
       "      <td>1</td>\n",
       "      <td>1</td>\n",
       "      <td>9997</td>\n",
       "      <td>14</td>\n",
       "      <td>98</td>\n",
       "      <td>1</td>\n",
       "      <td>17/06/2020</td>\n",
       "    </tr>\n",
       "  </tbody>\n",
       "</table>\n",
       "<p>1747847 rows × 64 columns</p>\n",
       "</div>"
      ],
      "text/plain": [
       "         NACIOEXTRANJERO  ENTIDADNACIMIENTO  MUNICIPIONACIMIENTO  EDAD  \\\n",
       "0                      2                 14                   91    29   \n",
       "1                      2                 27                    2    26   \n",
       "2                      2                 15                  104    25   \n",
       "3                      2                  7                  101    22   \n",
       "4                      2                 20                  533    22   \n",
       "...                  ...                ...                  ...   ...   \n",
       "1747842                1                 88                  999    34   \n",
       "1747843                1                 88                  999    30   \n",
       "1747844                2                 16                  108    27   \n",
       "1747845                2                 16                   98    33   \n",
       "1747846                2                 16                   53    31   \n",
       "\n",
       "         SECONSIDERAINDIGENA  HABLALENGUAINDIGENA FECHANACIMIENTOMADRE  \\\n",
       "0                          2                    2           25/11/1990   \n",
       "1                          2                    2           26/03/1993   \n",
       "2                          2                    2           20/05/1994   \n",
       "3                          2                    2           26/05/1997   \n",
       "4                          2                    2           25/09/1997   \n",
       "...                      ...                  ...                  ...   \n",
       "1747842                    2                    2           10/02/1985   \n",
       "1747843                    2                    2           07/07/1985   \n",
       "1747844                    2                    2           20/02/1992   \n",
       "1747845                    2                    2           13/10/1986   \n",
       "1747846                    2                    2           21/02/1989   \n",
       "\n",
       "         ESTADOCONYUGAL  RESIDEEXTRANJERO  ENTIDADRESIDENCIA  ...  \\\n",
       "0                     5                 2                 14  ...   \n",
       "1                     5                 2                 27  ...   \n",
       "2                     4                 2                 15  ...   \n",
       "3                     4                 2                  7  ...   \n",
       "4                     4                 2                 20  ...   \n",
       "...                 ...               ...                ...  ...   \n",
       "1747842               1                 2                 14  ...   \n",
       "1747843               5                 2                 14  ...   \n",
       "1747844               5                 2                 14  ...   \n",
       "1747845               4                 2                 14  ...   \n",
       "1747846               5                 2                 14  ...   \n",
       "\n",
       "         TIPOMEDICOATENDIO  ENTIDADFEDERATIVAPARTO  MUNICIPIOPARTO  \\\n",
       "0                     11.0                      14              91   \n",
       "1                      NaN                      27               5   \n",
       "2                     11.0                      15              33   \n",
       "3                     11.0                       7             101   \n",
       "4                     11.0                      20              59   \n",
       "...                    ...                     ...             ...   \n",
       "1747842               11.0                      14              67   \n",
       "1747843               11.0                      14              39   \n",
       "1747844               11.0                      14              67   \n",
       "1747845               11.0                      14              98   \n",
       "1747846               11.0                      14              98   \n",
       "\n",
       "         LOCALIDADPARTO  CERTIFICADOPOR  CLUESCERTIFICA  \\\n",
       "0                     1               7             NaN   \n",
       "1                    74               5             NaN   \n",
       "2                     1               2             NaN   \n",
       "3                     1               1             NaN   \n",
       "4                     1               4             NaN   \n",
       "...                 ...             ...             ...   \n",
       "1747842               1               1            9997   \n",
       "1747843               1               1            9997   \n",
       "1747844               1               1            9997   \n",
       "1747845               1               1            9997   \n",
       "1747846               1               1            9997   \n",
       "\n",
       "         ENTIDADFEDERATIVACERTIFICA  MUNICIPIOCERTIFICA  LOCALIDADCERTIFICA  \\\n",
       "0                                14                  91                   1   \n",
       "1                                27                   5                   1   \n",
       "2                                15                  33                   1   \n",
       "3                                 7                 101                   1   \n",
       "4                                20                  59                   1   \n",
       "...                             ...                 ...                 ...   \n",
       "1747842                          14                  67                   1   \n",
       "1747843                          14                  39                   1   \n",
       "1747844                          14                  67                   1   \n",
       "1747845                          14                  98                   1   \n",
       "1747846                          14                  98                   1   \n",
       "\n",
       "         FECHACERTIFICADO  \n",
       "0              09/01/2020  \n",
       "1              07/01/2020  \n",
       "2              11/01/2020  \n",
       "3              15/01/2020  \n",
       "4              10/01/2020  \n",
       "...                   ...  \n",
       "1747842        03/01/2020  \n",
       "1747843        08/01/2020  \n",
       "1747844        08/01/2020  \n",
       "1747845        11/01/2020  \n",
       "1747846        17/06/2020  \n",
       "\n",
       "[1747847 rows x 64 columns]"
      ]
     },
     "execution_count": 3,
     "metadata": {},
     "output_type": "execute_result"
    }
   ],
   "source": [
    "data"
   ]
  },
  {
   "cell_type": "code",
   "execution_count": 4,
   "metadata": {},
   "outputs": [
    {
     "data": {
      "text/plain": [
       "Index(['NACIOEXTRANJERO', 'ENTIDADNACIMIENTO', 'MUNICIPIONACIMIENTO', 'EDAD',\n",
       "       'SECONSIDERAINDIGENA', 'HABLALENGUAINDIGENA', 'FECHANACIMIENTOMADRE',\n",
       "       'ESTADOCONYUGAL', 'RESIDEEXTRANJERO', 'ENTIDADRESIDENCIA',\n",
       "       'MUNICIPIORESIDENCIA', 'LOCALIDADRESIDENCIA', 'NUMEROEMBARAZOS',\n",
       "       'HIJOSNACIDOSMUERTOS', 'HIJOSNACIDOSVIVOS', 'HIJOSSOBREVIVIENTES',\n",
       "       'CONDICIONHIJOANTERIOR', 'VIVEHIJOANTERIOR', 'ORDENNACIMIENTO',\n",
       "       'ATENCIONPRENATAL', 'TRIMESTREPRIMERCONSULTA', 'TOTALCONSULTAS',\n",
       "       'SOBREVIVIOPARTO', 'AFILIACION', 'ESCOLARIDAD', 'INTERRUMPIOESTUDIOS',\n",
       "       'CLAVEOCUPACIONHABITUAL', 'TRABAJAACTUALMENTE', 'EDADPADRE',\n",
       "       'FECHANACIMIENTO', 'HORANACIMIENTO', 'SEXO', 'EDADGESTACIONAL', 'TALLA',\n",
       "       'PESO', 'APGAR', 'SILVERMAN', 'TAMIZAUDITIVO', 'VACUNA_BCG',\n",
       "       'VACUNAHEPATITIS_B', 'VITAMINA_A', 'VITAMINA_K', 'PRODUCTOEMBARAZO',\n",
       "       'ORDENPRODUCTO', 'TOTALPRODUCTOS', 'CODIGOCIEANOMALIA1',\n",
       "       'CODIGOCIEANOMALIA2', 'LUGARNACIMIENTO', 'CLUES', 'TIEMPOTRASLADO',\n",
       "       'RESOLUCIONEMBARAZO', 'UTILIZOFORCEPS', 'TIPOCESAREA',\n",
       "       'PERSONALATENDIO', 'TIPOMEDICOATENDIO', 'ENTIDADFEDERATIVAPARTO',\n",
       "       'MUNICIPIOPARTO', 'LOCALIDADPARTO', 'CERTIFICADOPOR', 'CLUESCERTIFICA',\n",
       "       'ENTIDADFEDERATIVACERTIFICA', 'MUNICIPIOCERTIFICA',\n",
       "       'LOCALIDADCERTIFICA', 'FECHACERTIFICADO'],\n",
       "      dtype='object')"
      ]
     },
     "execution_count": 4,
     "metadata": {},
     "output_type": "execute_result"
    }
   ],
   "source": [
    "data.columns"
   ]
  },
  {
   "cell_type": "markdown",
   "metadata": {},
   "source": [
    "### Análisis de supervivencia"
   ]
  },
  {
   "cell_type": "code",
   "execution_count": 5,
   "metadata": {},
   "outputs": [],
   "source": [
    "def survival(data: pd.DataFrame, group_field: str,\n",
    "             time_field: str, event_field: str) -> tuple:\n",
    "  \"\"\"\n",
    "  Función que recibe un DF y filtra por columna a partir del campo de \n",
    "  agrupación. \n",
    "\n",
    "  Regresa\n",
    "    Plot de Función de Supervivencia\n",
    "    Test de Logrank\n",
    "  \"\"\"\n",
    "\n",
    "  model = KaplanMeierFitter()\n",
    "  results = []\n",
    "  con_exp = []\n",
    "\n",
    "  for i in data[group_field].unique():\n",
    "    group = data[data[group_field] == i]\n",
    "    T = group[time_field]\n",
    "    E = group[event_field]\n",
    "    con_exp.append([T, E])\n",
    "    model.fit(T, E, label=str(i))\n",
    "    results.append(model.survival_function_)\n",
    "\n",
    "  survival = pd.concat(results, axis=1)\n",
    "\n",
    "  log_result = logrank_test(con_exp[0][0], con_exp[1][0], \n",
    "                            event_observed_A=con_exp[0][1], \n",
    "                            event_observed_B=con_exp[1][1])\n",
    "  \n",
    "  return survival, log_result"
   ]
  },
  {
   "cell_type": "code",
   "execution_count": 6,
   "metadata": {},
   "outputs": [],
   "source": [
    "data_indigena = data[((data['SECONSIDERAINDIGENA'] == 1) | (data['SECONSIDERAINDIGENA'] == 2)) & ((data['SOBREVIVIOPARTO'] == 1) | (data['SOBREVIVIOPARTO'] == 2)) & (data['EDAD'] != 999)]\n",
    "data_indigena['SECONSIDERAINDIGENA'].replace(2, 'No', inplace=True)\n",
    "data_indigena['SECONSIDERAINDIGENA'].replace(1, 'Si', inplace=True)"
   ]
  },
  {
   "cell_type": "code",
   "execution_count": 7,
   "metadata": {},
   "outputs": [
    {
     "name": "stdout",
     "output_type": "stream",
     "text": [
      "<lifelines.StatisticalResult: logrank_test>\n",
      "               t_0 = -1\n",
      " null_distribution = chi squared\n",
      "degrees_of_freedom = 1\n",
      "         test_name = logrank_test\n",
      "\n",
      "---\n",
      " test_statistic      p  -log2(p)\n",
      "         112.73 <0.005     85.07\n"
     ]
    },
    {
     "data": {
      "application/vnd.plotly.v1+json": {
       "config": {
        "plotlyServerURL": "https://plot.ly"
       },
       "data": [
        {
         "hovertemplate": "variable=No<br>timeline=%{x}<br>value=%{y}<extra></extra>",
         "legendgroup": "No",
         "line": {
          "color": "#636efa",
          "dash": "solid"
         },
         "mode": "lines",
         "name": "No",
         "orientation": "v",
         "showlegend": true,
         "type": "scatter",
         "x": [
          0,
          9,
          10,
          11,
          12,
          13,
          14,
          15,
          16,
          17,
          18,
          19,
          20,
          21,
          22,
          23,
          24,
          25,
          26,
          27,
          28,
          29,
          30,
          31,
          32,
          33,
          34,
          35,
          36,
          37,
          38,
          39,
          40,
          41,
          42,
          43,
          44,
          45,
          46,
          47,
          48,
          49,
          50,
          51,
          52,
          53,
          54,
          55,
          56,
          57,
          58,
          59
         ],
         "xaxis": "x",
         "y": [
          1,
          0.9999949960906951,
          0.9999649726348695,
          0.9999186864738074,
          0.9997998436278334,
          0.9990067240031268,
          0.9951974980453462,
          0.9842308053166525,
          0.9614467552775606,
          0.9276153244722425,
          0.8848831899921802,
          0.8321094605160267,
          0.7748841282251757,
          0.7188115715402656,
          0.6634251759186863,
          0.6087743549648152,
          0.5528056293979663,
          0.4963321344800623,
          0.4408175136825639,
          0.3873244722439402,
          0.3362695856137606,
          0.2887399530883498,
          0.24426395621579358,
          0.2049757623143079,
          0.1690870992963251,
          0.1373341673182172,
          0.10935543393275995,
          0.08469616888193897,
          0.06375605942142291,
          0.04630179827990614,
          0.032292103205629356,
          0.021603752931978096,
          0.013748240813135238,
          0.008404065676309603,
          0.0049013291634089065,
          0.0027421422986708332,
          0.0014730258014073482,
          0.000808756841282251,
          0.0005016419077404218,
          0.00032087568412822486,
          0.00021641907740422176,
          0.00015324472243940558,
          0.00011008600469116474,
          0.00007881157154026569,
          0.00005191555903049245,
          0.000033776387802970986,
          0.000026896012509773177,
          0.000021266614542611345,
          0.00001188428459734164,
          0.000008131352619233751,
          0.000002501954652071925,
          0
         ],
         "yaxis": "y"
        },
        {
         "hovertemplate": "variable=Si<br>timeline=%{x}<br>value=%{y}<extra></extra>",
         "legendgroup": "Si",
         "line": {
          "color": "#EF553B",
          "dash": "solid"
         },
         "mode": "lines",
         "name": "Si",
         "orientation": "v",
         "showlegend": true,
         "type": "scatter",
         "x": [
          0,
          9,
          10,
          11,
          12,
          13,
          14,
          15,
          16,
          17,
          18,
          19,
          20,
          21,
          22,
          23,
          24,
          25,
          26,
          27,
          28,
          29,
          30,
          31,
          32,
          33,
          34,
          35,
          36,
          37,
          38,
          39,
          40,
          41,
          42,
          43,
          44,
          45,
          46,
          47,
          48,
          49,
          50,
          51,
          52,
          53,
          54,
          55,
          56,
          57,
          58,
          59
         ],
         "xaxis": "x",
         "y": [
          1,
          0.999976275019969,
          0.9999525500399369,
          0.999841833466457,
          0.9996045836661411,
          0.9982285348243161,
          0.992637347863565,
          0.9774375439900667,
          0.9488410347254629,
          0.9088090850856866,
          0.8606552839484687,
          0.8031854739855588,
          0.7431612745059276,
          0.6875261963321175,
          0.6330061922197879,
          0.5808349611305744,
          0.5260460739112214,
          0.47137581159202535,
          0.4179392482344662,
          0.36726269088723545,
          0.31876883170290005,
          0.2742054108771124,
          0.23343007852968398,
          0.19743928382193615,
          0.16518121930580718,
          0.13512957793260527,
          0.10864459189080189,
          0.08590815269397153,
          0.06619269428781566,
          0.04964847487920027,
          0.035010162199780155,
          0.024112488038655892,
          0.015698028454159376,
          0.009814233406353547,
          0.005788895127679931,
          0.0032661389176664116,
          0.0018979984025180108,
          0.0009252742212275305,
          0.0005773078474325615,
          0.00037169135382644373,
          0.00028469976037770185,
          0.00022143314696043467,
          0.00018189151357464272,
          0.00014234988018885068,
          0.00011862490015737553,
          0.00009489992012590051,
          0.00005535828674010866,
          0.000023724980031475124,
          0.00001581665335431676,
          null,
          0.000007908326677158378,
          0
         ],
         "yaxis": "y"
        }
       ],
       "layout": {
        "legend": {
         "title": {
          "text": "variable"
         },
         "tracegroupgap": 0
        },
        "template": {
         "data": {
          "bar": [
           {
            "error_x": {
             "color": "#2a3f5f"
            },
            "error_y": {
             "color": "#2a3f5f"
            },
            "marker": {
             "line": {
              "color": "#E5ECF6",
              "width": 0.5
             }
            },
            "type": "bar"
           }
          ],
          "barpolar": [
           {
            "marker": {
             "line": {
              "color": "#E5ECF6",
              "width": 0.5
             }
            },
            "type": "barpolar"
           }
          ],
          "carpet": [
           {
            "aaxis": {
             "endlinecolor": "#2a3f5f",
             "gridcolor": "white",
             "linecolor": "white",
             "minorgridcolor": "white",
             "startlinecolor": "#2a3f5f"
            },
            "baxis": {
             "endlinecolor": "#2a3f5f",
             "gridcolor": "white",
             "linecolor": "white",
             "minorgridcolor": "white",
             "startlinecolor": "#2a3f5f"
            },
            "type": "carpet"
           }
          ],
          "choropleth": [
           {
            "colorbar": {
             "outlinewidth": 0,
             "ticks": ""
            },
            "type": "choropleth"
           }
          ],
          "contour": [
           {
            "colorbar": {
             "outlinewidth": 0,
             "ticks": ""
            },
            "colorscale": [
             [
              0,
              "#0d0887"
             ],
             [
              0.1111111111111111,
              "#46039f"
             ],
             [
              0.2222222222222222,
              "#7201a8"
             ],
             [
              0.3333333333333333,
              "#9c179e"
             ],
             [
              0.4444444444444444,
              "#bd3786"
             ],
             [
              0.5555555555555556,
              "#d8576b"
             ],
             [
              0.6666666666666666,
              "#ed7953"
             ],
             [
              0.7777777777777778,
              "#fb9f3a"
             ],
             [
              0.8888888888888888,
              "#fdca26"
             ],
             [
              1,
              "#f0f921"
             ]
            ],
            "type": "contour"
           }
          ],
          "contourcarpet": [
           {
            "colorbar": {
             "outlinewidth": 0,
             "ticks": ""
            },
            "type": "contourcarpet"
           }
          ],
          "heatmap": [
           {
            "colorbar": {
             "outlinewidth": 0,
             "ticks": ""
            },
            "colorscale": [
             [
              0,
              "#0d0887"
             ],
             [
              0.1111111111111111,
              "#46039f"
             ],
             [
              0.2222222222222222,
              "#7201a8"
             ],
             [
              0.3333333333333333,
              "#9c179e"
             ],
             [
              0.4444444444444444,
              "#bd3786"
             ],
             [
              0.5555555555555556,
              "#d8576b"
             ],
             [
              0.6666666666666666,
              "#ed7953"
             ],
             [
              0.7777777777777778,
              "#fb9f3a"
             ],
             [
              0.8888888888888888,
              "#fdca26"
             ],
             [
              1,
              "#f0f921"
             ]
            ],
            "type": "heatmap"
           }
          ],
          "heatmapgl": [
           {
            "colorbar": {
             "outlinewidth": 0,
             "ticks": ""
            },
            "colorscale": [
             [
              0,
              "#0d0887"
             ],
             [
              0.1111111111111111,
              "#46039f"
             ],
             [
              0.2222222222222222,
              "#7201a8"
             ],
             [
              0.3333333333333333,
              "#9c179e"
             ],
             [
              0.4444444444444444,
              "#bd3786"
             ],
             [
              0.5555555555555556,
              "#d8576b"
             ],
             [
              0.6666666666666666,
              "#ed7953"
             ],
             [
              0.7777777777777778,
              "#fb9f3a"
             ],
             [
              0.8888888888888888,
              "#fdca26"
             ],
             [
              1,
              "#f0f921"
             ]
            ],
            "type": "heatmapgl"
           }
          ],
          "histogram": [
           {
            "marker": {
             "colorbar": {
              "outlinewidth": 0,
              "ticks": ""
             }
            },
            "type": "histogram"
           }
          ],
          "histogram2d": [
           {
            "colorbar": {
             "outlinewidth": 0,
             "ticks": ""
            },
            "colorscale": [
             [
              0,
              "#0d0887"
             ],
             [
              0.1111111111111111,
              "#46039f"
             ],
             [
              0.2222222222222222,
              "#7201a8"
             ],
             [
              0.3333333333333333,
              "#9c179e"
             ],
             [
              0.4444444444444444,
              "#bd3786"
             ],
             [
              0.5555555555555556,
              "#d8576b"
             ],
             [
              0.6666666666666666,
              "#ed7953"
             ],
             [
              0.7777777777777778,
              "#fb9f3a"
             ],
             [
              0.8888888888888888,
              "#fdca26"
             ],
             [
              1,
              "#f0f921"
             ]
            ],
            "type": "histogram2d"
           }
          ],
          "histogram2dcontour": [
           {
            "colorbar": {
             "outlinewidth": 0,
             "ticks": ""
            },
            "colorscale": [
             [
              0,
              "#0d0887"
             ],
             [
              0.1111111111111111,
              "#46039f"
             ],
             [
              0.2222222222222222,
              "#7201a8"
             ],
             [
              0.3333333333333333,
              "#9c179e"
             ],
             [
              0.4444444444444444,
              "#bd3786"
             ],
             [
              0.5555555555555556,
              "#d8576b"
             ],
             [
              0.6666666666666666,
              "#ed7953"
             ],
             [
              0.7777777777777778,
              "#fb9f3a"
             ],
             [
              0.8888888888888888,
              "#fdca26"
             ],
             [
              1,
              "#f0f921"
             ]
            ],
            "type": "histogram2dcontour"
           }
          ],
          "mesh3d": [
           {
            "colorbar": {
             "outlinewidth": 0,
             "ticks": ""
            },
            "type": "mesh3d"
           }
          ],
          "parcoords": [
           {
            "line": {
             "colorbar": {
              "outlinewidth": 0,
              "ticks": ""
             }
            },
            "type": "parcoords"
           }
          ],
          "pie": [
           {
            "automargin": true,
            "type": "pie"
           }
          ],
          "scatter": [
           {
            "marker": {
             "colorbar": {
              "outlinewidth": 0,
              "ticks": ""
             }
            },
            "type": "scatter"
           }
          ],
          "scatter3d": [
           {
            "line": {
             "colorbar": {
              "outlinewidth": 0,
              "ticks": ""
             }
            },
            "marker": {
             "colorbar": {
              "outlinewidth": 0,
              "ticks": ""
             }
            },
            "type": "scatter3d"
           }
          ],
          "scattercarpet": [
           {
            "marker": {
             "colorbar": {
              "outlinewidth": 0,
              "ticks": ""
             }
            },
            "type": "scattercarpet"
           }
          ],
          "scattergeo": [
           {
            "marker": {
             "colorbar": {
              "outlinewidth": 0,
              "ticks": ""
             }
            },
            "type": "scattergeo"
           }
          ],
          "scattergl": [
           {
            "marker": {
             "colorbar": {
              "outlinewidth": 0,
              "ticks": ""
             }
            },
            "type": "scattergl"
           }
          ],
          "scattermapbox": [
           {
            "marker": {
             "colorbar": {
              "outlinewidth": 0,
              "ticks": ""
             }
            },
            "type": "scattermapbox"
           }
          ],
          "scatterpolar": [
           {
            "marker": {
             "colorbar": {
              "outlinewidth": 0,
              "ticks": ""
             }
            },
            "type": "scatterpolar"
           }
          ],
          "scatterpolargl": [
           {
            "marker": {
             "colorbar": {
              "outlinewidth": 0,
              "ticks": ""
             }
            },
            "type": "scatterpolargl"
           }
          ],
          "scatterternary": [
           {
            "marker": {
             "colorbar": {
              "outlinewidth": 0,
              "ticks": ""
             }
            },
            "type": "scatterternary"
           }
          ],
          "surface": [
           {
            "colorbar": {
             "outlinewidth": 0,
             "ticks": ""
            },
            "colorscale": [
             [
              0,
              "#0d0887"
             ],
             [
              0.1111111111111111,
              "#46039f"
             ],
             [
              0.2222222222222222,
              "#7201a8"
             ],
             [
              0.3333333333333333,
              "#9c179e"
             ],
             [
              0.4444444444444444,
              "#bd3786"
             ],
             [
              0.5555555555555556,
              "#d8576b"
             ],
             [
              0.6666666666666666,
              "#ed7953"
             ],
             [
              0.7777777777777778,
              "#fb9f3a"
             ],
             [
              0.8888888888888888,
              "#fdca26"
             ],
             [
              1,
              "#f0f921"
             ]
            ],
            "type": "surface"
           }
          ],
          "table": [
           {
            "cells": {
             "fill": {
              "color": "#EBF0F8"
             },
             "line": {
              "color": "white"
             }
            },
            "header": {
             "fill": {
              "color": "#C8D4E3"
             },
             "line": {
              "color": "white"
             }
            },
            "type": "table"
           }
          ]
         },
         "layout": {
          "annotationdefaults": {
           "arrowcolor": "#2a3f5f",
           "arrowhead": 0,
           "arrowwidth": 1
          },
          "autotypenumbers": "strict",
          "coloraxis": {
           "colorbar": {
            "outlinewidth": 0,
            "ticks": ""
           }
          },
          "colorscale": {
           "diverging": [
            [
             0,
             "#8e0152"
            ],
            [
             0.1,
             "#c51b7d"
            ],
            [
             0.2,
             "#de77ae"
            ],
            [
             0.3,
             "#f1b6da"
            ],
            [
             0.4,
             "#fde0ef"
            ],
            [
             0.5,
             "#f7f7f7"
            ],
            [
             0.6,
             "#e6f5d0"
            ],
            [
             0.7,
             "#b8e186"
            ],
            [
             0.8,
             "#7fbc41"
            ],
            [
             0.9,
             "#4d9221"
            ],
            [
             1,
             "#276419"
            ]
           ],
           "sequential": [
            [
             0,
             "#0d0887"
            ],
            [
             0.1111111111111111,
             "#46039f"
            ],
            [
             0.2222222222222222,
             "#7201a8"
            ],
            [
             0.3333333333333333,
             "#9c179e"
            ],
            [
             0.4444444444444444,
             "#bd3786"
            ],
            [
             0.5555555555555556,
             "#d8576b"
            ],
            [
             0.6666666666666666,
             "#ed7953"
            ],
            [
             0.7777777777777778,
             "#fb9f3a"
            ],
            [
             0.8888888888888888,
             "#fdca26"
            ],
            [
             1,
             "#f0f921"
            ]
           ],
           "sequentialminus": [
            [
             0,
             "#0d0887"
            ],
            [
             0.1111111111111111,
             "#46039f"
            ],
            [
             0.2222222222222222,
             "#7201a8"
            ],
            [
             0.3333333333333333,
             "#9c179e"
            ],
            [
             0.4444444444444444,
             "#bd3786"
            ],
            [
             0.5555555555555556,
             "#d8576b"
            ],
            [
             0.6666666666666666,
             "#ed7953"
            ],
            [
             0.7777777777777778,
             "#fb9f3a"
            ],
            [
             0.8888888888888888,
             "#fdca26"
            ],
            [
             1,
             "#f0f921"
            ]
           ]
          },
          "colorway": [
           "#636efa",
           "#EF553B",
           "#00cc96",
           "#ab63fa",
           "#FFA15A",
           "#19d3f3",
           "#FF6692",
           "#B6E880",
           "#FF97FF",
           "#FECB52"
          ],
          "font": {
           "color": "#2a3f5f"
          },
          "geo": {
           "bgcolor": "white",
           "lakecolor": "white",
           "landcolor": "#E5ECF6",
           "showlakes": true,
           "showland": true,
           "subunitcolor": "white"
          },
          "hoverlabel": {
           "align": "left"
          },
          "hovermode": "closest",
          "mapbox": {
           "style": "light"
          },
          "paper_bgcolor": "white",
          "plot_bgcolor": "#E5ECF6",
          "polar": {
           "angularaxis": {
            "gridcolor": "white",
            "linecolor": "white",
            "ticks": ""
           },
           "bgcolor": "#E5ECF6",
           "radialaxis": {
            "gridcolor": "white",
            "linecolor": "white",
            "ticks": ""
           }
          },
          "scene": {
           "xaxis": {
            "backgroundcolor": "#E5ECF6",
            "gridcolor": "white",
            "gridwidth": 2,
            "linecolor": "white",
            "showbackground": true,
            "ticks": "",
            "zerolinecolor": "white"
           },
           "yaxis": {
            "backgroundcolor": "#E5ECF6",
            "gridcolor": "white",
            "gridwidth": 2,
            "linecolor": "white",
            "showbackground": true,
            "ticks": "",
            "zerolinecolor": "white"
           },
           "zaxis": {
            "backgroundcolor": "#E5ECF6",
            "gridcolor": "white",
            "gridwidth": 2,
            "linecolor": "white",
            "showbackground": true,
            "ticks": "",
            "zerolinecolor": "white"
           }
          },
          "shapedefaults": {
           "line": {
            "color": "#2a3f5f"
           }
          },
          "ternary": {
           "aaxis": {
            "gridcolor": "white",
            "linecolor": "white",
            "ticks": ""
           },
           "baxis": {
            "gridcolor": "white",
            "linecolor": "white",
            "ticks": ""
           },
           "bgcolor": "#E5ECF6",
           "caxis": {
            "gridcolor": "white",
            "linecolor": "white",
            "ticks": ""
           }
          },
          "title": {
           "x": 0.05
          },
          "xaxis": {
           "automargin": true,
           "gridcolor": "white",
           "linecolor": "white",
           "ticks": "",
           "title": {
            "standoff": 15
           },
           "zerolinecolor": "white",
           "zerolinewidth": 2
          },
          "yaxis": {
           "automargin": true,
           "gridcolor": "white",
           "linecolor": "white",
           "ticks": "",
           "title": {
            "standoff": 15
           },
           "zerolinecolor": "white",
           "zerolinewidth": 2
          }
         }
        },
        "title": {
         "text": "Tasa de Mortalidad Materna por orígen étnico"
        },
        "xaxis": {
         "anchor": "y",
         "domain": [
          0,
          1
         ],
         "title": {
          "text": "timeline"
         }
        },
        "yaxis": {
         "anchor": "x",
         "domain": [
          0,
          1
         ],
         "title": {
          "text": "value"
         }
        }
       }
      },
      "text/html": [
       "<div>                            <div id=\"587e8f95-473d-4323-a653-01c9125610d1\" class=\"plotly-graph-div\" style=\"height:525px; width:100%;\"></div>            <script type=\"text/javascript\">                require([\"plotly\"], function(Plotly) {                    window.PLOTLYENV=window.PLOTLYENV || {};                                    if (document.getElementById(\"587e8f95-473d-4323-a653-01c9125610d1\")) {                    Plotly.newPlot(                        \"587e8f95-473d-4323-a653-01c9125610d1\",                        [{\"hovertemplate\": \"variable=No<br>timeline=%{x}<br>value=%{y}<extra></extra>\", \"legendgroup\": \"No\", \"line\": {\"color\": \"#636efa\", \"dash\": \"solid\"}, \"mode\": \"lines\", \"name\": \"No\", \"orientation\": \"v\", \"showlegend\": true, \"type\": \"scatter\", \"x\": [0.0, 9.0, 10.0, 11.0, 12.0, 13.0, 14.0, 15.0, 16.0, 17.0, 18.0, 19.0, 20.0, 21.0, 22.0, 23.0, 24.0, 25.0, 26.0, 27.0, 28.0, 29.0, 30.0, 31.0, 32.0, 33.0, 34.0, 35.0, 36.0, 37.0, 38.0, 39.0, 40.0, 41.0, 42.0, 43.0, 44.0, 45.0, 46.0, 47.0, 48.0, 49.0, 50.0, 51.0, 52.0, 53.0, 54.0, 55.0, 56.0, 57.0, 58.0, 59.0], \"xaxis\": \"x\", \"y\": [1.0, 0.9999949960906951, 0.9999649726348695, 0.9999186864738074, 0.9997998436278334, 0.9990067240031268, 0.9951974980453462, 0.9842308053166525, 0.9614467552775606, 0.9276153244722425, 0.8848831899921802, 0.8321094605160267, 0.7748841282251757, 0.7188115715402656, 0.6634251759186863, 0.6087743549648152, 0.5528056293979663, 0.4963321344800623, 0.4408175136825639, 0.3873244722439402, 0.3362695856137606, 0.2887399530883498, 0.24426395621579358, 0.2049757623143079, 0.1690870992963251, 0.1373341673182172, 0.10935543393275995, 0.08469616888193897, 0.06375605942142291, 0.04630179827990614, 0.032292103205629356, 0.021603752931978096, 0.013748240813135238, 0.008404065676309603, 0.0049013291634089065, 0.0027421422986708332, 0.0014730258014073482, 0.000808756841282251, 0.0005016419077404218, 0.00032087568412822486, 0.00021641907740422176, 0.00015324472243940558, 0.00011008600469116474, 7.881157154026569e-05, 5.191555903049245e-05, 3.3776387802970986e-05, 2.6896012509773177e-05, 2.1266614542611345e-05, 1.188428459734164e-05, 8.131352619233751e-06, 2.501954652071925e-06, 0.0], \"yaxis\": \"y\"}, {\"hovertemplate\": \"variable=Si<br>timeline=%{x}<br>value=%{y}<extra></extra>\", \"legendgroup\": \"Si\", \"line\": {\"color\": \"#EF553B\", \"dash\": \"solid\"}, \"mode\": \"lines\", \"name\": \"Si\", \"orientation\": \"v\", \"showlegend\": true, \"type\": \"scatter\", \"x\": [0.0, 9.0, 10.0, 11.0, 12.0, 13.0, 14.0, 15.0, 16.0, 17.0, 18.0, 19.0, 20.0, 21.0, 22.0, 23.0, 24.0, 25.0, 26.0, 27.0, 28.0, 29.0, 30.0, 31.0, 32.0, 33.0, 34.0, 35.0, 36.0, 37.0, 38.0, 39.0, 40.0, 41.0, 42.0, 43.0, 44.0, 45.0, 46.0, 47.0, 48.0, 49.0, 50.0, 51.0, 52.0, 53.0, 54.0, 55.0, 56.0, 57.0, 58.0, 59.0], \"xaxis\": \"x\", \"y\": [1.0, 0.999976275019969, 0.9999525500399369, 0.999841833466457, 0.9996045836661411, 0.9982285348243161, 0.992637347863565, 0.9774375439900667, 0.9488410347254629, 0.9088090850856866, 0.8606552839484687, 0.8031854739855588, 0.7431612745059276, 0.6875261963321175, 0.6330061922197879, 0.5808349611305744, 0.5260460739112214, 0.47137581159202535, 0.4179392482344662, 0.36726269088723545, 0.31876883170290005, 0.2742054108771124, 0.23343007852968398, 0.19743928382193615, 0.16518121930580718, 0.13512957793260527, 0.10864459189080189, 0.08590815269397153, 0.06619269428781566, 0.04964847487920027, 0.035010162199780155, 0.024112488038655892, 0.015698028454159376, 0.009814233406353547, 0.005788895127679931, 0.0032661389176664116, 0.0018979984025180108, 0.0009252742212275305, 0.0005773078474325615, 0.00037169135382644373, 0.00028469976037770185, 0.00022143314696043467, 0.00018189151357464272, 0.00014234988018885068, 0.00011862490015737553, 9.489992012590051e-05, 5.535828674010866e-05, 2.3724980031475124e-05, 1.581665335431676e-05, null, 7.908326677158378e-06, 0.0], \"yaxis\": \"y\"}],                        {\"legend\": {\"title\": {\"text\": \"variable\"}, \"tracegroupgap\": 0}, \"template\": {\"data\": {\"bar\": [{\"error_x\": {\"color\": \"#2a3f5f\"}, \"error_y\": {\"color\": \"#2a3f5f\"}, \"marker\": {\"line\": {\"color\": \"#E5ECF6\", \"width\": 0.5}}, \"type\": \"bar\"}], \"barpolar\": [{\"marker\": {\"line\": {\"color\": \"#E5ECF6\", \"width\": 0.5}}, \"type\": \"barpolar\"}], \"carpet\": [{\"aaxis\": {\"endlinecolor\": \"#2a3f5f\", \"gridcolor\": \"white\", \"linecolor\": \"white\", \"minorgridcolor\": \"white\", \"startlinecolor\": \"#2a3f5f\"}, \"baxis\": {\"endlinecolor\": \"#2a3f5f\", \"gridcolor\": \"white\", \"linecolor\": \"white\", \"minorgridcolor\": \"white\", \"startlinecolor\": \"#2a3f5f\"}, \"type\": \"carpet\"}], \"choropleth\": [{\"colorbar\": {\"outlinewidth\": 0, \"ticks\": \"\"}, \"type\": \"choropleth\"}], \"contour\": [{\"colorbar\": {\"outlinewidth\": 0, \"ticks\": \"\"}, \"colorscale\": [[0.0, \"#0d0887\"], [0.1111111111111111, \"#46039f\"], [0.2222222222222222, \"#7201a8\"], [0.3333333333333333, \"#9c179e\"], [0.4444444444444444, \"#bd3786\"], [0.5555555555555556, \"#d8576b\"], [0.6666666666666666, \"#ed7953\"], [0.7777777777777778, \"#fb9f3a\"], [0.8888888888888888, \"#fdca26\"], [1.0, \"#f0f921\"]], \"type\": \"contour\"}], \"contourcarpet\": [{\"colorbar\": {\"outlinewidth\": 0, \"ticks\": \"\"}, \"type\": \"contourcarpet\"}], \"heatmap\": [{\"colorbar\": {\"outlinewidth\": 0, \"ticks\": \"\"}, \"colorscale\": [[0.0, \"#0d0887\"], [0.1111111111111111, \"#46039f\"], [0.2222222222222222, \"#7201a8\"], [0.3333333333333333, \"#9c179e\"], [0.4444444444444444, \"#bd3786\"], [0.5555555555555556, \"#d8576b\"], [0.6666666666666666, \"#ed7953\"], [0.7777777777777778, \"#fb9f3a\"], [0.8888888888888888, \"#fdca26\"], [1.0, \"#f0f921\"]], \"type\": \"heatmap\"}], \"heatmapgl\": [{\"colorbar\": {\"outlinewidth\": 0, \"ticks\": \"\"}, \"colorscale\": [[0.0, \"#0d0887\"], [0.1111111111111111, \"#46039f\"], [0.2222222222222222, \"#7201a8\"], [0.3333333333333333, \"#9c179e\"], [0.4444444444444444, \"#bd3786\"], [0.5555555555555556, \"#d8576b\"], [0.6666666666666666, \"#ed7953\"], [0.7777777777777778, \"#fb9f3a\"], [0.8888888888888888, \"#fdca26\"], [1.0, \"#f0f921\"]], \"type\": \"heatmapgl\"}], \"histogram\": [{\"marker\": {\"colorbar\": {\"outlinewidth\": 0, \"ticks\": \"\"}}, \"type\": \"histogram\"}], \"histogram2d\": [{\"colorbar\": {\"outlinewidth\": 0, \"ticks\": \"\"}, \"colorscale\": [[0.0, \"#0d0887\"], [0.1111111111111111, \"#46039f\"], [0.2222222222222222, \"#7201a8\"], [0.3333333333333333, \"#9c179e\"], [0.4444444444444444, \"#bd3786\"], [0.5555555555555556, \"#d8576b\"], [0.6666666666666666, \"#ed7953\"], [0.7777777777777778, \"#fb9f3a\"], [0.8888888888888888, \"#fdca26\"], [1.0, \"#f0f921\"]], \"type\": \"histogram2d\"}], \"histogram2dcontour\": [{\"colorbar\": {\"outlinewidth\": 0, \"ticks\": \"\"}, \"colorscale\": [[0.0, \"#0d0887\"], [0.1111111111111111, \"#46039f\"], [0.2222222222222222, \"#7201a8\"], [0.3333333333333333, \"#9c179e\"], [0.4444444444444444, \"#bd3786\"], [0.5555555555555556, \"#d8576b\"], [0.6666666666666666, \"#ed7953\"], [0.7777777777777778, \"#fb9f3a\"], [0.8888888888888888, \"#fdca26\"], [1.0, \"#f0f921\"]], \"type\": \"histogram2dcontour\"}], \"mesh3d\": [{\"colorbar\": {\"outlinewidth\": 0, \"ticks\": \"\"}, \"type\": \"mesh3d\"}], \"parcoords\": [{\"line\": {\"colorbar\": {\"outlinewidth\": 0, \"ticks\": \"\"}}, \"type\": \"parcoords\"}], \"pie\": [{\"automargin\": true, \"type\": \"pie\"}], \"scatter\": [{\"marker\": {\"colorbar\": {\"outlinewidth\": 0, \"ticks\": \"\"}}, \"type\": \"scatter\"}], \"scatter3d\": [{\"line\": {\"colorbar\": {\"outlinewidth\": 0, \"ticks\": \"\"}}, \"marker\": {\"colorbar\": {\"outlinewidth\": 0, \"ticks\": \"\"}}, \"type\": \"scatter3d\"}], \"scattercarpet\": [{\"marker\": {\"colorbar\": {\"outlinewidth\": 0, \"ticks\": \"\"}}, \"type\": \"scattercarpet\"}], \"scattergeo\": [{\"marker\": {\"colorbar\": {\"outlinewidth\": 0, \"ticks\": \"\"}}, \"type\": \"scattergeo\"}], \"scattergl\": [{\"marker\": {\"colorbar\": {\"outlinewidth\": 0, \"ticks\": \"\"}}, \"type\": \"scattergl\"}], \"scattermapbox\": [{\"marker\": {\"colorbar\": {\"outlinewidth\": 0, \"ticks\": \"\"}}, \"type\": \"scattermapbox\"}], \"scatterpolar\": [{\"marker\": {\"colorbar\": {\"outlinewidth\": 0, \"ticks\": \"\"}}, \"type\": \"scatterpolar\"}], \"scatterpolargl\": [{\"marker\": {\"colorbar\": {\"outlinewidth\": 0, \"ticks\": \"\"}}, \"type\": \"scatterpolargl\"}], \"scatterternary\": [{\"marker\": {\"colorbar\": {\"outlinewidth\": 0, \"ticks\": \"\"}}, \"type\": \"scatterternary\"}], \"surface\": [{\"colorbar\": {\"outlinewidth\": 0, \"ticks\": \"\"}, \"colorscale\": [[0.0, \"#0d0887\"], [0.1111111111111111, \"#46039f\"], [0.2222222222222222, \"#7201a8\"], [0.3333333333333333, \"#9c179e\"], [0.4444444444444444, \"#bd3786\"], [0.5555555555555556, \"#d8576b\"], [0.6666666666666666, \"#ed7953\"], [0.7777777777777778, \"#fb9f3a\"], [0.8888888888888888, \"#fdca26\"], [1.0, \"#f0f921\"]], \"type\": \"surface\"}], \"table\": [{\"cells\": {\"fill\": {\"color\": \"#EBF0F8\"}, \"line\": {\"color\": \"white\"}}, \"header\": {\"fill\": {\"color\": \"#C8D4E3\"}, \"line\": {\"color\": \"white\"}}, \"type\": \"table\"}]}, \"layout\": {\"annotationdefaults\": {\"arrowcolor\": \"#2a3f5f\", \"arrowhead\": 0, \"arrowwidth\": 1}, \"autotypenumbers\": \"strict\", \"coloraxis\": {\"colorbar\": {\"outlinewidth\": 0, \"ticks\": \"\"}}, \"colorscale\": {\"diverging\": [[0, \"#8e0152\"], [0.1, \"#c51b7d\"], [0.2, \"#de77ae\"], [0.3, \"#f1b6da\"], [0.4, \"#fde0ef\"], [0.5, \"#f7f7f7\"], [0.6, \"#e6f5d0\"], [0.7, \"#b8e186\"], [0.8, \"#7fbc41\"], [0.9, \"#4d9221\"], [1, \"#276419\"]], \"sequential\": [[0.0, \"#0d0887\"], [0.1111111111111111, \"#46039f\"], [0.2222222222222222, \"#7201a8\"], [0.3333333333333333, \"#9c179e\"], [0.4444444444444444, \"#bd3786\"], [0.5555555555555556, \"#d8576b\"], [0.6666666666666666, \"#ed7953\"], [0.7777777777777778, \"#fb9f3a\"], [0.8888888888888888, \"#fdca26\"], [1.0, \"#f0f921\"]], \"sequentialminus\": [[0.0, \"#0d0887\"], [0.1111111111111111, \"#46039f\"], [0.2222222222222222, \"#7201a8\"], [0.3333333333333333, \"#9c179e\"], [0.4444444444444444, \"#bd3786\"], [0.5555555555555556, \"#d8576b\"], [0.6666666666666666, \"#ed7953\"], [0.7777777777777778, \"#fb9f3a\"], [0.8888888888888888, \"#fdca26\"], [1.0, \"#f0f921\"]]}, \"colorway\": [\"#636efa\", \"#EF553B\", \"#00cc96\", \"#ab63fa\", \"#FFA15A\", \"#19d3f3\", \"#FF6692\", \"#B6E880\", \"#FF97FF\", \"#FECB52\"], \"font\": {\"color\": \"#2a3f5f\"}, \"geo\": {\"bgcolor\": \"white\", \"lakecolor\": \"white\", \"landcolor\": \"#E5ECF6\", \"showlakes\": true, \"showland\": true, \"subunitcolor\": \"white\"}, \"hoverlabel\": {\"align\": \"left\"}, \"hovermode\": \"closest\", \"mapbox\": {\"style\": \"light\"}, \"paper_bgcolor\": \"white\", \"plot_bgcolor\": \"#E5ECF6\", \"polar\": {\"angularaxis\": {\"gridcolor\": \"white\", \"linecolor\": \"white\", \"ticks\": \"\"}, \"bgcolor\": \"#E5ECF6\", \"radialaxis\": {\"gridcolor\": \"white\", \"linecolor\": \"white\", \"ticks\": \"\"}}, \"scene\": {\"xaxis\": {\"backgroundcolor\": \"#E5ECF6\", \"gridcolor\": \"white\", \"gridwidth\": 2, \"linecolor\": \"white\", \"showbackground\": true, \"ticks\": \"\", \"zerolinecolor\": \"white\"}, \"yaxis\": {\"backgroundcolor\": \"#E5ECF6\", \"gridcolor\": \"white\", \"gridwidth\": 2, \"linecolor\": \"white\", \"showbackground\": true, \"ticks\": \"\", \"zerolinecolor\": \"white\"}, \"zaxis\": {\"backgroundcolor\": \"#E5ECF6\", \"gridcolor\": \"white\", \"gridwidth\": 2, \"linecolor\": \"white\", \"showbackground\": true, \"ticks\": \"\", \"zerolinecolor\": \"white\"}}, \"shapedefaults\": {\"line\": {\"color\": \"#2a3f5f\"}}, \"ternary\": {\"aaxis\": {\"gridcolor\": \"white\", \"linecolor\": \"white\", \"ticks\": \"\"}, \"baxis\": {\"gridcolor\": \"white\", \"linecolor\": \"white\", \"ticks\": \"\"}, \"bgcolor\": \"#E5ECF6\", \"caxis\": {\"gridcolor\": \"white\", \"linecolor\": \"white\", \"ticks\": \"\"}}, \"title\": {\"x\": 0.05}, \"xaxis\": {\"automargin\": true, \"gridcolor\": \"white\", \"linecolor\": \"white\", \"ticks\": \"\", \"title\": {\"standoff\": 15}, \"zerolinecolor\": \"white\", \"zerolinewidth\": 2}, \"yaxis\": {\"automargin\": true, \"gridcolor\": \"white\", \"linecolor\": \"white\", \"ticks\": \"\", \"title\": {\"standoff\": 15}, \"zerolinecolor\": \"white\", \"zerolinewidth\": 2}}}, \"title\": {\"text\": \"Tasa de Mortalidad Materna por or\\u00edgen \\u00e9tnico\"}, \"xaxis\": {\"anchor\": \"y\", \"domain\": [0.0, 1.0], \"title\": {\"text\": \"timeline\"}}, \"yaxis\": {\"anchor\": \"x\", \"domain\": [0.0, 1.0], \"title\": {\"text\": \"value\"}}},                        {\"responsive\": true}                    ).then(function(){\n",
       "                            \n",
       "var gd = document.getElementById('587e8f95-473d-4323-a653-01c9125610d1');\n",
       "var x = new MutationObserver(function (mutations, observer) {{\n",
       "        var display = window.getComputedStyle(gd).display;\n",
       "        if (!display || display === 'none') {{\n",
       "            console.log([gd, 'removed!']);\n",
       "            Plotly.purge(gd);\n",
       "            observer.disconnect();\n",
       "        }}\n",
       "}});\n",
       "\n",
       "// Listen for the removal of the full notebook cells\n",
       "var notebookContainer = gd.closest('#notebook-container');\n",
       "if (notebookContainer) {{\n",
       "    x.observe(notebookContainer, {childList: true});\n",
       "}}\n",
       "\n",
       "// Listen for the clearing of the current output cell\n",
       "var outputEl = gd.closest('.output');\n",
       "if (outputEl) {{\n",
       "    x.observe(outputEl, {childList: true});\n",
       "}}\n",
       "\n",
       "                        })                };                });            </script>        </div>"
      ]
     },
     "metadata": {},
     "output_type": "display_data"
    }
   ],
   "source": [
    "rates, logrank = survival(data_indigena, 'SECONSIDERAINDIGENA', 'EDAD', 'SOBREVIVIOPARTO')\n",
    "print(logrank)\n",
    "rates.plot(kind='line',\n",
    "           title='Tasa de Mortalidad Materna por orígen étnico')"
   ]
  },
  {
   "cell_type": "code",
   "execution_count": 8,
   "metadata": {},
   "outputs": [
    {
     "data": {
      "text/plain": [
       "array([ 2,  6,  1,  3,  5,  4, 10,  7,  9,  8, 11, 99, 12, 13, 16, 15, 20,\n",
       "       14, 19, 25, 21], dtype=int64)"
      ]
     },
     "execution_count": 8,
     "metadata": {},
     "output_type": "execute_result"
    }
   ],
   "source": [
    "data['NUMEROEMBARAZOS'].unique()"
   ]
  },
  {
   "cell_type": "code",
   "execution_count": 9,
   "metadata": {},
   "outputs": [],
   "source": [
    "data_num_emb = data[(data['NUMEROEMBARAZOS'] != 99) & ((data['SOBREVIVIOPARTO'] == 1) | (data['SOBREVIVIOPARTO'] == 2)) & (data['EDAD'] != 999)]"
   ]
  },
  {
   "cell_type": "code",
   "execution_count": 10,
   "metadata": {},
   "outputs": [
    {
     "name": "stdout",
     "output_type": "stream",
     "text": [
      "<lifelines.StatisticalResult: logrank_test>\n",
      "               t_0 = -1\n",
      " null_distribution = chi squared\n",
      "degrees_of_freedom = 1\n",
      "         test_name = logrank_test\n",
      "\n",
      "---\n",
      " test_statistic      p  -log2(p)\n",
      "       20816.92 <0.005       inf\n"
     ]
    },
    {
     "data": {
      "application/vnd.plotly.v1+json": {
       "config": {
        "plotlyServerURL": "https://plot.ly"
       },
       "data": [
        {
         "hovertemplate": "variable=2<br>timeline=%{x}<br>value=%{y}<extra></extra>",
         "legendgroup": "2",
         "line": {
          "color": "#636efa",
          "dash": "solid"
         },
         "mode": "lines",
         "name": "2",
         "showlegend": true,
         "type": "scattergl",
         "x": [
          0,
          9,
          10,
          11,
          12,
          13,
          14,
          15,
          16,
          17,
          18,
          19,
          20,
          21,
          22,
          23,
          24,
          25,
          26,
          27,
          28,
          29,
          30,
          31,
          32,
          33,
          34,
          35,
          36,
          37,
          38,
          39,
          40,
          41,
          42,
          43,
          44,
          45,
          46,
          47,
          48,
          49,
          50,
          51,
          52,
          53,
          54,
          55,
          56,
          57,
          58,
          59
         ],
         "xaxis": "x",
         "y": [
          1,
          0.9999963172131612,
          0.9999705377052923,
          0.9999447581974235,
          0.9999189786895535,
          0.999836115985688,
          0.9994917754162937,
          0.9977240377338347,
          0.9911889324889934,
          0.9749791462195265,
          0.9445096093115577,
          0.8970642664717249,
          0.8348730451307111,
          0.7660951595291187,
          0.6941869051148379,
          0.6236136609294991,
          0.5517661724980523,
          0.4818760852712461,
          0.41614018159821886,
          0.35564120080947625,
          0.2999169531567927,
          0.24986235584191255,
          0.20559341665024772,
          0.16765518803388915,
          0.13402582001852437,
          0.10553578103622566,
          0.08116862191957898,
          0.06062971972150768,
          0.043935646982784814,
          0.030567130759188117,
          0.020513122690202123,
          0.013061003522585617,
          0.007951136784227354,
          0.004612690515166636,
          0.0026700204578808877,
          0.001524673751120948,
          0.000841516792587287,
          0.0004971762231916136,
          0.00033881638913798857,
          0.00022833278398429644,
          0.00016940819456899426,
          0.00013073893276520197,
          0.0000883868841229535,
          0.00006629016309221507,
          0.00005340040915761768,
          0.00003682786838456394,
          0.000027620901288422987,
          0.000018413934192282005,
          0.000016572540773053795,
          0.000009206967096141,
          0.0000036827868384564034,
          0
         ],
         "yaxis": "y"
        },
        {
         "hovertemplate": "variable=6<br>timeline=%{x}<br>value=%{y}<extra></extra>",
         "legendgroup": "6",
         "line": {
          "color": "#EF553B",
          "dash": "solid"
         },
         "mode": "lines",
         "name": "6",
         "showlegend": true,
         "type": "scattergl",
         "x": [
          0,
          9,
          10,
          11,
          12,
          13,
          14,
          15,
          16,
          17,
          18,
          19,
          20,
          21,
          22,
          23,
          24,
          25,
          26,
          27,
          28,
          29,
          30,
          31,
          32,
          33,
          34,
          35,
          36,
          37,
          38,
          39,
          40,
          41,
          42,
          43,
          44,
          45,
          46,
          47,
          48,
          49,
          50,
          51,
          52,
          53,
          54,
          55,
          56,
          57,
          58,
          59
         ],
         "xaxis": "x",
         "y": [
          1,
          null,
          null,
          null,
          null,
          null,
          null,
          null,
          null,
          0.99985192497532,
          0.9996544916090822,
          0.9993089832181643,
          0.9980750246791713,
          0.9956071076011852,
          0.9918065153010853,
          0.9828726554787763,
          0.9696939782823303,
          0.9507897334649555,
          0.9210760118460025,
          0.8823790720631784,
          0.8337611056268504,
          0.7793188548864758,
          0.7159921026653506,
          0.6492102665350447,
          0.5813919052319841,
          0.5098716683119447,
          0.4380059230009873,
          0.36475814412635754,
          0.2966436327739385,
          0.23548864758144142,
          0.1733464955577493,
          0.12324777887462983,
          0.08361303060217172,
          0.0536031589338598,
          0.03153998025666336,
          0.017077986179664367,
          0.009723593287265546,
          0.004491609081934845,
          0.002319842053307008,
          0.001085883514313919,
          0.0004442250740375125,
          0.00034550839091806513,
          0.00019743336623889436,
          0.00004935834155972358,
          null,
          0,
          null,
          null,
          null,
          null,
          null,
          null
         ],
         "yaxis": "y"
        },
        {
         "hovertemplate": "variable=1<br>timeline=%{x}<br>value=%{y}<extra></extra>",
         "legendgroup": "1",
         "line": {
          "color": "#00cc96",
          "dash": "solid"
         },
         "mode": "lines",
         "name": "1",
         "showlegend": true,
         "type": "scattergl",
         "x": [
          0,
          9,
          10,
          11,
          12,
          13,
          14,
          15,
          16,
          17,
          18,
          19,
          20,
          21,
          22,
          23,
          24,
          25,
          26,
          27,
          28,
          29,
          30,
          31,
          32,
          33,
          34,
          35,
          36,
          37,
          38,
          39,
          40,
          41,
          42,
          43,
          44,
          45,
          46,
          47,
          48,
          49,
          50,
          51,
          52,
          53,
          54,
          55,
          56,
          57,
          58,
          59
         ],
         "xaxis": "x",
         "y": [
          1,
          0.9999885697676875,
          0.9999314186061313,
          0.9998122176120279,
          0.9994742093136803,
          0.9971799983997671,
          0.9862967843490716,
          0.9558237850071271,
          0.8957579142112081,
          0.8136774159837107,
          0.7210500791135364,
          0.6198059799709673,
          0.5268863557316901,
          0.45232531747470256,
          0.3910886643120384,
          0.3393472684194111,
          0.2928245900220601,
          0.25087073876857197,
          0.21331589406460694,
          0.17993634993492919,
          0.15052962797859604,
          0.12411109532650447,
          0.10071994134657938,
          0.08122976236547025,
          0.06478818963081984,
          0.051486665001118544,
          0.040205025709858254,
          0.03052851761317155,
          0.022448976259407463,
          0.016160715597858293,
          0.011360018027109241,
          0.007821544681594553,
          0.005164832114380697,
          0.0033555896285337766,
          0.002181541481129501,
          0.0013716278773568725,
          0.0008458371910367378,
          0.0005551827122634962,
          0.00038536211792407387,
          0.00025309800117894675,
          0.0001828837169809161,
          0.00012899833608475338,
          0.00009634052948101837,
          0.00007021428419803035,
          0.000042455148584855566,
          0.00002775913561317478,
          0.000024493354952801263,
          0.000017961793632054253,
          0.000009797341981120496,
          0.000004898670990560247,
          0.0000032657806603735003,
          0
         ],
         "yaxis": "y"
        },
        {
         "hovertemplate": "variable=3<br>timeline=%{x}<br>value=%{y}<extra></extra>",
         "legendgroup": "3",
         "line": {
          "color": "#ab63fa",
          "dash": "solid"
         },
         "mode": "lines",
         "name": "3",
         "showlegend": true,
         "type": "scattergl",
         "x": [
          0,
          9,
          10,
          11,
          12,
          13,
          14,
          15,
          16,
          17,
          18,
          19,
          20,
          21,
          22,
          23,
          24,
          25,
          26,
          27,
          28,
          29,
          30,
          31,
          32,
          33,
          34,
          35,
          36,
          37,
          38,
          39,
          40,
          41,
          42,
          43,
          44,
          45,
          46,
          47,
          48,
          49,
          50,
          51,
          52,
          53,
          54,
          55,
          56,
          57,
          58,
          59
         ],
         "xaxis": "x",
         "y": [
          1,
          null,
          0.9999971332987435,
          0.9999913998962269,
          0.9999827997924511,
          0.9999598661823857,
          0.9999283324685453,
          0.9998193978207337,
          0.9993549922169076,
          0.9973855684525273,
          0.9919101690493741,
          0.9789498126610743,
          0.9551848592306356,
          0.9203114384246911,
          0.8748283562621658,
          0.8204785671080436,
          0.7578927452391271,
          0.6887163771776185,
          0.6162175023578622,
          0.5437816949657868,
          0.47231196589772256,
          0.4056439614371348,
          0.3421207282567877,
          0.28568971398921583,
          0.2337594206970098,
          0.18693185564439144,
          0.1467636376145607,
          0.11163794709789504,
          0.08247212849701732,
          0.0586555744439317,
          0.03991308161785154,
          0.025960846594215607,
          0.01586719146411035,
          0.009460114152044109,
          0.005174395771042306,
          0.002749166506609183,
          0.0013989502139992505,
          0.0007539424309053336,
          0.0005074061227005475,
          0.00034113744972522704,
          0.00021786929562283403,
          0.00014906846542614956,
          0.000108934647811417,
          0.00008600103774585559,
          0.000051600622647513356,
          0.000034400415098342265,
          0.00001720020754917113,
          0.000014333506290975937,
          0.000008600103774585564,
          null,
          0,
          null
         ],
         "yaxis": "y"
        },
        {
         "hovertemplate": "variable=5<br>timeline=%{x}<br>value=%{y}<extra></extra>",
         "legendgroup": "5",
         "line": {
          "color": "#FFA15A",
          "dash": "solid"
         },
         "mode": "lines",
         "name": "5",
         "showlegend": true,
         "type": "scattergl",
         "x": [
          0,
          9,
          10,
          11,
          12,
          13,
          14,
          15,
          16,
          17,
          18,
          19,
          20,
          21,
          22,
          23,
          24,
          25,
          26,
          27,
          28,
          29,
          30,
          31,
          32,
          33,
          34,
          35,
          36,
          37,
          38,
          39,
          40,
          41,
          42,
          43,
          44,
          45,
          46,
          47,
          48,
          49,
          50,
          51,
          52,
          53,
          54,
          55,
          56,
          57,
          58,
          59
         ],
         "xaxis": "x",
         "y": [
          1,
          null,
          0.9999823449444759,
          null,
          0.9999646898889505,
          0.9999470348334258,
          null,
          0.9998940696668496,
          0.9998234494447501,
          0.9996292438339728,
          0.9994526932787214,
          0.9985699405024645,
          0.9957451316184405,
          0.9903426846277436,
          0.9803322681449839,
          0.9635246552850424,
          0.9379954449956753,
          0.9006196924489335,
          0.8547165480835442,
          0.800727388287637,
          0.7387051782277865,
          0.6726576155082011,
          0.6038028989601172,
          0.5358485902438171,
          0.46655249730760406,
          0.39716812909376614,
          0.33074981020815325,
          0.2681449833159727,
          0.2102540562490072,
          0.15877191433767057,
          0.11272752952808048,
          0.07729383308910513,
          0.04987553185854771,
          0.03020780000353103,
          0.017284299359121496,
          0.009533729983580808,
          0.004607969492064057,
          0.002065641496442508,
          0.0010063381649335296,
          0.0006532370544305363,
          0.0004413763881287407,
          0.0003531011105029926,
          0.00030013594392754364,
          0.0001412404442011969,
          0.00008827527762574813,
          0.00007062022210059857,
          null,
          null,
          0.00001765505552514964,
          null,
          0,
          null
         ],
         "yaxis": "y"
        },
        {
         "hovertemplate": "variable=4<br>timeline=%{x}<br>value=%{y}<extra></extra>",
         "legendgroup": "4",
         "line": {
          "color": "#19d3f3",
          "dash": "solid"
         },
         "mode": "lines",
         "name": "4",
         "showlegend": true,
         "type": "scattergl",
         "x": [
          0,
          9,
          10,
          11,
          12,
          13,
          14,
          15,
          16,
          17,
          18,
          19,
          20,
          21,
          22,
          23,
          24,
          25,
          26,
          27,
          28,
          29,
          30,
          31,
          32,
          33,
          34,
          35,
          36,
          37,
          38,
          39,
          40,
          41,
          42,
          43,
          44,
          45,
          46,
          47,
          48,
          49,
          50,
          51,
          52,
          53,
          54,
          55,
          56,
          57,
          58,
          59
         ],
         "xaxis": "x",
         "y": [
          1,
          0.9999933417670953,
          null,
          null,
          null,
          0.999980025301285,
          0.9999533923696653,
          0.9998868100406164,
          0.999727012450896,
          0.9994074172714574,
          0.9984086823357096,
          0.9953991610626552,
          0.9878021173180637,
          0.9727944603502235,
          0.9497037086357291,
          0.9166455822624684,
          0.8740129169718369,
          0.8211465477062397,
          0.7595112857047742,
          0.6908649044543583,
          0.6196883947000466,
          0.54871829016579,
          0.4768360077235502,
          0.4100539316865304,
          0.34574206005726077,
          0.2859777615020973,
          0.23096744124109475,
          0.1820360876223453,
          0.13893068779545928,
          0.10163126706172187,
          0.07100339569878164,
          0.047226845995072965,
          0.029449364138757615,
          0.01750449430721087,
          0.0099007923297157,
          0.005200079898794865,
          0.0026166855316598994,
          0.0013050136493774555,
          0.0006724815234036893,
          0.00040615220720420834,
          0.00025967108329449354,
          0.00014648112390971423,
          0.00010653172647979219,
          0.00009321526066981815,
          0.00006658232904987016,
          0.00005326586323989609,
          0.000046607630334909075,
          0.000039949397429922034,
          0.00001331646580997402,
          null,
          0.000006658232904987009,
          0
         ],
         "yaxis": "y"
        },
        {
         "hovertemplate": "variable=10<br>timeline=%{x}<br>value=%{y}<extra></extra>",
         "legendgroup": "10",
         "line": {
          "color": "#FF6692",
          "dash": "solid"
         },
         "mode": "lines",
         "name": "10",
         "showlegend": true,
         "type": "scattergl",
         "x": [
          0,
          9,
          10,
          11,
          12,
          13,
          14,
          15,
          16,
          17,
          18,
          19,
          20,
          21,
          22,
          23,
          24,
          25,
          26,
          27,
          28,
          29,
          30,
          31,
          32,
          33,
          34,
          35,
          36,
          37,
          38,
          39,
          40,
          41,
          42,
          43,
          44,
          45,
          46,
          47,
          48,
          49,
          50,
          51,
          52,
          53,
          54,
          55,
          56,
          57,
          58,
          59
         ],
         "xaxis": "x",
         "y": [
          1,
          null,
          null,
          null,
          null,
          null,
          null,
          null,
          null,
          null,
          null,
          0.998561151079137,
          0.9971223021582736,
          0.9956834532374098,
          null,
          0.9942446043165473,
          null,
          0.9913669064748204,
          0.9899280575539569,
          0.9827338129496405,
          0.9769784172661873,
          0.9741007194244605,
          0.9625899280575545,
          0.9424460431654675,
          0.9079136690647479,
          0.8705035971223026,
          0.81726618705036,
          0.7453237410071941,
          0.6791366906474818,
          0.6100719424460432,
          0.5079136690647481,
          0.39712230215827327,
          0.30647482014388505,
          0.2244604316546763,
          0.14244604316546763,
          0.0935251798561151,
          0.05179856115107914,
          0.024460431654676266,
          0.014388489208633098,
          0.007194244604316549,
          null,
          null,
          0.005755395683453239,
          0.00431654676258993,
          0.002877697841726619,
          0.0014388489208633096,
          null,
          null,
          0,
          null,
          null,
          null
         ],
         "yaxis": "y"
        },
        {
         "hovertemplate": "variable=7<br>timeline=%{x}<br>value=%{y}<extra></extra>",
         "legendgroup": "7",
         "line": {
          "color": "#B6E880",
          "dash": "solid"
         },
         "mode": "lines",
         "name": "7",
         "showlegend": true,
         "type": "scattergl",
         "x": [
          0,
          9,
          10,
          11,
          12,
          13,
          14,
          15,
          16,
          17,
          18,
          19,
          20,
          21,
          22,
          23,
          24,
          25,
          26,
          27,
          28,
          29,
          30,
          31,
          32,
          33,
          34,
          35,
          36,
          37,
          38,
          39,
          40,
          41,
          42,
          43,
          44,
          45,
          46,
          47,
          48,
          49,
          50,
          51,
          52,
          53,
          54,
          55,
          56,
          57,
          58,
          59
         ],
         "xaxis": "x",
         "y": [
          1,
          0.9998685248488052,
          null,
          null,
          null,
          null,
          null,
          0.9997370496976087,
          0.999605574546411,
          0.9992111490928227,
          0.9988167236392327,
          0.9980278727320546,
          0.9972390218248757,
          0.9960557454641075,
          0.9938206678937698,
          0.9897449382066797,
          0.9844859321588235,
          0.9758085721798581,
          0.9602945043386816,
          0.9330791480410209,
          0.8974493820667896,
          0.8565606100447017,
          0.8026557980541685,
          0.7509860636339731,
          0.6912963449907977,
          0.6181961609255859,
          0.5395740205101242,
          0.46095188009466254,
          0.38601104391270075,
          0.3064685774388644,
          0.23363134367604535,
          0.17275834867210108,
          0.12424401788062071,
          0.08098869313699715,
          0.049171706547462585,
          0.02760978175124903,
          0.014856692085195914,
          0.00762555876939259,
          0.003944254535892722,
          0.00223507757033921,
          0.0014462266631606654,
          0.0010518012095713921,
          0.0009203260583749681,
          0.0006573757559821201,
          0.0005259006047856961,
          0.000131475151196424,
          null,
          0,
          null,
          null,
          null,
          null
         ],
         "yaxis": "y"
        },
        {
         "hovertemplate": "variable=9<br>timeline=%{x}<br>value=%{y}<extra></extra>",
         "legendgroup": "9",
         "line": {
          "color": "#FF97FF",
          "dash": "solid"
         },
         "mode": "lines",
         "name": "9",
         "showlegend": true,
         "type": "scattergl",
         "x": [
          0,
          9,
          10,
          11,
          12,
          13,
          14,
          15,
          16,
          17,
          18,
          19,
          20,
          21,
          22,
          23,
          24,
          25,
          26,
          27,
          28,
          29,
          30,
          31,
          32,
          33,
          34,
          35,
          36,
          37,
          38,
          39,
          40,
          41,
          42,
          43,
          44,
          45,
          46,
          47,
          48,
          49,
          50,
          51,
          52,
          53,
          54,
          55,
          56,
          57,
          58,
          59
         ],
         "xaxis": "x",
         "y": [
          1,
          null,
          null,
          null,
          null,
          null,
          null,
          null,
          0.9993084370677733,
          0.9986168741355459,
          0.9965421853388654,
          0.9958506224066391,
          null,
          0.9930843706777314,
          0.9903181189488244,
          0.9875518672199166,
          0.9840940525587826,
          0.9806362378976485,
          0.9709543568464727,
          0.9640387275242048,
          0.9536652835408022,
          0.9301521438450898,
          0.907330567081604,
          0.8713692946058091,
          0.825034578146611,
          0.7780082987551866,
          0.7171507607192255,
          0.647994467496542,
          0.5677731673582292,
          0.47856154910096793,
          0.38174273858921143,
          0.2911479944674964,
          0.21023513139695713,
          0.14453665283540798,
          0.08575380359612725,
          0.047026279391424626,
          0.02351313969571231,
          0.008990318118948827,
          0.006915629322268327,
          0.004149377593360997,
          0.0027662517289073307,
          0.0013831258644536651,
          null,
          0.0006915629322268325,
          0,
          null,
          null,
          null,
          null,
          null,
          null,
          null
         ],
         "yaxis": "y"
        },
        {
         "hovertemplate": "variable=8<br>timeline=%{x}<br>value=%{y}<extra></extra>",
         "legendgroup": "8",
         "line": {
          "color": "#FECB52",
          "dash": "solid"
         },
         "mode": "lines",
         "name": "8",
         "showlegend": true,
         "type": "scattergl",
         "x": [
          0,
          9,
          10,
          11,
          12,
          13,
          14,
          15,
          16,
          17,
          18,
          19,
          20,
          21,
          22,
          23,
          24,
          25,
          26,
          27,
          28,
          29,
          30,
          31,
          32,
          33,
          34,
          35,
          36,
          37,
          38,
          39,
          40,
          41,
          42,
          43,
          44,
          45,
          46,
          47,
          48,
          49,
          50,
          51,
          52,
          53,
          54,
          55,
          56,
          57,
          58,
          59
         ],
         "xaxis": "x",
         "y": [
          1,
          null,
          null,
          null,
          null,
          null,
          null,
          0.9996945632254124,
          null,
          null,
          null,
          null,
          0.9987782529016505,
          0.9978619425778875,
          0.9948075748320107,
          0.9923640806353096,
          0.9890042761148454,
          0.9825901038485042,
          0.9715943799633477,
          0.9593769089798424,
          0.9401343921808187,
          0.9156994502138057,
          0.8778252901649367,
          0.8317043372021996,
          0.7825290164935863,
          0.7217470983506419,
          0.6551618814905321,
          0.5824679291386685,
          0.5018326206475262,
          0.407758094074527,
          0.31857055589493005,
          0.2403787416004889,
          0.16890653634697633,
          0.1148442272449604,
          0.07269395235186325,
          0.04215027489309718,
          0.021991447770311565,
          0.010079413561392796,
          0.004886988393402567,
          0.003054367745876604,
          0.0021380574221136228,
          0.0015271838729383018,
          0.0012217470983506415,
          0.0006108735491753207,
          null,
          null,
          0.0003054367745876606,
          null,
          null,
          null,
          0,
          null
         ],
         "yaxis": "y"
        },
        {
         "hovertemplate": "variable=11<br>timeline=%{x}<br>value=%{y}<extra></extra>",
         "legendgroup": "11",
         "line": {
          "color": "#636efa",
          "dash": "solid"
         },
         "mode": "lines",
         "name": "11",
         "showlegend": true,
         "type": "scattergl",
         "x": [
          0,
          9,
          10,
          11,
          12,
          13,
          14,
          15,
          16,
          17,
          18,
          19,
          20,
          21,
          22,
          23,
          24,
          25,
          26,
          27,
          28,
          29,
          30,
          31,
          32,
          33,
          34,
          35,
          36,
          37,
          38,
          39,
          40,
          41,
          42,
          43,
          44,
          45,
          46,
          47,
          48,
          49,
          50,
          51,
          52,
          53,
          54,
          55,
          56,
          57,
          58,
          59
         ],
         "xaxis": "x",
         "y": [
          1,
          null,
          null,
          null,
          null,
          null,
          null,
          null,
          null,
          0.9968253968253965,
          null,
          null,
          0.9936507936507933,
          0.9873015873015871,
          null,
          null,
          0.9841269841269844,
          null,
          0.9809523809523814,
          null,
          null,
          0.9746031746031742,
          0.9619047619047616,
          0.9428571428571431,
          0.9333333333333331,
          0.8984126984126984,
          0.8603174603174604,
          0.7904761904761903,
          0.7269841269841272,
          0.6349206349206347,
          0.5111111111111112,
          0.39682539682539697,
          0.326984126984127,
          0.2253968253968254,
          0.14285714285714285,
          0.08253968253968255,
          0.05396825396825397,
          0.022222222222222227,
          0.009523809523809526,
          null,
          null,
          0.00634920634920635,
          0.0031746031746031746,
          null,
          null,
          null,
          0,
          null,
          null,
          null,
          null,
          null
         ],
         "yaxis": "y"
        },
        {
         "hovertemplate": "variable=12<br>timeline=%{x}<br>value=%{y}<extra></extra>",
         "legendgroup": "12",
         "line": {
          "color": "#EF553B",
          "dash": "solid"
         },
         "mode": "lines",
         "name": "12",
         "showlegend": true,
         "type": "scattergl",
         "x": [
          0,
          9,
          10,
          11,
          12,
          13,
          14,
          15,
          16,
          17,
          18,
          19,
          20,
          21,
          22,
          23,
          24,
          25,
          26,
          27,
          28,
          29,
          30,
          31,
          32,
          33,
          34,
          35,
          36,
          37,
          38,
          39,
          40,
          41,
          42,
          43,
          44,
          45,
          46,
          47,
          48,
          49,
          50,
          51,
          52,
          53,
          54,
          55,
          56,
          57,
          58,
          59
         ],
         "xaxis": "x",
         "y": [
          1,
          null,
          null,
          null,
          null,
          null,
          null,
          null,
          null,
          null,
          null,
          null,
          null,
          null,
          null,
          0.9930069930069935,
          null,
          0.9860139860139865,
          0.979020979020979,
          null,
          null,
          0.9720279720279721,
          0.9650349650349657,
          null,
          0.9580419580419585,
          0.9440559440559445,
          0.9230769230769231,
          0.8671328671328676,
          0.7972027972027976,
          0.7412587412587414,
          0.6573426573426575,
          0.5944055944055947,
          0.5244755244755245,
          0.4195804195804196,
          0.3006993006993008,
          0.19580419580419584,
          0.10489510489510492,
          0.06293706293706297,
          0.04895104895104897,
          0.027972027972027986,
          0.013986013986013991,
          null,
          null,
          null,
          null,
          null,
          0.006993006993006996,
          0,
          null,
          null,
          null,
          null
         ],
         "yaxis": "y"
        },
        {
         "hovertemplate": "variable=13<br>timeline=%{x}<br>value=%{y}<extra></extra>",
         "legendgroup": "13",
         "line": {
          "color": "#00cc96",
          "dash": "solid"
         },
         "mode": "lines",
         "name": "13",
         "showlegend": true,
         "type": "scattergl",
         "x": [
          0,
          9,
          10,
          11,
          12,
          13,
          14,
          15,
          16,
          17,
          18,
          19,
          20,
          21,
          22,
          23,
          24,
          25,
          26,
          27,
          28,
          29,
          30,
          31,
          32,
          33,
          34,
          35,
          36,
          37,
          38,
          39,
          40,
          41,
          42,
          43,
          44,
          45,
          46,
          47,
          48,
          49,
          50,
          51,
          52,
          53,
          54,
          55,
          56,
          57,
          58,
          59
         ],
         "xaxis": "x",
         "y": [
          1,
          null,
          null,
          null,
          null,
          null,
          null,
          null,
          null,
          null,
          null,
          0.9850746268656716,
          null,
          null,
          null,
          null,
          null,
          null,
          null,
          null,
          null,
          0.9701492537313433,
          null,
          null,
          null,
          null,
          null,
          0.9253731343283587,
          0.9104477611940303,
          0.8656716417910448,
          0.7611940298507465,
          0.5820895522388061,
          0.49253731343283597,
          0.3880597014925375,
          0.2537313432835822,
          0.16417910447761203,
          0.11940298507462688,
          0.059701492537313466,
          0.02985074626865673,
          0.014925373134328363,
          0,
          null,
          null,
          null,
          null,
          null,
          null,
          null,
          null,
          null,
          null,
          null
         ],
         "yaxis": "y"
        },
        {
         "hovertemplate": "variable=16<br>timeline=%{x}<br>value=%{y}<extra></extra>",
         "legendgroup": "16",
         "line": {
          "color": "#ab63fa",
          "dash": "solid"
         },
         "mode": "lines",
         "name": "16",
         "showlegend": true,
         "type": "scattergl",
         "x": [
          0,
          9,
          10,
          11,
          12,
          13,
          14,
          15,
          16,
          17,
          18,
          19,
          20,
          21,
          22,
          23,
          24,
          25,
          26,
          27,
          28,
          29,
          30,
          31,
          32,
          33,
          34,
          35,
          36,
          37,
          38,
          39,
          40,
          41,
          42,
          43,
          44,
          45,
          46,
          47,
          48,
          49,
          50,
          51,
          52,
          53,
          54,
          55,
          56,
          57,
          58,
          59
         ],
         "xaxis": "x",
         "y": [
          1,
          null,
          null,
          null,
          null,
          null,
          null,
          null,
          null,
          null,
          null,
          null,
          null,
          null,
          null,
          null,
          null,
          0.9090909090909092,
          null,
          null,
          null,
          null,
          null,
          null,
          null,
          null,
          null,
          0.8181818181818182,
          null,
          0.7272727272727271,
          0.4545454545454544,
          0.3636363636363636,
          null,
          null,
          0.2727272727272727,
          null,
          0.18181818181818182,
          0.0909090909090909,
          null,
          0,
          null,
          null,
          null,
          null,
          null,
          null,
          null,
          null,
          null,
          null,
          null,
          null
         ],
         "yaxis": "y"
        },
        {
         "hovertemplate": "variable=15<br>timeline=%{x}<br>value=%{y}<extra></extra>",
         "legendgroup": "15",
         "line": {
          "color": "#FFA15A",
          "dash": "solid"
         },
         "mode": "lines",
         "name": "15",
         "showlegend": true,
         "type": "scattergl",
         "x": [
          0,
          9,
          10,
          11,
          12,
          13,
          14,
          15,
          16,
          17,
          18,
          19,
          20,
          21,
          22,
          23,
          24,
          25,
          26,
          27,
          28,
          29,
          30,
          31,
          32,
          33,
          34,
          35,
          36,
          37,
          38,
          39,
          40,
          41,
          42,
          43,
          44,
          45,
          46,
          47,
          48,
          49,
          50,
          51,
          52,
          53,
          54,
          55,
          56,
          57,
          58,
          59
         ],
         "xaxis": "x",
         "y": [
          1,
          null,
          null,
          null,
          null,
          null,
          null,
          0.9375000000000001,
          null,
          null,
          null,
          null,
          null,
          null,
          null,
          null,
          null,
          null,
          null,
          null,
          null,
          null,
          null,
          null,
          0.8749999999999999,
          null,
          0.8125000000000001,
          0.7500000000000001,
          null,
          0.6875000000000001,
          null,
          0.49999999999999994,
          null,
          0.375,
          0.25,
          0.18750000000000003,
          null,
          0.0625,
          null,
          0,
          null,
          null,
          null,
          null,
          null,
          null,
          null,
          null,
          null,
          null,
          null,
          null
         ],
         "yaxis": "y"
        },
        {
         "hovertemplate": "variable=20<br>timeline=%{x}<br>value=%{y}<extra></extra>",
         "legendgroup": "20",
         "line": {
          "color": "#19d3f3",
          "dash": "solid"
         },
         "mode": "lines",
         "name": "20",
         "showlegend": true,
         "type": "scattergl",
         "x": [
          0,
          9,
          10,
          11,
          12,
          13,
          14,
          15,
          16,
          17,
          18,
          19,
          20,
          21,
          22,
          23,
          24,
          25,
          26,
          27,
          28,
          29,
          30,
          31,
          32,
          33,
          34,
          35,
          36,
          37,
          38,
          39,
          40,
          41,
          42,
          43,
          44,
          45,
          46,
          47,
          48,
          49,
          50,
          51,
          52,
          53,
          54,
          55,
          56,
          57,
          58,
          59
         ],
         "xaxis": "x",
         "y": [
          1,
          null,
          null,
          null,
          null,
          null,
          null,
          null,
          null,
          null,
          null,
          0.9375000000000001,
          0.8749999999999999,
          0.8125000000000001,
          0.7500000000000001,
          0.6875000000000001,
          0.6250000000000002,
          0.5625000000000001,
          0.49999999999999994,
          0.4375,
          0.375,
          null,
          null,
          0.3125,
          null,
          null,
          0.25,
          0.12500000000000003,
          null,
          0.0625,
          null,
          0,
          null,
          null,
          null,
          null,
          null,
          null,
          null,
          null,
          null,
          null,
          null,
          null,
          null,
          null,
          null,
          null,
          null,
          null,
          null,
          null
         ],
         "yaxis": "y"
        },
        {
         "hovertemplate": "variable=14<br>timeline=%{x}<br>value=%{y}<extra></extra>",
         "legendgroup": "14",
         "line": {
          "color": "#FF6692",
          "dash": "solid"
         },
         "mode": "lines",
         "name": "14",
         "showlegend": true,
         "type": "scattergl",
         "x": [
          0,
          9,
          10,
          11,
          12,
          13,
          14,
          15,
          16,
          17,
          18,
          19,
          20,
          21,
          22,
          23,
          24,
          25,
          26,
          27,
          28,
          29,
          30,
          31,
          32,
          33,
          34,
          35,
          36,
          37,
          38,
          39,
          40,
          41,
          42,
          43,
          44,
          45,
          46,
          47,
          48,
          49,
          50,
          51,
          52,
          53,
          54,
          55,
          56,
          57,
          58,
          59
         ],
         "xaxis": "x",
         "y": [
          1,
          null,
          null,
          null,
          null,
          null,
          null,
          null,
          null,
          0.9722222222222221,
          null,
          null,
          null,
          null,
          null,
          null,
          null,
          null,
          null,
          null,
          null,
          null,
          null,
          0.9444444444444446,
          null,
          null,
          null,
          null,
          0.9166666666666667,
          null,
          0.888888888888889,
          0.7777777777777778,
          0.7500000000000001,
          0.638888888888889,
          0.38888888888888884,
          0.19444444444444445,
          0.1388888888888889,
          0.08333333333333337,
          0.02777777777777778,
          null,
          null,
          null,
          0,
          null,
          null,
          null,
          null,
          null,
          null,
          null,
          null,
          null
         ],
         "yaxis": "y"
        },
        {
         "hovertemplate": "variable=19<br>timeline=%{x}<br>value=%{y}<extra></extra>",
         "legendgroup": "19",
         "line": {
          "color": "#B6E880",
          "dash": "solid"
         },
         "mode": "lines",
         "name": "19",
         "showlegend": true,
         "type": "scattergl",
         "x": [
          0,
          9,
          10,
          11,
          12,
          13,
          14,
          15,
          16,
          17,
          18,
          19,
          20,
          21,
          22,
          23,
          24,
          25,
          26,
          27,
          28,
          29,
          30,
          31,
          32,
          33,
          34,
          35,
          36,
          37,
          38,
          39,
          40,
          41,
          42,
          43,
          44,
          45,
          46,
          47,
          48,
          49,
          50,
          51,
          52,
          53,
          54,
          55,
          56,
          57,
          58,
          59
         ],
         "xaxis": "x",
         "y": [
          1,
          null,
          null,
          null,
          null,
          null,
          null,
          null,
          null,
          null,
          null,
          null,
          null,
          null,
          null,
          null,
          null,
          null,
          null,
          null,
          null,
          null,
          null,
          0.5,
          null,
          null,
          null,
          null,
          null,
          null,
          null,
          null,
          null,
          null,
          0,
          null,
          null,
          null,
          null,
          null,
          null,
          null,
          null,
          null,
          null,
          null,
          null,
          null,
          null,
          null,
          null,
          null
         ],
         "yaxis": "y"
        },
        {
         "hovertemplate": "variable=25<br>timeline=%{x}<br>value=%{y}<extra></extra>",
         "legendgroup": "25",
         "line": {
          "color": "#FF97FF",
          "dash": "solid"
         },
         "mode": "lines",
         "name": "25",
         "showlegend": true,
         "type": "scattergl",
         "x": [
          0,
          9,
          10,
          11,
          12,
          13,
          14,
          15,
          16,
          17,
          18,
          19,
          20,
          21,
          22,
          23,
          24,
          25,
          26,
          27,
          28,
          29,
          30,
          31,
          32,
          33,
          34,
          35,
          36,
          37,
          38,
          39,
          40,
          41,
          42,
          43,
          44,
          45,
          46,
          47,
          48,
          49,
          50,
          51,
          52,
          53,
          54,
          55,
          56,
          57,
          58,
          59
         ],
         "xaxis": "x",
         "y": [
          1,
          null,
          null,
          null,
          null,
          null,
          null,
          null,
          null,
          null,
          null,
          null,
          null,
          null,
          null,
          null,
          0.5,
          null,
          null,
          null,
          null,
          null,
          null,
          null,
          null,
          0,
          null,
          null,
          null,
          null,
          null,
          null,
          null,
          null,
          null,
          null,
          null,
          null,
          null,
          null,
          null,
          null,
          null,
          null,
          null,
          null,
          null,
          null,
          null,
          null,
          null,
          null
         ],
         "yaxis": "y"
        },
        {
         "hovertemplate": "variable=21<br>timeline=%{x}<br>value=%{y}<extra></extra>",
         "legendgroup": "21",
         "line": {
          "color": "#FECB52",
          "dash": "solid"
         },
         "mode": "lines",
         "name": "21",
         "showlegend": true,
         "type": "scattergl",
         "x": [
          0,
          9,
          10,
          11,
          12,
          13,
          14,
          15,
          16,
          17,
          18,
          19,
          20,
          21,
          22,
          23,
          24,
          25,
          26,
          27,
          28,
          29,
          30,
          31,
          32,
          33,
          34,
          35,
          36,
          37,
          38,
          39,
          40,
          41,
          42,
          43,
          44,
          45,
          46,
          47,
          48,
          49,
          50,
          51,
          52,
          53,
          54,
          55,
          56,
          57,
          58,
          59
         ],
         "xaxis": "x",
         "y": [
          1,
          null,
          null,
          null,
          null,
          null,
          null,
          null,
          null,
          0,
          null,
          null,
          null,
          null,
          null,
          null,
          null,
          null,
          null,
          null,
          null,
          null,
          null,
          null,
          null,
          null,
          null,
          null,
          null,
          null,
          null,
          null,
          null,
          null,
          null,
          null,
          null,
          null,
          null,
          null,
          null,
          null,
          null,
          null,
          null,
          null,
          null,
          null,
          null,
          null,
          null,
          null
         ],
         "yaxis": "y"
        }
       ],
       "layout": {
        "legend": {
         "title": {
          "text": "variable"
         },
         "tracegroupgap": 0
        },
        "template": {
         "data": {
          "bar": [
           {
            "error_x": {
             "color": "#2a3f5f"
            },
            "error_y": {
             "color": "#2a3f5f"
            },
            "marker": {
             "line": {
              "color": "#E5ECF6",
              "width": 0.5
             }
            },
            "type": "bar"
           }
          ],
          "barpolar": [
           {
            "marker": {
             "line": {
              "color": "#E5ECF6",
              "width": 0.5
             }
            },
            "type": "barpolar"
           }
          ],
          "carpet": [
           {
            "aaxis": {
             "endlinecolor": "#2a3f5f",
             "gridcolor": "white",
             "linecolor": "white",
             "minorgridcolor": "white",
             "startlinecolor": "#2a3f5f"
            },
            "baxis": {
             "endlinecolor": "#2a3f5f",
             "gridcolor": "white",
             "linecolor": "white",
             "minorgridcolor": "white",
             "startlinecolor": "#2a3f5f"
            },
            "type": "carpet"
           }
          ],
          "choropleth": [
           {
            "colorbar": {
             "outlinewidth": 0,
             "ticks": ""
            },
            "type": "choropleth"
           }
          ],
          "contour": [
           {
            "colorbar": {
             "outlinewidth": 0,
             "ticks": ""
            },
            "colorscale": [
             [
              0,
              "#0d0887"
             ],
             [
              0.1111111111111111,
              "#46039f"
             ],
             [
              0.2222222222222222,
              "#7201a8"
             ],
             [
              0.3333333333333333,
              "#9c179e"
             ],
             [
              0.4444444444444444,
              "#bd3786"
             ],
             [
              0.5555555555555556,
              "#d8576b"
             ],
             [
              0.6666666666666666,
              "#ed7953"
             ],
             [
              0.7777777777777778,
              "#fb9f3a"
             ],
             [
              0.8888888888888888,
              "#fdca26"
             ],
             [
              1,
              "#f0f921"
             ]
            ],
            "type": "contour"
           }
          ],
          "contourcarpet": [
           {
            "colorbar": {
             "outlinewidth": 0,
             "ticks": ""
            },
            "type": "contourcarpet"
           }
          ],
          "heatmap": [
           {
            "colorbar": {
             "outlinewidth": 0,
             "ticks": ""
            },
            "colorscale": [
             [
              0,
              "#0d0887"
             ],
             [
              0.1111111111111111,
              "#46039f"
             ],
             [
              0.2222222222222222,
              "#7201a8"
             ],
             [
              0.3333333333333333,
              "#9c179e"
             ],
             [
              0.4444444444444444,
              "#bd3786"
             ],
             [
              0.5555555555555556,
              "#d8576b"
             ],
             [
              0.6666666666666666,
              "#ed7953"
             ],
             [
              0.7777777777777778,
              "#fb9f3a"
             ],
             [
              0.8888888888888888,
              "#fdca26"
             ],
             [
              1,
              "#f0f921"
             ]
            ],
            "type": "heatmap"
           }
          ],
          "heatmapgl": [
           {
            "colorbar": {
             "outlinewidth": 0,
             "ticks": ""
            },
            "colorscale": [
             [
              0,
              "#0d0887"
             ],
             [
              0.1111111111111111,
              "#46039f"
             ],
             [
              0.2222222222222222,
              "#7201a8"
             ],
             [
              0.3333333333333333,
              "#9c179e"
             ],
             [
              0.4444444444444444,
              "#bd3786"
             ],
             [
              0.5555555555555556,
              "#d8576b"
             ],
             [
              0.6666666666666666,
              "#ed7953"
             ],
             [
              0.7777777777777778,
              "#fb9f3a"
             ],
             [
              0.8888888888888888,
              "#fdca26"
             ],
             [
              1,
              "#f0f921"
             ]
            ],
            "type": "heatmapgl"
           }
          ],
          "histogram": [
           {
            "marker": {
             "colorbar": {
              "outlinewidth": 0,
              "ticks": ""
             }
            },
            "type": "histogram"
           }
          ],
          "histogram2d": [
           {
            "colorbar": {
             "outlinewidth": 0,
             "ticks": ""
            },
            "colorscale": [
             [
              0,
              "#0d0887"
             ],
             [
              0.1111111111111111,
              "#46039f"
             ],
             [
              0.2222222222222222,
              "#7201a8"
             ],
             [
              0.3333333333333333,
              "#9c179e"
             ],
             [
              0.4444444444444444,
              "#bd3786"
             ],
             [
              0.5555555555555556,
              "#d8576b"
             ],
             [
              0.6666666666666666,
              "#ed7953"
             ],
             [
              0.7777777777777778,
              "#fb9f3a"
             ],
             [
              0.8888888888888888,
              "#fdca26"
             ],
             [
              1,
              "#f0f921"
             ]
            ],
            "type": "histogram2d"
           }
          ],
          "histogram2dcontour": [
           {
            "colorbar": {
             "outlinewidth": 0,
             "ticks": ""
            },
            "colorscale": [
             [
              0,
              "#0d0887"
             ],
             [
              0.1111111111111111,
              "#46039f"
             ],
             [
              0.2222222222222222,
              "#7201a8"
             ],
             [
              0.3333333333333333,
              "#9c179e"
             ],
             [
              0.4444444444444444,
              "#bd3786"
             ],
             [
              0.5555555555555556,
              "#d8576b"
             ],
             [
              0.6666666666666666,
              "#ed7953"
             ],
             [
              0.7777777777777778,
              "#fb9f3a"
             ],
             [
              0.8888888888888888,
              "#fdca26"
             ],
             [
              1,
              "#f0f921"
             ]
            ],
            "type": "histogram2dcontour"
           }
          ],
          "mesh3d": [
           {
            "colorbar": {
             "outlinewidth": 0,
             "ticks": ""
            },
            "type": "mesh3d"
           }
          ],
          "parcoords": [
           {
            "line": {
             "colorbar": {
              "outlinewidth": 0,
              "ticks": ""
             }
            },
            "type": "parcoords"
           }
          ],
          "pie": [
           {
            "automargin": true,
            "type": "pie"
           }
          ],
          "scatter": [
           {
            "marker": {
             "colorbar": {
              "outlinewidth": 0,
              "ticks": ""
             }
            },
            "type": "scatter"
           }
          ],
          "scatter3d": [
           {
            "line": {
             "colorbar": {
              "outlinewidth": 0,
              "ticks": ""
             }
            },
            "marker": {
             "colorbar": {
              "outlinewidth": 0,
              "ticks": ""
             }
            },
            "type": "scatter3d"
           }
          ],
          "scattercarpet": [
           {
            "marker": {
             "colorbar": {
              "outlinewidth": 0,
              "ticks": ""
             }
            },
            "type": "scattercarpet"
           }
          ],
          "scattergeo": [
           {
            "marker": {
             "colorbar": {
              "outlinewidth": 0,
              "ticks": ""
             }
            },
            "type": "scattergeo"
           }
          ],
          "scattergl": [
           {
            "marker": {
             "colorbar": {
              "outlinewidth": 0,
              "ticks": ""
             }
            },
            "type": "scattergl"
           }
          ],
          "scattermapbox": [
           {
            "marker": {
             "colorbar": {
              "outlinewidth": 0,
              "ticks": ""
             }
            },
            "type": "scattermapbox"
           }
          ],
          "scatterpolar": [
           {
            "marker": {
             "colorbar": {
              "outlinewidth": 0,
              "ticks": ""
             }
            },
            "type": "scatterpolar"
           }
          ],
          "scatterpolargl": [
           {
            "marker": {
             "colorbar": {
              "outlinewidth": 0,
              "ticks": ""
             }
            },
            "type": "scatterpolargl"
           }
          ],
          "scatterternary": [
           {
            "marker": {
             "colorbar": {
              "outlinewidth": 0,
              "ticks": ""
             }
            },
            "type": "scatterternary"
           }
          ],
          "surface": [
           {
            "colorbar": {
             "outlinewidth": 0,
             "ticks": ""
            },
            "colorscale": [
             [
              0,
              "#0d0887"
             ],
             [
              0.1111111111111111,
              "#46039f"
             ],
             [
              0.2222222222222222,
              "#7201a8"
             ],
             [
              0.3333333333333333,
              "#9c179e"
             ],
             [
              0.4444444444444444,
              "#bd3786"
             ],
             [
              0.5555555555555556,
              "#d8576b"
             ],
             [
              0.6666666666666666,
              "#ed7953"
             ],
             [
              0.7777777777777778,
              "#fb9f3a"
             ],
             [
              0.8888888888888888,
              "#fdca26"
             ],
             [
              1,
              "#f0f921"
             ]
            ],
            "type": "surface"
           }
          ],
          "table": [
           {
            "cells": {
             "fill": {
              "color": "#EBF0F8"
             },
             "line": {
              "color": "white"
             }
            },
            "header": {
             "fill": {
              "color": "#C8D4E3"
             },
             "line": {
              "color": "white"
             }
            },
            "type": "table"
           }
          ]
         },
         "layout": {
          "annotationdefaults": {
           "arrowcolor": "#2a3f5f",
           "arrowhead": 0,
           "arrowwidth": 1
          },
          "autotypenumbers": "strict",
          "coloraxis": {
           "colorbar": {
            "outlinewidth": 0,
            "ticks": ""
           }
          },
          "colorscale": {
           "diverging": [
            [
             0,
             "#8e0152"
            ],
            [
             0.1,
             "#c51b7d"
            ],
            [
             0.2,
             "#de77ae"
            ],
            [
             0.3,
             "#f1b6da"
            ],
            [
             0.4,
             "#fde0ef"
            ],
            [
             0.5,
             "#f7f7f7"
            ],
            [
             0.6,
             "#e6f5d0"
            ],
            [
             0.7,
             "#b8e186"
            ],
            [
             0.8,
             "#7fbc41"
            ],
            [
             0.9,
             "#4d9221"
            ],
            [
             1,
             "#276419"
            ]
           ],
           "sequential": [
            [
             0,
             "#0d0887"
            ],
            [
             0.1111111111111111,
             "#46039f"
            ],
            [
             0.2222222222222222,
             "#7201a8"
            ],
            [
             0.3333333333333333,
             "#9c179e"
            ],
            [
             0.4444444444444444,
             "#bd3786"
            ],
            [
             0.5555555555555556,
             "#d8576b"
            ],
            [
             0.6666666666666666,
             "#ed7953"
            ],
            [
             0.7777777777777778,
             "#fb9f3a"
            ],
            [
             0.8888888888888888,
             "#fdca26"
            ],
            [
             1,
             "#f0f921"
            ]
           ],
           "sequentialminus": [
            [
             0,
             "#0d0887"
            ],
            [
             0.1111111111111111,
             "#46039f"
            ],
            [
             0.2222222222222222,
             "#7201a8"
            ],
            [
             0.3333333333333333,
             "#9c179e"
            ],
            [
             0.4444444444444444,
             "#bd3786"
            ],
            [
             0.5555555555555556,
             "#d8576b"
            ],
            [
             0.6666666666666666,
             "#ed7953"
            ],
            [
             0.7777777777777778,
             "#fb9f3a"
            ],
            [
             0.8888888888888888,
             "#fdca26"
            ],
            [
             1,
             "#f0f921"
            ]
           ]
          },
          "colorway": [
           "#636efa",
           "#EF553B",
           "#00cc96",
           "#ab63fa",
           "#FFA15A",
           "#19d3f3",
           "#FF6692",
           "#B6E880",
           "#FF97FF",
           "#FECB52"
          ],
          "font": {
           "color": "#2a3f5f"
          },
          "geo": {
           "bgcolor": "white",
           "lakecolor": "white",
           "landcolor": "#E5ECF6",
           "showlakes": true,
           "showland": true,
           "subunitcolor": "white"
          },
          "hoverlabel": {
           "align": "left"
          },
          "hovermode": "closest",
          "mapbox": {
           "style": "light"
          },
          "paper_bgcolor": "white",
          "plot_bgcolor": "#E5ECF6",
          "polar": {
           "angularaxis": {
            "gridcolor": "white",
            "linecolor": "white",
            "ticks": ""
           },
           "bgcolor": "#E5ECF6",
           "radialaxis": {
            "gridcolor": "white",
            "linecolor": "white",
            "ticks": ""
           }
          },
          "scene": {
           "xaxis": {
            "backgroundcolor": "#E5ECF6",
            "gridcolor": "white",
            "gridwidth": 2,
            "linecolor": "white",
            "showbackground": true,
            "ticks": "",
            "zerolinecolor": "white"
           },
           "yaxis": {
            "backgroundcolor": "#E5ECF6",
            "gridcolor": "white",
            "gridwidth": 2,
            "linecolor": "white",
            "showbackground": true,
            "ticks": "",
            "zerolinecolor": "white"
           },
           "zaxis": {
            "backgroundcolor": "#E5ECF6",
            "gridcolor": "white",
            "gridwidth": 2,
            "linecolor": "white",
            "showbackground": true,
            "ticks": "",
            "zerolinecolor": "white"
           }
          },
          "shapedefaults": {
           "line": {
            "color": "#2a3f5f"
           }
          },
          "ternary": {
           "aaxis": {
            "gridcolor": "white",
            "linecolor": "white",
            "ticks": ""
           },
           "baxis": {
            "gridcolor": "white",
            "linecolor": "white",
            "ticks": ""
           },
           "bgcolor": "#E5ECF6",
           "caxis": {
            "gridcolor": "white",
            "linecolor": "white",
            "ticks": ""
           }
          },
          "title": {
           "x": 0.05
          },
          "xaxis": {
           "automargin": true,
           "gridcolor": "white",
           "linecolor": "white",
           "ticks": "",
           "title": {
            "standoff": 15
           },
           "zerolinecolor": "white",
           "zerolinewidth": 2
          },
          "yaxis": {
           "automargin": true,
           "gridcolor": "white",
           "linecolor": "white",
           "ticks": "",
           "title": {
            "standoff": 15
           },
           "zerolinecolor": "white",
           "zerolinewidth": 2
          }
         }
        },
        "title": {
         "text": "Tasa de Mortalidad Materna por cantidad de embarazos previos"
        },
        "xaxis": {
         "anchor": "y",
         "domain": [
          0,
          1
         ],
         "title": {
          "text": "timeline"
         }
        },
        "yaxis": {
         "anchor": "x",
         "domain": [
          0,
          1
         ],
         "title": {
          "text": "value"
         }
        }
       }
      },
      "text/html": [
       "<div>                            <div id=\"e54ff289-c862-45da-81fb-892d7aef0065\" class=\"plotly-graph-div\" style=\"height:525px; width:100%;\"></div>            <script type=\"text/javascript\">                require([\"plotly\"], function(Plotly) {                    window.PLOTLYENV=window.PLOTLYENV || {};                                    if (document.getElementById(\"e54ff289-c862-45da-81fb-892d7aef0065\")) {                    Plotly.newPlot(                        \"e54ff289-c862-45da-81fb-892d7aef0065\",                        [{\"hovertemplate\": \"variable=2<br>timeline=%{x}<br>value=%{y}<extra></extra>\", \"legendgroup\": \"2\", \"line\": {\"color\": \"#636efa\", \"dash\": \"solid\"}, \"mode\": \"lines\", \"name\": \"2\", \"showlegend\": true, \"type\": \"scattergl\", \"x\": [0.0, 9.0, 10.0, 11.0, 12.0, 13.0, 14.0, 15.0, 16.0, 17.0, 18.0, 19.0, 20.0, 21.0, 22.0, 23.0, 24.0, 25.0, 26.0, 27.0, 28.0, 29.0, 30.0, 31.0, 32.0, 33.0, 34.0, 35.0, 36.0, 37.0, 38.0, 39.0, 40.0, 41.0, 42.0, 43.0, 44.0, 45.0, 46.0, 47.0, 48.0, 49.0, 50.0, 51.0, 52.0, 53.0, 54.0, 55.0, 56.0, 57.0, 58.0, 59.0], \"xaxis\": \"x\", \"y\": [1.0, 0.9999963172131612, 0.9999705377052923, 0.9999447581974235, 0.9999189786895535, 0.999836115985688, 0.9994917754162937, 0.9977240377338347, 0.9911889324889934, 0.9749791462195265, 0.9445096093115577, 0.8970642664717249, 0.8348730451307111, 0.7660951595291187, 0.6941869051148379, 0.6236136609294991, 0.5517661724980523, 0.4818760852712461, 0.41614018159821886, 0.35564120080947625, 0.2999169531567927, 0.24986235584191255, 0.20559341665024772, 0.16765518803388915, 0.13402582001852437, 0.10553578103622566, 0.08116862191957898, 0.06062971972150768, 0.043935646982784814, 0.030567130759188117, 0.020513122690202123, 0.013061003522585617, 0.007951136784227354, 0.004612690515166636, 0.0026700204578808877, 0.001524673751120948, 0.000841516792587287, 0.0004971762231916136, 0.00033881638913798857, 0.00022833278398429644, 0.00016940819456899426, 0.00013073893276520197, 8.83868841229535e-05, 6.629016309221507e-05, 5.340040915761768e-05, 3.682786838456394e-05, 2.7620901288422987e-05, 1.8413934192282005e-05, 1.6572540773053795e-05, 9.206967096141e-06, 3.6827868384564034e-06, 0.0], \"yaxis\": \"y\"}, {\"hovertemplate\": \"variable=6<br>timeline=%{x}<br>value=%{y}<extra></extra>\", \"legendgroup\": \"6\", \"line\": {\"color\": \"#EF553B\", \"dash\": \"solid\"}, \"mode\": \"lines\", \"name\": \"6\", \"showlegend\": true, \"type\": \"scattergl\", \"x\": [0.0, 9.0, 10.0, 11.0, 12.0, 13.0, 14.0, 15.0, 16.0, 17.0, 18.0, 19.0, 20.0, 21.0, 22.0, 23.0, 24.0, 25.0, 26.0, 27.0, 28.0, 29.0, 30.0, 31.0, 32.0, 33.0, 34.0, 35.0, 36.0, 37.0, 38.0, 39.0, 40.0, 41.0, 42.0, 43.0, 44.0, 45.0, 46.0, 47.0, 48.0, 49.0, 50.0, 51.0, 52.0, 53.0, 54.0, 55.0, 56.0, 57.0, 58.0, 59.0], \"xaxis\": \"x\", \"y\": [1.0, null, null, null, null, null, null, null, null, 0.99985192497532, 0.9996544916090822, 0.9993089832181643, 0.9980750246791713, 0.9956071076011852, 0.9918065153010853, 0.9828726554787763, 0.9696939782823303, 0.9507897334649555, 0.9210760118460025, 0.8823790720631784, 0.8337611056268504, 0.7793188548864758, 0.7159921026653506, 0.6492102665350447, 0.5813919052319841, 0.5098716683119447, 0.4380059230009873, 0.36475814412635754, 0.2966436327739385, 0.23548864758144142, 0.1733464955577493, 0.12324777887462983, 0.08361303060217172, 0.0536031589338598, 0.03153998025666336, 0.017077986179664367, 0.009723593287265546, 0.004491609081934845, 0.002319842053307008, 0.001085883514313919, 0.0004442250740375125, 0.00034550839091806513, 0.00019743336623889436, 4.935834155972358e-05, null, 0.0, null, null, null, null, null, null], \"yaxis\": \"y\"}, {\"hovertemplate\": \"variable=1<br>timeline=%{x}<br>value=%{y}<extra></extra>\", \"legendgroup\": \"1\", \"line\": {\"color\": \"#00cc96\", \"dash\": \"solid\"}, \"mode\": \"lines\", \"name\": \"1\", \"showlegend\": true, \"type\": \"scattergl\", \"x\": [0.0, 9.0, 10.0, 11.0, 12.0, 13.0, 14.0, 15.0, 16.0, 17.0, 18.0, 19.0, 20.0, 21.0, 22.0, 23.0, 24.0, 25.0, 26.0, 27.0, 28.0, 29.0, 30.0, 31.0, 32.0, 33.0, 34.0, 35.0, 36.0, 37.0, 38.0, 39.0, 40.0, 41.0, 42.0, 43.0, 44.0, 45.0, 46.0, 47.0, 48.0, 49.0, 50.0, 51.0, 52.0, 53.0, 54.0, 55.0, 56.0, 57.0, 58.0, 59.0], \"xaxis\": \"x\", \"y\": [1.0, 0.9999885697676875, 0.9999314186061313, 0.9998122176120279, 0.9994742093136803, 0.9971799983997671, 0.9862967843490716, 0.9558237850071271, 0.8957579142112081, 0.8136774159837107, 0.7210500791135364, 0.6198059799709673, 0.5268863557316901, 0.45232531747470256, 0.3910886643120384, 0.3393472684194111, 0.2928245900220601, 0.25087073876857197, 0.21331589406460694, 0.17993634993492919, 0.15052962797859604, 0.12411109532650447, 0.10071994134657938, 0.08122976236547025, 0.06478818963081984, 0.051486665001118544, 0.040205025709858254, 0.03052851761317155, 0.022448976259407463, 0.016160715597858293, 0.011360018027109241, 0.007821544681594553, 0.005164832114380697, 0.0033555896285337766, 0.002181541481129501, 0.0013716278773568725, 0.0008458371910367378, 0.0005551827122634962, 0.00038536211792407387, 0.00025309800117894675, 0.0001828837169809161, 0.00012899833608475338, 9.634052948101837e-05, 7.021428419803035e-05, 4.2455148584855566e-05, 2.775913561317478e-05, 2.4493354952801263e-05, 1.7961793632054253e-05, 9.797341981120496e-06, 4.898670990560247e-06, 3.2657806603735003e-06, 0.0], \"yaxis\": \"y\"}, {\"hovertemplate\": \"variable=3<br>timeline=%{x}<br>value=%{y}<extra></extra>\", \"legendgroup\": \"3\", \"line\": {\"color\": \"#ab63fa\", \"dash\": \"solid\"}, \"mode\": \"lines\", \"name\": \"3\", \"showlegend\": true, \"type\": \"scattergl\", \"x\": [0.0, 9.0, 10.0, 11.0, 12.0, 13.0, 14.0, 15.0, 16.0, 17.0, 18.0, 19.0, 20.0, 21.0, 22.0, 23.0, 24.0, 25.0, 26.0, 27.0, 28.0, 29.0, 30.0, 31.0, 32.0, 33.0, 34.0, 35.0, 36.0, 37.0, 38.0, 39.0, 40.0, 41.0, 42.0, 43.0, 44.0, 45.0, 46.0, 47.0, 48.0, 49.0, 50.0, 51.0, 52.0, 53.0, 54.0, 55.0, 56.0, 57.0, 58.0, 59.0], \"xaxis\": \"x\", \"y\": [1.0, null, 0.9999971332987435, 0.9999913998962269, 0.9999827997924511, 0.9999598661823857, 0.9999283324685453, 0.9998193978207337, 0.9993549922169076, 0.9973855684525273, 0.9919101690493741, 0.9789498126610743, 0.9551848592306356, 0.9203114384246911, 0.8748283562621658, 0.8204785671080436, 0.7578927452391271, 0.6887163771776185, 0.6162175023578622, 0.5437816949657868, 0.47231196589772256, 0.4056439614371348, 0.3421207282567877, 0.28568971398921583, 0.2337594206970098, 0.18693185564439144, 0.1467636376145607, 0.11163794709789504, 0.08247212849701732, 0.0586555744439317, 0.03991308161785154, 0.025960846594215607, 0.01586719146411035, 0.009460114152044109, 0.005174395771042306, 0.002749166506609183, 0.0013989502139992505, 0.0007539424309053336, 0.0005074061227005475, 0.00034113744972522704, 0.00021786929562283403, 0.00014906846542614956, 0.000108934647811417, 8.600103774585559e-05, 5.1600622647513356e-05, 3.4400415098342265e-05, 1.720020754917113e-05, 1.4333506290975937e-05, 8.600103774585564e-06, null, 0.0, null], \"yaxis\": \"y\"}, {\"hovertemplate\": \"variable=5<br>timeline=%{x}<br>value=%{y}<extra></extra>\", \"legendgroup\": \"5\", \"line\": {\"color\": \"#FFA15A\", \"dash\": \"solid\"}, \"mode\": \"lines\", \"name\": \"5\", \"showlegend\": true, \"type\": \"scattergl\", \"x\": [0.0, 9.0, 10.0, 11.0, 12.0, 13.0, 14.0, 15.0, 16.0, 17.0, 18.0, 19.0, 20.0, 21.0, 22.0, 23.0, 24.0, 25.0, 26.0, 27.0, 28.0, 29.0, 30.0, 31.0, 32.0, 33.0, 34.0, 35.0, 36.0, 37.0, 38.0, 39.0, 40.0, 41.0, 42.0, 43.0, 44.0, 45.0, 46.0, 47.0, 48.0, 49.0, 50.0, 51.0, 52.0, 53.0, 54.0, 55.0, 56.0, 57.0, 58.0, 59.0], \"xaxis\": \"x\", \"y\": [1.0, null, 0.9999823449444759, null, 0.9999646898889505, 0.9999470348334258, null, 0.9998940696668496, 0.9998234494447501, 0.9996292438339728, 0.9994526932787214, 0.9985699405024645, 0.9957451316184405, 0.9903426846277436, 0.9803322681449839, 0.9635246552850424, 0.9379954449956753, 0.9006196924489335, 0.8547165480835442, 0.800727388287637, 0.7387051782277865, 0.6726576155082011, 0.6038028989601172, 0.5358485902438171, 0.46655249730760406, 0.39716812909376614, 0.33074981020815325, 0.2681449833159727, 0.2102540562490072, 0.15877191433767057, 0.11272752952808048, 0.07729383308910513, 0.04987553185854771, 0.03020780000353103, 0.017284299359121496, 0.009533729983580808, 0.004607969492064057, 0.002065641496442508, 0.0010063381649335296, 0.0006532370544305363, 0.0004413763881287407, 0.0003531011105029926, 0.00030013594392754364, 0.0001412404442011969, 8.827527762574813e-05, 7.062022210059857e-05, null, null, 1.765505552514964e-05, null, 0.0, null], \"yaxis\": \"y\"}, {\"hovertemplate\": \"variable=4<br>timeline=%{x}<br>value=%{y}<extra></extra>\", \"legendgroup\": \"4\", \"line\": {\"color\": \"#19d3f3\", \"dash\": \"solid\"}, \"mode\": \"lines\", \"name\": \"4\", \"showlegend\": true, \"type\": \"scattergl\", \"x\": [0.0, 9.0, 10.0, 11.0, 12.0, 13.0, 14.0, 15.0, 16.0, 17.0, 18.0, 19.0, 20.0, 21.0, 22.0, 23.0, 24.0, 25.0, 26.0, 27.0, 28.0, 29.0, 30.0, 31.0, 32.0, 33.0, 34.0, 35.0, 36.0, 37.0, 38.0, 39.0, 40.0, 41.0, 42.0, 43.0, 44.0, 45.0, 46.0, 47.0, 48.0, 49.0, 50.0, 51.0, 52.0, 53.0, 54.0, 55.0, 56.0, 57.0, 58.0, 59.0], \"xaxis\": \"x\", \"y\": [1.0, 0.9999933417670953, null, null, null, 0.999980025301285, 0.9999533923696653, 0.9998868100406164, 0.999727012450896, 0.9994074172714574, 0.9984086823357096, 0.9953991610626552, 0.9878021173180637, 0.9727944603502235, 0.9497037086357291, 0.9166455822624684, 0.8740129169718369, 0.8211465477062397, 0.7595112857047742, 0.6908649044543583, 0.6196883947000466, 0.54871829016579, 0.4768360077235502, 0.4100539316865304, 0.34574206005726077, 0.2859777615020973, 0.23096744124109475, 0.1820360876223453, 0.13893068779545928, 0.10163126706172187, 0.07100339569878164, 0.047226845995072965, 0.029449364138757615, 0.01750449430721087, 0.0099007923297157, 0.005200079898794865, 0.0026166855316598994, 0.0013050136493774555, 0.0006724815234036893, 0.00040615220720420834, 0.00025967108329449354, 0.00014648112390971423, 0.00010653172647979219, 9.321526066981815e-05, 6.658232904987016e-05, 5.326586323989609e-05, 4.6607630334909075e-05, 3.9949397429922034e-05, 1.331646580997402e-05, null, 6.658232904987009e-06, 0.0], \"yaxis\": \"y\"}, {\"hovertemplate\": \"variable=10<br>timeline=%{x}<br>value=%{y}<extra></extra>\", \"legendgroup\": \"10\", \"line\": {\"color\": \"#FF6692\", \"dash\": \"solid\"}, \"mode\": \"lines\", \"name\": \"10\", \"showlegend\": true, \"type\": \"scattergl\", \"x\": [0.0, 9.0, 10.0, 11.0, 12.0, 13.0, 14.0, 15.0, 16.0, 17.0, 18.0, 19.0, 20.0, 21.0, 22.0, 23.0, 24.0, 25.0, 26.0, 27.0, 28.0, 29.0, 30.0, 31.0, 32.0, 33.0, 34.0, 35.0, 36.0, 37.0, 38.0, 39.0, 40.0, 41.0, 42.0, 43.0, 44.0, 45.0, 46.0, 47.0, 48.0, 49.0, 50.0, 51.0, 52.0, 53.0, 54.0, 55.0, 56.0, 57.0, 58.0, 59.0], \"xaxis\": \"x\", \"y\": [1.0, null, null, null, null, null, null, null, null, null, null, 0.998561151079137, 0.9971223021582736, 0.9956834532374098, null, 0.9942446043165473, null, 0.9913669064748204, 0.9899280575539569, 0.9827338129496405, 0.9769784172661873, 0.9741007194244605, 0.9625899280575545, 0.9424460431654675, 0.9079136690647479, 0.8705035971223026, 0.81726618705036, 0.7453237410071941, 0.6791366906474818, 0.6100719424460432, 0.5079136690647481, 0.39712230215827327, 0.30647482014388505, 0.2244604316546763, 0.14244604316546763, 0.0935251798561151, 0.05179856115107914, 0.024460431654676266, 0.014388489208633098, 0.007194244604316549, null, null, 0.005755395683453239, 0.00431654676258993, 0.002877697841726619, 0.0014388489208633096, null, null, 0.0, null, null, null], \"yaxis\": \"y\"}, {\"hovertemplate\": \"variable=7<br>timeline=%{x}<br>value=%{y}<extra></extra>\", \"legendgroup\": \"7\", \"line\": {\"color\": \"#B6E880\", \"dash\": \"solid\"}, \"mode\": \"lines\", \"name\": \"7\", \"showlegend\": true, \"type\": \"scattergl\", \"x\": [0.0, 9.0, 10.0, 11.0, 12.0, 13.0, 14.0, 15.0, 16.0, 17.0, 18.0, 19.0, 20.0, 21.0, 22.0, 23.0, 24.0, 25.0, 26.0, 27.0, 28.0, 29.0, 30.0, 31.0, 32.0, 33.0, 34.0, 35.0, 36.0, 37.0, 38.0, 39.0, 40.0, 41.0, 42.0, 43.0, 44.0, 45.0, 46.0, 47.0, 48.0, 49.0, 50.0, 51.0, 52.0, 53.0, 54.0, 55.0, 56.0, 57.0, 58.0, 59.0], \"xaxis\": \"x\", \"y\": [1.0, 0.9998685248488052, null, null, null, null, null, 0.9997370496976087, 0.999605574546411, 0.9992111490928227, 0.9988167236392327, 0.9980278727320546, 0.9972390218248757, 0.9960557454641075, 0.9938206678937698, 0.9897449382066797, 0.9844859321588235, 0.9758085721798581, 0.9602945043386816, 0.9330791480410209, 0.8974493820667896, 0.8565606100447017, 0.8026557980541685, 0.7509860636339731, 0.6912963449907977, 0.6181961609255859, 0.5395740205101242, 0.46095188009466254, 0.38601104391270075, 0.3064685774388644, 0.23363134367604535, 0.17275834867210108, 0.12424401788062071, 0.08098869313699715, 0.049171706547462585, 0.02760978175124903, 0.014856692085195914, 0.00762555876939259, 0.003944254535892722, 0.00223507757033921, 0.0014462266631606654, 0.0010518012095713921, 0.0009203260583749681, 0.0006573757559821201, 0.0005259006047856961, 0.000131475151196424, null, 0.0, null, null, null, null], \"yaxis\": \"y\"}, {\"hovertemplate\": \"variable=9<br>timeline=%{x}<br>value=%{y}<extra></extra>\", \"legendgroup\": \"9\", \"line\": {\"color\": \"#FF97FF\", \"dash\": \"solid\"}, \"mode\": \"lines\", \"name\": \"9\", \"showlegend\": true, \"type\": \"scattergl\", \"x\": [0.0, 9.0, 10.0, 11.0, 12.0, 13.0, 14.0, 15.0, 16.0, 17.0, 18.0, 19.0, 20.0, 21.0, 22.0, 23.0, 24.0, 25.0, 26.0, 27.0, 28.0, 29.0, 30.0, 31.0, 32.0, 33.0, 34.0, 35.0, 36.0, 37.0, 38.0, 39.0, 40.0, 41.0, 42.0, 43.0, 44.0, 45.0, 46.0, 47.0, 48.0, 49.0, 50.0, 51.0, 52.0, 53.0, 54.0, 55.0, 56.0, 57.0, 58.0, 59.0], \"xaxis\": \"x\", \"y\": [1.0, null, null, null, null, null, null, null, 0.9993084370677733, 0.9986168741355459, 0.9965421853388654, 0.9958506224066391, null, 0.9930843706777314, 0.9903181189488244, 0.9875518672199166, 0.9840940525587826, 0.9806362378976485, 0.9709543568464727, 0.9640387275242048, 0.9536652835408022, 0.9301521438450898, 0.907330567081604, 0.8713692946058091, 0.825034578146611, 0.7780082987551866, 0.7171507607192255, 0.647994467496542, 0.5677731673582292, 0.47856154910096793, 0.38174273858921143, 0.2911479944674964, 0.21023513139695713, 0.14453665283540798, 0.08575380359612725, 0.047026279391424626, 0.02351313969571231, 0.008990318118948827, 0.006915629322268327, 0.004149377593360997, 0.0027662517289073307, 0.0013831258644536651, null, 0.0006915629322268325, 0.0, null, null, null, null, null, null, null], \"yaxis\": \"y\"}, {\"hovertemplate\": \"variable=8<br>timeline=%{x}<br>value=%{y}<extra></extra>\", \"legendgroup\": \"8\", \"line\": {\"color\": \"#FECB52\", \"dash\": \"solid\"}, \"mode\": \"lines\", \"name\": \"8\", \"showlegend\": true, \"type\": \"scattergl\", \"x\": [0.0, 9.0, 10.0, 11.0, 12.0, 13.0, 14.0, 15.0, 16.0, 17.0, 18.0, 19.0, 20.0, 21.0, 22.0, 23.0, 24.0, 25.0, 26.0, 27.0, 28.0, 29.0, 30.0, 31.0, 32.0, 33.0, 34.0, 35.0, 36.0, 37.0, 38.0, 39.0, 40.0, 41.0, 42.0, 43.0, 44.0, 45.0, 46.0, 47.0, 48.0, 49.0, 50.0, 51.0, 52.0, 53.0, 54.0, 55.0, 56.0, 57.0, 58.0, 59.0], \"xaxis\": \"x\", \"y\": [1.0, null, null, null, null, null, null, 0.9996945632254124, null, null, null, null, 0.9987782529016505, 0.9978619425778875, 0.9948075748320107, 0.9923640806353096, 0.9890042761148454, 0.9825901038485042, 0.9715943799633477, 0.9593769089798424, 0.9401343921808187, 0.9156994502138057, 0.8778252901649367, 0.8317043372021996, 0.7825290164935863, 0.7217470983506419, 0.6551618814905321, 0.5824679291386685, 0.5018326206475262, 0.407758094074527, 0.31857055589493005, 0.2403787416004889, 0.16890653634697633, 0.1148442272449604, 0.07269395235186325, 0.04215027489309718, 0.021991447770311565, 0.010079413561392796, 0.004886988393402567, 0.003054367745876604, 0.0021380574221136228, 0.0015271838729383018, 0.0012217470983506415, 0.0006108735491753207, null, null, 0.0003054367745876606, null, null, null, 0.0, null], \"yaxis\": \"y\"}, {\"hovertemplate\": \"variable=11<br>timeline=%{x}<br>value=%{y}<extra></extra>\", \"legendgroup\": \"11\", \"line\": {\"color\": \"#636efa\", \"dash\": \"solid\"}, \"mode\": \"lines\", \"name\": \"11\", \"showlegend\": true, \"type\": \"scattergl\", \"x\": [0.0, 9.0, 10.0, 11.0, 12.0, 13.0, 14.0, 15.0, 16.0, 17.0, 18.0, 19.0, 20.0, 21.0, 22.0, 23.0, 24.0, 25.0, 26.0, 27.0, 28.0, 29.0, 30.0, 31.0, 32.0, 33.0, 34.0, 35.0, 36.0, 37.0, 38.0, 39.0, 40.0, 41.0, 42.0, 43.0, 44.0, 45.0, 46.0, 47.0, 48.0, 49.0, 50.0, 51.0, 52.0, 53.0, 54.0, 55.0, 56.0, 57.0, 58.0, 59.0], \"xaxis\": \"x\", \"y\": [1.0, null, null, null, null, null, null, null, null, 0.9968253968253965, null, null, 0.9936507936507933, 0.9873015873015871, null, null, 0.9841269841269844, null, 0.9809523809523814, null, null, 0.9746031746031742, 0.9619047619047616, 0.9428571428571431, 0.9333333333333331, 0.8984126984126984, 0.8603174603174604, 0.7904761904761903, 0.7269841269841272, 0.6349206349206347, 0.5111111111111112, 0.39682539682539697, 0.326984126984127, 0.2253968253968254, 0.14285714285714285, 0.08253968253968255, 0.05396825396825397, 0.022222222222222227, 0.009523809523809526, null, null, 0.00634920634920635, 0.0031746031746031746, null, null, null, 0.0, null, null, null, null, null], \"yaxis\": \"y\"}, {\"hovertemplate\": \"variable=12<br>timeline=%{x}<br>value=%{y}<extra></extra>\", \"legendgroup\": \"12\", \"line\": {\"color\": \"#EF553B\", \"dash\": \"solid\"}, \"mode\": \"lines\", \"name\": \"12\", \"showlegend\": true, \"type\": \"scattergl\", \"x\": [0.0, 9.0, 10.0, 11.0, 12.0, 13.0, 14.0, 15.0, 16.0, 17.0, 18.0, 19.0, 20.0, 21.0, 22.0, 23.0, 24.0, 25.0, 26.0, 27.0, 28.0, 29.0, 30.0, 31.0, 32.0, 33.0, 34.0, 35.0, 36.0, 37.0, 38.0, 39.0, 40.0, 41.0, 42.0, 43.0, 44.0, 45.0, 46.0, 47.0, 48.0, 49.0, 50.0, 51.0, 52.0, 53.0, 54.0, 55.0, 56.0, 57.0, 58.0, 59.0], \"xaxis\": \"x\", \"y\": [1.0, null, null, null, null, null, null, null, null, null, null, null, null, null, null, 0.9930069930069935, null, 0.9860139860139865, 0.979020979020979, null, null, 0.9720279720279721, 0.9650349650349657, null, 0.9580419580419585, 0.9440559440559445, 0.9230769230769231, 0.8671328671328676, 0.7972027972027976, 0.7412587412587414, 0.6573426573426575, 0.5944055944055947, 0.5244755244755245, 0.4195804195804196, 0.3006993006993008, 0.19580419580419584, 0.10489510489510492, 0.06293706293706297, 0.04895104895104897, 0.027972027972027986, 0.013986013986013991, null, null, null, null, null, 0.006993006993006996, 0.0, null, null, null, null], \"yaxis\": \"y\"}, {\"hovertemplate\": \"variable=13<br>timeline=%{x}<br>value=%{y}<extra></extra>\", \"legendgroup\": \"13\", \"line\": {\"color\": \"#00cc96\", \"dash\": \"solid\"}, \"mode\": \"lines\", \"name\": \"13\", \"showlegend\": true, \"type\": \"scattergl\", \"x\": [0.0, 9.0, 10.0, 11.0, 12.0, 13.0, 14.0, 15.0, 16.0, 17.0, 18.0, 19.0, 20.0, 21.0, 22.0, 23.0, 24.0, 25.0, 26.0, 27.0, 28.0, 29.0, 30.0, 31.0, 32.0, 33.0, 34.0, 35.0, 36.0, 37.0, 38.0, 39.0, 40.0, 41.0, 42.0, 43.0, 44.0, 45.0, 46.0, 47.0, 48.0, 49.0, 50.0, 51.0, 52.0, 53.0, 54.0, 55.0, 56.0, 57.0, 58.0, 59.0], \"xaxis\": \"x\", \"y\": [1.0, null, null, null, null, null, null, null, null, null, null, 0.9850746268656716, null, null, null, null, null, null, null, null, null, 0.9701492537313433, null, null, null, null, null, 0.9253731343283587, 0.9104477611940303, 0.8656716417910448, 0.7611940298507465, 0.5820895522388061, 0.49253731343283597, 0.3880597014925375, 0.2537313432835822, 0.16417910447761203, 0.11940298507462688, 0.059701492537313466, 0.02985074626865673, 0.014925373134328363, 0.0, null, null, null, null, null, null, null, null, null, null, null], \"yaxis\": \"y\"}, {\"hovertemplate\": \"variable=16<br>timeline=%{x}<br>value=%{y}<extra></extra>\", \"legendgroup\": \"16\", \"line\": {\"color\": \"#ab63fa\", \"dash\": \"solid\"}, \"mode\": \"lines\", \"name\": \"16\", \"showlegend\": true, \"type\": \"scattergl\", \"x\": [0.0, 9.0, 10.0, 11.0, 12.0, 13.0, 14.0, 15.0, 16.0, 17.0, 18.0, 19.0, 20.0, 21.0, 22.0, 23.0, 24.0, 25.0, 26.0, 27.0, 28.0, 29.0, 30.0, 31.0, 32.0, 33.0, 34.0, 35.0, 36.0, 37.0, 38.0, 39.0, 40.0, 41.0, 42.0, 43.0, 44.0, 45.0, 46.0, 47.0, 48.0, 49.0, 50.0, 51.0, 52.0, 53.0, 54.0, 55.0, 56.0, 57.0, 58.0, 59.0], \"xaxis\": \"x\", \"y\": [1.0, null, null, null, null, null, null, null, null, null, null, null, null, null, null, null, null, 0.9090909090909092, null, null, null, null, null, null, null, null, null, 0.8181818181818182, null, 0.7272727272727271, 0.4545454545454544, 0.3636363636363636, null, null, 0.2727272727272727, null, 0.18181818181818182, 0.0909090909090909, null, 0.0, null, null, null, null, null, null, null, null, null, null, null, null], \"yaxis\": \"y\"}, {\"hovertemplate\": \"variable=15<br>timeline=%{x}<br>value=%{y}<extra></extra>\", \"legendgroup\": \"15\", \"line\": {\"color\": \"#FFA15A\", \"dash\": \"solid\"}, \"mode\": \"lines\", \"name\": \"15\", \"showlegend\": true, \"type\": \"scattergl\", \"x\": [0.0, 9.0, 10.0, 11.0, 12.0, 13.0, 14.0, 15.0, 16.0, 17.0, 18.0, 19.0, 20.0, 21.0, 22.0, 23.0, 24.0, 25.0, 26.0, 27.0, 28.0, 29.0, 30.0, 31.0, 32.0, 33.0, 34.0, 35.0, 36.0, 37.0, 38.0, 39.0, 40.0, 41.0, 42.0, 43.0, 44.0, 45.0, 46.0, 47.0, 48.0, 49.0, 50.0, 51.0, 52.0, 53.0, 54.0, 55.0, 56.0, 57.0, 58.0, 59.0], \"xaxis\": \"x\", \"y\": [1.0, null, null, null, null, null, null, 0.9375000000000001, null, null, null, null, null, null, null, null, null, null, null, null, null, null, null, null, 0.8749999999999999, null, 0.8125000000000001, 0.7500000000000001, null, 0.6875000000000001, null, 0.49999999999999994, null, 0.375, 0.25, 0.18750000000000003, null, 0.0625, null, 0.0, null, null, null, null, null, null, null, null, null, null, null, null], \"yaxis\": \"y\"}, {\"hovertemplate\": \"variable=20<br>timeline=%{x}<br>value=%{y}<extra></extra>\", \"legendgroup\": \"20\", \"line\": {\"color\": \"#19d3f3\", \"dash\": \"solid\"}, \"mode\": \"lines\", \"name\": \"20\", \"showlegend\": true, \"type\": \"scattergl\", \"x\": [0.0, 9.0, 10.0, 11.0, 12.0, 13.0, 14.0, 15.0, 16.0, 17.0, 18.0, 19.0, 20.0, 21.0, 22.0, 23.0, 24.0, 25.0, 26.0, 27.0, 28.0, 29.0, 30.0, 31.0, 32.0, 33.0, 34.0, 35.0, 36.0, 37.0, 38.0, 39.0, 40.0, 41.0, 42.0, 43.0, 44.0, 45.0, 46.0, 47.0, 48.0, 49.0, 50.0, 51.0, 52.0, 53.0, 54.0, 55.0, 56.0, 57.0, 58.0, 59.0], \"xaxis\": \"x\", \"y\": [1.0, null, null, null, null, null, null, null, null, null, null, 0.9375000000000001, 0.8749999999999999, 0.8125000000000001, 0.7500000000000001, 0.6875000000000001, 0.6250000000000002, 0.5625000000000001, 0.49999999999999994, 0.4375, 0.375, null, null, 0.3125, null, null, 0.25, 0.12500000000000003, null, 0.0625, null, 0.0, null, null, null, null, null, null, null, null, null, null, null, null, null, null, null, null, null, null, null, null], \"yaxis\": \"y\"}, {\"hovertemplate\": \"variable=14<br>timeline=%{x}<br>value=%{y}<extra></extra>\", \"legendgroup\": \"14\", \"line\": {\"color\": \"#FF6692\", \"dash\": \"solid\"}, \"mode\": \"lines\", \"name\": \"14\", \"showlegend\": true, \"type\": \"scattergl\", \"x\": [0.0, 9.0, 10.0, 11.0, 12.0, 13.0, 14.0, 15.0, 16.0, 17.0, 18.0, 19.0, 20.0, 21.0, 22.0, 23.0, 24.0, 25.0, 26.0, 27.0, 28.0, 29.0, 30.0, 31.0, 32.0, 33.0, 34.0, 35.0, 36.0, 37.0, 38.0, 39.0, 40.0, 41.0, 42.0, 43.0, 44.0, 45.0, 46.0, 47.0, 48.0, 49.0, 50.0, 51.0, 52.0, 53.0, 54.0, 55.0, 56.0, 57.0, 58.0, 59.0], \"xaxis\": \"x\", \"y\": [1.0, null, null, null, null, null, null, null, null, 0.9722222222222221, null, null, null, null, null, null, null, null, null, null, null, null, null, 0.9444444444444446, null, null, null, null, 0.9166666666666667, null, 0.888888888888889, 0.7777777777777778, 0.7500000000000001, 0.638888888888889, 0.38888888888888884, 0.19444444444444445, 0.1388888888888889, 0.08333333333333337, 0.02777777777777778, null, null, null, 0.0, null, null, null, null, null, null, null, null, null], \"yaxis\": \"y\"}, {\"hovertemplate\": \"variable=19<br>timeline=%{x}<br>value=%{y}<extra></extra>\", \"legendgroup\": \"19\", \"line\": {\"color\": \"#B6E880\", \"dash\": \"solid\"}, \"mode\": \"lines\", \"name\": \"19\", \"showlegend\": true, \"type\": \"scattergl\", \"x\": [0.0, 9.0, 10.0, 11.0, 12.0, 13.0, 14.0, 15.0, 16.0, 17.0, 18.0, 19.0, 20.0, 21.0, 22.0, 23.0, 24.0, 25.0, 26.0, 27.0, 28.0, 29.0, 30.0, 31.0, 32.0, 33.0, 34.0, 35.0, 36.0, 37.0, 38.0, 39.0, 40.0, 41.0, 42.0, 43.0, 44.0, 45.0, 46.0, 47.0, 48.0, 49.0, 50.0, 51.0, 52.0, 53.0, 54.0, 55.0, 56.0, 57.0, 58.0, 59.0], \"xaxis\": \"x\", \"y\": [1.0, null, null, null, null, null, null, null, null, null, null, null, null, null, null, null, null, null, null, null, null, null, null, 0.5, null, null, null, null, null, null, null, null, null, null, 0.0, null, null, null, null, null, null, null, null, null, null, null, null, null, null, null, null, null], \"yaxis\": \"y\"}, {\"hovertemplate\": \"variable=25<br>timeline=%{x}<br>value=%{y}<extra></extra>\", \"legendgroup\": \"25\", \"line\": {\"color\": \"#FF97FF\", \"dash\": \"solid\"}, \"mode\": \"lines\", \"name\": \"25\", \"showlegend\": true, \"type\": \"scattergl\", \"x\": [0.0, 9.0, 10.0, 11.0, 12.0, 13.0, 14.0, 15.0, 16.0, 17.0, 18.0, 19.0, 20.0, 21.0, 22.0, 23.0, 24.0, 25.0, 26.0, 27.0, 28.0, 29.0, 30.0, 31.0, 32.0, 33.0, 34.0, 35.0, 36.0, 37.0, 38.0, 39.0, 40.0, 41.0, 42.0, 43.0, 44.0, 45.0, 46.0, 47.0, 48.0, 49.0, 50.0, 51.0, 52.0, 53.0, 54.0, 55.0, 56.0, 57.0, 58.0, 59.0], \"xaxis\": \"x\", \"y\": [1.0, null, null, null, null, null, null, null, null, null, null, null, null, null, null, null, 0.5, null, null, null, null, null, null, null, null, 0.0, null, null, null, null, null, null, null, null, null, null, null, null, null, null, null, null, null, null, null, null, null, null, null, null, null, null], \"yaxis\": \"y\"}, {\"hovertemplate\": \"variable=21<br>timeline=%{x}<br>value=%{y}<extra></extra>\", \"legendgroup\": \"21\", \"line\": {\"color\": \"#FECB52\", \"dash\": \"solid\"}, \"mode\": \"lines\", \"name\": \"21\", \"showlegend\": true, \"type\": \"scattergl\", \"x\": [0.0, 9.0, 10.0, 11.0, 12.0, 13.0, 14.0, 15.0, 16.0, 17.0, 18.0, 19.0, 20.0, 21.0, 22.0, 23.0, 24.0, 25.0, 26.0, 27.0, 28.0, 29.0, 30.0, 31.0, 32.0, 33.0, 34.0, 35.0, 36.0, 37.0, 38.0, 39.0, 40.0, 41.0, 42.0, 43.0, 44.0, 45.0, 46.0, 47.0, 48.0, 49.0, 50.0, 51.0, 52.0, 53.0, 54.0, 55.0, 56.0, 57.0, 58.0, 59.0], \"xaxis\": \"x\", \"y\": [1.0, null, null, null, null, null, null, null, null, 0.0, null, null, null, null, null, null, null, null, null, null, null, null, null, null, null, null, null, null, null, null, null, null, null, null, null, null, null, null, null, null, null, null, null, null, null, null, null, null, null, null, null, null], \"yaxis\": \"y\"}],                        {\"legend\": {\"title\": {\"text\": \"variable\"}, \"tracegroupgap\": 0}, \"template\": {\"data\": {\"bar\": [{\"error_x\": {\"color\": \"#2a3f5f\"}, \"error_y\": {\"color\": \"#2a3f5f\"}, \"marker\": {\"line\": {\"color\": \"#E5ECF6\", \"width\": 0.5}}, \"type\": \"bar\"}], \"barpolar\": [{\"marker\": {\"line\": {\"color\": \"#E5ECF6\", \"width\": 0.5}}, \"type\": \"barpolar\"}], \"carpet\": [{\"aaxis\": {\"endlinecolor\": \"#2a3f5f\", \"gridcolor\": \"white\", \"linecolor\": \"white\", \"minorgridcolor\": \"white\", \"startlinecolor\": \"#2a3f5f\"}, \"baxis\": {\"endlinecolor\": \"#2a3f5f\", \"gridcolor\": \"white\", \"linecolor\": \"white\", \"minorgridcolor\": \"white\", \"startlinecolor\": \"#2a3f5f\"}, \"type\": \"carpet\"}], \"choropleth\": [{\"colorbar\": {\"outlinewidth\": 0, \"ticks\": \"\"}, \"type\": \"choropleth\"}], \"contour\": [{\"colorbar\": {\"outlinewidth\": 0, \"ticks\": \"\"}, \"colorscale\": [[0.0, \"#0d0887\"], [0.1111111111111111, \"#46039f\"], [0.2222222222222222, \"#7201a8\"], [0.3333333333333333, \"#9c179e\"], [0.4444444444444444, \"#bd3786\"], [0.5555555555555556, \"#d8576b\"], [0.6666666666666666, \"#ed7953\"], [0.7777777777777778, \"#fb9f3a\"], [0.8888888888888888, \"#fdca26\"], [1.0, \"#f0f921\"]], \"type\": \"contour\"}], \"contourcarpet\": [{\"colorbar\": {\"outlinewidth\": 0, \"ticks\": \"\"}, \"type\": \"contourcarpet\"}], \"heatmap\": [{\"colorbar\": {\"outlinewidth\": 0, \"ticks\": \"\"}, \"colorscale\": [[0.0, \"#0d0887\"], [0.1111111111111111, \"#46039f\"], [0.2222222222222222, \"#7201a8\"], [0.3333333333333333, \"#9c179e\"], [0.4444444444444444, \"#bd3786\"], [0.5555555555555556, \"#d8576b\"], [0.6666666666666666, \"#ed7953\"], [0.7777777777777778, \"#fb9f3a\"], [0.8888888888888888, \"#fdca26\"], [1.0, \"#f0f921\"]], \"type\": \"heatmap\"}], \"heatmapgl\": [{\"colorbar\": {\"outlinewidth\": 0, \"ticks\": \"\"}, \"colorscale\": [[0.0, \"#0d0887\"], [0.1111111111111111, \"#46039f\"], [0.2222222222222222, \"#7201a8\"], [0.3333333333333333, \"#9c179e\"], [0.4444444444444444, \"#bd3786\"], [0.5555555555555556, \"#d8576b\"], [0.6666666666666666, \"#ed7953\"], [0.7777777777777778, \"#fb9f3a\"], [0.8888888888888888, \"#fdca26\"], [1.0, \"#f0f921\"]], \"type\": \"heatmapgl\"}], \"histogram\": [{\"marker\": {\"colorbar\": {\"outlinewidth\": 0, \"ticks\": \"\"}}, \"type\": \"histogram\"}], \"histogram2d\": [{\"colorbar\": {\"outlinewidth\": 0, \"ticks\": \"\"}, \"colorscale\": [[0.0, \"#0d0887\"], [0.1111111111111111, \"#46039f\"], [0.2222222222222222, \"#7201a8\"], [0.3333333333333333, \"#9c179e\"], [0.4444444444444444, \"#bd3786\"], [0.5555555555555556, \"#d8576b\"], [0.6666666666666666, \"#ed7953\"], [0.7777777777777778, \"#fb9f3a\"], [0.8888888888888888, \"#fdca26\"], [1.0, \"#f0f921\"]], \"type\": \"histogram2d\"}], \"histogram2dcontour\": [{\"colorbar\": {\"outlinewidth\": 0, \"ticks\": \"\"}, \"colorscale\": [[0.0, \"#0d0887\"], [0.1111111111111111, \"#46039f\"], [0.2222222222222222, \"#7201a8\"], [0.3333333333333333, \"#9c179e\"], [0.4444444444444444, \"#bd3786\"], [0.5555555555555556, \"#d8576b\"], [0.6666666666666666, \"#ed7953\"], [0.7777777777777778, \"#fb9f3a\"], [0.8888888888888888, \"#fdca26\"], [1.0, \"#f0f921\"]], \"type\": \"histogram2dcontour\"}], \"mesh3d\": [{\"colorbar\": {\"outlinewidth\": 0, \"ticks\": \"\"}, \"type\": \"mesh3d\"}], \"parcoords\": [{\"line\": {\"colorbar\": {\"outlinewidth\": 0, \"ticks\": \"\"}}, \"type\": \"parcoords\"}], \"pie\": [{\"automargin\": true, \"type\": \"pie\"}], \"scatter\": [{\"marker\": {\"colorbar\": {\"outlinewidth\": 0, \"ticks\": \"\"}}, \"type\": \"scatter\"}], \"scatter3d\": [{\"line\": {\"colorbar\": {\"outlinewidth\": 0, \"ticks\": \"\"}}, \"marker\": {\"colorbar\": {\"outlinewidth\": 0, \"ticks\": \"\"}}, \"type\": \"scatter3d\"}], \"scattercarpet\": [{\"marker\": {\"colorbar\": {\"outlinewidth\": 0, \"ticks\": \"\"}}, \"type\": \"scattercarpet\"}], \"scattergeo\": [{\"marker\": {\"colorbar\": {\"outlinewidth\": 0, \"ticks\": \"\"}}, \"type\": \"scattergeo\"}], \"scattergl\": [{\"marker\": {\"colorbar\": {\"outlinewidth\": 0, \"ticks\": \"\"}}, \"type\": \"scattergl\"}], \"scattermapbox\": [{\"marker\": {\"colorbar\": {\"outlinewidth\": 0, \"ticks\": \"\"}}, \"type\": \"scattermapbox\"}], \"scatterpolar\": [{\"marker\": {\"colorbar\": {\"outlinewidth\": 0, \"ticks\": \"\"}}, \"type\": \"scatterpolar\"}], \"scatterpolargl\": [{\"marker\": {\"colorbar\": {\"outlinewidth\": 0, \"ticks\": \"\"}}, \"type\": \"scatterpolargl\"}], \"scatterternary\": [{\"marker\": {\"colorbar\": {\"outlinewidth\": 0, \"ticks\": \"\"}}, \"type\": \"scatterternary\"}], \"surface\": [{\"colorbar\": {\"outlinewidth\": 0, \"ticks\": \"\"}, \"colorscale\": [[0.0, \"#0d0887\"], [0.1111111111111111, \"#46039f\"], [0.2222222222222222, \"#7201a8\"], [0.3333333333333333, \"#9c179e\"], [0.4444444444444444, \"#bd3786\"], [0.5555555555555556, \"#d8576b\"], [0.6666666666666666, \"#ed7953\"], [0.7777777777777778, \"#fb9f3a\"], [0.8888888888888888, \"#fdca26\"], [1.0, \"#f0f921\"]], \"type\": \"surface\"}], \"table\": [{\"cells\": {\"fill\": {\"color\": \"#EBF0F8\"}, \"line\": {\"color\": \"white\"}}, \"header\": {\"fill\": {\"color\": \"#C8D4E3\"}, \"line\": {\"color\": \"white\"}}, \"type\": \"table\"}]}, \"layout\": {\"annotationdefaults\": {\"arrowcolor\": \"#2a3f5f\", \"arrowhead\": 0, \"arrowwidth\": 1}, \"autotypenumbers\": \"strict\", \"coloraxis\": {\"colorbar\": {\"outlinewidth\": 0, \"ticks\": \"\"}}, \"colorscale\": {\"diverging\": [[0, \"#8e0152\"], [0.1, \"#c51b7d\"], [0.2, \"#de77ae\"], [0.3, \"#f1b6da\"], [0.4, \"#fde0ef\"], [0.5, \"#f7f7f7\"], [0.6, \"#e6f5d0\"], [0.7, \"#b8e186\"], [0.8, \"#7fbc41\"], [0.9, \"#4d9221\"], [1, \"#276419\"]], \"sequential\": [[0.0, \"#0d0887\"], [0.1111111111111111, \"#46039f\"], [0.2222222222222222, \"#7201a8\"], [0.3333333333333333, \"#9c179e\"], [0.4444444444444444, \"#bd3786\"], [0.5555555555555556, \"#d8576b\"], [0.6666666666666666, \"#ed7953\"], [0.7777777777777778, \"#fb9f3a\"], [0.8888888888888888, \"#fdca26\"], [1.0, \"#f0f921\"]], \"sequentialminus\": [[0.0, \"#0d0887\"], [0.1111111111111111, \"#46039f\"], [0.2222222222222222, \"#7201a8\"], [0.3333333333333333, \"#9c179e\"], [0.4444444444444444, \"#bd3786\"], [0.5555555555555556, \"#d8576b\"], [0.6666666666666666, \"#ed7953\"], [0.7777777777777778, \"#fb9f3a\"], [0.8888888888888888, \"#fdca26\"], [1.0, \"#f0f921\"]]}, \"colorway\": [\"#636efa\", \"#EF553B\", \"#00cc96\", \"#ab63fa\", \"#FFA15A\", \"#19d3f3\", \"#FF6692\", \"#B6E880\", \"#FF97FF\", \"#FECB52\"], \"font\": {\"color\": \"#2a3f5f\"}, \"geo\": {\"bgcolor\": \"white\", \"lakecolor\": \"white\", \"landcolor\": \"#E5ECF6\", \"showlakes\": true, \"showland\": true, \"subunitcolor\": \"white\"}, \"hoverlabel\": {\"align\": \"left\"}, \"hovermode\": \"closest\", \"mapbox\": {\"style\": \"light\"}, \"paper_bgcolor\": \"white\", \"plot_bgcolor\": \"#E5ECF6\", \"polar\": {\"angularaxis\": {\"gridcolor\": \"white\", \"linecolor\": \"white\", \"ticks\": \"\"}, \"bgcolor\": \"#E5ECF6\", \"radialaxis\": {\"gridcolor\": \"white\", \"linecolor\": \"white\", \"ticks\": \"\"}}, \"scene\": {\"xaxis\": {\"backgroundcolor\": \"#E5ECF6\", \"gridcolor\": \"white\", \"gridwidth\": 2, \"linecolor\": \"white\", \"showbackground\": true, \"ticks\": \"\", \"zerolinecolor\": \"white\"}, \"yaxis\": {\"backgroundcolor\": \"#E5ECF6\", \"gridcolor\": \"white\", \"gridwidth\": 2, \"linecolor\": \"white\", \"showbackground\": true, \"ticks\": \"\", \"zerolinecolor\": \"white\"}, \"zaxis\": {\"backgroundcolor\": \"#E5ECF6\", \"gridcolor\": \"white\", \"gridwidth\": 2, \"linecolor\": \"white\", \"showbackground\": true, \"ticks\": \"\", \"zerolinecolor\": \"white\"}}, \"shapedefaults\": {\"line\": {\"color\": \"#2a3f5f\"}}, \"ternary\": {\"aaxis\": {\"gridcolor\": \"white\", \"linecolor\": \"white\", \"ticks\": \"\"}, \"baxis\": {\"gridcolor\": \"white\", \"linecolor\": \"white\", \"ticks\": \"\"}, \"bgcolor\": \"#E5ECF6\", \"caxis\": {\"gridcolor\": \"white\", \"linecolor\": \"white\", \"ticks\": \"\"}}, \"title\": {\"x\": 0.05}, \"xaxis\": {\"automargin\": true, \"gridcolor\": \"white\", \"linecolor\": \"white\", \"ticks\": \"\", \"title\": {\"standoff\": 15}, \"zerolinecolor\": \"white\", \"zerolinewidth\": 2}, \"yaxis\": {\"automargin\": true, \"gridcolor\": \"white\", \"linecolor\": \"white\", \"ticks\": \"\", \"title\": {\"standoff\": 15}, \"zerolinecolor\": \"white\", \"zerolinewidth\": 2}}}, \"title\": {\"text\": \"Tasa de Mortalidad Materna por cantidad de embarazos previos\"}, \"xaxis\": {\"anchor\": \"y\", \"domain\": [0.0, 1.0], \"title\": {\"text\": \"timeline\"}}, \"yaxis\": {\"anchor\": \"x\", \"domain\": [0.0, 1.0], \"title\": {\"text\": \"value\"}}},                        {\"responsive\": true}                    ).then(function(){\n",
       "                            \n",
       "var gd = document.getElementById('e54ff289-c862-45da-81fb-892d7aef0065');\n",
       "var x = new MutationObserver(function (mutations, observer) {{\n",
       "        var display = window.getComputedStyle(gd).display;\n",
       "        if (!display || display === 'none') {{\n",
       "            console.log([gd, 'removed!']);\n",
       "            Plotly.purge(gd);\n",
       "            observer.disconnect();\n",
       "        }}\n",
       "}});\n",
       "\n",
       "// Listen for the removal of the full notebook cells\n",
       "var notebookContainer = gd.closest('#notebook-container');\n",
       "if (notebookContainer) {{\n",
       "    x.observe(notebookContainer, {childList: true});\n",
       "}}\n",
       "\n",
       "// Listen for the clearing of the current output cell\n",
       "var outputEl = gd.closest('.output');\n",
       "if (outputEl) {{\n",
       "    x.observe(outputEl, {childList: true});\n",
       "}}\n",
       "\n",
       "                        })                };                });            </script>        </div>"
      ]
     },
     "metadata": {},
     "output_type": "display_data"
    }
   ],
   "source": [
    "rates, logrank = survival(data_num_emb, 'NUMEROEMBARAZOS', 'EDAD', 'SOBREVIVIOPARTO')\n",
    "print(logrank)\n",
    "rates.plot(kind='line',\n",
    "           title='Tasa de Mortalidad Materna por cantidad de embarazos previos')"
   ]
  },
  {
   "cell_type": "code",
   "execution_count": 11,
   "metadata": {},
   "outputs": [],
   "source": [
    "data_prenatal = data[((data['ATENCIONPRENATAL'] == 1) | (data['ATENCIONPRENATAL'] == 2)) & ((data['SOBREVIVIOPARTO'] == 1) | (data['SOBREVIVIOPARTO'] == 2)) & (data['EDAD'] != 999)]\n",
    "data_prenatal['ATENCIONPRENATAL'].replace(2, 'No', inplace=True)\n",
    "data_prenatal['ATENCIONPRENATAL'].replace(1, 'Si', inplace=True)"
   ]
  },
  {
   "cell_type": "code",
   "execution_count": 12,
   "metadata": {},
   "outputs": [
    {
     "name": "stdout",
     "output_type": "stream",
     "text": [
      "<lifelines.StatisticalResult: logrank_test>\n",
      "               t_0 = -1\n",
      " null_distribution = chi squared\n",
      "degrees_of_freedom = 1\n",
      "         test_name = logrank_test\n",
      "\n",
      "---\n",
      " test_statistic      p  -log2(p)\n",
      "        2766.83 <0.005       inf\n"
     ]
    },
    {
     "data": {
      "application/vnd.plotly.v1+json": {
       "config": {
        "plotlyServerURL": "https://plot.ly"
       },
       "data": [
        {
         "hovertemplate": "variable=Si<br>timeline=%{x}<br>value=%{y}<extra></extra>",
         "legendgroup": "Si",
         "line": {
          "color": "#636efa",
          "dash": "solid"
         },
         "mode": "lines",
         "name": "Si",
         "orientation": "v",
         "showlegend": true,
         "type": "scatter",
         "x": [
          0,
          9,
          10,
          11,
          12,
          13,
          14,
          15,
          16,
          17,
          18,
          19,
          20,
          21,
          22,
          23,
          24,
          25,
          26,
          27,
          28,
          29,
          30,
          31,
          32,
          33,
          34,
          35,
          36,
          37,
          38,
          39,
          40,
          41,
          42,
          43,
          44,
          45,
          46,
          47,
          48,
          49,
          50,
          51,
          52,
          53,
          54,
          55,
          56,
          57,
          58,
          59
         ],
         "xaxis": "x",
         "y": [
          1,
          0.9999946752997806,
          0.9999662768986112,
          0.9999177629632783,
          0.9998035777252404,
          0.9990350459935766,
          0.9953255048407439,
          0.9845169550287659,
          0.9619106444307192,
          0.9283632581485668,
          0.8859857440026133,
          0.8334640843053877,
          0.7764909752247617,
          0.720738997394447,
          0.6654987824185498,
          0.6109904179061384,
          0.5549775297650743,
          0.4983676835660819,
          0.442675460704896,
          0.38899952432678064,
          0.33771970304738524,
          0.28993288511190174,
          0.24535686140870255,
          0.20593928895136548,
          0.16997271386954235,
          0.13802569581999202,
          0.10990536232810098,
          0.08518573737631908,
          0.06416263764350073,
          0.04665265678875613,
          0.03250256177243886,
          0.0217726991970352,
          0.013847770370528149,
          0.008455623948371703,
          0.004921797902778072,
          0.002751095113345121,
          0.0014731670606944831,
          0.0007987050329066478,
          0.0004969720204752473,
          0.0003171154797318242,
          0.000218904342352192,
          0.000157374473150495,
          0.00011477687139547379,
          0.00008223703672149923,
          0.000056796802340028255,
          0.00003845616825106083,
          0.000028398401170014175,
          0.000020707167519801996,
          0.000011832667154172569,
          0.000008282867007920805,
          0.000002958166788543147,
          0
         ],
         "yaxis": "y"
        },
        {
         "hovertemplate": "variable=No<br>timeline=%{x}<br>value=%{y}<extra></extra>",
         "legendgroup": "No",
         "line": {
          "color": "#EF553B",
          "dash": "solid"
         },
         "mode": "lines",
         "name": "No",
         "orientation": "v",
         "showlegend": true,
         "type": "scatter",
         "x": [
          0,
          9,
          10,
          11,
          12,
          13,
          14,
          15,
          16,
          17,
          18,
          19,
          20,
          21,
          22,
          23,
          24,
          25,
          26,
          27,
          28,
          29,
          30,
          31,
          32,
          33,
          34,
          35,
          36,
          37,
          38,
          39,
          40,
          41,
          42,
          43,
          44,
          45,
          46,
          47,
          48,
          49,
          50,
          51,
          52,
          53,
          54,
          55,
          56,
          57,
          58,
          59
         ],
         "xaxis": "x",
         "y": [
          1,
          0.999957835262369,
          0.9998945881559255,
          0.9997680939430343,
          0.9991567052474011,
          0.9959732675563429,
          0.9843990470769285,
          0.9575822739443,
          0.9138785233908883,
          0.8541943372757367,
          0.784348449391774,
          0.7086416629772518,
          0.6346636308055571,
          0.5686968987835472,
          0.5100457487403282,
          0.45521050745261743,
          0.40374844517529945,
          0.3563341977104549,
          0.31225096451837314,
          0.2721312166635041,
          0.23551114203191864,
          0.20435140092340784,
          0.17405603693631003,
          0.14894693567769263,
          0.12573524761242177,
          0.10511669091139075,
          0.08622688845318663,
          0.06982480551514761,
          0.05536230050808506,
          0.04262854974384921,
          0.03187654164821957,
          0.022347310943857644,
          0.01555878818544051,
          0.010351443088145378,
          0.006430122488562814,
          0.0039002382307676063,
          0.002487719520165286,
          0.0013914363417873623,
          0.0008222123837834416,
          0.0005481415891889609,
          0.00029515316340944015,
          0.00018974131933464016,
          0.00014757658170472005,
          0.00012649421288975996,
          0.00006324710644487998,
          0.00004216473762992001,
          null,
          null,
          null,
          0.000021082368814960007,
          0,
          null
         ],
         "yaxis": "y"
        }
       ],
       "layout": {
        "legend": {
         "title": {
          "text": "variable"
         },
         "tracegroupgap": 0
        },
        "template": {
         "data": {
          "bar": [
           {
            "error_x": {
             "color": "#2a3f5f"
            },
            "error_y": {
             "color": "#2a3f5f"
            },
            "marker": {
             "line": {
              "color": "#E5ECF6",
              "width": 0.5
             }
            },
            "type": "bar"
           }
          ],
          "barpolar": [
           {
            "marker": {
             "line": {
              "color": "#E5ECF6",
              "width": 0.5
             }
            },
            "type": "barpolar"
           }
          ],
          "carpet": [
           {
            "aaxis": {
             "endlinecolor": "#2a3f5f",
             "gridcolor": "white",
             "linecolor": "white",
             "minorgridcolor": "white",
             "startlinecolor": "#2a3f5f"
            },
            "baxis": {
             "endlinecolor": "#2a3f5f",
             "gridcolor": "white",
             "linecolor": "white",
             "minorgridcolor": "white",
             "startlinecolor": "#2a3f5f"
            },
            "type": "carpet"
           }
          ],
          "choropleth": [
           {
            "colorbar": {
             "outlinewidth": 0,
             "ticks": ""
            },
            "type": "choropleth"
           }
          ],
          "contour": [
           {
            "colorbar": {
             "outlinewidth": 0,
             "ticks": ""
            },
            "colorscale": [
             [
              0,
              "#0d0887"
             ],
             [
              0.1111111111111111,
              "#46039f"
             ],
             [
              0.2222222222222222,
              "#7201a8"
             ],
             [
              0.3333333333333333,
              "#9c179e"
             ],
             [
              0.4444444444444444,
              "#bd3786"
             ],
             [
              0.5555555555555556,
              "#d8576b"
             ],
             [
              0.6666666666666666,
              "#ed7953"
             ],
             [
              0.7777777777777778,
              "#fb9f3a"
             ],
             [
              0.8888888888888888,
              "#fdca26"
             ],
             [
              1,
              "#f0f921"
             ]
            ],
            "type": "contour"
           }
          ],
          "contourcarpet": [
           {
            "colorbar": {
             "outlinewidth": 0,
             "ticks": ""
            },
            "type": "contourcarpet"
           }
          ],
          "heatmap": [
           {
            "colorbar": {
             "outlinewidth": 0,
             "ticks": ""
            },
            "colorscale": [
             [
              0,
              "#0d0887"
             ],
             [
              0.1111111111111111,
              "#46039f"
             ],
             [
              0.2222222222222222,
              "#7201a8"
             ],
             [
              0.3333333333333333,
              "#9c179e"
             ],
             [
              0.4444444444444444,
              "#bd3786"
             ],
             [
              0.5555555555555556,
              "#d8576b"
             ],
             [
              0.6666666666666666,
              "#ed7953"
             ],
             [
              0.7777777777777778,
              "#fb9f3a"
             ],
             [
              0.8888888888888888,
              "#fdca26"
             ],
             [
              1,
              "#f0f921"
             ]
            ],
            "type": "heatmap"
           }
          ],
          "heatmapgl": [
           {
            "colorbar": {
             "outlinewidth": 0,
             "ticks": ""
            },
            "colorscale": [
             [
              0,
              "#0d0887"
             ],
             [
              0.1111111111111111,
              "#46039f"
             ],
             [
              0.2222222222222222,
              "#7201a8"
             ],
             [
              0.3333333333333333,
              "#9c179e"
             ],
             [
              0.4444444444444444,
              "#bd3786"
             ],
             [
              0.5555555555555556,
              "#d8576b"
             ],
             [
              0.6666666666666666,
              "#ed7953"
             ],
             [
              0.7777777777777778,
              "#fb9f3a"
             ],
             [
              0.8888888888888888,
              "#fdca26"
             ],
             [
              1,
              "#f0f921"
             ]
            ],
            "type": "heatmapgl"
           }
          ],
          "histogram": [
           {
            "marker": {
             "colorbar": {
              "outlinewidth": 0,
              "ticks": ""
             }
            },
            "type": "histogram"
           }
          ],
          "histogram2d": [
           {
            "colorbar": {
             "outlinewidth": 0,
             "ticks": ""
            },
            "colorscale": [
             [
              0,
              "#0d0887"
             ],
             [
              0.1111111111111111,
              "#46039f"
             ],
             [
              0.2222222222222222,
              "#7201a8"
             ],
             [
              0.3333333333333333,
              "#9c179e"
             ],
             [
              0.4444444444444444,
              "#bd3786"
             ],
             [
              0.5555555555555556,
              "#d8576b"
             ],
             [
              0.6666666666666666,
              "#ed7953"
             ],
             [
              0.7777777777777778,
              "#fb9f3a"
             ],
             [
              0.8888888888888888,
              "#fdca26"
             ],
             [
              1,
              "#f0f921"
             ]
            ],
            "type": "histogram2d"
           }
          ],
          "histogram2dcontour": [
           {
            "colorbar": {
             "outlinewidth": 0,
             "ticks": ""
            },
            "colorscale": [
             [
              0,
              "#0d0887"
             ],
             [
              0.1111111111111111,
              "#46039f"
             ],
             [
              0.2222222222222222,
              "#7201a8"
             ],
             [
              0.3333333333333333,
              "#9c179e"
             ],
             [
              0.4444444444444444,
              "#bd3786"
             ],
             [
              0.5555555555555556,
              "#d8576b"
             ],
             [
              0.6666666666666666,
              "#ed7953"
             ],
             [
              0.7777777777777778,
              "#fb9f3a"
             ],
             [
              0.8888888888888888,
              "#fdca26"
             ],
             [
              1,
              "#f0f921"
             ]
            ],
            "type": "histogram2dcontour"
           }
          ],
          "mesh3d": [
           {
            "colorbar": {
             "outlinewidth": 0,
             "ticks": ""
            },
            "type": "mesh3d"
           }
          ],
          "parcoords": [
           {
            "line": {
             "colorbar": {
              "outlinewidth": 0,
              "ticks": ""
             }
            },
            "type": "parcoords"
           }
          ],
          "pie": [
           {
            "automargin": true,
            "type": "pie"
           }
          ],
          "scatter": [
           {
            "marker": {
             "colorbar": {
              "outlinewidth": 0,
              "ticks": ""
             }
            },
            "type": "scatter"
           }
          ],
          "scatter3d": [
           {
            "line": {
             "colorbar": {
              "outlinewidth": 0,
              "ticks": ""
             }
            },
            "marker": {
             "colorbar": {
              "outlinewidth": 0,
              "ticks": ""
             }
            },
            "type": "scatter3d"
           }
          ],
          "scattercarpet": [
           {
            "marker": {
             "colorbar": {
              "outlinewidth": 0,
              "ticks": ""
             }
            },
            "type": "scattercarpet"
           }
          ],
          "scattergeo": [
           {
            "marker": {
             "colorbar": {
              "outlinewidth": 0,
              "ticks": ""
             }
            },
            "type": "scattergeo"
           }
          ],
          "scattergl": [
           {
            "marker": {
             "colorbar": {
              "outlinewidth": 0,
              "ticks": ""
             }
            },
            "type": "scattergl"
           }
          ],
          "scattermapbox": [
           {
            "marker": {
             "colorbar": {
              "outlinewidth": 0,
              "ticks": ""
             }
            },
            "type": "scattermapbox"
           }
          ],
          "scatterpolar": [
           {
            "marker": {
             "colorbar": {
              "outlinewidth": 0,
              "ticks": ""
             }
            },
            "type": "scatterpolar"
           }
          ],
          "scatterpolargl": [
           {
            "marker": {
             "colorbar": {
              "outlinewidth": 0,
              "ticks": ""
             }
            },
            "type": "scatterpolargl"
           }
          ],
          "scatterternary": [
           {
            "marker": {
             "colorbar": {
              "outlinewidth": 0,
              "ticks": ""
             }
            },
            "type": "scatterternary"
           }
          ],
          "surface": [
           {
            "colorbar": {
             "outlinewidth": 0,
             "ticks": ""
            },
            "colorscale": [
             [
              0,
              "#0d0887"
             ],
             [
              0.1111111111111111,
              "#46039f"
             ],
             [
              0.2222222222222222,
              "#7201a8"
             ],
             [
              0.3333333333333333,
              "#9c179e"
             ],
             [
              0.4444444444444444,
              "#bd3786"
             ],
             [
              0.5555555555555556,
              "#d8576b"
             ],
             [
              0.6666666666666666,
              "#ed7953"
             ],
             [
              0.7777777777777778,
              "#fb9f3a"
             ],
             [
              0.8888888888888888,
              "#fdca26"
             ],
             [
              1,
              "#f0f921"
             ]
            ],
            "type": "surface"
           }
          ],
          "table": [
           {
            "cells": {
             "fill": {
              "color": "#EBF0F8"
             },
             "line": {
              "color": "white"
             }
            },
            "header": {
             "fill": {
              "color": "#C8D4E3"
             },
             "line": {
              "color": "white"
             }
            },
            "type": "table"
           }
          ]
         },
         "layout": {
          "annotationdefaults": {
           "arrowcolor": "#2a3f5f",
           "arrowhead": 0,
           "arrowwidth": 1
          },
          "autotypenumbers": "strict",
          "coloraxis": {
           "colorbar": {
            "outlinewidth": 0,
            "ticks": ""
           }
          },
          "colorscale": {
           "diverging": [
            [
             0,
             "#8e0152"
            ],
            [
             0.1,
             "#c51b7d"
            ],
            [
             0.2,
             "#de77ae"
            ],
            [
             0.3,
             "#f1b6da"
            ],
            [
             0.4,
             "#fde0ef"
            ],
            [
             0.5,
             "#f7f7f7"
            ],
            [
             0.6,
             "#e6f5d0"
            ],
            [
             0.7,
             "#b8e186"
            ],
            [
             0.8,
             "#7fbc41"
            ],
            [
             0.9,
             "#4d9221"
            ],
            [
             1,
             "#276419"
            ]
           ],
           "sequential": [
            [
             0,
             "#0d0887"
            ],
            [
             0.1111111111111111,
             "#46039f"
            ],
            [
             0.2222222222222222,
             "#7201a8"
            ],
            [
             0.3333333333333333,
             "#9c179e"
            ],
            [
             0.4444444444444444,
             "#bd3786"
            ],
            [
             0.5555555555555556,
             "#d8576b"
            ],
            [
             0.6666666666666666,
             "#ed7953"
            ],
            [
             0.7777777777777778,
             "#fb9f3a"
            ],
            [
             0.8888888888888888,
             "#fdca26"
            ],
            [
             1,
             "#f0f921"
            ]
           ],
           "sequentialminus": [
            [
             0,
             "#0d0887"
            ],
            [
             0.1111111111111111,
             "#46039f"
            ],
            [
             0.2222222222222222,
             "#7201a8"
            ],
            [
             0.3333333333333333,
             "#9c179e"
            ],
            [
             0.4444444444444444,
             "#bd3786"
            ],
            [
             0.5555555555555556,
             "#d8576b"
            ],
            [
             0.6666666666666666,
             "#ed7953"
            ],
            [
             0.7777777777777778,
             "#fb9f3a"
            ],
            [
             0.8888888888888888,
             "#fdca26"
            ],
            [
             1,
             "#f0f921"
            ]
           ]
          },
          "colorway": [
           "#636efa",
           "#EF553B",
           "#00cc96",
           "#ab63fa",
           "#FFA15A",
           "#19d3f3",
           "#FF6692",
           "#B6E880",
           "#FF97FF",
           "#FECB52"
          ],
          "font": {
           "color": "#2a3f5f"
          },
          "geo": {
           "bgcolor": "white",
           "lakecolor": "white",
           "landcolor": "#E5ECF6",
           "showlakes": true,
           "showland": true,
           "subunitcolor": "white"
          },
          "hoverlabel": {
           "align": "left"
          },
          "hovermode": "closest",
          "mapbox": {
           "style": "light"
          },
          "paper_bgcolor": "white",
          "plot_bgcolor": "#E5ECF6",
          "polar": {
           "angularaxis": {
            "gridcolor": "white",
            "linecolor": "white",
            "ticks": ""
           },
           "bgcolor": "#E5ECF6",
           "radialaxis": {
            "gridcolor": "white",
            "linecolor": "white",
            "ticks": ""
           }
          },
          "scene": {
           "xaxis": {
            "backgroundcolor": "#E5ECF6",
            "gridcolor": "white",
            "gridwidth": 2,
            "linecolor": "white",
            "showbackground": true,
            "ticks": "",
            "zerolinecolor": "white"
           },
           "yaxis": {
            "backgroundcolor": "#E5ECF6",
            "gridcolor": "white",
            "gridwidth": 2,
            "linecolor": "white",
            "showbackground": true,
            "ticks": "",
            "zerolinecolor": "white"
           },
           "zaxis": {
            "backgroundcolor": "#E5ECF6",
            "gridcolor": "white",
            "gridwidth": 2,
            "linecolor": "white",
            "showbackground": true,
            "ticks": "",
            "zerolinecolor": "white"
           }
          },
          "shapedefaults": {
           "line": {
            "color": "#2a3f5f"
           }
          },
          "ternary": {
           "aaxis": {
            "gridcolor": "white",
            "linecolor": "white",
            "ticks": ""
           },
           "baxis": {
            "gridcolor": "white",
            "linecolor": "white",
            "ticks": ""
           },
           "bgcolor": "#E5ECF6",
           "caxis": {
            "gridcolor": "white",
            "linecolor": "white",
            "ticks": ""
           }
          },
          "title": {
           "x": 0.05
          },
          "xaxis": {
           "automargin": true,
           "gridcolor": "white",
           "linecolor": "white",
           "ticks": "",
           "title": {
            "standoff": 15
           },
           "zerolinecolor": "white",
           "zerolinewidth": 2
          },
          "yaxis": {
           "automargin": true,
           "gridcolor": "white",
           "linecolor": "white",
           "ticks": "",
           "title": {
            "standoff": 15
           },
           "zerolinecolor": "white",
           "zerolinewidth": 2
          }
         }
        },
        "title": {
         "text": "Tasa de Mortalidad Materna por cuidados prenatales"
        },
        "xaxis": {
         "anchor": "y",
         "domain": [
          0,
          1
         ],
         "title": {
          "text": "timeline"
         }
        },
        "yaxis": {
         "anchor": "x",
         "domain": [
          0,
          1
         ],
         "title": {
          "text": "value"
         }
        }
       }
      },
      "text/html": [
       "<div>                            <div id=\"c18bc528-9add-4a38-9db6-052b6de49e7a\" class=\"plotly-graph-div\" style=\"height:525px; width:100%;\"></div>            <script type=\"text/javascript\">                require([\"plotly\"], function(Plotly) {                    window.PLOTLYENV=window.PLOTLYENV || {};                                    if (document.getElementById(\"c18bc528-9add-4a38-9db6-052b6de49e7a\")) {                    Plotly.newPlot(                        \"c18bc528-9add-4a38-9db6-052b6de49e7a\",                        [{\"hovertemplate\": \"variable=Si<br>timeline=%{x}<br>value=%{y}<extra></extra>\", \"legendgroup\": \"Si\", \"line\": {\"color\": \"#636efa\", \"dash\": \"solid\"}, \"mode\": \"lines\", \"name\": \"Si\", \"orientation\": \"v\", \"showlegend\": true, \"type\": \"scatter\", \"x\": [0.0, 9.0, 10.0, 11.0, 12.0, 13.0, 14.0, 15.0, 16.0, 17.0, 18.0, 19.0, 20.0, 21.0, 22.0, 23.0, 24.0, 25.0, 26.0, 27.0, 28.0, 29.0, 30.0, 31.0, 32.0, 33.0, 34.0, 35.0, 36.0, 37.0, 38.0, 39.0, 40.0, 41.0, 42.0, 43.0, 44.0, 45.0, 46.0, 47.0, 48.0, 49.0, 50.0, 51.0, 52.0, 53.0, 54.0, 55.0, 56.0, 57.0, 58.0, 59.0], \"xaxis\": \"x\", \"y\": [1.0, 0.9999946752997806, 0.9999662768986112, 0.9999177629632783, 0.9998035777252404, 0.9990350459935766, 0.9953255048407439, 0.9845169550287659, 0.9619106444307192, 0.9283632581485668, 0.8859857440026133, 0.8334640843053877, 0.7764909752247617, 0.720738997394447, 0.6654987824185498, 0.6109904179061384, 0.5549775297650743, 0.4983676835660819, 0.442675460704896, 0.38899952432678064, 0.33771970304738524, 0.28993288511190174, 0.24535686140870255, 0.20593928895136548, 0.16997271386954235, 0.13802569581999202, 0.10990536232810098, 0.08518573737631908, 0.06416263764350073, 0.04665265678875613, 0.03250256177243886, 0.0217726991970352, 0.013847770370528149, 0.008455623948371703, 0.004921797902778072, 0.002751095113345121, 0.0014731670606944831, 0.0007987050329066478, 0.0004969720204752473, 0.0003171154797318242, 0.000218904342352192, 0.000157374473150495, 0.00011477687139547379, 8.223703672149923e-05, 5.6796802340028255e-05, 3.845616825106083e-05, 2.8398401170014175e-05, 2.0707167519801996e-05, 1.1832667154172569e-05, 8.282867007920805e-06, 2.958166788543147e-06, 0.0], \"yaxis\": \"y\"}, {\"hovertemplate\": \"variable=No<br>timeline=%{x}<br>value=%{y}<extra></extra>\", \"legendgroup\": \"No\", \"line\": {\"color\": \"#EF553B\", \"dash\": \"solid\"}, \"mode\": \"lines\", \"name\": \"No\", \"orientation\": \"v\", \"showlegend\": true, \"type\": \"scatter\", \"x\": [0.0, 9.0, 10.0, 11.0, 12.0, 13.0, 14.0, 15.0, 16.0, 17.0, 18.0, 19.0, 20.0, 21.0, 22.0, 23.0, 24.0, 25.0, 26.0, 27.0, 28.0, 29.0, 30.0, 31.0, 32.0, 33.0, 34.0, 35.0, 36.0, 37.0, 38.0, 39.0, 40.0, 41.0, 42.0, 43.0, 44.0, 45.0, 46.0, 47.0, 48.0, 49.0, 50.0, 51.0, 52.0, 53.0, 54.0, 55.0, 56.0, 57.0, 58.0, 59.0], \"xaxis\": \"x\", \"y\": [1.0, 0.999957835262369, 0.9998945881559255, 0.9997680939430343, 0.9991567052474011, 0.9959732675563429, 0.9843990470769285, 0.9575822739443, 0.9138785233908883, 0.8541943372757367, 0.784348449391774, 0.7086416629772518, 0.6346636308055571, 0.5686968987835472, 0.5100457487403282, 0.45521050745261743, 0.40374844517529945, 0.3563341977104549, 0.31225096451837314, 0.2721312166635041, 0.23551114203191864, 0.20435140092340784, 0.17405603693631003, 0.14894693567769263, 0.12573524761242177, 0.10511669091139075, 0.08622688845318663, 0.06982480551514761, 0.05536230050808506, 0.04262854974384921, 0.03187654164821957, 0.022347310943857644, 0.01555878818544051, 0.010351443088145378, 0.006430122488562814, 0.0039002382307676063, 0.002487719520165286, 0.0013914363417873623, 0.0008222123837834416, 0.0005481415891889609, 0.00029515316340944015, 0.00018974131933464016, 0.00014757658170472005, 0.00012649421288975996, 6.324710644487998e-05, 4.216473762992001e-05, null, null, null, 2.1082368814960007e-05, 0.0, null], \"yaxis\": \"y\"}],                        {\"legend\": {\"title\": {\"text\": \"variable\"}, \"tracegroupgap\": 0}, \"template\": {\"data\": {\"bar\": [{\"error_x\": {\"color\": \"#2a3f5f\"}, \"error_y\": {\"color\": \"#2a3f5f\"}, \"marker\": {\"line\": {\"color\": \"#E5ECF6\", \"width\": 0.5}}, \"type\": \"bar\"}], \"barpolar\": [{\"marker\": {\"line\": {\"color\": \"#E5ECF6\", \"width\": 0.5}}, \"type\": \"barpolar\"}], \"carpet\": [{\"aaxis\": {\"endlinecolor\": \"#2a3f5f\", \"gridcolor\": \"white\", \"linecolor\": \"white\", \"minorgridcolor\": \"white\", \"startlinecolor\": \"#2a3f5f\"}, \"baxis\": {\"endlinecolor\": \"#2a3f5f\", \"gridcolor\": \"white\", \"linecolor\": \"white\", \"minorgridcolor\": \"white\", \"startlinecolor\": \"#2a3f5f\"}, \"type\": \"carpet\"}], \"choropleth\": [{\"colorbar\": {\"outlinewidth\": 0, \"ticks\": \"\"}, \"type\": \"choropleth\"}], \"contour\": [{\"colorbar\": {\"outlinewidth\": 0, \"ticks\": \"\"}, \"colorscale\": [[0.0, \"#0d0887\"], [0.1111111111111111, \"#46039f\"], [0.2222222222222222, \"#7201a8\"], [0.3333333333333333, \"#9c179e\"], [0.4444444444444444, \"#bd3786\"], [0.5555555555555556, \"#d8576b\"], [0.6666666666666666, \"#ed7953\"], [0.7777777777777778, \"#fb9f3a\"], [0.8888888888888888, \"#fdca26\"], [1.0, \"#f0f921\"]], \"type\": \"contour\"}], \"contourcarpet\": [{\"colorbar\": {\"outlinewidth\": 0, \"ticks\": \"\"}, \"type\": \"contourcarpet\"}], \"heatmap\": [{\"colorbar\": {\"outlinewidth\": 0, \"ticks\": \"\"}, \"colorscale\": [[0.0, \"#0d0887\"], [0.1111111111111111, \"#46039f\"], [0.2222222222222222, \"#7201a8\"], [0.3333333333333333, \"#9c179e\"], [0.4444444444444444, \"#bd3786\"], [0.5555555555555556, \"#d8576b\"], [0.6666666666666666, \"#ed7953\"], [0.7777777777777778, \"#fb9f3a\"], [0.8888888888888888, \"#fdca26\"], [1.0, \"#f0f921\"]], \"type\": \"heatmap\"}], \"heatmapgl\": [{\"colorbar\": {\"outlinewidth\": 0, \"ticks\": \"\"}, \"colorscale\": [[0.0, \"#0d0887\"], [0.1111111111111111, \"#46039f\"], [0.2222222222222222, \"#7201a8\"], [0.3333333333333333, \"#9c179e\"], [0.4444444444444444, \"#bd3786\"], [0.5555555555555556, \"#d8576b\"], [0.6666666666666666, \"#ed7953\"], [0.7777777777777778, \"#fb9f3a\"], [0.8888888888888888, \"#fdca26\"], [1.0, \"#f0f921\"]], \"type\": \"heatmapgl\"}], \"histogram\": [{\"marker\": {\"colorbar\": {\"outlinewidth\": 0, \"ticks\": \"\"}}, \"type\": \"histogram\"}], \"histogram2d\": [{\"colorbar\": {\"outlinewidth\": 0, \"ticks\": \"\"}, \"colorscale\": [[0.0, \"#0d0887\"], [0.1111111111111111, \"#46039f\"], [0.2222222222222222, \"#7201a8\"], [0.3333333333333333, \"#9c179e\"], [0.4444444444444444, \"#bd3786\"], [0.5555555555555556, \"#d8576b\"], [0.6666666666666666, \"#ed7953\"], [0.7777777777777778, \"#fb9f3a\"], [0.8888888888888888, \"#fdca26\"], [1.0, \"#f0f921\"]], \"type\": \"histogram2d\"}], \"histogram2dcontour\": [{\"colorbar\": {\"outlinewidth\": 0, \"ticks\": \"\"}, \"colorscale\": [[0.0, \"#0d0887\"], [0.1111111111111111, \"#46039f\"], [0.2222222222222222, \"#7201a8\"], [0.3333333333333333, \"#9c179e\"], [0.4444444444444444, \"#bd3786\"], [0.5555555555555556, \"#d8576b\"], [0.6666666666666666, \"#ed7953\"], [0.7777777777777778, \"#fb9f3a\"], [0.8888888888888888, \"#fdca26\"], [1.0, \"#f0f921\"]], \"type\": \"histogram2dcontour\"}], \"mesh3d\": [{\"colorbar\": {\"outlinewidth\": 0, \"ticks\": \"\"}, \"type\": \"mesh3d\"}], \"parcoords\": [{\"line\": {\"colorbar\": {\"outlinewidth\": 0, \"ticks\": \"\"}}, \"type\": \"parcoords\"}], \"pie\": [{\"automargin\": true, \"type\": \"pie\"}], \"scatter\": [{\"marker\": {\"colorbar\": {\"outlinewidth\": 0, \"ticks\": \"\"}}, \"type\": \"scatter\"}], \"scatter3d\": [{\"line\": {\"colorbar\": {\"outlinewidth\": 0, \"ticks\": \"\"}}, \"marker\": {\"colorbar\": {\"outlinewidth\": 0, \"ticks\": \"\"}}, \"type\": \"scatter3d\"}], \"scattercarpet\": [{\"marker\": {\"colorbar\": {\"outlinewidth\": 0, \"ticks\": \"\"}}, \"type\": \"scattercarpet\"}], \"scattergeo\": [{\"marker\": {\"colorbar\": {\"outlinewidth\": 0, \"ticks\": \"\"}}, \"type\": \"scattergeo\"}], \"scattergl\": [{\"marker\": {\"colorbar\": {\"outlinewidth\": 0, \"ticks\": \"\"}}, \"type\": \"scattergl\"}], \"scattermapbox\": [{\"marker\": {\"colorbar\": {\"outlinewidth\": 0, \"ticks\": \"\"}}, \"type\": \"scattermapbox\"}], \"scatterpolar\": [{\"marker\": {\"colorbar\": {\"outlinewidth\": 0, \"ticks\": \"\"}}, \"type\": \"scatterpolar\"}], \"scatterpolargl\": [{\"marker\": {\"colorbar\": {\"outlinewidth\": 0, \"ticks\": \"\"}}, \"type\": \"scatterpolargl\"}], \"scatterternary\": [{\"marker\": {\"colorbar\": {\"outlinewidth\": 0, \"ticks\": \"\"}}, \"type\": \"scatterternary\"}], \"surface\": [{\"colorbar\": {\"outlinewidth\": 0, \"ticks\": \"\"}, \"colorscale\": [[0.0, \"#0d0887\"], [0.1111111111111111, \"#46039f\"], [0.2222222222222222, \"#7201a8\"], [0.3333333333333333, \"#9c179e\"], [0.4444444444444444, \"#bd3786\"], [0.5555555555555556, \"#d8576b\"], [0.6666666666666666, \"#ed7953\"], [0.7777777777777778, \"#fb9f3a\"], [0.8888888888888888, \"#fdca26\"], [1.0, \"#f0f921\"]], \"type\": \"surface\"}], \"table\": [{\"cells\": {\"fill\": {\"color\": \"#EBF0F8\"}, \"line\": {\"color\": \"white\"}}, \"header\": {\"fill\": {\"color\": \"#C8D4E3\"}, \"line\": {\"color\": \"white\"}}, \"type\": \"table\"}]}, \"layout\": {\"annotationdefaults\": {\"arrowcolor\": \"#2a3f5f\", \"arrowhead\": 0, \"arrowwidth\": 1}, \"autotypenumbers\": \"strict\", \"coloraxis\": {\"colorbar\": {\"outlinewidth\": 0, \"ticks\": \"\"}}, \"colorscale\": {\"diverging\": [[0, \"#8e0152\"], [0.1, \"#c51b7d\"], [0.2, \"#de77ae\"], [0.3, \"#f1b6da\"], [0.4, \"#fde0ef\"], [0.5, \"#f7f7f7\"], [0.6, \"#e6f5d0\"], [0.7, \"#b8e186\"], [0.8, \"#7fbc41\"], [0.9, \"#4d9221\"], [1, \"#276419\"]], \"sequential\": [[0.0, \"#0d0887\"], [0.1111111111111111, \"#46039f\"], [0.2222222222222222, \"#7201a8\"], [0.3333333333333333, \"#9c179e\"], [0.4444444444444444, \"#bd3786\"], [0.5555555555555556, \"#d8576b\"], [0.6666666666666666, \"#ed7953\"], [0.7777777777777778, \"#fb9f3a\"], [0.8888888888888888, \"#fdca26\"], [1.0, \"#f0f921\"]], \"sequentialminus\": [[0.0, \"#0d0887\"], [0.1111111111111111, \"#46039f\"], [0.2222222222222222, \"#7201a8\"], [0.3333333333333333, \"#9c179e\"], [0.4444444444444444, \"#bd3786\"], [0.5555555555555556, \"#d8576b\"], [0.6666666666666666, \"#ed7953\"], [0.7777777777777778, \"#fb9f3a\"], [0.8888888888888888, \"#fdca26\"], [1.0, \"#f0f921\"]]}, \"colorway\": [\"#636efa\", \"#EF553B\", \"#00cc96\", \"#ab63fa\", \"#FFA15A\", \"#19d3f3\", \"#FF6692\", \"#B6E880\", \"#FF97FF\", \"#FECB52\"], \"font\": {\"color\": \"#2a3f5f\"}, \"geo\": {\"bgcolor\": \"white\", \"lakecolor\": \"white\", \"landcolor\": \"#E5ECF6\", \"showlakes\": true, \"showland\": true, \"subunitcolor\": \"white\"}, \"hoverlabel\": {\"align\": \"left\"}, \"hovermode\": \"closest\", \"mapbox\": {\"style\": \"light\"}, \"paper_bgcolor\": \"white\", \"plot_bgcolor\": \"#E5ECF6\", \"polar\": {\"angularaxis\": {\"gridcolor\": \"white\", \"linecolor\": \"white\", \"ticks\": \"\"}, \"bgcolor\": \"#E5ECF6\", \"radialaxis\": {\"gridcolor\": \"white\", \"linecolor\": \"white\", \"ticks\": \"\"}}, \"scene\": {\"xaxis\": {\"backgroundcolor\": \"#E5ECF6\", \"gridcolor\": \"white\", \"gridwidth\": 2, \"linecolor\": \"white\", \"showbackground\": true, \"ticks\": \"\", \"zerolinecolor\": \"white\"}, \"yaxis\": {\"backgroundcolor\": \"#E5ECF6\", \"gridcolor\": \"white\", \"gridwidth\": 2, \"linecolor\": \"white\", \"showbackground\": true, \"ticks\": \"\", \"zerolinecolor\": \"white\"}, \"zaxis\": {\"backgroundcolor\": \"#E5ECF6\", \"gridcolor\": \"white\", \"gridwidth\": 2, \"linecolor\": \"white\", \"showbackground\": true, \"ticks\": \"\", \"zerolinecolor\": \"white\"}}, \"shapedefaults\": {\"line\": {\"color\": \"#2a3f5f\"}}, \"ternary\": {\"aaxis\": {\"gridcolor\": \"white\", \"linecolor\": \"white\", \"ticks\": \"\"}, \"baxis\": {\"gridcolor\": \"white\", \"linecolor\": \"white\", \"ticks\": \"\"}, \"bgcolor\": \"#E5ECF6\", \"caxis\": {\"gridcolor\": \"white\", \"linecolor\": \"white\", \"ticks\": \"\"}}, \"title\": {\"x\": 0.05}, \"xaxis\": {\"automargin\": true, \"gridcolor\": \"white\", \"linecolor\": \"white\", \"ticks\": \"\", \"title\": {\"standoff\": 15}, \"zerolinecolor\": \"white\", \"zerolinewidth\": 2}, \"yaxis\": {\"automargin\": true, \"gridcolor\": \"white\", \"linecolor\": \"white\", \"ticks\": \"\", \"title\": {\"standoff\": 15}, \"zerolinecolor\": \"white\", \"zerolinewidth\": 2}}}, \"title\": {\"text\": \"Tasa de Mortalidad Materna por cuidados prenatales\"}, \"xaxis\": {\"anchor\": \"y\", \"domain\": [0.0, 1.0], \"title\": {\"text\": \"timeline\"}}, \"yaxis\": {\"anchor\": \"x\", \"domain\": [0.0, 1.0], \"title\": {\"text\": \"value\"}}},                        {\"responsive\": true}                    ).then(function(){\n",
       "                            \n",
       "var gd = document.getElementById('c18bc528-9add-4a38-9db6-052b6de49e7a');\n",
       "var x = new MutationObserver(function (mutations, observer) {{\n",
       "        var display = window.getComputedStyle(gd).display;\n",
       "        if (!display || display === 'none') {{\n",
       "            console.log([gd, 'removed!']);\n",
       "            Plotly.purge(gd);\n",
       "            observer.disconnect();\n",
       "        }}\n",
       "}});\n",
       "\n",
       "// Listen for the removal of the full notebook cells\n",
       "var notebookContainer = gd.closest('#notebook-container');\n",
       "if (notebookContainer) {{\n",
       "    x.observe(notebookContainer, {childList: true});\n",
       "}}\n",
       "\n",
       "// Listen for the clearing of the current output cell\n",
       "var outputEl = gd.closest('.output');\n",
       "if (outputEl) {{\n",
       "    x.observe(outputEl, {childList: true});\n",
       "}}\n",
       "\n",
       "                        })                };                });            </script>        </div>"
      ]
     },
     "metadata": {},
     "output_type": "display_data"
    }
   ],
   "source": [
    "rates, logrank = survival(data_prenatal, 'ATENCIONPRENATAL', 'EDAD', 'SOBREVIVIOPARTO')\n",
    "print(logrank)\n",
    "rates.plot(kind='line',\n",
    "           title='Tasa de Mortalidad Materna por cuidados prenatales')"
   ]
  },
  {
   "cell_type": "code",
   "execution_count": 13,
   "metadata": {},
   "outputs": [
    {
     "data": {
      "text/plain": [
       "array([1, 3, 2, 0, 9, 8], dtype=int64)"
      ]
     },
     "execution_count": 13,
     "metadata": {},
     "output_type": "execute_result"
    }
   ],
   "source": [
    "data['TRIMESTREPRIMERCONSULTA'].unique()"
   ]
  },
  {
   "cell_type": "code",
   "execution_count": 14,
   "metadata": {},
   "outputs": [],
   "source": [
    "data_prim_consulta = data[((data['TRIMESTREPRIMERCONSULTA'] != 8) & (data['TRIMESTREPRIMERCONSULTA'] != 9)) & ((data['SOBREVIVIOPARTO'] == 1) | (data['SOBREVIVIOPARTO'] == 2)) & (data['EDAD'] != 999)]\n",
    "data_prim_consulta['TRIMESTREPRIMERCONSULTA'].replace(0, 'No tuvo', inplace=True)"
   ]
  },
  {
   "cell_type": "code",
   "execution_count": 15,
   "metadata": {},
   "outputs": [
    {
     "name": "stdout",
     "output_type": "stream",
     "text": [
      "<lifelines.StatisticalResult: logrank_test>\n",
      "               t_0 = -1\n",
      " null_distribution = chi squared\n",
      "degrees_of_freedom = 1\n",
      "         test_name = logrank_test\n",
      "\n",
      "---\n",
      " test_statistic      p  -log2(p)\n",
      "        3271.34 <0.005       inf\n"
     ]
    },
    {
     "data": {
      "application/vnd.plotly.v1+json": {
       "config": {
        "plotlyServerURL": "https://plot.ly"
       },
       "data": [
        {
         "hovertemplate": "variable=1<br>timeline=%{x}<br>value=%{y}<extra></extra>",
         "legendgroup": "1",
         "line": {
          "color": "#636efa",
          "dash": "solid"
         },
         "mode": "lines",
         "name": "1",
         "orientation": "v",
         "showlegend": true,
         "type": "scatter",
         "x": [
          0,
          9,
          10,
          11,
          12,
          13,
          14,
          15,
          16,
          17,
          18,
          19,
          20,
          21,
          22,
          23,
          24,
          25,
          26,
          27,
          28,
          29,
          30,
          31,
          32,
          33,
          34,
          35,
          36,
          37,
          38,
          39,
          40,
          41,
          42,
          43,
          44,
          45,
          46,
          47,
          48,
          49,
          50,
          51,
          52,
          53,
          54,
          55,
          56,
          57,
          58,
          59
         ],
         "xaxis": "x",
         "y": [
          1,
          0.9999931480150566,
          0.9999695467335823,
          0.9999276734922596,
          0.9998446883412719,
          0.9992714056009654,
          0.9963463693615785,
          0.9874677195375977,
          0.9680073209652463,
          0.9387615265613386,
          0.9010329747968763,
          0.8526389278013959,
          0.7988881512431019,
          0.7452409157906273,
          0.6911916972214442,
          0.6373510835272196,
          0.5811518643489699,
          0.5237520251422169,
          0.46667118390118495,
          0.411192945805367,
          0.3578167444240068,
          0.3075148002874791,
          0.26045993568270137,
          0.2185927850121203,
          0.18011279889881004,
          0.1460333097828074,
          0.11593406258755307,
          0.08957371517668991,
          0.06701393541471264,
          0.04837805903061164,
          0.03339276795829123,
          0.02219434056496901,
          0.013963583984018117,
          0.008462962737383218,
          0.00490906654647778,
          0.002735464655938995,
          0.001481551411204366,
          0.0008169088716455729,
          0.0005070468858489764,
          0.0003212819607031054,
          0.00021926351820496294,
          0.00015531165872851533,
          0.00011191575408378302,
          0.00007765582936425766,
          0.000051009221249071214,
          0.000035021256379959325,
          0.00002816927143605422,
          0.000020555954831715253,
          0.000009897311585640673,
          0.0000068519849439050885,
          0.0000015226633208677967,
          0
         ],
         "yaxis": "y"
        },
        {
         "hovertemplate": "variable=3<br>timeline=%{x}<br>value=%{y}<extra></extra>",
         "legendgroup": "3",
         "line": {
          "color": "#EF553B",
          "dash": "solid"
         },
         "mode": "lines",
         "name": "3",
         "orientation": "v",
         "showlegend": true,
         "type": "scatter",
         "x": [
          0,
          9,
          10,
          11,
          12,
          13,
          14,
          15,
          16,
          17,
          18,
          19,
          20,
          21,
          22,
          23,
          24,
          25,
          26,
          27,
          28,
          29,
          30,
          31,
          32,
          33,
          34,
          35,
          36,
          37,
          38,
          39,
          40,
          41,
          42,
          43,
          44,
          45,
          46,
          47,
          48,
          49,
          50,
          51,
          52,
          53,
          54,
          55,
          56,
          57,
          58,
          59
         ],
         "xaxis": "x",
         "y": [
          1,
          null,
          0.9999663865546209,
          0.9998487394957977,
          0.9995294117647056,
          0.9974789915966374,
          0.9894957983193273,
          0.9695966386554606,
          0.932991596638655,
          0.8811764705882347,
          0.8154453781512601,
          0.744974789915966,
          0.6746890756302515,
          0.6102352941176471,
          0.5495630252100839,
          0.49278991596638644,
          0.4383697478991597,
          0.3886890756302515,
          0.3392268907563025,
          0.2952941176470588,
          0.25408403361344495,
          0.21800000000000003,
          0.18411764705882339,
          0.156453781512605,
          0.1300504201680672,
          0.10754621848739492,
          0.08734453781512602,
          0.06971428571428569,
          0.055243697478991514,
          0.04231932773109241,
          0.030739495798319312,
          0.02149579831932772,
          0.014201680672268898,
          0.009294117647058817,
          0.005882352941176464,
          0.0034621848739495777,
          0.0015966386554621835,
          0.0009579831932773103,
          0.0005210084033613441,
          0.0003361344537815121,
          0.00023529411764705826,
          0.00016806722689075606,
          0.00013445378151260472,
          null,
          0.00010084033613445347,
          0.00006722689075630236,
          0.00003361344537815118,
          0.000016806722689075587,
          0,
          null,
          null,
          null
         ],
         "yaxis": "y"
        },
        {
         "hovertemplate": "variable=2<br>timeline=%{x}<br>value=%{y}<extra></extra>",
         "legendgroup": "2",
         "line": {
          "color": "#00cc96",
          "dash": "solid"
         },
         "mode": "lines",
         "name": "2",
         "orientation": "v",
         "showlegend": true,
         "type": "scatter",
         "x": [
          0,
          9,
          10,
          11,
          12,
          13,
          14,
          15,
          16,
          17,
          18,
          19,
          20,
          21,
          22,
          23,
          24,
          25,
          26,
          27,
          28,
          29,
          30,
          31,
          32,
          33,
          34,
          35,
          36,
          37,
          38,
          39,
          40,
          41,
          42,
          43,
          44,
          45,
          46,
          47,
          48,
          49,
          50,
          51,
          52,
          53,
          54,
          55,
          56,
          57,
          58,
          59
         ],
         "xaxis": "x",
         "y": [
          1,
          null,
          0.9999526263607227,
          0.9998883335645619,
          0.9996819198505695,
          0.9983317711311803,
          0.992112289060411,
          0.9748412137126382,
          0.9415984542658273,
          0.8928712824382539,
          0.8347539785397405,
          0.7679842178104576,
          0.699654510816417,
          0.6366035807703628,
          0.577376380180223,
          0.5201591754279695,
          0.46452221992873605,
          0.4099511713132309,
          0.35902789292203985,
          0.31127188069964074,
          0.2670249016151027,
          0.22798902285101305,
          0.19205273362817762,
          0.1608571921644001,
          0.13398957103169643,
          0.10937896542739481,
          0.08817249418826961,
          0.06924672529718501,
          0.053498374069023406,
          0.0400138060320178,
          0.029019737888421517,
          0.019984908112058965,
          0.01329168964852142,
          0.008253164728295256,
          0.004845646531742029,
          0.0026799944505165414,
          0.0013975223586658232,
          0.0006936854322675392,
          0.0004466657417527567,
          0.00029100949841467477,
          0.0002064137139918045,
          0.00015904007471499688,
          0.000118434098192019,
          0.00009136344717670043,
          0.0000778281216690411,
          0.00005075747065372248,
          0.000030454482392233492,
          0.000023686819638403816,
          null,
          0.00001691915688457414,
          0.000010151494130744485,
          0
         ],
         "yaxis": "y"
        },
        {
         "hovertemplate": "variable=No tuvo<br>timeline=%{x}<br>value=%{y}<extra></extra>",
         "legendgroup": "No tuvo",
         "line": {
          "color": "#ab63fa",
          "dash": "solid"
         },
         "mode": "lines",
         "name": "No tuvo",
         "orientation": "v",
         "showlegend": true,
         "type": "scatter",
         "x": [
          0,
          9,
          10,
          11,
          12,
          13,
          14,
          15,
          16,
          17,
          18,
          19,
          20,
          21,
          22,
          23,
          24,
          25,
          26,
          27,
          28,
          29,
          30,
          31,
          32,
          33,
          34,
          35,
          36,
          37,
          38,
          39,
          40,
          41,
          42,
          43,
          44,
          45,
          46,
          47,
          48,
          49,
          50,
          51,
          52,
          53,
          54,
          55,
          56,
          57,
          58,
          59
         ],
         "xaxis": "x",
         "y": [
          1,
          0.9999569151227907,
          0.9998922878069786,
          0.9997630331753545,
          0.9991383024558376,
          0.9959284791038345,
          0.984424816889272,
          0.9576260232658331,
          0.9140241275312357,
          0.8551271003877637,
          0.7862128392934082,
          0.7105342524773803,
          0.6373761309780268,
          0.5712623869021974,
          0.5123438173201201,
          0.45736751400258513,
          0.4057733735458853,
          0.3581645842309346,
          0.3140672124084443,
          0.2739121068504953,
          0.23718224903059013,
          0.20590262817750973,
          0.17546316242998686,
          0.15010771219302022,
          0.1268849633778543,
          0.1061826798793622,
          0.08705299439896591,
          0.07048685911245148,
          0.055838000861697504,
          0.043063334769495865,
          0.03220594571305469,
          0.022619560534252462,
          0.015725980180956476,
          0.010469625161568283,
          0.00650581645842309,
          0.003963808703145195,
          0.002542007755277897,
          0.0014218009478672972,
          0.0008401551055579485,
          0.000560103403705299,
          0.00030159414045669903,
          0.00019388194743644947,
          0.00015079707022834952,
          0.0001292546316242995,
          0.00006462731581214975,
          0.000043084877208099856,
          null,
          null,
          null,
          0.000021542438604049928,
          0,
          null
         ],
         "yaxis": "y"
        }
       ],
       "layout": {
        "legend": {
         "title": {
          "text": "variable"
         },
         "tracegroupgap": 0
        },
        "template": {
         "data": {
          "bar": [
           {
            "error_x": {
             "color": "#2a3f5f"
            },
            "error_y": {
             "color": "#2a3f5f"
            },
            "marker": {
             "line": {
              "color": "#E5ECF6",
              "width": 0.5
             }
            },
            "type": "bar"
           }
          ],
          "barpolar": [
           {
            "marker": {
             "line": {
              "color": "#E5ECF6",
              "width": 0.5
             }
            },
            "type": "barpolar"
           }
          ],
          "carpet": [
           {
            "aaxis": {
             "endlinecolor": "#2a3f5f",
             "gridcolor": "white",
             "linecolor": "white",
             "minorgridcolor": "white",
             "startlinecolor": "#2a3f5f"
            },
            "baxis": {
             "endlinecolor": "#2a3f5f",
             "gridcolor": "white",
             "linecolor": "white",
             "minorgridcolor": "white",
             "startlinecolor": "#2a3f5f"
            },
            "type": "carpet"
           }
          ],
          "choropleth": [
           {
            "colorbar": {
             "outlinewidth": 0,
             "ticks": ""
            },
            "type": "choropleth"
           }
          ],
          "contour": [
           {
            "colorbar": {
             "outlinewidth": 0,
             "ticks": ""
            },
            "colorscale": [
             [
              0,
              "#0d0887"
             ],
             [
              0.1111111111111111,
              "#46039f"
             ],
             [
              0.2222222222222222,
              "#7201a8"
             ],
             [
              0.3333333333333333,
              "#9c179e"
             ],
             [
              0.4444444444444444,
              "#bd3786"
             ],
             [
              0.5555555555555556,
              "#d8576b"
             ],
             [
              0.6666666666666666,
              "#ed7953"
             ],
             [
              0.7777777777777778,
              "#fb9f3a"
             ],
             [
              0.8888888888888888,
              "#fdca26"
             ],
             [
              1,
              "#f0f921"
             ]
            ],
            "type": "contour"
           }
          ],
          "contourcarpet": [
           {
            "colorbar": {
             "outlinewidth": 0,
             "ticks": ""
            },
            "type": "contourcarpet"
           }
          ],
          "heatmap": [
           {
            "colorbar": {
             "outlinewidth": 0,
             "ticks": ""
            },
            "colorscale": [
             [
              0,
              "#0d0887"
             ],
             [
              0.1111111111111111,
              "#46039f"
             ],
             [
              0.2222222222222222,
              "#7201a8"
             ],
             [
              0.3333333333333333,
              "#9c179e"
             ],
             [
              0.4444444444444444,
              "#bd3786"
             ],
             [
              0.5555555555555556,
              "#d8576b"
             ],
             [
              0.6666666666666666,
              "#ed7953"
             ],
             [
              0.7777777777777778,
              "#fb9f3a"
             ],
             [
              0.8888888888888888,
              "#fdca26"
             ],
             [
              1,
              "#f0f921"
             ]
            ],
            "type": "heatmap"
           }
          ],
          "heatmapgl": [
           {
            "colorbar": {
             "outlinewidth": 0,
             "ticks": ""
            },
            "colorscale": [
             [
              0,
              "#0d0887"
             ],
             [
              0.1111111111111111,
              "#46039f"
             ],
             [
              0.2222222222222222,
              "#7201a8"
             ],
             [
              0.3333333333333333,
              "#9c179e"
             ],
             [
              0.4444444444444444,
              "#bd3786"
             ],
             [
              0.5555555555555556,
              "#d8576b"
             ],
             [
              0.6666666666666666,
              "#ed7953"
             ],
             [
              0.7777777777777778,
              "#fb9f3a"
             ],
             [
              0.8888888888888888,
              "#fdca26"
             ],
             [
              1,
              "#f0f921"
             ]
            ],
            "type": "heatmapgl"
           }
          ],
          "histogram": [
           {
            "marker": {
             "colorbar": {
              "outlinewidth": 0,
              "ticks": ""
             }
            },
            "type": "histogram"
           }
          ],
          "histogram2d": [
           {
            "colorbar": {
             "outlinewidth": 0,
             "ticks": ""
            },
            "colorscale": [
             [
              0,
              "#0d0887"
             ],
             [
              0.1111111111111111,
              "#46039f"
             ],
             [
              0.2222222222222222,
              "#7201a8"
             ],
             [
              0.3333333333333333,
              "#9c179e"
             ],
             [
              0.4444444444444444,
              "#bd3786"
             ],
             [
              0.5555555555555556,
              "#d8576b"
             ],
             [
              0.6666666666666666,
              "#ed7953"
             ],
             [
              0.7777777777777778,
              "#fb9f3a"
             ],
             [
              0.8888888888888888,
              "#fdca26"
             ],
             [
              1,
              "#f0f921"
             ]
            ],
            "type": "histogram2d"
           }
          ],
          "histogram2dcontour": [
           {
            "colorbar": {
             "outlinewidth": 0,
             "ticks": ""
            },
            "colorscale": [
             [
              0,
              "#0d0887"
             ],
             [
              0.1111111111111111,
              "#46039f"
             ],
             [
              0.2222222222222222,
              "#7201a8"
             ],
             [
              0.3333333333333333,
              "#9c179e"
             ],
             [
              0.4444444444444444,
              "#bd3786"
             ],
             [
              0.5555555555555556,
              "#d8576b"
             ],
             [
              0.6666666666666666,
              "#ed7953"
             ],
             [
              0.7777777777777778,
              "#fb9f3a"
             ],
             [
              0.8888888888888888,
              "#fdca26"
             ],
             [
              1,
              "#f0f921"
             ]
            ],
            "type": "histogram2dcontour"
           }
          ],
          "mesh3d": [
           {
            "colorbar": {
             "outlinewidth": 0,
             "ticks": ""
            },
            "type": "mesh3d"
           }
          ],
          "parcoords": [
           {
            "line": {
             "colorbar": {
              "outlinewidth": 0,
              "ticks": ""
             }
            },
            "type": "parcoords"
           }
          ],
          "pie": [
           {
            "automargin": true,
            "type": "pie"
           }
          ],
          "scatter": [
           {
            "marker": {
             "colorbar": {
              "outlinewidth": 0,
              "ticks": ""
             }
            },
            "type": "scatter"
           }
          ],
          "scatter3d": [
           {
            "line": {
             "colorbar": {
              "outlinewidth": 0,
              "ticks": ""
             }
            },
            "marker": {
             "colorbar": {
              "outlinewidth": 0,
              "ticks": ""
             }
            },
            "type": "scatter3d"
           }
          ],
          "scattercarpet": [
           {
            "marker": {
             "colorbar": {
              "outlinewidth": 0,
              "ticks": ""
             }
            },
            "type": "scattercarpet"
           }
          ],
          "scattergeo": [
           {
            "marker": {
             "colorbar": {
              "outlinewidth": 0,
              "ticks": ""
             }
            },
            "type": "scattergeo"
           }
          ],
          "scattergl": [
           {
            "marker": {
             "colorbar": {
              "outlinewidth": 0,
              "ticks": ""
             }
            },
            "type": "scattergl"
           }
          ],
          "scattermapbox": [
           {
            "marker": {
             "colorbar": {
              "outlinewidth": 0,
              "ticks": ""
             }
            },
            "type": "scattermapbox"
           }
          ],
          "scatterpolar": [
           {
            "marker": {
             "colorbar": {
              "outlinewidth": 0,
              "ticks": ""
             }
            },
            "type": "scatterpolar"
           }
          ],
          "scatterpolargl": [
           {
            "marker": {
             "colorbar": {
              "outlinewidth": 0,
              "ticks": ""
             }
            },
            "type": "scatterpolargl"
           }
          ],
          "scatterternary": [
           {
            "marker": {
             "colorbar": {
              "outlinewidth": 0,
              "ticks": ""
             }
            },
            "type": "scatterternary"
           }
          ],
          "surface": [
           {
            "colorbar": {
             "outlinewidth": 0,
             "ticks": ""
            },
            "colorscale": [
             [
              0,
              "#0d0887"
             ],
             [
              0.1111111111111111,
              "#46039f"
             ],
             [
              0.2222222222222222,
              "#7201a8"
             ],
             [
              0.3333333333333333,
              "#9c179e"
             ],
             [
              0.4444444444444444,
              "#bd3786"
             ],
             [
              0.5555555555555556,
              "#d8576b"
             ],
             [
              0.6666666666666666,
              "#ed7953"
             ],
             [
              0.7777777777777778,
              "#fb9f3a"
             ],
             [
              0.8888888888888888,
              "#fdca26"
             ],
             [
              1,
              "#f0f921"
             ]
            ],
            "type": "surface"
           }
          ],
          "table": [
           {
            "cells": {
             "fill": {
              "color": "#EBF0F8"
             },
             "line": {
              "color": "white"
             }
            },
            "header": {
             "fill": {
              "color": "#C8D4E3"
             },
             "line": {
              "color": "white"
             }
            },
            "type": "table"
           }
          ]
         },
         "layout": {
          "annotationdefaults": {
           "arrowcolor": "#2a3f5f",
           "arrowhead": 0,
           "arrowwidth": 1
          },
          "autotypenumbers": "strict",
          "coloraxis": {
           "colorbar": {
            "outlinewidth": 0,
            "ticks": ""
           }
          },
          "colorscale": {
           "diverging": [
            [
             0,
             "#8e0152"
            ],
            [
             0.1,
             "#c51b7d"
            ],
            [
             0.2,
             "#de77ae"
            ],
            [
             0.3,
             "#f1b6da"
            ],
            [
             0.4,
             "#fde0ef"
            ],
            [
             0.5,
             "#f7f7f7"
            ],
            [
             0.6,
             "#e6f5d0"
            ],
            [
             0.7,
             "#b8e186"
            ],
            [
             0.8,
             "#7fbc41"
            ],
            [
             0.9,
             "#4d9221"
            ],
            [
             1,
             "#276419"
            ]
           ],
           "sequential": [
            [
             0,
             "#0d0887"
            ],
            [
             0.1111111111111111,
             "#46039f"
            ],
            [
             0.2222222222222222,
             "#7201a8"
            ],
            [
             0.3333333333333333,
             "#9c179e"
            ],
            [
             0.4444444444444444,
             "#bd3786"
            ],
            [
             0.5555555555555556,
             "#d8576b"
            ],
            [
             0.6666666666666666,
             "#ed7953"
            ],
            [
             0.7777777777777778,
             "#fb9f3a"
            ],
            [
             0.8888888888888888,
             "#fdca26"
            ],
            [
             1,
             "#f0f921"
            ]
           ],
           "sequentialminus": [
            [
             0,
             "#0d0887"
            ],
            [
             0.1111111111111111,
             "#46039f"
            ],
            [
             0.2222222222222222,
             "#7201a8"
            ],
            [
             0.3333333333333333,
             "#9c179e"
            ],
            [
             0.4444444444444444,
             "#bd3786"
            ],
            [
             0.5555555555555556,
             "#d8576b"
            ],
            [
             0.6666666666666666,
             "#ed7953"
            ],
            [
             0.7777777777777778,
             "#fb9f3a"
            ],
            [
             0.8888888888888888,
             "#fdca26"
            ],
            [
             1,
             "#f0f921"
            ]
           ]
          },
          "colorway": [
           "#636efa",
           "#EF553B",
           "#00cc96",
           "#ab63fa",
           "#FFA15A",
           "#19d3f3",
           "#FF6692",
           "#B6E880",
           "#FF97FF",
           "#FECB52"
          ],
          "font": {
           "color": "#2a3f5f"
          },
          "geo": {
           "bgcolor": "white",
           "lakecolor": "white",
           "landcolor": "#E5ECF6",
           "showlakes": true,
           "showland": true,
           "subunitcolor": "white"
          },
          "hoverlabel": {
           "align": "left"
          },
          "hovermode": "closest",
          "mapbox": {
           "style": "light"
          },
          "paper_bgcolor": "white",
          "plot_bgcolor": "#E5ECF6",
          "polar": {
           "angularaxis": {
            "gridcolor": "white",
            "linecolor": "white",
            "ticks": ""
           },
           "bgcolor": "#E5ECF6",
           "radialaxis": {
            "gridcolor": "white",
            "linecolor": "white",
            "ticks": ""
           }
          },
          "scene": {
           "xaxis": {
            "backgroundcolor": "#E5ECF6",
            "gridcolor": "white",
            "gridwidth": 2,
            "linecolor": "white",
            "showbackground": true,
            "ticks": "",
            "zerolinecolor": "white"
           },
           "yaxis": {
            "backgroundcolor": "#E5ECF6",
            "gridcolor": "white",
            "gridwidth": 2,
            "linecolor": "white",
            "showbackground": true,
            "ticks": "",
            "zerolinecolor": "white"
           },
           "zaxis": {
            "backgroundcolor": "#E5ECF6",
            "gridcolor": "white",
            "gridwidth": 2,
            "linecolor": "white",
            "showbackground": true,
            "ticks": "",
            "zerolinecolor": "white"
           }
          },
          "shapedefaults": {
           "line": {
            "color": "#2a3f5f"
           }
          },
          "ternary": {
           "aaxis": {
            "gridcolor": "white",
            "linecolor": "white",
            "ticks": ""
           },
           "baxis": {
            "gridcolor": "white",
            "linecolor": "white",
            "ticks": ""
           },
           "bgcolor": "#E5ECF6",
           "caxis": {
            "gridcolor": "white",
            "linecolor": "white",
            "ticks": ""
           }
          },
          "title": {
           "x": 0.05
          },
          "xaxis": {
           "automargin": true,
           "gridcolor": "white",
           "linecolor": "white",
           "ticks": "",
           "title": {
            "standoff": 15
           },
           "zerolinecolor": "white",
           "zerolinewidth": 2
          },
          "yaxis": {
           "automargin": true,
           "gridcolor": "white",
           "linecolor": "white",
           "ticks": "",
           "title": {
            "standoff": 15
           },
           "zerolinecolor": "white",
           "zerolinewidth": 2
          }
         }
        },
        "title": {
         "text": "Tasa de Mortalidad Materna por trimestre de primer cita"
        },
        "xaxis": {
         "anchor": "y",
         "domain": [
          0,
          1
         ],
         "title": {
          "text": "timeline"
         }
        },
        "yaxis": {
         "anchor": "x",
         "domain": [
          0,
          1
         ],
         "title": {
          "text": "value"
         }
        }
       }
      },
      "text/html": [
       "<div>                            <div id=\"d7e59e8d-061b-4392-ab51-7b9b729089c0\" class=\"plotly-graph-div\" style=\"height:525px; width:100%;\"></div>            <script type=\"text/javascript\">                require([\"plotly\"], function(Plotly) {                    window.PLOTLYENV=window.PLOTLYENV || {};                                    if (document.getElementById(\"d7e59e8d-061b-4392-ab51-7b9b729089c0\")) {                    Plotly.newPlot(                        \"d7e59e8d-061b-4392-ab51-7b9b729089c0\",                        [{\"hovertemplate\": \"variable=1<br>timeline=%{x}<br>value=%{y}<extra></extra>\", \"legendgroup\": \"1\", \"line\": {\"color\": \"#636efa\", \"dash\": \"solid\"}, \"mode\": \"lines\", \"name\": \"1\", \"orientation\": \"v\", \"showlegend\": true, \"type\": \"scatter\", \"x\": [0.0, 9.0, 10.0, 11.0, 12.0, 13.0, 14.0, 15.0, 16.0, 17.0, 18.0, 19.0, 20.0, 21.0, 22.0, 23.0, 24.0, 25.0, 26.0, 27.0, 28.0, 29.0, 30.0, 31.0, 32.0, 33.0, 34.0, 35.0, 36.0, 37.0, 38.0, 39.0, 40.0, 41.0, 42.0, 43.0, 44.0, 45.0, 46.0, 47.0, 48.0, 49.0, 50.0, 51.0, 52.0, 53.0, 54.0, 55.0, 56.0, 57.0, 58.0, 59.0], \"xaxis\": \"x\", \"y\": [1.0, 0.9999931480150566, 0.9999695467335823, 0.9999276734922596, 0.9998446883412719, 0.9992714056009654, 0.9963463693615785, 0.9874677195375977, 0.9680073209652463, 0.9387615265613386, 0.9010329747968763, 0.8526389278013959, 0.7988881512431019, 0.7452409157906273, 0.6911916972214442, 0.6373510835272196, 0.5811518643489699, 0.5237520251422169, 0.46667118390118495, 0.411192945805367, 0.3578167444240068, 0.3075148002874791, 0.26045993568270137, 0.2185927850121203, 0.18011279889881004, 0.1460333097828074, 0.11593406258755307, 0.08957371517668991, 0.06701393541471264, 0.04837805903061164, 0.03339276795829123, 0.02219434056496901, 0.013963583984018117, 0.008462962737383218, 0.00490906654647778, 0.002735464655938995, 0.001481551411204366, 0.0008169088716455729, 0.0005070468858489764, 0.0003212819607031054, 0.00021926351820496294, 0.00015531165872851533, 0.00011191575408378302, 7.765582936425766e-05, 5.1009221249071214e-05, 3.5021256379959325e-05, 2.816927143605422e-05, 2.0555954831715253e-05, 9.897311585640673e-06, 6.8519849439050885e-06, 1.5226633208677967e-06, 0.0], \"yaxis\": \"y\"}, {\"hovertemplate\": \"variable=3<br>timeline=%{x}<br>value=%{y}<extra></extra>\", \"legendgroup\": \"3\", \"line\": {\"color\": \"#EF553B\", \"dash\": \"solid\"}, \"mode\": \"lines\", \"name\": \"3\", \"orientation\": \"v\", \"showlegend\": true, \"type\": \"scatter\", \"x\": [0.0, 9.0, 10.0, 11.0, 12.0, 13.0, 14.0, 15.0, 16.0, 17.0, 18.0, 19.0, 20.0, 21.0, 22.0, 23.0, 24.0, 25.0, 26.0, 27.0, 28.0, 29.0, 30.0, 31.0, 32.0, 33.0, 34.0, 35.0, 36.0, 37.0, 38.0, 39.0, 40.0, 41.0, 42.0, 43.0, 44.0, 45.0, 46.0, 47.0, 48.0, 49.0, 50.0, 51.0, 52.0, 53.0, 54.0, 55.0, 56.0, 57.0, 58.0, 59.0], \"xaxis\": \"x\", \"y\": [1.0, null, 0.9999663865546209, 0.9998487394957977, 0.9995294117647056, 0.9974789915966374, 0.9894957983193273, 0.9695966386554606, 0.932991596638655, 0.8811764705882347, 0.8154453781512601, 0.744974789915966, 0.6746890756302515, 0.6102352941176471, 0.5495630252100839, 0.49278991596638644, 0.4383697478991597, 0.3886890756302515, 0.3392268907563025, 0.2952941176470588, 0.25408403361344495, 0.21800000000000003, 0.18411764705882339, 0.156453781512605, 0.1300504201680672, 0.10754621848739492, 0.08734453781512602, 0.06971428571428569, 0.055243697478991514, 0.04231932773109241, 0.030739495798319312, 0.02149579831932772, 0.014201680672268898, 0.009294117647058817, 0.005882352941176464, 0.0034621848739495777, 0.0015966386554621835, 0.0009579831932773103, 0.0005210084033613441, 0.0003361344537815121, 0.00023529411764705826, 0.00016806722689075606, 0.00013445378151260472, null, 0.00010084033613445347, 6.722689075630236e-05, 3.361344537815118e-05, 1.6806722689075587e-05, 0.0, null, null, null], \"yaxis\": \"y\"}, {\"hovertemplate\": \"variable=2<br>timeline=%{x}<br>value=%{y}<extra></extra>\", \"legendgroup\": \"2\", \"line\": {\"color\": \"#00cc96\", \"dash\": \"solid\"}, \"mode\": \"lines\", \"name\": \"2\", \"orientation\": \"v\", \"showlegend\": true, \"type\": \"scatter\", \"x\": [0.0, 9.0, 10.0, 11.0, 12.0, 13.0, 14.0, 15.0, 16.0, 17.0, 18.0, 19.0, 20.0, 21.0, 22.0, 23.0, 24.0, 25.0, 26.0, 27.0, 28.0, 29.0, 30.0, 31.0, 32.0, 33.0, 34.0, 35.0, 36.0, 37.0, 38.0, 39.0, 40.0, 41.0, 42.0, 43.0, 44.0, 45.0, 46.0, 47.0, 48.0, 49.0, 50.0, 51.0, 52.0, 53.0, 54.0, 55.0, 56.0, 57.0, 58.0, 59.0], \"xaxis\": \"x\", \"y\": [1.0, null, 0.9999526263607227, 0.9998883335645619, 0.9996819198505695, 0.9983317711311803, 0.992112289060411, 0.9748412137126382, 0.9415984542658273, 0.8928712824382539, 0.8347539785397405, 0.7679842178104576, 0.699654510816417, 0.6366035807703628, 0.577376380180223, 0.5201591754279695, 0.46452221992873605, 0.4099511713132309, 0.35902789292203985, 0.31127188069964074, 0.2670249016151027, 0.22798902285101305, 0.19205273362817762, 0.1608571921644001, 0.13398957103169643, 0.10937896542739481, 0.08817249418826961, 0.06924672529718501, 0.053498374069023406, 0.0400138060320178, 0.029019737888421517, 0.019984908112058965, 0.01329168964852142, 0.008253164728295256, 0.004845646531742029, 0.0026799944505165414, 0.0013975223586658232, 0.0006936854322675392, 0.0004466657417527567, 0.00029100949841467477, 0.0002064137139918045, 0.00015904007471499688, 0.000118434098192019, 9.136344717670043e-05, 7.78281216690411e-05, 5.075747065372248e-05, 3.0454482392233492e-05, 2.3686819638403816e-05, null, 1.691915688457414e-05, 1.0151494130744485e-05, 0.0], \"yaxis\": \"y\"}, {\"hovertemplate\": \"variable=No tuvo<br>timeline=%{x}<br>value=%{y}<extra></extra>\", \"legendgroup\": \"No tuvo\", \"line\": {\"color\": \"#ab63fa\", \"dash\": \"solid\"}, \"mode\": \"lines\", \"name\": \"No tuvo\", \"orientation\": \"v\", \"showlegend\": true, \"type\": \"scatter\", \"x\": [0.0, 9.0, 10.0, 11.0, 12.0, 13.0, 14.0, 15.0, 16.0, 17.0, 18.0, 19.0, 20.0, 21.0, 22.0, 23.0, 24.0, 25.0, 26.0, 27.0, 28.0, 29.0, 30.0, 31.0, 32.0, 33.0, 34.0, 35.0, 36.0, 37.0, 38.0, 39.0, 40.0, 41.0, 42.0, 43.0, 44.0, 45.0, 46.0, 47.0, 48.0, 49.0, 50.0, 51.0, 52.0, 53.0, 54.0, 55.0, 56.0, 57.0, 58.0, 59.0], \"xaxis\": \"x\", \"y\": [1.0, 0.9999569151227907, 0.9998922878069786, 0.9997630331753545, 0.9991383024558376, 0.9959284791038345, 0.984424816889272, 0.9576260232658331, 0.9140241275312357, 0.8551271003877637, 0.7862128392934082, 0.7105342524773803, 0.6373761309780268, 0.5712623869021974, 0.5123438173201201, 0.45736751400258513, 0.4057733735458853, 0.3581645842309346, 0.3140672124084443, 0.2739121068504953, 0.23718224903059013, 0.20590262817750973, 0.17546316242998686, 0.15010771219302022, 0.1268849633778543, 0.1061826798793622, 0.08705299439896591, 0.07048685911245148, 0.055838000861697504, 0.043063334769495865, 0.03220594571305469, 0.022619560534252462, 0.015725980180956476, 0.010469625161568283, 0.00650581645842309, 0.003963808703145195, 0.002542007755277897, 0.0014218009478672972, 0.0008401551055579485, 0.000560103403705299, 0.00030159414045669903, 0.00019388194743644947, 0.00015079707022834952, 0.0001292546316242995, 6.462731581214975e-05, 4.3084877208099856e-05, null, null, null, 2.1542438604049928e-05, 0.0, null], \"yaxis\": \"y\"}],                        {\"legend\": {\"title\": {\"text\": \"variable\"}, \"tracegroupgap\": 0}, \"template\": {\"data\": {\"bar\": [{\"error_x\": {\"color\": \"#2a3f5f\"}, \"error_y\": {\"color\": \"#2a3f5f\"}, \"marker\": {\"line\": {\"color\": \"#E5ECF6\", \"width\": 0.5}}, \"type\": \"bar\"}], \"barpolar\": [{\"marker\": {\"line\": {\"color\": \"#E5ECF6\", \"width\": 0.5}}, \"type\": \"barpolar\"}], \"carpet\": [{\"aaxis\": {\"endlinecolor\": \"#2a3f5f\", \"gridcolor\": \"white\", \"linecolor\": \"white\", \"minorgridcolor\": \"white\", \"startlinecolor\": \"#2a3f5f\"}, \"baxis\": {\"endlinecolor\": \"#2a3f5f\", \"gridcolor\": \"white\", \"linecolor\": \"white\", \"minorgridcolor\": \"white\", \"startlinecolor\": \"#2a3f5f\"}, \"type\": \"carpet\"}], \"choropleth\": [{\"colorbar\": {\"outlinewidth\": 0, \"ticks\": \"\"}, \"type\": \"choropleth\"}], \"contour\": [{\"colorbar\": {\"outlinewidth\": 0, \"ticks\": \"\"}, \"colorscale\": [[0.0, \"#0d0887\"], [0.1111111111111111, \"#46039f\"], [0.2222222222222222, \"#7201a8\"], [0.3333333333333333, \"#9c179e\"], [0.4444444444444444, \"#bd3786\"], [0.5555555555555556, \"#d8576b\"], [0.6666666666666666, \"#ed7953\"], [0.7777777777777778, \"#fb9f3a\"], [0.8888888888888888, \"#fdca26\"], [1.0, \"#f0f921\"]], \"type\": \"contour\"}], \"contourcarpet\": [{\"colorbar\": {\"outlinewidth\": 0, \"ticks\": \"\"}, \"type\": \"contourcarpet\"}], \"heatmap\": [{\"colorbar\": {\"outlinewidth\": 0, \"ticks\": \"\"}, \"colorscale\": [[0.0, \"#0d0887\"], [0.1111111111111111, \"#46039f\"], [0.2222222222222222, \"#7201a8\"], [0.3333333333333333, \"#9c179e\"], [0.4444444444444444, \"#bd3786\"], [0.5555555555555556, \"#d8576b\"], [0.6666666666666666, \"#ed7953\"], [0.7777777777777778, \"#fb9f3a\"], [0.8888888888888888, \"#fdca26\"], [1.0, \"#f0f921\"]], \"type\": \"heatmap\"}], \"heatmapgl\": [{\"colorbar\": {\"outlinewidth\": 0, \"ticks\": \"\"}, \"colorscale\": [[0.0, \"#0d0887\"], [0.1111111111111111, \"#46039f\"], [0.2222222222222222, \"#7201a8\"], [0.3333333333333333, \"#9c179e\"], [0.4444444444444444, \"#bd3786\"], [0.5555555555555556, \"#d8576b\"], [0.6666666666666666, \"#ed7953\"], [0.7777777777777778, \"#fb9f3a\"], [0.8888888888888888, \"#fdca26\"], [1.0, \"#f0f921\"]], \"type\": \"heatmapgl\"}], \"histogram\": [{\"marker\": {\"colorbar\": {\"outlinewidth\": 0, \"ticks\": \"\"}}, \"type\": \"histogram\"}], \"histogram2d\": [{\"colorbar\": {\"outlinewidth\": 0, \"ticks\": \"\"}, \"colorscale\": [[0.0, \"#0d0887\"], [0.1111111111111111, \"#46039f\"], [0.2222222222222222, \"#7201a8\"], [0.3333333333333333, \"#9c179e\"], [0.4444444444444444, \"#bd3786\"], [0.5555555555555556, \"#d8576b\"], [0.6666666666666666, \"#ed7953\"], [0.7777777777777778, \"#fb9f3a\"], [0.8888888888888888, \"#fdca26\"], [1.0, \"#f0f921\"]], \"type\": \"histogram2d\"}], \"histogram2dcontour\": [{\"colorbar\": {\"outlinewidth\": 0, \"ticks\": \"\"}, \"colorscale\": [[0.0, \"#0d0887\"], [0.1111111111111111, \"#46039f\"], [0.2222222222222222, \"#7201a8\"], [0.3333333333333333, \"#9c179e\"], [0.4444444444444444, \"#bd3786\"], [0.5555555555555556, \"#d8576b\"], [0.6666666666666666, \"#ed7953\"], [0.7777777777777778, \"#fb9f3a\"], [0.8888888888888888, \"#fdca26\"], [1.0, \"#f0f921\"]], \"type\": \"histogram2dcontour\"}], \"mesh3d\": [{\"colorbar\": {\"outlinewidth\": 0, \"ticks\": \"\"}, \"type\": \"mesh3d\"}], \"parcoords\": [{\"line\": {\"colorbar\": {\"outlinewidth\": 0, \"ticks\": \"\"}}, \"type\": \"parcoords\"}], \"pie\": [{\"automargin\": true, \"type\": \"pie\"}], \"scatter\": [{\"marker\": {\"colorbar\": {\"outlinewidth\": 0, \"ticks\": \"\"}}, \"type\": \"scatter\"}], \"scatter3d\": [{\"line\": {\"colorbar\": {\"outlinewidth\": 0, \"ticks\": \"\"}}, \"marker\": {\"colorbar\": {\"outlinewidth\": 0, \"ticks\": \"\"}}, \"type\": \"scatter3d\"}], \"scattercarpet\": [{\"marker\": {\"colorbar\": {\"outlinewidth\": 0, \"ticks\": \"\"}}, \"type\": \"scattercarpet\"}], \"scattergeo\": [{\"marker\": {\"colorbar\": {\"outlinewidth\": 0, \"ticks\": \"\"}}, \"type\": \"scattergeo\"}], \"scattergl\": [{\"marker\": {\"colorbar\": {\"outlinewidth\": 0, \"ticks\": \"\"}}, \"type\": \"scattergl\"}], \"scattermapbox\": [{\"marker\": {\"colorbar\": {\"outlinewidth\": 0, \"ticks\": \"\"}}, \"type\": \"scattermapbox\"}], \"scatterpolar\": [{\"marker\": {\"colorbar\": {\"outlinewidth\": 0, \"ticks\": \"\"}}, \"type\": \"scatterpolar\"}], \"scatterpolargl\": [{\"marker\": {\"colorbar\": {\"outlinewidth\": 0, \"ticks\": \"\"}}, \"type\": \"scatterpolargl\"}], \"scatterternary\": [{\"marker\": {\"colorbar\": {\"outlinewidth\": 0, \"ticks\": \"\"}}, \"type\": \"scatterternary\"}], \"surface\": [{\"colorbar\": {\"outlinewidth\": 0, \"ticks\": \"\"}, \"colorscale\": [[0.0, \"#0d0887\"], [0.1111111111111111, \"#46039f\"], [0.2222222222222222, \"#7201a8\"], [0.3333333333333333, \"#9c179e\"], [0.4444444444444444, \"#bd3786\"], [0.5555555555555556, \"#d8576b\"], [0.6666666666666666, \"#ed7953\"], [0.7777777777777778, \"#fb9f3a\"], [0.8888888888888888, \"#fdca26\"], [1.0, \"#f0f921\"]], \"type\": \"surface\"}], \"table\": [{\"cells\": {\"fill\": {\"color\": \"#EBF0F8\"}, \"line\": {\"color\": \"white\"}}, \"header\": {\"fill\": {\"color\": \"#C8D4E3\"}, \"line\": {\"color\": \"white\"}}, \"type\": \"table\"}]}, \"layout\": {\"annotationdefaults\": {\"arrowcolor\": \"#2a3f5f\", \"arrowhead\": 0, \"arrowwidth\": 1}, \"autotypenumbers\": \"strict\", \"coloraxis\": {\"colorbar\": {\"outlinewidth\": 0, \"ticks\": \"\"}}, \"colorscale\": {\"diverging\": [[0, \"#8e0152\"], [0.1, \"#c51b7d\"], [0.2, \"#de77ae\"], [0.3, \"#f1b6da\"], [0.4, \"#fde0ef\"], [0.5, \"#f7f7f7\"], [0.6, \"#e6f5d0\"], [0.7, \"#b8e186\"], [0.8, \"#7fbc41\"], [0.9, \"#4d9221\"], [1, \"#276419\"]], \"sequential\": [[0.0, \"#0d0887\"], [0.1111111111111111, \"#46039f\"], [0.2222222222222222, \"#7201a8\"], [0.3333333333333333, \"#9c179e\"], [0.4444444444444444, \"#bd3786\"], [0.5555555555555556, \"#d8576b\"], [0.6666666666666666, \"#ed7953\"], [0.7777777777777778, \"#fb9f3a\"], [0.8888888888888888, \"#fdca26\"], [1.0, \"#f0f921\"]], \"sequentialminus\": [[0.0, \"#0d0887\"], [0.1111111111111111, \"#46039f\"], [0.2222222222222222, \"#7201a8\"], [0.3333333333333333, \"#9c179e\"], [0.4444444444444444, \"#bd3786\"], [0.5555555555555556, \"#d8576b\"], [0.6666666666666666, \"#ed7953\"], [0.7777777777777778, \"#fb9f3a\"], [0.8888888888888888, \"#fdca26\"], [1.0, \"#f0f921\"]]}, \"colorway\": [\"#636efa\", \"#EF553B\", \"#00cc96\", \"#ab63fa\", \"#FFA15A\", \"#19d3f3\", \"#FF6692\", \"#B6E880\", \"#FF97FF\", \"#FECB52\"], \"font\": {\"color\": \"#2a3f5f\"}, \"geo\": {\"bgcolor\": \"white\", \"lakecolor\": \"white\", \"landcolor\": \"#E5ECF6\", \"showlakes\": true, \"showland\": true, \"subunitcolor\": \"white\"}, \"hoverlabel\": {\"align\": \"left\"}, \"hovermode\": \"closest\", \"mapbox\": {\"style\": \"light\"}, \"paper_bgcolor\": \"white\", \"plot_bgcolor\": \"#E5ECF6\", \"polar\": {\"angularaxis\": {\"gridcolor\": \"white\", \"linecolor\": \"white\", \"ticks\": \"\"}, \"bgcolor\": \"#E5ECF6\", \"radialaxis\": {\"gridcolor\": \"white\", \"linecolor\": \"white\", \"ticks\": \"\"}}, \"scene\": {\"xaxis\": {\"backgroundcolor\": \"#E5ECF6\", \"gridcolor\": \"white\", \"gridwidth\": 2, \"linecolor\": \"white\", \"showbackground\": true, \"ticks\": \"\", \"zerolinecolor\": \"white\"}, \"yaxis\": {\"backgroundcolor\": \"#E5ECF6\", \"gridcolor\": \"white\", \"gridwidth\": 2, \"linecolor\": \"white\", \"showbackground\": true, \"ticks\": \"\", \"zerolinecolor\": \"white\"}, \"zaxis\": {\"backgroundcolor\": \"#E5ECF6\", \"gridcolor\": \"white\", \"gridwidth\": 2, \"linecolor\": \"white\", \"showbackground\": true, \"ticks\": \"\", \"zerolinecolor\": \"white\"}}, \"shapedefaults\": {\"line\": {\"color\": \"#2a3f5f\"}}, \"ternary\": {\"aaxis\": {\"gridcolor\": \"white\", \"linecolor\": \"white\", \"ticks\": \"\"}, \"baxis\": {\"gridcolor\": \"white\", \"linecolor\": \"white\", \"ticks\": \"\"}, \"bgcolor\": \"#E5ECF6\", \"caxis\": {\"gridcolor\": \"white\", \"linecolor\": \"white\", \"ticks\": \"\"}}, \"title\": {\"x\": 0.05}, \"xaxis\": {\"automargin\": true, \"gridcolor\": \"white\", \"linecolor\": \"white\", \"ticks\": \"\", \"title\": {\"standoff\": 15}, \"zerolinecolor\": \"white\", \"zerolinewidth\": 2}, \"yaxis\": {\"automargin\": true, \"gridcolor\": \"white\", \"linecolor\": \"white\", \"ticks\": \"\", \"title\": {\"standoff\": 15}, \"zerolinecolor\": \"white\", \"zerolinewidth\": 2}}}, \"title\": {\"text\": \"Tasa de Mortalidad Materna por trimestre de primer cita\"}, \"xaxis\": {\"anchor\": \"y\", \"domain\": [0.0, 1.0], \"title\": {\"text\": \"timeline\"}}, \"yaxis\": {\"anchor\": \"x\", \"domain\": [0.0, 1.0], \"title\": {\"text\": \"value\"}}},                        {\"responsive\": true}                    ).then(function(){\n",
       "                            \n",
       "var gd = document.getElementById('d7e59e8d-061b-4392-ab51-7b9b729089c0');\n",
       "var x = new MutationObserver(function (mutations, observer) {{\n",
       "        var display = window.getComputedStyle(gd).display;\n",
       "        if (!display || display === 'none') {{\n",
       "            console.log([gd, 'removed!']);\n",
       "            Plotly.purge(gd);\n",
       "            observer.disconnect();\n",
       "        }}\n",
       "}});\n",
       "\n",
       "// Listen for the removal of the full notebook cells\n",
       "var notebookContainer = gd.closest('#notebook-container');\n",
       "if (notebookContainer) {{\n",
       "    x.observe(notebookContainer, {childList: true});\n",
       "}}\n",
       "\n",
       "// Listen for the clearing of the current output cell\n",
       "var outputEl = gd.closest('.output');\n",
       "if (outputEl) {{\n",
       "    x.observe(outputEl, {childList: true});\n",
       "}}\n",
       "\n",
       "                        })                };                });            </script>        </div>"
      ]
     },
     "metadata": {},
     "output_type": "display_data"
    }
   ],
   "source": [
    "rates, logrank = survival(data_prim_consulta, 'TRIMESTREPRIMERCONSULTA', 'EDAD', 'SOBREVIVIOPARTO')\n",
    "print(logrank)\n",
    "rates.plot(kind='line',\n",
    "           title='Tasa de Mortalidad Materna por trimestre de primer cita')"
   ]
  },
  {
   "cell_type": "code",
   "execution_count": 16,
   "metadata": {},
   "outputs": [
    {
     "data": {
      "text/plain": [
       "array([1, 2, 8, 0, 9], dtype=int64)"
      ]
     },
     "execution_count": 16,
     "metadata": {},
     "output_type": "execute_result"
    }
   ],
   "source": [
    "data['TRABAJAACTUALMENTE'].unique()"
   ]
  },
  {
   "cell_type": "code",
   "execution_count": 17,
   "metadata": {},
   "outputs": [],
   "source": [
    "data_trabajo = data[((data['TRABAJAACTUALMENTE'] == 1) | (data['TRABAJAACTUALMENTE'] == 2)) & ((data['SOBREVIVIOPARTO'] == 1) | (data['SOBREVIVIOPARTO'] == 2)) & (data['EDAD'] != 999)]\n",
    "data_trabajo['TRABAJAACTUALMENTE'].replace(2, 'No trabaja', inplace=True)\n",
    "data_trabajo['TRABAJAACTUALMENTE'].replace(1, 'Trabaja', inplace=True)"
   ]
  },
  {
   "cell_type": "code",
   "execution_count": 18,
   "metadata": {},
   "outputs": [
    {
     "data": {
      "application/vnd.plotly.v1+json": {
       "config": {
        "plotlyServerURL": "https://plot.ly"
       },
       "data": [
        {
         "hovertemplate": "variable=Trabaja<br>timeline=%{x}<br>value=%{y}<extra></extra>",
         "legendgroup": "Trabaja",
         "line": {
          "color": "#636efa",
          "dash": "solid"
         },
         "mode": "lines",
         "name": "Trabaja",
         "orientation": "v",
         "showlegend": true,
         "type": "scatter",
         "x": [
          0,
          11,
          12,
          13,
          14,
          15,
          16,
          17,
          18,
          19,
          20,
          21,
          22,
          23,
          24,
          25,
          26,
          27,
          28,
          29,
          30,
          31,
          32,
          33,
          34,
          35,
          36,
          37,
          38,
          39,
          40,
          41,
          42,
          43,
          44,
          45,
          46,
          47,
          48,
          49,
          50,
          51,
          52,
          53,
          54,
          55,
          56,
          57,
          58,
          59
         ],
         "xaxis": "x",
         "y": [
          1,
          0.9999940488942846,
          0.999982146682853,
          0.9999315622842715,
          0.9997679068770969,
          0.9991311385655457,
          0.9975451688923802,
          0.9944743983432117,
          0.9865385988716696,
          0.9663643504963227,
          0.9364868242519456,
          0.9027083482110977,
          0.8646063938679804,
          0.8215679973339041,
          0.7715965626413381,
          0.7151473493775146,
          0.6546037753814655,
          0.5917065390749598,
          0.5268484134352157,
          0.4626002761313049,
          0.39894129829322306,
          0.33933799900021394,
          0.2833142897950438,
          0.23236092265942998,
          0.1857250827203695,
          0.14373705634506886,
          0.10759004022947455,
          0.07751612749648884,
          0.05372955795186749,
          0.03556975886119638,
          0.02242971744150062,
          0.013449498916898754,
          0.007980432764407625,
          0.004591278059463447,
          0.0025440976933514235,
          0.0014728986645718772,
          0.0009134947273203356,
          0.0005772572543978671,
          0.0003838463186460043,
          0.00026184865147944495,
          0.00016960651289009513,
          0.00013687543145516435,
          0.000086291032873908,
          0.00005355995143897739,
          0.000038682187150372585,
          0.00002082887000404679,
          0.000008926658573162918,
          0.00000595110571544195,
          0.0000029755528577209745,
          0
         ],
         "yaxis": "y"
        },
        {
         "hovertemplate": "variable=No trabaja<br>timeline=%{x}<br>value=%{y}<extra></extra>",
         "legendgroup": "No trabaja",
         "line": {
          "color": "#EF553B",
          "dash": "solid"
         },
         "mode": "lines",
         "name": "No trabaja",
         "orientation": "v",
         "showlegend": true,
         "type": "scatter",
         "x": [
          0,
          11,
          12,
          13,
          14,
          15,
          16,
          17,
          18,
          19,
          20,
          21,
          22,
          23,
          24,
          25,
          26,
          27,
          28,
          29,
          30,
          31,
          32,
          33,
          34,
          35,
          36,
          37,
          38,
          39,
          40,
          41,
          42,
          43,
          44,
          45,
          46,
          47,
          48,
          49,
          50,
          51,
          52,
          53,
          54,
          55,
          56,
          57,
          58,
          59
         ],
         "xaxis": "x",
         "y": [
          1,
          0.999938650247006,
          0.9997594700160387,
          0.9986668601293801,
          0.9934978999882171,
          0.9791274507035258,
          0.9491585832686558,
          0.9055457255289959,
          0.852409048991186,
          0.7902958324041597,
          0.725473488629359,
          0.6640536216317279,
          0.6046300561204166,
          0.54767508781292,
          0.4905545725528991,
          0.4345860693213254,
          0.3811523820745756,
          0.3308037109783922,
          0.28393055207961027,
          0.2414025137817837,
          0.20261096758298525,
          0.16915587608907975,
          0.13905749250900026,
          0.11259529905083158,
          0.0896164082348897,
          0.06976440721044613,
          0.05295554869563604,
          0.03882270797809717,
          0.027268504497521162,
          0.018508149292189396,
          0.011957359000252209,
          0.007399948777825273,
          0.004334408739321002,
          0.0024374354245159458,
          0.0013107423417492857,
          0.0007099042846472729,
          0.0004557410222426938,
          0.000305774959367961,
          0.00020936820466277566,
          0.0001577565076993939,
          0.0001226995059884174,
          0.0000847210874681929,
          0.00006232355859729125,
          0.00004479505774180315,
          0.0000350570017109764,
          0.000029214168092480326,
          0.00001850230645857086,
          0.000012659472840074795,
          0.000003895222412330709,
          0
         ],
         "yaxis": "y"
        }
       ],
       "layout": {
        "legend": {
         "title": {
          "text": "variable"
         },
         "tracegroupgap": 0
        },
        "template": {
         "data": {
          "bar": [
           {
            "error_x": {
             "color": "#2a3f5f"
            },
            "error_y": {
             "color": "#2a3f5f"
            },
            "marker": {
             "line": {
              "color": "#E5ECF6",
              "width": 0.5
             }
            },
            "type": "bar"
           }
          ],
          "barpolar": [
           {
            "marker": {
             "line": {
              "color": "#E5ECF6",
              "width": 0.5
             }
            },
            "type": "barpolar"
           }
          ],
          "carpet": [
           {
            "aaxis": {
             "endlinecolor": "#2a3f5f",
             "gridcolor": "white",
             "linecolor": "white",
             "minorgridcolor": "white",
             "startlinecolor": "#2a3f5f"
            },
            "baxis": {
             "endlinecolor": "#2a3f5f",
             "gridcolor": "white",
             "linecolor": "white",
             "minorgridcolor": "white",
             "startlinecolor": "#2a3f5f"
            },
            "type": "carpet"
           }
          ],
          "choropleth": [
           {
            "colorbar": {
             "outlinewidth": 0,
             "ticks": ""
            },
            "type": "choropleth"
           }
          ],
          "contour": [
           {
            "colorbar": {
             "outlinewidth": 0,
             "ticks": ""
            },
            "colorscale": [
             [
              0,
              "#0d0887"
             ],
             [
              0.1111111111111111,
              "#46039f"
             ],
             [
              0.2222222222222222,
              "#7201a8"
             ],
             [
              0.3333333333333333,
              "#9c179e"
             ],
             [
              0.4444444444444444,
              "#bd3786"
             ],
             [
              0.5555555555555556,
              "#d8576b"
             ],
             [
              0.6666666666666666,
              "#ed7953"
             ],
             [
              0.7777777777777778,
              "#fb9f3a"
             ],
             [
              0.8888888888888888,
              "#fdca26"
             ],
             [
              1,
              "#f0f921"
             ]
            ],
            "type": "contour"
           }
          ],
          "contourcarpet": [
           {
            "colorbar": {
             "outlinewidth": 0,
             "ticks": ""
            },
            "type": "contourcarpet"
           }
          ],
          "heatmap": [
           {
            "colorbar": {
             "outlinewidth": 0,
             "ticks": ""
            },
            "colorscale": [
             [
              0,
              "#0d0887"
             ],
             [
              0.1111111111111111,
              "#46039f"
             ],
             [
              0.2222222222222222,
              "#7201a8"
             ],
             [
              0.3333333333333333,
              "#9c179e"
             ],
             [
              0.4444444444444444,
              "#bd3786"
             ],
             [
              0.5555555555555556,
              "#d8576b"
             ],
             [
              0.6666666666666666,
              "#ed7953"
             ],
             [
              0.7777777777777778,
              "#fb9f3a"
             ],
             [
              0.8888888888888888,
              "#fdca26"
             ],
             [
              1,
              "#f0f921"
             ]
            ],
            "type": "heatmap"
           }
          ],
          "heatmapgl": [
           {
            "colorbar": {
             "outlinewidth": 0,
             "ticks": ""
            },
            "colorscale": [
             [
              0,
              "#0d0887"
             ],
             [
              0.1111111111111111,
              "#46039f"
             ],
             [
              0.2222222222222222,
              "#7201a8"
             ],
             [
              0.3333333333333333,
              "#9c179e"
             ],
             [
              0.4444444444444444,
              "#bd3786"
             ],
             [
              0.5555555555555556,
              "#d8576b"
             ],
             [
              0.6666666666666666,
              "#ed7953"
             ],
             [
              0.7777777777777778,
              "#fb9f3a"
             ],
             [
              0.8888888888888888,
              "#fdca26"
             ],
             [
              1,
              "#f0f921"
             ]
            ],
            "type": "heatmapgl"
           }
          ],
          "histogram": [
           {
            "marker": {
             "colorbar": {
              "outlinewidth": 0,
              "ticks": ""
             }
            },
            "type": "histogram"
           }
          ],
          "histogram2d": [
           {
            "colorbar": {
             "outlinewidth": 0,
             "ticks": ""
            },
            "colorscale": [
             [
              0,
              "#0d0887"
             ],
             [
              0.1111111111111111,
              "#46039f"
             ],
             [
              0.2222222222222222,
              "#7201a8"
             ],
             [
              0.3333333333333333,
              "#9c179e"
             ],
             [
              0.4444444444444444,
              "#bd3786"
             ],
             [
              0.5555555555555556,
              "#d8576b"
             ],
             [
              0.6666666666666666,
              "#ed7953"
             ],
             [
              0.7777777777777778,
              "#fb9f3a"
             ],
             [
              0.8888888888888888,
              "#fdca26"
             ],
             [
              1,
              "#f0f921"
             ]
            ],
            "type": "histogram2d"
           }
          ],
          "histogram2dcontour": [
           {
            "colorbar": {
             "outlinewidth": 0,
             "ticks": ""
            },
            "colorscale": [
             [
              0,
              "#0d0887"
             ],
             [
              0.1111111111111111,
              "#46039f"
             ],
             [
              0.2222222222222222,
              "#7201a8"
             ],
             [
              0.3333333333333333,
              "#9c179e"
             ],
             [
              0.4444444444444444,
              "#bd3786"
             ],
             [
              0.5555555555555556,
              "#d8576b"
             ],
             [
              0.6666666666666666,
              "#ed7953"
             ],
             [
              0.7777777777777778,
              "#fb9f3a"
             ],
             [
              0.8888888888888888,
              "#fdca26"
             ],
             [
              1,
              "#f0f921"
             ]
            ],
            "type": "histogram2dcontour"
           }
          ],
          "mesh3d": [
           {
            "colorbar": {
             "outlinewidth": 0,
             "ticks": ""
            },
            "type": "mesh3d"
           }
          ],
          "parcoords": [
           {
            "line": {
             "colorbar": {
              "outlinewidth": 0,
              "ticks": ""
             }
            },
            "type": "parcoords"
           }
          ],
          "pie": [
           {
            "automargin": true,
            "type": "pie"
           }
          ],
          "scatter": [
           {
            "marker": {
             "colorbar": {
              "outlinewidth": 0,
              "ticks": ""
             }
            },
            "type": "scatter"
           }
          ],
          "scatter3d": [
           {
            "line": {
             "colorbar": {
              "outlinewidth": 0,
              "ticks": ""
             }
            },
            "marker": {
             "colorbar": {
              "outlinewidth": 0,
              "ticks": ""
             }
            },
            "type": "scatter3d"
           }
          ],
          "scattercarpet": [
           {
            "marker": {
             "colorbar": {
              "outlinewidth": 0,
              "ticks": ""
             }
            },
            "type": "scattercarpet"
           }
          ],
          "scattergeo": [
           {
            "marker": {
             "colorbar": {
              "outlinewidth": 0,
              "ticks": ""
             }
            },
            "type": "scattergeo"
           }
          ],
          "scattergl": [
           {
            "marker": {
             "colorbar": {
              "outlinewidth": 0,
              "ticks": ""
             }
            },
            "type": "scattergl"
           }
          ],
          "scattermapbox": [
           {
            "marker": {
             "colorbar": {
              "outlinewidth": 0,
              "ticks": ""
             }
            },
            "type": "scattermapbox"
           }
          ],
          "scatterpolar": [
           {
            "marker": {
             "colorbar": {
              "outlinewidth": 0,
              "ticks": ""
             }
            },
            "type": "scatterpolar"
           }
          ],
          "scatterpolargl": [
           {
            "marker": {
             "colorbar": {
              "outlinewidth": 0,
              "ticks": ""
             }
            },
            "type": "scatterpolargl"
           }
          ],
          "scatterternary": [
           {
            "marker": {
             "colorbar": {
              "outlinewidth": 0,
              "ticks": ""
             }
            },
            "type": "scatterternary"
           }
          ],
          "surface": [
           {
            "colorbar": {
             "outlinewidth": 0,
             "ticks": ""
            },
            "colorscale": [
             [
              0,
              "#0d0887"
             ],
             [
              0.1111111111111111,
              "#46039f"
             ],
             [
              0.2222222222222222,
              "#7201a8"
             ],
             [
              0.3333333333333333,
              "#9c179e"
             ],
             [
              0.4444444444444444,
              "#bd3786"
             ],
             [
              0.5555555555555556,
              "#d8576b"
             ],
             [
              0.6666666666666666,
              "#ed7953"
             ],
             [
              0.7777777777777778,
              "#fb9f3a"
             ],
             [
              0.8888888888888888,
              "#fdca26"
             ],
             [
              1,
              "#f0f921"
             ]
            ],
            "type": "surface"
           }
          ],
          "table": [
           {
            "cells": {
             "fill": {
              "color": "#EBF0F8"
             },
             "line": {
              "color": "white"
             }
            },
            "header": {
             "fill": {
              "color": "#C8D4E3"
             },
             "line": {
              "color": "white"
             }
            },
            "type": "table"
           }
          ]
         },
         "layout": {
          "annotationdefaults": {
           "arrowcolor": "#2a3f5f",
           "arrowhead": 0,
           "arrowwidth": 1
          },
          "autotypenumbers": "strict",
          "coloraxis": {
           "colorbar": {
            "outlinewidth": 0,
            "ticks": ""
           }
          },
          "colorscale": {
           "diverging": [
            [
             0,
             "#8e0152"
            ],
            [
             0.1,
             "#c51b7d"
            ],
            [
             0.2,
             "#de77ae"
            ],
            [
             0.3,
             "#f1b6da"
            ],
            [
             0.4,
             "#fde0ef"
            ],
            [
             0.5,
             "#f7f7f7"
            ],
            [
             0.6,
             "#e6f5d0"
            ],
            [
             0.7,
             "#b8e186"
            ],
            [
             0.8,
             "#7fbc41"
            ],
            [
             0.9,
             "#4d9221"
            ],
            [
             1,
             "#276419"
            ]
           ],
           "sequential": [
            [
             0,
             "#0d0887"
            ],
            [
             0.1111111111111111,
             "#46039f"
            ],
            [
             0.2222222222222222,
             "#7201a8"
            ],
            [
             0.3333333333333333,
             "#9c179e"
            ],
            [
             0.4444444444444444,
             "#bd3786"
            ],
            [
             0.5555555555555556,
             "#d8576b"
            ],
            [
             0.6666666666666666,
             "#ed7953"
            ],
            [
             0.7777777777777778,
             "#fb9f3a"
            ],
            [
             0.8888888888888888,
             "#fdca26"
            ],
            [
             1,
             "#f0f921"
            ]
           ],
           "sequentialminus": [
            [
             0,
             "#0d0887"
            ],
            [
             0.1111111111111111,
             "#46039f"
            ],
            [
             0.2222222222222222,
             "#7201a8"
            ],
            [
             0.3333333333333333,
             "#9c179e"
            ],
            [
             0.4444444444444444,
             "#bd3786"
            ],
            [
             0.5555555555555556,
             "#d8576b"
            ],
            [
             0.6666666666666666,
             "#ed7953"
            ],
            [
             0.7777777777777778,
             "#fb9f3a"
            ],
            [
             0.8888888888888888,
             "#fdca26"
            ],
            [
             1,
             "#f0f921"
            ]
           ]
          },
          "colorway": [
           "#636efa",
           "#EF553B",
           "#00cc96",
           "#ab63fa",
           "#FFA15A",
           "#19d3f3",
           "#FF6692",
           "#B6E880",
           "#FF97FF",
           "#FECB52"
          ],
          "font": {
           "color": "#2a3f5f"
          },
          "geo": {
           "bgcolor": "white",
           "lakecolor": "white",
           "landcolor": "#E5ECF6",
           "showlakes": true,
           "showland": true,
           "subunitcolor": "white"
          },
          "hoverlabel": {
           "align": "left"
          },
          "hovermode": "closest",
          "mapbox": {
           "style": "light"
          },
          "paper_bgcolor": "white",
          "plot_bgcolor": "#E5ECF6",
          "polar": {
           "angularaxis": {
            "gridcolor": "white",
            "linecolor": "white",
            "ticks": ""
           },
           "bgcolor": "#E5ECF6",
           "radialaxis": {
            "gridcolor": "white",
            "linecolor": "white",
            "ticks": ""
           }
          },
          "scene": {
           "xaxis": {
            "backgroundcolor": "#E5ECF6",
            "gridcolor": "white",
            "gridwidth": 2,
            "linecolor": "white",
            "showbackground": true,
            "ticks": "",
            "zerolinecolor": "white"
           },
           "yaxis": {
            "backgroundcolor": "#E5ECF6",
            "gridcolor": "white",
            "gridwidth": 2,
            "linecolor": "white",
            "showbackground": true,
            "ticks": "",
            "zerolinecolor": "white"
           },
           "zaxis": {
            "backgroundcolor": "#E5ECF6",
            "gridcolor": "white",
            "gridwidth": 2,
            "linecolor": "white",
            "showbackground": true,
            "ticks": "",
            "zerolinecolor": "white"
           }
          },
          "shapedefaults": {
           "line": {
            "color": "#2a3f5f"
           }
          },
          "ternary": {
           "aaxis": {
            "gridcolor": "white",
            "linecolor": "white",
            "ticks": ""
           },
           "baxis": {
            "gridcolor": "white",
            "linecolor": "white",
            "ticks": ""
           },
           "bgcolor": "#E5ECF6",
           "caxis": {
            "gridcolor": "white",
            "linecolor": "white",
            "ticks": ""
           }
          },
          "title": {
           "x": 0.05
          },
          "xaxis": {
           "automargin": true,
           "gridcolor": "white",
           "linecolor": "white",
           "ticks": "",
           "title": {
            "standoff": 15
           },
           "zerolinecolor": "white",
           "zerolinewidth": 2
          },
          "yaxis": {
           "automargin": true,
           "gridcolor": "white",
           "linecolor": "white",
           "ticks": "",
           "title": {
            "standoff": 15
           },
           "zerolinecolor": "white",
           "zerolinewidth": 2
          }
         }
        },
        "title": {
         "text": "Tasa de Mortalidad Materna por estatus laboral"
        },
        "xaxis": {
         "anchor": "y",
         "domain": [
          0,
          1
         ],
         "title": {
          "text": "timeline"
         }
        },
        "yaxis": {
         "anchor": "x",
         "domain": [
          0,
          1
         ],
         "title": {
          "text": "value"
         }
        }
       }
      },
      "text/html": [
       "<div>                            <div id=\"83c54794-4443-4c48-a8dc-0f3c1227a7e9\" class=\"plotly-graph-div\" style=\"height:525px; width:100%;\"></div>            <script type=\"text/javascript\">                require([\"plotly\"], function(Plotly) {                    window.PLOTLYENV=window.PLOTLYENV || {};                                    if (document.getElementById(\"83c54794-4443-4c48-a8dc-0f3c1227a7e9\")) {                    Plotly.newPlot(                        \"83c54794-4443-4c48-a8dc-0f3c1227a7e9\",                        [{\"hovertemplate\": \"variable=Trabaja<br>timeline=%{x}<br>value=%{y}<extra></extra>\", \"legendgroup\": \"Trabaja\", \"line\": {\"color\": \"#636efa\", \"dash\": \"solid\"}, \"mode\": \"lines\", \"name\": \"Trabaja\", \"orientation\": \"v\", \"showlegend\": true, \"type\": \"scatter\", \"x\": [0.0, 11.0, 12.0, 13.0, 14.0, 15.0, 16.0, 17.0, 18.0, 19.0, 20.0, 21.0, 22.0, 23.0, 24.0, 25.0, 26.0, 27.0, 28.0, 29.0, 30.0, 31.0, 32.0, 33.0, 34.0, 35.0, 36.0, 37.0, 38.0, 39.0, 40.0, 41.0, 42.0, 43.0, 44.0, 45.0, 46.0, 47.0, 48.0, 49.0, 50.0, 51.0, 52.0, 53.0, 54.0, 55.0, 56.0, 57.0, 58.0, 59.0], \"xaxis\": \"x\", \"y\": [1.0, 0.9999940488942846, 0.999982146682853, 0.9999315622842715, 0.9997679068770969, 0.9991311385655457, 0.9975451688923802, 0.9944743983432117, 0.9865385988716696, 0.9663643504963227, 0.9364868242519456, 0.9027083482110977, 0.8646063938679804, 0.8215679973339041, 0.7715965626413381, 0.7151473493775146, 0.6546037753814655, 0.5917065390749598, 0.5268484134352157, 0.4626002761313049, 0.39894129829322306, 0.33933799900021394, 0.2833142897950438, 0.23236092265942998, 0.1857250827203695, 0.14373705634506886, 0.10759004022947455, 0.07751612749648884, 0.05372955795186749, 0.03556975886119638, 0.02242971744150062, 0.013449498916898754, 0.007980432764407625, 0.004591278059463447, 0.0025440976933514235, 0.0014728986645718772, 0.0009134947273203356, 0.0005772572543978671, 0.0003838463186460043, 0.00026184865147944495, 0.00016960651289009513, 0.00013687543145516435, 8.6291032873908e-05, 5.355995143897739e-05, 3.8682187150372585e-05, 2.082887000404679e-05, 8.926658573162918e-06, 5.95110571544195e-06, 2.9755528577209745e-06, 0.0], \"yaxis\": \"y\"}, {\"hovertemplate\": \"variable=No trabaja<br>timeline=%{x}<br>value=%{y}<extra></extra>\", \"legendgroup\": \"No trabaja\", \"line\": {\"color\": \"#EF553B\", \"dash\": \"solid\"}, \"mode\": \"lines\", \"name\": \"No trabaja\", \"orientation\": \"v\", \"showlegend\": true, \"type\": \"scatter\", \"x\": [0.0, 11.0, 12.0, 13.0, 14.0, 15.0, 16.0, 17.0, 18.0, 19.0, 20.0, 21.0, 22.0, 23.0, 24.0, 25.0, 26.0, 27.0, 28.0, 29.0, 30.0, 31.0, 32.0, 33.0, 34.0, 35.0, 36.0, 37.0, 38.0, 39.0, 40.0, 41.0, 42.0, 43.0, 44.0, 45.0, 46.0, 47.0, 48.0, 49.0, 50.0, 51.0, 52.0, 53.0, 54.0, 55.0, 56.0, 57.0, 58.0, 59.0], \"xaxis\": \"x\", \"y\": [1.0, 0.999938650247006, 0.9997594700160387, 0.9986668601293801, 0.9934978999882171, 0.9791274507035258, 0.9491585832686558, 0.9055457255289959, 0.852409048991186, 0.7902958324041597, 0.725473488629359, 0.6640536216317279, 0.6046300561204166, 0.54767508781292, 0.4905545725528991, 0.4345860693213254, 0.3811523820745756, 0.3308037109783922, 0.28393055207961027, 0.2414025137817837, 0.20261096758298525, 0.16915587608907975, 0.13905749250900026, 0.11259529905083158, 0.0896164082348897, 0.06976440721044613, 0.05295554869563604, 0.03882270797809717, 0.027268504497521162, 0.018508149292189396, 0.011957359000252209, 0.007399948777825273, 0.004334408739321002, 0.0024374354245159458, 0.0013107423417492857, 0.0007099042846472729, 0.0004557410222426938, 0.000305774959367961, 0.00020936820466277566, 0.0001577565076993939, 0.0001226995059884174, 8.47210874681929e-05, 6.232355859729125e-05, 4.479505774180315e-05, 3.50570017109764e-05, 2.9214168092480326e-05, 1.850230645857086e-05, 1.2659472840074795e-05, 3.895222412330709e-06, 0.0], \"yaxis\": \"y\"}],                        {\"legend\": {\"title\": {\"text\": \"variable\"}, \"tracegroupgap\": 0}, \"template\": {\"data\": {\"bar\": [{\"error_x\": {\"color\": \"#2a3f5f\"}, \"error_y\": {\"color\": \"#2a3f5f\"}, \"marker\": {\"line\": {\"color\": \"#E5ECF6\", \"width\": 0.5}}, \"type\": \"bar\"}], \"barpolar\": [{\"marker\": {\"line\": {\"color\": \"#E5ECF6\", \"width\": 0.5}}, \"type\": \"barpolar\"}], \"carpet\": [{\"aaxis\": {\"endlinecolor\": \"#2a3f5f\", \"gridcolor\": \"white\", \"linecolor\": \"white\", \"minorgridcolor\": \"white\", \"startlinecolor\": \"#2a3f5f\"}, \"baxis\": {\"endlinecolor\": \"#2a3f5f\", \"gridcolor\": \"white\", \"linecolor\": \"white\", \"minorgridcolor\": \"white\", \"startlinecolor\": \"#2a3f5f\"}, \"type\": \"carpet\"}], \"choropleth\": [{\"colorbar\": {\"outlinewidth\": 0, \"ticks\": \"\"}, \"type\": \"choropleth\"}], \"contour\": [{\"colorbar\": {\"outlinewidth\": 0, \"ticks\": \"\"}, \"colorscale\": [[0.0, \"#0d0887\"], [0.1111111111111111, \"#46039f\"], [0.2222222222222222, \"#7201a8\"], [0.3333333333333333, \"#9c179e\"], [0.4444444444444444, \"#bd3786\"], [0.5555555555555556, \"#d8576b\"], [0.6666666666666666, \"#ed7953\"], [0.7777777777777778, \"#fb9f3a\"], [0.8888888888888888, \"#fdca26\"], [1.0, \"#f0f921\"]], \"type\": \"contour\"}], \"contourcarpet\": [{\"colorbar\": {\"outlinewidth\": 0, \"ticks\": \"\"}, \"type\": \"contourcarpet\"}], \"heatmap\": [{\"colorbar\": {\"outlinewidth\": 0, \"ticks\": \"\"}, \"colorscale\": [[0.0, \"#0d0887\"], [0.1111111111111111, \"#46039f\"], [0.2222222222222222, \"#7201a8\"], [0.3333333333333333, \"#9c179e\"], [0.4444444444444444, \"#bd3786\"], [0.5555555555555556, \"#d8576b\"], [0.6666666666666666, \"#ed7953\"], [0.7777777777777778, \"#fb9f3a\"], [0.8888888888888888, \"#fdca26\"], [1.0, \"#f0f921\"]], \"type\": \"heatmap\"}], \"heatmapgl\": [{\"colorbar\": {\"outlinewidth\": 0, \"ticks\": \"\"}, \"colorscale\": [[0.0, \"#0d0887\"], [0.1111111111111111, \"#46039f\"], [0.2222222222222222, \"#7201a8\"], [0.3333333333333333, \"#9c179e\"], [0.4444444444444444, \"#bd3786\"], [0.5555555555555556, \"#d8576b\"], [0.6666666666666666, \"#ed7953\"], [0.7777777777777778, \"#fb9f3a\"], [0.8888888888888888, \"#fdca26\"], [1.0, \"#f0f921\"]], \"type\": \"heatmapgl\"}], \"histogram\": [{\"marker\": {\"colorbar\": {\"outlinewidth\": 0, \"ticks\": \"\"}}, \"type\": \"histogram\"}], \"histogram2d\": [{\"colorbar\": {\"outlinewidth\": 0, \"ticks\": \"\"}, \"colorscale\": [[0.0, \"#0d0887\"], [0.1111111111111111, \"#46039f\"], [0.2222222222222222, \"#7201a8\"], [0.3333333333333333, \"#9c179e\"], [0.4444444444444444, \"#bd3786\"], [0.5555555555555556, \"#d8576b\"], [0.6666666666666666, \"#ed7953\"], [0.7777777777777778, \"#fb9f3a\"], [0.8888888888888888, \"#fdca26\"], [1.0, \"#f0f921\"]], \"type\": \"histogram2d\"}], \"histogram2dcontour\": [{\"colorbar\": {\"outlinewidth\": 0, \"ticks\": \"\"}, \"colorscale\": [[0.0, \"#0d0887\"], [0.1111111111111111, \"#46039f\"], [0.2222222222222222, \"#7201a8\"], [0.3333333333333333, \"#9c179e\"], [0.4444444444444444, \"#bd3786\"], [0.5555555555555556, \"#d8576b\"], [0.6666666666666666, \"#ed7953\"], [0.7777777777777778, \"#fb9f3a\"], [0.8888888888888888, \"#fdca26\"], [1.0, \"#f0f921\"]], \"type\": \"histogram2dcontour\"}], \"mesh3d\": [{\"colorbar\": {\"outlinewidth\": 0, \"ticks\": \"\"}, \"type\": \"mesh3d\"}], \"parcoords\": [{\"line\": {\"colorbar\": {\"outlinewidth\": 0, \"ticks\": \"\"}}, \"type\": \"parcoords\"}], \"pie\": [{\"automargin\": true, \"type\": \"pie\"}], \"scatter\": [{\"marker\": {\"colorbar\": {\"outlinewidth\": 0, \"ticks\": \"\"}}, \"type\": \"scatter\"}], \"scatter3d\": [{\"line\": {\"colorbar\": {\"outlinewidth\": 0, \"ticks\": \"\"}}, \"marker\": {\"colorbar\": {\"outlinewidth\": 0, \"ticks\": \"\"}}, \"type\": \"scatter3d\"}], \"scattercarpet\": [{\"marker\": {\"colorbar\": {\"outlinewidth\": 0, \"ticks\": \"\"}}, \"type\": \"scattercarpet\"}], \"scattergeo\": [{\"marker\": {\"colorbar\": {\"outlinewidth\": 0, \"ticks\": \"\"}}, \"type\": \"scattergeo\"}], \"scattergl\": [{\"marker\": {\"colorbar\": {\"outlinewidth\": 0, \"ticks\": \"\"}}, \"type\": \"scattergl\"}], \"scattermapbox\": [{\"marker\": {\"colorbar\": {\"outlinewidth\": 0, \"ticks\": \"\"}}, \"type\": \"scattermapbox\"}], \"scatterpolar\": [{\"marker\": {\"colorbar\": {\"outlinewidth\": 0, \"ticks\": \"\"}}, \"type\": \"scatterpolar\"}], \"scatterpolargl\": [{\"marker\": {\"colorbar\": {\"outlinewidth\": 0, \"ticks\": \"\"}}, \"type\": \"scatterpolargl\"}], \"scatterternary\": [{\"marker\": {\"colorbar\": {\"outlinewidth\": 0, \"ticks\": \"\"}}, \"type\": \"scatterternary\"}], \"surface\": [{\"colorbar\": {\"outlinewidth\": 0, \"ticks\": \"\"}, \"colorscale\": [[0.0, \"#0d0887\"], [0.1111111111111111, \"#46039f\"], [0.2222222222222222, \"#7201a8\"], [0.3333333333333333, \"#9c179e\"], [0.4444444444444444, \"#bd3786\"], [0.5555555555555556, \"#d8576b\"], [0.6666666666666666, \"#ed7953\"], [0.7777777777777778, \"#fb9f3a\"], [0.8888888888888888, \"#fdca26\"], [1.0, \"#f0f921\"]], \"type\": \"surface\"}], \"table\": [{\"cells\": {\"fill\": {\"color\": \"#EBF0F8\"}, \"line\": {\"color\": \"white\"}}, \"header\": {\"fill\": {\"color\": \"#C8D4E3\"}, \"line\": {\"color\": \"white\"}}, \"type\": \"table\"}]}, \"layout\": {\"annotationdefaults\": {\"arrowcolor\": \"#2a3f5f\", \"arrowhead\": 0, \"arrowwidth\": 1}, \"autotypenumbers\": \"strict\", \"coloraxis\": {\"colorbar\": {\"outlinewidth\": 0, \"ticks\": \"\"}}, \"colorscale\": {\"diverging\": [[0, \"#8e0152\"], [0.1, \"#c51b7d\"], [0.2, \"#de77ae\"], [0.3, \"#f1b6da\"], [0.4, \"#fde0ef\"], [0.5, \"#f7f7f7\"], [0.6, \"#e6f5d0\"], [0.7, \"#b8e186\"], [0.8, \"#7fbc41\"], [0.9, \"#4d9221\"], [1, \"#276419\"]], \"sequential\": [[0.0, \"#0d0887\"], [0.1111111111111111, \"#46039f\"], [0.2222222222222222, \"#7201a8\"], [0.3333333333333333, \"#9c179e\"], [0.4444444444444444, \"#bd3786\"], [0.5555555555555556, \"#d8576b\"], [0.6666666666666666, \"#ed7953\"], [0.7777777777777778, \"#fb9f3a\"], [0.8888888888888888, \"#fdca26\"], [1.0, \"#f0f921\"]], \"sequentialminus\": [[0.0, \"#0d0887\"], [0.1111111111111111, \"#46039f\"], [0.2222222222222222, \"#7201a8\"], [0.3333333333333333, \"#9c179e\"], [0.4444444444444444, \"#bd3786\"], [0.5555555555555556, \"#d8576b\"], [0.6666666666666666, \"#ed7953\"], [0.7777777777777778, \"#fb9f3a\"], [0.8888888888888888, \"#fdca26\"], [1.0, \"#f0f921\"]]}, \"colorway\": [\"#636efa\", \"#EF553B\", \"#00cc96\", \"#ab63fa\", \"#FFA15A\", \"#19d3f3\", \"#FF6692\", \"#B6E880\", \"#FF97FF\", \"#FECB52\"], \"font\": {\"color\": \"#2a3f5f\"}, \"geo\": {\"bgcolor\": \"white\", \"lakecolor\": \"white\", \"landcolor\": \"#E5ECF6\", \"showlakes\": true, \"showland\": true, \"subunitcolor\": \"white\"}, \"hoverlabel\": {\"align\": \"left\"}, \"hovermode\": \"closest\", \"mapbox\": {\"style\": \"light\"}, \"paper_bgcolor\": \"white\", \"plot_bgcolor\": \"#E5ECF6\", \"polar\": {\"angularaxis\": {\"gridcolor\": \"white\", \"linecolor\": \"white\", \"ticks\": \"\"}, \"bgcolor\": \"#E5ECF6\", \"radialaxis\": {\"gridcolor\": \"white\", \"linecolor\": \"white\", \"ticks\": \"\"}}, \"scene\": {\"xaxis\": {\"backgroundcolor\": \"#E5ECF6\", \"gridcolor\": \"white\", \"gridwidth\": 2, \"linecolor\": \"white\", \"showbackground\": true, \"ticks\": \"\", \"zerolinecolor\": \"white\"}, \"yaxis\": {\"backgroundcolor\": \"#E5ECF6\", \"gridcolor\": \"white\", \"gridwidth\": 2, \"linecolor\": \"white\", \"showbackground\": true, \"ticks\": \"\", \"zerolinecolor\": \"white\"}, \"zaxis\": {\"backgroundcolor\": \"#E5ECF6\", \"gridcolor\": \"white\", \"gridwidth\": 2, \"linecolor\": \"white\", \"showbackground\": true, \"ticks\": \"\", \"zerolinecolor\": \"white\"}}, \"shapedefaults\": {\"line\": {\"color\": \"#2a3f5f\"}}, \"ternary\": {\"aaxis\": {\"gridcolor\": \"white\", \"linecolor\": \"white\", \"ticks\": \"\"}, \"baxis\": {\"gridcolor\": \"white\", \"linecolor\": \"white\", \"ticks\": \"\"}, \"bgcolor\": \"#E5ECF6\", \"caxis\": {\"gridcolor\": \"white\", \"linecolor\": \"white\", \"ticks\": \"\"}}, \"title\": {\"x\": 0.05}, \"xaxis\": {\"automargin\": true, \"gridcolor\": \"white\", \"linecolor\": \"white\", \"ticks\": \"\", \"title\": {\"standoff\": 15}, \"zerolinecolor\": \"white\", \"zerolinewidth\": 2}, \"yaxis\": {\"automargin\": true, \"gridcolor\": \"white\", \"linecolor\": \"white\", \"ticks\": \"\", \"title\": {\"standoff\": 15}, \"zerolinecolor\": \"white\", \"zerolinewidth\": 2}}}, \"title\": {\"text\": \"Tasa de Mortalidad Materna por estatus laboral\"}, \"xaxis\": {\"anchor\": \"y\", \"domain\": [0.0, 1.0], \"title\": {\"text\": \"timeline\"}}, \"yaxis\": {\"anchor\": \"x\", \"domain\": [0.0, 1.0], \"title\": {\"text\": \"value\"}}},                        {\"responsive\": true}                    ).then(function(){\n",
       "                            \n",
       "var gd = document.getElementById('83c54794-4443-4c48-a8dc-0f3c1227a7e9');\n",
       "var x = new MutationObserver(function (mutations, observer) {{\n",
       "        var display = window.getComputedStyle(gd).display;\n",
       "        if (!display || display === 'none') {{\n",
       "            console.log([gd, 'removed!']);\n",
       "            Plotly.purge(gd);\n",
       "            observer.disconnect();\n",
       "        }}\n",
       "}});\n",
       "\n",
       "// Listen for the removal of the full notebook cells\n",
       "var notebookContainer = gd.closest('#notebook-container');\n",
       "if (notebookContainer) {{\n",
       "    x.observe(notebookContainer, {childList: true});\n",
       "}}\n",
       "\n",
       "// Listen for the clearing of the current output cell\n",
       "var outputEl = gd.closest('.output');\n",
       "if (outputEl) {{\n",
       "    x.observe(outputEl, {childList: true});\n",
       "}}\n",
       "\n",
       "                        })                };                });            </script>        </div>"
      ]
     },
     "metadata": {},
     "output_type": "display_data"
    }
   ],
   "source": [
    "rates, logrank = survival(data_trabajo, 'TRABAJAACTUALMENTE', 'EDAD', 'SOBREVIVIOPARTO')\n",
    "rates.dropna().plot(kind='line',\n",
    "           title='Tasa de Mortalidad Materna por estatus laboral')"
   ]
  },
  {
   "cell_type": "code",
   "execution_count": 19,
   "metadata": {},
   "outputs": [],
   "source": [
    "data_entidad = data[((data['ENTIDADNACIMIENTO'] != 88) & (data['ENTIDADNACIMIENTO'] != 99) & (data['ENTIDADNACIMIENTO'] != 0)) & ((data['SOBREVIVIOPARTO'] == 1) | (data['SOBREVIVIOPARTO'] == 2)) & (data['EDAD'] != 999)]\n",
    "data_entidad['OrganizacionTerritorial'] = np.where(data_entidad['ENTIDADNACIMIENTO'] == 9, 'Capital', 'Interior')"
   ]
  },
  {
   "cell_type": "code",
   "execution_count": 20,
   "metadata": {},
   "outputs": [
    {
     "data": {
      "application/vnd.plotly.v1+json": {
       "config": {
        "plotlyServerURL": "https://plot.ly"
       },
       "data": [
        {
         "hovertemplate": "variable=Interior<br>timeline=%{x}<br>value=%{y}<extra></extra>",
         "legendgroup": "Interior",
         "line": {
          "color": "#636efa",
          "dash": "solid"
         },
         "mode": "lines",
         "name": "Interior",
         "orientation": "v",
         "showlegend": true,
         "type": "scatter",
         "x": [
          0,
          9,
          10,
          11,
          12,
          13,
          14,
          15,
          16,
          17,
          18,
          19,
          20,
          21,
          22,
          23,
          24,
          25,
          26,
          27,
          28,
          29,
          30,
          31,
          32,
          33,
          34,
          35,
          36,
          37,
          38,
          39,
          40,
          41,
          42,
          43,
          44,
          45,
          46,
          47,
          48,
          49,
          50,
          51,
          52,
          53,
          54,
          55,
          56,
          57,
          58
         ],
         "xaxis": "x",
         "y": [
          1,
          0.9999937703902929,
          0.9999644912246606,
          0.9999140313860212,
          0.9997800947772827,
          0.9989154249497119,
          0.9948443750050618,
          0.9832772356979071,
          0.9596146861802968,
          0.9246653297924242,
          0.8807116955315646,
          0.8265670427482049,
          0.7680697616613632,
          0.7111267681968463,
          0.6549930010334927,
          0.5997182970489724,
          0.54312166988426,
          0.48627212056537494,
          0.43042927617541854,
          0.37668954802312676,
          0.32565035567956657,
          0.27838942162434627,
          0.23447005021688397,
          0.19592745494902003,
          0.1610734115896906,
          0.13021940062433163,
          0.10328755193158395,
          0.07991530222640031,
          0.06017865274722681,
          0.04371940093581202,
          0.030449709295262986,
          0.020400725874123275,
          0.012980637750064323,
          0.00793340796405765,
          0.004583746823677752,
          0.0025553859025178225,
          0.0013505793848509612,
          0.0007375857895127018,
          0.00046036815747456627,
          0.00029902126601866316,
          0.00020557712038783086,
          0.00014951063300933155,
          0.00010901816990263775,
          0.00007787012135902703,
          0.000055443526407627264,
          0.000038000619223205245,
          0.000028656204660121964,
          0.000021180673009655347,
          0.000011836258446572113,
          0.000008098492621338811,
          0.0000031148048543610807
         ],
         "yaxis": "y"
        },
        {
         "hovertemplate": "variable=Capital<br>timeline=%{x}<br>value=%{y}<extra></extra>",
         "legendgroup": "Capital",
         "line": {
          "color": "#EF553B",
          "dash": "solid"
         },
         "mode": "lines",
         "name": "Capital",
         "orientation": "v",
         "showlegend": true,
         "type": "scatter",
         "x": [
          0,
          9,
          10,
          11,
          12,
          13,
          14,
          15,
          16,
          17,
          18,
          19,
          20,
          21,
          22,
          23,
          24,
          25,
          26,
          27,
          28,
          29,
          30,
          31,
          32,
          33,
          34,
          35,
          36,
          37,
          38,
          39,
          40,
          41,
          42,
          43,
          44,
          45,
          46,
          47,
          48,
          49,
          50,
          51,
          52,
          53,
          54,
          55,
          56,
          57,
          58
         ],
         "xaxis": "x",
         "y": [
          1,
          0.9999919315146966,
          0.9999596575734825,
          0.9999031781763602,
          0.9998547672645411,
          0.9994110005728611,
          0.9974907010706864,
          0.9902855436948812,
          0.97312387545486,
          0.9473692703668737,
          0.913634933313968,
          0.8719127958108419,
          0.8266485932595871,
          0.7806178846045226,
          0.7341030668312637,
          0.6884193030442392,
          0.6408959246080723,
          0.5897901386972616,
          0.5395880231404155,
          0.491378823453473,
          0.4424757340304498,
          0.39490394468246454,
          0.34804218204116527,
          0.303536417108416,
          0.25934532310249386,
          0.2187043626300033,
          0.17958027739452462,
          0.14155350616028844,
          0.10777075819556395,
          0.0798618675316082,
          0.056398712269745514,
          0.03807518214605566,
          0.02464115411613774,
          0.015273642679059845,
          0.009496607201929972,
          0.0054300906090899515,
          0.0032435310919081135,
          0.0017024503989865971,
          0.0010004921776034978,
          0.000580930941834289,
          0.0004034242651627008,
          0.00027432850031063673,
          0.00020978061788460466,
          0.00016136970606508047,
          0.00008068485303254022,
          0.0000564793971227781,
          0.00004034242651627011,
          0.000032273941213016116,
          0.00002420545590976211,
          0.000016136970606508085,
          0
         ],
         "yaxis": "y"
        }
       ],
       "layout": {
        "legend": {
         "title": {
          "text": "variable"
         },
         "tracegroupgap": 0
        },
        "template": {
         "data": {
          "bar": [
           {
            "error_x": {
             "color": "#2a3f5f"
            },
            "error_y": {
             "color": "#2a3f5f"
            },
            "marker": {
             "line": {
              "color": "#E5ECF6",
              "width": 0.5
             }
            },
            "type": "bar"
           }
          ],
          "barpolar": [
           {
            "marker": {
             "line": {
              "color": "#E5ECF6",
              "width": 0.5
             }
            },
            "type": "barpolar"
           }
          ],
          "carpet": [
           {
            "aaxis": {
             "endlinecolor": "#2a3f5f",
             "gridcolor": "white",
             "linecolor": "white",
             "minorgridcolor": "white",
             "startlinecolor": "#2a3f5f"
            },
            "baxis": {
             "endlinecolor": "#2a3f5f",
             "gridcolor": "white",
             "linecolor": "white",
             "minorgridcolor": "white",
             "startlinecolor": "#2a3f5f"
            },
            "type": "carpet"
           }
          ],
          "choropleth": [
           {
            "colorbar": {
             "outlinewidth": 0,
             "ticks": ""
            },
            "type": "choropleth"
           }
          ],
          "contour": [
           {
            "colorbar": {
             "outlinewidth": 0,
             "ticks": ""
            },
            "colorscale": [
             [
              0,
              "#0d0887"
             ],
             [
              0.1111111111111111,
              "#46039f"
             ],
             [
              0.2222222222222222,
              "#7201a8"
             ],
             [
              0.3333333333333333,
              "#9c179e"
             ],
             [
              0.4444444444444444,
              "#bd3786"
             ],
             [
              0.5555555555555556,
              "#d8576b"
             ],
             [
              0.6666666666666666,
              "#ed7953"
             ],
             [
              0.7777777777777778,
              "#fb9f3a"
             ],
             [
              0.8888888888888888,
              "#fdca26"
             ],
             [
              1,
              "#f0f921"
             ]
            ],
            "type": "contour"
           }
          ],
          "contourcarpet": [
           {
            "colorbar": {
             "outlinewidth": 0,
             "ticks": ""
            },
            "type": "contourcarpet"
           }
          ],
          "heatmap": [
           {
            "colorbar": {
             "outlinewidth": 0,
             "ticks": ""
            },
            "colorscale": [
             [
              0,
              "#0d0887"
             ],
             [
              0.1111111111111111,
              "#46039f"
             ],
             [
              0.2222222222222222,
              "#7201a8"
             ],
             [
              0.3333333333333333,
              "#9c179e"
             ],
             [
              0.4444444444444444,
              "#bd3786"
             ],
             [
              0.5555555555555556,
              "#d8576b"
             ],
             [
              0.6666666666666666,
              "#ed7953"
             ],
             [
              0.7777777777777778,
              "#fb9f3a"
             ],
             [
              0.8888888888888888,
              "#fdca26"
             ],
             [
              1,
              "#f0f921"
             ]
            ],
            "type": "heatmap"
           }
          ],
          "heatmapgl": [
           {
            "colorbar": {
             "outlinewidth": 0,
             "ticks": ""
            },
            "colorscale": [
             [
              0,
              "#0d0887"
             ],
             [
              0.1111111111111111,
              "#46039f"
             ],
             [
              0.2222222222222222,
              "#7201a8"
             ],
             [
              0.3333333333333333,
              "#9c179e"
             ],
             [
              0.4444444444444444,
              "#bd3786"
             ],
             [
              0.5555555555555556,
              "#d8576b"
             ],
             [
              0.6666666666666666,
              "#ed7953"
             ],
             [
              0.7777777777777778,
              "#fb9f3a"
             ],
             [
              0.8888888888888888,
              "#fdca26"
             ],
             [
              1,
              "#f0f921"
             ]
            ],
            "type": "heatmapgl"
           }
          ],
          "histogram": [
           {
            "marker": {
             "colorbar": {
              "outlinewidth": 0,
              "ticks": ""
             }
            },
            "type": "histogram"
           }
          ],
          "histogram2d": [
           {
            "colorbar": {
             "outlinewidth": 0,
             "ticks": ""
            },
            "colorscale": [
             [
              0,
              "#0d0887"
             ],
             [
              0.1111111111111111,
              "#46039f"
             ],
             [
              0.2222222222222222,
              "#7201a8"
             ],
             [
              0.3333333333333333,
              "#9c179e"
             ],
             [
              0.4444444444444444,
              "#bd3786"
             ],
             [
              0.5555555555555556,
              "#d8576b"
             ],
             [
              0.6666666666666666,
              "#ed7953"
             ],
             [
              0.7777777777777778,
              "#fb9f3a"
             ],
             [
              0.8888888888888888,
              "#fdca26"
             ],
             [
              1,
              "#f0f921"
             ]
            ],
            "type": "histogram2d"
           }
          ],
          "histogram2dcontour": [
           {
            "colorbar": {
             "outlinewidth": 0,
             "ticks": ""
            },
            "colorscale": [
             [
              0,
              "#0d0887"
             ],
             [
              0.1111111111111111,
              "#46039f"
             ],
             [
              0.2222222222222222,
              "#7201a8"
             ],
             [
              0.3333333333333333,
              "#9c179e"
             ],
             [
              0.4444444444444444,
              "#bd3786"
             ],
             [
              0.5555555555555556,
              "#d8576b"
             ],
             [
              0.6666666666666666,
              "#ed7953"
             ],
             [
              0.7777777777777778,
              "#fb9f3a"
             ],
             [
              0.8888888888888888,
              "#fdca26"
             ],
             [
              1,
              "#f0f921"
             ]
            ],
            "type": "histogram2dcontour"
           }
          ],
          "mesh3d": [
           {
            "colorbar": {
             "outlinewidth": 0,
             "ticks": ""
            },
            "type": "mesh3d"
           }
          ],
          "parcoords": [
           {
            "line": {
             "colorbar": {
              "outlinewidth": 0,
              "ticks": ""
             }
            },
            "type": "parcoords"
           }
          ],
          "pie": [
           {
            "automargin": true,
            "type": "pie"
           }
          ],
          "scatter": [
           {
            "marker": {
             "colorbar": {
              "outlinewidth": 0,
              "ticks": ""
             }
            },
            "type": "scatter"
           }
          ],
          "scatter3d": [
           {
            "line": {
             "colorbar": {
              "outlinewidth": 0,
              "ticks": ""
             }
            },
            "marker": {
             "colorbar": {
              "outlinewidth": 0,
              "ticks": ""
             }
            },
            "type": "scatter3d"
           }
          ],
          "scattercarpet": [
           {
            "marker": {
             "colorbar": {
              "outlinewidth": 0,
              "ticks": ""
             }
            },
            "type": "scattercarpet"
           }
          ],
          "scattergeo": [
           {
            "marker": {
             "colorbar": {
              "outlinewidth": 0,
              "ticks": ""
             }
            },
            "type": "scattergeo"
           }
          ],
          "scattergl": [
           {
            "marker": {
             "colorbar": {
              "outlinewidth": 0,
              "ticks": ""
             }
            },
            "type": "scattergl"
           }
          ],
          "scattermapbox": [
           {
            "marker": {
             "colorbar": {
              "outlinewidth": 0,
              "ticks": ""
             }
            },
            "type": "scattermapbox"
           }
          ],
          "scatterpolar": [
           {
            "marker": {
             "colorbar": {
              "outlinewidth": 0,
              "ticks": ""
             }
            },
            "type": "scatterpolar"
           }
          ],
          "scatterpolargl": [
           {
            "marker": {
             "colorbar": {
              "outlinewidth": 0,
              "ticks": ""
             }
            },
            "type": "scatterpolargl"
           }
          ],
          "scatterternary": [
           {
            "marker": {
             "colorbar": {
              "outlinewidth": 0,
              "ticks": ""
             }
            },
            "type": "scatterternary"
           }
          ],
          "surface": [
           {
            "colorbar": {
             "outlinewidth": 0,
             "ticks": ""
            },
            "colorscale": [
             [
              0,
              "#0d0887"
             ],
             [
              0.1111111111111111,
              "#46039f"
             ],
             [
              0.2222222222222222,
              "#7201a8"
             ],
             [
              0.3333333333333333,
              "#9c179e"
             ],
             [
              0.4444444444444444,
              "#bd3786"
             ],
             [
              0.5555555555555556,
              "#d8576b"
             ],
             [
              0.6666666666666666,
              "#ed7953"
             ],
             [
              0.7777777777777778,
              "#fb9f3a"
             ],
             [
              0.8888888888888888,
              "#fdca26"
             ],
             [
              1,
              "#f0f921"
             ]
            ],
            "type": "surface"
           }
          ],
          "table": [
           {
            "cells": {
             "fill": {
              "color": "#EBF0F8"
             },
             "line": {
              "color": "white"
             }
            },
            "header": {
             "fill": {
              "color": "#C8D4E3"
             },
             "line": {
              "color": "white"
             }
            },
            "type": "table"
           }
          ]
         },
         "layout": {
          "annotationdefaults": {
           "arrowcolor": "#2a3f5f",
           "arrowhead": 0,
           "arrowwidth": 1
          },
          "autotypenumbers": "strict",
          "coloraxis": {
           "colorbar": {
            "outlinewidth": 0,
            "ticks": ""
           }
          },
          "colorscale": {
           "diverging": [
            [
             0,
             "#8e0152"
            ],
            [
             0.1,
             "#c51b7d"
            ],
            [
             0.2,
             "#de77ae"
            ],
            [
             0.3,
             "#f1b6da"
            ],
            [
             0.4,
             "#fde0ef"
            ],
            [
             0.5,
             "#f7f7f7"
            ],
            [
             0.6,
             "#e6f5d0"
            ],
            [
             0.7,
             "#b8e186"
            ],
            [
             0.8,
             "#7fbc41"
            ],
            [
             0.9,
             "#4d9221"
            ],
            [
             1,
             "#276419"
            ]
           ],
           "sequential": [
            [
             0,
             "#0d0887"
            ],
            [
             0.1111111111111111,
             "#46039f"
            ],
            [
             0.2222222222222222,
             "#7201a8"
            ],
            [
             0.3333333333333333,
             "#9c179e"
            ],
            [
             0.4444444444444444,
             "#bd3786"
            ],
            [
             0.5555555555555556,
             "#d8576b"
            ],
            [
             0.6666666666666666,
             "#ed7953"
            ],
            [
             0.7777777777777778,
             "#fb9f3a"
            ],
            [
             0.8888888888888888,
             "#fdca26"
            ],
            [
             1,
             "#f0f921"
            ]
           ],
           "sequentialminus": [
            [
             0,
             "#0d0887"
            ],
            [
             0.1111111111111111,
             "#46039f"
            ],
            [
             0.2222222222222222,
             "#7201a8"
            ],
            [
             0.3333333333333333,
             "#9c179e"
            ],
            [
             0.4444444444444444,
             "#bd3786"
            ],
            [
             0.5555555555555556,
             "#d8576b"
            ],
            [
             0.6666666666666666,
             "#ed7953"
            ],
            [
             0.7777777777777778,
             "#fb9f3a"
            ],
            [
             0.8888888888888888,
             "#fdca26"
            ],
            [
             1,
             "#f0f921"
            ]
           ]
          },
          "colorway": [
           "#636efa",
           "#EF553B",
           "#00cc96",
           "#ab63fa",
           "#FFA15A",
           "#19d3f3",
           "#FF6692",
           "#B6E880",
           "#FF97FF",
           "#FECB52"
          ],
          "font": {
           "color": "#2a3f5f"
          },
          "geo": {
           "bgcolor": "white",
           "lakecolor": "white",
           "landcolor": "#E5ECF6",
           "showlakes": true,
           "showland": true,
           "subunitcolor": "white"
          },
          "hoverlabel": {
           "align": "left"
          },
          "hovermode": "closest",
          "mapbox": {
           "style": "light"
          },
          "paper_bgcolor": "white",
          "plot_bgcolor": "#E5ECF6",
          "polar": {
           "angularaxis": {
            "gridcolor": "white",
            "linecolor": "white",
            "ticks": ""
           },
           "bgcolor": "#E5ECF6",
           "radialaxis": {
            "gridcolor": "white",
            "linecolor": "white",
            "ticks": ""
           }
          },
          "scene": {
           "xaxis": {
            "backgroundcolor": "#E5ECF6",
            "gridcolor": "white",
            "gridwidth": 2,
            "linecolor": "white",
            "showbackground": true,
            "ticks": "",
            "zerolinecolor": "white"
           },
           "yaxis": {
            "backgroundcolor": "#E5ECF6",
            "gridcolor": "white",
            "gridwidth": 2,
            "linecolor": "white",
            "showbackground": true,
            "ticks": "",
            "zerolinecolor": "white"
           },
           "zaxis": {
            "backgroundcolor": "#E5ECF6",
            "gridcolor": "white",
            "gridwidth": 2,
            "linecolor": "white",
            "showbackground": true,
            "ticks": "",
            "zerolinecolor": "white"
           }
          },
          "shapedefaults": {
           "line": {
            "color": "#2a3f5f"
           }
          },
          "ternary": {
           "aaxis": {
            "gridcolor": "white",
            "linecolor": "white",
            "ticks": ""
           },
           "baxis": {
            "gridcolor": "white",
            "linecolor": "white",
            "ticks": ""
           },
           "bgcolor": "#E5ECF6",
           "caxis": {
            "gridcolor": "white",
            "linecolor": "white",
            "ticks": ""
           }
          },
          "title": {
           "x": 0.05
          },
          "xaxis": {
           "automargin": true,
           "gridcolor": "white",
           "linecolor": "white",
           "ticks": "",
           "title": {
            "standoff": 15
           },
           "zerolinecolor": "white",
           "zerolinewidth": 2
          },
          "yaxis": {
           "automargin": true,
           "gridcolor": "white",
           "linecolor": "white",
           "ticks": "",
           "title": {
            "standoff": 15
           },
           "zerolinecolor": "white",
           "zerolinewidth": 2
          }
         }
        },
        "title": {
         "text": "Tasa de Mortalidad Materna por lugar de nacimiento"
        },
        "xaxis": {
         "anchor": "y",
         "domain": [
          0,
          1
         ],
         "title": {
          "text": "timeline"
         }
        },
        "yaxis": {
         "anchor": "x",
         "domain": [
          0,
          1
         ],
         "title": {
          "text": "value"
         }
        }
       }
      },
      "text/html": [
       "<div>                            <div id=\"624fa3fd-2139-44a2-b649-f5c904f27edb\" class=\"plotly-graph-div\" style=\"height:525px; width:100%;\"></div>            <script type=\"text/javascript\">                require([\"plotly\"], function(Plotly) {                    window.PLOTLYENV=window.PLOTLYENV || {};                                    if (document.getElementById(\"624fa3fd-2139-44a2-b649-f5c904f27edb\")) {                    Plotly.newPlot(                        \"624fa3fd-2139-44a2-b649-f5c904f27edb\",                        [{\"hovertemplate\": \"variable=Interior<br>timeline=%{x}<br>value=%{y}<extra></extra>\", \"legendgroup\": \"Interior\", \"line\": {\"color\": \"#636efa\", \"dash\": \"solid\"}, \"mode\": \"lines\", \"name\": \"Interior\", \"orientation\": \"v\", \"showlegend\": true, \"type\": \"scatter\", \"x\": [0.0, 9.0, 10.0, 11.0, 12.0, 13.0, 14.0, 15.0, 16.0, 17.0, 18.0, 19.0, 20.0, 21.0, 22.0, 23.0, 24.0, 25.0, 26.0, 27.0, 28.0, 29.0, 30.0, 31.0, 32.0, 33.0, 34.0, 35.0, 36.0, 37.0, 38.0, 39.0, 40.0, 41.0, 42.0, 43.0, 44.0, 45.0, 46.0, 47.0, 48.0, 49.0, 50.0, 51.0, 52.0, 53.0, 54.0, 55.0, 56.0, 57.0, 58.0], \"xaxis\": \"x\", \"y\": [1.0, 0.9999937703902929, 0.9999644912246606, 0.9999140313860212, 0.9997800947772827, 0.9989154249497119, 0.9948443750050618, 0.9832772356979071, 0.9596146861802968, 0.9246653297924242, 0.8807116955315646, 0.8265670427482049, 0.7680697616613632, 0.7111267681968463, 0.6549930010334927, 0.5997182970489724, 0.54312166988426, 0.48627212056537494, 0.43042927617541854, 0.37668954802312676, 0.32565035567956657, 0.27838942162434627, 0.23447005021688397, 0.19592745494902003, 0.1610734115896906, 0.13021940062433163, 0.10328755193158395, 0.07991530222640031, 0.06017865274722681, 0.04371940093581202, 0.030449709295262986, 0.020400725874123275, 0.012980637750064323, 0.00793340796405765, 0.004583746823677752, 0.0025553859025178225, 0.0013505793848509612, 0.0007375857895127018, 0.00046036815747456627, 0.00029902126601866316, 0.00020557712038783086, 0.00014951063300933155, 0.00010901816990263775, 7.787012135902703e-05, 5.5443526407627264e-05, 3.8000619223205245e-05, 2.8656204660121964e-05, 2.1180673009655347e-05, 1.1836258446572113e-05, 8.098492621338811e-06, 3.1148048543610807e-06], \"yaxis\": \"y\"}, {\"hovertemplate\": \"variable=Capital<br>timeline=%{x}<br>value=%{y}<extra></extra>\", \"legendgroup\": \"Capital\", \"line\": {\"color\": \"#EF553B\", \"dash\": \"solid\"}, \"mode\": \"lines\", \"name\": \"Capital\", \"orientation\": \"v\", \"showlegend\": true, \"type\": \"scatter\", \"x\": [0.0, 9.0, 10.0, 11.0, 12.0, 13.0, 14.0, 15.0, 16.0, 17.0, 18.0, 19.0, 20.0, 21.0, 22.0, 23.0, 24.0, 25.0, 26.0, 27.0, 28.0, 29.0, 30.0, 31.0, 32.0, 33.0, 34.0, 35.0, 36.0, 37.0, 38.0, 39.0, 40.0, 41.0, 42.0, 43.0, 44.0, 45.0, 46.0, 47.0, 48.0, 49.0, 50.0, 51.0, 52.0, 53.0, 54.0, 55.0, 56.0, 57.0, 58.0], \"xaxis\": \"x\", \"y\": [1.0, 0.9999919315146966, 0.9999596575734825, 0.9999031781763602, 0.9998547672645411, 0.9994110005728611, 0.9974907010706864, 0.9902855436948812, 0.97312387545486, 0.9473692703668737, 0.913634933313968, 0.8719127958108419, 0.8266485932595871, 0.7806178846045226, 0.7341030668312637, 0.6884193030442392, 0.6408959246080723, 0.5897901386972616, 0.5395880231404155, 0.491378823453473, 0.4424757340304498, 0.39490394468246454, 0.34804218204116527, 0.303536417108416, 0.25934532310249386, 0.2187043626300033, 0.17958027739452462, 0.14155350616028844, 0.10777075819556395, 0.0798618675316082, 0.056398712269745514, 0.03807518214605566, 0.02464115411613774, 0.015273642679059845, 0.009496607201929972, 0.0054300906090899515, 0.0032435310919081135, 0.0017024503989865971, 0.0010004921776034978, 0.000580930941834289, 0.0004034242651627008, 0.00027432850031063673, 0.00020978061788460466, 0.00016136970606508047, 8.068485303254022e-05, 5.64793971227781e-05, 4.034242651627011e-05, 3.2273941213016116e-05, 2.420545590976211e-05, 1.6136970606508085e-05, 0.0], \"yaxis\": \"y\"}],                        {\"legend\": {\"title\": {\"text\": \"variable\"}, \"tracegroupgap\": 0}, \"template\": {\"data\": {\"bar\": [{\"error_x\": {\"color\": \"#2a3f5f\"}, \"error_y\": {\"color\": \"#2a3f5f\"}, \"marker\": {\"line\": {\"color\": \"#E5ECF6\", \"width\": 0.5}}, \"type\": \"bar\"}], \"barpolar\": [{\"marker\": {\"line\": {\"color\": \"#E5ECF6\", \"width\": 0.5}}, \"type\": \"barpolar\"}], \"carpet\": [{\"aaxis\": {\"endlinecolor\": \"#2a3f5f\", \"gridcolor\": \"white\", \"linecolor\": \"white\", \"minorgridcolor\": \"white\", \"startlinecolor\": \"#2a3f5f\"}, \"baxis\": {\"endlinecolor\": \"#2a3f5f\", \"gridcolor\": \"white\", \"linecolor\": \"white\", \"minorgridcolor\": \"white\", \"startlinecolor\": \"#2a3f5f\"}, \"type\": \"carpet\"}], \"choropleth\": [{\"colorbar\": {\"outlinewidth\": 0, \"ticks\": \"\"}, \"type\": \"choropleth\"}], \"contour\": [{\"colorbar\": {\"outlinewidth\": 0, \"ticks\": \"\"}, \"colorscale\": [[0.0, \"#0d0887\"], [0.1111111111111111, \"#46039f\"], [0.2222222222222222, \"#7201a8\"], [0.3333333333333333, \"#9c179e\"], [0.4444444444444444, \"#bd3786\"], [0.5555555555555556, \"#d8576b\"], [0.6666666666666666, \"#ed7953\"], [0.7777777777777778, \"#fb9f3a\"], [0.8888888888888888, \"#fdca26\"], [1.0, \"#f0f921\"]], \"type\": \"contour\"}], \"contourcarpet\": [{\"colorbar\": {\"outlinewidth\": 0, \"ticks\": \"\"}, \"type\": \"contourcarpet\"}], \"heatmap\": [{\"colorbar\": {\"outlinewidth\": 0, \"ticks\": \"\"}, \"colorscale\": [[0.0, \"#0d0887\"], [0.1111111111111111, \"#46039f\"], [0.2222222222222222, \"#7201a8\"], [0.3333333333333333, \"#9c179e\"], [0.4444444444444444, \"#bd3786\"], [0.5555555555555556, \"#d8576b\"], [0.6666666666666666, \"#ed7953\"], [0.7777777777777778, \"#fb9f3a\"], [0.8888888888888888, \"#fdca26\"], [1.0, \"#f0f921\"]], \"type\": \"heatmap\"}], \"heatmapgl\": [{\"colorbar\": {\"outlinewidth\": 0, \"ticks\": \"\"}, \"colorscale\": [[0.0, \"#0d0887\"], [0.1111111111111111, \"#46039f\"], [0.2222222222222222, \"#7201a8\"], [0.3333333333333333, \"#9c179e\"], [0.4444444444444444, \"#bd3786\"], [0.5555555555555556, \"#d8576b\"], [0.6666666666666666, \"#ed7953\"], [0.7777777777777778, \"#fb9f3a\"], [0.8888888888888888, \"#fdca26\"], [1.0, \"#f0f921\"]], \"type\": \"heatmapgl\"}], \"histogram\": [{\"marker\": {\"colorbar\": {\"outlinewidth\": 0, \"ticks\": \"\"}}, \"type\": \"histogram\"}], \"histogram2d\": [{\"colorbar\": {\"outlinewidth\": 0, \"ticks\": \"\"}, \"colorscale\": [[0.0, \"#0d0887\"], [0.1111111111111111, \"#46039f\"], [0.2222222222222222, \"#7201a8\"], [0.3333333333333333, \"#9c179e\"], [0.4444444444444444, \"#bd3786\"], [0.5555555555555556, \"#d8576b\"], [0.6666666666666666, \"#ed7953\"], [0.7777777777777778, \"#fb9f3a\"], [0.8888888888888888, \"#fdca26\"], [1.0, \"#f0f921\"]], \"type\": \"histogram2d\"}], \"histogram2dcontour\": [{\"colorbar\": {\"outlinewidth\": 0, \"ticks\": \"\"}, \"colorscale\": [[0.0, \"#0d0887\"], [0.1111111111111111, \"#46039f\"], [0.2222222222222222, \"#7201a8\"], [0.3333333333333333, \"#9c179e\"], [0.4444444444444444, \"#bd3786\"], [0.5555555555555556, \"#d8576b\"], [0.6666666666666666, \"#ed7953\"], [0.7777777777777778, \"#fb9f3a\"], [0.8888888888888888, \"#fdca26\"], [1.0, \"#f0f921\"]], \"type\": \"histogram2dcontour\"}], \"mesh3d\": [{\"colorbar\": {\"outlinewidth\": 0, \"ticks\": \"\"}, \"type\": \"mesh3d\"}], \"parcoords\": [{\"line\": {\"colorbar\": {\"outlinewidth\": 0, \"ticks\": \"\"}}, \"type\": \"parcoords\"}], \"pie\": [{\"automargin\": true, \"type\": \"pie\"}], \"scatter\": [{\"marker\": {\"colorbar\": {\"outlinewidth\": 0, \"ticks\": \"\"}}, \"type\": \"scatter\"}], \"scatter3d\": [{\"line\": {\"colorbar\": {\"outlinewidth\": 0, \"ticks\": \"\"}}, \"marker\": {\"colorbar\": {\"outlinewidth\": 0, \"ticks\": \"\"}}, \"type\": \"scatter3d\"}], \"scattercarpet\": [{\"marker\": {\"colorbar\": {\"outlinewidth\": 0, \"ticks\": \"\"}}, \"type\": \"scattercarpet\"}], \"scattergeo\": [{\"marker\": {\"colorbar\": {\"outlinewidth\": 0, \"ticks\": \"\"}}, \"type\": \"scattergeo\"}], \"scattergl\": [{\"marker\": {\"colorbar\": {\"outlinewidth\": 0, \"ticks\": \"\"}}, \"type\": \"scattergl\"}], \"scattermapbox\": [{\"marker\": {\"colorbar\": {\"outlinewidth\": 0, \"ticks\": \"\"}}, \"type\": \"scattermapbox\"}], \"scatterpolar\": [{\"marker\": {\"colorbar\": {\"outlinewidth\": 0, \"ticks\": \"\"}}, \"type\": \"scatterpolar\"}], \"scatterpolargl\": [{\"marker\": {\"colorbar\": {\"outlinewidth\": 0, \"ticks\": \"\"}}, \"type\": \"scatterpolargl\"}], \"scatterternary\": [{\"marker\": {\"colorbar\": {\"outlinewidth\": 0, \"ticks\": \"\"}}, \"type\": \"scatterternary\"}], \"surface\": [{\"colorbar\": {\"outlinewidth\": 0, \"ticks\": \"\"}, \"colorscale\": [[0.0, \"#0d0887\"], [0.1111111111111111, \"#46039f\"], [0.2222222222222222, \"#7201a8\"], [0.3333333333333333, \"#9c179e\"], [0.4444444444444444, \"#bd3786\"], [0.5555555555555556, \"#d8576b\"], [0.6666666666666666, \"#ed7953\"], [0.7777777777777778, \"#fb9f3a\"], [0.8888888888888888, \"#fdca26\"], [1.0, \"#f0f921\"]], \"type\": \"surface\"}], \"table\": [{\"cells\": {\"fill\": {\"color\": \"#EBF0F8\"}, \"line\": {\"color\": \"white\"}}, \"header\": {\"fill\": {\"color\": \"#C8D4E3\"}, \"line\": {\"color\": \"white\"}}, \"type\": \"table\"}]}, \"layout\": {\"annotationdefaults\": {\"arrowcolor\": \"#2a3f5f\", \"arrowhead\": 0, \"arrowwidth\": 1}, \"autotypenumbers\": \"strict\", \"coloraxis\": {\"colorbar\": {\"outlinewidth\": 0, \"ticks\": \"\"}}, \"colorscale\": {\"diverging\": [[0, \"#8e0152\"], [0.1, \"#c51b7d\"], [0.2, \"#de77ae\"], [0.3, \"#f1b6da\"], [0.4, \"#fde0ef\"], [0.5, \"#f7f7f7\"], [0.6, \"#e6f5d0\"], [0.7, \"#b8e186\"], [0.8, \"#7fbc41\"], [0.9, \"#4d9221\"], [1, \"#276419\"]], \"sequential\": [[0.0, \"#0d0887\"], [0.1111111111111111, \"#46039f\"], [0.2222222222222222, \"#7201a8\"], [0.3333333333333333, \"#9c179e\"], [0.4444444444444444, \"#bd3786\"], [0.5555555555555556, \"#d8576b\"], [0.6666666666666666, \"#ed7953\"], [0.7777777777777778, \"#fb9f3a\"], [0.8888888888888888, \"#fdca26\"], [1.0, \"#f0f921\"]], \"sequentialminus\": [[0.0, \"#0d0887\"], [0.1111111111111111, \"#46039f\"], [0.2222222222222222, \"#7201a8\"], [0.3333333333333333, \"#9c179e\"], [0.4444444444444444, \"#bd3786\"], [0.5555555555555556, \"#d8576b\"], [0.6666666666666666, \"#ed7953\"], [0.7777777777777778, \"#fb9f3a\"], [0.8888888888888888, \"#fdca26\"], [1.0, \"#f0f921\"]]}, \"colorway\": [\"#636efa\", \"#EF553B\", \"#00cc96\", \"#ab63fa\", \"#FFA15A\", \"#19d3f3\", \"#FF6692\", \"#B6E880\", \"#FF97FF\", \"#FECB52\"], \"font\": {\"color\": \"#2a3f5f\"}, \"geo\": {\"bgcolor\": \"white\", \"lakecolor\": \"white\", \"landcolor\": \"#E5ECF6\", \"showlakes\": true, \"showland\": true, \"subunitcolor\": \"white\"}, \"hoverlabel\": {\"align\": \"left\"}, \"hovermode\": \"closest\", \"mapbox\": {\"style\": \"light\"}, \"paper_bgcolor\": \"white\", \"plot_bgcolor\": \"#E5ECF6\", \"polar\": {\"angularaxis\": {\"gridcolor\": \"white\", \"linecolor\": \"white\", \"ticks\": \"\"}, \"bgcolor\": \"#E5ECF6\", \"radialaxis\": {\"gridcolor\": \"white\", \"linecolor\": \"white\", \"ticks\": \"\"}}, \"scene\": {\"xaxis\": {\"backgroundcolor\": \"#E5ECF6\", \"gridcolor\": \"white\", \"gridwidth\": 2, \"linecolor\": \"white\", \"showbackground\": true, \"ticks\": \"\", \"zerolinecolor\": \"white\"}, \"yaxis\": {\"backgroundcolor\": \"#E5ECF6\", \"gridcolor\": \"white\", \"gridwidth\": 2, \"linecolor\": \"white\", \"showbackground\": true, \"ticks\": \"\", \"zerolinecolor\": \"white\"}, \"zaxis\": {\"backgroundcolor\": \"#E5ECF6\", \"gridcolor\": \"white\", \"gridwidth\": 2, \"linecolor\": \"white\", \"showbackground\": true, \"ticks\": \"\", \"zerolinecolor\": \"white\"}}, \"shapedefaults\": {\"line\": {\"color\": \"#2a3f5f\"}}, \"ternary\": {\"aaxis\": {\"gridcolor\": \"white\", \"linecolor\": \"white\", \"ticks\": \"\"}, \"baxis\": {\"gridcolor\": \"white\", \"linecolor\": \"white\", \"ticks\": \"\"}, \"bgcolor\": \"#E5ECF6\", \"caxis\": {\"gridcolor\": \"white\", \"linecolor\": \"white\", \"ticks\": \"\"}}, \"title\": {\"x\": 0.05}, \"xaxis\": {\"automargin\": true, \"gridcolor\": \"white\", \"linecolor\": \"white\", \"ticks\": \"\", \"title\": {\"standoff\": 15}, \"zerolinecolor\": \"white\", \"zerolinewidth\": 2}, \"yaxis\": {\"automargin\": true, \"gridcolor\": \"white\", \"linecolor\": \"white\", \"ticks\": \"\", \"title\": {\"standoff\": 15}, \"zerolinecolor\": \"white\", \"zerolinewidth\": 2}}}, \"title\": {\"text\": \"Tasa de Mortalidad Materna por lugar de nacimiento\"}, \"xaxis\": {\"anchor\": \"y\", \"domain\": [0.0, 1.0], \"title\": {\"text\": \"timeline\"}}, \"yaxis\": {\"anchor\": \"x\", \"domain\": [0.0, 1.0], \"title\": {\"text\": \"value\"}}},                        {\"responsive\": true}                    ).then(function(){\n",
       "                            \n",
       "var gd = document.getElementById('624fa3fd-2139-44a2-b649-f5c904f27edb');\n",
       "var x = new MutationObserver(function (mutations, observer) {{\n",
       "        var display = window.getComputedStyle(gd).display;\n",
       "        if (!display || display === 'none') {{\n",
       "            console.log([gd, 'removed!']);\n",
       "            Plotly.purge(gd);\n",
       "            observer.disconnect();\n",
       "        }}\n",
       "}});\n",
       "\n",
       "// Listen for the removal of the full notebook cells\n",
       "var notebookContainer = gd.closest('#notebook-container');\n",
       "if (notebookContainer) {{\n",
       "    x.observe(notebookContainer, {childList: true});\n",
       "}}\n",
       "\n",
       "// Listen for the clearing of the current output cell\n",
       "var outputEl = gd.closest('.output');\n",
       "if (outputEl) {{\n",
       "    x.observe(outputEl, {childList: true});\n",
       "}}\n",
       "\n",
       "                        })                };                });            </script>        </div>"
      ]
     },
     "metadata": {},
     "output_type": "display_data"
    }
   ],
   "source": [
    "rates, logrank = survival(data_entidad, 'OrganizacionTerritorial', 'EDAD', 'SOBREVIVIOPARTO')\n",
    "rates.dropna().plot(kind='line',\n",
    "           title='Tasa de Mortalidad Materna por lugar de nacimiento')"
   ]
  },
  {
   "cell_type": "code",
   "execution_count": 21,
   "metadata": {},
   "outputs": [
    {
     "data": {
      "application/vnd.plotly.v1+json": {
       "config": {
        "plotlyServerURL": "https://plot.ly"
       },
       "data": [
        {
         "hovertemplate": "variable=JALISCO<br>timeline=%{x}<br>value=%{y}<extra></extra>",
         "legendgroup": "JALISCO",
         "line": {
          "color": "#636efa",
          "dash": "solid"
         },
         "mode": "lines",
         "name": "JALISCO",
         "showlegend": true,
         "type": "scattergl",
         "x": [
          0,
          13,
          14,
          15,
          16,
          17,
          18,
          19,
          20,
          21,
          22,
          23,
          24,
          25,
          26,
          27,
          28,
          29,
          30,
          31,
          32,
          33,
          34,
          35,
          36,
          37,
          38,
          39,
          40,
          41,
          42,
          43,
          44
         ],
         "xaxis": "x",
         "y": [
          1,
          0.9990458925675036,
          0.9957585587773562,
          0.9862608529720456,
          0.9646720038858209,
          0.9329435949033325,
          0.8916741115958751,
          0.8411584598971313,
          0.7850916376820397,
          0.7274115065356359,
          0.6717783695171357,
          0.6172120980822446,
          0.5634438074090786,
          0.5087907989348692,
          0.4554301723464979,
          0.4035093806108026,
          0.35251667519580904,
          0.3046378294923284,
          0.2608789931564478,
          0.21950542540180942,
          0.18197430848895424,
          0.14841574797685878,
          0.11833534274141096,
          0.09233157835390454,
          0.06931156811893394,
          0.05033350391617734,
          0.03488563721365935,
          0.023540432470878066,
          0.014563148901475406,
          0.008378797998109137,
          0.004761863458552709,
          0.0024893530284237305,
          0.0012663607740413397
         ],
         "yaxis": "y"
        },
        {
         "hovertemplate": "variable=TABASCO<br>timeline=%{x}<br>value=%{y}<extra></extra>",
         "legendgroup": "TABASCO",
         "line": {
          "color": "#EF553B",
          "dash": "solid"
         },
         "mode": "lines",
         "name": "TABASCO",
         "showlegend": true,
         "type": "scattergl",
         "x": [
          0,
          13,
          14,
          15,
          16,
          17,
          18,
          19,
          20,
          21,
          22,
          23,
          24,
          25,
          26,
          27,
          28,
          29,
          30,
          31,
          32,
          33,
          34,
          35,
          36,
          37,
          38,
          39,
          40,
          41,
          42,
          43,
          44
         ],
         "xaxis": "x",
         "y": [
          1,
          0.9984680565861601,
          0.993154127869401,
          0.97955813007157,
          0.9543050003590495,
          0.9184240132130114,
          0.8752902314670751,
          0.8216482753668278,
          0.762859946860713,
          0.7058429279268496,
          0.6499269933216838,
          0.5929339110036621,
          0.5353424132896085,
          0.4792110491418718,
          0.42339086100007184,
          0.3702276372166503,
          0.32065490580941663,
          0.27457692031500586,
          0.2314431385690692,
          0.19496373602700032,
          0.16030351628886713,
          0.1286114369150489,
          0.10101251885008498,
          0.07824879718505398,
          0.058668645426909506,
          0.04370826052612679,
          0.0304952485817555,
          0.020537616391794522,
          0.013428441486942567,
          0.008665054934533357,
          0.005098499174186754,
          0.002920267132632788,
          0.0016755631088876655
         ],
         "yaxis": "y"
        },
        {
         "hovertemplate": "variable=MÉXICO<br>timeline=%{x}<br>value=%{y}<extra></extra>",
         "legendgroup": "MÉXICO",
         "line": {
          "color": "#00cc96",
          "dash": "solid"
         },
         "mode": "lines",
         "name": "MÉXICO",
         "showlegend": true,
         "type": "scattergl",
         "x": [
          0,
          13,
          14,
          15,
          16,
          17,
          18,
          19,
          20,
          21,
          22,
          23,
          24,
          25,
          26,
          27,
          28,
          29,
          30,
          31,
          32,
          33,
          34,
          35,
          36,
          37,
          38,
          39,
          40,
          41,
          42,
          43,
          44
         ],
         "xaxis": "x",
         "y": [
          1,
          0.999125863869431,
          0.9955295856946746,
          0.9845530172363212,
          0.9598836049608697,
          0.921492015441116,
          0.8721414575193308,
          0.810118859047015,
          0.7454269186994726,
          0.682929118706513,
          0.6232179942975822,
          0.5653020756333086,
          0.5067056214579886,
          0.4478216996961058,
          0.3917009867764908,
          0.3369354781935303,
          0.2858718481232474,
          0.23898529808628738,
          0.1964107618477712,
          0.16156265033381442,
          0.1303401504218147,
          0.10416299998826667,
          0.0818930620577985,
          0.06310206859328621,
          0.04793668673073084,
          0.0346017107254743,
          0.024229410867448124,
          0.01660858648081007,
          0.010747767726190053,
          0.006594154434627523,
          0.0038954791321998885,
          0.0022000070400225277,
          0.0011968038297722548
         ],
         "yaxis": "y"
        },
        {
         "hovertemplate": "variable=CHIAPAS<br>timeline=%{x}<br>value=%{y}<extra></extra>",
         "legendgroup": "CHIAPAS",
         "line": {
          "color": "#ab63fa",
          "dash": "solid"
         },
         "mode": "lines",
         "name": "CHIAPAS",
         "showlegend": true,
         "type": "scattergl",
         "x": [
          0,
          13,
          14,
          15,
          16,
          17,
          18,
          19,
          20,
          21,
          22,
          23,
          24,
          25,
          26,
          27,
          28,
          29,
          30,
          31,
          32,
          33,
          34,
          35,
          36,
          37,
          38,
          39,
          40,
          41,
          42,
          43,
          44
         ],
         "xaxis": "x",
         "y": [
          1,
          0.9978052064124179,
          0.9916959871480131,
          0.977079114389474,
          0.9508320982905506,
          0.9138260682648681,
          0.8679956104128242,
          0.8110441108257632,
          0.7513660893077354,
          0.6938828613772893,
          0.6369313617902272,
          0.580307949904402,
          0.5214218642169454,
          0.4654772544716089,
          0.4110599495423744,
          0.35953886707922783,
          0.31133260173547106,
          0.26674661447432424,
          0.22541887748752715,
          0.1903248068242243,
          0.15829665916213198,
          0.1291307938591033,
          0.10350601305562784,
          0.08098109536038739,
          0.06231403649692847,
          0.04643006640947609,
          0.0328653369686959,
          0.02237784389813442,
          0.014639499496555075,
          0.009254335848672374,
          0.005690624611102942,
          0.0033713839644307687,
          0.001968526207419308
         ],
         "yaxis": "y"
        },
        {
         "hovertemplate": "variable=OAXACA<br>timeline=%{x}<br>value=%{y}<extra></extra>",
         "legendgroup": "OAXACA",
         "line": {
          "color": "#FFA15A",
          "dash": "solid"
         },
         "mode": "lines",
         "name": "OAXACA",
         "showlegend": true,
         "type": "scattergl",
         "x": [
          0,
          13,
          14,
          15,
          16,
          17,
          18,
          19,
          20,
          21,
          22,
          23,
          24,
          25,
          26,
          27,
          28,
          29,
          30,
          31,
          32,
          33,
          34,
          35,
          36,
          37,
          38,
          39,
          40,
          41,
          42,
          43,
          44
         ],
         "xaxis": "x",
         "y": [
          1,
          0.9985780919854881,
          0.9941263239026715,
          0.9824985714475559,
          0.9602928864732697,
          0.9275757132795575,
          0.8874699339543661,
          0.8380486638051313,
          0.7828866061580574,
          0.7288541016066222,
          0.6763498159492892,
          0.6221977116583164,
          0.5654277019574491,
          0.5069035627433516,
          0.44929635486571623,
          0.3939482531793595,
          0.3425735206176659,
          0.293564205126842,
          0.2488604802593986,
          0.20997727604948774,
          0.17421695392752254,
          0.14225724575088686,
          0.11379250774076095,
          0.08926127227545139,
          0.06861038391516391,
          0.05090962246348885,
          0.03685000863775895,
          0.02490332354387316,
          0.016292142297112327,
          0.010099533561015797,
          0.005993275836865954,
          0.003654436485893875,
          0.0020597732920492745
         ],
         "yaxis": "y"
        },
        {
         "hovertemplate": "variable=MICHOACÁN DE OCAMPO<br>timeline=%{x}<br>value=%{y}<extra></extra>",
         "legendgroup": "MICHOACÁN DE OCAMPO",
         "line": {
          "color": "#19d3f3",
          "dash": "solid"
         },
         "mode": "lines",
         "name": "MICHOACÁN DE OCAMPO",
         "showlegend": true,
         "type": "scattergl",
         "x": [
          0,
          13,
          14,
          15,
          16,
          17,
          18,
          19,
          20,
          21,
          22,
          23,
          24,
          25,
          26,
          27,
          28,
          29,
          30,
          31,
          32,
          33,
          34,
          35,
          36,
          37,
          38,
          39,
          40,
          41,
          42,
          43,
          44
         ],
         "xaxis": "x",
         "y": [
          1,
          0.9991130926698308,
          0.9948103935950905,
          0.9826333956565513,
          0.9581715326717478,
          0.9227311951675531,
          0.8808907426051106,
          0.8297377630758911,
          0.7760079581955036,
          0.7208519104463303,
          0.6670741646291769,
          0.6124574524186205,
          0.55797257778417,
          0.5021094012177,
          0.4464140179299103,
          0.3930797257778419,
          0.34132748453904765,
          0.2939138980775682,
          0.24828611151061888,
          0.20844719305815246,
          0.17107723284912976,
          0.13795004554388998,
          0.10958099621266591,
          0.08460376815762981,
          0.06364159355673805,
          0.04667050194160797,
          0.03252792559566615,
          0.02204084567812454,
          0.01408265017498442,
          0.008581427681096888,
          0.005105709765568821,
          0.0029124119085286917,
          0.0015820509132748448
         ],
         "yaxis": "y"
        },
        {
         "hovertemplate": "variable=HIDALGO<br>timeline=%{x}<br>value=%{y}<extra></extra>",
         "legendgroup": "HIDALGO",
         "line": {
          "color": "#FF6692",
          "dash": "solid"
         },
         "mode": "lines",
         "name": "HIDALGO",
         "showlegend": true,
         "type": "scattergl",
         "x": [
          0,
          13,
          14,
          15,
          16,
          17,
          18,
          19,
          20,
          21,
          22,
          23,
          24,
          25,
          26,
          27,
          28,
          29,
          30,
          31,
          32,
          33,
          34,
          35,
          36,
          37,
          38,
          39,
          40,
          41,
          42,
          43,
          44
         ],
         "xaxis": "x",
         "y": [
          1,
          0.999209748139084,
          0.9959212807178539,
          0.9870755582747021,
          0.9653563780972768,
          0.9306107882125012,
          0.8844702763332307,
          0.8297644539614568,
          0.7744723156928723,
          0.7225451208320585,
          0.6693943101866018,
          0.6141531559090444,
          0.5570255939634959,
          0.49780768838584716,
          0.4376210869786887,
          0.37998368512287145,
          0.3271897624146016,
          0.279749158764148,
          0.23603038645865196,
          0.19758845722443152,
          0.16220556745182016,
          0.13092688895686758,
          0.10347200978892629,
          0.08047822983583151,
          0.060721933312939735,
          0.04369328030998268,
          0.02974915876414806,
          0.019348424594677283,
          0.01213418986438259,
          0.007520138676455596,
          0.0043081472417660855,
          0.002268787600693382,
          0.0011471397981033954
         ],
         "yaxis": "y"
        },
        {
         "hovertemplate": "variable=PUEBLA<br>timeline=%{x}<br>value=%{y}<extra></extra>",
         "legendgroup": "PUEBLA",
         "line": {
          "color": "#B6E880",
          "dash": "solid"
         },
         "mode": "lines",
         "name": "PUEBLA",
         "showlegend": true,
         "type": "scattergl",
         "x": [
          0,
          13,
          14,
          15,
          16,
          17,
          18,
          19,
          20,
          21,
          22,
          23,
          24,
          25,
          26,
          27,
          28,
          29,
          30,
          31,
          32,
          33,
          34,
          35,
          36,
          37,
          38,
          39,
          40,
          41,
          42,
          43,
          44
         ],
         "xaxis": "x",
         "y": [
          1,
          0.9988277711667232,
          0.9949647443297877,
          0.9822567181144874,
          0.9555174679857199,
          0.9178640569774259,
          0.8709038594746281,
          0.8153206756300728,
          0.7560964779851875,
          0.6984086105536115,
          0.6406585794717868,
          0.585039873541374,
          0.5267126085643754,
          0.46877608653180103,
          0.41259790774914323,
          0.3585421735964338,
          0.3093440846846527,
          0.26479938902012334,
          0.22186206774061779,
          0.18517663357192335,
          0.15317123421487328,
          0.12484237074401011,
          0.09885796493970132,
          0.07690531588014844,
          0.05791876098964531,
          0.04207591069747617,
          0.029767507948066742,
          0.020034456423281173,
          0.012734667779692024,
          0.007717173152407512,
          0.004475782817967073,
          0.0023888602738752823,
          0.0012876756123119549
         ],
         "yaxis": "y"
        },
        {
         "hovertemplate": "variable=VERACRUZ DE IGNACIO DE LA LLAVE<br>timeline=%{x}<br>value=%{y}<extra></extra>",
         "legendgroup": "VERACRUZ DE IGNACIO DE LA LLAVE",
         "line": {
          "color": "#FF97FF",
          "dash": "solid"
         },
         "mode": "lines",
         "name": "VERACRUZ DE IGNACIO DE LA LLAVE",
         "showlegend": true,
         "type": "scattergl",
         "x": [
          0,
          13,
          14,
          15,
          16,
          17,
          18,
          19,
          20,
          21,
          22,
          23,
          24,
          25,
          26,
          27,
          28,
          29,
          30,
          31,
          32,
          33,
          34,
          35,
          36,
          37,
          38,
          39,
          40,
          41,
          42,
          43,
          44
         ],
         "xaxis": "x",
         "y": [
          1,
          0.9989314043812418,
          0.9941145041305318,
          0.9823599523241949,
          0.9594837861164773,
          0.9262422424068051,
          0.8851341909498162,
          0.834466318688093,
          0.7800748016933126,
          0.7266450207554142,
          0.6731412601208336,
          0.6203608565204884,
          0.5644486457605522,
          0.5075582590111382,
          0.4514980888578357,
          0.39793678845916686,
          0.3446714068472321,
          0.2951872097324399,
          0.2495252969462826,
          0.20957626073733085,
          0.17293165098023097,
          0.13904894989930547,
          0.11110928445193363,
          0.08666310468127075,
          0.06538983190168918,
          0.04719904648390938,
          0.03286342525995641,
          0.02170071102708478,
          0.013858863178660964,
          0.008400805556697215,
          0.004545641362870411,
          0.002433110024248899,
          0.0012001150795281734
         ],
         "yaxis": "y"
        },
        {
         "hovertemplate": "variable=GUERRERO<br>timeline=%{x}<br>value=%{y}<extra></extra>",
         "legendgroup": "GUERRERO",
         "line": {
          "color": "#FECB52",
          "dash": "solid"
         },
         "mode": "lines",
         "name": "GUERRERO",
         "showlegend": true,
         "type": "scattergl",
         "x": [
          0,
          13,
          14,
          15,
          16,
          17,
          18,
          19,
          20,
          21,
          22,
          23,
          24,
          25,
          26,
          27,
          28,
          29,
          30,
          31,
          32,
          33,
          34,
          35,
          36,
          37,
          38,
          39,
          40,
          41,
          42,
          43,
          44
         ],
         "xaxis": "x",
         "y": [
          1,
          0.9985419305428731,
          0.9931662199181126,
          0.980264514418687,
          0.9546672950602368,
          0.9185395740669834,
          0.8758431765295001,
          0.8246192818639716,
          0.7663701434504697,
          0.7112580635659373,
          0.6561901676043475,
          0.5989425314442255,
          0.5405755692362075,
          0.48350466876785764,
          0.4286135084980409,
          0.3742378273292287,
          0.32354413973902,
          0.27768122772393866,
          0.23402751185601942,
          0.1963386255854368,
          0.16166897404930924,
          0.13231612124068465,
          0.1057910395004271,
          0.08355179828566374,
          0.06229933134996615,
          0.04559780847742202,
          0.031768240596188387,
          0.021429202627470622,
          0.013520280420630946,
          0.00855695307667383,
          0.004889687472385045,
          0.0028130430940528435,
          0.00153170932869893
         ],
         "yaxis": "y"
        },
        {
         "hovertemplate": "variable=CHIHUAHUA<br>timeline=%{x}<br>value=%{y}<extra></extra>",
         "legendgroup": "CHIHUAHUA",
         "line": {
          "color": "#636efa",
          "dash": "solid"
         },
         "mode": "lines",
         "name": "CHIHUAHUA",
         "showlegend": true,
         "type": "scattergl",
         "x": [
          0,
          13,
          14,
          15,
          16,
          17,
          18,
          19,
          20,
          21,
          22,
          23,
          24,
          25,
          26,
          27,
          28,
          29,
          30,
          31,
          32,
          33,
          34,
          35,
          36,
          37,
          38,
          39,
          40,
          41,
          42,
          43,
          44
         ],
         "xaxis": "x",
         "y": [
          1,
          0.9979515630001061,
          0.9923183612503991,
          0.9753547423450323,
          0.9472740851381627,
          0.9051957750986873,
          0.8548597034033912,
          0.7917635762295945,
          0.724890643337245,
          0.6606422703510082,
          0.601685692947828,
          0.5453536754507621,
          0.4884455350474767,
          0.43501546996692586,
          0.3822468793342576,
          0.3314627120452362,
          0.28191614211031674,
          0.23830150432092168,
          0.1962658700522778,
          0.16112237277285799,
          0.1300757494932251,
          0.10378747466126104,
          0.08210818307905673,
          0.06064227035100817,
          0.0442974501226928,
          0.031558732529606295,
          0.021892670436359736,
          0.01446708631174649,
          0.009986130374479884,
          0.006187986770511036,
          0.003606102635228846,
          0.0020484369998933086,
          0.0009388669582844336
         ],
         "yaxis": "y"
        },
        {
         "hovertemplate": "variable=GUANAJUATO<br>timeline=%{x}<br>value=%{y}<extra></extra>",
         "legendgroup": "GUANAJUATO",
         "line": {
          "color": "#EF553B",
          "dash": "solid"
         },
         "mode": "lines",
         "name": "GUANAJUATO",
         "showlegend": true,
         "type": "scattergl",
         "x": [
          0,
          13,
          14,
          15,
          16,
          17,
          18,
          19,
          20,
          21,
          22,
          23,
          24,
          25,
          26,
          27,
          28,
          29,
          30,
          31,
          32,
          33,
          34,
          35,
          36,
          37,
          38,
          39,
          40,
          41,
          42,
          43,
          44
         ],
         "xaxis": "x",
         "y": [
          1,
          0.9992464124989383,
          0.9957013670714111,
          0.9844081684639554,
          0.9595610087458604,
          0.9254691347541818,
          0.8830135008915682,
          0.8322577906088138,
          0.7757493419376754,
          0.7208648212617813,
          0.6650462766409101,
          0.6102891228666047,
          0.5529952449690079,
          0.49646556848093754,
          0.4405090430500132,
          0.38580495881803495,
          0.3339454020548529,
          0.28641631994565686,
          0.24268701706716472,
          0.203394327927316,
          0.16814553791288103,
          0.1369194192069287,
          0.10837861934278677,
          0.08306444765220342,
          0.06254776258809543,
          0.045194022246752195,
          0.031480852509127966,
          0.021249044748238095,
          0.013755625371486798,
          0.00857603804024794,
          0.004850556168803604,
          0.002674704933344656,
          0.0013479663751379811
         ],
         "yaxis": "y"
        },
        {
         "hovertemplate": "variable=SONORA<br>timeline=%{x}<br>value=%{y}<extra></extra>",
         "legendgroup": "SONORA",
         "line": {
          "color": "#00cc96",
          "dash": "solid"
         },
         "mode": "lines",
         "name": "SONORA",
         "showlegend": true,
         "type": "scattergl",
         "x": [
          0,
          13,
          14,
          15,
          16,
          17,
          18,
          19,
          20,
          21,
          22,
          23,
          24,
          25,
          26,
          27,
          28,
          29,
          30,
          31,
          32,
          33,
          34,
          35,
          36,
          37,
          38,
          39,
          40,
          41,
          42,
          43,
          44
         ],
         "xaxis": "x",
         "y": [
          1,
          0.999238219610404,
          0.9961910980520183,
          0.9859614756774397,
          0.9644955925563176,
          0.9307323974317114,
          0.8867395799325276,
          0.8310751986070297,
          0.7703232125367286,
          0.710985961475677,
          0.6524104908042216,
          0.5965284579388391,
          0.5416802698879095,
          0.48740341712917573,
          0.4336706932201541,
          0.38137991076286865,
          0.33085754706714554,
          0.2843889433017736,
          0.2387637392534551,
          0.2005114811187288,
          0.16394602241810846,
          0.13162476874523887,
          0.10297638480792254,
          0.08009576667754918,
          0.060479921645445606,
          0.04339427576450101,
          0.029246925671999106,
          0.01877244531505059,
          0.011644357383828482,
          0.007073675046250947,
          0.004244205027750569,
          0.002475786266187831,
          0.0010338448144520615
         ],
         "yaxis": "y"
        },
        {
         "hovertemplate": "variable=QUERÉTARO<br>timeline=%{x}<br>value=%{y}<extra></extra>",
         "legendgroup": "QUERÉTARO",
         "line": {
          "color": "#ab63fa",
          "dash": "solid"
         },
         "mode": "lines",
         "name": "QUERÉTARO",
         "showlegend": true,
         "type": "scattergl",
         "x": [
          0,
          13,
          14,
          15,
          16,
          17,
          18,
          19,
          20,
          21,
          22,
          23,
          24,
          25,
          26,
          27,
          28,
          29,
          30,
          31,
          32,
          33,
          34,
          35,
          36,
          37,
          38,
          39,
          40,
          41,
          42,
          43,
          44
         ],
         "xaxis": "x",
         "y": [
          1,
          0.9992518969755266,
          0.9965801004595476,
          0.987674112072957,
          0.9682590573901877,
          0.9350219087314303,
          0.8935556268034626,
          0.840084072530369,
          0.78333511453101,
          0.7295073207224537,
          0.6746108083075059,
          0.6204980228705782,
          0.5657796302233618,
          0.510313134551672,
          0.4528873214349328,
          0.39364468668732866,
          0.34209682590573903,
          0.29179580349827205,
          0.24740835737950193,
          0.20857824801396446,
          0.17142246446510617,
          0.13875529906308995,
          0.11007801645826654,
          0.0854618645577286,
          0.06383812475508528,
          0.046987994727654844,
          0.031883438423996276,
          0.02066189305689144,
          0.01275337536959851,
          0.007445406291190191,
          0.003989882797192828,
          0.0022086851198746026,
          0.0009262227922054781
         ],
         "yaxis": "y"
        },
        {
         "hovertemplate": "variable=CAMPECHE<br>timeline=%{x}<br>value=%{y}<extra></extra>",
         "legendgroup": "CAMPECHE",
         "line": {
          "color": "#FFA15A",
          "dash": "solid"
         },
         "mode": "lines",
         "name": "CAMPECHE",
         "showlegend": true,
         "type": "scattergl",
         "x": [
          0,
          13,
          14,
          15,
          16,
          17,
          18,
          19,
          20,
          21,
          22,
          23,
          24,
          25,
          26,
          27,
          28,
          29,
          30,
          31,
          32,
          33,
          34,
          35,
          36,
          37,
          38,
          39,
          40,
          41,
          42,
          43,
          44
         ],
         "xaxis": "x",
         "y": [
          1,
          0.9981292384441505,
          0.9924390053784397,
          0.9791877776911689,
          0.9564268454283273,
          0.9245459505807164,
          0.8874425130563575,
          0.8349832410943961,
          0.7748850261127145,
          0.719853457011459,
          0.6626393327617128,
          0.6023852209837093,
          0.5433003351781124,
          0.48873645646582026,
          0.433860784160886,
          0.376256917920337,
          0.32395354275469646,
          0.27796398784005033,
          0.23275391690700756,
          0.1923766466599114,
          0.15652038350611908,
          0.1267440954088394,
          0.09751344609868279,
          0.07319354587263238,
          0.05456387871229249,
          0.03819471509860474,
          0.027126042559825425,
          0.016758905604489838,
          0.010211240159014737,
          0.00631382025099385,
          0.0035856263153792225,
          0.0025722971392937886,
          0.0012471743705666852
         ],
         "yaxis": "y"
        },
        {
         "hovertemplate": "variable=SAN LUIS POTOSÍ<br>timeline=%{x}<br>value=%{y}<extra></extra>",
         "legendgroup": "SAN LUIS POTOSÍ",
         "line": {
          "color": "#19d3f3",
          "dash": "solid"
         },
         "mode": "lines",
         "name": "SAN LUIS POTOSÍ",
         "showlegend": true,
         "type": "scattergl",
         "x": [
          0,
          13,
          14,
          15,
          16,
          17,
          18,
          19,
          20,
          21,
          22,
          23,
          24,
          25,
          26,
          27,
          28,
          29,
          30,
          31,
          32,
          33,
          34,
          35,
          36,
          37,
          38,
          39,
          40,
          41,
          42,
          43,
          44
         ],
         "xaxis": "x",
         "y": [
          1,
          0.999254347957518,
          0.996473267366639,
          0.9869813183934212,
          0.9680780314786077,
          0.9371032425787463,
          0.900405070433888,
          0.8514943269986498,
          0.7974647830555605,
          0.7461961669454461,
          0.6952298422039054,
          0.6447068781362724,
          0.5921283327623377,
          0.5342093065435998,
          0.47802341750468513,
          0.42167630640253123,
          0.36607484734285867,
          0.3164789101388525,
          0.2691602345781018,
          0.22627516575643372,
          0.18810584228451657,
          0.15231454424537985,
          0.1232744201043913,
          0.09580621107998627,
          0.07168335986779786,
          0.05191350436307203,
          0.03569053424961204,
          0.024102698454283446,
          0.015074262912879624,
          0.008967977267689076,
          0.004917272928800304,
          0.002599705769734586,
          0.001370387537534511
         ],
         "yaxis": "y"
        },
        {
         "hovertemplate": "variable=CIUDAD DE MÉXICO<br>timeline=%{x}<br>value=%{y}<extra></extra>",
         "legendgroup": "CIUDAD DE MÉXICO",
         "line": {
          "color": "#FF6692",
          "dash": "solid"
         },
         "mode": "lines",
         "name": "CIUDAD DE MÉXICO",
         "showlegend": true,
         "type": "scattergl",
         "x": [
          0,
          13,
          14,
          15,
          16,
          17,
          18,
          19,
          20,
          21,
          22,
          23,
          24,
          25,
          26,
          27,
          28,
          29,
          30,
          31,
          32,
          33,
          34,
          35,
          36,
          37,
          38,
          39,
          40,
          41,
          42,
          43,
          44
         ],
         "xaxis": "x",
         "y": [
          1,
          0.9994110005728611,
          0.9974907010706864,
          0.9902855436948812,
          0.97312387545486,
          0.9473692703668737,
          0.913634933313968,
          0.8719127958108419,
          0.8266485932595871,
          0.7806178846045226,
          0.7341030668312637,
          0.6884193030442392,
          0.6408959246080723,
          0.5897901386972616,
          0.5395880231404155,
          0.491378823453473,
          0.4424757340304498,
          0.39490394468246454,
          0.34804218204116527,
          0.303536417108416,
          0.25934532310249386,
          0.2187043626300033,
          0.17958027739452462,
          0.14155350616028844,
          0.10777075819556395,
          0.0798618675316082,
          0.056398712269745514,
          0.03807518214605566,
          0.02464115411613774,
          0.015273642679059845,
          0.009496607201929972,
          0.0054300906090899515,
          0.0032435310919081135
         ],
         "yaxis": "y"
        },
        {
         "hovertemplate": "variable=SINALOA<br>timeline=%{x}<br>value=%{y}<extra></extra>",
         "legendgroup": "SINALOA",
         "line": {
          "color": "#B6E880",
          "dash": "solid"
         },
         "mode": "lines",
         "name": "SINALOA",
         "showlegend": true,
         "type": "scattergl",
         "x": [
          0,
          13,
          14,
          15,
          16,
          17,
          18,
          19,
          20,
          21,
          22,
          23,
          24,
          25,
          26,
          27,
          28,
          29,
          30,
          31,
          32,
          33,
          34,
          35,
          36,
          37,
          38,
          39,
          40,
          41,
          42,
          43,
          44
         ],
         "xaxis": "x",
         "y": [
          1,
          0.9991997923785635,
          0.9964315065530511,
          0.9866343699987021,
          0.967299623686146,
          0.9379082140230974,
          0.902028634456508,
          0.8566330723647213,
          0.805398157359747,
          0.7562827111899306,
          0.7057182404083222,
          0.6529910463255335,
          0.5967818677278429,
          0.5399671266058222,
          0.48053549028937265,
          0.42532116441022544,
          0.3706907738223973,
          0.3181798520697264,
          0.26884813356979087,
          0.22516112288593781,
          0.18510748734806862,
          0.14801678273281715,
          0.11577057831221071,
          0.08793632942601326,
          0.06514122583156705,
          0.04721224966477787,
          0.03241922228470089,
          0.021843505341926542,
          0.0137981746615338,
          0.008607638738699769,
          0.005298672087893076,
          0.0029629309226177603,
          0.0016652969419092523
         ],
         "yaxis": "y"
        },
        {
         "hovertemplate": "variable=COLIMA<br>timeline=%{x}<br>value=%{y}<extra></extra>",
         "legendgroup": "COLIMA",
         "line": {
          "color": "#FF97FF",
          "dash": "solid"
         },
         "mode": "lines",
         "name": "COLIMA",
         "showlegend": true,
         "type": "scattergl",
         "x": [
          0,
          13,
          14,
          15,
          16,
          17,
          18,
          19,
          20,
          21,
          22,
          23,
          24,
          25,
          26,
          27,
          28,
          29,
          30,
          31,
          32,
          33,
          34,
          35,
          36,
          37,
          38,
          39,
          40,
          41,
          42,
          43,
          44
         ],
         "xaxis": "x",
         "y": [
          1,
          0.9987916868052203,
          0.9939584340260991,
          0.9829627839536001,
          0.9597631706138231,
          0.9259304011599799,
          0.8813436442725949,
          0.8313194780086993,
          0.7763412276462057,
          0.7197921701304976,
          0.6672305461575639,
          0.6152730787820206,
          0.5588448525857908,
          0.5019333011116481,
          0.4445384243595939,
          0.3947559207346546,
          0.33361527307878197,
          0.28612856452392466,
          0.23827936201063316,
          0.1998550024166264,
          0.1616723054615756,
          0.12904784920251333,
          0.09968583856935717,
          0.0775737071048816,
          0.05703238279362009,
          0.04072015466408893,
          0.02803286611889802,
          0.019091348477525378,
          0.010270662155630743,
          0.006524891251812472,
          0.003383276945384245,
          0.0014499758337361054,
          0.0006041565973900437
         ],
         "yaxis": "y"
        },
        {
         "hovertemplate": "variable=DURANGO<br>timeline=%{x}<br>value=%{y}<extra></extra>",
         "legendgroup": "DURANGO",
         "line": {
          "color": "#FECB52",
          "dash": "solid"
         },
         "mode": "lines",
         "name": "DURANGO",
         "showlegend": true,
         "type": "scattergl",
         "x": [
          0,
          13,
          14,
          15,
          16,
          17,
          18,
          19,
          20,
          21,
          22,
          23,
          24,
          25,
          26,
          27,
          28,
          29,
          30,
          31,
          32,
          33,
          34,
          35,
          36,
          37,
          38,
          39,
          40,
          41,
          42,
          43,
          44
         ],
         "xaxis": "x",
         "y": [
          1,
          0.9988049481605878,
          0.9948968056587314,
          0.9832692742482478,
          0.956332159813959,
          0.9191240593004091,
          0.8744872581634947,
          0.8197732631374949,
          0.7596330867866025,
          0.7034979490326541,
          0.6474274086754299,
          0.5919705435870929,
          0.5347695487871832,
          0.47963567068247137,
          0.42553535092535755,
          0.37343755046671573,
          0.3230515810212848,
          0.27573398792028675,
          0.23206614773424616,
          0.19082070992538977,
          0.15632570007428684,
          0.12467297567907996,
          0.09960918574981428,
          0.07858273311585534,
          0.058396046639320374,
          0.04302186621879136,
          0.029747101191821945,
          0.020445076063434618,
          0.013177868931882032,
          0.008010077193889083,
          0.004941700849455762,
          0.0028745841542585806,
          0.0016472336164852549
         ],
         "yaxis": "y"
        },
        {
         "hovertemplate": "variable=MORELOS<br>timeline=%{x}<br>value=%{y}<extra></extra>",
         "legendgroup": "MORELOS",
         "line": {
          "color": "#636efa",
          "dash": "solid"
         },
         "mode": "lines",
         "name": "MORELOS",
         "showlegend": true,
         "type": "scattergl",
         "x": [
          0,
          13,
          14,
          15,
          16,
          17,
          18,
          19,
          20,
          21,
          22,
          23,
          24,
          25,
          26,
          27,
          28,
          29,
          30,
          31,
          32,
          33,
          34,
          35,
          36,
          37,
          38,
          39,
          40,
          41,
          42,
          43,
          44
         ],
         "xaxis": "x",
         "y": [
          1,
          0.9990896085316698,
          0.9941474834178708,
          0.9809684831144069,
          0.9561278016213639,
          0.9210994060779475,
          0.8757098885854254,
          0.8224736636753801,
          0.7640785537781247,
          0.7065071313998359,
          0.6476785017557556,
          0.5925347899596826,
          0.534963367581394,
          0.4746607707981103,
          0.41466163783760374,
          0.3596479819655789,
          0.30905622751116324,
          0.263796765942689,
          0.22035808731087725,
          0.18346555685611493,
          0.15129839164173925,
          0.12086530541466176,
          0.09511423245328829,
          0.0710105345298479,
          0.05397320847964627,
          0.03884336931547234,
          0.027528503923353726,
          0.01729743789829628,
          0.011531625265530851,
          0.006416092253002125,
          0.0039016777214202127,
          0.0021675987341223412,
          0.001213855291108511
         ],
         "yaxis": "y"
        },
        {
         "hovertemplate": "variable=TLAXCALA<br>timeline=%{x}<br>value=%{y}<extra></extra>",
         "legendgroup": "TLAXCALA",
         "line": {
          "color": "#EF553B",
          "dash": "solid"
         },
         "mode": "lines",
         "name": "TLAXCALA",
         "showlegend": true,
         "type": "scattergl",
         "x": [
          0,
          13,
          14,
          15,
          16,
          17,
          18,
          19,
          20,
          21,
          22,
          23,
          24,
          25,
          26,
          27,
          28,
          29,
          30,
          31,
          32,
          33,
          34,
          35,
          36,
          37,
          38,
          39,
          40,
          41,
          42,
          43,
          44
         ],
         "xaxis": "x",
         "y": [
          1,
          0.9995242877530521,
          0.9954543051958342,
          0.9836672128548016,
          0.9591416036788422,
          0.9205031978434379,
          0.8719276917384639,
          0.8150536497700726,
          0.7560124742322529,
          0.7011998520006342,
          0.6445900946138803,
          0.5885617633067287,
          0.5294148739362543,
          0.4695808446535227,
          0.41233680427083874,
          0.3577884666208574,
          0.31064009725672626,
          0.26354458480892223,
          0.22120619483059367,
          0.1819335059992599,
          0.15196363444156677,
          0.12320947195940593,
          0.09672815687932765,
          0.07510967810137957,
          0.057085469633701605,
          0.04006554257624611,
          0.028807019398488294,
          0.01929277445953803,
          0.012051376922670337,
          0.0072942544531952045,
          0.004017125640890111,
          0.0022199904857550606,
          0.0010042814102225275
         ],
         "yaxis": "y"
        },
        {
         "hovertemplate": "variable=TAMAULIPAS<br>timeline=%{x}<br>value=%{y}<extra></extra>",
         "legendgroup": "TAMAULIPAS",
         "line": {
          "color": "#00cc96",
          "dash": "solid"
         },
         "mode": "lines",
         "name": "TAMAULIPAS",
         "showlegend": true,
         "type": "scattergl",
         "x": [
          0,
          13,
          14,
          15,
          16,
          17,
          18,
          19,
          20,
          21,
          22,
          23,
          24,
          25,
          26,
          27,
          28,
          29,
          30,
          31,
          32,
          33,
          34,
          35,
          36,
          37,
          38,
          39,
          40,
          41,
          42,
          43,
          44
         ],
         "xaxis": "x",
         "y": [
          1,
          0.9990659401756923,
          0.995285221839208,
          0.9836094740353604,
          0.9613254753697325,
          0.9296119203825199,
          0.8837985099521846,
          0.8264872678750131,
          0.7651284332258418,
          0.7065272990103414,
          0.6480596019125981,
          0.5903258089625267,
          0.5326142555320803,
          0.47499166018014033,
          0.41694651395529825,
          0.36245969087067725,
          0.31235405315245196,
          0.26502835538752334,
          0.2209941065272988,
          0.182742132769932,
          0.14829311686867552,
          0.11806960969643043,
          0.09371733570554873,
          0.07185588791282103,
          0.054464583564994985,
          0.0389413988657845,
          0.027376848660068946,
          0.017569220504837096,
          0.0108751250972979,
          0.006249305015011673,
          0.003513844100967419,
          0.0020015567663738457,
          0.001045257422439675
         ],
         "yaxis": "y"
        },
        {
         "hovertemplate": "variable=YUCATÁN<br>timeline=%{x}<br>value=%{y}<extra></extra>",
         "legendgroup": "YUCATÁN",
         "line": {
          "color": "#ab63fa",
          "dash": "solid"
         },
         "mode": "lines",
         "name": "YUCATÁN",
         "showlegend": true,
         "type": "scattergl",
         "x": [
          0,
          13,
          14,
          15,
          16,
          17,
          18,
          19,
          20,
          21,
          22,
          23,
          24,
          25,
          26,
          27,
          28,
          29,
          30,
          31,
          32,
          33,
          34,
          35,
          36,
          37,
          38,
          39,
          40,
          41,
          42,
          43,
          44
         ],
         "xaxis": "x",
         "y": [
          1,
          0.9989450399863881,
          0.9956440360728265,
          0.9842436617321764,
          0.9622256253190403,
          0.9305427939424871,
          0.8935851624978735,
          0.8470648289943847,
          0.7908116385911179,
          0.7377573591968699,
          0.6827973455844818,
          0.6260677216266806,
          0.5711077080142926,
          0.5146503318019396,
          0.4582269865577676,
          0.40347115875446626,
          0.35399013101922766,
          0.30604049685213525,
          0.2616641143440531,
          0.21956780670410067,
          0.1821337417049515,
          0.14936191934660537,
          0.12063978220180367,
          0.09120299472519995,
          0.06795984345754638,
          0.0503318019397652,
          0.03416709205376893,
          0.02191594350859283,
          0.013748511145142087,
          0.008507742045261186,
          0.004594180704441043,
          0.0024502297090352224,
          0.0010549600136123874
         ],
         "yaxis": "y"
        },
        {
         "hovertemplate": "variable=COAHUILA DE ZARAGOZA<br>timeline=%{x}<br>value=%{y}<extra></extra>",
         "legendgroup": "COAHUILA DE ZARAGOZA",
         "line": {
          "color": "#FFA15A",
          "dash": "solid"
         },
         "mode": "lines",
         "name": "COAHUILA DE ZARAGOZA",
         "showlegend": true,
         "type": "scattergl",
         "x": [
          0,
          13,
          14,
          15,
          16,
          17,
          18,
          19,
          20,
          21,
          22,
          23,
          24,
          25,
          26,
          27,
          28,
          29,
          30,
          31,
          32,
          33,
          34,
          35,
          36,
          37,
          38,
          39,
          40,
          41,
          42,
          43,
          44
         ],
         "xaxis": "x",
         "y": [
          1,
          0.9992112892223737,
          0.9949053547066845,
          0.9833518076398357,
          0.9587099249658931,
          0.9224079126875858,
          0.8751278990450198,
          0.8161451227830832,
          0.7566507503410643,
          0.6984353683492491,
          0.6391115279672579,
          0.585372612551159,
          0.5286280695770806,
          0.4683236698499315,
          0.4133910300136427,
          0.35988659618008173,
          0.3122015688949521,
          0.2646657571623466,
          0.22256565484311036,
          0.185005968622101,
          0.14925818553888118,
          0.11851978171896303,
          0.09336630286493862,
          0.07117581855388808,
          0.052950204638472026,
          0.03773021828103682,
          0.026134038199181444,
          0.017650068212824003,
          0.010615620736698495,
          0.0067360163710777615,
          0.004092769440654842,
          0.0022595497953615267,
          0.001172407912687585
         ],
         "yaxis": "y"
        },
        {
         "hovertemplate": "variable=BAJA CALIFORNIA SUR<br>timeline=%{x}<br>value=%{y}<extra></extra>",
         "legendgroup": "BAJA CALIFORNIA SUR",
         "line": {
          "color": "#19d3f3",
          "dash": "solid"
         },
         "mode": "lines",
         "name": "BAJA CALIFORNIA SUR",
         "showlegend": true,
         "type": "scattergl",
         "x": [
          0,
          13,
          14,
          15,
          16,
          17,
          18,
          19,
          20,
          21,
          22,
          23,
          24,
          25,
          26,
          27,
          28,
          29,
          30,
          31,
          32,
          33,
          34,
          35,
          36,
          37,
          38,
          39,
          40,
          41,
          42,
          43,
          44
         ],
         "xaxis": "x",
         "y": [
          1,
          0.9990495802312689,
          0.9949310945667666,
          0.9862189133533982,
          0.9630920323142719,
          0.928243307460796,
          0.8797718992555047,
          0.8257563757326151,
          0.7652463171233957,
          0.7025186123871383,
          0.6432757801362273,
          0.5854585775384129,
          0.5293838111832726,
          0.4660224932678599,
          0.4107397433866625,
          0.358466656106447,
          0.3106288610803105,
          0.2608902265167116,
          0.21938856328211634,
          0.18232219230159993,
          0.1477902740377,
          0.11801045461745609,
          0.09124029779819424,
          0.07143988594962779,
          0.051956280690638394,
          0.03437351496911137,
          0.023602090923491213,
          0.014573103120544911,
          0.010296214161254553,
          0.006177728496752732,
          0.0031680658957706307,
          0.0014256296530967842,
          0.00031680658957706327
         ],
         "yaxis": "y"
        },
        {
         "hovertemplate": "variable=QUINTANA ROO<br>timeline=%{x}<br>value=%{y}<extra></extra>",
         "legendgroup": "QUINTANA ROO",
         "line": {
          "color": "#FF6692",
          "dash": "solid"
         },
         "mode": "lines",
         "name": "QUINTANA ROO",
         "showlegend": true,
         "type": "scattergl",
         "x": [
          0,
          13,
          14,
          15,
          16,
          17,
          18,
          19,
          20,
          21,
          22,
          23,
          24,
          25,
          26,
          27,
          28,
          29,
          30,
          31,
          32,
          33,
          34,
          35,
          36,
          37,
          38,
          39,
          40,
          41,
          42,
          43,
          44
         ],
         "xaxis": "x",
         "y": [
          1,
          0.9988668555240808,
          0.9928773775799281,
          0.9804937272359375,
          0.9545932820720361,
          0.9159044921084595,
          0.8638607851072441,
          0.7976527721570215,
          0.7222177256171592,
          0.6543099959530563,
          0.5923108053419678,
          0.5306353702954271,
          0.47074059085390574,
          0.41286928369081405,
          0.35629299878591697,
          0.3045730473492515,
          0.2536624848239579,
          0.21205989477944168,
          0.17531363820315676,
          0.142452448401457,
          0.11647106434641855,
          0.09105625252934044,
          0.0704977741804938,
          0.051800890327802544,
          0.037231889923108094,
          0.025576689599352515,
          0.01699716713881021,
          0.01157426143261838,
          0.007770133549170382,
          0.004937272359368681,
          0.0025900445163901287,
          0.0014569000404694478,
          0.0010522055847834908
         ],
         "yaxis": "y"
        },
        {
         "hovertemplate": "variable=ZACATECAS<br>timeline=%{x}<br>value=%{y}<extra></extra>",
         "legendgroup": "ZACATECAS",
         "line": {
          "color": "#B6E880",
          "dash": "solid"
         },
         "mode": "lines",
         "name": "ZACATECAS",
         "showlegend": true,
         "type": "scattergl",
         "x": [
          0,
          13,
          14,
          15,
          16,
          17,
          18,
          19,
          20,
          21,
          22,
          23,
          24,
          25,
          26,
          27,
          28,
          29,
          30,
          31,
          32,
          33,
          34,
          35,
          36,
          37,
          38,
          39,
          40,
          41,
          42,
          43,
          44
         ],
         "xaxis": "x",
         "y": [
          1,
          0.9994562064965211,
          0.9961934454756382,
          0.985643851508122,
          0.9622244779582368,
          0.9278567285382844,
          0.8850420533642692,
          0.8347230278422275,
          0.78088747099768,
          0.7277407192575409,
          0.6730713457076573,
          0.6213022041763341,
          0.5671041183294673,
          0.5126160092807431,
          0.4582366589327152,
          0.40726508120649696,
          0.3579973897911837,
          0.31007105568445503,
          0.26435614849187955,
          0.2224840487238982,
          0.18271461716937376,
          0.14820185614849202,
          0.11687935034802802,
          0.09135730858468687,
          0.0696055684454757,
          0.0524579466357309,
          0.03741299303944318,
          0.026319605568445488,
          0.01660382830626452,
          0.00938950116009281,
          0.004966647331786547,
          0.002718967517401393,
          0.0016313805104408363
         ],
         "yaxis": "y"
        },
        {
         "hovertemplate": "variable=NAYARIT<br>timeline=%{x}<br>value=%{y}<extra></extra>",
         "legendgroup": "NAYARIT",
         "line": {
          "color": "#FF97FF",
          "dash": "solid"
         },
         "mode": "lines",
         "name": "NAYARIT",
         "showlegend": true,
         "type": "scattergl",
         "x": [
          0,
          13,
          14,
          15,
          16,
          17,
          18,
          19,
          20,
          21,
          22,
          23,
          24,
          25,
          26,
          27,
          28,
          29,
          30,
          31,
          32,
          33,
          34,
          35,
          36,
          37,
          38,
          39,
          40,
          41,
          42,
          43,
          44
         ],
         "xaxis": "x",
         "y": [
          1,
          0.9987953258643537,
          0.9943982652692446,
          0.9836766654619935,
          0.9613901939525358,
          0.928382122635828,
          0.8863389953017723,
          0.8358029153114087,
          0.780387905071679,
          0.7272015419828946,
          0.6771473316467902,
          0.6244428382122643,
          0.5724611492591262,
          0.5144560896277561,
          0.4555475243946516,
          0.4014576557041322,
          0.3499578364052526,
          0.30104806649801275,
          0.2569569931333574,
          0.2141308276111315,
          0.17612335863149028,
          0.14371762438260458,
          0.11257679797614757,
          0.08733887483435737,
          0.06613661004698233,
          0.04776532947837612,
          0.03336947355740275,
          0.021925069268762813,
          0.014395855920973392,
          0.009035056017347312,
          0.005240332490061442,
          0.0030116853391157724,
          0.0022286471509456716
         ],
         "yaxis": "y"
        },
        {
         "hovertemplate": "variable=BAJA CALIFORNIA<br>timeline=%{x}<br>value=%{y}<extra></extra>",
         "legendgroup": "BAJA CALIFORNIA",
         "line": {
          "color": "#FECB52",
          "dash": "solid"
         },
         "mode": "lines",
         "name": "BAJA CALIFORNIA",
         "showlegend": true,
         "type": "scattergl",
         "x": [
          0,
          13,
          14,
          15,
          16,
          17,
          18,
          19,
          20,
          21,
          22,
          23,
          24,
          25,
          26,
          27,
          28,
          29,
          30,
          31,
          32,
          33,
          34,
          35,
          36,
          37,
          38,
          39,
          40,
          41,
          42,
          43,
          44
         ],
         "xaxis": "x",
         "y": [
          1,
          0.9990753911806532,
          0.9955903271692736,
          0.9844594594594586,
          0.9615931721194879,
          0.9268847795163584,
          0.8785917496443815,
          0.8128022759601696,
          0.7400426742532,
          0.669416785206258,
          0.6021692745376956,
          0.5375533428165004,
          0.4746799431009955,
          0.4158961593172118,
          0.36041963015647205,
          0.3111664295874823,
          0.26109530583214774,
          0.21646514935988595,
          0.17809388335704102,
          0.14395448079658604,
          0.11593172119487906,
          0.09260312944523463,
          0.07176386913229012,
          0.05565433854907535,
          0.04214082503556184,
          0.029729729729729718,
          0.02016358463726883,
          0.013122332859174956,
          0.007894736842105258,
          0.005227596017069697,
          0.0034850640113798003,
          0.0016714082503556176,
          0.0008890469416785204
         ],
         "yaxis": "y"
        },
        {
         "hovertemplate": "variable=NUEVO LEÓN<br>timeline=%{x}<br>value=%{y}<extra></extra>",
         "legendgroup": "NUEVO LEÓN",
         "line": {
          "color": "#636efa",
          "dash": "solid"
         },
         "mode": "lines",
         "name": "NUEVO LEÓN",
         "showlegend": true,
         "type": "scattergl",
         "x": [
          0,
          13,
          14,
          15,
          16,
          17,
          18,
          19,
          20,
          21,
          22,
          23,
          24,
          25,
          26,
          27,
          28,
          29,
          30,
          31,
          32,
          33,
          34,
          35,
          36,
          37,
          38,
          39,
          40,
          41,
          42,
          43,
          44
         ],
         "xaxis": "x",
         "y": [
          1,
          0.9992460128833454,
          0.9960497631496991,
          0.9870838728712151,
          0.9676769001294887,
          0.935730793817306,
          0.8923765346096474,
          0.8396466095166276,
          0.7817371207526754,
          0.7240898883771244,
          0.6689013096428396,
          0.6179580061958063,
          0.5658673310495174,
          0.5133996623448999,
          0.4592437181399467,
          0.4064974020226521,
          0.35427559868216146,
          0.30577455785212004,
          0.258388106672786,
          0.21608287301873486,
          0.1776950941664345,
          0.14571620580570063,
          0.11562228523660446,
          0.08892130669245513,
          0.06659673162975949,
          0.04794374600468783,
          0.03206084348210917,
          0.02093133799931157,
          0.013129210444360667,
          0.007966037797701973,
          0.004573095772754836,
          0.0024914356898162555,
          0.0011965447720828067
         ],
         "yaxis": "y"
        },
        {
         "hovertemplate": "variable=AGUASCALIENTES<br>timeline=%{x}<br>value=%{y}<extra></extra>",
         "legendgroup": "AGUASCALIENTES",
         "line": {
          "color": "#EF553B",
          "dash": "solid"
         },
         "mode": "lines",
         "name": "AGUASCALIENTES",
         "showlegend": true,
         "type": "scattergl",
         "x": [
          0,
          13,
          14,
          15,
          16,
          17,
          18,
          19,
          20,
          21,
          22,
          23,
          24,
          25,
          26,
          27,
          28,
          29,
          30,
          31,
          32,
          33,
          34,
          35,
          36,
          37,
          38,
          39,
          40,
          41,
          42,
          43,
          44
         ],
         "xaxis": "x",
         "y": [
          1,
          0.9988605964529879,
          0.9953433072426449,
          0.981918161101755,
          0.9558109580897652,
          0.9162786089368883,
          0.8658476171604083,
          0.8089269790944222,
          0.7470524125631629,
          0.6866144852868332,
          0.627563657980779,
          0.5729713662934715,
          0.5173387496284557,
          0.4617061329634404,
          0.40518180917467556,
          0.35465173882889156,
          0.30402258991380204,
          0.2557217873773906,
          0.21643713464777595,
          0.17878727831170146,
          0.14792430397305062,
          0.11904290102050934,
          0.09382740513226998,
          0.07138610918458341,
          0.053304270286337115,
          0.03849202417517094,
          0.026998910135737658,
          0.019072624591300925,
          0.011394035470127822,
          0.007629049836520369,
          0.003963142772218371,
          0.002229267809372834,
          0.0009907856930545926
         ],
         "yaxis": "y"
        }
       ],
       "layout": {
        "legend": {
         "title": {
          "text": "variable"
         },
         "tracegroupgap": 0
        },
        "template": {
         "data": {
          "bar": [
           {
            "error_x": {
             "color": "#2a3f5f"
            },
            "error_y": {
             "color": "#2a3f5f"
            },
            "marker": {
             "line": {
              "color": "#E5ECF6",
              "width": 0.5
             }
            },
            "type": "bar"
           }
          ],
          "barpolar": [
           {
            "marker": {
             "line": {
              "color": "#E5ECF6",
              "width": 0.5
             }
            },
            "type": "barpolar"
           }
          ],
          "carpet": [
           {
            "aaxis": {
             "endlinecolor": "#2a3f5f",
             "gridcolor": "white",
             "linecolor": "white",
             "minorgridcolor": "white",
             "startlinecolor": "#2a3f5f"
            },
            "baxis": {
             "endlinecolor": "#2a3f5f",
             "gridcolor": "white",
             "linecolor": "white",
             "minorgridcolor": "white",
             "startlinecolor": "#2a3f5f"
            },
            "type": "carpet"
           }
          ],
          "choropleth": [
           {
            "colorbar": {
             "outlinewidth": 0,
             "ticks": ""
            },
            "type": "choropleth"
           }
          ],
          "contour": [
           {
            "colorbar": {
             "outlinewidth": 0,
             "ticks": ""
            },
            "colorscale": [
             [
              0,
              "#0d0887"
             ],
             [
              0.1111111111111111,
              "#46039f"
             ],
             [
              0.2222222222222222,
              "#7201a8"
             ],
             [
              0.3333333333333333,
              "#9c179e"
             ],
             [
              0.4444444444444444,
              "#bd3786"
             ],
             [
              0.5555555555555556,
              "#d8576b"
             ],
             [
              0.6666666666666666,
              "#ed7953"
             ],
             [
              0.7777777777777778,
              "#fb9f3a"
             ],
             [
              0.8888888888888888,
              "#fdca26"
             ],
             [
              1,
              "#f0f921"
             ]
            ],
            "type": "contour"
           }
          ],
          "contourcarpet": [
           {
            "colorbar": {
             "outlinewidth": 0,
             "ticks": ""
            },
            "type": "contourcarpet"
           }
          ],
          "heatmap": [
           {
            "colorbar": {
             "outlinewidth": 0,
             "ticks": ""
            },
            "colorscale": [
             [
              0,
              "#0d0887"
             ],
             [
              0.1111111111111111,
              "#46039f"
             ],
             [
              0.2222222222222222,
              "#7201a8"
             ],
             [
              0.3333333333333333,
              "#9c179e"
             ],
             [
              0.4444444444444444,
              "#bd3786"
             ],
             [
              0.5555555555555556,
              "#d8576b"
             ],
             [
              0.6666666666666666,
              "#ed7953"
             ],
             [
              0.7777777777777778,
              "#fb9f3a"
             ],
             [
              0.8888888888888888,
              "#fdca26"
             ],
             [
              1,
              "#f0f921"
             ]
            ],
            "type": "heatmap"
           }
          ],
          "heatmapgl": [
           {
            "colorbar": {
             "outlinewidth": 0,
             "ticks": ""
            },
            "colorscale": [
             [
              0,
              "#0d0887"
             ],
             [
              0.1111111111111111,
              "#46039f"
             ],
             [
              0.2222222222222222,
              "#7201a8"
             ],
             [
              0.3333333333333333,
              "#9c179e"
             ],
             [
              0.4444444444444444,
              "#bd3786"
             ],
             [
              0.5555555555555556,
              "#d8576b"
             ],
             [
              0.6666666666666666,
              "#ed7953"
             ],
             [
              0.7777777777777778,
              "#fb9f3a"
             ],
             [
              0.8888888888888888,
              "#fdca26"
             ],
             [
              1,
              "#f0f921"
             ]
            ],
            "type": "heatmapgl"
           }
          ],
          "histogram": [
           {
            "marker": {
             "colorbar": {
              "outlinewidth": 0,
              "ticks": ""
             }
            },
            "type": "histogram"
           }
          ],
          "histogram2d": [
           {
            "colorbar": {
             "outlinewidth": 0,
             "ticks": ""
            },
            "colorscale": [
             [
              0,
              "#0d0887"
             ],
             [
              0.1111111111111111,
              "#46039f"
             ],
             [
              0.2222222222222222,
              "#7201a8"
             ],
             [
              0.3333333333333333,
              "#9c179e"
             ],
             [
              0.4444444444444444,
              "#bd3786"
             ],
             [
              0.5555555555555556,
              "#d8576b"
             ],
             [
              0.6666666666666666,
              "#ed7953"
             ],
             [
              0.7777777777777778,
              "#fb9f3a"
             ],
             [
              0.8888888888888888,
              "#fdca26"
             ],
             [
              1,
              "#f0f921"
             ]
            ],
            "type": "histogram2d"
           }
          ],
          "histogram2dcontour": [
           {
            "colorbar": {
             "outlinewidth": 0,
             "ticks": ""
            },
            "colorscale": [
             [
              0,
              "#0d0887"
             ],
             [
              0.1111111111111111,
              "#46039f"
             ],
             [
              0.2222222222222222,
              "#7201a8"
             ],
             [
              0.3333333333333333,
              "#9c179e"
             ],
             [
              0.4444444444444444,
              "#bd3786"
             ],
             [
              0.5555555555555556,
              "#d8576b"
             ],
             [
              0.6666666666666666,
              "#ed7953"
             ],
             [
              0.7777777777777778,
              "#fb9f3a"
             ],
             [
              0.8888888888888888,
              "#fdca26"
             ],
             [
              1,
              "#f0f921"
             ]
            ],
            "type": "histogram2dcontour"
           }
          ],
          "mesh3d": [
           {
            "colorbar": {
             "outlinewidth": 0,
             "ticks": ""
            },
            "type": "mesh3d"
           }
          ],
          "parcoords": [
           {
            "line": {
             "colorbar": {
              "outlinewidth": 0,
              "ticks": ""
             }
            },
            "type": "parcoords"
           }
          ],
          "pie": [
           {
            "automargin": true,
            "type": "pie"
           }
          ],
          "scatter": [
           {
            "marker": {
             "colorbar": {
              "outlinewidth": 0,
              "ticks": ""
             }
            },
            "type": "scatter"
           }
          ],
          "scatter3d": [
           {
            "line": {
             "colorbar": {
              "outlinewidth": 0,
              "ticks": ""
             }
            },
            "marker": {
             "colorbar": {
              "outlinewidth": 0,
              "ticks": ""
             }
            },
            "type": "scatter3d"
           }
          ],
          "scattercarpet": [
           {
            "marker": {
             "colorbar": {
              "outlinewidth": 0,
              "ticks": ""
             }
            },
            "type": "scattercarpet"
           }
          ],
          "scattergeo": [
           {
            "marker": {
             "colorbar": {
              "outlinewidth": 0,
              "ticks": ""
             }
            },
            "type": "scattergeo"
           }
          ],
          "scattergl": [
           {
            "marker": {
             "colorbar": {
              "outlinewidth": 0,
              "ticks": ""
             }
            },
            "type": "scattergl"
           }
          ],
          "scattermapbox": [
           {
            "marker": {
             "colorbar": {
              "outlinewidth": 0,
              "ticks": ""
             }
            },
            "type": "scattermapbox"
           }
          ],
          "scatterpolar": [
           {
            "marker": {
             "colorbar": {
              "outlinewidth": 0,
              "ticks": ""
             }
            },
            "type": "scatterpolar"
           }
          ],
          "scatterpolargl": [
           {
            "marker": {
             "colorbar": {
              "outlinewidth": 0,
              "ticks": ""
             }
            },
            "type": "scatterpolargl"
           }
          ],
          "scatterternary": [
           {
            "marker": {
             "colorbar": {
              "outlinewidth": 0,
              "ticks": ""
             }
            },
            "type": "scatterternary"
           }
          ],
          "surface": [
           {
            "colorbar": {
             "outlinewidth": 0,
             "ticks": ""
            },
            "colorscale": [
             [
              0,
              "#0d0887"
             ],
             [
              0.1111111111111111,
              "#46039f"
             ],
             [
              0.2222222222222222,
              "#7201a8"
             ],
             [
              0.3333333333333333,
              "#9c179e"
             ],
             [
              0.4444444444444444,
              "#bd3786"
             ],
             [
              0.5555555555555556,
              "#d8576b"
             ],
             [
              0.6666666666666666,
              "#ed7953"
             ],
             [
              0.7777777777777778,
              "#fb9f3a"
             ],
             [
              0.8888888888888888,
              "#fdca26"
             ],
             [
              1,
              "#f0f921"
             ]
            ],
            "type": "surface"
           }
          ],
          "table": [
           {
            "cells": {
             "fill": {
              "color": "#EBF0F8"
             },
             "line": {
              "color": "white"
             }
            },
            "header": {
             "fill": {
              "color": "#C8D4E3"
             },
             "line": {
              "color": "white"
             }
            },
            "type": "table"
           }
          ]
         },
         "layout": {
          "annotationdefaults": {
           "arrowcolor": "#2a3f5f",
           "arrowhead": 0,
           "arrowwidth": 1
          },
          "autotypenumbers": "strict",
          "coloraxis": {
           "colorbar": {
            "outlinewidth": 0,
            "ticks": ""
           }
          },
          "colorscale": {
           "diverging": [
            [
             0,
             "#8e0152"
            ],
            [
             0.1,
             "#c51b7d"
            ],
            [
             0.2,
             "#de77ae"
            ],
            [
             0.3,
             "#f1b6da"
            ],
            [
             0.4,
             "#fde0ef"
            ],
            [
             0.5,
             "#f7f7f7"
            ],
            [
             0.6,
             "#e6f5d0"
            ],
            [
             0.7,
             "#b8e186"
            ],
            [
             0.8,
             "#7fbc41"
            ],
            [
             0.9,
             "#4d9221"
            ],
            [
             1,
             "#276419"
            ]
           ],
           "sequential": [
            [
             0,
             "#0d0887"
            ],
            [
             0.1111111111111111,
             "#46039f"
            ],
            [
             0.2222222222222222,
             "#7201a8"
            ],
            [
             0.3333333333333333,
             "#9c179e"
            ],
            [
             0.4444444444444444,
             "#bd3786"
            ],
            [
             0.5555555555555556,
             "#d8576b"
            ],
            [
             0.6666666666666666,
             "#ed7953"
            ],
            [
             0.7777777777777778,
             "#fb9f3a"
            ],
            [
             0.8888888888888888,
             "#fdca26"
            ],
            [
             1,
             "#f0f921"
            ]
           ],
           "sequentialminus": [
            [
             0,
             "#0d0887"
            ],
            [
             0.1111111111111111,
             "#46039f"
            ],
            [
             0.2222222222222222,
             "#7201a8"
            ],
            [
             0.3333333333333333,
             "#9c179e"
            ],
            [
             0.4444444444444444,
             "#bd3786"
            ],
            [
             0.5555555555555556,
             "#d8576b"
            ],
            [
             0.6666666666666666,
             "#ed7953"
            ],
            [
             0.7777777777777778,
             "#fb9f3a"
            ],
            [
             0.8888888888888888,
             "#fdca26"
            ],
            [
             1,
             "#f0f921"
            ]
           ]
          },
          "colorway": [
           "#636efa",
           "#EF553B",
           "#00cc96",
           "#ab63fa",
           "#FFA15A",
           "#19d3f3",
           "#FF6692",
           "#B6E880",
           "#FF97FF",
           "#FECB52"
          ],
          "font": {
           "color": "#2a3f5f"
          },
          "geo": {
           "bgcolor": "white",
           "lakecolor": "white",
           "landcolor": "#E5ECF6",
           "showlakes": true,
           "showland": true,
           "subunitcolor": "white"
          },
          "hoverlabel": {
           "align": "left"
          },
          "hovermode": "closest",
          "mapbox": {
           "style": "light"
          },
          "paper_bgcolor": "white",
          "plot_bgcolor": "#E5ECF6",
          "polar": {
           "angularaxis": {
            "gridcolor": "white",
            "linecolor": "white",
            "ticks": ""
           },
           "bgcolor": "#E5ECF6",
           "radialaxis": {
            "gridcolor": "white",
            "linecolor": "white",
            "ticks": ""
           }
          },
          "scene": {
           "xaxis": {
            "backgroundcolor": "#E5ECF6",
            "gridcolor": "white",
            "gridwidth": 2,
            "linecolor": "white",
            "showbackground": true,
            "ticks": "",
            "zerolinecolor": "white"
           },
           "yaxis": {
            "backgroundcolor": "#E5ECF6",
            "gridcolor": "white",
            "gridwidth": 2,
            "linecolor": "white",
            "showbackground": true,
            "ticks": "",
            "zerolinecolor": "white"
           },
           "zaxis": {
            "backgroundcolor": "#E5ECF6",
            "gridcolor": "white",
            "gridwidth": 2,
            "linecolor": "white",
            "showbackground": true,
            "ticks": "",
            "zerolinecolor": "white"
           }
          },
          "shapedefaults": {
           "line": {
            "color": "#2a3f5f"
           }
          },
          "ternary": {
           "aaxis": {
            "gridcolor": "white",
            "linecolor": "white",
            "ticks": ""
           },
           "baxis": {
            "gridcolor": "white",
            "linecolor": "white",
            "ticks": ""
           },
           "bgcolor": "#E5ECF6",
           "caxis": {
            "gridcolor": "white",
            "linecolor": "white",
            "ticks": ""
           }
          },
          "title": {
           "x": 0.05
          },
          "xaxis": {
           "automargin": true,
           "gridcolor": "white",
           "linecolor": "white",
           "ticks": "",
           "title": {
            "standoff": 15
           },
           "zerolinecolor": "white",
           "zerolinewidth": 2
          },
          "yaxis": {
           "automargin": true,
           "gridcolor": "white",
           "linecolor": "white",
           "ticks": "",
           "title": {
            "standoff": 15
           },
           "zerolinecolor": "white",
           "zerolinewidth": 2
          }
         }
        },
        "title": {
         "text": "Tasa de Mortalidad Materna por lugar de nacimiento"
        },
        "xaxis": {
         "anchor": "y",
         "domain": [
          0,
          1
         ],
         "title": {
          "text": "timeline"
         }
        },
        "yaxis": {
         "anchor": "x",
         "domain": [
          0,
          1
         ],
         "title": {
          "text": "value"
         }
        }
       }
      },
      "text/html": [
       "<div>                            <div id=\"8f74bb17-7432-4a4e-bd0d-531648932de2\" class=\"plotly-graph-div\" style=\"height:525px; width:100%;\"></div>            <script type=\"text/javascript\">                require([\"plotly\"], function(Plotly) {                    window.PLOTLYENV=window.PLOTLYENV || {};                                    if (document.getElementById(\"8f74bb17-7432-4a4e-bd0d-531648932de2\")) {                    Plotly.newPlot(                        \"8f74bb17-7432-4a4e-bd0d-531648932de2\",                        [{\"hovertemplate\": \"variable=JALISCO<br>timeline=%{x}<br>value=%{y}<extra></extra>\", \"legendgroup\": \"JALISCO\", \"line\": {\"color\": \"#636efa\", \"dash\": \"solid\"}, \"mode\": \"lines\", \"name\": \"JALISCO\", \"showlegend\": true, \"type\": \"scattergl\", \"x\": [0.0, 13.0, 14.0, 15.0, 16.0, 17.0, 18.0, 19.0, 20.0, 21.0, 22.0, 23.0, 24.0, 25.0, 26.0, 27.0, 28.0, 29.0, 30.0, 31.0, 32.0, 33.0, 34.0, 35.0, 36.0, 37.0, 38.0, 39.0, 40.0, 41.0, 42.0, 43.0, 44.0], \"xaxis\": \"x\", \"y\": [1.0, 0.9990458925675036, 0.9957585587773562, 0.9862608529720456, 0.9646720038858209, 0.9329435949033325, 0.8916741115958751, 0.8411584598971313, 0.7850916376820397, 0.7274115065356359, 0.6717783695171357, 0.6172120980822446, 0.5634438074090786, 0.5087907989348692, 0.4554301723464979, 0.4035093806108026, 0.35251667519580904, 0.3046378294923284, 0.2608789931564478, 0.21950542540180942, 0.18197430848895424, 0.14841574797685878, 0.11833534274141096, 0.09233157835390454, 0.06931156811893394, 0.05033350391617734, 0.03488563721365935, 0.023540432470878066, 0.014563148901475406, 0.008378797998109137, 0.004761863458552709, 0.0024893530284237305, 0.0012663607740413397], \"yaxis\": \"y\"}, {\"hovertemplate\": \"variable=TABASCO<br>timeline=%{x}<br>value=%{y}<extra></extra>\", \"legendgroup\": \"TABASCO\", \"line\": {\"color\": \"#EF553B\", \"dash\": \"solid\"}, \"mode\": \"lines\", \"name\": \"TABASCO\", \"showlegend\": true, \"type\": \"scattergl\", \"x\": [0.0, 13.0, 14.0, 15.0, 16.0, 17.0, 18.0, 19.0, 20.0, 21.0, 22.0, 23.0, 24.0, 25.0, 26.0, 27.0, 28.0, 29.0, 30.0, 31.0, 32.0, 33.0, 34.0, 35.0, 36.0, 37.0, 38.0, 39.0, 40.0, 41.0, 42.0, 43.0, 44.0], \"xaxis\": \"x\", \"y\": [1.0, 0.9984680565861601, 0.993154127869401, 0.97955813007157, 0.9543050003590495, 0.9184240132130114, 0.8752902314670751, 0.8216482753668278, 0.762859946860713, 0.7058429279268496, 0.6499269933216838, 0.5929339110036621, 0.5353424132896085, 0.4792110491418718, 0.42339086100007184, 0.3702276372166503, 0.32065490580941663, 0.27457692031500586, 0.2314431385690692, 0.19496373602700032, 0.16030351628886713, 0.1286114369150489, 0.10101251885008498, 0.07824879718505398, 0.058668645426909506, 0.04370826052612679, 0.0304952485817555, 0.020537616391794522, 0.013428441486942567, 0.008665054934533357, 0.005098499174186754, 0.002920267132632788, 0.0016755631088876655], \"yaxis\": \"y\"}, {\"hovertemplate\": \"variable=M\\u00c9XICO<br>timeline=%{x}<br>value=%{y}<extra></extra>\", \"legendgroup\": \"M\\u00c9XICO\", \"line\": {\"color\": \"#00cc96\", \"dash\": \"solid\"}, \"mode\": \"lines\", \"name\": \"M\\u00c9XICO\", \"showlegend\": true, \"type\": \"scattergl\", \"x\": [0.0, 13.0, 14.0, 15.0, 16.0, 17.0, 18.0, 19.0, 20.0, 21.0, 22.0, 23.0, 24.0, 25.0, 26.0, 27.0, 28.0, 29.0, 30.0, 31.0, 32.0, 33.0, 34.0, 35.0, 36.0, 37.0, 38.0, 39.0, 40.0, 41.0, 42.0, 43.0, 44.0], \"xaxis\": \"x\", \"y\": [1.0, 0.999125863869431, 0.9955295856946746, 0.9845530172363212, 0.9598836049608697, 0.921492015441116, 0.8721414575193308, 0.810118859047015, 0.7454269186994726, 0.682929118706513, 0.6232179942975822, 0.5653020756333086, 0.5067056214579886, 0.4478216996961058, 0.3917009867764908, 0.3369354781935303, 0.2858718481232474, 0.23898529808628738, 0.1964107618477712, 0.16156265033381442, 0.1303401504218147, 0.10416299998826667, 0.0818930620577985, 0.06310206859328621, 0.04793668673073084, 0.0346017107254743, 0.024229410867448124, 0.01660858648081007, 0.010747767726190053, 0.006594154434627523, 0.0038954791321998885, 0.0022000070400225277, 0.0011968038297722548], \"yaxis\": \"y\"}, {\"hovertemplate\": \"variable=CHIAPAS<br>timeline=%{x}<br>value=%{y}<extra></extra>\", \"legendgroup\": \"CHIAPAS\", \"line\": {\"color\": \"#ab63fa\", \"dash\": \"solid\"}, \"mode\": \"lines\", \"name\": \"CHIAPAS\", \"showlegend\": true, \"type\": \"scattergl\", \"x\": [0.0, 13.0, 14.0, 15.0, 16.0, 17.0, 18.0, 19.0, 20.0, 21.0, 22.0, 23.0, 24.0, 25.0, 26.0, 27.0, 28.0, 29.0, 30.0, 31.0, 32.0, 33.0, 34.0, 35.0, 36.0, 37.0, 38.0, 39.0, 40.0, 41.0, 42.0, 43.0, 44.0], \"xaxis\": \"x\", \"y\": [1.0, 0.9978052064124179, 0.9916959871480131, 0.977079114389474, 0.9508320982905506, 0.9138260682648681, 0.8679956104128242, 0.8110441108257632, 0.7513660893077354, 0.6938828613772893, 0.6369313617902272, 0.580307949904402, 0.5214218642169454, 0.4654772544716089, 0.4110599495423744, 0.35953886707922783, 0.31133260173547106, 0.26674661447432424, 0.22541887748752715, 0.1903248068242243, 0.15829665916213198, 0.1291307938591033, 0.10350601305562784, 0.08098109536038739, 0.06231403649692847, 0.04643006640947609, 0.0328653369686959, 0.02237784389813442, 0.014639499496555075, 0.009254335848672374, 0.005690624611102942, 0.0033713839644307687, 0.001968526207419308], \"yaxis\": \"y\"}, {\"hovertemplate\": \"variable=OAXACA<br>timeline=%{x}<br>value=%{y}<extra></extra>\", \"legendgroup\": \"OAXACA\", \"line\": {\"color\": \"#FFA15A\", \"dash\": \"solid\"}, \"mode\": \"lines\", \"name\": \"OAXACA\", \"showlegend\": true, \"type\": \"scattergl\", \"x\": [0.0, 13.0, 14.0, 15.0, 16.0, 17.0, 18.0, 19.0, 20.0, 21.0, 22.0, 23.0, 24.0, 25.0, 26.0, 27.0, 28.0, 29.0, 30.0, 31.0, 32.0, 33.0, 34.0, 35.0, 36.0, 37.0, 38.0, 39.0, 40.0, 41.0, 42.0, 43.0, 44.0], \"xaxis\": \"x\", \"y\": [1.0, 0.9985780919854881, 0.9941263239026715, 0.9824985714475559, 0.9602928864732697, 0.9275757132795575, 0.8874699339543661, 0.8380486638051313, 0.7828866061580574, 0.7288541016066222, 0.6763498159492892, 0.6221977116583164, 0.5654277019574491, 0.5069035627433516, 0.44929635486571623, 0.3939482531793595, 0.3425735206176659, 0.293564205126842, 0.2488604802593986, 0.20997727604948774, 0.17421695392752254, 0.14225724575088686, 0.11379250774076095, 0.08926127227545139, 0.06861038391516391, 0.05090962246348885, 0.03685000863775895, 0.02490332354387316, 0.016292142297112327, 0.010099533561015797, 0.005993275836865954, 0.003654436485893875, 0.0020597732920492745], \"yaxis\": \"y\"}, {\"hovertemplate\": \"variable=MICHOAC\\u00c1N DE OCAMPO<br>timeline=%{x}<br>value=%{y}<extra></extra>\", \"legendgroup\": \"MICHOAC\\u00c1N DE OCAMPO\", \"line\": {\"color\": \"#19d3f3\", \"dash\": \"solid\"}, \"mode\": \"lines\", \"name\": \"MICHOAC\\u00c1N DE OCAMPO\", \"showlegend\": true, \"type\": \"scattergl\", \"x\": [0.0, 13.0, 14.0, 15.0, 16.0, 17.0, 18.0, 19.0, 20.0, 21.0, 22.0, 23.0, 24.0, 25.0, 26.0, 27.0, 28.0, 29.0, 30.0, 31.0, 32.0, 33.0, 34.0, 35.0, 36.0, 37.0, 38.0, 39.0, 40.0, 41.0, 42.0, 43.0, 44.0], \"xaxis\": \"x\", \"y\": [1.0, 0.9991130926698308, 0.9948103935950905, 0.9826333956565513, 0.9581715326717478, 0.9227311951675531, 0.8808907426051106, 0.8297377630758911, 0.7760079581955036, 0.7208519104463303, 0.6670741646291769, 0.6124574524186205, 0.55797257778417, 0.5021094012177, 0.4464140179299103, 0.3930797257778419, 0.34132748453904765, 0.2939138980775682, 0.24828611151061888, 0.20844719305815246, 0.17107723284912976, 0.13795004554388998, 0.10958099621266591, 0.08460376815762981, 0.06364159355673805, 0.04667050194160797, 0.03252792559566615, 0.02204084567812454, 0.01408265017498442, 0.008581427681096888, 0.005105709765568821, 0.0029124119085286917, 0.0015820509132748448], \"yaxis\": \"y\"}, {\"hovertemplate\": \"variable=HIDALGO<br>timeline=%{x}<br>value=%{y}<extra></extra>\", \"legendgroup\": \"HIDALGO\", \"line\": {\"color\": \"#FF6692\", \"dash\": \"solid\"}, \"mode\": \"lines\", \"name\": \"HIDALGO\", \"showlegend\": true, \"type\": \"scattergl\", \"x\": [0.0, 13.0, 14.0, 15.0, 16.0, 17.0, 18.0, 19.0, 20.0, 21.0, 22.0, 23.0, 24.0, 25.0, 26.0, 27.0, 28.0, 29.0, 30.0, 31.0, 32.0, 33.0, 34.0, 35.0, 36.0, 37.0, 38.0, 39.0, 40.0, 41.0, 42.0, 43.0, 44.0], \"xaxis\": \"x\", \"y\": [1.0, 0.999209748139084, 0.9959212807178539, 0.9870755582747021, 0.9653563780972768, 0.9306107882125012, 0.8844702763332307, 0.8297644539614568, 0.7744723156928723, 0.7225451208320585, 0.6693943101866018, 0.6141531559090444, 0.5570255939634959, 0.49780768838584716, 0.4376210869786887, 0.37998368512287145, 0.3271897624146016, 0.279749158764148, 0.23603038645865196, 0.19758845722443152, 0.16220556745182016, 0.13092688895686758, 0.10347200978892629, 0.08047822983583151, 0.060721933312939735, 0.04369328030998268, 0.02974915876414806, 0.019348424594677283, 0.01213418986438259, 0.007520138676455596, 0.0043081472417660855, 0.002268787600693382, 0.0011471397981033954], \"yaxis\": \"y\"}, {\"hovertemplate\": \"variable=PUEBLA<br>timeline=%{x}<br>value=%{y}<extra></extra>\", \"legendgroup\": \"PUEBLA\", \"line\": {\"color\": \"#B6E880\", \"dash\": \"solid\"}, \"mode\": \"lines\", \"name\": \"PUEBLA\", \"showlegend\": true, \"type\": \"scattergl\", \"x\": [0.0, 13.0, 14.0, 15.0, 16.0, 17.0, 18.0, 19.0, 20.0, 21.0, 22.0, 23.0, 24.0, 25.0, 26.0, 27.0, 28.0, 29.0, 30.0, 31.0, 32.0, 33.0, 34.0, 35.0, 36.0, 37.0, 38.0, 39.0, 40.0, 41.0, 42.0, 43.0, 44.0], \"xaxis\": \"x\", \"y\": [1.0, 0.9988277711667232, 0.9949647443297877, 0.9822567181144874, 0.9555174679857199, 0.9178640569774259, 0.8709038594746281, 0.8153206756300728, 0.7560964779851875, 0.6984086105536115, 0.6406585794717868, 0.585039873541374, 0.5267126085643754, 0.46877608653180103, 0.41259790774914323, 0.3585421735964338, 0.3093440846846527, 0.26479938902012334, 0.22186206774061779, 0.18517663357192335, 0.15317123421487328, 0.12484237074401011, 0.09885796493970132, 0.07690531588014844, 0.05791876098964531, 0.04207591069747617, 0.029767507948066742, 0.020034456423281173, 0.012734667779692024, 0.007717173152407512, 0.004475782817967073, 0.0023888602738752823, 0.0012876756123119549], \"yaxis\": \"y\"}, {\"hovertemplate\": \"variable=VERACRUZ DE IGNACIO DE LA LLAVE<br>timeline=%{x}<br>value=%{y}<extra></extra>\", \"legendgroup\": \"VERACRUZ DE IGNACIO DE LA LLAVE\", \"line\": {\"color\": \"#FF97FF\", \"dash\": \"solid\"}, \"mode\": \"lines\", \"name\": \"VERACRUZ DE IGNACIO DE LA LLAVE\", \"showlegend\": true, \"type\": \"scattergl\", \"x\": [0.0, 13.0, 14.0, 15.0, 16.0, 17.0, 18.0, 19.0, 20.0, 21.0, 22.0, 23.0, 24.0, 25.0, 26.0, 27.0, 28.0, 29.0, 30.0, 31.0, 32.0, 33.0, 34.0, 35.0, 36.0, 37.0, 38.0, 39.0, 40.0, 41.0, 42.0, 43.0, 44.0], \"xaxis\": \"x\", \"y\": [1.0, 0.9989314043812418, 0.9941145041305318, 0.9823599523241949, 0.9594837861164773, 0.9262422424068051, 0.8851341909498162, 0.834466318688093, 0.7800748016933126, 0.7266450207554142, 0.6731412601208336, 0.6203608565204884, 0.5644486457605522, 0.5075582590111382, 0.4514980888578357, 0.39793678845916686, 0.3446714068472321, 0.2951872097324399, 0.2495252969462826, 0.20957626073733085, 0.17293165098023097, 0.13904894989930547, 0.11110928445193363, 0.08666310468127075, 0.06538983190168918, 0.04719904648390938, 0.03286342525995641, 0.02170071102708478, 0.013858863178660964, 0.008400805556697215, 0.004545641362870411, 0.002433110024248899, 0.0012001150795281734], \"yaxis\": \"y\"}, {\"hovertemplate\": \"variable=GUERRERO<br>timeline=%{x}<br>value=%{y}<extra></extra>\", \"legendgroup\": \"GUERRERO\", \"line\": {\"color\": \"#FECB52\", \"dash\": \"solid\"}, \"mode\": \"lines\", \"name\": \"GUERRERO\", \"showlegend\": true, \"type\": \"scattergl\", \"x\": [0.0, 13.0, 14.0, 15.0, 16.0, 17.0, 18.0, 19.0, 20.0, 21.0, 22.0, 23.0, 24.0, 25.0, 26.0, 27.0, 28.0, 29.0, 30.0, 31.0, 32.0, 33.0, 34.0, 35.0, 36.0, 37.0, 38.0, 39.0, 40.0, 41.0, 42.0, 43.0, 44.0], \"xaxis\": \"x\", \"y\": [1.0, 0.9985419305428731, 0.9931662199181126, 0.980264514418687, 0.9546672950602368, 0.9185395740669834, 0.8758431765295001, 0.8246192818639716, 0.7663701434504697, 0.7112580635659373, 0.6561901676043475, 0.5989425314442255, 0.5405755692362075, 0.48350466876785764, 0.4286135084980409, 0.3742378273292287, 0.32354413973902, 0.27768122772393866, 0.23402751185601942, 0.1963386255854368, 0.16166897404930924, 0.13231612124068465, 0.1057910395004271, 0.08355179828566374, 0.06229933134996615, 0.04559780847742202, 0.031768240596188387, 0.021429202627470622, 0.013520280420630946, 0.00855695307667383, 0.004889687472385045, 0.0028130430940528435, 0.00153170932869893], \"yaxis\": \"y\"}, {\"hovertemplate\": \"variable=CHIHUAHUA<br>timeline=%{x}<br>value=%{y}<extra></extra>\", \"legendgroup\": \"CHIHUAHUA\", \"line\": {\"color\": \"#636efa\", \"dash\": \"solid\"}, \"mode\": \"lines\", \"name\": \"CHIHUAHUA\", \"showlegend\": true, \"type\": \"scattergl\", \"x\": [0.0, 13.0, 14.0, 15.0, 16.0, 17.0, 18.0, 19.0, 20.0, 21.0, 22.0, 23.0, 24.0, 25.0, 26.0, 27.0, 28.0, 29.0, 30.0, 31.0, 32.0, 33.0, 34.0, 35.0, 36.0, 37.0, 38.0, 39.0, 40.0, 41.0, 42.0, 43.0, 44.0], \"xaxis\": \"x\", \"y\": [1.0, 0.9979515630001061, 0.9923183612503991, 0.9753547423450323, 0.9472740851381627, 0.9051957750986873, 0.8548597034033912, 0.7917635762295945, 0.724890643337245, 0.6606422703510082, 0.601685692947828, 0.5453536754507621, 0.4884455350474767, 0.43501546996692586, 0.3822468793342576, 0.3314627120452362, 0.28191614211031674, 0.23830150432092168, 0.1962658700522778, 0.16112237277285799, 0.1300757494932251, 0.10378747466126104, 0.08210818307905673, 0.06064227035100817, 0.0442974501226928, 0.031558732529606295, 0.021892670436359736, 0.01446708631174649, 0.009986130374479884, 0.006187986770511036, 0.003606102635228846, 0.0020484369998933086, 0.0009388669582844336], \"yaxis\": \"y\"}, {\"hovertemplate\": \"variable=GUANAJUATO<br>timeline=%{x}<br>value=%{y}<extra></extra>\", \"legendgroup\": \"GUANAJUATO\", \"line\": {\"color\": \"#EF553B\", \"dash\": \"solid\"}, \"mode\": \"lines\", \"name\": \"GUANAJUATO\", \"showlegend\": true, \"type\": \"scattergl\", \"x\": [0.0, 13.0, 14.0, 15.0, 16.0, 17.0, 18.0, 19.0, 20.0, 21.0, 22.0, 23.0, 24.0, 25.0, 26.0, 27.0, 28.0, 29.0, 30.0, 31.0, 32.0, 33.0, 34.0, 35.0, 36.0, 37.0, 38.0, 39.0, 40.0, 41.0, 42.0, 43.0, 44.0], \"xaxis\": \"x\", \"y\": [1.0, 0.9992464124989383, 0.9957013670714111, 0.9844081684639554, 0.9595610087458604, 0.9254691347541818, 0.8830135008915682, 0.8322577906088138, 0.7757493419376754, 0.7208648212617813, 0.6650462766409101, 0.6102891228666047, 0.5529952449690079, 0.49646556848093754, 0.4405090430500132, 0.38580495881803495, 0.3339454020548529, 0.28641631994565686, 0.24268701706716472, 0.203394327927316, 0.16814553791288103, 0.1369194192069287, 0.10837861934278677, 0.08306444765220342, 0.06254776258809543, 0.045194022246752195, 0.031480852509127966, 0.021249044748238095, 0.013755625371486798, 0.00857603804024794, 0.004850556168803604, 0.002674704933344656, 0.0013479663751379811], \"yaxis\": \"y\"}, {\"hovertemplate\": \"variable=SONORA<br>timeline=%{x}<br>value=%{y}<extra></extra>\", \"legendgroup\": \"SONORA\", \"line\": {\"color\": \"#00cc96\", \"dash\": \"solid\"}, \"mode\": \"lines\", \"name\": \"SONORA\", \"showlegend\": true, \"type\": \"scattergl\", \"x\": [0.0, 13.0, 14.0, 15.0, 16.0, 17.0, 18.0, 19.0, 20.0, 21.0, 22.0, 23.0, 24.0, 25.0, 26.0, 27.0, 28.0, 29.0, 30.0, 31.0, 32.0, 33.0, 34.0, 35.0, 36.0, 37.0, 38.0, 39.0, 40.0, 41.0, 42.0, 43.0, 44.0], \"xaxis\": \"x\", \"y\": [1.0, 0.999238219610404, 0.9961910980520183, 0.9859614756774397, 0.9644955925563176, 0.9307323974317114, 0.8867395799325276, 0.8310751986070297, 0.7703232125367286, 0.710985961475677, 0.6524104908042216, 0.5965284579388391, 0.5416802698879095, 0.48740341712917573, 0.4336706932201541, 0.38137991076286865, 0.33085754706714554, 0.2843889433017736, 0.2387637392534551, 0.2005114811187288, 0.16394602241810846, 0.13162476874523887, 0.10297638480792254, 0.08009576667754918, 0.060479921645445606, 0.04339427576450101, 0.029246925671999106, 0.01877244531505059, 0.011644357383828482, 0.007073675046250947, 0.004244205027750569, 0.002475786266187831, 0.0010338448144520615], \"yaxis\": \"y\"}, {\"hovertemplate\": \"variable=QUER\\u00c9TARO<br>timeline=%{x}<br>value=%{y}<extra></extra>\", \"legendgroup\": \"QUER\\u00c9TARO\", \"line\": {\"color\": \"#ab63fa\", \"dash\": \"solid\"}, \"mode\": \"lines\", \"name\": \"QUER\\u00c9TARO\", \"showlegend\": true, \"type\": \"scattergl\", \"x\": [0.0, 13.0, 14.0, 15.0, 16.0, 17.0, 18.0, 19.0, 20.0, 21.0, 22.0, 23.0, 24.0, 25.0, 26.0, 27.0, 28.0, 29.0, 30.0, 31.0, 32.0, 33.0, 34.0, 35.0, 36.0, 37.0, 38.0, 39.0, 40.0, 41.0, 42.0, 43.0, 44.0], \"xaxis\": \"x\", \"y\": [1.0, 0.9992518969755266, 0.9965801004595476, 0.987674112072957, 0.9682590573901877, 0.9350219087314303, 0.8935556268034626, 0.840084072530369, 0.78333511453101, 0.7295073207224537, 0.6746108083075059, 0.6204980228705782, 0.5657796302233618, 0.510313134551672, 0.4528873214349328, 0.39364468668732866, 0.34209682590573903, 0.29179580349827205, 0.24740835737950193, 0.20857824801396446, 0.17142246446510617, 0.13875529906308995, 0.11007801645826654, 0.0854618645577286, 0.06383812475508528, 0.046987994727654844, 0.031883438423996276, 0.02066189305689144, 0.01275337536959851, 0.007445406291190191, 0.003989882797192828, 0.0022086851198746026, 0.0009262227922054781], \"yaxis\": \"y\"}, {\"hovertemplate\": \"variable=CAMPECHE<br>timeline=%{x}<br>value=%{y}<extra></extra>\", \"legendgroup\": \"CAMPECHE\", \"line\": {\"color\": \"#FFA15A\", \"dash\": \"solid\"}, \"mode\": \"lines\", \"name\": \"CAMPECHE\", \"showlegend\": true, \"type\": \"scattergl\", \"x\": [0.0, 13.0, 14.0, 15.0, 16.0, 17.0, 18.0, 19.0, 20.0, 21.0, 22.0, 23.0, 24.0, 25.0, 26.0, 27.0, 28.0, 29.0, 30.0, 31.0, 32.0, 33.0, 34.0, 35.0, 36.0, 37.0, 38.0, 39.0, 40.0, 41.0, 42.0, 43.0, 44.0], \"xaxis\": \"x\", \"y\": [1.0, 0.9981292384441505, 0.9924390053784397, 0.9791877776911689, 0.9564268454283273, 0.9245459505807164, 0.8874425130563575, 0.8349832410943961, 0.7748850261127145, 0.719853457011459, 0.6626393327617128, 0.6023852209837093, 0.5433003351781124, 0.48873645646582026, 0.433860784160886, 0.376256917920337, 0.32395354275469646, 0.27796398784005033, 0.23275391690700756, 0.1923766466599114, 0.15652038350611908, 0.1267440954088394, 0.09751344609868279, 0.07319354587263238, 0.05456387871229249, 0.03819471509860474, 0.027126042559825425, 0.016758905604489838, 0.010211240159014737, 0.00631382025099385, 0.0035856263153792225, 0.0025722971392937886, 0.0012471743705666852], \"yaxis\": \"y\"}, {\"hovertemplate\": \"variable=SAN LUIS POTOS\\u00cd<br>timeline=%{x}<br>value=%{y}<extra></extra>\", \"legendgroup\": \"SAN LUIS POTOS\\u00cd\", \"line\": {\"color\": \"#19d3f3\", \"dash\": \"solid\"}, \"mode\": \"lines\", \"name\": \"SAN LUIS POTOS\\u00cd\", \"showlegend\": true, \"type\": \"scattergl\", \"x\": [0.0, 13.0, 14.0, 15.0, 16.0, 17.0, 18.0, 19.0, 20.0, 21.0, 22.0, 23.0, 24.0, 25.0, 26.0, 27.0, 28.0, 29.0, 30.0, 31.0, 32.0, 33.0, 34.0, 35.0, 36.0, 37.0, 38.0, 39.0, 40.0, 41.0, 42.0, 43.0, 44.0], \"xaxis\": \"x\", \"y\": [1.0, 0.999254347957518, 0.996473267366639, 0.9869813183934212, 0.9680780314786077, 0.9371032425787463, 0.900405070433888, 0.8514943269986498, 0.7974647830555605, 0.7461961669454461, 0.6952298422039054, 0.6447068781362724, 0.5921283327623377, 0.5342093065435998, 0.47802341750468513, 0.42167630640253123, 0.36607484734285867, 0.3164789101388525, 0.2691602345781018, 0.22627516575643372, 0.18810584228451657, 0.15231454424537985, 0.1232744201043913, 0.09580621107998627, 0.07168335986779786, 0.05191350436307203, 0.03569053424961204, 0.024102698454283446, 0.015074262912879624, 0.008967977267689076, 0.004917272928800304, 0.002599705769734586, 0.001370387537534511], \"yaxis\": \"y\"}, {\"hovertemplate\": \"variable=CIUDAD DE M\\u00c9XICO<br>timeline=%{x}<br>value=%{y}<extra></extra>\", \"legendgroup\": \"CIUDAD DE M\\u00c9XICO\", \"line\": {\"color\": \"#FF6692\", \"dash\": \"solid\"}, \"mode\": \"lines\", \"name\": \"CIUDAD DE M\\u00c9XICO\", \"showlegend\": true, \"type\": \"scattergl\", \"x\": [0.0, 13.0, 14.0, 15.0, 16.0, 17.0, 18.0, 19.0, 20.0, 21.0, 22.0, 23.0, 24.0, 25.0, 26.0, 27.0, 28.0, 29.0, 30.0, 31.0, 32.0, 33.0, 34.0, 35.0, 36.0, 37.0, 38.0, 39.0, 40.0, 41.0, 42.0, 43.0, 44.0], \"xaxis\": \"x\", \"y\": [1.0, 0.9994110005728611, 0.9974907010706864, 0.9902855436948812, 0.97312387545486, 0.9473692703668737, 0.913634933313968, 0.8719127958108419, 0.8266485932595871, 0.7806178846045226, 0.7341030668312637, 0.6884193030442392, 0.6408959246080723, 0.5897901386972616, 0.5395880231404155, 0.491378823453473, 0.4424757340304498, 0.39490394468246454, 0.34804218204116527, 0.303536417108416, 0.25934532310249386, 0.2187043626300033, 0.17958027739452462, 0.14155350616028844, 0.10777075819556395, 0.0798618675316082, 0.056398712269745514, 0.03807518214605566, 0.02464115411613774, 0.015273642679059845, 0.009496607201929972, 0.0054300906090899515, 0.0032435310919081135], \"yaxis\": \"y\"}, {\"hovertemplate\": \"variable=SINALOA<br>timeline=%{x}<br>value=%{y}<extra></extra>\", \"legendgroup\": \"SINALOA\", \"line\": {\"color\": \"#B6E880\", \"dash\": \"solid\"}, \"mode\": \"lines\", \"name\": \"SINALOA\", \"showlegend\": true, \"type\": \"scattergl\", \"x\": [0.0, 13.0, 14.0, 15.0, 16.0, 17.0, 18.0, 19.0, 20.0, 21.0, 22.0, 23.0, 24.0, 25.0, 26.0, 27.0, 28.0, 29.0, 30.0, 31.0, 32.0, 33.0, 34.0, 35.0, 36.0, 37.0, 38.0, 39.0, 40.0, 41.0, 42.0, 43.0, 44.0], \"xaxis\": \"x\", \"y\": [1.0, 0.9991997923785635, 0.9964315065530511, 0.9866343699987021, 0.967299623686146, 0.9379082140230974, 0.902028634456508, 0.8566330723647213, 0.805398157359747, 0.7562827111899306, 0.7057182404083222, 0.6529910463255335, 0.5967818677278429, 0.5399671266058222, 0.48053549028937265, 0.42532116441022544, 0.3706907738223973, 0.3181798520697264, 0.26884813356979087, 0.22516112288593781, 0.18510748734806862, 0.14801678273281715, 0.11577057831221071, 0.08793632942601326, 0.06514122583156705, 0.04721224966477787, 0.03241922228470089, 0.021843505341926542, 0.0137981746615338, 0.008607638738699769, 0.005298672087893076, 0.0029629309226177603, 0.0016652969419092523], \"yaxis\": \"y\"}, {\"hovertemplate\": \"variable=COLIMA<br>timeline=%{x}<br>value=%{y}<extra></extra>\", \"legendgroup\": \"COLIMA\", \"line\": {\"color\": \"#FF97FF\", \"dash\": \"solid\"}, \"mode\": \"lines\", \"name\": \"COLIMA\", \"showlegend\": true, \"type\": \"scattergl\", \"x\": [0.0, 13.0, 14.0, 15.0, 16.0, 17.0, 18.0, 19.0, 20.0, 21.0, 22.0, 23.0, 24.0, 25.0, 26.0, 27.0, 28.0, 29.0, 30.0, 31.0, 32.0, 33.0, 34.0, 35.0, 36.0, 37.0, 38.0, 39.0, 40.0, 41.0, 42.0, 43.0, 44.0], \"xaxis\": \"x\", \"y\": [1.0, 0.9987916868052203, 0.9939584340260991, 0.9829627839536001, 0.9597631706138231, 0.9259304011599799, 0.8813436442725949, 0.8313194780086993, 0.7763412276462057, 0.7197921701304976, 0.6672305461575639, 0.6152730787820206, 0.5588448525857908, 0.5019333011116481, 0.4445384243595939, 0.3947559207346546, 0.33361527307878197, 0.28612856452392466, 0.23827936201063316, 0.1998550024166264, 0.1616723054615756, 0.12904784920251333, 0.09968583856935717, 0.0775737071048816, 0.05703238279362009, 0.04072015466408893, 0.02803286611889802, 0.019091348477525378, 0.010270662155630743, 0.006524891251812472, 0.003383276945384245, 0.0014499758337361054, 0.0006041565973900437], \"yaxis\": \"y\"}, {\"hovertemplate\": \"variable=DURANGO<br>timeline=%{x}<br>value=%{y}<extra></extra>\", \"legendgroup\": \"DURANGO\", \"line\": {\"color\": \"#FECB52\", \"dash\": \"solid\"}, \"mode\": \"lines\", \"name\": \"DURANGO\", \"showlegend\": true, \"type\": \"scattergl\", \"x\": [0.0, 13.0, 14.0, 15.0, 16.0, 17.0, 18.0, 19.0, 20.0, 21.0, 22.0, 23.0, 24.0, 25.0, 26.0, 27.0, 28.0, 29.0, 30.0, 31.0, 32.0, 33.0, 34.0, 35.0, 36.0, 37.0, 38.0, 39.0, 40.0, 41.0, 42.0, 43.0, 44.0], \"xaxis\": \"x\", \"y\": [1.0, 0.9988049481605878, 0.9948968056587314, 0.9832692742482478, 0.956332159813959, 0.9191240593004091, 0.8744872581634947, 0.8197732631374949, 0.7596330867866025, 0.7034979490326541, 0.6474274086754299, 0.5919705435870929, 0.5347695487871832, 0.47963567068247137, 0.42553535092535755, 0.37343755046671573, 0.3230515810212848, 0.27573398792028675, 0.23206614773424616, 0.19082070992538977, 0.15632570007428684, 0.12467297567907996, 0.09960918574981428, 0.07858273311585534, 0.058396046639320374, 0.04302186621879136, 0.029747101191821945, 0.020445076063434618, 0.013177868931882032, 0.008010077193889083, 0.004941700849455762, 0.0028745841542585806, 0.0016472336164852549], \"yaxis\": \"y\"}, {\"hovertemplate\": \"variable=MORELOS<br>timeline=%{x}<br>value=%{y}<extra></extra>\", \"legendgroup\": \"MORELOS\", \"line\": {\"color\": \"#636efa\", \"dash\": \"solid\"}, \"mode\": \"lines\", \"name\": \"MORELOS\", \"showlegend\": true, \"type\": \"scattergl\", \"x\": [0.0, 13.0, 14.0, 15.0, 16.0, 17.0, 18.0, 19.0, 20.0, 21.0, 22.0, 23.0, 24.0, 25.0, 26.0, 27.0, 28.0, 29.0, 30.0, 31.0, 32.0, 33.0, 34.0, 35.0, 36.0, 37.0, 38.0, 39.0, 40.0, 41.0, 42.0, 43.0, 44.0], \"xaxis\": \"x\", \"y\": [1.0, 0.9990896085316698, 0.9941474834178708, 0.9809684831144069, 0.9561278016213639, 0.9210994060779475, 0.8757098885854254, 0.8224736636753801, 0.7640785537781247, 0.7065071313998359, 0.6476785017557556, 0.5925347899596826, 0.534963367581394, 0.4746607707981103, 0.41466163783760374, 0.3596479819655789, 0.30905622751116324, 0.263796765942689, 0.22035808731087725, 0.18346555685611493, 0.15129839164173925, 0.12086530541466176, 0.09511423245328829, 0.0710105345298479, 0.05397320847964627, 0.03884336931547234, 0.027528503923353726, 0.01729743789829628, 0.011531625265530851, 0.006416092253002125, 0.0039016777214202127, 0.0021675987341223412, 0.001213855291108511], \"yaxis\": \"y\"}, {\"hovertemplate\": \"variable=TLAXCALA<br>timeline=%{x}<br>value=%{y}<extra></extra>\", \"legendgroup\": \"TLAXCALA\", \"line\": {\"color\": \"#EF553B\", \"dash\": \"solid\"}, \"mode\": \"lines\", \"name\": \"TLAXCALA\", \"showlegend\": true, \"type\": \"scattergl\", \"x\": [0.0, 13.0, 14.0, 15.0, 16.0, 17.0, 18.0, 19.0, 20.0, 21.0, 22.0, 23.0, 24.0, 25.0, 26.0, 27.0, 28.0, 29.0, 30.0, 31.0, 32.0, 33.0, 34.0, 35.0, 36.0, 37.0, 38.0, 39.0, 40.0, 41.0, 42.0, 43.0, 44.0], \"xaxis\": \"x\", \"y\": [1.0, 0.9995242877530521, 0.9954543051958342, 0.9836672128548016, 0.9591416036788422, 0.9205031978434379, 0.8719276917384639, 0.8150536497700726, 0.7560124742322529, 0.7011998520006342, 0.6445900946138803, 0.5885617633067287, 0.5294148739362543, 0.4695808446535227, 0.41233680427083874, 0.3577884666208574, 0.31064009725672626, 0.26354458480892223, 0.22120619483059367, 0.1819335059992599, 0.15196363444156677, 0.12320947195940593, 0.09672815687932765, 0.07510967810137957, 0.057085469633701605, 0.04006554257624611, 0.028807019398488294, 0.01929277445953803, 0.012051376922670337, 0.0072942544531952045, 0.004017125640890111, 0.0022199904857550606, 0.0010042814102225275], \"yaxis\": \"y\"}, {\"hovertemplate\": \"variable=TAMAULIPAS<br>timeline=%{x}<br>value=%{y}<extra></extra>\", \"legendgroup\": \"TAMAULIPAS\", \"line\": {\"color\": \"#00cc96\", \"dash\": \"solid\"}, \"mode\": \"lines\", \"name\": \"TAMAULIPAS\", \"showlegend\": true, \"type\": \"scattergl\", \"x\": [0.0, 13.0, 14.0, 15.0, 16.0, 17.0, 18.0, 19.0, 20.0, 21.0, 22.0, 23.0, 24.0, 25.0, 26.0, 27.0, 28.0, 29.0, 30.0, 31.0, 32.0, 33.0, 34.0, 35.0, 36.0, 37.0, 38.0, 39.0, 40.0, 41.0, 42.0, 43.0, 44.0], \"xaxis\": \"x\", \"y\": [1.0, 0.9990659401756923, 0.995285221839208, 0.9836094740353604, 0.9613254753697325, 0.9296119203825199, 0.8837985099521846, 0.8264872678750131, 0.7651284332258418, 0.7065272990103414, 0.6480596019125981, 0.5903258089625267, 0.5326142555320803, 0.47499166018014033, 0.41694651395529825, 0.36245969087067725, 0.31235405315245196, 0.26502835538752334, 0.2209941065272988, 0.182742132769932, 0.14829311686867552, 0.11806960969643043, 0.09371733570554873, 0.07185588791282103, 0.054464583564994985, 0.0389413988657845, 0.027376848660068946, 0.017569220504837096, 0.0108751250972979, 0.006249305015011673, 0.003513844100967419, 0.0020015567663738457, 0.001045257422439675], \"yaxis\": \"y\"}, {\"hovertemplate\": \"variable=YUCAT\\u00c1N<br>timeline=%{x}<br>value=%{y}<extra></extra>\", \"legendgroup\": \"YUCAT\\u00c1N\", \"line\": {\"color\": \"#ab63fa\", \"dash\": \"solid\"}, \"mode\": \"lines\", \"name\": \"YUCAT\\u00c1N\", \"showlegend\": true, \"type\": \"scattergl\", \"x\": [0.0, 13.0, 14.0, 15.0, 16.0, 17.0, 18.0, 19.0, 20.0, 21.0, 22.0, 23.0, 24.0, 25.0, 26.0, 27.0, 28.0, 29.0, 30.0, 31.0, 32.0, 33.0, 34.0, 35.0, 36.0, 37.0, 38.0, 39.0, 40.0, 41.0, 42.0, 43.0, 44.0], \"xaxis\": \"x\", \"y\": [1.0, 0.9989450399863881, 0.9956440360728265, 0.9842436617321764, 0.9622256253190403, 0.9305427939424871, 0.8935851624978735, 0.8470648289943847, 0.7908116385911179, 0.7377573591968699, 0.6827973455844818, 0.6260677216266806, 0.5711077080142926, 0.5146503318019396, 0.4582269865577676, 0.40347115875446626, 0.35399013101922766, 0.30604049685213525, 0.2616641143440531, 0.21956780670410067, 0.1821337417049515, 0.14936191934660537, 0.12063978220180367, 0.09120299472519995, 0.06795984345754638, 0.0503318019397652, 0.03416709205376893, 0.02191594350859283, 0.013748511145142087, 0.008507742045261186, 0.004594180704441043, 0.0024502297090352224, 0.0010549600136123874], \"yaxis\": \"y\"}, {\"hovertemplate\": \"variable=COAHUILA DE ZARAGOZA<br>timeline=%{x}<br>value=%{y}<extra></extra>\", \"legendgroup\": \"COAHUILA DE ZARAGOZA\", \"line\": {\"color\": \"#FFA15A\", \"dash\": \"solid\"}, \"mode\": \"lines\", \"name\": \"COAHUILA DE ZARAGOZA\", \"showlegend\": true, \"type\": \"scattergl\", \"x\": [0.0, 13.0, 14.0, 15.0, 16.0, 17.0, 18.0, 19.0, 20.0, 21.0, 22.0, 23.0, 24.0, 25.0, 26.0, 27.0, 28.0, 29.0, 30.0, 31.0, 32.0, 33.0, 34.0, 35.0, 36.0, 37.0, 38.0, 39.0, 40.0, 41.0, 42.0, 43.0, 44.0], \"xaxis\": \"x\", \"y\": [1.0, 0.9992112892223737, 0.9949053547066845, 0.9833518076398357, 0.9587099249658931, 0.9224079126875858, 0.8751278990450198, 0.8161451227830832, 0.7566507503410643, 0.6984353683492491, 0.6391115279672579, 0.585372612551159, 0.5286280695770806, 0.4683236698499315, 0.4133910300136427, 0.35988659618008173, 0.3122015688949521, 0.2646657571623466, 0.22256565484311036, 0.185005968622101, 0.14925818553888118, 0.11851978171896303, 0.09336630286493862, 0.07117581855388808, 0.052950204638472026, 0.03773021828103682, 0.026134038199181444, 0.017650068212824003, 0.010615620736698495, 0.0067360163710777615, 0.004092769440654842, 0.0022595497953615267, 0.001172407912687585], \"yaxis\": \"y\"}, {\"hovertemplate\": \"variable=BAJA CALIFORNIA SUR<br>timeline=%{x}<br>value=%{y}<extra></extra>\", \"legendgroup\": \"BAJA CALIFORNIA SUR\", \"line\": {\"color\": \"#19d3f3\", \"dash\": \"solid\"}, \"mode\": \"lines\", \"name\": \"BAJA CALIFORNIA SUR\", \"showlegend\": true, \"type\": \"scattergl\", \"x\": [0.0, 13.0, 14.0, 15.0, 16.0, 17.0, 18.0, 19.0, 20.0, 21.0, 22.0, 23.0, 24.0, 25.0, 26.0, 27.0, 28.0, 29.0, 30.0, 31.0, 32.0, 33.0, 34.0, 35.0, 36.0, 37.0, 38.0, 39.0, 40.0, 41.0, 42.0, 43.0, 44.0], \"xaxis\": \"x\", \"y\": [1.0, 0.9990495802312689, 0.9949310945667666, 0.9862189133533982, 0.9630920323142719, 0.928243307460796, 0.8797718992555047, 0.8257563757326151, 0.7652463171233957, 0.7025186123871383, 0.6432757801362273, 0.5854585775384129, 0.5293838111832726, 0.4660224932678599, 0.4107397433866625, 0.358466656106447, 0.3106288610803105, 0.2608902265167116, 0.21938856328211634, 0.18232219230159993, 0.1477902740377, 0.11801045461745609, 0.09124029779819424, 0.07143988594962779, 0.051956280690638394, 0.03437351496911137, 0.023602090923491213, 0.014573103120544911, 0.010296214161254553, 0.006177728496752732, 0.0031680658957706307, 0.0014256296530967842, 0.00031680658957706327], \"yaxis\": \"y\"}, {\"hovertemplate\": \"variable=QUINTANA ROO<br>timeline=%{x}<br>value=%{y}<extra></extra>\", \"legendgroup\": \"QUINTANA ROO\", \"line\": {\"color\": \"#FF6692\", \"dash\": \"solid\"}, \"mode\": \"lines\", \"name\": \"QUINTANA ROO\", \"showlegend\": true, \"type\": \"scattergl\", \"x\": [0.0, 13.0, 14.0, 15.0, 16.0, 17.0, 18.0, 19.0, 20.0, 21.0, 22.0, 23.0, 24.0, 25.0, 26.0, 27.0, 28.0, 29.0, 30.0, 31.0, 32.0, 33.0, 34.0, 35.0, 36.0, 37.0, 38.0, 39.0, 40.0, 41.0, 42.0, 43.0, 44.0], \"xaxis\": \"x\", \"y\": [1.0, 0.9988668555240808, 0.9928773775799281, 0.9804937272359375, 0.9545932820720361, 0.9159044921084595, 0.8638607851072441, 0.7976527721570215, 0.7222177256171592, 0.6543099959530563, 0.5923108053419678, 0.5306353702954271, 0.47074059085390574, 0.41286928369081405, 0.35629299878591697, 0.3045730473492515, 0.2536624848239579, 0.21205989477944168, 0.17531363820315676, 0.142452448401457, 0.11647106434641855, 0.09105625252934044, 0.0704977741804938, 0.051800890327802544, 0.037231889923108094, 0.025576689599352515, 0.01699716713881021, 0.01157426143261838, 0.007770133549170382, 0.004937272359368681, 0.0025900445163901287, 0.0014569000404694478, 0.0010522055847834908], \"yaxis\": \"y\"}, {\"hovertemplate\": \"variable=ZACATECAS<br>timeline=%{x}<br>value=%{y}<extra></extra>\", \"legendgroup\": \"ZACATECAS\", \"line\": {\"color\": \"#B6E880\", \"dash\": \"solid\"}, \"mode\": \"lines\", \"name\": \"ZACATECAS\", \"showlegend\": true, \"type\": \"scattergl\", \"x\": [0.0, 13.0, 14.0, 15.0, 16.0, 17.0, 18.0, 19.0, 20.0, 21.0, 22.0, 23.0, 24.0, 25.0, 26.0, 27.0, 28.0, 29.0, 30.0, 31.0, 32.0, 33.0, 34.0, 35.0, 36.0, 37.0, 38.0, 39.0, 40.0, 41.0, 42.0, 43.0, 44.0], \"xaxis\": \"x\", \"y\": [1.0, 0.9994562064965211, 0.9961934454756382, 0.985643851508122, 0.9622244779582368, 0.9278567285382844, 0.8850420533642692, 0.8347230278422275, 0.78088747099768, 0.7277407192575409, 0.6730713457076573, 0.6213022041763341, 0.5671041183294673, 0.5126160092807431, 0.4582366589327152, 0.40726508120649696, 0.3579973897911837, 0.31007105568445503, 0.26435614849187955, 0.2224840487238982, 0.18271461716937376, 0.14820185614849202, 0.11687935034802802, 0.09135730858468687, 0.0696055684454757, 0.0524579466357309, 0.03741299303944318, 0.026319605568445488, 0.01660382830626452, 0.00938950116009281, 0.004966647331786547, 0.002718967517401393, 0.0016313805104408363], \"yaxis\": \"y\"}, {\"hovertemplate\": \"variable=NAYARIT<br>timeline=%{x}<br>value=%{y}<extra></extra>\", \"legendgroup\": \"NAYARIT\", \"line\": {\"color\": \"#FF97FF\", \"dash\": \"solid\"}, \"mode\": \"lines\", \"name\": \"NAYARIT\", \"showlegend\": true, \"type\": \"scattergl\", \"x\": [0.0, 13.0, 14.0, 15.0, 16.0, 17.0, 18.0, 19.0, 20.0, 21.0, 22.0, 23.0, 24.0, 25.0, 26.0, 27.0, 28.0, 29.0, 30.0, 31.0, 32.0, 33.0, 34.0, 35.0, 36.0, 37.0, 38.0, 39.0, 40.0, 41.0, 42.0, 43.0, 44.0], \"xaxis\": \"x\", \"y\": [1.0, 0.9987953258643537, 0.9943982652692446, 0.9836766654619935, 0.9613901939525358, 0.928382122635828, 0.8863389953017723, 0.8358029153114087, 0.780387905071679, 0.7272015419828946, 0.6771473316467902, 0.6244428382122643, 0.5724611492591262, 0.5144560896277561, 0.4555475243946516, 0.4014576557041322, 0.3499578364052526, 0.30104806649801275, 0.2569569931333574, 0.2141308276111315, 0.17612335863149028, 0.14371762438260458, 0.11257679797614757, 0.08733887483435737, 0.06613661004698233, 0.04776532947837612, 0.03336947355740275, 0.021925069268762813, 0.014395855920973392, 0.009035056017347312, 0.005240332490061442, 0.0030116853391157724, 0.0022286471509456716], \"yaxis\": \"y\"}, {\"hovertemplate\": \"variable=BAJA CALIFORNIA<br>timeline=%{x}<br>value=%{y}<extra></extra>\", \"legendgroup\": \"BAJA CALIFORNIA\", \"line\": {\"color\": \"#FECB52\", \"dash\": \"solid\"}, \"mode\": \"lines\", \"name\": \"BAJA CALIFORNIA\", \"showlegend\": true, \"type\": \"scattergl\", \"x\": [0.0, 13.0, 14.0, 15.0, 16.0, 17.0, 18.0, 19.0, 20.0, 21.0, 22.0, 23.0, 24.0, 25.0, 26.0, 27.0, 28.0, 29.0, 30.0, 31.0, 32.0, 33.0, 34.0, 35.0, 36.0, 37.0, 38.0, 39.0, 40.0, 41.0, 42.0, 43.0, 44.0], \"xaxis\": \"x\", \"y\": [1.0, 0.9990753911806532, 0.9955903271692736, 0.9844594594594586, 0.9615931721194879, 0.9268847795163584, 0.8785917496443815, 0.8128022759601696, 0.7400426742532, 0.669416785206258, 0.6021692745376956, 0.5375533428165004, 0.4746799431009955, 0.4158961593172118, 0.36041963015647205, 0.3111664295874823, 0.26109530583214774, 0.21646514935988595, 0.17809388335704102, 0.14395448079658604, 0.11593172119487906, 0.09260312944523463, 0.07176386913229012, 0.05565433854907535, 0.04214082503556184, 0.029729729729729718, 0.02016358463726883, 0.013122332859174956, 0.007894736842105258, 0.005227596017069697, 0.0034850640113798003, 0.0016714082503556176, 0.0008890469416785204], \"yaxis\": \"y\"}, {\"hovertemplate\": \"variable=NUEVO LE\\u00d3N<br>timeline=%{x}<br>value=%{y}<extra></extra>\", \"legendgroup\": \"NUEVO LE\\u00d3N\", \"line\": {\"color\": \"#636efa\", \"dash\": \"solid\"}, \"mode\": \"lines\", \"name\": \"NUEVO LE\\u00d3N\", \"showlegend\": true, \"type\": \"scattergl\", \"x\": [0.0, 13.0, 14.0, 15.0, 16.0, 17.0, 18.0, 19.0, 20.0, 21.0, 22.0, 23.0, 24.0, 25.0, 26.0, 27.0, 28.0, 29.0, 30.0, 31.0, 32.0, 33.0, 34.0, 35.0, 36.0, 37.0, 38.0, 39.0, 40.0, 41.0, 42.0, 43.0, 44.0], \"xaxis\": \"x\", \"y\": [1.0, 0.9992460128833454, 0.9960497631496991, 0.9870838728712151, 0.9676769001294887, 0.935730793817306, 0.8923765346096474, 0.8396466095166276, 0.7817371207526754, 0.7240898883771244, 0.6689013096428396, 0.6179580061958063, 0.5658673310495174, 0.5133996623448999, 0.4592437181399467, 0.4064974020226521, 0.35427559868216146, 0.30577455785212004, 0.258388106672786, 0.21608287301873486, 0.1776950941664345, 0.14571620580570063, 0.11562228523660446, 0.08892130669245513, 0.06659673162975949, 0.04794374600468783, 0.03206084348210917, 0.02093133799931157, 0.013129210444360667, 0.007966037797701973, 0.004573095772754836, 0.0024914356898162555, 0.0011965447720828067], \"yaxis\": \"y\"}, {\"hovertemplate\": \"variable=AGUASCALIENTES<br>timeline=%{x}<br>value=%{y}<extra></extra>\", \"legendgroup\": \"AGUASCALIENTES\", \"line\": {\"color\": \"#EF553B\", \"dash\": \"solid\"}, \"mode\": \"lines\", \"name\": \"AGUASCALIENTES\", \"showlegend\": true, \"type\": \"scattergl\", \"x\": [0.0, 13.0, 14.0, 15.0, 16.0, 17.0, 18.0, 19.0, 20.0, 21.0, 22.0, 23.0, 24.0, 25.0, 26.0, 27.0, 28.0, 29.0, 30.0, 31.0, 32.0, 33.0, 34.0, 35.0, 36.0, 37.0, 38.0, 39.0, 40.0, 41.0, 42.0, 43.0, 44.0], \"xaxis\": \"x\", \"y\": [1.0, 0.9988605964529879, 0.9953433072426449, 0.981918161101755, 0.9558109580897652, 0.9162786089368883, 0.8658476171604083, 0.8089269790944222, 0.7470524125631629, 0.6866144852868332, 0.627563657980779, 0.5729713662934715, 0.5173387496284557, 0.4617061329634404, 0.40518180917467556, 0.35465173882889156, 0.30402258991380204, 0.2557217873773906, 0.21643713464777595, 0.17878727831170146, 0.14792430397305062, 0.11904290102050934, 0.09382740513226998, 0.07138610918458341, 0.053304270286337115, 0.03849202417517094, 0.026998910135737658, 0.019072624591300925, 0.011394035470127822, 0.007629049836520369, 0.003963142772218371, 0.002229267809372834, 0.0009907856930545926], \"yaxis\": \"y\"}],                        {\"legend\": {\"title\": {\"text\": \"variable\"}, \"tracegroupgap\": 0}, \"template\": {\"data\": {\"bar\": [{\"error_x\": {\"color\": \"#2a3f5f\"}, \"error_y\": {\"color\": \"#2a3f5f\"}, \"marker\": {\"line\": {\"color\": \"#E5ECF6\", \"width\": 0.5}}, \"type\": \"bar\"}], \"barpolar\": [{\"marker\": {\"line\": {\"color\": \"#E5ECF6\", \"width\": 0.5}}, \"type\": \"barpolar\"}], \"carpet\": [{\"aaxis\": {\"endlinecolor\": \"#2a3f5f\", \"gridcolor\": \"white\", \"linecolor\": \"white\", \"minorgridcolor\": \"white\", \"startlinecolor\": \"#2a3f5f\"}, \"baxis\": {\"endlinecolor\": \"#2a3f5f\", \"gridcolor\": \"white\", \"linecolor\": \"white\", \"minorgridcolor\": \"white\", \"startlinecolor\": \"#2a3f5f\"}, \"type\": \"carpet\"}], \"choropleth\": [{\"colorbar\": {\"outlinewidth\": 0, \"ticks\": \"\"}, \"type\": \"choropleth\"}], \"contour\": [{\"colorbar\": {\"outlinewidth\": 0, \"ticks\": \"\"}, \"colorscale\": [[0.0, \"#0d0887\"], [0.1111111111111111, \"#46039f\"], [0.2222222222222222, \"#7201a8\"], [0.3333333333333333, \"#9c179e\"], [0.4444444444444444, \"#bd3786\"], [0.5555555555555556, \"#d8576b\"], [0.6666666666666666, \"#ed7953\"], [0.7777777777777778, \"#fb9f3a\"], [0.8888888888888888, \"#fdca26\"], [1.0, \"#f0f921\"]], \"type\": \"contour\"}], \"contourcarpet\": [{\"colorbar\": {\"outlinewidth\": 0, \"ticks\": \"\"}, \"type\": \"contourcarpet\"}], \"heatmap\": [{\"colorbar\": {\"outlinewidth\": 0, \"ticks\": \"\"}, \"colorscale\": [[0.0, \"#0d0887\"], [0.1111111111111111, \"#46039f\"], [0.2222222222222222, \"#7201a8\"], [0.3333333333333333, \"#9c179e\"], [0.4444444444444444, \"#bd3786\"], [0.5555555555555556, \"#d8576b\"], [0.6666666666666666, \"#ed7953\"], [0.7777777777777778, \"#fb9f3a\"], [0.8888888888888888, \"#fdca26\"], [1.0, \"#f0f921\"]], \"type\": \"heatmap\"}], \"heatmapgl\": [{\"colorbar\": {\"outlinewidth\": 0, \"ticks\": \"\"}, \"colorscale\": [[0.0, \"#0d0887\"], [0.1111111111111111, \"#46039f\"], [0.2222222222222222, \"#7201a8\"], [0.3333333333333333, \"#9c179e\"], [0.4444444444444444, \"#bd3786\"], [0.5555555555555556, \"#d8576b\"], [0.6666666666666666, \"#ed7953\"], [0.7777777777777778, \"#fb9f3a\"], [0.8888888888888888, \"#fdca26\"], [1.0, \"#f0f921\"]], \"type\": \"heatmapgl\"}], \"histogram\": [{\"marker\": {\"colorbar\": {\"outlinewidth\": 0, \"ticks\": \"\"}}, \"type\": \"histogram\"}], \"histogram2d\": [{\"colorbar\": {\"outlinewidth\": 0, \"ticks\": \"\"}, \"colorscale\": [[0.0, \"#0d0887\"], [0.1111111111111111, \"#46039f\"], [0.2222222222222222, \"#7201a8\"], [0.3333333333333333, \"#9c179e\"], [0.4444444444444444, \"#bd3786\"], [0.5555555555555556, \"#d8576b\"], [0.6666666666666666, \"#ed7953\"], [0.7777777777777778, \"#fb9f3a\"], [0.8888888888888888, \"#fdca26\"], [1.0, \"#f0f921\"]], \"type\": \"histogram2d\"}], \"histogram2dcontour\": [{\"colorbar\": {\"outlinewidth\": 0, \"ticks\": \"\"}, \"colorscale\": [[0.0, \"#0d0887\"], [0.1111111111111111, \"#46039f\"], [0.2222222222222222, \"#7201a8\"], [0.3333333333333333, \"#9c179e\"], [0.4444444444444444, \"#bd3786\"], [0.5555555555555556, \"#d8576b\"], [0.6666666666666666, \"#ed7953\"], [0.7777777777777778, \"#fb9f3a\"], [0.8888888888888888, \"#fdca26\"], [1.0, \"#f0f921\"]], \"type\": \"histogram2dcontour\"}], \"mesh3d\": [{\"colorbar\": {\"outlinewidth\": 0, \"ticks\": \"\"}, \"type\": \"mesh3d\"}], \"parcoords\": [{\"line\": {\"colorbar\": {\"outlinewidth\": 0, \"ticks\": \"\"}}, \"type\": \"parcoords\"}], \"pie\": [{\"automargin\": true, \"type\": \"pie\"}], \"scatter\": [{\"marker\": {\"colorbar\": {\"outlinewidth\": 0, \"ticks\": \"\"}}, \"type\": \"scatter\"}], \"scatter3d\": [{\"line\": {\"colorbar\": {\"outlinewidth\": 0, \"ticks\": \"\"}}, \"marker\": {\"colorbar\": {\"outlinewidth\": 0, \"ticks\": \"\"}}, \"type\": \"scatter3d\"}], \"scattercarpet\": [{\"marker\": {\"colorbar\": {\"outlinewidth\": 0, \"ticks\": \"\"}}, \"type\": \"scattercarpet\"}], \"scattergeo\": [{\"marker\": {\"colorbar\": {\"outlinewidth\": 0, \"ticks\": \"\"}}, \"type\": \"scattergeo\"}], \"scattergl\": [{\"marker\": {\"colorbar\": {\"outlinewidth\": 0, \"ticks\": \"\"}}, \"type\": \"scattergl\"}], \"scattermapbox\": [{\"marker\": {\"colorbar\": {\"outlinewidth\": 0, \"ticks\": \"\"}}, \"type\": \"scattermapbox\"}], \"scatterpolar\": [{\"marker\": {\"colorbar\": {\"outlinewidth\": 0, \"ticks\": \"\"}}, \"type\": \"scatterpolar\"}], \"scatterpolargl\": [{\"marker\": {\"colorbar\": {\"outlinewidth\": 0, \"ticks\": \"\"}}, \"type\": \"scatterpolargl\"}], \"scatterternary\": [{\"marker\": {\"colorbar\": {\"outlinewidth\": 0, \"ticks\": \"\"}}, \"type\": \"scatterternary\"}], \"surface\": [{\"colorbar\": {\"outlinewidth\": 0, \"ticks\": \"\"}, \"colorscale\": [[0.0, \"#0d0887\"], [0.1111111111111111, \"#46039f\"], [0.2222222222222222, \"#7201a8\"], [0.3333333333333333, \"#9c179e\"], [0.4444444444444444, \"#bd3786\"], [0.5555555555555556, \"#d8576b\"], [0.6666666666666666, \"#ed7953\"], [0.7777777777777778, \"#fb9f3a\"], [0.8888888888888888, \"#fdca26\"], [1.0, \"#f0f921\"]], \"type\": \"surface\"}], \"table\": [{\"cells\": {\"fill\": {\"color\": \"#EBF0F8\"}, \"line\": {\"color\": \"white\"}}, \"header\": {\"fill\": {\"color\": \"#C8D4E3\"}, \"line\": {\"color\": \"white\"}}, \"type\": \"table\"}]}, \"layout\": {\"annotationdefaults\": {\"arrowcolor\": \"#2a3f5f\", \"arrowhead\": 0, \"arrowwidth\": 1}, \"autotypenumbers\": \"strict\", \"coloraxis\": {\"colorbar\": {\"outlinewidth\": 0, \"ticks\": \"\"}}, \"colorscale\": {\"diverging\": [[0, \"#8e0152\"], [0.1, \"#c51b7d\"], [0.2, \"#de77ae\"], [0.3, \"#f1b6da\"], [0.4, \"#fde0ef\"], [0.5, \"#f7f7f7\"], [0.6, \"#e6f5d0\"], [0.7, \"#b8e186\"], [0.8, \"#7fbc41\"], [0.9, \"#4d9221\"], [1, \"#276419\"]], \"sequential\": [[0.0, \"#0d0887\"], [0.1111111111111111, \"#46039f\"], [0.2222222222222222, \"#7201a8\"], [0.3333333333333333, \"#9c179e\"], [0.4444444444444444, \"#bd3786\"], [0.5555555555555556, \"#d8576b\"], [0.6666666666666666, \"#ed7953\"], [0.7777777777777778, \"#fb9f3a\"], [0.8888888888888888, \"#fdca26\"], [1.0, \"#f0f921\"]], \"sequentialminus\": [[0.0, \"#0d0887\"], [0.1111111111111111, \"#46039f\"], [0.2222222222222222, \"#7201a8\"], [0.3333333333333333, \"#9c179e\"], [0.4444444444444444, \"#bd3786\"], [0.5555555555555556, \"#d8576b\"], [0.6666666666666666, \"#ed7953\"], [0.7777777777777778, \"#fb9f3a\"], [0.8888888888888888, \"#fdca26\"], [1.0, \"#f0f921\"]]}, \"colorway\": [\"#636efa\", \"#EF553B\", \"#00cc96\", \"#ab63fa\", \"#FFA15A\", \"#19d3f3\", \"#FF6692\", \"#B6E880\", \"#FF97FF\", \"#FECB52\"], \"font\": {\"color\": \"#2a3f5f\"}, \"geo\": {\"bgcolor\": \"white\", \"lakecolor\": \"white\", \"landcolor\": \"#E5ECF6\", \"showlakes\": true, \"showland\": true, \"subunitcolor\": \"white\"}, \"hoverlabel\": {\"align\": \"left\"}, \"hovermode\": \"closest\", \"mapbox\": {\"style\": \"light\"}, \"paper_bgcolor\": \"white\", \"plot_bgcolor\": \"#E5ECF6\", \"polar\": {\"angularaxis\": {\"gridcolor\": \"white\", \"linecolor\": \"white\", \"ticks\": \"\"}, \"bgcolor\": \"#E5ECF6\", \"radialaxis\": {\"gridcolor\": \"white\", \"linecolor\": \"white\", \"ticks\": \"\"}}, \"scene\": {\"xaxis\": {\"backgroundcolor\": \"#E5ECF6\", \"gridcolor\": \"white\", \"gridwidth\": 2, \"linecolor\": \"white\", \"showbackground\": true, \"ticks\": \"\", \"zerolinecolor\": \"white\"}, \"yaxis\": {\"backgroundcolor\": \"#E5ECF6\", \"gridcolor\": \"white\", \"gridwidth\": 2, \"linecolor\": \"white\", \"showbackground\": true, \"ticks\": \"\", \"zerolinecolor\": \"white\"}, \"zaxis\": {\"backgroundcolor\": \"#E5ECF6\", \"gridcolor\": \"white\", \"gridwidth\": 2, \"linecolor\": \"white\", \"showbackground\": true, \"ticks\": \"\", \"zerolinecolor\": \"white\"}}, \"shapedefaults\": {\"line\": {\"color\": \"#2a3f5f\"}}, \"ternary\": {\"aaxis\": {\"gridcolor\": \"white\", \"linecolor\": \"white\", \"ticks\": \"\"}, \"baxis\": {\"gridcolor\": \"white\", \"linecolor\": \"white\", \"ticks\": \"\"}, \"bgcolor\": \"#E5ECF6\", \"caxis\": {\"gridcolor\": \"white\", \"linecolor\": \"white\", \"ticks\": \"\"}}, \"title\": {\"x\": 0.05}, \"xaxis\": {\"automargin\": true, \"gridcolor\": \"white\", \"linecolor\": \"white\", \"ticks\": \"\", \"title\": {\"standoff\": 15}, \"zerolinecolor\": \"white\", \"zerolinewidth\": 2}, \"yaxis\": {\"automargin\": true, \"gridcolor\": \"white\", \"linecolor\": \"white\", \"ticks\": \"\", \"title\": {\"standoff\": 15}, \"zerolinecolor\": \"white\", \"zerolinewidth\": 2}}}, \"title\": {\"text\": \"Tasa de Mortalidad Materna por lugar de nacimiento\"}, \"xaxis\": {\"anchor\": \"y\", \"domain\": [0.0, 1.0], \"title\": {\"text\": \"timeline\"}}, \"yaxis\": {\"anchor\": \"x\", \"domain\": [0.0, 1.0], \"title\": {\"text\": \"value\"}}},                        {\"responsive\": true}                    ).then(function(){\n",
       "                            \n",
       "var gd = document.getElementById('8f74bb17-7432-4a4e-bd0d-531648932de2');\n",
       "var x = new MutationObserver(function (mutations, observer) {{\n",
       "        var display = window.getComputedStyle(gd).display;\n",
       "        if (!display || display === 'none') {{\n",
       "            console.log([gd, 'removed!']);\n",
       "            Plotly.purge(gd);\n",
       "            observer.disconnect();\n",
       "        }}\n",
       "}});\n",
       "\n",
       "// Listen for the removal of the full notebook cells\n",
       "var notebookContainer = gd.closest('#notebook-container');\n",
       "if (notebookContainer) {{\n",
       "    x.observe(notebookContainer, {childList: true});\n",
       "}}\n",
       "\n",
       "// Listen for the clearing of the current output cell\n",
       "var outputEl = gd.closest('.output');\n",
       "if (outputEl) {{\n",
       "    x.observe(outputEl, {childList: true});\n",
       "}}\n",
       "\n",
       "                        })                };                });            </script>        </div>"
      ]
     },
     "metadata": {},
     "output_type": "display_data"
    }
   ],
   "source": [
    "estados = {1:'AGUASCALIENTES', 2:'BAJA CALIFORNIA', 3:'BAJA CALIFORNIA SUR', 4:'CAMPECHE',\n",
    "           5:'COAHUILA DE ZARAGOZA', 6:'COLIMA', 7:'CHIAPAS', 8:'CHIHUAHUA', 9:'CIUDAD DE MÉXICO',\n",
    "           10:'DURANGO', 11:'GUANAJUATO', 12:'GUERRERO', 13:'HIDALGO', 14:'JALISCO', 15:'MÉXICO',\n",
    "           16:'MICHOACÁN DE OCAMPO', 17:'MORELOS', 18:'NAYARIT', 19:'NUEVO LEÓN', 20:'OAXACA',\n",
    "           21:'PUEBLA', 22:'QUERÉTARO', 23:'QUINTANA ROO', 24:'SAN LUIS POTOSÍ', 25:'SINALOA',\n",
    "           26:'SONORA', 27:'TABASCO', 28:'TAMAULIPAS', 29:'TLAXCALA',\n",
    "           30:'VERACRUZ DE IGNACIO DE LA LLAVE', 31:'YUCATÁN', 32:'ZACATECAS'}\n",
    "\n",
    "data_entidad = data_entidad.replace({'ENTIDADNACIMIENTO': estados})\n",
    "\n",
    "rates, logrank = survival(data_entidad, 'ENTIDADNACIMIENTO', 'EDAD', 'SOBREVIVIOPARTO')\n",
    "rates.dropna().plot(kind='line',\n",
    "           title='Tasa de Mortalidad Materna por lugar de nacimiento')"
   ]
  },
  {
   "cell_type": "code",
   "execution_count": 22,
   "metadata": {},
   "outputs": [
    {
     "data": {
      "application/vnd.plotly.v1+json": {
       "config": {
        "plotlyServerURL": "https://plot.ly"
       },
       "data": [
        {
         "hovertemplate": "variable=JALISCO<br>timeline=%{x}<br>value=%{y}<extra></extra>",
         "legendgroup": "JALISCO",
         "line": {
          "color": "#636efa",
          "dash": "solid"
         },
         "mode": "lines",
         "name": "JALISCO",
         "showlegend": true,
         "type": "scattergl",
         "x": [
          0,
          13,
          14,
          15,
          16,
          17,
          18,
          19,
          20,
          21,
          22,
          23,
          24,
          25,
          26,
          27,
          28,
          29,
          30,
          31,
          32,
          33,
          34,
          35,
          36,
          37,
          38,
          39,
          40,
          41,
          42,
          43,
          44
         ],
         "xaxis": "x",
         "y": [
          1,
          0.9990458925675036,
          0.9957585587773562,
          0.9862608529720456,
          0.9646720038858209,
          0.9329435949033325,
          0.8916741115958751,
          0.8411584598971313,
          0.7850916376820397,
          0.7274115065356359,
          0.6717783695171357,
          0.6172120980822446,
          0.5634438074090786,
          0.5087907989348692,
          0.4554301723464979,
          0.4035093806108026,
          0.35251667519580904,
          0.3046378294923284,
          0.2608789931564478,
          0.21950542540180942,
          0.18197430848895424,
          0.14841574797685878,
          0.11833534274141096,
          0.09233157835390454,
          0.06931156811893394,
          0.05033350391617734,
          0.03488563721365935,
          0.023540432470878066,
          0.014563148901475406,
          0.008378797998109137,
          0.004761863458552709,
          0.0024893530284237305,
          0.0012663607740413397
         ],
         "yaxis": "y"
        },
        {
         "hovertemplate": "variable=TABASCO<br>timeline=%{x}<br>value=%{y}<extra></extra>",
         "legendgroup": "TABASCO",
         "line": {
          "color": "#EF553B",
          "dash": "solid"
         },
         "mode": "lines",
         "name": "TABASCO",
         "showlegend": true,
         "type": "scattergl",
         "x": [
          0,
          13,
          14,
          15,
          16,
          17,
          18,
          19,
          20,
          21,
          22,
          23,
          24,
          25,
          26,
          27,
          28,
          29,
          30,
          31,
          32,
          33,
          34,
          35,
          36,
          37,
          38,
          39,
          40,
          41,
          42,
          43,
          44
         ],
         "xaxis": "x",
         "y": [
          1,
          0.9984680565861601,
          0.993154127869401,
          0.97955813007157,
          0.9543050003590495,
          0.9184240132130114,
          0.8752902314670751,
          0.8216482753668278,
          0.762859946860713,
          0.7058429279268496,
          0.6499269933216838,
          0.5929339110036621,
          0.5353424132896085,
          0.4792110491418718,
          0.42339086100007184,
          0.3702276372166503,
          0.32065490580941663,
          0.27457692031500586,
          0.2314431385690692,
          0.19496373602700032,
          0.16030351628886713,
          0.1286114369150489,
          0.10101251885008498,
          0.07824879718505398,
          0.058668645426909506,
          0.04370826052612679,
          0.0304952485817555,
          0.020537616391794522,
          0.013428441486942567,
          0.008665054934533357,
          0.005098499174186754,
          0.002920267132632788,
          0.0016755631088876655
         ],
         "yaxis": "y"
        },
        {
         "hovertemplate": "variable=MÉXICO<br>timeline=%{x}<br>value=%{y}<extra></extra>",
         "legendgroup": "MÉXICO",
         "line": {
          "color": "#00cc96",
          "dash": "solid"
         },
         "mode": "lines",
         "name": "MÉXICO",
         "showlegend": true,
         "type": "scattergl",
         "x": [
          0,
          13,
          14,
          15,
          16,
          17,
          18,
          19,
          20,
          21,
          22,
          23,
          24,
          25,
          26,
          27,
          28,
          29,
          30,
          31,
          32,
          33,
          34,
          35,
          36,
          37,
          38,
          39,
          40,
          41,
          42,
          43,
          44
         ],
         "xaxis": "x",
         "y": [
          1,
          0.999125863869431,
          0.9955295856946746,
          0.9845530172363212,
          0.9598836049608697,
          0.921492015441116,
          0.8721414575193308,
          0.810118859047015,
          0.7454269186994726,
          0.682929118706513,
          0.6232179942975822,
          0.5653020756333086,
          0.5067056214579886,
          0.4478216996961058,
          0.3917009867764908,
          0.3369354781935303,
          0.2858718481232474,
          0.23898529808628738,
          0.1964107618477712,
          0.16156265033381442,
          0.1303401504218147,
          0.10416299998826667,
          0.0818930620577985,
          0.06310206859328621,
          0.04793668673073084,
          0.0346017107254743,
          0.024229410867448124,
          0.01660858648081007,
          0.010747767726190053,
          0.006594154434627523,
          0.0038954791321998885,
          0.0022000070400225277,
          0.0011968038297722548
         ],
         "yaxis": "y"
        },
        {
         "hovertemplate": "variable=CHIAPAS<br>timeline=%{x}<br>value=%{y}<extra></extra>",
         "legendgroup": "CHIAPAS",
         "line": {
          "color": "#ab63fa",
          "dash": "solid"
         },
         "mode": "lines",
         "name": "CHIAPAS",
         "showlegend": true,
         "type": "scattergl",
         "x": [
          0,
          13,
          14,
          15,
          16,
          17,
          18,
          19,
          20,
          21,
          22,
          23,
          24,
          25,
          26,
          27,
          28,
          29,
          30,
          31,
          32,
          33,
          34,
          35,
          36,
          37,
          38,
          39,
          40,
          41,
          42,
          43,
          44
         ],
         "xaxis": "x",
         "y": [
          1,
          0.9978052064124179,
          0.9916959871480131,
          0.977079114389474,
          0.9508320982905506,
          0.9138260682648681,
          0.8679956104128242,
          0.8110441108257632,
          0.7513660893077354,
          0.6938828613772893,
          0.6369313617902272,
          0.580307949904402,
          0.5214218642169454,
          0.4654772544716089,
          0.4110599495423744,
          0.35953886707922783,
          0.31133260173547106,
          0.26674661447432424,
          0.22541887748752715,
          0.1903248068242243,
          0.15829665916213198,
          0.1291307938591033,
          0.10350601305562784,
          0.08098109536038739,
          0.06231403649692847,
          0.04643006640947609,
          0.0328653369686959,
          0.02237784389813442,
          0.014639499496555075,
          0.009254335848672374,
          0.005690624611102942,
          0.0033713839644307687,
          0.001968526207419308
         ],
         "yaxis": "y"
        },
        {
         "hovertemplate": "variable=OAXACA<br>timeline=%{x}<br>value=%{y}<extra></extra>",
         "legendgroup": "OAXACA",
         "line": {
          "color": "#FFA15A",
          "dash": "solid"
         },
         "mode": "lines",
         "name": "OAXACA",
         "showlegend": true,
         "type": "scattergl",
         "x": [
          0,
          13,
          14,
          15,
          16,
          17,
          18,
          19,
          20,
          21,
          22,
          23,
          24,
          25,
          26,
          27,
          28,
          29,
          30,
          31,
          32,
          33,
          34,
          35,
          36,
          37,
          38,
          39,
          40,
          41,
          42,
          43,
          44
         ],
         "xaxis": "x",
         "y": [
          1,
          0.9985780919854881,
          0.9941263239026715,
          0.9824985714475559,
          0.9602928864732697,
          0.9275757132795575,
          0.8874699339543661,
          0.8380486638051313,
          0.7828866061580574,
          0.7288541016066222,
          0.6763498159492892,
          0.6221977116583164,
          0.5654277019574491,
          0.5069035627433516,
          0.44929635486571623,
          0.3939482531793595,
          0.3425735206176659,
          0.293564205126842,
          0.2488604802593986,
          0.20997727604948774,
          0.17421695392752254,
          0.14225724575088686,
          0.11379250774076095,
          0.08926127227545139,
          0.06861038391516391,
          0.05090962246348885,
          0.03685000863775895,
          0.02490332354387316,
          0.016292142297112327,
          0.010099533561015797,
          0.005993275836865954,
          0.003654436485893875,
          0.0020597732920492745
         ],
         "yaxis": "y"
        },
        {
         "hovertemplate": "variable=MICHOACÁN DE OCAMPO<br>timeline=%{x}<br>value=%{y}<extra></extra>",
         "legendgroup": "MICHOACÁN DE OCAMPO",
         "line": {
          "color": "#19d3f3",
          "dash": "solid"
         },
         "mode": "lines",
         "name": "MICHOACÁN DE OCAMPO",
         "showlegend": true,
         "type": "scattergl",
         "x": [
          0,
          13,
          14,
          15,
          16,
          17,
          18,
          19,
          20,
          21,
          22,
          23,
          24,
          25,
          26,
          27,
          28,
          29,
          30,
          31,
          32,
          33,
          34,
          35,
          36,
          37,
          38,
          39,
          40,
          41,
          42,
          43,
          44
         ],
         "xaxis": "x",
         "y": [
          1,
          0.9991130926698308,
          0.9948103935950905,
          0.9826333956565513,
          0.9581715326717478,
          0.9227311951675531,
          0.8808907426051106,
          0.8297377630758911,
          0.7760079581955036,
          0.7208519104463303,
          0.6670741646291769,
          0.6124574524186205,
          0.55797257778417,
          0.5021094012177,
          0.4464140179299103,
          0.3930797257778419,
          0.34132748453904765,
          0.2939138980775682,
          0.24828611151061888,
          0.20844719305815246,
          0.17107723284912976,
          0.13795004554388998,
          0.10958099621266591,
          0.08460376815762981,
          0.06364159355673805,
          0.04667050194160797,
          0.03252792559566615,
          0.02204084567812454,
          0.01408265017498442,
          0.008581427681096888,
          0.005105709765568821,
          0.0029124119085286917,
          0.0015820509132748448
         ],
         "yaxis": "y"
        },
        {
         "hovertemplate": "variable=HIDALGO<br>timeline=%{x}<br>value=%{y}<extra></extra>",
         "legendgroup": "HIDALGO",
         "line": {
          "color": "#FF6692",
          "dash": "solid"
         },
         "mode": "lines",
         "name": "HIDALGO",
         "showlegend": true,
         "type": "scattergl",
         "x": [
          0,
          13,
          14,
          15,
          16,
          17,
          18,
          19,
          20,
          21,
          22,
          23,
          24,
          25,
          26,
          27,
          28,
          29,
          30,
          31,
          32,
          33,
          34,
          35,
          36,
          37,
          38,
          39,
          40,
          41,
          42,
          43,
          44
         ],
         "xaxis": "x",
         "y": [
          1,
          0.999209748139084,
          0.9959212807178539,
          0.9870755582747021,
          0.9653563780972768,
          0.9306107882125012,
          0.8844702763332307,
          0.8297644539614568,
          0.7744723156928723,
          0.7225451208320585,
          0.6693943101866018,
          0.6141531559090444,
          0.5570255939634959,
          0.49780768838584716,
          0.4376210869786887,
          0.37998368512287145,
          0.3271897624146016,
          0.279749158764148,
          0.23603038645865196,
          0.19758845722443152,
          0.16220556745182016,
          0.13092688895686758,
          0.10347200978892629,
          0.08047822983583151,
          0.060721933312939735,
          0.04369328030998268,
          0.02974915876414806,
          0.019348424594677283,
          0.01213418986438259,
          0.007520138676455596,
          0.0043081472417660855,
          0.002268787600693382,
          0.0011471397981033954
         ],
         "yaxis": "y"
        },
        {
         "hovertemplate": "variable=PUEBLA<br>timeline=%{x}<br>value=%{y}<extra></extra>",
         "legendgroup": "PUEBLA",
         "line": {
          "color": "#B6E880",
          "dash": "solid"
         },
         "mode": "lines",
         "name": "PUEBLA",
         "showlegend": true,
         "type": "scattergl",
         "x": [
          0,
          13,
          14,
          15,
          16,
          17,
          18,
          19,
          20,
          21,
          22,
          23,
          24,
          25,
          26,
          27,
          28,
          29,
          30,
          31,
          32,
          33,
          34,
          35,
          36,
          37,
          38,
          39,
          40,
          41,
          42,
          43,
          44
         ],
         "xaxis": "x",
         "y": [
          1,
          0.9988277711667232,
          0.9949647443297877,
          0.9822567181144874,
          0.9555174679857199,
          0.9178640569774259,
          0.8709038594746281,
          0.8153206756300728,
          0.7560964779851875,
          0.6984086105536115,
          0.6406585794717868,
          0.585039873541374,
          0.5267126085643754,
          0.46877608653180103,
          0.41259790774914323,
          0.3585421735964338,
          0.3093440846846527,
          0.26479938902012334,
          0.22186206774061779,
          0.18517663357192335,
          0.15317123421487328,
          0.12484237074401011,
          0.09885796493970132,
          0.07690531588014844,
          0.05791876098964531,
          0.04207591069747617,
          0.029767507948066742,
          0.020034456423281173,
          0.012734667779692024,
          0.007717173152407512,
          0.004475782817967073,
          0.0023888602738752823,
          0.0012876756123119549
         ],
         "yaxis": "y"
        },
        {
         "hovertemplate": "variable=VERACRUZ DE IGNACIO DE LA LLAVE<br>timeline=%{x}<br>value=%{y}<extra></extra>",
         "legendgroup": "VERACRUZ DE IGNACIO DE LA LLAVE",
         "line": {
          "color": "#FF97FF",
          "dash": "solid"
         },
         "mode": "lines",
         "name": "VERACRUZ DE IGNACIO DE LA LLAVE",
         "showlegend": true,
         "type": "scattergl",
         "x": [
          0,
          13,
          14,
          15,
          16,
          17,
          18,
          19,
          20,
          21,
          22,
          23,
          24,
          25,
          26,
          27,
          28,
          29,
          30,
          31,
          32,
          33,
          34,
          35,
          36,
          37,
          38,
          39,
          40,
          41,
          42,
          43,
          44
         ],
         "xaxis": "x",
         "y": [
          1,
          0.9989314043812418,
          0.9941145041305318,
          0.9823599523241949,
          0.9594837861164773,
          0.9262422424068051,
          0.8851341909498162,
          0.834466318688093,
          0.7800748016933126,
          0.7266450207554142,
          0.6731412601208336,
          0.6203608565204884,
          0.5644486457605522,
          0.5075582590111382,
          0.4514980888578357,
          0.39793678845916686,
          0.3446714068472321,
          0.2951872097324399,
          0.2495252969462826,
          0.20957626073733085,
          0.17293165098023097,
          0.13904894989930547,
          0.11110928445193363,
          0.08666310468127075,
          0.06538983190168918,
          0.04719904648390938,
          0.03286342525995641,
          0.02170071102708478,
          0.013858863178660964,
          0.008400805556697215,
          0.004545641362870411,
          0.002433110024248899,
          0.0012001150795281734
         ],
         "yaxis": "y"
        },
        {
         "hovertemplate": "variable=GUERRERO<br>timeline=%{x}<br>value=%{y}<extra></extra>",
         "legendgroup": "GUERRERO",
         "line": {
          "color": "#FECB52",
          "dash": "solid"
         },
         "mode": "lines",
         "name": "GUERRERO",
         "showlegend": true,
         "type": "scattergl",
         "x": [
          0,
          13,
          14,
          15,
          16,
          17,
          18,
          19,
          20,
          21,
          22,
          23,
          24,
          25,
          26,
          27,
          28,
          29,
          30,
          31,
          32,
          33,
          34,
          35,
          36,
          37,
          38,
          39,
          40,
          41,
          42,
          43,
          44
         ],
         "xaxis": "x",
         "y": [
          1,
          0.9985419305428731,
          0.9931662199181126,
          0.980264514418687,
          0.9546672950602368,
          0.9185395740669834,
          0.8758431765295001,
          0.8246192818639716,
          0.7663701434504697,
          0.7112580635659373,
          0.6561901676043475,
          0.5989425314442255,
          0.5405755692362075,
          0.48350466876785764,
          0.4286135084980409,
          0.3742378273292287,
          0.32354413973902,
          0.27768122772393866,
          0.23402751185601942,
          0.1963386255854368,
          0.16166897404930924,
          0.13231612124068465,
          0.1057910395004271,
          0.08355179828566374,
          0.06229933134996615,
          0.04559780847742202,
          0.031768240596188387,
          0.021429202627470622,
          0.013520280420630946,
          0.00855695307667383,
          0.004889687472385045,
          0.0028130430940528435,
          0.00153170932869893
         ],
         "yaxis": "y"
        },
        {
         "hovertemplate": "variable=CHIHUAHUA<br>timeline=%{x}<br>value=%{y}<extra></extra>",
         "legendgroup": "CHIHUAHUA",
         "line": {
          "color": "#636efa",
          "dash": "solid"
         },
         "mode": "lines",
         "name": "CHIHUAHUA",
         "showlegend": true,
         "type": "scattergl",
         "x": [
          0,
          13,
          14,
          15,
          16,
          17,
          18,
          19,
          20,
          21,
          22,
          23,
          24,
          25,
          26,
          27,
          28,
          29,
          30,
          31,
          32,
          33,
          34,
          35,
          36,
          37,
          38,
          39,
          40,
          41,
          42,
          43,
          44
         ],
         "xaxis": "x",
         "y": [
          1,
          0.9979515630001061,
          0.9923183612503991,
          0.9753547423450323,
          0.9472740851381627,
          0.9051957750986873,
          0.8548597034033912,
          0.7917635762295945,
          0.724890643337245,
          0.6606422703510082,
          0.601685692947828,
          0.5453536754507621,
          0.4884455350474767,
          0.43501546996692586,
          0.3822468793342576,
          0.3314627120452362,
          0.28191614211031674,
          0.23830150432092168,
          0.1962658700522778,
          0.16112237277285799,
          0.1300757494932251,
          0.10378747466126104,
          0.08210818307905673,
          0.06064227035100817,
          0.0442974501226928,
          0.031558732529606295,
          0.021892670436359736,
          0.01446708631174649,
          0.009986130374479884,
          0.006187986770511036,
          0.003606102635228846,
          0.0020484369998933086,
          0.0009388669582844336
         ],
         "yaxis": "y"
        },
        {
         "hovertemplate": "variable=GUANAJUATO<br>timeline=%{x}<br>value=%{y}<extra></extra>",
         "legendgroup": "GUANAJUATO",
         "line": {
          "color": "#EF553B",
          "dash": "solid"
         },
         "mode": "lines",
         "name": "GUANAJUATO",
         "showlegend": true,
         "type": "scattergl",
         "x": [
          0,
          13,
          14,
          15,
          16,
          17,
          18,
          19,
          20,
          21,
          22,
          23,
          24,
          25,
          26,
          27,
          28,
          29,
          30,
          31,
          32,
          33,
          34,
          35,
          36,
          37,
          38,
          39,
          40,
          41,
          42,
          43,
          44
         ],
         "xaxis": "x",
         "y": [
          1,
          0.9992464124989383,
          0.9957013670714111,
          0.9844081684639554,
          0.9595610087458604,
          0.9254691347541818,
          0.8830135008915682,
          0.8322577906088138,
          0.7757493419376754,
          0.7208648212617813,
          0.6650462766409101,
          0.6102891228666047,
          0.5529952449690079,
          0.49646556848093754,
          0.4405090430500132,
          0.38580495881803495,
          0.3339454020548529,
          0.28641631994565686,
          0.24268701706716472,
          0.203394327927316,
          0.16814553791288103,
          0.1369194192069287,
          0.10837861934278677,
          0.08306444765220342,
          0.06254776258809543,
          0.045194022246752195,
          0.031480852509127966,
          0.021249044748238095,
          0.013755625371486798,
          0.00857603804024794,
          0.004850556168803604,
          0.002674704933344656,
          0.0013479663751379811
         ],
         "yaxis": "y"
        },
        {
         "hovertemplate": "variable=SONORA<br>timeline=%{x}<br>value=%{y}<extra></extra>",
         "legendgroup": "SONORA",
         "line": {
          "color": "#00cc96",
          "dash": "solid"
         },
         "mode": "lines",
         "name": "SONORA",
         "showlegend": true,
         "type": "scattergl",
         "x": [
          0,
          13,
          14,
          15,
          16,
          17,
          18,
          19,
          20,
          21,
          22,
          23,
          24,
          25,
          26,
          27,
          28,
          29,
          30,
          31,
          32,
          33,
          34,
          35,
          36,
          37,
          38,
          39,
          40,
          41,
          42,
          43,
          44
         ],
         "xaxis": "x",
         "y": [
          1,
          0.999238219610404,
          0.9961910980520183,
          0.9859614756774397,
          0.9644955925563176,
          0.9307323974317114,
          0.8867395799325276,
          0.8310751986070297,
          0.7703232125367286,
          0.710985961475677,
          0.6524104908042216,
          0.5965284579388391,
          0.5416802698879095,
          0.48740341712917573,
          0.4336706932201541,
          0.38137991076286865,
          0.33085754706714554,
          0.2843889433017736,
          0.2387637392534551,
          0.2005114811187288,
          0.16394602241810846,
          0.13162476874523887,
          0.10297638480792254,
          0.08009576667754918,
          0.060479921645445606,
          0.04339427576450101,
          0.029246925671999106,
          0.01877244531505059,
          0.011644357383828482,
          0.007073675046250947,
          0.004244205027750569,
          0.002475786266187831,
          0.0010338448144520615
         ],
         "yaxis": "y"
        },
        {
         "hovertemplate": "variable=QUERÉTARO<br>timeline=%{x}<br>value=%{y}<extra></extra>",
         "legendgroup": "QUERÉTARO",
         "line": {
          "color": "#ab63fa",
          "dash": "solid"
         },
         "mode": "lines",
         "name": "QUERÉTARO",
         "showlegend": true,
         "type": "scattergl",
         "x": [
          0,
          13,
          14,
          15,
          16,
          17,
          18,
          19,
          20,
          21,
          22,
          23,
          24,
          25,
          26,
          27,
          28,
          29,
          30,
          31,
          32,
          33,
          34,
          35,
          36,
          37,
          38,
          39,
          40,
          41,
          42,
          43,
          44
         ],
         "xaxis": "x",
         "y": [
          1,
          0.9992518969755266,
          0.9965801004595476,
          0.987674112072957,
          0.9682590573901877,
          0.9350219087314303,
          0.8935556268034626,
          0.840084072530369,
          0.78333511453101,
          0.7295073207224537,
          0.6746108083075059,
          0.6204980228705782,
          0.5657796302233618,
          0.510313134551672,
          0.4528873214349328,
          0.39364468668732866,
          0.34209682590573903,
          0.29179580349827205,
          0.24740835737950193,
          0.20857824801396446,
          0.17142246446510617,
          0.13875529906308995,
          0.11007801645826654,
          0.0854618645577286,
          0.06383812475508528,
          0.046987994727654844,
          0.031883438423996276,
          0.02066189305689144,
          0.01275337536959851,
          0.007445406291190191,
          0.003989882797192828,
          0.0022086851198746026,
          0.0009262227922054781
         ],
         "yaxis": "y"
        },
        {
         "hovertemplate": "variable=CAMPECHE<br>timeline=%{x}<br>value=%{y}<extra></extra>",
         "legendgroup": "CAMPECHE",
         "line": {
          "color": "#FFA15A",
          "dash": "solid"
         },
         "mode": "lines",
         "name": "CAMPECHE",
         "showlegend": true,
         "type": "scattergl",
         "x": [
          0,
          13,
          14,
          15,
          16,
          17,
          18,
          19,
          20,
          21,
          22,
          23,
          24,
          25,
          26,
          27,
          28,
          29,
          30,
          31,
          32,
          33,
          34,
          35,
          36,
          37,
          38,
          39,
          40,
          41,
          42,
          43,
          44
         ],
         "xaxis": "x",
         "y": [
          1,
          0.9981292384441505,
          0.9924390053784397,
          0.9791877776911689,
          0.9564268454283273,
          0.9245459505807164,
          0.8874425130563575,
          0.8349832410943961,
          0.7748850261127145,
          0.719853457011459,
          0.6626393327617128,
          0.6023852209837093,
          0.5433003351781124,
          0.48873645646582026,
          0.433860784160886,
          0.376256917920337,
          0.32395354275469646,
          0.27796398784005033,
          0.23275391690700756,
          0.1923766466599114,
          0.15652038350611908,
          0.1267440954088394,
          0.09751344609868279,
          0.07319354587263238,
          0.05456387871229249,
          0.03819471509860474,
          0.027126042559825425,
          0.016758905604489838,
          0.010211240159014737,
          0.00631382025099385,
          0.0035856263153792225,
          0.0025722971392937886,
          0.0012471743705666852
         ],
         "yaxis": "y"
        },
        {
         "hovertemplate": "variable=SAN LUIS POTOSÍ<br>timeline=%{x}<br>value=%{y}<extra></extra>",
         "legendgroup": "SAN LUIS POTOSÍ",
         "line": {
          "color": "#19d3f3",
          "dash": "solid"
         },
         "mode": "lines",
         "name": "SAN LUIS POTOSÍ",
         "showlegend": true,
         "type": "scattergl",
         "x": [
          0,
          13,
          14,
          15,
          16,
          17,
          18,
          19,
          20,
          21,
          22,
          23,
          24,
          25,
          26,
          27,
          28,
          29,
          30,
          31,
          32,
          33,
          34,
          35,
          36,
          37,
          38,
          39,
          40,
          41,
          42,
          43,
          44
         ],
         "xaxis": "x",
         "y": [
          1,
          0.999254347957518,
          0.996473267366639,
          0.9869813183934212,
          0.9680780314786077,
          0.9371032425787463,
          0.900405070433888,
          0.8514943269986498,
          0.7974647830555605,
          0.7461961669454461,
          0.6952298422039054,
          0.6447068781362724,
          0.5921283327623377,
          0.5342093065435998,
          0.47802341750468513,
          0.42167630640253123,
          0.36607484734285867,
          0.3164789101388525,
          0.2691602345781018,
          0.22627516575643372,
          0.18810584228451657,
          0.15231454424537985,
          0.1232744201043913,
          0.09580621107998627,
          0.07168335986779786,
          0.05191350436307203,
          0.03569053424961204,
          0.024102698454283446,
          0.015074262912879624,
          0.008967977267689076,
          0.004917272928800304,
          0.002599705769734586,
          0.001370387537534511
         ],
         "yaxis": "y"
        },
        {
         "hovertemplate": "variable=CIUDAD DE MÉXICO<br>timeline=%{x}<br>value=%{y}<extra></extra>",
         "legendgroup": "CIUDAD DE MÉXICO",
         "line": {
          "color": "#FF6692",
          "dash": "solid"
         },
         "mode": "lines",
         "name": "CIUDAD DE MÉXICO",
         "showlegend": true,
         "type": "scattergl",
         "x": [
          0,
          13,
          14,
          15,
          16,
          17,
          18,
          19,
          20,
          21,
          22,
          23,
          24,
          25,
          26,
          27,
          28,
          29,
          30,
          31,
          32,
          33,
          34,
          35,
          36,
          37,
          38,
          39,
          40,
          41,
          42,
          43,
          44
         ],
         "xaxis": "x",
         "y": [
          1,
          0.9994110005728611,
          0.9974907010706864,
          0.9902855436948812,
          0.97312387545486,
          0.9473692703668737,
          0.913634933313968,
          0.8719127958108419,
          0.8266485932595871,
          0.7806178846045226,
          0.7341030668312637,
          0.6884193030442392,
          0.6408959246080723,
          0.5897901386972616,
          0.5395880231404155,
          0.491378823453473,
          0.4424757340304498,
          0.39490394468246454,
          0.34804218204116527,
          0.303536417108416,
          0.25934532310249386,
          0.2187043626300033,
          0.17958027739452462,
          0.14155350616028844,
          0.10777075819556395,
          0.0798618675316082,
          0.056398712269745514,
          0.03807518214605566,
          0.02464115411613774,
          0.015273642679059845,
          0.009496607201929972,
          0.0054300906090899515,
          0.0032435310919081135
         ],
         "yaxis": "y"
        },
        {
         "hovertemplate": "variable=SINALOA<br>timeline=%{x}<br>value=%{y}<extra></extra>",
         "legendgroup": "SINALOA",
         "line": {
          "color": "#B6E880",
          "dash": "solid"
         },
         "mode": "lines",
         "name": "SINALOA",
         "showlegend": true,
         "type": "scattergl",
         "x": [
          0,
          13,
          14,
          15,
          16,
          17,
          18,
          19,
          20,
          21,
          22,
          23,
          24,
          25,
          26,
          27,
          28,
          29,
          30,
          31,
          32,
          33,
          34,
          35,
          36,
          37,
          38,
          39,
          40,
          41,
          42,
          43,
          44
         ],
         "xaxis": "x",
         "y": [
          1,
          0.9991997923785635,
          0.9964315065530511,
          0.9866343699987021,
          0.967299623686146,
          0.9379082140230974,
          0.902028634456508,
          0.8566330723647213,
          0.805398157359747,
          0.7562827111899306,
          0.7057182404083222,
          0.6529910463255335,
          0.5967818677278429,
          0.5399671266058222,
          0.48053549028937265,
          0.42532116441022544,
          0.3706907738223973,
          0.3181798520697264,
          0.26884813356979087,
          0.22516112288593781,
          0.18510748734806862,
          0.14801678273281715,
          0.11577057831221071,
          0.08793632942601326,
          0.06514122583156705,
          0.04721224966477787,
          0.03241922228470089,
          0.021843505341926542,
          0.0137981746615338,
          0.008607638738699769,
          0.005298672087893076,
          0.0029629309226177603,
          0.0016652969419092523
         ],
         "yaxis": "y"
        },
        {
         "hovertemplate": "variable=COLIMA<br>timeline=%{x}<br>value=%{y}<extra></extra>",
         "legendgroup": "COLIMA",
         "line": {
          "color": "#FF97FF",
          "dash": "solid"
         },
         "mode": "lines",
         "name": "COLIMA",
         "showlegend": true,
         "type": "scattergl",
         "x": [
          0,
          13,
          14,
          15,
          16,
          17,
          18,
          19,
          20,
          21,
          22,
          23,
          24,
          25,
          26,
          27,
          28,
          29,
          30,
          31,
          32,
          33,
          34,
          35,
          36,
          37,
          38,
          39,
          40,
          41,
          42,
          43,
          44
         ],
         "xaxis": "x",
         "y": [
          1,
          0.9987916868052203,
          0.9939584340260991,
          0.9829627839536001,
          0.9597631706138231,
          0.9259304011599799,
          0.8813436442725949,
          0.8313194780086993,
          0.7763412276462057,
          0.7197921701304976,
          0.6672305461575639,
          0.6152730787820206,
          0.5588448525857908,
          0.5019333011116481,
          0.4445384243595939,
          0.3947559207346546,
          0.33361527307878197,
          0.28612856452392466,
          0.23827936201063316,
          0.1998550024166264,
          0.1616723054615756,
          0.12904784920251333,
          0.09968583856935717,
          0.0775737071048816,
          0.05703238279362009,
          0.04072015466408893,
          0.02803286611889802,
          0.019091348477525378,
          0.010270662155630743,
          0.006524891251812472,
          0.003383276945384245,
          0.0014499758337361054,
          0.0006041565973900437
         ],
         "yaxis": "y"
        },
        {
         "hovertemplate": "variable=DURANGO<br>timeline=%{x}<br>value=%{y}<extra></extra>",
         "legendgroup": "DURANGO",
         "line": {
          "color": "#FECB52",
          "dash": "solid"
         },
         "mode": "lines",
         "name": "DURANGO",
         "showlegend": true,
         "type": "scattergl",
         "x": [
          0,
          13,
          14,
          15,
          16,
          17,
          18,
          19,
          20,
          21,
          22,
          23,
          24,
          25,
          26,
          27,
          28,
          29,
          30,
          31,
          32,
          33,
          34,
          35,
          36,
          37,
          38,
          39,
          40,
          41,
          42,
          43,
          44
         ],
         "xaxis": "x",
         "y": [
          1,
          0.9988049481605878,
          0.9948968056587314,
          0.9832692742482478,
          0.956332159813959,
          0.9191240593004091,
          0.8744872581634947,
          0.8197732631374949,
          0.7596330867866025,
          0.7034979490326541,
          0.6474274086754299,
          0.5919705435870929,
          0.5347695487871832,
          0.47963567068247137,
          0.42553535092535755,
          0.37343755046671573,
          0.3230515810212848,
          0.27573398792028675,
          0.23206614773424616,
          0.19082070992538977,
          0.15632570007428684,
          0.12467297567907996,
          0.09960918574981428,
          0.07858273311585534,
          0.058396046639320374,
          0.04302186621879136,
          0.029747101191821945,
          0.020445076063434618,
          0.013177868931882032,
          0.008010077193889083,
          0.004941700849455762,
          0.0028745841542585806,
          0.0016472336164852549
         ],
         "yaxis": "y"
        },
        {
         "hovertemplate": "variable=MORELOS<br>timeline=%{x}<br>value=%{y}<extra></extra>",
         "legendgroup": "MORELOS",
         "line": {
          "color": "#636efa",
          "dash": "solid"
         },
         "mode": "lines",
         "name": "MORELOS",
         "showlegend": true,
         "type": "scattergl",
         "x": [
          0,
          13,
          14,
          15,
          16,
          17,
          18,
          19,
          20,
          21,
          22,
          23,
          24,
          25,
          26,
          27,
          28,
          29,
          30,
          31,
          32,
          33,
          34,
          35,
          36,
          37,
          38,
          39,
          40,
          41,
          42,
          43,
          44
         ],
         "xaxis": "x",
         "y": [
          1,
          0.9990896085316698,
          0.9941474834178708,
          0.9809684831144069,
          0.9561278016213639,
          0.9210994060779475,
          0.8757098885854254,
          0.8224736636753801,
          0.7640785537781247,
          0.7065071313998359,
          0.6476785017557556,
          0.5925347899596826,
          0.534963367581394,
          0.4746607707981103,
          0.41466163783760374,
          0.3596479819655789,
          0.30905622751116324,
          0.263796765942689,
          0.22035808731087725,
          0.18346555685611493,
          0.15129839164173925,
          0.12086530541466176,
          0.09511423245328829,
          0.0710105345298479,
          0.05397320847964627,
          0.03884336931547234,
          0.027528503923353726,
          0.01729743789829628,
          0.011531625265530851,
          0.006416092253002125,
          0.0039016777214202127,
          0.0021675987341223412,
          0.001213855291108511
         ],
         "yaxis": "y"
        },
        {
         "hovertemplate": "variable=TLAXCALA<br>timeline=%{x}<br>value=%{y}<extra></extra>",
         "legendgroup": "TLAXCALA",
         "line": {
          "color": "#EF553B",
          "dash": "solid"
         },
         "mode": "lines",
         "name": "TLAXCALA",
         "showlegend": true,
         "type": "scattergl",
         "x": [
          0,
          13,
          14,
          15,
          16,
          17,
          18,
          19,
          20,
          21,
          22,
          23,
          24,
          25,
          26,
          27,
          28,
          29,
          30,
          31,
          32,
          33,
          34,
          35,
          36,
          37,
          38,
          39,
          40,
          41,
          42,
          43,
          44
         ],
         "xaxis": "x",
         "y": [
          1,
          0.9995242877530521,
          0.9954543051958342,
          0.9836672128548016,
          0.9591416036788422,
          0.9205031978434379,
          0.8719276917384639,
          0.8150536497700726,
          0.7560124742322529,
          0.7011998520006342,
          0.6445900946138803,
          0.5885617633067287,
          0.5294148739362543,
          0.4695808446535227,
          0.41233680427083874,
          0.3577884666208574,
          0.31064009725672626,
          0.26354458480892223,
          0.22120619483059367,
          0.1819335059992599,
          0.15196363444156677,
          0.12320947195940593,
          0.09672815687932765,
          0.07510967810137957,
          0.057085469633701605,
          0.04006554257624611,
          0.028807019398488294,
          0.01929277445953803,
          0.012051376922670337,
          0.0072942544531952045,
          0.004017125640890111,
          0.0022199904857550606,
          0.0010042814102225275
         ],
         "yaxis": "y"
        },
        {
         "hovertemplate": "variable=TAMAULIPAS<br>timeline=%{x}<br>value=%{y}<extra></extra>",
         "legendgroup": "TAMAULIPAS",
         "line": {
          "color": "#00cc96",
          "dash": "solid"
         },
         "mode": "lines",
         "name": "TAMAULIPAS",
         "showlegend": true,
         "type": "scattergl",
         "x": [
          0,
          13,
          14,
          15,
          16,
          17,
          18,
          19,
          20,
          21,
          22,
          23,
          24,
          25,
          26,
          27,
          28,
          29,
          30,
          31,
          32,
          33,
          34,
          35,
          36,
          37,
          38,
          39,
          40,
          41,
          42,
          43,
          44
         ],
         "xaxis": "x",
         "y": [
          1,
          0.9990659401756923,
          0.995285221839208,
          0.9836094740353604,
          0.9613254753697325,
          0.9296119203825199,
          0.8837985099521846,
          0.8264872678750131,
          0.7651284332258418,
          0.7065272990103414,
          0.6480596019125981,
          0.5903258089625267,
          0.5326142555320803,
          0.47499166018014033,
          0.41694651395529825,
          0.36245969087067725,
          0.31235405315245196,
          0.26502835538752334,
          0.2209941065272988,
          0.182742132769932,
          0.14829311686867552,
          0.11806960969643043,
          0.09371733570554873,
          0.07185588791282103,
          0.054464583564994985,
          0.0389413988657845,
          0.027376848660068946,
          0.017569220504837096,
          0.0108751250972979,
          0.006249305015011673,
          0.003513844100967419,
          0.0020015567663738457,
          0.001045257422439675
         ],
         "yaxis": "y"
        },
        {
         "hovertemplate": "variable=YUCATÁN<br>timeline=%{x}<br>value=%{y}<extra></extra>",
         "legendgroup": "YUCATÁN",
         "line": {
          "color": "#ab63fa",
          "dash": "solid"
         },
         "mode": "lines",
         "name": "YUCATÁN",
         "showlegend": true,
         "type": "scattergl",
         "x": [
          0,
          13,
          14,
          15,
          16,
          17,
          18,
          19,
          20,
          21,
          22,
          23,
          24,
          25,
          26,
          27,
          28,
          29,
          30,
          31,
          32,
          33,
          34,
          35,
          36,
          37,
          38,
          39,
          40,
          41,
          42,
          43,
          44
         ],
         "xaxis": "x",
         "y": [
          1,
          0.9989450399863881,
          0.9956440360728265,
          0.9842436617321764,
          0.9622256253190403,
          0.9305427939424871,
          0.8935851624978735,
          0.8470648289943847,
          0.7908116385911179,
          0.7377573591968699,
          0.6827973455844818,
          0.6260677216266806,
          0.5711077080142926,
          0.5146503318019396,
          0.4582269865577676,
          0.40347115875446626,
          0.35399013101922766,
          0.30604049685213525,
          0.2616641143440531,
          0.21956780670410067,
          0.1821337417049515,
          0.14936191934660537,
          0.12063978220180367,
          0.09120299472519995,
          0.06795984345754638,
          0.0503318019397652,
          0.03416709205376893,
          0.02191594350859283,
          0.013748511145142087,
          0.008507742045261186,
          0.004594180704441043,
          0.0024502297090352224,
          0.0010549600136123874
         ],
         "yaxis": "y"
        },
        {
         "hovertemplate": "variable=COAHUILA DE ZARAGOZA<br>timeline=%{x}<br>value=%{y}<extra></extra>",
         "legendgroup": "COAHUILA DE ZARAGOZA",
         "line": {
          "color": "#FFA15A",
          "dash": "solid"
         },
         "mode": "lines",
         "name": "COAHUILA DE ZARAGOZA",
         "showlegend": true,
         "type": "scattergl",
         "x": [
          0,
          13,
          14,
          15,
          16,
          17,
          18,
          19,
          20,
          21,
          22,
          23,
          24,
          25,
          26,
          27,
          28,
          29,
          30,
          31,
          32,
          33,
          34,
          35,
          36,
          37,
          38,
          39,
          40,
          41,
          42,
          43,
          44
         ],
         "xaxis": "x",
         "y": [
          1,
          0.9992112892223737,
          0.9949053547066845,
          0.9833518076398357,
          0.9587099249658931,
          0.9224079126875858,
          0.8751278990450198,
          0.8161451227830832,
          0.7566507503410643,
          0.6984353683492491,
          0.6391115279672579,
          0.585372612551159,
          0.5286280695770806,
          0.4683236698499315,
          0.4133910300136427,
          0.35988659618008173,
          0.3122015688949521,
          0.2646657571623466,
          0.22256565484311036,
          0.185005968622101,
          0.14925818553888118,
          0.11851978171896303,
          0.09336630286493862,
          0.07117581855388808,
          0.052950204638472026,
          0.03773021828103682,
          0.026134038199181444,
          0.017650068212824003,
          0.010615620736698495,
          0.0067360163710777615,
          0.004092769440654842,
          0.0022595497953615267,
          0.001172407912687585
         ],
         "yaxis": "y"
        },
        {
         "hovertemplate": "variable=BAJA CALIFORNIA SUR<br>timeline=%{x}<br>value=%{y}<extra></extra>",
         "legendgroup": "BAJA CALIFORNIA SUR",
         "line": {
          "color": "#19d3f3",
          "dash": "solid"
         },
         "mode": "lines",
         "name": "BAJA CALIFORNIA SUR",
         "showlegend": true,
         "type": "scattergl",
         "x": [
          0,
          13,
          14,
          15,
          16,
          17,
          18,
          19,
          20,
          21,
          22,
          23,
          24,
          25,
          26,
          27,
          28,
          29,
          30,
          31,
          32,
          33,
          34,
          35,
          36,
          37,
          38,
          39,
          40,
          41,
          42,
          43,
          44
         ],
         "xaxis": "x",
         "y": [
          1,
          0.9990495802312689,
          0.9949310945667666,
          0.9862189133533982,
          0.9630920323142719,
          0.928243307460796,
          0.8797718992555047,
          0.8257563757326151,
          0.7652463171233957,
          0.7025186123871383,
          0.6432757801362273,
          0.5854585775384129,
          0.5293838111832726,
          0.4660224932678599,
          0.4107397433866625,
          0.358466656106447,
          0.3106288610803105,
          0.2608902265167116,
          0.21938856328211634,
          0.18232219230159993,
          0.1477902740377,
          0.11801045461745609,
          0.09124029779819424,
          0.07143988594962779,
          0.051956280690638394,
          0.03437351496911137,
          0.023602090923491213,
          0.014573103120544911,
          0.010296214161254553,
          0.006177728496752732,
          0.0031680658957706307,
          0.0014256296530967842,
          0.00031680658957706327
         ],
         "yaxis": "y"
        },
        {
         "hovertemplate": "variable=QUINTANA ROO<br>timeline=%{x}<br>value=%{y}<extra></extra>",
         "legendgroup": "QUINTANA ROO",
         "line": {
          "color": "#FF6692",
          "dash": "solid"
         },
         "mode": "lines",
         "name": "QUINTANA ROO",
         "showlegend": true,
         "type": "scattergl",
         "x": [
          0,
          13,
          14,
          15,
          16,
          17,
          18,
          19,
          20,
          21,
          22,
          23,
          24,
          25,
          26,
          27,
          28,
          29,
          30,
          31,
          32,
          33,
          34,
          35,
          36,
          37,
          38,
          39,
          40,
          41,
          42,
          43,
          44
         ],
         "xaxis": "x",
         "y": [
          1,
          0.9988668555240808,
          0.9928773775799281,
          0.9804937272359375,
          0.9545932820720361,
          0.9159044921084595,
          0.8638607851072441,
          0.7976527721570215,
          0.7222177256171592,
          0.6543099959530563,
          0.5923108053419678,
          0.5306353702954271,
          0.47074059085390574,
          0.41286928369081405,
          0.35629299878591697,
          0.3045730473492515,
          0.2536624848239579,
          0.21205989477944168,
          0.17531363820315676,
          0.142452448401457,
          0.11647106434641855,
          0.09105625252934044,
          0.0704977741804938,
          0.051800890327802544,
          0.037231889923108094,
          0.025576689599352515,
          0.01699716713881021,
          0.01157426143261838,
          0.007770133549170382,
          0.004937272359368681,
          0.0025900445163901287,
          0.0014569000404694478,
          0.0010522055847834908
         ],
         "yaxis": "y"
        },
        {
         "hovertemplate": "variable=ZACATECAS<br>timeline=%{x}<br>value=%{y}<extra></extra>",
         "legendgroup": "ZACATECAS",
         "line": {
          "color": "#B6E880",
          "dash": "solid"
         },
         "mode": "lines",
         "name": "ZACATECAS",
         "showlegend": true,
         "type": "scattergl",
         "x": [
          0,
          13,
          14,
          15,
          16,
          17,
          18,
          19,
          20,
          21,
          22,
          23,
          24,
          25,
          26,
          27,
          28,
          29,
          30,
          31,
          32,
          33,
          34,
          35,
          36,
          37,
          38,
          39,
          40,
          41,
          42,
          43,
          44
         ],
         "xaxis": "x",
         "y": [
          1,
          0.9994562064965211,
          0.9961934454756382,
          0.985643851508122,
          0.9622244779582368,
          0.9278567285382844,
          0.8850420533642692,
          0.8347230278422275,
          0.78088747099768,
          0.7277407192575409,
          0.6730713457076573,
          0.6213022041763341,
          0.5671041183294673,
          0.5126160092807431,
          0.4582366589327152,
          0.40726508120649696,
          0.3579973897911837,
          0.31007105568445503,
          0.26435614849187955,
          0.2224840487238982,
          0.18271461716937376,
          0.14820185614849202,
          0.11687935034802802,
          0.09135730858468687,
          0.0696055684454757,
          0.0524579466357309,
          0.03741299303944318,
          0.026319605568445488,
          0.01660382830626452,
          0.00938950116009281,
          0.004966647331786547,
          0.002718967517401393,
          0.0016313805104408363
         ],
         "yaxis": "y"
        },
        {
         "hovertemplate": "variable=NAYARIT<br>timeline=%{x}<br>value=%{y}<extra></extra>",
         "legendgroup": "NAYARIT",
         "line": {
          "color": "#FF97FF",
          "dash": "solid"
         },
         "mode": "lines",
         "name": "NAYARIT",
         "showlegend": true,
         "type": "scattergl",
         "x": [
          0,
          13,
          14,
          15,
          16,
          17,
          18,
          19,
          20,
          21,
          22,
          23,
          24,
          25,
          26,
          27,
          28,
          29,
          30,
          31,
          32,
          33,
          34,
          35,
          36,
          37,
          38,
          39,
          40,
          41,
          42,
          43,
          44
         ],
         "xaxis": "x",
         "y": [
          1,
          0.9987953258643537,
          0.9943982652692446,
          0.9836766654619935,
          0.9613901939525358,
          0.928382122635828,
          0.8863389953017723,
          0.8358029153114087,
          0.780387905071679,
          0.7272015419828946,
          0.6771473316467902,
          0.6244428382122643,
          0.5724611492591262,
          0.5144560896277561,
          0.4555475243946516,
          0.4014576557041322,
          0.3499578364052526,
          0.30104806649801275,
          0.2569569931333574,
          0.2141308276111315,
          0.17612335863149028,
          0.14371762438260458,
          0.11257679797614757,
          0.08733887483435737,
          0.06613661004698233,
          0.04776532947837612,
          0.03336947355740275,
          0.021925069268762813,
          0.014395855920973392,
          0.009035056017347312,
          0.005240332490061442,
          0.0030116853391157724,
          0.0022286471509456716
         ],
         "yaxis": "y"
        },
        {
         "hovertemplate": "variable=BAJA CALIFORNIA<br>timeline=%{x}<br>value=%{y}<extra></extra>",
         "legendgroup": "BAJA CALIFORNIA",
         "line": {
          "color": "#FECB52",
          "dash": "solid"
         },
         "mode": "lines",
         "name": "BAJA CALIFORNIA",
         "showlegend": true,
         "type": "scattergl",
         "x": [
          0,
          13,
          14,
          15,
          16,
          17,
          18,
          19,
          20,
          21,
          22,
          23,
          24,
          25,
          26,
          27,
          28,
          29,
          30,
          31,
          32,
          33,
          34,
          35,
          36,
          37,
          38,
          39,
          40,
          41,
          42,
          43,
          44
         ],
         "xaxis": "x",
         "y": [
          1,
          0.9990753911806532,
          0.9955903271692736,
          0.9844594594594586,
          0.9615931721194879,
          0.9268847795163584,
          0.8785917496443815,
          0.8128022759601696,
          0.7400426742532,
          0.669416785206258,
          0.6021692745376956,
          0.5375533428165004,
          0.4746799431009955,
          0.4158961593172118,
          0.36041963015647205,
          0.3111664295874823,
          0.26109530583214774,
          0.21646514935988595,
          0.17809388335704102,
          0.14395448079658604,
          0.11593172119487906,
          0.09260312944523463,
          0.07176386913229012,
          0.05565433854907535,
          0.04214082503556184,
          0.029729729729729718,
          0.02016358463726883,
          0.013122332859174956,
          0.007894736842105258,
          0.005227596017069697,
          0.0034850640113798003,
          0.0016714082503556176,
          0.0008890469416785204
         ],
         "yaxis": "y"
        },
        {
         "hovertemplate": "variable=NUEVO LEÓN<br>timeline=%{x}<br>value=%{y}<extra></extra>",
         "legendgroup": "NUEVO LEÓN",
         "line": {
          "color": "#636efa",
          "dash": "solid"
         },
         "mode": "lines",
         "name": "NUEVO LEÓN",
         "showlegend": true,
         "type": "scattergl",
         "x": [
          0,
          13,
          14,
          15,
          16,
          17,
          18,
          19,
          20,
          21,
          22,
          23,
          24,
          25,
          26,
          27,
          28,
          29,
          30,
          31,
          32,
          33,
          34,
          35,
          36,
          37,
          38,
          39,
          40,
          41,
          42,
          43,
          44
         ],
         "xaxis": "x",
         "y": [
          1,
          0.9992460128833454,
          0.9960497631496991,
          0.9870838728712151,
          0.9676769001294887,
          0.935730793817306,
          0.8923765346096474,
          0.8396466095166276,
          0.7817371207526754,
          0.7240898883771244,
          0.6689013096428396,
          0.6179580061958063,
          0.5658673310495174,
          0.5133996623448999,
          0.4592437181399467,
          0.4064974020226521,
          0.35427559868216146,
          0.30577455785212004,
          0.258388106672786,
          0.21608287301873486,
          0.1776950941664345,
          0.14571620580570063,
          0.11562228523660446,
          0.08892130669245513,
          0.06659673162975949,
          0.04794374600468783,
          0.03206084348210917,
          0.02093133799931157,
          0.013129210444360667,
          0.007966037797701973,
          0.004573095772754836,
          0.0024914356898162555,
          0.0011965447720828067
         ],
         "yaxis": "y"
        },
        {
         "hovertemplate": "variable=AGUASCALIENTES<br>timeline=%{x}<br>value=%{y}<extra></extra>",
         "legendgroup": "AGUASCALIENTES",
         "line": {
          "color": "#EF553B",
          "dash": "solid"
         },
         "mode": "lines",
         "name": "AGUASCALIENTES",
         "showlegend": true,
         "type": "scattergl",
         "x": [
          0,
          13,
          14,
          15,
          16,
          17,
          18,
          19,
          20,
          21,
          22,
          23,
          24,
          25,
          26,
          27,
          28,
          29,
          30,
          31,
          32,
          33,
          34,
          35,
          36,
          37,
          38,
          39,
          40,
          41,
          42,
          43,
          44
         ],
         "xaxis": "x",
         "y": [
          1,
          0.9988605964529879,
          0.9953433072426449,
          0.981918161101755,
          0.9558109580897652,
          0.9162786089368883,
          0.8658476171604083,
          0.8089269790944222,
          0.7470524125631629,
          0.6866144852868332,
          0.627563657980779,
          0.5729713662934715,
          0.5173387496284557,
          0.4617061329634404,
          0.40518180917467556,
          0.35465173882889156,
          0.30402258991380204,
          0.2557217873773906,
          0.21643713464777595,
          0.17878727831170146,
          0.14792430397305062,
          0.11904290102050934,
          0.09382740513226998,
          0.07138610918458341,
          0.053304270286337115,
          0.03849202417517094,
          0.026998910135737658,
          0.019072624591300925,
          0.011394035470127822,
          0.007629049836520369,
          0.003963142772218371,
          0.002229267809372834,
          0.0009907856930545926
         ],
         "yaxis": "y"
        }
       ],
       "layout": {
        "legend": {
         "title": {
          "text": "variable"
         },
         "tracegroupgap": 0
        },
        "template": {
         "data": {
          "bar": [
           {
            "error_x": {
             "color": "#2a3f5f"
            },
            "error_y": {
             "color": "#2a3f5f"
            },
            "marker": {
             "line": {
              "color": "#E5ECF6",
              "width": 0.5
             }
            },
            "type": "bar"
           }
          ],
          "barpolar": [
           {
            "marker": {
             "line": {
              "color": "#E5ECF6",
              "width": 0.5
             }
            },
            "type": "barpolar"
           }
          ],
          "carpet": [
           {
            "aaxis": {
             "endlinecolor": "#2a3f5f",
             "gridcolor": "white",
             "linecolor": "white",
             "minorgridcolor": "white",
             "startlinecolor": "#2a3f5f"
            },
            "baxis": {
             "endlinecolor": "#2a3f5f",
             "gridcolor": "white",
             "linecolor": "white",
             "minorgridcolor": "white",
             "startlinecolor": "#2a3f5f"
            },
            "type": "carpet"
           }
          ],
          "choropleth": [
           {
            "colorbar": {
             "outlinewidth": 0,
             "ticks": ""
            },
            "type": "choropleth"
           }
          ],
          "contour": [
           {
            "colorbar": {
             "outlinewidth": 0,
             "ticks": ""
            },
            "colorscale": [
             [
              0,
              "#0d0887"
             ],
             [
              0.1111111111111111,
              "#46039f"
             ],
             [
              0.2222222222222222,
              "#7201a8"
             ],
             [
              0.3333333333333333,
              "#9c179e"
             ],
             [
              0.4444444444444444,
              "#bd3786"
             ],
             [
              0.5555555555555556,
              "#d8576b"
             ],
             [
              0.6666666666666666,
              "#ed7953"
             ],
             [
              0.7777777777777778,
              "#fb9f3a"
             ],
             [
              0.8888888888888888,
              "#fdca26"
             ],
             [
              1,
              "#f0f921"
             ]
            ],
            "type": "contour"
           }
          ],
          "contourcarpet": [
           {
            "colorbar": {
             "outlinewidth": 0,
             "ticks": ""
            },
            "type": "contourcarpet"
           }
          ],
          "heatmap": [
           {
            "colorbar": {
             "outlinewidth": 0,
             "ticks": ""
            },
            "colorscale": [
             [
              0,
              "#0d0887"
             ],
             [
              0.1111111111111111,
              "#46039f"
             ],
             [
              0.2222222222222222,
              "#7201a8"
             ],
             [
              0.3333333333333333,
              "#9c179e"
             ],
             [
              0.4444444444444444,
              "#bd3786"
             ],
             [
              0.5555555555555556,
              "#d8576b"
             ],
             [
              0.6666666666666666,
              "#ed7953"
             ],
             [
              0.7777777777777778,
              "#fb9f3a"
             ],
             [
              0.8888888888888888,
              "#fdca26"
             ],
             [
              1,
              "#f0f921"
             ]
            ],
            "type": "heatmap"
           }
          ],
          "heatmapgl": [
           {
            "colorbar": {
             "outlinewidth": 0,
             "ticks": ""
            },
            "colorscale": [
             [
              0,
              "#0d0887"
             ],
             [
              0.1111111111111111,
              "#46039f"
             ],
             [
              0.2222222222222222,
              "#7201a8"
             ],
             [
              0.3333333333333333,
              "#9c179e"
             ],
             [
              0.4444444444444444,
              "#bd3786"
             ],
             [
              0.5555555555555556,
              "#d8576b"
             ],
             [
              0.6666666666666666,
              "#ed7953"
             ],
             [
              0.7777777777777778,
              "#fb9f3a"
             ],
             [
              0.8888888888888888,
              "#fdca26"
             ],
             [
              1,
              "#f0f921"
             ]
            ],
            "type": "heatmapgl"
           }
          ],
          "histogram": [
           {
            "marker": {
             "colorbar": {
              "outlinewidth": 0,
              "ticks": ""
             }
            },
            "type": "histogram"
           }
          ],
          "histogram2d": [
           {
            "colorbar": {
             "outlinewidth": 0,
             "ticks": ""
            },
            "colorscale": [
             [
              0,
              "#0d0887"
             ],
             [
              0.1111111111111111,
              "#46039f"
             ],
             [
              0.2222222222222222,
              "#7201a8"
             ],
             [
              0.3333333333333333,
              "#9c179e"
             ],
             [
              0.4444444444444444,
              "#bd3786"
             ],
             [
              0.5555555555555556,
              "#d8576b"
             ],
             [
              0.6666666666666666,
              "#ed7953"
             ],
             [
              0.7777777777777778,
              "#fb9f3a"
             ],
             [
              0.8888888888888888,
              "#fdca26"
             ],
             [
              1,
              "#f0f921"
             ]
            ],
            "type": "histogram2d"
           }
          ],
          "histogram2dcontour": [
           {
            "colorbar": {
             "outlinewidth": 0,
             "ticks": ""
            },
            "colorscale": [
             [
              0,
              "#0d0887"
             ],
             [
              0.1111111111111111,
              "#46039f"
             ],
             [
              0.2222222222222222,
              "#7201a8"
             ],
             [
              0.3333333333333333,
              "#9c179e"
             ],
             [
              0.4444444444444444,
              "#bd3786"
             ],
             [
              0.5555555555555556,
              "#d8576b"
             ],
             [
              0.6666666666666666,
              "#ed7953"
             ],
             [
              0.7777777777777778,
              "#fb9f3a"
             ],
             [
              0.8888888888888888,
              "#fdca26"
             ],
             [
              1,
              "#f0f921"
             ]
            ],
            "type": "histogram2dcontour"
           }
          ],
          "mesh3d": [
           {
            "colorbar": {
             "outlinewidth": 0,
             "ticks": ""
            },
            "type": "mesh3d"
           }
          ],
          "parcoords": [
           {
            "line": {
             "colorbar": {
              "outlinewidth": 0,
              "ticks": ""
             }
            },
            "type": "parcoords"
           }
          ],
          "pie": [
           {
            "automargin": true,
            "type": "pie"
           }
          ],
          "scatter": [
           {
            "marker": {
             "colorbar": {
              "outlinewidth": 0,
              "ticks": ""
             }
            },
            "type": "scatter"
           }
          ],
          "scatter3d": [
           {
            "line": {
             "colorbar": {
              "outlinewidth": 0,
              "ticks": ""
             }
            },
            "marker": {
             "colorbar": {
              "outlinewidth": 0,
              "ticks": ""
             }
            },
            "type": "scatter3d"
           }
          ],
          "scattercarpet": [
           {
            "marker": {
             "colorbar": {
              "outlinewidth": 0,
              "ticks": ""
             }
            },
            "type": "scattercarpet"
           }
          ],
          "scattergeo": [
           {
            "marker": {
             "colorbar": {
              "outlinewidth": 0,
              "ticks": ""
             }
            },
            "type": "scattergeo"
           }
          ],
          "scattergl": [
           {
            "marker": {
             "colorbar": {
              "outlinewidth": 0,
              "ticks": ""
             }
            },
            "type": "scattergl"
           }
          ],
          "scattermapbox": [
           {
            "marker": {
             "colorbar": {
              "outlinewidth": 0,
              "ticks": ""
             }
            },
            "type": "scattermapbox"
           }
          ],
          "scatterpolar": [
           {
            "marker": {
             "colorbar": {
              "outlinewidth": 0,
              "ticks": ""
             }
            },
            "type": "scatterpolar"
           }
          ],
          "scatterpolargl": [
           {
            "marker": {
             "colorbar": {
              "outlinewidth": 0,
              "ticks": ""
             }
            },
            "type": "scatterpolargl"
           }
          ],
          "scatterternary": [
           {
            "marker": {
             "colorbar": {
              "outlinewidth": 0,
              "ticks": ""
             }
            },
            "type": "scatterternary"
           }
          ],
          "surface": [
           {
            "colorbar": {
             "outlinewidth": 0,
             "ticks": ""
            },
            "colorscale": [
             [
              0,
              "#0d0887"
             ],
             [
              0.1111111111111111,
              "#46039f"
             ],
             [
              0.2222222222222222,
              "#7201a8"
             ],
             [
              0.3333333333333333,
              "#9c179e"
             ],
             [
              0.4444444444444444,
              "#bd3786"
             ],
             [
              0.5555555555555556,
              "#d8576b"
             ],
             [
              0.6666666666666666,
              "#ed7953"
             ],
             [
              0.7777777777777778,
              "#fb9f3a"
             ],
             [
              0.8888888888888888,
              "#fdca26"
             ],
             [
              1,
              "#f0f921"
             ]
            ],
            "type": "surface"
           }
          ],
          "table": [
           {
            "cells": {
             "fill": {
              "color": "#EBF0F8"
             },
             "line": {
              "color": "white"
             }
            },
            "header": {
             "fill": {
              "color": "#C8D4E3"
             },
             "line": {
              "color": "white"
             }
            },
            "type": "table"
           }
          ]
         },
         "layout": {
          "annotationdefaults": {
           "arrowcolor": "#2a3f5f",
           "arrowhead": 0,
           "arrowwidth": 1
          },
          "autotypenumbers": "strict",
          "coloraxis": {
           "colorbar": {
            "outlinewidth": 0,
            "ticks": ""
           }
          },
          "colorscale": {
           "diverging": [
            [
             0,
             "#8e0152"
            ],
            [
             0.1,
             "#c51b7d"
            ],
            [
             0.2,
             "#de77ae"
            ],
            [
             0.3,
             "#f1b6da"
            ],
            [
             0.4,
             "#fde0ef"
            ],
            [
             0.5,
             "#f7f7f7"
            ],
            [
             0.6,
             "#e6f5d0"
            ],
            [
             0.7,
             "#b8e186"
            ],
            [
             0.8,
             "#7fbc41"
            ],
            [
             0.9,
             "#4d9221"
            ],
            [
             1,
             "#276419"
            ]
           ],
           "sequential": [
            [
             0,
             "#0d0887"
            ],
            [
             0.1111111111111111,
             "#46039f"
            ],
            [
             0.2222222222222222,
             "#7201a8"
            ],
            [
             0.3333333333333333,
             "#9c179e"
            ],
            [
             0.4444444444444444,
             "#bd3786"
            ],
            [
             0.5555555555555556,
             "#d8576b"
            ],
            [
             0.6666666666666666,
             "#ed7953"
            ],
            [
             0.7777777777777778,
             "#fb9f3a"
            ],
            [
             0.8888888888888888,
             "#fdca26"
            ],
            [
             1,
             "#f0f921"
            ]
           ],
           "sequentialminus": [
            [
             0,
             "#0d0887"
            ],
            [
             0.1111111111111111,
             "#46039f"
            ],
            [
             0.2222222222222222,
             "#7201a8"
            ],
            [
             0.3333333333333333,
             "#9c179e"
            ],
            [
             0.4444444444444444,
             "#bd3786"
            ],
            [
             0.5555555555555556,
             "#d8576b"
            ],
            [
             0.6666666666666666,
             "#ed7953"
            ],
            [
             0.7777777777777778,
             "#fb9f3a"
            ],
            [
             0.8888888888888888,
             "#fdca26"
            ],
            [
             1,
             "#f0f921"
            ]
           ]
          },
          "colorway": [
           "#636efa",
           "#EF553B",
           "#00cc96",
           "#ab63fa",
           "#FFA15A",
           "#19d3f3",
           "#FF6692",
           "#B6E880",
           "#FF97FF",
           "#FECB52"
          ],
          "font": {
           "color": "#2a3f5f"
          },
          "geo": {
           "bgcolor": "white",
           "lakecolor": "white",
           "landcolor": "#E5ECF6",
           "showlakes": true,
           "showland": true,
           "subunitcolor": "white"
          },
          "hoverlabel": {
           "align": "left"
          },
          "hovermode": "closest",
          "mapbox": {
           "style": "light"
          },
          "paper_bgcolor": "white",
          "plot_bgcolor": "#E5ECF6",
          "polar": {
           "angularaxis": {
            "gridcolor": "white",
            "linecolor": "white",
            "ticks": ""
           },
           "bgcolor": "#E5ECF6",
           "radialaxis": {
            "gridcolor": "white",
            "linecolor": "white",
            "ticks": ""
           }
          },
          "scene": {
           "xaxis": {
            "backgroundcolor": "#E5ECF6",
            "gridcolor": "white",
            "gridwidth": 2,
            "linecolor": "white",
            "showbackground": true,
            "ticks": "",
            "zerolinecolor": "white"
           },
           "yaxis": {
            "backgroundcolor": "#E5ECF6",
            "gridcolor": "white",
            "gridwidth": 2,
            "linecolor": "white",
            "showbackground": true,
            "ticks": "",
            "zerolinecolor": "white"
           },
           "zaxis": {
            "backgroundcolor": "#E5ECF6",
            "gridcolor": "white",
            "gridwidth": 2,
            "linecolor": "white",
            "showbackground": true,
            "ticks": "",
            "zerolinecolor": "white"
           }
          },
          "shapedefaults": {
           "line": {
            "color": "#2a3f5f"
           }
          },
          "ternary": {
           "aaxis": {
            "gridcolor": "white",
            "linecolor": "white",
            "ticks": ""
           },
           "baxis": {
            "gridcolor": "white",
            "linecolor": "white",
            "ticks": ""
           },
           "bgcolor": "#E5ECF6",
           "caxis": {
            "gridcolor": "white",
            "linecolor": "white",
            "ticks": ""
           }
          },
          "title": {
           "x": 0.05
          },
          "xaxis": {
           "automargin": true,
           "gridcolor": "white",
           "linecolor": "white",
           "ticks": "",
           "title": {
            "standoff": 15
           },
           "zerolinecolor": "white",
           "zerolinewidth": 2
          },
          "yaxis": {
           "automargin": true,
           "gridcolor": "white",
           "linecolor": "white",
           "ticks": "",
           "title": {
            "standoff": 15
           },
           "zerolinecolor": "white",
           "zerolinewidth": 2
          }
         }
        },
        "title": {
         "text": "Tasa de Mortalidad Materna por lugar de nacimiento"
        },
        "xaxis": {
         "anchor": "y",
         "domain": [
          0,
          1
         ],
         "title": {
          "text": "timeline"
         }
        },
        "yaxis": {
         "anchor": "x",
         "domain": [
          0,
          1
         ],
         "title": {
          "text": "value"
         }
        }
       }
      },
      "text/html": [
       "<div>                            <div id=\"5e9ab9b7-63d0-4cfc-a147-744842bd5b5d\" class=\"plotly-graph-div\" style=\"height:525px; width:100%;\"></div>            <script type=\"text/javascript\">                require([\"plotly\"], function(Plotly) {                    window.PLOTLYENV=window.PLOTLYENV || {};                                    if (document.getElementById(\"5e9ab9b7-63d0-4cfc-a147-744842bd5b5d\")) {                    Plotly.newPlot(                        \"5e9ab9b7-63d0-4cfc-a147-744842bd5b5d\",                        [{\"hovertemplate\": \"variable=JALISCO<br>timeline=%{x}<br>value=%{y}<extra></extra>\", \"legendgroup\": \"JALISCO\", \"line\": {\"color\": \"#636efa\", \"dash\": \"solid\"}, \"mode\": \"lines\", \"name\": \"JALISCO\", \"showlegend\": true, \"type\": \"scattergl\", \"x\": [0.0, 13.0, 14.0, 15.0, 16.0, 17.0, 18.0, 19.0, 20.0, 21.0, 22.0, 23.0, 24.0, 25.0, 26.0, 27.0, 28.0, 29.0, 30.0, 31.0, 32.0, 33.0, 34.0, 35.0, 36.0, 37.0, 38.0, 39.0, 40.0, 41.0, 42.0, 43.0, 44.0], \"xaxis\": \"x\", \"y\": [1.0, 0.9990458925675036, 0.9957585587773562, 0.9862608529720456, 0.9646720038858209, 0.9329435949033325, 0.8916741115958751, 0.8411584598971313, 0.7850916376820397, 0.7274115065356359, 0.6717783695171357, 0.6172120980822446, 0.5634438074090786, 0.5087907989348692, 0.4554301723464979, 0.4035093806108026, 0.35251667519580904, 0.3046378294923284, 0.2608789931564478, 0.21950542540180942, 0.18197430848895424, 0.14841574797685878, 0.11833534274141096, 0.09233157835390454, 0.06931156811893394, 0.05033350391617734, 0.03488563721365935, 0.023540432470878066, 0.014563148901475406, 0.008378797998109137, 0.004761863458552709, 0.0024893530284237305, 0.0012663607740413397], \"yaxis\": \"y\"}, {\"hovertemplate\": \"variable=TABASCO<br>timeline=%{x}<br>value=%{y}<extra></extra>\", \"legendgroup\": \"TABASCO\", \"line\": {\"color\": \"#EF553B\", \"dash\": \"solid\"}, \"mode\": \"lines\", \"name\": \"TABASCO\", \"showlegend\": true, \"type\": \"scattergl\", \"x\": [0.0, 13.0, 14.0, 15.0, 16.0, 17.0, 18.0, 19.0, 20.0, 21.0, 22.0, 23.0, 24.0, 25.0, 26.0, 27.0, 28.0, 29.0, 30.0, 31.0, 32.0, 33.0, 34.0, 35.0, 36.0, 37.0, 38.0, 39.0, 40.0, 41.0, 42.0, 43.0, 44.0], \"xaxis\": \"x\", \"y\": [1.0, 0.9984680565861601, 0.993154127869401, 0.97955813007157, 0.9543050003590495, 0.9184240132130114, 0.8752902314670751, 0.8216482753668278, 0.762859946860713, 0.7058429279268496, 0.6499269933216838, 0.5929339110036621, 0.5353424132896085, 0.4792110491418718, 0.42339086100007184, 0.3702276372166503, 0.32065490580941663, 0.27457692031500586, 0.2314431385690692, 0.19496373602700032, 0.16030351628886713, 0.1286114369150489, 0.10101251885008498, 0.07824879718505398, 0.058668645426909506, 0.04370826052612679, 0.0304952485817555, 0.020537616391794522, 0.013428441486942567, 0.008665054934533357, 0.005098499174186754, 0.002920267132632788, 0.0016755631088876655], \"yaxis\": \"y\"}, {\"hovertemplate\": \"variable=M\\u00c9XICO<br>timeline=%{x}<br>value=%{y}<extra></extra>\", \"legendgroup\": \"M\\u00c9XICO\", \"line\": {\"color\": \"#00cc96\", \"dash\": \"solid\"}, \"mode\": \"lines\", \"name\": \"M\\u00c9XICO\", \"showlegend\": true, \"type\": \"scattergl\", \"x\": [0.0, 13.0, 14.0, 15.0, 16.0, 17.0, 18.0, 19.0, 20.0, 21.0, 22.0, 23.0, 24.0, 25.0, 26.0, 27.0, 28.0, 29.0, 30.0, 31.0, 32.0, 33.0, 34.0, 35.0, 36.0, 37.0, 38.0, 39.0, 40.0, 41.0, 42.0, 43.0, 44.0], \"xaxis\": \"x\", \"y\": [1.0, 0.999125863869431, 0.9955295856946746, 0.9845530172363212, 0.9598836049608697, 0.921492015441116, 0.8721414575193308, 0.810118859047015, 0.7454269186994726, 0.682929118706513, 0.6232179942975822, 0.5653020756333086, 0.5067056214579886, 0.4478216996961058, 0.3917009867764908, 0.3369354781935303, 0.2858718481232474, 0.23898529808628738, 0.1964107618477712, 0.16156265033381442, 0.1303401504218147, 0.10416299998826667, 0.0818930620577985, 0.06310206859328621, 0.04793668673073084, 0.0346017107254743, 0.024229410867448124, 0.01660858648081007, 0.010747767726190053, 0.006594154434627523, 0.0038954791321998885, 0.0022000070400225277, 0.0011968038297722548], \"yaxis\": \"y\"}, {\"hovertemplate\": \"variable=CHIAPAS<br>timeline=%{x}<br>value=%{y}<extra></extra>\", \"legendgroup\": \"CHIAPAS\", \"line\": {\"color\": \"#ab63fa\", \"dash\": \"solid\"}, \"mode\": \"lines\", \"name\": \"CHIAPAS\", \"showlegend\": true, \"type\": \"scattergl\", \"x\": [0.0, 13.0, 14.0, 15.0, 16.0, 17.0, 18.0, 19.0, 20.0, 21.0, 22.0, 23.0, 24.0, 25.0, 26.0, 27.0, 28.0, 29.0, 30.0, 31.0, 32.0, 33.0, 34.0, 35.0, 36.0, 37.0, 38.0, 39.0, 40.0, 41.0, 42.0, 43.0, 44.0], \"xaxis\": \"x\", \"y\": [1.0, 0.9978052064124179, 0.9916959871480131, 0.977079114389474, 0.9508320982905506, 0.9138260682648681, 0.8679956104128242, 0.8110441108257632, 0.7513660893077354, 0.6938828613772893, 0.6369313617902272, 0.580307949904402, 0.5214218642169454, 0.4654772544716089, 0.4110599495423744, 0.35953886707922783, 0.31133260173547106, 0.26674661447432424, 0.22541887748752715, 0.1903248068242243, 0.15829665916213198, 0.1291307938591033, 0.10350601305562784, 0.08098109536038739, 0.06231403649692847, 0.04643006640947609, 0.0328653369686959, 0.02237784389813442, 0.014639499496555075, 0.009254335848672374, 0.005690624611102942, 0.0033713839644307687, 0.001968526207419308], \"yaxis\": \"y\"}, {\"hovertemplate\": \"variable=OAXACA<br>timeline=%{x}<br>value=%{y}<extra></extra>\", \"legendgroup\": \"OAXACA\", \"line\": {\"color\": \"#FFA15A\", \"dash\": \"solid\"}, \"mode\": \"lines\", \"name\": \"OAXACA\", \"showlegend\": true, \"type\": \"scattergl\", \"x\": [0.0, 13.0, 14.0, 15.0, 16.0, 17.0, 18.0, 19.0, 20.0, 21.0, 22.0, 23.0, 24.0, 25.0, 26.0, 27.0, 28.0, 29.0, 30.0, 31.0, 32.0, 33.0, 34.0, 35.0, 36.0, 37.0, 38.0, 39.0, 40.0, 41.0, 42.0, 43.0, 44.0], \"xaxis\": \"x\", \"y\": [1.0, 0.9985780919854881, 0.9941263239026715, 0.9824985714475559, 0.9602928864732697, 0.9275757132795575, 0.8874699339543661, 0.8380486638051313, 0.7828866061580574, 0.7288541016066222, 0.6763498159492892, 0.6221977116583164, 0.5654277019574491, 0.5069035627433516, 0.44929635486571623, 0.3939482531793595, 0.3425735206176659, 0.293564205126842, 0.2488604802593986, 0.20997727604948774, 0.17421695392752254, 0.14225724575088686, 0.11379250774076095, 0.08926127227545139, 0.06861038391516391, 0.05090962246348885, 0.03685000863775895, 0.02490332354387316, 0.016292142297112327, 0.010099533561015797, 0.005993275836865954, 0.003654436485893875, 0.0020597732920492745], \"yaxis\": \"y\"}, {\"hovertemplate\": \"variable=MICHOAC\\u00c1N DE OCAMPO<br>timeline=%{x}<br>value=%{y}<extra></extra>\", \"legendgroup\": \"MICHOAC\\u00c1N DE OCAMPO\", \"line\": {\"color\": \"#19d3f3\", \"dash\": \"solid\"}, \"mode\": \"lines\", \"name\": \"MICHOAC\\u00c1N DE OCAMPO\", \"showlegend\": true, \"type\": \"scattergl\", \"x\": [0.0, 13.0, 14.0, 15.0, 16.0, 17.0, 18.0, 19.0, 20.0, 21.0, 22.0, 23.0, 24.0, 25.0, 26.0, 27.0, 28.0, 29.0, 30.0, 31.0, 32.0, 33.0, 34.0, 35.0, 36.0, 37.0, 38.0, 39.0, 40.0, 41.0, 42.0, 43.0, 44.0], \"xaxis\": \"x\", \"y\": [1.0, 0.9991130926698308, 0.9948103935950905, 0.9826333956565513, 0.9581715326717478, 0.9227311951675531, 0.8808907426051106, 0.8297377630758911, 0.7760079581955036, 0.7208519104463303, 0.6670741646291769, 0.6124574524186205, 0.55797257778417, 0.5021094012177, 0.4464140179299103, 0.3930797257778419, 0.34132748453904765, 0.2939138980775682, 0.24828611151061888, 0.20844719305815246, 0.17107723284912976, 0.13795004554388998, 0.10958099621266591, 0.08460376815762981, 0.06364159355673805, 0.04667050194160797, 0.03252792559566615, 0.02204084567812454, 0.01408265017498442, 0.008581427681096888, 0.005105709765568821, 0.0029124119085286917, 0.0015820509132748448], \"yaxis\": \"y\"}, {\"hovertemplate\": \"variable=HIDALGO<br>timeline=%{x}<br>value=%{y}<extra></extra>\", \"legendgroup\": \"HIDALGO\", \"line\": {\"color\": \"#FF6692\", \"dash\": \"solid\"}, \"mode\": \"lines\", \"name\": \"HIDALGO\", \"showlegend\": true, \"type\": \"scattergl\", \"x\": [0.0, 13.0, 14.0, 15.0, 16.0, 17.0, 18.0, 19.0, 20.0, 21.0, 22.0, 23.0, 24.0, 25.0, 26.0, 27.0, 28.0, 29.0, 30.0, 31.0, 32.0, 33.0, 34.0, 35.0, 36.0, 37.0, 38.0, 39.0, 40.0, 41.0, 42.0, 43.0, 44.0], \"xaxis\": \"x\", \"y\": [1.0, 0.999209748139084, 0.9959212807178539, 0.9870755582747021, 0.9653563780972768, 0.9306107882125012, 0.8844702763332307, 0.8297644539614568, 0.7744723156928723, 0.7225451208320585, 0.6693943101866018, 0.6141531559090444, 0.5570255939634959, 0.49780768838584716, 0.4376210869786887, 0.37998368512287145, 0.3271897624146016, 0.279749158764148, 0.23603038645865196, 0.19758845722443152, 0.16220556745182016, 0.13092688895686758, 0.10347200978892629, 0.08047822983583151, 0.060721933312939735, 0.04369328030998268, 0.02974915876414806, 0.019348424594677283, 0.01213418986438259, 0.007520138676455596, 0.0043081472417660855, 0.002268787600693382, 0.0011471397981033954], \"yaxis\": \"y\"}, {\"hovertemplate\": \"variable=PUEBLA<br>timeline=%{x}<br>value=%{y}<extra></extra>\", \"legendgroup\": \"PUEBLA\", \"line\": {\"color\": \"#B6E880\", \"dash\": \"solid\"}, \"mode\": \"lines\", \"name\": \"PUEBLA\", \"showlegend\": true, \"type\": \"scattergl\", \"x\": [0.0, 13.0, 14.0, 15.0, 16.0, 17.0, 18.0, 19.0, 20.0, 21.0, 22.0, 23.0, 24.0, 25.0, 26.0, 27.0, 28.0, 29.0, 30.0, 31.0, 32.0, 33.0, 34.0, 35.0, 36.0, 37.0, 38.0, 39.0, 40.0, 41.0, 42.0, 43.0, 44.0], \"xaxis\": \"x\", \"y\": [1.0, 0.9988277711667232, 0.9949647443297877, 0.9822567181144874, 0.9555174679857199, 0.9178640569774259, 0.8709038594746281, 0.8153206756300728, 0.7560964779851875, 0.6984086105536115, 0.6406585794717868, 0.585039873541374, 0.5267126085643754, 0.46877608653180103, 0.41259790774914323, 0.3585421735964338, 0.3093440846846527, 0.26479938902012334, 0.22186206774061779, 0.18517663357192335, 0.15317123421487328, 0.12484237074401011, 0.09885796493970132, 0.07690531588014844, 0.05791876098964531, 0.04207591069747617, 0.029767507948066742, 0.020034456423281173, 0.012734667779692024, 0.007717173152407512, 0.004475782817967073, 0.0023888602738752823, 0.0012876756123119549], \"yaxis\": \"y\"}, {\"hovertemplate\": \"variable=VERACRUZ DE IGNACIO DE LA LLAVE<br>timeline=%{x}<br>value=%{y}<extra></extra>\", \"legendgroup\": \"VERACRUZ DE IGNACIO DE LA LLAVE\", \"line\": {\"color\": \"#FF97FF\", \"dash\": \"solid\"}, \"mode\": \"lines\", \"name\": \"VERACRUZ DE IGNACIO DE LA LLAVE\", \"showlegend\": true, \"type\": \"scattergl\", \"x\": [0.0, 13.0, 14.0, 15.0, 16.0, 17.0, 18.0, 19.0, 20.0, 21.0, 22.0, 23.0, 24.0, 25.0, 26.0, 27.0, 28.0, 29.0, 30.0, 31.0, 32.0, 33.0, 34.0, 35.0, 36.0, 37.0, 38.0, 39.0, 40.0, 41.0, 42.0, 43.0, 44.0], \"xaxis\": \"x\", \"y\": [1.0, 0.9989314043812418, 0.9941145041305318, 0.9823599523241949, 0.9594837861164773, 0.9262422424068051, 0.8851341909498162, 0.834466318688093, 0.7800748016933126, 0.7266450207554142, 0.6731412601208336, 0.6203608565204884, 0.5644486457605522, 0.5075582590111382, 0.4514980888578357, 0.39793678845916686, 0.3446714068472321, 0.2951872097324399, 0.2495252969462826, 0.20957626073733085, 0.17293165098023097, 0.13904894989930547, 0.11110928445193363, 0.08666310468127075, 0.06538983190168918, 0.04719904648390938, 0.03286342525995641, 0.02170071102708478, 0.013858863178660964, 0.008400805556697215, 0.004545641362870411, 0.002433110024248899, 0.0012001150795281734], \"yaxis\": \"y\"}, {\"hovertemplate\": \"variable=GUERRERO<br>timeline=%{x}<br>value=%{y}<extra></extra>\", \"legendgroup\": \"GUERRERO\", \"line\": {\"color\": \"#FECB52\", \"dash\": \"solid\"}, \"mode\": \"lines\", \"name\": \"GUERRERO\", \"showlegend\": true, \"type\": \"scattergl\", \"x\": [0.0, 13.0, 14.0, 15.0, 16.0, 17.0, 18.0, 19.0, 20.0, 21.0, 22.0, 23.0, 24.0, 25.0, 26.0, 27.0, 28.0, 29.0, 30.0, 31.0, 32.0, 33.0, 34.0, 35.0, 36.0, 37.0, 38.0, 39.0, 40.0, 41.0, 42.0, 43.0, 44.0], \"xaxis\": \"x\", \"y\": [1.0, 0.9985419305428731, 0.9931662199181126, 0.980264514418687, 0.9546672950602368, 0.9185395740669834, 0.8758431765295001, 0.8246192818639716, 0.7663701434504697, 0.7112580635659373, 0.6561901676043475, 0.5989425314442255, 0.5405755692362075, 0.48350466876785764, 0.4286135084980409, 0.3742378273292287, 0.32354413973902, 0.27768122772393866, 0.23402751185601942, 0.1963386255854368, 0.16166897404930924, 0.13231612124068465, 0.1057910395004271, 0.08355179828566374, 0.06229933134996615, 0.04559780847742202, 0.031768240596188387, 0.021429202627470622, 0.013520280420630946, 0.00855695307667383, 0.004889687472385045, 0.0028130430940528435, 0.00153170932869893], \"yaxis\": \"y\"}, {\"hovertemplate\": \"variable=CHIHUAHUA<br>timeline=%{x}<br>value=%{y}<extra></extra>\", \"legendgroup\": \"CHIHUAHUA\", \"line\": {\"color\": \"#636efa\", \"dash\": \"solid\"}, \"mode\": \"lines\", \"name\": \"CHIHUAHUA\", \"showlegend\": true, \"type\": \"scattergl\", \"x\": [0.0, 13.0, 14.0, 15.0, 16.0, 17.0, 18.0, 19.0, 20.0, 21.0, 22.0, 23.0, 24.0, 25.0, 26.0, 27.0, 28.0, 29.0, 30.0, 31.0, 32.0, 33.0, 34.0, 35.0, 36.0, 37.0, 38.0, 39.0, 40.0, 41.0, 42.0, 43.0, 44.0], \"xaxis\": \"x\", \"y\": [1.0, 0.9979515630001061, 0.9923183612503991, 0.9753547423450323, 0.9472740851381627, 0.9051957750986873, 0.8548597034033912, 0.7917635762295945, 0.724890643337245, 0.6606422703510082, 0.601685692947828, 0.5453536754507621, 0.4884455350474767, 0.43501546996692586, 0.3822468793342576, 0.3314627120452362, 0.28191614211031674, 0.23830150432092168, 0.1962658700522778, 0.16112237277285799, 0.1300757494932251, 0.10378747466126104, 0.08210818307905673, 0.06064227035100817, 0.0442974501226928, 0.031558732529606295, 0.021892670436359736, 0.01446708631174649, 0.009986130374479884, 0.006187986770511036, 0.003606102635228846, 0.0020484369998933086, 0.0009388669582844336], \"yaxis\": \"y\"}, {\"hovertemplate\": \"variable=GUANAJUATO<br>timeline=%{x}<br>value=%{y}<extra></extra>\", \"legendgroup\": \"GUANAJUATO\", \"line\": {\"color\": \"#EF553B\", \"dash\": \"solid\"}, \"mode\": \"lines\", \"name\": \"GUANAJUATO\", \"showlegend\": true, \"type\": \"scattergl\", \"x\": [0.0, 13.0, 14.0, 15.0, 16.0, 17.0, 18.0, 19.0, 20.0, 21.0, 22.0, 23.0, 24.0, 25.0, 26.0, 27.0, 28.0, 29.0, 30.0, 31.0, 32.0, 33.0, 34.0, 35.0, 36.0, 37.0, 38.0, 39.0, 40.0, 41.0, 42.0, 43.0, 44.0], \"xaxis\": \"x\", \"y\": [1.0, 0.9992464124989383, 0.9957013670714111, 0.9844081684639554, 0.9595610087458604, 0.9254691347541818, 0.8830135008915682, 0.8322577906088138, 0.7757493419376754, 0.7208648212617813, 0.6650462766409101, 0.6102891228666047, 0.5529952449690079, 0.49646556848093754, 0.4405090430500132, 0.38580495881803495, 0.3339454020548529, 0.28641631994565686, 0.24268701706716472, 0.203394327927316, 0.16814553791288103, 0.1369194192069287, 0.10837861934278677, 0.08306444765220342, 0.06254776258809543, 0.045194022246752195, 0.031480852509127966, 0.021249044748238095, 0.013755625371486798, 0.00857603804024794, 0.004850556168803604, 0.002674704933344656, 0.0013479663751379811], \"yaxis\": \"y\"}, {\"hovertemplate\": \"variable=SONORA<br>timeline=%{x}<br>value=%{y}<extra></extra>\", \"legendgroup\": \"SONORA\", \"line\": {\"color\": \"#00cc96\", \"dash\": \"solid\"}, \"mode\": \"lines\", \"name\": \"SONORA\", \"showlegend\": true, \"type\": \"scattergl\", \"x\": [0.0, 13.0, 14.0, 15.0, 16.0, 17.0, 18.0, 19.0, 20.0, 21.0, 22.0, 23.0, 24.0, 25.0, 26.0, 27.0, 28.0, 29.0, 30.0, 31.0, 32.0, 33.0, 34.0, 35.0, 36.0, 37.0, 38.0, 39.0, 40.0, 41.0, 42.0, 43.0, 44.0], \"xaxis\": \"x\", \"y\": [1.0, 0.999238219610404, 0.9961910980520183, 0.9859614756774397, 0.9644955925563176, 0.9307323974317114, 0.8867395799325276, 0.8310751986070297, 0.7703232125367286, 0.710985961475677, 0.6524104908042216, 0.5965284579388391, 0.5416802698879095, 0.48740341712917573, 0.4336706932201541, 0.38137991076286865, 0.33085754706714554, 0.2843889433017736, 0.2387637392534551, 0.2005114811187288, 0.16394602241810846, 0.13162476874523887, 0.10297638480792254, 0.08009576667754918, 0.060479921645445606, 0.04339427576450101, 0.029246925671999106, 0.01877244531505059, 0.011644357383828482, 0.007073675046250947, 0.004244205027750569, 0.002475786266187831, 0.0010338448144520615], \"yaxis\": \"y\"}, {\"hovertemplate\": \"variable=QUER\\u00c9TARO<br>timeline=%{x}<br>value=%{y}<extra></extra>\", \"legendgroup\": \"QUER\\u00c9TARO\", \"line\": {\"color\": \"#ab63fa\", \"dash\": \"solid\"}, \"mode\": \"lines\", \"name\": \"QUER\\u00c9TARO\", \"showlegend\": true, \"type\": \"scattergl\", \"x\": [0.0, 13.0, 14.0, 15.0, 16.0, 17.0, 18.0, 19.0, 20.0, 21.0, 22.0, 23.0, 24.0, 25.0, 26.0, 27.0, 28.0, 29.0, 30.0, 31.0, 32.0, 33.0, 34.0, 35.0, 36.0, 37.0, 38.0, 39.0, 40.0, 41.0, 42.0, 43.0, 44.0], \"xaxis\": \"x\", \"y\": [1.0, 0.9992518969755266, 0.9965801004595476, 0.987674112072957, 0.9682590573901877, 0.9350219087314303, 0.8935556268034626, 0.840084072530369, 0.78333511453101, 0.7295073207224537, 0.6746108083075059, 0.6204980228705782, 0.5657796302233618, 0.510313134551672, 0.4528873214349328, 0.39364468668732866, 0.34209682590573903, 0.29179580349827205, 0.24740835737950193, 0.20857824801396446, 0.17142246446510617, 0.13875529906308995, 0.11007801645826654, 0.0854618645577286, 0.06383812475508528, 0.046987994727654844, 0.031883438423996276, 0.02066189305689144, 0.01275337536959851, 0.007445406291190191, 0.003989882797192828, 0.0022086851198746026, 0.0009262227922054781], \"yaxis\": \"y\"}, {\"hovertemplate\": \"variable=CAMPECHE<br>timeline=%{x}<br>value=%{y}<extra></extra>\", \"legendgroup\": \"CAMPECHE\", \"line\": {\"color\": \"#FFA15A\", \"dash\": \"solid\"}, \"mode\": \"lines\", \"name\": \"CAMPECHE\", \"showlegend\": true, \"type\": \"scattergl\", \"x\": [0.0, 13.0, 14.0, 15.0, 16.0, 17.0, 18.0, 19.0, 20.0, 21.0, 22.0, 23.0, 24.0, 25.0, 26.0, 27.0, 28.0, 29.0, 30.0, 31.0, 32.0, 33.0, 34.0, 35.0, 36.0, 37.0, 38.0, 39.0, 40.0, 41.0, 42.0, 43.0, 44.0], \"xaxis\": \"x\", \"y\": [1.0, 0.9981292384441505, 0.9924390053784397, 0.9791877776911689, 0.9564268454283273, 0.9245459505807164, 0.8874425130563575, 0.8349832410943961, 0.7748850261127145, 0.719853457011459, 0.6626393327617128, 0.6023852209837093, 0.5433003351781124, 0.48873645646582026, 0.433860784160886, 0.376256917920337, 0.32395354275469646, 0.27796398784005033, 0.23275391690700756, 0.1923766466599114, 0.15652038350611908, 0.1267440954088394, 0.09751344609868279, 0.07319354587263238, 0.05456387871229249, 0.03819471509860474, 0.027126042559825425, 0.016758905604489838, 0.010211240159014737, 0.00631382025099385, 0.0035856263153792225, 0.0025722971392937886, 0.0012471743705666852], \"yaxis\": \"y\"}, {\"hovertemplate\": \"variable=SAN LUIS POTOS\\u00cd<br>timeline=%{x}<br>value=%{y}<extra></extra>\", \"legendgroup\": \"SAN LUIS POTOS\\u00cd\", \"line\": {\"color\": \"#19d3f3\", \"dash\": \"solid\"}, \"mode\": \"lines\", \"name\": \"SAN LUIS POTOS\\u00cd\", \"showlegend\": true, \"type\": \"scattergl\", \"x\": [0.0, 13.0, 14.0, 15.0, 16.0, 17.0, 18.0, 19.0, 20.0, 21.0, 22.0, 23.0, 24.0, 25.0, 26.0, 27.0, 28.0, 29.0, 30.0, 31.0, 32.0, 33.0, 34.0, 35.0, 36.0, 37.0, 38.0, 39.0, 40.0, 41.0, 42.0, 43.0, 44.0], \"xaxis\": \"x\", \"y\": [1.0, 0.999254347957518, 0.996473267366639, 0.9869813183934212, 0.9680780314786077, 0.9371032425787463, 0.900405070433888, 0.8514943269986498, 0.7974647830555605, 0.7461961669454461, 0.6952298422039054, 0.6447068781362724, 0.5921283327623377, 0.5342093065435998, 0.47802341750468513, 0.42167630640253123, 0.36607484734285867, 0.3164789101388525, 0.2691602345781018, 0.22627516575643372, 0.18810584228451657, 0.15231454424537985, 0.1232744201043913, 0.09580621107998627, 0.07168335986779786, 0.05191350436307203, 0.03569053424961204, 0.024102698454283446, 0.015074262912879624, 0.008967977267689076, 0.004917272928800304, 0.002599705769734586, 0.001370387537534511], \"yaxis\": \"y\"}, {\"hovertemplate\": \"variable=CIUDAD DE M\\u00c9XICO<br>timeline=%{x}<br>value=%{y}<extra></extra>\", \"legendgroup\": \"CIUDAD DE M\\u00c9XICO\", \"line\": {\"color\": \"#FF6692\", \"dash\": \"solid\"}, \"mode\": \"lines\", \"name\": \"CIUDAD DE M\\u00c9XICO\", \"showlegend\": true, \"type\": \"scattergl\", \"x\": [0.0, 13.0, 14.0, 15.0, 16.0, 17.0, 18.0, 19.0, 20.0, 21.0, 22.0, 23.0, 24.0, 25.0, 26.0, 27.0, 28.0, 29.0, 30.0, 31.0, 32.0, 33.0, 34.0, 35.0, 36.0, 37.0, 38.0, 39.0, 40.0, 41.0, 42.0, 43.0, 44.0], \"xaxis\": \"x\", \"y\": [1.0, 0.9994110005728611, 0.9974907010706864, 0.9902855436948812, 0.97312387545486, 0.9473692703668737, 0.913634933313968, 0.8719127958108419, 0.8266485932595871, 0.7806178846045226, 0.7341030668312637, 0.6884193030442392, 0.6408959246080723, 0.5897901386972616, 0.5395880231404155, 0.491378823453473, 0.4424757340304498, 0.39490394468246454, 0.34804218204116527, 0.303536417108416, 0.25934532310249386, 0.2187043626300033, 0.17958027739452462, 0.14155350616028844, 0.10777075819556395, 0.0798618675316082, 0.056398712269745514, 0.03807518214605566, 0.02464115411613774, 0.015273642679059845, 0.009496607201929972, 0.0054300906090899515, 0.0032435310919081135], \"yaxis\": \"y\"}, {\"hovertemplate\": \"variable=SINALOA<br>timeline=%{x}<br>value=%{y}<extra></extra>\", \"legendgroup\": \"SINALOA\", \"line\": {\"color\": \"#B6E880\", \"dash\": \"solid\"}, \"mode\": \"lines\", \"name\": \"SINALOA\", \"showlegend\": true, \"type\": \"scattergl\", \"x\": [0.0, 13.0, 14.0, 15.0, 16.0, 17.0, 18.0, 19.0, 20.0, 21.0, 22.0, 23.0, 24.0, 25.0, 26.0, 27.0, 28.0, 29.0, 30.0, 31.0, 32.0, 33.0, 34.0, 35.0, 36.0, 37.0, 38.0, 39.0, 40.0, 41.0, 42.0, 43.0, 44.0], \"xaxis\": \"x\", \"y\": [1.0, 0.9991997923785635, 0.9964315065530511, 0.9866343699987021, 0.967299623686146, 0.9379082140230974, 0.902028634456508, 0.8566330723647213, 0.805398157359747, 0.7562827111899306, 0.7057182404083222, 0.6529910463255335, 0.5967818677278429, 0.5399671266058222, 0.48053549028937265, 0.42532116441022544, 0.3706907738223973, 0.3181798520697264, 0.26884813356979087, 0.22516112288593781, 0.18510748734806862, 0.14801678273281715, 0.11577057831221071, 0.08793632942601326, 0.06514122583156705, 0.04721224966477787, 0.03241922228470089, 0.021843505341926542, 0.0137981746615338, 0.008607638738699769, 0.005298672087893076, 0.0029629309226177603, 0.0016652969419092523], \"yaxis\": \"y\"}, {\"hovertemplate\": \"variable=COLIMA<br>timeline=%{x}<br>value=%{y}<extra></extra>\", \"legendgroup\": \"COLIMA\", \"line\": {\"color\": \"#FF97FF\", \"dash\": \"solid\"}, \"mode\": \"lines\", \"name\": \"COLIMA\", \"showlegend\": true, \"type\": \"scattergl\", \"x\": [0.0, 13.0, 14.0, 15.0, 16.0, 17.0, 18.0, 19.0, 20.0, 21.0, 22.0, 23.0, 24.0, 25.0, 26.0, 27.0, 28.0, 29.0, 30.0, 31.0, 32.0, 33.0, 34.0, 35.0, 36.0, 37.0, 38.0, 39.0, 40.0, 41.0, 42.0, 43.0, 44.0], \"xaxis\": \"x\", \"y\": [1.0, 0.9987916868052203, 0.9939584340260991, 0.9829627839536001, 0.9597631706138231, 0.9259304011599799, 0.8813436442725949, 0.8313194780086993, 0.7763412276462057, 0.7197921701304976, 0.6672305461575639, 0.6152730787820206, 0.5588448525857908, 0.5019333011116481, 0.4445384243595939, 0.3947559207346546, 0.33361527307878197, 0.28612856452392466, 0.23827936201063316, 0.1998550024166264, 0.1616723054615756, 0.12904784920251333, 0.09968583856935717, 0.0775737071048816, 0.05703238279362009, 0.04072015466408893, 0.02803286611889802, 0.019091348477525378, 0.010270662155630743, 0.006524891251812472, 0.003383276945384245, 0.0014499758337361054, 0.0006041565973900437], \"yaxis\": \"y\"}, {\"hovertemplate\": \"variable=DURANGO<br>timeline=%{x}<br>value=%{y}<extra></extra>\", \"legendgroup\": \"DURANGO\", \"line\": {\"color\": \"#FECB52\", \"dash\": \"solid\"}, \"mode\": \"lines\", \"name\": \"DURANGO\", \"showlegend\": true, \"type\": \"scattergl\", \"x\": [0.0, 13.0, 14.0, 15.0, 16.0, 17.0, 18.0, 19.0, 20.0, 21.0, 22.0, 23.0, 24.0, 25.0, 26.0, 27.0, 28.0, 29.0, 30.0, 31.0, 32.0, 33.0, 34.0, 35.0, 36.0, 37.0, 38.0, 39.0, 40.0, 41.0, 42.0, 43.0, 44.0], \"xaxis\": \"x\", \"y\": [1.0, 0.9988049481605878, 0.9948968056587314, 0.9832692742482478, 0.956332159813959, 0.9191240593004091, 0.8744872581634947, 0.8197732631374949, 0.7596330867866025, 0.7034979490326541, 0.6474274086754299, 0.5919705435870929, 0.5347695487871832, 0.47963567068247137, 0.42553535092535755, 0.37343755046671573, 0.3230515810212848, 0.27573398792028675, 0.23206614773424616, 0.19082070992538977, 0.15632570007428684, 0.12467297567907996, 0.09960918574981428, 0.07858273311585534, 0.058396046639320374, 0.04302186621879136, 0.029747101191821945, 0.020445076063434618, 0.013177868931882032, 0.008010077193889083, 0.004941700849455762, 0.0028745841542585806, 0.0016472336164852549], \"yaxis\": \"y\"}, {\"hovertemplate\": \"variable=MORELOS<br>timeline=%{x}<br>value=%{y}<extra></extra>\", \"legendgroup\": \"MORELOS\", \"line\": {\"color\": \"#636efa\", \"dash\": \"solid\"}, \"mode\": \"lines\", \"name\": \"MORELOS\", \"showlegend\": true, \"type\": \"scattergl\", \"x\": [0.0, 13.0, 14.0, 15.0, 16.0, 17.0, 18.0, 19.0, 20.0, 21.0, 22.0, 23.0, 24.0, 25.0, 26.0, 27.0, 28.0, 29.0, 30.0, 31.0, 32.0, 33.0, 34.0, 35.0, 36.0, 37.0, 38.0, 39.0, 40.0, 41.0, 42.0, 43.0, 44.0], \"xaxis\": \"x\", \"y\": [1.0, 0.9990896085316698, 0.9941474834178708, 0.9809684831144069, 0.9561278016213639, 0.9210994060779475, 0.8757098885854254, 0.8224736636753801, 0.7640785537781247, 0.7065071313998359, 0.6476785017557556, 0.5925347899596826, 0.534963367581394, 0.4746607707981103, 0.41466163783760374, 0.3596479819655789, 0.30905622751116324, 0.263796765942689, 0.22035808731087725, 0.18346555685611493, 0.15129839164173925, 0.12086530541466176, 0.09511423245328829, 0.0710105345298479, 0.05397320847964627, 0.03884336931547234, 0.027528503923353726, 0.01729743789829628, 0.011531625265530851, 0.006416092253002125, 0.0039016777214202127, 0.0021675987341223412, 0.001213855291108511], \"yaxis\": \"y\"}, {\"hovertemplate\": \"variable=TLAXCALA<br>timeline=%{x}<br>value=%{y}<extra></extra>\", \"legendgroup\": \"TLAXCALA\", \"line\": {\"color\": \"#EF553B\", \"dash\": \"solid\"}, \"mode\": \"lines\", \"name\": \"TLAXCALA\", \"showlegend\": true, \"type\": \"scattergl\", \"x\": [0.0, 13.0, 14.0, 15.0, 16.0, 17.0, 18.0, 19.0, 20.0, 21.0, 22.0, 23.0, 24.0, 25.0, 26.0, 27.0, 28.0, 29.0, 30.0, 31.0, 32.0, 33.0, 34.0, 35.0, 36.0, 37.0, 38.0, 39.0, 40.0, 41.0, 42.0, 43.0, 44.0], \"xaxis\": \"x\", \"y\": [1.0, 0.9995242877530521, 0.9954543051958342, 0.9836672128548016, 0.9591416036788422, 0.9205031978434379, 0.8719276917384639, 0.8150536497700726, 0.7560124742322529, 0.7011998520006342, 0.6445900946138803, 0.5885617633067287, 0.5294148739362543, 0.4695808446535227, 0.41233680427083874, 0.3577884666208574, 0.31064009725672626, 0.26354458480892223, 0.22120619483059367, 0.1819335059992599, 0.15196363444156677, 0.12320947195940593, 0.09672815687932765, 0.07510967810137957, 0.057085469633701605, 0.04006554257624611, 0.028807019398488294, 0.01929277445953803, 0.012051376922670337, 0.0072942544531952045, 0.004017125640890111, 0.0022199904857550606, 0.0010042814102225275], \"yaxis\": \"y\"}, {\"hovertemplate\": \"variable=TAMAULIPAS<br>timeline=%{x}<br>value=%{y}<extra></extra>\", \"legendgroup\": \"TAMAULIPAS\", \"line\": {\"color\": \"#00cc96\", \"dash\": \"solid\"}, \"mode\": \"lines\", \"name\": \"TAMAULIPAS\", \"showlegend\": true, \"type\": \"scattergl\", \"x\": [0.0, 13.0, 14.0, 15.0, 16.0, 17.0, 18.0, 19.0, 20.0, 21.0, 22.0, 23.0, 24.0, 25.0, 26.0, 27.0, 28.0, 29.0, 30.0, 31.0, 32.0, 33.0, 34.0, 35.0, 36.0, 37.0, 38.0, 39.0, 40.0, 41.0, 42.0, 43.0, 44.0], \"xaxis\": \"x\", \"y\": [1.0, 0.9990659401756923, 0.995285221839208, 0.9836094740353604, 0.9613254753697325, 0.9296119203825199, 0.8837985099521846, 0.8264872678750131, 0.7651284332258418, 0.7065272990103414, 0.6480596019125981, 0.5903258089625267, 0.5326142555320803, 0.47499166018014033, 0.41694651395529825, 0.36245969087067725, 0.31235405315245196, 0.26502835538752334, 0.2209941065272988, 0.182742132769932, 0.14829311686867552, 0.11806960969643043, 0.09371733570554873, 0.07185588791282103, 0.054464583564994985, 0.0389413988657845, 0.027376848660068946, 0.017569220504837096, 0.0108751250972979, 0.006249305015011673, 0.003513844100967419, 0.0020015567663738457, 0.001045257422439675], \"yaxis\": \"y\"}, {\"hovertemplate\": \"variable=YUCAT\\u00c1N<br>timeline=%{x}<br>value=%{y}<extra></extra>\", \"legendgroup\": \"YUCAT\\u00c1N\", \"line\": {\"color\": \"#ab63fa\", \"dash\": \"solid\"}, \"mode\": \"lines\", \"name\": \"YUCAT\\u00c1N\", \"showlegend\": true, \"type\": \"scattergl\", \"x\": [0.0, 13.0, 14.0, 15.0, 16.0, 17.0, 18.0, 19.0, 20.0, 21.0, 22.0, 23.0, 24.0, 25.0, 26.0, 27.0, 28.0, 29.0, 30.0, 31.0, 32.0, 33.0, 34.0, 35.0, 36.0, 37.0, 38.0, 39.0, 40.0, 41.0, 42.0, 43.0, 44.0], \"xaxis\": \"x\", \"y\": [1.0, 0.9989450399863881, 0.9956440360728265, 0.9842436617321764, 0.9622256253190403, 0.9305427939424871, 0.8935851624978735, 0.8470648289943847, 0.7908116385911179, 0.7377573591968699, 0.6827973455844818, 0.6260677216266806, 0.5711077080142926, 0.5146503318019396, 0.4582269865577676, 0.40347115875446626, 0.35399013101922766, 0.30604049685213525, 0.2616641143440531, 0.21956780670410067, 0.1821337417049515, 0.14936191934660537, 0.12063978220180367, 0.09120299472519995, 0.06795984345754638, 0.0503318019397652, 0.03416709205376893, 0.02191594350859283, 0.013748511145142087, 0.008507742045261186, 0.004594180704441043, 0.0024502297090352224, 0.0010549600136123874], \"yaxis\": \"y\"}, {\"hovertemplate\": \"variable=COAHUILA DE ZARAGOZA<br>timeline=%{x}<br>value=%{y}<extra></extra>\", \"legendgroup\": \"COAHUILA DE ZARAGOZA\", \"line\": {\"color\": \"#FFA15A\", \"dash\": \"solid\"}, \"mode\": \"lines\", \"name\": \"COAHUILA DE ZARAGOZA\", \"showlegend\": true, \"type\": \"scattergl\", \"x\": [0.0, 13.0, 14.0, 15.0, 16.0, 17.0, 18.0, 19.0, 20.0, 21.0, 22.0, 23.0, 24.0, 25.0, 26.0, 27.0, 28.0, 29.0, 30.0, 31.0, 32.0, 33.0, 34.0, 35.0, 36.0, 37.0, 38.0, 39.0, 40.0, 41.0, 42.0, 43.0, 44.0], \"xaxis\": \"x\", \"y\": [1.0, 0.9992112892223737, 0.9949053547066845, 0.9833518076398357, 0.9587099249658931, 0.9224079126875858, 0.8751278990450198, 0.8161451227830832, 0.7566507503410643, 0.6984353683492491, 0.6391115279672579, 0.585372612551159, 0.5286280695770806, 0.4683236698499315, 0.4133910300136427, 0.35988659618008173, 0.3122015688949521, 0.2646657571623466, 0.22256565484311036, 0.185005968622101, 0.14925818553888118, 0.11851978171896303, 0.09336630286493862, 0.07117581855388808, 0.052950204638472026, 0.03773021828103682, 0.026134038199181444, 0.017650068212824003, 0.010615620736698495, 0.0067360163710777615, 0.004092769440654842, 0.0022595497953615267, 0.001172407912687585], \"yaxis\": \"y\"}, {\"hovertemplate\": \"variable=BAJA CALIFORNIA SUR<br>timeline=%{x}<br>value=%{y}<extra></extra>\", \"legendgroup\": \"BAJA CALIFORNIA SUR\", \"line\": {\"color\": \"#19d3f3\", \"dash\": \"solid\"}, \"mode\": \"lines\", \"name\": \"BAJA CALIFORNIA SUR\", \"showlegend\": true, \"type\": \"scattergl\", \"x\": [0.0, 13.0, 14.0, 15.0, 16.0, 17.0, 18.0, 19.0, 20.0, 21.0, 22.0, 23.0, 24.0, 25.0, 26.0, 27.0, 28.0, 29.0, 30.0, 31.0, 32.0, 33.0, 34.0, 35.0, 36.0, 37.0, 38.0, 39.0, 40.0, 41.0, 42.0, 43.0, 44.0], \"xaxis\": \"x\", \"y\": [1.0, 0.9990495802312689, 0.9949310945667666, 0.9862189133533982, 0.9630920323142719, 0.928243307460796, 0.8797718992555047, 0.8257563757326151, 0.7652463171233957, 0.7025186123871383, 0.6432757801362273, 0.5854585775384129, 0.5293838111832726, 0.4660224932678599, 0.4107397433866625, 0.358466656106447, 0.3106288610803105, 0.2608902265167116, 0.21938856328211634, 0.18232219230159993, 0.1477902740377, 0.11801045461745609, 0.09124029779819424, 0.07143988594962779, 0.051956280690638394, 0.03437351496911137, 0.023602090923491213, 0.014573103120544911, 0.010296214161254553, 0.006177728496752732, 0.0031680658957706307, 0.0014256296530967842, 0.00031680658957706327], \"yaxis\": \"y\"}, {\"hovertemplate\": \"variable=QUINTANA ROO<br>timeline=%{x}<br>value=%{y}<extra></extra>\", \"legendgroup\": \"QUINTANA ROO\", \"line\": {\"color\": \"#FF6692\", \"dash\": \"solid\"}, \"mode\": \"lines\", \"name\": \"QUINTANA ROO\", \"showlegend\": true, \"type\": \"scattergl\", \"x\": [0.0, 13.0, 14.0, 15.0, 16.0, 17.0, 18.0, 19.0, 20.0, 21.0, 22.0, 23.0, 24.0, 25.0, 26.0, 27.0, 28.0, 29.0, 30.0, 31.0, 32.0, 33.0, 34.0, 35.0, 36.0, 37.0, 38.0, 39.0, 40.0, 41.0, 42.0, 43.0, 44.0], \"xaxis\": \"x\", \"y\": [1.0, 0.9988668555240808, 0.9928773775799281, 0.9804937272359375, 0.9545932820720361, 0.9159044921084595, 0.8638607851072441, 0.7976527721570215, 0.7222177256171592, 0.6543099959530563, 0.5923108053419678, 0.5306353702954271, 0.47074059085390574, 0.41286928369081405, 0.35629299878591697, 0.3045730473492515, 0.2536624848239579, 0.21205989477944168, 0.17531363820315676, 0.142452448401457, 0.11647106434641855, 0.09105625252934044, 0.0704977741804938, 0.051800890327802544, 0.037231889923108094, 0.025576689599352515, 0.01699716713881021, 0.01157426143261838, 0.007770133549170382, 0.004937272359368681, 0.0025900445163901287, 0.0014569000404694478, 0.0010522055847834908], \"yaxis\": \"y\"}, {\"hovertemplate\": \"variable=ZACATECAS<br>timeline=%{x}<br>value=%{y}<extra></extra>\", \"legendgroup\": \"ZACATECAS\", \"line\": {\"color\": \"#B6E880\", \"dash\": \"solid\"}, \"mode\": \"lines\", \"name\": \"ZACATECAS\", \"showlegend\": true, \"type\": \"scattergl\", \"x\": [0.0, 13.0, 14.0, 15.0, 16.0, 17.0, 18.0, 19.0, 20.0, 21.0, 22.0, 23.0, 24.0, 25.0, 26.0, 27.0, 28.0, 29.0, 30.0, 31.0, 32.0, 33.0, 34.0, 35.0, 36.0, 37.0, 38.0, 39.0, 40.0, 41.0, 42.0, 43.0, 44.0], \"xaxis\": \"x\", \"y\": [1.0, 0.9994562064965211, 0.9961934454756382, 0.985643851508122, 0.9622244779582368, 0.9278567285382844, 0.8850420533642692, 0.8347230278422275, 0.78088747099768, 0.7277407192575409, 0.6730713457076573, 0.6213022041763341, 0.5671041183294673, 0.5126160092807431, 0.4582366589327152, 0.40726508120649696, 0.3579973897911837, 0.31007105568445503, 0.26435614849187955, 0.2224840487238982, 0.18271461716937376, 0.14820185614849202, 0.11687935034802802, 0.09135730858468687, 0.0696055684454757, 0.0524579466357309, 0.03741299303944318, 0.026319605568445488, 0.01660382830626452, 0.00938950116009281, 0.004966647331786547, 0.002718967517401393, 0.0016313805104408363], \"yaxis\": \"y\"}, {\"hovertemplate\": \"variable=NAYARIT<br>timeline=%{x}<br>value=%{y}<extra></extra>\", \"legendgroup\": \"NAYARIT\", \"line\": {\"color\": \"#FF97FF\", \"dash\": \"solid\"}, \"mode\": \"lines\", \"name\": \"NAYARIT\", \"showlegend\": true, \"type\": \"scattergl\", \"x\": [0.0, 13.0, 14.0, 15.0, 16.0, 17.0, 18.0, 19.0, 20.0, 21.0, 22.0, 23.0, 24.0, 25.0, 26.0, 27.0, 28.0, 29.0, 30.0, 31.0, 32.0, 33.0, 34.0, 35.0, 36.0, 37.0, 38.0, 39.0, 40.0, 41.0, 42.0, 43.0, 44.0], \"xaxis\": \"x\", \"y\": [1.0, 0.9987953258643537, 0.9943982652692446, 0.9836766654619935, 0.9613901939525358, 0.928382122635828, 0.8863389953017723, 0.8358029153114087, 0.780387905071679, 0.7272015419828946, 0.6771473316467902, 0.6244428382122643, 0.5724611492591262, 0.5144560896277561, 0.4555475243946516, 0.4014576557041322, 0.3499578364052526, 0.30104806649801275, 0.2569569931333574, 0.2141308276111315, 0.17612335863149028, 0.14371762438260458, 0.11257679797614757, 0.08733887483435737, 0.06613661004698233, 0.04776532947837612, 0.03336947355740275, 0.021925069268762813, 0.014395855920973392, 0.009035056017347312, 0.005240332490061442, 0.0030116853391157724, 0.0022286471509456716], \"yaxis\": \"y\"}, {\"hovertemplate\": \"variable=BAJA CALIFORNIA<br>timeline=%{x}<br>value=%{y}<extra></extra>\", \"legendgroup\": \"BAJA CALIFORNIA\", \"line\": {\"color\": \"#FECB52\", \"dash\": \"solid\"}, \"mode\": \"lines\", \"name\": \"BAJA CALIFORNIA\", \"showlegend\": true, \"type\": \"scattergl\", \"x\": [0.0, 13.0, 14.0, 15.0, 16.0, 17.0, 18.0, 19.0, 20.0, 21.0, 22.0, 23.0, 24.0, 25.0, 26.0, 27.0, 28.0, 29.0, 30.0, 31.0, 32.0, 33.0, 34.0, 35.0, 36.0, 37.0, 38.0, 39.0, 40.0, 41.0, 42.0, 43.0, 44.0], \"xaxis\": \"x\", \"y\": [1.0, 0.9990753911806532, 0.9955903271692736, 0.9844594594594586, 0.9615931721194879, 0.9268847795163584, 0.8785917496443815, 0.8128022759601696, 0.7400426742532, 0.669416785206258, 0.6021692745376956, 0.5375533428165004, 0.4746799431009955, 0.4158961593172118, 0.36041963015647205, 0.3111664295874823, 0.26109530583214774, 0.21646514935988595, 0.17809388335704102, 0.14395448079658604, 0.11593172119487906, 0.09260312944523463, 0.07176386913229012, 0.05565433854907535, 0.04214082503556184, 0.029729729729729718, 0.02016358463726883, 0.013122332859174956, 0.007894736842105258, 0.005227596017069697, 0.0034850640113798003, 0.0016714082503556176, 0.0008890469416785204], \"yaxis\": \"y\"}, {\"hovertemplate\": \"variable=NUEVO LE\\u00d3N<br>timeline=%{x}<br>value=%{y}<extra></extra>\", \"legendgroup\": \"NUEVO LE\\u00d3N\", \"line\": {\"color\": \"#636efa\", \"dash\": \"solid\"}, \"mode\": \"lines\", \"name\": \"NUEVO LE\\u00d3N\", \"showlegend\": true, \"type\": \"scattergl\", \"x\": [0.0, 13.0, 14.0, 15.0, 16.0, 17.0, 18.0, 19.0, 20.0, 21.0, 22.0, 23.0, 24.0, 25.0, 26.0, 27.0, 28.0, 29.0, 30.0, 31.0, 32.0, 33.0, 34.0, 35.0, 36.0, 37.0, 38.0, 39.0, 40.0, 41.0, 42.0, 43.0, 44.0], \"xaxis\": \"x\", \"y\": [1.0, 0.9992460128833454, 0.9960497631496991, 0.9870838728712151, 0.9676769001294887, 0.935730793817306, 0.8923765346096474, 0.8396466095166276, 0.7817371207526754, 0.7240898883771244, 0.6689013096428396, 0.6179580061958063, 0.5658673310495174, 0.5133996623448999, 0.4592437181399467, 0.4064974020226521, 0.35427559868216146, 0.30577455785212004, 0.258388106672786, 0.21608287301873486, 0.1776950941664345, 0.14571620580570063, 0.11562228523660446, 0.08892130669245513, 0.06659673162975949, 0.04794374600468783, 0.03206084348210917, 0.02093133799931157, 0.013129210444360667, 0.007966037797701973, 0.004573095772754836, 0.0024914356898162555, 0.0011965447720828067], \"yaxis\": \"y\"}, {\"hovertemplate\": \"variable=AGUASCALIENTES<br>timeline=%{x}<br>value=%{y}<extra></extra>\", \"legendgroup\": \"AGUASCALIENTES\", \"line\": {\"color\": \"#EF553B\", \"dash\": \"solid\"}, \"mode\": \"lines\", \"name\": \"AGUASCALIENTES\", \"showlegend\": true, \"type\": \"scattergl\", \"x\": [0.0, 13.0, 14.0, 15.0, 16.0, 17.0, 18.0, 19.0, 20.0, 21.0, 22.0, 23.0, 24.0, 25.0, 26.0, 27.0, 28.0, 29.0, 30.0, 31.0, 32.0, 33.0, 34.0, 35.0, 36.0, 37.0, 38.0, 39.0, 40.0, 41.0, 42.0, 43.0, 44.0], \"xaxis\": \"x\", \"y\": [1.0, 0.9988605964529879, 0.9953433072426449, 0.981918161101755, 0.9558109580897652, 0.9162786089368883, 0.8658476171604083, 0.8089269790944222, 0.7470524125631629, 0.6866144852868332, 0.627563657980779, 0.5729713662934715, 0.5173387496284557, 0.4617061329634404, 0.40518180917467556, 0.35465173882889156, 0.30402258991380204, 0.2557217873773906, 0.21643713464777595, 0.17878727831170146, 0.14792430397305062, 0.11904290102050934, 0.09382740513226998, 0.07138610918458341, 0.053304270286337115, 0.03849202417517094, 0.026998910135737658, 0.019072624591300925, 0.011394035470127822, 0.007629049836520369, 0.003963142772218371, 0.002229267809372834, 0.0009907856930545926], \"yaxis\": \"y\"}],                        {\"legend\": {\"title\": {\"text\": \"variable\"}, \"tracegroupgap\": 0}, \"template\": {\"data\": {\"bar\": [{\"error_x\": {\"color\": \"#2a3f5f\"}, \"error_y\": {\"color\": \"#2a3f5f\"}, \"marker\": {\"line\": {\"color\": \"#E5ECF6\", \"width\": 0.5}}, \"type\": \"bar\"}], \"barpolar\": [{\"marker\": {\"line\": {\"color\": \"#E5ECF6\", \"width\": 0.5}}, \"type\": \"barpolar\"}], \"carpet\": [{\"aaxis\": {\"endlinecolor\": \"#2a3f5f\", \"gridcolor\": \"white\", \"linecolor\": \"white\", \"minorgridcolor\": \"white\", \"startlinecolor\": \"#2a3f5f\"}, \"baxis\": {\"endlinecolor\": \"#2a3f5f\", \"gridcolor\": \"white\", \"linecolor\": \"white\", \"minorgridcolor\": \"white\", \"startlinecolor\": \"#2a3f5f\"}, \"type\": \"carpet\"}], \"choropleth\": [{\"colorbar\": {\"outlinewidth\": 0, \"ticks\": \"\"}, \"type\": \"choropleth\"}], \"contour\": [{\"colorbar\": {\"outlinewidth\": 0, \"ticks\": \"\"}, \"colorscale\": [[0.0, \"#0d0887\"], [0.1111111111111111, \"#46039f\"], [0.2222222222222222, \"#7201a8\"], [0.3333333333333333, \"#9c179e\"], [0.4444444444444444, \"#bd3786\"], [0.5555555555555556, \"#d8576b\"], [0.6666666666666666, \"#ed7953\"], [0.7777777777777778, \"#fb9f3a\"], [0.8888888888888888, \"#fdca26\"], [1.0, \"#f0f921\"]], \"type\": \"contour\"}], \"contourcarpet\": [{\"colorbar\": {\"outlinewidth\": 0, \"ticks\": \"\"}, \"type\": \"contourcarpet\"}], \"heatmap\": [{\"colorbar\": {\"outlinewidth\": 0, \"ticks\": \"\"}, \"colorscale\": [[0.0, \"#0d0887\"], [0.1111111111111111, \"#46039f\"], [0.2222222222222222, \"#7201a8\"], [0.3333333333333333, \"#9c179e\"], [0.4444444444444444, \"#bd3786\"], [0.5555555555555556, \"#d8576b\"], [0.6666666666666666, \"#ed7953\"], [0.7777777777777778, \"#fb9f3a\"], [0.8888888888888888, \"#fdca26\"], [1.0, \"#f0f921\"]], \"type\": \"heatmap\"}], \"heatmapgl\": [{\"colorbar\": {\"outlinewidth\": 0, \"ticks\": \"\"}, \"colorscale\": [[0.0, \"#0d0887\"], [0.1111111111111111, \"#46039f\"], [0.2222222222222222, \"#7201a8\"], [0.3333333333333333, \"#9c179e\"], [0.4444444444444444, \"#bd3786\"], [0.5555555555555556, \"#d8576b\"], [0.6666666666666666, \"#ed7953\"], [0.7777777777777778, \"#fb9f3a\"], [0.8888888888888888, \"#fdca26\"], [1.0, \"#f0f921\"]], \"type\": \"heatmapgl\"}], \"histogram\": [{\"marker\": {\"colorbar\": {\"outlinewidth\": 0, \"ticks\": \"\"}}, \"type\": \"histogram\"}], \"histogram2d\": [{\"colorbar\": {\"outlinewidth\": 0, \"ticks\": \"\"}, \"colorscale\": [[0.0, \"#0d0887\"], [0.1111111111111111, \"#46039f\"], [0.2222222222222222, \"#7201a8\"], [0.3333333333333333, \"#9c179e\"], [0.4444444444444444, \"#bd3786\"], [0.5555555555555556, \"#d8576b\"], [0.6666666666666666, \"#ed7953\"], [0.7777777777777778, \"#fb9f3a\"], [0.8888888888888888, \"#fdca26\"], [1.0, \"#f0f921\"]], \"type\": \"histogram2d\"}], \"histogram2dcontour\": [{\"colorbar\": {\"outlinewidth\": 0, \"ticks\": \"\"}, \"colorscale\": [[0.0, \"#0d0887\"], [0.1111111111111111, \"#46039f\"], [0.2222222222222222, \"#7201a8\"], [0.3333333333333333, \"#9c179e\"], [0.4444444444444444, \"#bd3786\"], [0.5555555555555556, \"#d8576b\"], [0.6666666666666666, \"#ed7953\"], [0.7777777777777778, \"#fb9f3a\"], [0.8888888888888888, \"#fdca26\"], [1.0, \"#f0f921\"]], \"type\": \"histogram2dcontour\"}], \"mesh3d\": [{\"colorbar\": {\"outlinewidth\": 0, \"ticks\": \"\"}, \"type\": \"mesh3d\"}], \"parcoords\": [{\"line\": {\"colorbar\": {\"outlinewidth\": 0, \"ticks\": \"\"}}, \"type\": \"parcoords\"}], \"pie\": [{\"automargin\": true, \"type\": \"pie\"}], \"scatter\": [{\"marker\": {\"colorbar\": {\"outlinewidth\": 0, \"ticks\": \"\"}}, \"type\": \"scatter\"}], \"scatter3d\": [{\"line\": {\"colorbar\": {\"outlinewidth\": 0, \"ticks\": \"\"}}, \"marker\": {\"colorbar\": {\"outlinewidth\": 0, \"ticks\": \"\"}}, \"type\": \"scatter3d\"}], \"scattercarpet\": [{\"marker\": {\"colorbar\": {\"outlinewidth\": 0, \"ticks\": \"\"}}, \"type\": \"scattercarpet\"}], \"scattergeo\": [{\"marker\": {\"colorbar\": {\"outlinewidth\": 0, \"ticks\": \"\"}}, \"type\": \"scattergeo\"}], \"scattergl\": [{\"marker\": {\"colorbar\": {\"outlinewidth\": 0, \"ticks\": \"\"}}, \"type\": \"scattergl\"}], \"scattermapbox\": [{\"marker\": {\"colorbar\": {\"outlinewidth\": 0, \"ticks\": \"\"}}, \"type\": \"scattermapbox\"}], \"scatterpolar\": [{\"marker\": {\"colorbar\": {\"outlinewidth\": 0, \"ticks\": \"\"}}, \"type\": \"scatterpolar\"}], \"scatterpolargl\": [{\"marker\": {\"colorbar\": {\"outlinewidth\": 0, \"ticks\": \"\"}}, \"type\": \"scatterpolargl\"}], \"scatterternary\": [{\"marker\": {\"colorbar\": {\"outlinewidth\": 0, \"ticks\": \"\"}}, \"type\": \"scatterternary\"}], \"surface\": [{\"colorbar\": {\"outlinewidth\": 0, \"ticks\": \"\"}, \"colorscale\": [[0.0, \"#0d0887\"], [0.1111111111111111, \"#46039f\"], [0.2222222222222222, \"#7201a8\"], [0.3333333333333333, \"#9c179e\"], [0.4444444444444444, \"#bd3786\"], [0.5555555555555556, \"#d8576b\"], [0.6666666666666666, \"#ed7953\"], [0.7777777777777778, \"#fb9f3a\"], [0.8888888888888888, \"#fdca26\"], [1.0, \"#f0f921\"]], \"type\": \"surface\"}], \"table\": [{\"cells\": {\"fill\": {\"color\": \"#EBF0F8\"}, \"line\": {\"color\": \"white\"}}, \"header\": {\"fill\": {\"color\": \"#C8D4E3\"}, \"line\": {\"color\": \"white\"}}, \"type\": \"table\"}]}, \"layout\": {\"annotationdefaults\": {\"arrowcolor\": \"#2a3f5f\", \"arrowhead\": 0, \"arrowwidth\": 1}, \"autotypenumbers\": \"strict\", \"coloraxis\": {\"colorbar\": {\"outlinewidth\": 0, \"ticks\": \"\"}}, \"colorscale\": {\"diverging\": [[0, \"#8e0152\"], [0.1, \"#c51b7d\"], [0.2, \"#de77ae\"], [0.3, \"#f1b6da\"], [0.4, \"#fde0ef\"], [0.5, \"#f7f7f7\"], [0.6, \"#e6f5d0\"], [0.7, \"#b8e186\"], [0.8, \"#7fbc41\"], [0.9, \"#4d9221\"], [1, \"#276419\"]], \"sequential\": [[0.0, \"#0d0887\"], [0.1111111111111111, \"#46039f\"], [0.2222222222222222, \"#7201a8\"], [0.3333333333333333, \"#9c179e\"], [0.4444444444444444, \"#bd3786\"], [0.5555555555555556, \"#d8576b\"], [0.6666666666666666, \"#ed7953\"], [0.7777777777777778, \"#fb9f3a\"], [0.8888888888888888, \"#fdca26\"], [1.0, \"#f0f921\"]], \"sequentialminus\": [[0.0, \"#0d0887\"], [0.1111111111111111, \"#46039f\"], [0.2222222222222222, \"#7201a8\"], [0.3333333333333333, \"#9c179e\"], [0.4444444444444444, \"#bd3786\"], [0.5555555555555556, \"#d8576b\"], [0.6666666666666666, \"#ed7953\"], [0.7777777777777778, \"#fb9f3a\"], [0.8888888888888888, \"#fdca26\"], [1.0, \"#f0f921\"]]}, \"colorway\": [\"#636efa\", \"#EF553B\", \"#00cc96\", \"#ab63fa\", \"#FFA15A\", \"#19d3f3\", \"#FF6692\", \"#B6E880\", \"#FF97FF\", \"#FECB52\"], \"font\": {\"color\": \"#2a3f5f\"}, \"geo\": {\"bgcolor\": \"white\", \"lakecolor\": \"white\", \"landcolor\": \"#E5ECF6\", \"showlakes\": true, \"showland\": true, \"subunitcolor\": \"white\"}, \"hoverlabel\": {\"align\": \"left\"}, \"hovermode\": \"closest\", \"mapbox\": {\"style\": \"light\"}, \"paper_bgcolor\": \"white\", \"plot_bgcolor\": \"#E5ECF6\", \"polar\": {\"angularaxis\": {\"gridcolor\": \"white\", \"linecolor\": \"white\", \"ticks\": \"\"}, \"bgcolor\": \"#E5ECF6\", \"radialaxis\": {\"gridcolor\": \"white\", \"linecolor\": \"white\", \"ticks\": \"\"}}, \"scene\": {\"xaxis\": {\"backgroundcolor\": \"#E5ECF6\", \"gridcolor\": \"white\", \"gridwidth\": 2, \"linecolor\": \"white\", \"showbackground\": true, \"ticks\": \"\", \"zerolinecolor\": \"white\"}, \"yaxis\": {\"backgroundcolor\": \"#E5ECF6\", \"gridcolor\": \"white\", \"gridwidth\": 2, \"linecolor\": \"white\", \"showbackground\": true, \"ticks\": \"\", \"zerolinecolor\": \"white\"}, \"zaxis\": {\"backgroundcolor\": \"#E5ECF6\", \"gridcolor\": \"white\", \"gridwidth\": 2, \"linecolor\": \"white\", \"showbackground\": true, \"ticks\": \"\", \"zerolinecolor\": \"white\"}}, \"shapedefaults\": {\"line\": {\"color\": \"#2a3f5f\"}}, \"ternary\": {\"aaxis\": {\"gridcolor\": \"white\", \"linecolor\": \"white\", \"ticks\": \"\"}, \"baxis\": {\"gridcolor\": \"white\", \"linecolor\": \"white\", \"ticks\": \"\"}, \"bgcolor\": \"#E5ECF6\", \"caxis\": {\"gridcolor\": \"white\", \"linecolor\": \"white\", \"ticks\": \"\"}}, \"title\": {\"x\": 0.05}, \"xaxis\": {\"automargin\": true, \"gridcolor\": \"white\", \"linecolor\": \"white\", \"ticks\": \"\", \"title\": {\"standoff\": 15}, \"zerolinecolor\": \"white\", \"zerolinewidth\": 2}, \"yaxis\": {\"automargin\": true, \"gridcolor\": \"white\", \"linecolor\": \"white\", \"ticks\": \"\", \"title\": {\"standoff\": 15}, \"zerolinecolor\": \"white\", \"zerolinewidth\": 2}}}, \"title\": {\"text\": \"Tasa de Mortalidad Materna por lugar de nacimiento\"}, \"xaxis\": {\"anchor\": \"y\", \"domain\": [0.0, 1.0], \"title\": {\"text\": \"timeline\"}}, \"yaxis\": {\"anchor\": \"x\", \"domain\": [0.0, 1.0], \"title\": {\"text\": \"value\"}}},                        {\"responsive\": true}                    ).then(function(){\n",
       "                            \n",
       "var gd = document.getElementById('5e9ab9b7-63d0-4cfc-a147-744842bd5b5d');\n",
       "var x = new MutationObserver(function (mutations, observer) {{\n",
       "        var display = window.getComputedStyle(gd).display;\n",
       "        if (!display || display === 'none') {{\n",
       "            console.log([gd, 'removed!']);\n",
       "            Plotly.purge(gd);\n",
       "            observer.disconnect();\n",
       "        }}\n",
       "}});\n",
       "\n",
       "// Listen for the removal of the full notebook cells\n",
       "var notebookContainer = gd.closest('#notebook-container');\n",
       "if (notebookContainer) {{\n",
       "    x.observe(notebookContainer, {childList: true});\n",
       "}}\n",
       "\n",
       "// Listen for the clearing of the current output cell\n",
       "var outputEl = gd.closest('.output');\n",
       "if (outputEl) {{\n",
       "    x.observe(outputEl, {childList: true});\n",
       "}}\n",
       "\n",
       "                        })                };                });            </script>        </div>"
      ]
     },
     "metadata": {},
     "output_type": "display_data"
    }
   ],
   "source": [
    "estados = {1:'AGUASCALIENTES', 2:'BAJA CALIFORNIA', 3:'BAJA CALIFORNIA SUR', 4:'CAMPECHE',\n",
    "           5:'COAHUILA DE ZARAGOZA', 6:'COLIMA', 7:'CHIAPAS', 8:'CHIHUAHUA', 9:'CIUDAD DE MÉXICO',\n",
    "           10:'DURANGO', 11:'GUANAJUATO', 12:'GUERRERO', 13:'HIDALGO', 14:'JALISCO', 15:'MÉXICO',\n",
    "           16:'MICHOACÁN DE OCAMPO', 17:'MORELOS', 18:'NAYARIT', 19:'NUEVO LEÓN', 20:'OAXACA',\n",
    "           21:'PUEBLA', 22:'QUERÉTARO', 23:'QUINTANA ROO', 24:'SAN LUIS POTOSÍ', 25:'SINALOA',\n",
    "           26:'SONORA', 27:'TABASCO', 28:'TAMAULIPAS', 29:'TLAXCALA',\n",
    "           30:'VERACRUZ DE IGNACIO DE LA LLAVE', 31:'YUCATÁN', 32:'ZACATECAS'}\n",
    "\n",
    "data_entidad = data_entidad.replace({'ENTIDADNACIMIENTO': estados})\n",
    "\n",
    "rates, logrank = survival(data_entidad, 'ENTIDADNACIMIENTO', 'EDAD', 'SOBREVIVIOPARTO')\n",
    "rates.dropna().plot(kind='line',\n",
    "           title='Tasa de Mortalidad Materna por lugar de nacimiento')"
   ]
  },
  {
   "cell_type": "code",
   "execution_count": 23,
   "metadata": {},
   "outputs": [],
   "source": [
    "niveles = {1:'NINGUNA', 31:'PRIMARIA', 32:'NINGUNA', 51:'SECUNDARIA', 52:'PRIMARIA', 71:'PREPARATORIA',\n",
    "           72:'SECUNDARIA', 81:'LICENCIATURA', 82:'PREPARATORIA', 101:'POSGRADO', 102:'LICENCIATURA',\n",
    "           111:'SECUNDARIA', 112:'PRIMARIA', 131:'PREPARATORIA', 132:'SECUNDARIA'}\n",
    "           \n",
    "data_escolaridad = data[((data['ESCOLARIDAD'] != 0) & (data['ESCOLARIDAD'] != 88) & (data['ESCOLARIDAD'] != 99) & (data['ENTIDADNACIMIENTO'] != 0)) & ((data['SOBREVIVIOPARTO'] == 1) | (data['SOBREVIVIOPARTO'] == 2)) & (data['EDAD'] != 999)]\n",
    "data_escolaridad = data_escolaridad.replace({'ESCOLARIDAD':niveles})"
   ]
  },
  {
   "cell_type": "code",
   "execution_count": 24,
   "metadata": {},
   "outputs": [
    {
     "data": {
      "application/vnd.plotly.v1+json": {
       "config": {
        "plotlyServerURL": "https://plot.ly"
       },
       "data": [
        {
         "hovertemplate": "variable=LICENCIATURA<br>timeline=%{x}<br>value=%{y}<extra></extra>",
         "legendgroup": "LICENCIATURA",
         "line": {
          "color": "#636efa",
          "dash": "solid"
         },
         "mode": "lines",
         "name": "LICENCIATURA",
         "orientation": "v",
         "showlegend": true,
         "type": "scatter",
         "x": [
          0,
          17,
          18,
          19,
          20,
          21,
          22,
          23,
          24,
          25,
          26,
          27,
          28,
          29,
          30,
          31,
          32,
          33,
          34,
          35,
          36,
          37,
          38,
          39,
          40,
          41,
          42,
          43,
          44,
          45,
          46,
          47,
          48,
          49,
          50,
          51,
          52
         ],
         "xaxis": "x",
         "y": [
          1,
          0.9996312556896088,
          0.9982292590928126,
          0.994138501899418,
          0.9853232082291434,
          0.9706310521120217,
          0.9446998767011217,
          0.9060278171489148,
          0.8558862731089368,
          0.7953046557810273,
          0.7268680164244858,
          0.6542791624894847,
          0.5802499010920207,
          0.5055330851991414,
          0.43159985096584125,
          0.3621261182363267,
          0.2976726856493165,
          0.24101665879243936,
          0.19010305635258098,
          0.14493571941630853,
          0.10592180315967777,
          0.07484357174957648,
          0.05097505982492324,
          0.03295652274115302,
          0.02040001075504237,
          0.012360616571215668,
          0.007324952082445078,
          0.004363474339621193,
          0.002504388441402304,
          0.001482659414695229,
          0.0008949731700103321,
          0.0006184149372174401,
          0.0004378838685887464,
          0.0003111280118920038,
          0.00023046519399407675,
          0.00017284889549555775,
          0.00011523259699703857
         ],
         "yaxis": "y"
        },
        {
         "hovertemplate": "variable=PRIMARIA<br>timeline=%{x}<br>value=%{y}<extra></extra>",
         "legendgroup": "PRIMARIA",
         "line": {
          "color": "#EF553B",
          "dash": "solid"
         },
         "mode": "lines",
         "name": "PRIMARIA",
         "orientation": "v",
         "showlegend": true,
         "type": "scatter",
         "x": [
          0,
          17,
          18,
          19,
          20,
          21,
          22,
          23,
          24,
          25,
          26,
          27,
          28,
          29,
          30,
          31,
          32,
          33,
          34,
          35,
          36,
          37,
          38,
          39,
          40,
          41,
          42,
          43,
          44,
          45,
          46,
          47,
          48,
          49,
          50,
          51,
          52
         ],
         "xaxis": "x",
         "y": [
          1,
          0.8364423462423825,
          0.7826468879088603,
          0.7263062584182108,
          0.6703890733324627,
          0.6181297271486427,
          0.5680011171724727,
          0.5191068025893181,
          0.4713206510232494,
          0.42437688353927516,
          0.3797890886485372,
          0.33770141763781086,
          0.29712283041051585,
          0.2608597723310615,
          0.22661032753875213,
          0.19665839298343613,
          0.1679227349102885,
          0.1410835672037806,
          0.11570393127587406,
          0.09248656464959991,
          0.07236394596128644,
          0.05446215803485758,
          0.039177616908946,
          0.026803129884814123,
          0.017595466442030923,
          0.011036582893746993,
          0.006396713350661526,
          0.003513687615152105,
          0.001797386356981654,
          0.0009279739086170944,
          0.0005856146025253506,
          0.00036488294465041103,
          0.0002162269301632064,
          0.00017568438075760506,
          0.0001261323759285369,
          0.0001081134650816032,
          0.00007658037109946889
         ],
         "yaxis": "y"
        },
        {
         "hovertemplate": "variable=SECUNDARIA<br>timeline=%{x}<br>value=%{y}<extra></extra>",
         "legendgroup": "SECUNDARIA",
         "line": {
          "color": "#00cc96",
          "dash": "solid"
         },
         "mode": "lines",
         "name": "SECUNDARIA",
         "orientation": "v",
         "showlegend": true,
         "type": "scatter",
         "x": [
          0,
          17,
          18,
          19,
          20,
          21,
          22,
          23,
          24,
          25,
          26,
          27,
          28,
          29,
          30,
          31,
          32,
          33,
          34,
          35,
          36,
          37,
          38,
          39,
          40,
          41,
          42,
          43,
          44,
          45,
          46,
          47,
          48,
          49,
          50,
          51,
          52
         ],
         "xaxis": "x",
         "y": [
          1,
          0.8919826008990336,
          0.8308161583851309,
          0.7659269625483136,
          0.7014557813238345,
          0.6404983461160991,
          0.5817006530721047,
          0.5256594331964185,
          0.46928652781311747,
          0.41416766626682655,
          0.36182042334581316,
          0.3124492627191547,
          0.2668387190578313,
          0.2257354633904013,
          0.1886608992766528,
          0.15711897059358076,
          0.12884846061575372,
          0.10398567845589043,
          0.0824518677377534,
          0.06383961566888392,
          0.048217076805641405,
          0.03511019834490446,
          0.02434177844013909,
          0.01636163716331649,
          0.010344347109640994,
          0.006297481007596964,
          0.0035425223849853997,
          0.0018916675753940845,
          0.0009859692486641702,
          0.0005028291713617581,
          0.00031956914204015336,
          0.00018931821210909565,
          0.00012419274714356673,
          0.00008330001332800208,
          0.00006058182787491061,
          0.00004240727951243746,
          0.000030290913937455355
         ],
         "yaxis": "y"
        },
        {
         "hovertemplate": "variable=PREPARATORIA<br>timeline=%{x}<br>value=%{y}<extra></extra>",
         "legendgroup": "PREPARATORIA",
         "line": {
          "color": "#ab63fa",
          "dash": "solid"
         },
         "mode": "lines",
         "name": "PREPARATORIA",
         "orientation": "v",
         "showlegend": true,
         "type": "scatter",
         "x": [
          0,
          17,
          18,
          19,
          20,
          21,
          22,
          23,
          24,
          25,
          26,
          27,
          28,
          29,
          30,
          31,
          32,
          33,
          34,
          35,
          36,
          37,
          38,
          39,
          40,
          41,
          42,
          43,
          44,
          45,
          46,
          47,
          48,
          49,
          50,
          51,
          52
         ],
         "xaxis": "x",
         "y": [
          1,
          0.9793467839169107,
          0.9418858250381673,
          0.8769633723298758,
          0.7988194047232046,
          0.7213852756848402,
          0.6486257936818196,
          0.5810594494944721,
          0.5151288202688749,
          0.45100056375584896,
          0.3901067021105867,
          0.33396361511524114,
          0.28163513886088404,
          0.23440515527975908,
          0.19179015114417775,
          0.15563364922864215,
          0.12418265689489864,
          0.09715529621872093,
          0.07523671573125724,
          0.05682617802339795,
          0.04180640541864018,
          0.029609527062338274,
          0.020270520507133363,
          0.01330587252533817,
          0.008369922596733508,
          0.004981214996728572,
          0.0029010793661244493,
          0.0016315999555579338,
          0.0008703238098373341,
          0.0005082032648459141,
          0.0003230279861571193,
          0.00020986531584730062,
          0.0001563702353372043,
          0.00011316267030981884,
          0.00008230012386168643,
          0.000045265068123927575,
          0.0000329200495446746
         ],
         "yaxis": "y"
        },
        {
         "hovertemplate": "variable=NINGUNA<br>timeline=%{x}<br>value=%{y}<extra></extra>",
         "legendgroup": "NINGUNA",
         "line": {
          "color": "#FFA15A",
          "dash": "solid"
         },
         "mode": "lines",
         "name": "NINGUNA",
         "orientation": "v",
         "showlegend": true,
         "type": "scatter",
         "x": [
          0,
          17,
          18,
          19,
          20,
          21,
          22,
          23,
          24,
          25,
          26,
          27,
          28,
          29,
          30,
          31,
          32,
          33,
          34,
          35,
          36,
          37,
          38,
          39,
          40,
          41,
          42,
          43,
          44,
          45,
          46,
          47,
          48,
          49,
          50,
          51,
          52
         ],
         "xaxis": "x",
         "y": [
          1,
          0.8801385897555951,
          0.8336922932858879,
          0.785359784891576,
          0.7352614610784851,
          0.6902331678996151,
          0.6466496327906565,
          0.6036814576003631,
          0.5599909033751154,
          0.5175578237662696,
          0.47528527283185956,
          0.433668213984723,
          0.39409789573662546,
          0.3557047877677146,
          0.317980549275614,
          0.28353377121988416,
          0.2503578451700933,
          0.2179176755447939,
          0.185370486803205,
          0.15495030299787274,
          0.12693804930905783,
          0.10049095019597871,
          0.07503377790857887,
          0.05453961713911139,
          0.036827953393174816,
          0.023664602089548223,
          0.01446095808863857,
          0.008186962396158008,
          0.004307519430658299,
          0.0021136275467205316,
          0.0012173424477947361,
          0.0007758885930999417,
          0.0005350955814482356,
          0.0003745669070137648,
          0.00025417040118791195,
          0.00018728345350688258,
          0.0001337738953620591
         ],
         "yaxis": "y"
        },
        {
         "hovertemplate": "variable=POSGRADO<br>timeline=%{x}<br>value=%{y}<extra></extra>",
         "legendgroup": "POSGRADO",
         "line": {
          "color": "#19d3f3",
          "dash": "solid"
         },
         "mode": "lines",
         "name": "POSGRADO",
         "orientation": "v",
         "showlegend": true,
         "type": "scatter",
         "x": [
          0,
          17,
          18,
          19,
          20,
          21,
          22,
          23,
          24,
          25,
          26,
          27,
          28,
          29,
          30,
          31,
          32,
          33,
          34,
          35,
          36,
          37,
          38,
          39,
          40,
          41,
          42,
          43,
          44,
          45,
          46,
          47,
          48,
          49,
          50,
          51,
          52
         ],
         "xaxis": "x",
         "y": [
          1,
          0.9998516393847964,
          0.9994560110775914,
          0.9988625686167834,
          0.9979229513871712,
          0.9963404381583494,
          0.9939172147767157,
          0.989021314475049,
          0.9806142129469361,
          0.9635032886603022,
          0.9405568468423905,
          0.9080658721131493,
          0.8642500370901536,
          0.8066366648533698,
          0.7393303990900543,
          0.65956184164977,
          0.5701992977597544,
          0.4807873003313384,
          0.391721477671727,
          0.3040403540873346,
          0.2281291726423024,
          0.16453192225903762,
          0.11379259185994751,
          0.07685079867464512,
          0.0488106424014638,
          0.028633598733989407,
          0.01760545967063942,
          0.009890707680134503,
          0.006181692300084069,
          0.0035112012264477497,
          0.002373769843232281,
          0.001434152613619503,
          0.0008901636912121046,
          0.0005934424608080701,
          0.0004450818456060527,
          0.0003461747688047075,
          0.00004945353840067253
         ],
         "yaxis": "y"
        }
       ],
       "layout": {
        "legend": {
         "title": {
          "text": "variable"
         },
         "tracegroupgap": 0
        },
        "template": {
         "data": {
          "bar": [
           {
            "error_x": {
             "color": "#2a3f5f"
            },
            "error_y": {
             "color": "#2a3f5f"
            },
            "marker": {
             "line": {
              "color": "#E5ECF6",
              "width": 0.5
             }
            },
            "type": "bar"
           }
          ],
          "barpolar": [
           {
            "marker": {
             "line": {
              "color": "#E5ECF6",
              "width": 0.5
             }
            },
            "type": "barpolar"
           }
          ],
          "carpet": [
           {
            "aaxis": {
             "endlinecolor": "#2a3f5f",
             "gridcolor": "white",
             "linecolor": "white",
             "minorgridcolor": "white",
             "startlinecolor": "#2a3f5f"
            },
            "baxis": {
             "endlinecolor": "#2a3f5f",
             "gridcolor": "white",
             "linecolor": "white",
             "minorgridcolor": "white",
             "startlinecolor": "#2a3f5f"
            },
            "type": "carpet"
           }
          ],
          "choropleth": [
           {
            "colorbar": {
             "outlinewidth": 0,
             "ticks": ""
            },
            "type": "choropleth"
           }
          ],
          "contour": [
           {
            "colorbar": {
             "outlinewidth": 0,
             "ticks": ""
            },
            "colorscale": [
             [
              0,
              "#0d0887"
             ],
             [
              0.1111111111111111,
              "#46039f"
             ],
             [
              0.2222222222222222,
              "#7201a8"
             ],
             [
              0.3333333333333333,
              "#9c179e"
             ],
             [
              0.4444444444444444,
              "#bd3786"
             ],
             [
              0.5555555555555556,
              "#d8576b"
             ],
             [
              0.6666666666666666,
              "#ed7953"
             ],
             [
              0.7777777777777778,
              "#fb9f3a"
             ],
             [
              0.8888888888888888,
              "#fdca26"
             ],
             [
              1,
              "#f0f921"
             ]
            ],
            "type": "contour"
           }
          ],
          "contourcarpet": [
           {
            "colorbar": {
             "outlinewidth": 0,
             "ticks": ""
            },
            "type": "contourcarpet"
           }
          ],
          "heatmap": [
           {
            "colorbar": {
             "outlinewidth": 0,
             "ticks": ""
            },
            "colorscale": [
             [
              0,
              "#0d0887"
             ],
             [
              0.1111111111111111,
              "#46039f"
             ],
             [
              0.2222222222222222,
              "#7201a8"
             ],
             [
              0.3333333333333333,
              "#9c179e"
             ],
             [
              0.4444444444444444,
              "#bd3786"
             ],
             [
              0.5555555555555556,
              "#d8576b"
             ],
             [
              0.6666666666666666,
              "#ed7953"
             ],
             [
              0.7777777777777778,
              "#fb9f3a"
             ],
             [
              0.8888888888888888,
              "#fdca26"
             ],
             [
              1,
              "#f0f921"
             ]
            ],
            "type": "heatmap"
           }
          ],
          "heatmapgl": [
           {
            "colorbar": {
             "outlinewidth": 0,
             "ticks": ""
            },
            "colorscale": [
             [
              0,
              "#0d0887"
             ],
             [
              0.1111111111111111,
              "#46039f"
             ],
             [
              0.2222222222222222,
              "#7201a8"
             ],
             [
              0.3333333333333333,
              "#9c179e"
             ],
             [
              0.4444444444444444,
              "#bd3786"
             ],
             [
              0.5555555555555556,
              "#d8576b"
             ],
             [
              0.6666666666666666,
              "#ed7953"
             ],
             [
              0.7777777777777778,
              "#fb9f3a"
             ],
             [
              0.8888888888888888,
              "#fdca26"
             ],
             [
              1,
              "#f0f921"
             ]
            ],
            "type": "heatmapgl"
           }
          ],
          "histogram": [
           {
            "marker": {
             "colorbar": {
              "outlinewidth": 0,
              "ticks": ""
             }
            },
            "type": "histogram"
           }
          ],
          "histogram2d": [
           {
            "colorbar": {
             "outlinewidth": 0,
             "ticks": ""
            },
            "colorscale": [
             [
              0,
              "#0d0887"
             ],
             [
              0.1111111111111111,
              "#46039f"
             ],
             [
              0.2222222222222222,
              "#7201a8"
             ],
             [
              0.3333333333333333,
              "#9c179e"
             ],
             [
              0.4444444444444444,
              "#bd3786"
             ],
             [
              0.5555555555555556,
              "#d8576b"
             ],
             [
              0.6666666666666666,
              "#ed7953"
             ],
             [
              0.7777777777777778,
              "#fb9f3a"
             ],
             [
              0.8888888888888888,
              "#fdca26"
             ],
             [
              1,
              "#f0f921"
             ]
            ],
            "type": "histogram2d"
           }
          ],
          "histogram2dcontour": [
           {
            "colorbar": {
             "outlinewidth": 0,
             "ticks": ""
            },
            "colorscale": [
             [
              0,
              "#0d0887"
             ],
             [
              0.1111111111111111,
              "#46039f"
             ],
             [
              0.2222222222222222,
              "#7201a8"
             ],
             [
              0.3333333333333333,
              "#9c179e"
             ],
             [
              0.4444444444444444,
              "#bd3786"
             ],
             [
              0.5555555555555556,
              "#d8576b"
             ],
             [
              0.6666666666666666,
              "#ed7953"
             ],
             [
              0.7777777777777778,
              "#fb9f3a"
             ],
             [
              0.8888888888888888,
              "#fdca26"
             ],
             [
              1,
              "#f0f921"
             ]
            ],
            "type": "histogram2dcontour"
           }
          ],
          "mesh3d": [
           {
            "colorbar": {
             "outlinewidth": 0,
             "ticks": ""
            },
            "type": "mesh3d"
           }
          ],
          "parcoords": [
           {
            "line": {
             "colorbar": {
              "outlinewidth": 0,
              "ticks": ""
             }
            },
            "type": "parcoords"
           }
          ],
          "pie": [
           {
            "automargin": true,
            "type": "pie"
           }
          ],
          "scatter": [
           {
            "marker": {
             "colorbar": {
              "outlinewidth": 0,
              "ticks": ""
             }
            },
            "type": "scatter"
           }
          ],
          "scatter3d": [
           {
            "line": {
             "colorbar": {
              "outlinewidth": 0,
              "ticks": ""
             }
            },
            "marker": {
             "colorbar": {
              "outlinewidth": 0,
              "ticks": ""
             }
            },
            "type": "scatter3d"
           }
          ],
          "scattercarpet": [
           {
            "marker": {
             "colorbar": {
              "outlinewidth": 0,
              "ticks": ""
             }
            },
            "type": "scattercarpet"
           }
          ],
          "scattergeo": [
           {
            "marker": {
             "colorbar": {
              "outlinewidth": 0,
              "ticks": ""
             }
            },
            "type": "scattergeo"
           }
          ],
          "scattergl": [
           {
            "marker": {
             "colorbar": {
              "outlinewidth": 0,
              "ticks": ""
             }
            },
            "type": "scattergl"
           }
          ],
          "scattermapbox": [
           {
            "marker": {
             "colorbar": {
              "outlinewidth": 0,
              "ticks": ""
             }
            },
            "type": "scattermapbox"
           }
          ],
          "scatterpolar": [
           {
            "marker": {
             "colorbar": {
              "outlinewidth": 0,
              "ticks": ""
             }
            },
            "type": "scatterpolar"
           }
          ],
          "scatterpolargl": [
           {
            "marker": {
             "colorbar": {
              "outlinewidth": 0,
              "ticks": ""
             }
            },
            "type": "scatterpolargl"
           }
          ],
          "scatterternary": [
           {
            "marker": {
             "colorbar": {
              "outlinewidth": 0,
              "ticks": ""
             }
            },
            "type": "scatterternary"
           }
          ],
          "surface": [
           {
            "colorbar": {
             "outlinewidth": 0,
             "ticks": ""
            },
            "colorscale": [
             [
              0,
              "#0d0887"
             ],
             [
              0.1111111111111111,
              "#46039f"
             ],
             [
              0.2222222222222222,
              "#7201a8"
             ],
             [
              0.3333333333333333,
              "#9c179e"
             ],
             [
              0.4444444444444444,
              "#bd3786"
             ],
             [
              0.5555555555555556,
              "#d8576b"
             ],
             [
              0.6666666666666666,
              "#ed7953"
             ],
             [
              0.7777777777777778,
              "#fb9f3a"
             ],
             [
              0.8888888888888888,
              "#fdca26"
             ],
             [
              1,
              "#f0f921"
             ]
            ],
            "type": "surface"
           }
          ],
          "table": [
           {
            "cells": {
             "fill": {
              "color": "#EBF0F8"
             },
             "line": {
              "color": "white"
             }
            },
            "header": {
             "fill": {
              "color": "#C8D4E3"
             },
             "line": {
              "color": "white"
             }
            },
            "type": "table"
           }
          ]
         },
         "layout": {
          "annotationdefaults": {
           "arrowcolor": "#2a3f5f",
           "arrowhead": 0,
           "arrowwidth": 1
          },
          "autotypenumbers": "strict",
          "coloraxis": {
           "colorbar": {
            "outlinewidth": 0,
            "ticks": ""
           }
          },
          "colorscale": {
           "diverging": [
            [
             0,
             "#8e0152"
            ],
            [
             0.1,
             "#c51b7d"
            ],
            [
             0.2,
             "#de77ae"
            ],
            [
             0.3,
             "#f1b6da"
            ],
            [
             0.4,
             "#fde0ef"
            ],
            [
             0.5,
             "#f7f7f7"
            ],
            [
             0.6,
             "#e6f5d0"
            ],
            [
             0.7,
             "#b8e186"
            ],
            [
             0.8,
             "#7fbc41"
            ],
            [
             0.9,
             "#4d9221"
            ],
            [
             1,
             "#276419"
            ]
           ],
           "sequential": [
            [
             0,
             "#0d0887"
            ],
            [
             0.1111111111111111,
             "#46039f"
            ],
            [
             0.2222222222222222,
             "#7201a8"
            ],
            [
             0.3333333333333333,
             "#9c179e"
            ],
            [
             0.4444444444444444,
             "#bd3786"
            ],
            [
             0.5555555555555556,
             "#d8576b"
            ],
            [
             0.6666666666666666,
             "#ed7953"
            ],
            [
             0.7777777777777778,
             "#fb9f3a"
            ],
            [
             0.8888888888888888,
             "#fdca26"
            ],
            [
             1,
             "#f0f921"
            ]
           ],
           "sequentialminus": [
            [
             0,
             "#0d0887"
            ],
            [
             0.1111111111111111,
             "#46039f"
            ],
            [
             0.2222222222222222,
             "#7201a8"
            ],
            [
             0.3333333333333333,
             "#9c179e"
            ],
            [
             0.4444444444444444,
             "#bd3786"
            ],
            [
             0.5555555555555556,
             "#d8576b"
            ],
            [
             0.6666666666666666,
             "#ed7953"
            ],
            [
             0.7777777777777778,
             "#fb9f3a"
            ],
            [
             0.8888888888888888,
             "#fdca26"
            ],
            [
             1,
             "#f0f921"
            ]
           ]
          },
          "colorway": [
           "#636efa",
           "#EF553B",
           "#00cc96",
           "#ab63fa",
           "#FFA15A",
           "#19d3f3",
           "#FF6692",
           "#B6E880",
           "#FF97FF",
           "#FECB52"
          ],
          "font": {
           "color": "#2a3f5f"
          },
          "geo": {
           "bgcolor": "white",
           "lakecolor": "white",
           "landcolor": "#E5ECF6",
           "showlakes": true,
           "showland": true,
           "subunitcolor": "white"
          },
          "hoverlabel": {
           "align": "left"
          },
          "hovermode": "closest",
          "mapbox": {
           "style": "light"
          },
          "paper_bgcolor": "white",
          "plot_bgcolor": "#E5ECF6",
          "polar": {
           "angularaxis": {
            "gridcolor": "white",
            "linecolor": "white",
            "ticks": ""
           },
           "bgcolor": "#E5ECF6",
           "radialaxis": {
            "gridcolor": "white",
            "linecolor": "white",
            "ticks": ""
           }
          },
          "scene": {
           "xaxis": {
            "backgroundcolor": "#E5ECF6",
            "gridcolor": "white",
            "gridwidth": 2,
            "linecolor": "white",
            "showbackground": true,
            "ticks": "",
            "zerolinecolor": "white"
           },
           "yaxis": {
            "backgroundcolor": "#E5ECF6",
            "gridcolor": "white",
            "gridwidth": 2,
            "linecolor": "white",
            "showbackground": true,
            "ticks": "",
            "zerolinecolor": "white"
           },
           "zaxis": {
            "backgroundcolor": "#E5ECF6",
            "gridcolor": "white",
            "gridwidth": 2,
            "linecolor": "white",
            "showbackground": true,
            "ticks": "",
            "zerolinecolor": "white"
           }
          },
          "shapedefaults": {
           "line": {
            "color": "#2a3f5f"
           }
          },
          "ternary": {
           "aaxis": {
            "gridcolor": "white",
            "linecolor": "white",
            "ticks": ""
           },
           "baxis": {
            "gridcolor": "white",
            "linecolor": "white",
            "ticks": ""
           },
           "bgcolor": "#E5ECF6",
           "caxis": {
            "gridcolor": "white",
            "linecolor": "white",
            "ticks": ""
           }
          },
          "title": {
           "x": 0.05
          },
          "xaxis": {
           "automargin": true,
           "gridcolor": "white",
           "linecolor": "white",
           "ticks": "",
           "title": {
            "standoff": 15
           },
           "zerolinecolor": "white",
           "zerolinewidth": 2
          },
          "yaxis": {
           "automargin": true,
           "gridcolor": "white",
           "linecolor": "white",
           "ticks": "",
           "title": {
            "standoff": 15
           },
           "zerolinecolor": "white",
           "zerolinewidth": 2
          }
         }
        },
        "title": {
         "text": "Tasa de Mortalidad Materna por nivel de escolaridad"
        },
        "xaxis": {
         "anchor": "y",
         "domain": [
          0,
          1
         ],
         "title": {
          "text": "timeline"
         }
        },
        "yaxis": {
         "anchor": "x",
         "domain": [
          0,
          1
         ],
         "title": {
          "text": "value"
         }
        }
       }
      },
      "text/html": [
       "<div>                            <div id=\"a0ca21fa-9f1b-4ae5-a67f-9f34df82ea75\" class=\"plotly-graph-div\" style=\"height:525px; width:100%;\"></div>            <script type=\"text/javascript\">                require([\"plotly\"], function(Plotly) {                    window.PLOTLYENV=window.PLOTLYENV || {};                                    if (document.getElementById(\"a0ca21fa-9f1b-4ae5-a67f-9f34df82ea75\")) {                    Plotly.newPlot(                        \"a0ca21fa-9f1b-4ae5-a67f-9f34df82ea75\",                        [{\"hovertemplate\": \"variable=LICENCIATURA<br>timeline=%{x}<br>value=%{y}<extra></extra>\", \"legendgroup\": \"LICENCIATURA\", \"line\": {\"color\": \"#636efa\", \"dash\": \"solid\"}, \"mode\": \"lines\", \"name\": \"LICENCIATURA\", \"orientation\": \"v\", \"showlegend\": true, \"type\": \"scatter\", \"x\": [0.0, 17.0, 18.0, 19.0, 20.0, 21.0, 22.0, 23.0, 24.0, 25.0, 26.0, 27.0, 28.0, 29.0, 30.0, 31.0, 32.0, 33.0, 34.0, 35.0, 36.0, 37.0, 38.0, 39.0, 40.0, 41.0, 42.0, 43.0, 44.0, 45.0, 46.0, 47.0, 48.0, 49.0, 50.0, 51.0, 52.0], \"xaxis\": \"x\", \"y\": [1.0, 0.9996312556896088, 0.9982292590928126, 0.994138501899418, 0.9853232082291434, 0.9706310521120217, 0.9446998767011217, 0.9060278171489148, 0.8558862731089368, 0.7953046557810273, 0.7268680164244858, 0.6542791624894847, 0.5802499010920207, 0.5055330851991414, 0.43159985096584125, 0.3621261182363267, 0.2976726856493165, 0.24101665879243936, 0.19010305635258098, 0.14493571941630853, 0.10592180315967777, 0.07484357174957648, 0.05097505982492324, 0.03295652274115302, 0.02040001075504237, 0.012360616571215668, 0.007324952082445078, 0.004363474339621193, 0.002504388441402304, 0.001482659414695229, 0.0008949731700103321, 0.0006184149372174401, 0.0004378838685887464, 0.0003111280118920038, 0.00023046519399407675, 0.00017284889549555775, 0.00011523259699703857], \"yaxis\": \"y\"}, {\"hovertemplate\": \"variable=PRIMARIA<br>timeline=%{x}<br>value=%{y}<extra></extra>\", \"legendgroup\": \"PRIMARIA\", \"line\": {\"color\": \"#EF553B\", \"dash\": \"solid\"}, \"mode\": \"lines\", \"name\": \"PRIMARIA\", \"orientation\": \"v\", \"showlegend\": true, \"type\": \"scatter\", \"x\": [0.0, 17.0, 18.0, 19.0, 20.0, 21.0, 22.0, 23.0, 24.0, 25.0, 26.0, 27.0, 28.0, 29.0, 30.0, 31.0, 32.0, 33.0, 34.0, 35.0, 36.0, 37.0, 38.0, 39.0, 40.0, 41.0, 42.0, 43.0, 44.0, 45.0, 46.0, 47.0, 48.0, 49.0, 50.0, 51.0, 52.0], \"xaxis\": \"x\", \"y\": [1.0, 0.8364423462423825, 0.7826468879088603, 0.7263062584182108, 0.6703890733324627, 0.6181297271486427, 0.5680011171724727, 0.5191068025893181, 0.4713206510232494, 0.42437688353927516, 0.3797890886485372, 0.33770141763781086, 0.29712283041051585, 0.2608597723310615, 0.22661032753875213, 0.19665839298343613, 0.1679227349102885, 0.1410835672037806, 0.11570393127587406, 0.09248656464959991, 0.07236394596128644, 0.05446215803485758, 0.039177616908946, 0.026803129884814123, 0.017595466442030923, 0.011036582893746993, 0.006396713350661526, 0.003513687615152105, 0.001797386356981654, 0.0009279739086170944, 0.0005856146025253506, 0.00036488294465041103, 0.0002162269301632064, 0.00017568438075760506, 0.0001261323759285369, 0.0001081134650816032, 7.658037109946889e-05], \"yaxis\": \"y\"}, {\"hovertemplate\": \"variable=SECUNDARIA<br>timeline=%{x}<br>value=%{y}<extra></extra>\", \"legendgroup\": \"SECUNDARIA\", \"line\": {\"color\": \"#00cc96\", \"dash\": \"solid\"}, \"mode\": \"lines\", \"name\": \"SECUNDARIA\", \"orientation\": \"v\", \"showlegend\": true, \"type\": \"scatter\", \"x\": [0.0, 17.0, 18.0, 19.0, 20.0, 21.0, 22.0, 23.0, 24.0, 25.0, 26.0, 27.0, 28.0, 29.0, 30.0, 31.0, 32.0, 33.0, 34.0, 35.0, 36.0, 37.0, 38.0, 39.0, 40.0, 41.0, 42.0, 43.0, 44.0, 45.0, 46.0, 47.0, 48.0, 49.0, 50.0, 51.0, 52.0], \"xaxis\": \"x\", \"y\": [1.0, 0.8919826008990336, 0.8308161583851309, 0.7659269625483136, 0.7014557813238345, 0.6404983461160991, 0.5817006530721047, 0.5256594331964185, 0.46928652781311747, 0.41416766626682655, 0.36182042334581316, 0.3124492627191547, 0.2668387190578313, 0.2257354633904013, 0.1886608992766528, 0.15711897059358076, 0.12884846061575372, 0.10398567845589043, 0.0824518677377534, 0.06383961566888392, 0.048217076805641405, 0.03511019834490446, 0.02434177844013909, 0.01636163716331649, 0.010344347109640994, 0.006297481007596964, 0.0035425223849853997, 0.0018916675753940845, 0.0009859692486641702, 0.0005028291713617581, 0.00031956914204015336, 0.00018931821210909565, 0.00012419274714356673, 8.330001332800208e-05, 6.058182787491061e-05, 4.240727951243746e-05, 3.0290913937455355e-05], \"yaxis\": \"y\"}, {\"hovertemplate\": \"variable=PREPARATORIA<br>timeline=%{x}<br>value=%{y}<extra></extra>\", \"legendgroup\": \"PREPARATORIA\", \"line\": {\"color\": \"#ab63fa\", \"dash\": \"solid\"}, \"mode\": \"lines\", \"name\": \"PREPARATORIA\", \"orientation\": \"v\", \"showlegend\": true, \"type\": \"scatter\", \"x\": [0.0, 17.0, 18.0, 19.0, 20.0, 21.0, 22.0, 23.0, 24.0, 25.0, 26.0, 27.0, 28.0, 29.0, 30.0, 31.0, 32.0, 33.0, 34.0, 35.0, 36.0, 37.0, 38.0, 39.0, 40.0, 41.0, 42.0, 43.0, 44.0, 45.0, 46.0, 47.0, 48.0, 49.0, 50.0, 51.0, 52.0], \"xaxis\": \"x\", \"y\": [1.0, 0.9793467839169107, 0.9418858250381673, 0.8769633723298758, 0.7988194047232046, 0.7213852756848402, 0.6486257936818196, 0.5810594494944721, 0.5151288202688749, 0.45100056375584896, 0.3901067021105867, 0.33396361511524114, 0.28163513886088404, 0.23440515527975908, 0.19179015114417775, 0.15563364922864215, 0.12418265689489864, 0.09715529621872093, 0.07523671573125724, 0.05682617802339795, 0.04180640541864018, 0.029609527062338274, 0.020270520507133363, 0.01330587252533817, 0.008369922596733508, 0.004981214996728572, 0.0029010793661244493, 0.0016315999555579338, 0.0008703238098373341, 0.0005082032648459141, 0.0003230279861571193, 0.00020986531584730062, 0.0001563702353372043, 0.00011316267030981884, 8.230012386168643e-05, 4.5265068123927575e-05, 3.29200495446746e-05], \"yaxis\": \"y\"}, {\"hovertemplate\": \"variable=NINGUNA<br>timeline=%{x}<br>value=%{y}<extra></extra>\", \"legendgroup\": \"NINGUNA\", \"line\": {\"color\": \"#FFA15A\", \"dash\": \"solid\"}, \"mode\": \"lines\", \"name\": \"NINGUNA\", \"orientation\": \"v\", \"showlegend\": true, \"type\": \"scatter\", \"x\": [0.0, 17.0, 18.0, 19.0, 20.0, 21.0, 22.0, 23.0, 24.0, 25.0, 26.0, 27.0, 28.0, 29.0, 30.0, 31.0, 32.0, 33.0, 34.0, 35.0, 36.0, 37.0, 38.0, 39.0, 40.0, 41.0, 42.0, 43.0, 44.0, 45.0, 46.0, 47.0, 48.0, 49.0, 50.0, 51.0, 52.0], \"xaxis\": \"x\", \"y\": [1.0, 0.8801385897555951, 0.8336922932858879, 0.785359784891576, 0.7352614610784851, 0.6902331678996151, 0.6466496327906565, 0.6036814576003631, 0.5599909033751154, 0.5175578237662696, 0.47528527283185956, 0.433668213984723, 0.39409789573662546, 0.3557047877677146, 0.317980549275614, 0.28353377121988416, 0.2503578451700933, 0.2179176755447939, 0.185370486803205, 0.15495030299787274, 0.12693804930905783, 0.10049095019597871, 0.07503377790857887, 0.05453961713911139, 0.036827953393174816, 0.023664602089548223, 0.01446095808863857, 0.008186962396158008, 0.004307519430658299, 0.0021136275467205316, 0.0012173424477947361, 0.0007758885930999417, 0.0005350955814482356, 0.0003745669070137648, 0.00025417040118791195, 0.00018728345350688258, 0.0001337738953620591], \"yaxis\": \"y\"}, {\"hovertemplate\": \"variable=POSGRADO<br>timeline=%{x}<br>value=%{y}<extra></extra>\", \"legendgroup\": \"POSGRADO\", \"line\": {\"color\": \"#19d3f3\", \"dash\": \"solid\"}, \"mode\": \"lines\", \"name\": \"POSGRADO\", \"orientation\": \"v\", \"showlegend\": true, \"type\": \"scatter\", \"x\": [0.0, 17.0, 18.0, 19.0, 20.0, 21.0, 22.0, 23.0, 24.0, 25.0, 26.0, 27.0, 28.0, 29.0, 30.0, 31.0, 32.0, 33.0, 34.0, 35.0, 36.0, 37.0, 38.0, 39.0, 40.0, 41.0, 42.0, 43.0, 44.0, 45.0, 46.0, 47.0, 48.0, 49.0, 50.0, 51.0, 52.0], \"xaxis\": \"x\", \"y\": [1.0, 0.9998516393847964, 0.9994560110775914, 0.9988625686167834, 0.9979229513871712, 0.9963404381583494, 0.9939172147767157, 0.989021314475049, 0.9806142129469361, 0.9635032886603022, 0.9405568468423905, 0.9080658721131493, 0.8642500370901536, 0.8066366648533698, 0.7393303990900543, 0.65956184164977, 0.5701992977597544, 0.4807873003313384, 0.391721477671727, 0.3040403540873346, 0.2281291726423024, 0.16453192225903762, 0.11379259185994751, 0.07685079867464512, 0.0488106424014638, 0.028633598733989407, 0.01760545967063942, 0.009890707680134503, 0.006181692300084069, 0.0035112012264477497, 0.002373769843232281, 0.001434152613619503, 0.0008901636912121046, 0.0005934424608080701, 0.0004450818456060527, 0.0003461747688047075, 4.945353840067253e-05], \"yaxis\": \"y\"}],                        {\"legend\": {\"title\": {\"text\": \"variable\"}, \"tracegroupgap\": 0}, \"template\": {\"data\": {\"bar\": [{\"error_x\": {\"color\": \"#2a3f5f\"}, \"error_y\": {\"color\": \"#2a3f5f\"}, \"marker\": {\"line\": {\"color\": \"#E5ECF6\", \"width\": 0.5}}, \"type\": \"bar\"}], \"barpolar\": [{\"marker\": {\"line\": {\"color\": \"#E5ECF6\", \"width\": 0.5}}, \"type\": \"barpolar\"}], \"carpet\": [{\"aaxis\": {\"endlinecolor\": \"#2a3f5f\", \"gridcolor\": \"white\", \"linecolor\": \"white\", \"minorgridcolor\": \"white\", \"startlinecolor\": \"#2a3f5f\"}, \"baxis\": {\"endlinecolor\": \"#2a3f5f\", \"gridcolor\": \"white\", \"linecolor\": \"white\", \"minorgridcolor\": \"white\", \"startlinecolor\": \"#2a3f5f\"}, \"type\": \"carpet\"}], \"choropleth\": [{\"colorbar\": {\"outlinewidth\": 0, \"ticks\": \"\"}, \"type\": \"choropleth\"}], \"contour\": [{\"colorbar\": {\"outlinewidth\": 0, \"ticks\": \"\"}, \"colorscale\": [[0.0, \"#0d0887\"], [0.1111111111111111, \"#46039f\"], [0.2222222222222222, \"#7201a8\"], [0.3333333333333333, \"#9c179e\"], [0.4444444444444444, \"#bd3786\"], [0.5555555555555556, \"#d8576b\"], [0.6666666666666666, \"#ed7953\"], [0.7777777777777778, \"#fb9f3a\"], [0.8888888888888888, \"#fdca26\"], [1.0, \"#f0f921\"]], \"type\": \"contour\"}], \"contourcarpet\": [{\"colorbar\": {\"outlinewidth\": 0, \"ticks\": \"\"}, \"type\": \"contourcarpet\"}], \"heatmap\": [{\"colorbar\": {\"outlinewidth\": 0, \"ticks\": \"\"}, \"colorscale\": [[0.0, \"#0d0887\"], [0.1111111111111111, \"#46039f\"], [0.2222222222222222, \"#7201a8\"], [0.3333333333333333, \"#9c179e\"], [0.4444444444444444, \"#bd3786\"], [0.5555555555555556, \"#d8576b\"], [0.6666666666666666, \"#ed7953\"], [0.7777777777777778, \"#fb9f3a\"], [0.8888888888888888, \"#fdca26\"], [1.0, \"#f0f921\"]], \"type\": \"heatmap\"}], \"heatmapgl\": [{\"colorbar\": {\"outlinewidth\": 0, \"ticks\": \"\"}, \"colorscale\": [[0.0, \"#0d0887\"], [0.1111111111111111, \"#46039f\"], [0.2222222222222222, \"#7201a8\"], [0.3333333333333333, \"#9c179e\"], [0.4444444444444444, \"#bd3786\"], [0.5555555555555556, \"#d8576b\"], [0.6666666666666666, \"#ed7953\"], [0.7777777777777778, \"#fb9f3a\"], [0.8888888888888888, \"#fdca26\"], [1.0, \"#f0f921\"]], \"type\": \"heatmapgl\"}], \"histogram\": [{\"marker\": {\"colorbar\": {\"outlinewidth\": 0, \"ticks\": \"\"}}, \"type\": \"histogram\"}], \"histogram2d\": [{\"colorbar\": {\"outlinewidth\": 0, \"ticks\": \"\"}, \"colorscale\": [[0.0, \"#0d0887\"], [0.1111111111111111, \"#46039f\"], [0.2222222222222222, \"#7201a8\"], [0.3333333333333333, \"#9c179e\"], [0.4444444444444444, \"#bd3786\"], [0.5555555555555556, \"#d8576b\"], [0.6666666666666666, \"#ed7953\"], [0.7777777777777778, \"#fb9f3a\"], [0.8888888888888888, \"#fdca26\"], [1.0, \"#f0f921\"]], \"type\": \"histogram2d\"}], \"histogram2dcontour\": [{\"colorbar\": {\"outlinewidth\": 0, \"ticks\": \"\"}, \"colorscale\": [[0.0, \"#0d0887\"], [0.1111111111111111, \"#46039f\"], [0.2222222222222222, \"#7201a8\"], [0.3333333333333333, \"#9c179e\"], [0.4444444444444444, \"#bd3786\"], [0.5555555555555556, \"#d8576b\"], [0.6666666666666666, \"#ed7953\"], [0.7777777777777778, \"#fb9f3a\"], [0.8888888888888888, \"#fdca26\"], [1.0, \"#f0f921\"]], \"type\": \"histogram2dcontour\"}], \"mesh3d\": [{\"colorbar\": {\"outlinewidth\": 0, \"ticks\": \"\"}, \"type\": \"mesh3d\"}], \"parcoords\": [{\"line\": {\"colorbar\": {\"outlinewidth\": 0, \"ticks\": \"\"}}, \"type\": \"parcoords\"}], \"pie\": [{\"automargin\": true, \"type\": \"pie\"}], \"scatter\": [{\"marker\": {\"colorbar\": {\"outlinewidth\": 0, \"ticks\": \"\"}}, \"type\": \"scatter\"}], \"scatter3d\": [{\"line\": {\"colorbar\": {\"outlinewidth\": 0, \"ticks\": \"\"}}, \"marker\": {\"colorbar\": {\"outlinewidth\": 0, \"ticks\": \"\"}}, \"type\": \"scatter3d\"}], \"scattercarpet\": [{\"marker\": {\"colorbar\": {\"outlinewidth\": 0, \"ticks\": \"\"}}, \"type\": \"scattercarpet\"}], \"scattergeo\": [{\"marker\": {\"colorbar\": {\"outlinewidth\": 0, \"ticks\": \"\"}}, \"type\": \"scattergeo\"}], \"scattergl\": [{\"marker\": {\"colorbar\": {\"outlinewidth\": 0, \"ticks\": \"\"}}, \"type\": \"scattergl\"}], \"scattermapbox\": [{\"marker\": {\"colorbar\": {\"outlinewidth\": 0, \"ticks\": \"\"}}, \"type\": \"scattermapbox\"}], \"scatterpolar\": [{\"marker\": {\"colorbar\": {\"outlinewidth\": 0, \"ticks\": \"\"}}, \"type\": \"scatterpolar\"}], \"scatterpolargl\": [{\"marker\": {\"colorbar\": {\"outlinewidth\": 0, \"ticks\": \"\"}}, \"type\": \"scatterpolargl\"}], \"scatterternary\": [{\"marker\": {\"colorbar\": {\"outlinewidth\": 0, \"ticks\": \"\"}}, \"type\": \"scatterternary\"}], \"surface\": [{\"colorbar\": {\"outlinewidth\": 0, \"ticks\": \"\"}, \"colorscale\": [[0.0, \"#0d0887\"], [0.1111111111111111, \"#46039f\"], [0.2222222222222222, \"#7201a8\"], [0.3333333333333333, \"#9c179e\"], [0.4444444444444444, \"#bd3786\"], [0.5555555555555556, \"#d8576b\"], [0.6666666666666666, \"#ed7953\"], [0.7777777777777778, \"#fb9f3a\"], [0.8888888888888888, \"#fdca26\"], [1.0, \"#f0f921\"]], \"type\": \"surface\"}], \"table\": [{\"cells\": {\"fill\": {\"color\": \"#EBF0F8\"}, \"line\": {\"color\": \"white\"}}, \"header\": {\"fill\": {\"color\": \"#C8D4E3\"}, \"line\": {\"color\": \"white\"}}, \"type\": \"table\"}]}, \"layout\": {\"annotationdefaults\": {\"arrowcolor\": \"#2a3f5f\", \"arrowhead\": 0, \"arrowwidth\": 1}, \"autotypenumbers\": \"strict\", \"coloraxis\": {\"colorbar\": {\"outlinewidth\": 0, \"ticks\": \"\"}}, \"colorscale\": {\"diverging\": [[0, \"#8e0152\"], [0.1, \"#c51b7d\"], [0.2, \"#de77ae\"], [0.3, \"#f1b6da\"], [0.4, \"#fde0ef\"], [0.5, \"#f7f7f7\"], [0.6, \"#e6f5d0\"], [0.7, \"#b8e186\"], [0.8, \"#7fbc41\"], [0.9, \"#4d9221\"], [1, \"#276419\"]], \"sequential\": [[0.0, \"#0d0887\"], [0.1111111111111111, \"#46039f\"], [0.2222222222222222, \"#7201a8\"], [0.3333333333333333, \"#9c179e\"], [0.4444444444444444, \"#bd3786\"], [0.5555555555555556, \"#d8576b\"], [0.6666666666666666, \"#ed7953\"], [0.7777777777777778, \"#fb9f3a\"], [0.8888888888888888, \"#fdca26\"], [1.0, \"#f0f921\"]], \"sequentialminus\": [[0.0, \"#0d0887\"], [0.1111111111111111, \"#46039f\"], [0.2222222222222222, \"#7201a8\"], [0.3333333333333333, \"#9c179e\"], [0.4444444444444444, \"#bd3786\"], [0.5555555555555556, \"#d8576b\"], [0.6666666666666666, \"#ed7953\"], [0.7777777777777778, \"#fb9f3a\"], [0.8888888888888888, \"#fdca26\"], [1.0, \"#f0f921\"]]}, \"colorway\": [\"#636efa\", \"#EF553B\", \"#00cc96\", \"#ab63fa\", \"#FFA15A\", \"#19d3f3\", \"#FF6692\", \"#B6E880\", \"#FF97FF\", \"#FECB52\"], \"font\": {\"color\": \"#2a3f5f\"}, \"geo\": {\"bgcolor\": \"white\", \"lakecolor\": \"white\", \"landcolor\": \"#E5ECF6\", \"showlakes\": true, \"showland\": true, \"subunitcolor\": \"white\"}, \"hoverlabel\": {\"align\": \"left\"}, \"hovermode\": \"closest\", \"mapbox\": {\"style\": \"light\"}, \"paper_bgcolor\": \"white\", \"plot_bgcolor\": \"#E5ECF6\", \"polar\": {\"angularaxis\": {\"gridcolor\": \"white\", \"linecolor\": \"white\", \"ticks\": \"\"}, \"bgcolor\": \"#E5ECF6\", \"radialaxis\": {\"gridcolor\": \"white\", \"linecolor\": \"white\", \"ticks\": \"\"}}, \"scene\": {\"xaxis\": {\"backgroundcolor\": \"#E5ECF6\", \"gridcolor\": \"white\", \"gridwidth\": 2, \"linecolor\": \"white\", \"showbackground\": true, \"ticks\": \"\", \"zerolinecolor\": \"white\"}, \"yaxis\": {\"backgroundcolor\": \"#E5ECF6\", \"gridcolor\": \"white\", \"gridwidth\": 2, \"linecolor\": \"white\", \"showbackground\": true, \"ticks\": \"\", \"zerolinecolor\": \"white\"}, \"zaxis\": {\"backgroundcolor\": \"#E5ECF6\", \"gridcolor\": \"white\", \"gridwidth\": 2, \"linecolor\": \"white\", \"showbackground\": true, \"ticks\": \"\", \"zerolinecolor\": \"white\"}}, \"shapedefaults\": {\"line\": {\"color\": \"#2a3f5f\"}}, \"ternary\": {\"aaxis\": {\"gridcolor\": \"white\", \"linecolor\": \"white\", \"ticks\": \"\"}, \"baxis\": {\"gridcolor\": \"white\", \"linecolor\": \"white\", \"ticks\": \"\"}, \"bgcolor\": \"#E5ECF6\", \"caxis\": {\"gridcolor\": \"white\", \"linecolor\": \"white\", \"ticks\": \"\"}}, \"title\": {\"x\": 0.05}, \"xaxis\": {\"automargin\": true, \"gridcolor\": \"white\", \"linecolor\": \"white\", \"ticks\": \"\", \"title\": {\"standoff\": 15}, \"zerolinecolor\": \"white\", \"zerolinewidth\": 2}, \"yaxis\": {\"automargin\": true, \"gridcolor\": \"white\", \"linecolor\": \"white\", \"ticks\": \"\", \"title\": {\"standoff\": 15}, \"zerolinecolor\": \"white\", \"zerolinewidth\": 2}}}, \"title\": {\"text\": \"Tasa de Mortalidad Materna por nivel de escolaridad\"}, \"xaxis\": {\"anchor\": \"y\", \"domain\": [0.0, 1.0], \"title\": {\"text\": \"timeline\"}}, \"yaxis\": {\"anchor\": \"x\", \"domain\": [0.0, 1.0], \"title\": {\"text\": \"value\"}}},                        {\"responsive\": true}                    ).then(function(){\n",
       "                            \n",
       "var gd = document.getElementById('a0ca21fa-9f1b-4ae5-a67f-9f34df82ea75');\n",
       "var x = new MutationObserver(function (mutations, observer) {{\n",
       "        var display = window.getComputedStyle(gd).display;\n",
       "        if (!display || display === 'none') {{\n",
       "            console.log([gd, 'removed!']);\n",
       "            Plotly.purge(gd);\n",
       "            observer.disconnect();\n",
       "        }}\n",
       "}});\n",
       "\n",
       "// Listen for the removal of the full notebook cells\n",
       "var notebookContainer = gd.closest('#notebook-container');\n",
       "if (notebookContainer) {{\n",
       "    x.observe(notebookContainer, {childList: true});\n",
       "}}\n",
       "\n",
       "// Listen for the clearing of the current output cell\n",
       "var outputEl = gd.closest('.output');\n",
       "if (outputEl) {{\n",
       "    x.observe(outputEl, {childList: true});\n",
       "}}\n",
       "\n",
       "                        })                };                });            </script>        </div>"
      ]
     },
     "metadata": {},
     "output_type": "display_data"
    }
   ],
   "source": [
    "rates, logrank = survival(data_escolaridad, 'ESCOLARIDAD', 'EDAD', 'SOBREVIVIOPARTO')\n",
    "rates.dropna().plot(kind='line',\n",
    "           title='Tasa de Mortalidad Materna por nivel de escolaridad')"
   ]
  },
  {
   "cell_type": "markdown",
   "metadata": {},
   "source": [
    "### Prueba de hipótesis"
   ]
  },
  {
   "cell_type": "code",
   "execution_count": 25,
   "metadata": {},
   "outputs": [],
   "source": [
    "data_hipotesis = data[((data['ENTIDADNACIMIENTO'] != 88) & (data['ENTIDADNACIMIENTO'] != 99) & (data['ENTIDADNACIMIENTO'] != 0)) & ((data['SOBREVIVIOPARTO'] == 1) | (data['SOBREVIVIOPARTO'] == 2)) & (data['EDAD'] != 999) & ((data['SECONSIDERAINDIGENA'] == 1) | (data['SECONSIDERAINDIGENA'] == 2))]\n",
    "data_hipotesis['SOBREVIVIOPARTO'].replace(1, 0, inplace=True)\n",
    "data_hipotesis['SOBREVIVIOPARTO'].replace(2, 1, inplace=True)\n",
    "data_hipotesis['SECONSIDERAINDIGENA'].replace(2, 'No', inplace=True)\n",
    "data_hipotesis['SECONSIDERAINDIGENA'].replace(1, 'Si', inplace=True)\n",
    "data_hipotesis['OrganizacionTerritorial'] = np.where(data_hipotesis['ENTIDADNACIMIENTO'] == 9, 'Capital', 'Interior')\n",
    "data_hipotesis = data_hipotesis.replace({'ENTIDADNACIMIENTO': estados})\n",
    "\n",
    "# pd.pivot_table(data_hipotesis,\n",
    "#                values='SOBREVIVIOPARTO',\n",
    "#                columns='SECONSIDERAINDIGENA',\n",
    "#                index='ENTIDADNACIMIENTO',\n",
    "#                aggfunc=np.mean)"
   ]
  },
  {
   "cell_type": "code",
   "execution_count": 26,
   "metadata": {},
   "outputs": [],
   "source": [
    "interior = data_hipotesis[data_hipotesis['OrganizacionTerritorial'] == 'Interior']['SOBREVIVIOPARTO']\n",
    "capital = data_hipotesis[data_hipotesis['OrganizacionTerritorial'] == 'Capital']['SOBREVIVIOPARTO']\n",
    "nac_chiapas = data_hipotesis[data_hipotesis['ENTIDADNACIMIENTO'] == 'CHIAPAS']['SOBREVIVIOPARTO']\n",
    "nac_edomex = data_hipotesis[data_hipotesis['ENTIDADNACIMIENTO'] == 'MÉXICO']['SOBREVIVIOPARTO']"
   ]
  },
  {
   "cell_type": "code",
   "execution_count": 27,
   "metadata": {},
   "outputs": [
    {
     "data": {
      "text/plain": [
       "169636"
      ]
     },
     "execution_count": 27,
     "metadata": {},
     "output_type": "execute_result"
    }
   ],
   "source": [
    "len(nac_edomex)"
   ]
  },
  {
   "cell_type": "code",
   "execution_count": 28,
   "metadata": {},
   "outputs": [],
   "source": [
    "nacimientos = data_hipotesis.SOBREVIVIOPARTO\n",
    "mu = nacimientos.mean()"
   ]
  },
  {
   "cell_type": "code",
   "execution_count": 35,
   "metadata": {},
   "outputs": [
    {
     "data": {
      "text/plain": [
       "8.248300762295087e-05"
      ]
     },
     "execution_count": 35,
     "metadata": {},
     "output_type": "execute_result"
    }
   ],
   "source": [
    "mu"
   ]
  },
  {
   "cell_type": "code",
   "execution_count": 29,
   "metadata": {},
   "outputs": [
    {
     "data": {
      "text/plain": [
       "1709443"
      ]
     },
     "execution_count": 29,
     "metadata": {},
     "output_type": "execute_result"
    }
   ],
   "source": [
    "len(nacimientos)"
   ]
  },
  {
   "cell_type": "code",
   "execution_count": 30,
   "metadata": {},
   "outputs": [
    {
     "data": {
      "text/plain": [
       "(0.015710310396077575, 0.9874655015063141)"
      ]
     },
     "execution_count": 30,
     "metadata": {},
     "output_type": "execute_result"
    }
   ],
   "source": [
    "ztest(interior, value=mu)"
   ]
  },
  {
   "cell_type": "code",
   "execution_count": 31,
   "metadata": {},
   "outputs": [
    {
     "data": {
      "text/plain": [
       "(-0.05686151804327854, 0.9546555088434752)"
      ]
     },
     "execution_count": 31,
     "metadata": {},
     "output_type": "execute_result"
    }
   ],
   "source": [
    "ztest(capital, value=mu)"
   ]
  },
  {
   "cell_type": "code",
   "execution_count": 32,
   "metadata": {},
   "outputs": [
    {
     "data": {
      "text/plain": [
       "(0.899118345741701, 0.36858962721789745)"
      ]
     },
     "execution_count": 32,
     "metadata": {},
     "output_type": "execute_result"
    }
   ],
   "source": [
    "ztest(nac_chiapas, value=mu)"
   ]
  },
  {
   "cell_type": "code",
   "execution_count": 33,
   "metadata": {},
   "outputs": [
    {
     "data": {
      "text/plain": [
       "(0.7295603497545603, 0.46565896605448387)"
      ]
     },
     "execution_count": 33,
     "metadata": {},
     "output_type": "execute_result"
    }
   ],
   "source": [
    "ztest(nac_edomex, value=mu)"
   ]
  },
  {
   "cell_type": "markdown",
   "metadata": {},
   "source": [
    "### Gráficos"
   ]
  },
  {
   "cell_type": "code",
   "execution_count": 34,
   "metadata": {},
   "outputs": [
    {
     "name": "stdout",
     "output_type": "stream",
     "text": [
      "<class 'pandas.core.frame.DataFrame'>\n",
      "Int64Index: 1709443 entries, 0 to 1747846\n",
      "Data columns (total 65 columns):\n",
      " #   Column                      Dtype  \n",
      "---  ------                      -----  \n",
      " 0   NACIOEXTRANJERO             int64  \n",
      " 1   ENTIDADNACIMIENTO           object \n",
      " 2   MUNICIPIONACIMIENTO         int64  \n",
      " 3   EDAD                        int64  \n",
      " 4   SECONSIDERAINDIGENA         object \n",
      " 5   HABLALENGUAINDIGENA         int64  \n",
      " 6   FECHANACIMIENTOMADRE        object \n",
      " 7   ESTADOCONYUGAL              int64  \n",
      " 8   RESIDEEXTRANJERO            int64  \n",
      " 9   ENTIDADRESIDENCIA           int64  \n",
      " 10  MUNICIPIORESIDENCIA         int64  \n",
      " 11  LOCALIDADRESIDENCIA         int64  \n",
      " 12  NUMEROEMBARAZOS             int64  \n",
      " 13  HIJOSNACIDOSMUERTOS         int64  \n",
      " 14  HIJOSNACIDOSVIVOS           int64  \n",
      " 15  HIJOSSOBREVIVIENTES         int64  \n",
      " 16  CONDICIONHIJOANTERIOR       int64  \n",
      " 17  VIVEHIJOANTERIOR            int64  \n",
      " 18  ORDENNACIMIENTO             int64  \n",
      " 19  ATENCIONPRENATAL            int64  \n",
      " 20  TRIMESTREPRIMERCONSULTA     int64  \n",
      " 21  TOTALCONSULTAS              int64  \n",
      " 22  SOBREVIVIOPARTO             int64  \n",
      " 23  AFILIACION                  int64  \n",
      " 24  ESCOLARIDAD                 int64  \n",
      " 25  INTERRUMPIOESTUDIOS         int64  \n",
      " 26  CLAVEOCUPACIONHABITUAL      int64  \n",
      " 27  TRABAJAACTUALMENTE          int64  \n",
      " 28  EDADPADRE                   float64\n",
      " 29  FECHANACIMIENTO             object \n",
      " 30  HORANACIMIENTO              object \n",
      " 31  SEXO                        int64  \n",
      " 32  EDADGESTACIONAL             int64  \n",
      " 33  TALLA                       int64  \n",
      " 34  PESO                        int64  \n",
      " 35  APGAR                       int64  \n",
      " 36  SILVERMAN                   int64  \n",
      " 37  TAMIZAUDITIVO               int64  \n",
      " 38  VACUNA_BCG                  int64  \n",
      " 39  VACUNAHEPATITIS_B           int64  \n",
      " 40  VITAMINA_A                  int64  \n",
      " 41  VITAMINA_K                  int64  \n",
      " 42  PRODUCTOEMBARAZO            int64  \n",
      " 43  ORDENPRODUCTO               float64\n",
      " 44  TOTALPRODUCTOS              float64\n",
      " 45  CODIGOCIEANOMALIA1          object \n",
      " 46  CODIGOCIEANOMALIA2          object \n",
      " 47  LUGARNACIMIENTO             int64  \n",
      " 48  CLUES                       object \n",
      " 49  TIEMPOTRASLADO              object \n",
      " 50  RESOLUCIONEMBARAZO          int64  \n",
      " 51  UTILIZOFORCEPS              int64  \n",
      " 52  TIPOCESAREA                 int64  \n",
      " 53  PERSONALATENDIO             int64  \n",
      " 54  TIPOMEDICOATENDIO           float64\n",
      " 55  ENTIDADFEDERATIVAPARTO      int64  \n",
      " 56  MUNICIPIOPARTO              int64  \n",
      " 57  LOCALIDADPARTO              int64  \n",
      " 58  CERTIFICADOPOR              int64  \n",
      " 59  CLUESCERTIFICA              object \n",
      " 60  ENTIDADFEDERATIVACERTIFICA  int64  \n",
      " 61  MUNICIPIOCERTIFICA          int64  \n",
      " 62  LOCALIDADCERTIFICA          int64  \n",
      " 63  FECHACERTIFICADO            object \n",
      " 64  OrganizacionTerritorial     object \n",
      "dtypes: float64(4), int64(49), object(12)\n",
      "memory usage: 860.8+ MB\n"
     ]
    }
   ],
   "source": [
    "data_hipotesis.info()"
   ]
  }
 ],
 "metadata": {
  "interpreter": {
   "hash": "7579aee364a2e290dfc6a620616239004625e0c1356cc42c7bb47894a11803af"
  },
  "kernelspec": {
   "display_name": "Python 3.10.3 64-bit",
   "language": "python",
   "name": "python3"
  },
  "language_info": {
   "codemirror_mode": {
    "name": "ipython",
    "version": 3
   },
   "file_extension": ".py",
   "mimetype": "text/x-python",
   "name": "python",
   "nbconvert_exporter": "python",
   "pygments_lexer": "ipython3",
   "version": "3.10.3"
  },
  "orig_nbformat": 4
 },
 "nbformat": 4,
 "nbformat_minor": 2
}
